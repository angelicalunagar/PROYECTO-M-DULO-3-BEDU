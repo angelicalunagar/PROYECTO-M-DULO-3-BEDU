{
  "nbformat": 4,
  "nbformat_minor": 0,
  "metadata": {
    "colab": {
      "provenance": [],
      "authorship_tag": "ABX9TyMXNO8kqzIf4I0UyIBYxgJm",
      "include_colab_link": true
    },
    "kernelspec": {
      "name": "python3",
      "display_name": "Python 3"
    },
    "language_info": {
      "name": "python"
    }
  },
  "cells": [
    {
      "cell_type": "markdown",
      "metadata": {
        "id": "view-in-github",
        "colab_type": "text"
      },
      "source": [
        "<a href=\"https://colab.research.google.com/github/angelicalunagar/PROYECTO-M-DULO-3-BEDU/blob/main/Vinculado.ipynb\" target=\"_parent\"><img src=\"https://colab.research.google.com/assets/colab-badge.svg\" alt=\"Open In Colab\"/></a>"
      ]
    },
    {
      "cell_type": "markdown",
      "source": [
        "DOCUMENTO DE PRUEBA PARA VINCULAR GOOCLE COLAB CON GITHUB\n"
      ],
      "metadata": {
        "id": "Syc2c_6Q7UW7"
      }
    },
    {
      "cell_type": "markdown",
      "source": [
        "Este es un documento de prueba\n",
        "$\\vec=[1,2,3,4,5,6]"
      ],
      "metadata": {
        "id": "O4IzboUu7tWn"
      }
    },
    {
      "cell_type": "code",
      "source": [],
      "metadata": {
        "id": "kwcJKDsB71oV"
      },
      "execution_count": null,
      "outputs": []
    }
  ]
}