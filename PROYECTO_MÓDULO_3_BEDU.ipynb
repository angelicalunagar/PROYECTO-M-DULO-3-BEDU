{
  "nbformat": 4,
  "nbformat_minor": 0,
  "metadata": {
    "colab": {
      "name": "PROYECTO MÓDULO 3 BEDU.ipynb",
      "provenance": [],
      "collapsed_sections": [],
      "include_colab_link": true
    },
    "kernelspec": {
      "display_name": "Python 3",
      "name": "python3"
    },
    "language_info": {
      "name": "python"
    }
  },
  "cells": [
    {
      "cell_type": "markdown",
      "metadata": {
        "id": "view-in-github",
        "colab_type": "text"
      },
      "source": [
        "<a href=\"https://colab.research.google.com/github/angelicalunagar/PROYECTO-M-DULO-3-BEDU/blob/main/PROYECTO_M%C3%93DULO_3_BEDU.ipynb\" target=\"_parent\"><img src=\"https://colab.research.google.com/assets/colab-badge.svg\" alt=\"Open In Colab\"/></a>"
      ]
    },
    {
      "cell_type": "markdown",
      "metadata": {
        "id": "QKpI1vhD6MMx"
      },
      "source": [
        "# **PROYECTO MÓDULO 3 DATA SCIENCE BEDU**\n",
        "# *Procesamiento de datos con Python*"
      ]
    },
    {
      "cell_type": "markdown",
      "metadata": {
        "id": "VSE6T-fTUMR9"
      },
      "source": [
        "## **Equipo 6**\n",
        "### Angélica Luna García\n",
        "### Jesús Iván Martín Reyes\n",
        "### Julio Cesar Avila Padilla\n",
        "### Manuel Herrera Flores\n",
        "### Marco Antonio Hernandez Peñafort\n",
        "### Kimberly Atara Lopez Vazquez\n"
      ]
    },
    {
      "cell_type": "markdown",
      "metadata": {
        "id": "eZ4WMSylUMqB"
      },
      "source": [
        "## **1.\tIdentificación del problema**  \n",
        "\n",
        "---\n",
        "\n"
      ]
    },
    {
      "cell_type": "markdown",
      "metadata": {
        "id": "7NugaKh9UU0g"
      },
      "source": [
        "##MARCO TEÓRICO\n",
        "La violencia en nuestro país es un problema grave. Las 6 ciudades más violentas del mundo están en México (EL PAÍS, 2021). Durante el 2018 se cometieron 33 millones de delitos en todo el país, asociados a 24.7 millones de víctimas, lo que significa que uno de cada tres hogares (33.9%) fue objeto de algún ilícito dicho año (INEGI). \n",
        "\n",
        "En la CDMX, donde hay más de 9 millones de habitantes (INEGI, 2020), domina la violencia, la inseguridad y, sobre todo, la impunidad. En la Ciudad de México, el 97.7 por ciento de los delitos queda impune. (México Evalúa, 2019).\n",
        "\n",
        "Estos datos son sumamente alarmantes, pues muestran un claro problema que aqueja a la sociedad y, a pesar de esto, las autoridades no parecen estar atacándolo de la manera correcta. \n",
        "\n",
        "“En nuestro país existe una tendencia generalizada a no resolver y/o solucionar los delitos que se conocen, a pesar de que sólo una pequeña parte de los delitos ocurridos llegan al conocimiento de las autoridades.”\n",
        "\n",
        "Mucho se ha especulado sobre este tema, muchos medios han publicado sus propios datos, y es por ello que nosotros hemos decidido trabajar con la base de datos OFICIAL que publica y actualiza el mismo gobierno capitalino, para poder identificar aquellas colonias y alcaldías en donde se cometen más delitos, observar tendencias, y poder sugerir acciones para atacar aquellas zonas más conflictivas.\n",
        "##JUSTIFICACIÓN\n",
        "Se eligió trabajar en este dataset por múltiples razones:\n",
        "-\tTrata un tema de relevancia social, puesto que a todas y todos nos concierne nuestra seguridad y bienestar.\n",
        "-\tTransparencia en los datos: todos los ciudadanos de la Ciudad de México, aquellos de la zona metropolitana que frecuentan dicha ciudad, y otros visitantes ya sean habituales o esporádicos, tienen el derecho a poder consultar dicha información, de una manera sencilla y entendible, por lo que decidimos darnos a la tarea de limpiar y filtrar los datos para en un futuro cercano poder visualizarlos a través de gráficos y mapas que faciliten su interpretación y valoración.\n",
        "-\tAl poder interpretar dicha información, nos podemos hacer cuestionamientos relevantes y forjarnos una opinión acerca de la condición actual de seguridad en la CDMX, que nos permitan exigir a nuestros gobernantes (con base en información fidedigna) que atiendan con mayor eficacia aquellos delitos que se encuentran al alza y focalicen esfuerzos en aquellas delegaciones y colonias donde se muestren tendencias más marcadas de delitos graves.\n",
        "-\tEs un proyecto escalable, puesto que, el análisis que se haga de la CDMX, se puede replicar en otras ciudades del país. El proyecto, además, tiene mucho potencial para posteriormente generar gráficos, mapas y demás figuras visuales que nos permitan interpretar aún más a fondo los datos.\n"
      ]
    },
    {
      "cell_type": "markdown",
      "metadata": {
        "id": "5lQPaSg_UgVL"
      },
      "source": [
        "## **2.\tPlanteamiento de preguntas**\n",
        "\n",
        "---\n",
        "\n"
      ]
    },
    {
      "cell_type": "markdown",
      "metadata": {
        "id": "yYM4fQgEVL_O"
      },
      "source": [
        "A través del análisis de la base de datos elegida, pretendemos dar respuesta a los siguientes cuestionamientos:\n",
        "-\t¿Qué tipos de delitos se cometen con mayor frecuencia?\n",
        "-\t¿En qué colonias y alcaldías se cometen el mayor número de delitos graves?\n",
        "-\t¿Qué tipos de delito han mostrado un crecimiento y decrecimiento en los últimos años? ¿En qué medida?\n",
        "-\t¿Qué tipos de delitos son los que más se cometen por alcaldía?\n",
        "-\t¿Qué delitos han son más comúnes cada año?\n",
        "-\t¿En qué horarios durante el día se cometen mayor número de algún tipo de delito?\n",
        "\n",
        "\n",
        "\n",
        "\n",
        "\n"
      ]
    },
    {
      "cell_type": "markdown",
      "metadata": {
        "id": "Kv4nurDuYqmc"
      },
      "source": [
        "## **3. Colección de datos** \n",
        "\n",
        "---\n",
        "\n"
      ]
    },
    {
      "cell_type": "markdown",
      "metadata": {
        "id": "KpISpKCAZezV"
      },
      "source": [
        "La colección de datos se obtuvo del Portal de datos abietos del Gobierno de la Ciudad de México. La colección se llama [*Carpetas de Investigación de la FGJ*](https://archivo.datos.cdmx.gob.mx/fiscalia-general-de-justicia/carpetas-de-investigacion-fgj-de-la-ciudad-de-mexico/carpetas_completa_junio_2021.csv), el cual puedes descargar en formato csv dando clic sobre el nombre. Si deseas descargarlo directamente de la página del Portal de datos abiertos, haz click [*aquí*](https://datos.cdmx.gob.mx/dataset/carpetas-de-investigacion-fgj-de-la-ciudad-de-mexico/resource/48fcb848-220c-4af0-839b-4fd8ac812c0f). \n",
        "\n",
        "Esta base de datos contiene la información actualizada de las carpetas de investigación de la Fiscalía General de Justicia (FGJ) de la Ciudad de México a partir de enero de 2016. Las variables que contiene esta base son Carpetas de investigación de delitos a nivel de calle de la FGJ por Fiscalía, Agencia, Unidad de Investigación, fecha de apertura de la carpeta de investigación, delito, categoría de delito, calle, colonia, alcaldía, coordenadas, mes y año. Esta información se actualiza mensualmente."
      ]
    },
    {
      "cell_type": "markdown",
      "metadata": {
        "id": "21H2MRMpT_cQ"
      },
      "source": [
        "## **4. Análisis exploratorio de datos**\n",
        "\n",
        "---\n",
        "\n"
      ]
    },
    {
      "cell_type": "markdown",
      "metadata": {
        "id": "NktUvdZv6m2X"
      },
      "source": [
        "### 4.1 Convertir el archivo CVS a un DataFrame de pandas"
      ]
    },
    {
      "cell_type": "code",
      "metadata": {
        "colab": {
          "base_uri": "https://localhost:8080/"
        },
        "id": "mZodba6-7UYk",
        "outputId": "abd6b601-01e5-4c55-c689-3314b29dedef"
      },
      "source": [
        "# Realizamos la importación de la librería pandas:\n",
        "import pandas as pd\n",
        "from urllib.request import urlopen\n",
        "import json\n",
        "\n",
        "# Leemos el archivo csv y consultamos el tipo de archivo generado:\n",
        "df = pd.read_csv('https://archivo.datos.cdmx.gob.mx/fiscalia-general-de-justicia/carpetas-de-investigacion-fgj-de-la-ciudad-de-mexico/carpetas_completa_junio_2021.csv', sep=',')\n",
        "type(df)\n",
        "\n"
      ],
      "execution_count": null,
      "outputs": [
        {
          "output_type": "stream",
          "text": [
            "/usr/local/lib/python3.7/dist-packages/IPython/core/interactiveshell.py:2718: DtypeWarning: Columns (15) have mixed types.Specify dtype option on import or set low_memory=False.\n",
            "  interactivity=interactivity, compiler=compiler, result=result)\n"
          ],
          "name": "stderr"
        },
        {
          "output_type": "execute_result",
          "data": {
            "text/plain": [
              "pandas.core.frame.DataFrame"
            ]
          },
          "metadata": {
            "tags": []
          },
          "execution_count": 2
        }
      ]
    },
    {
      "cell_type": "code",
      "metadata": {
        "colab": {
          "base_uri": "https://localhost:8080/"
        },
        "id": "gBDFBnZ8BNph",
        "outputId": "7c50ad86-3980-4087-baa5-26e6d14c587d"
      },
      "source": [
        "# instalar la ultima version de plotly\n",
        "!pip install plotly --upgrade"
      ],
      "execution_count": null,
      "outputs": [
        {
          "output_type": "stream",
          "text": [
            "Requirement already satisfied: plotly in /usr/local/lib/python3.7/dist-packages (5.1.0)\n",
            "Requirement already satisfied: tenacity>=6.2.0 in /usr/local/lib/python3.7/dist-packages (from plotly) (8.0.1)\n",
            "Requirement already satisfied: six in /usr/local/lib/python3.7/dist-packages (from plotly) (1.15.0)\n"
          ],
          "name": "stdout"
        }
      ]
    },
    {
      "cell_type": "code",
      "metadata": {
        "id": "fIhlop8EBhJ4"
      },
      "source": [
        "import plotly.express as px\n",
        "import plotly.graph_objects as go"
      ],
      "execution_count": null,
      "outputs": []
    },
    {
      "cell_type": "markdown",
      "metadata": {
        "id": "81DFt-jr8liv"
      },
      "source": [
        "### 4.2 Análisis exploratorio"
      ]
    },
    {
      "cell_type": "code",
      "metadata": {
        "colab": {
          "base_uri": "https://localhost:8080/"
        },
        "id": "lXSq7PNI8s3F",
        "outputId": "7ab51cf7-2558-4219-88d6-8c5a0b2e7b2e"
      },
      "source": [
        "# Consultamos las dimensiones de nuestro 'df':\n",
        "df.shape"
      ],
      "execution_count": null,
      "outputs": [
        {
          "output_type": "execute_result",
          "data": {
            "text/plain": [
              "(1248924, 19)"
            ]
          },
          "metadata": {
            "tags": []
          },
          "execution_count": 5
        }
      ]
    },
    {
      "cell_type": "code",
      "metadata": {
        "colab": {
          "base_uri": "https://localhost:8080/",
          "height": 332
        },
        "id": "zHwmN8Gh8vMQ",
        "outputId": "3d66938b-7b75-4002-80cf-5c37bdb5f0a9"
      },
      "source": [
        "# Consultamos las primeras 3 entradas del 'df':\n",
        "df.head(3)"
      ],
      "execution_count": null,
      "outputs": [
        {
          "output_type": "execute_result",
          "data": {
            "text/html": [
              "<div>\n",
              "<style scoped>\n",
              "    .dataframe tbody tr th:only-of-type {\n",
              "        vertical-align: middle;\n",
              "    }\n",
              "\n",
              "    .dataframe tbody tr th {\n",
              "        vertical-align: top;\n",
              "    }\n",
              "\n",
              "    .dataframe thead th {\n",
              "        text-align: right;\n",
              "    }\n",
              "</style>\n",
              "<table border=\"1\" class=\"dataframe\">\n",
              "  <thead>\n",
              "    <tr style=\"text-align: right;\">\n",
              "      <th></th>\n",
              "      <th>ao_hechos</th>\n",
              "      <th>mes_hechos</th>\n",
              "      <th>fecha_hechos</th>\n",
              "      <th>ao_inicio</th>\n",
              "      <th>mes_inicio</th>\n",
              "      <th>fecha_inicio</th>\n",
              "      <th>delito</th>\n",
              "      <th>fiscalia</th>\n",
              "      <th>agencia</th>\n",
              "      <th>unidad_investigacion</th>\n",
              "      <th>categoria_delito</th>\n",
              "      <th>calle_hechos</th>\n",
              "      <th>calle_hechos2</th>\n",
              "      <th>colonia_hechos</th>\n",
              "      <th>alcaldia_hechos</th>\n",
              "      <th>competencia</th>\n",
              "      <th>longitud</th>\n",
              "      <th>latitud</th>\n",
              "      <th>tempo</th>\n",
              "    </tr>\n",
              "  </thead>\n",
              "  <tbody>\n",
              "    <tr>\n",
              "      <th>0</th>\n",
              "      <td>2016.0</td>\n",
              "      <td>Enero</td>\n",
              "      <td>2016-01-31 22:16:00</td>\n",
              "      <td>2016</td>\n",
              "      <td>Febrero</td>\n",
              "      <td>2016-02-01 00:25:44</td>\n",
              "      <td>DAÑO EN PROPIEDAD AJENA INTENCIONAL</td>\n",
              "      <td>INVESTIGACIÓN EN BENITO JUÁREZ</td>\n",
              "      <td>BJ-2</td>\n",
              "      <td>UI-3CD</td>\n",
              "      <td>DELITO DE BAJO IMPACTO</td>\n",
              "      <td>CALZ. DE TLALPAN</td>\n",
              "      <td>LAGO PTE.</td>\n",
              "      <td>AMÉRICAS UNIDAS</td>\n",
              "      <td>BENITO JUAREZ</td>\n",
              "      <td>NaN</td>\n",
              "      <td>-99.140215</td>\n",
              "      <td>19.380315</td>\n",
              "      <td>NaN</td>\n",
              "    </tr>\n",
              "    <tr>\n",
              "      <th>1</th>\n",
              "      <td>2016.0</td>\n",
              "      <td>Enero</td>\n",
              "      <td>2016-01-31 20:50:00</td>\n",
              "      <td>2016</td>\n",
              "      <td>Febrero</td>\n",
              "      <td>2016-02-01 00:52:37</td>\n",
              "      <td>ROBO DE VEHICULO DE SERVICIO PARTICULAR CON VI...</td>\n",
              "      <td>INVESTIGACIÓN PARA LA ATENCIÓN DEL DELITO DE R...</td>\n",
              "      <td>ORIENTEII</td>\n",
              "      <td>UI-3CD</td>\n",
              "      <td>ROBO DE VEHÍCULO CON Y SIN VIOLENCIA</td>\n",
              "      <td>SUR 25 A</td>\n",
              "      <td>GRANJEROS</td>\n",
              "      <td>LOS CIPRESES</td>\n",
              "      <td>IZTAPALAPA</td>\n",
              "      <td>NaN</td>\n",
              "      <td>-99.108403</td>\n",
              "      <td>19.352859</td>\n",
              "      <td>NaN</td>\n",
              "    </tr>\n",
              "    <tr>\n",
              "      <th>2</th>\n",
              "      <td>2016.0</td>\n",
              "      <td>Febrero</td>\n",
              "      <td>2016-02-01 00:30:00</td>\n",
              "      <td>2016</td>\n",
              "      <td>Febrero</td>\n",
              "      <td>2016-02-01 01:33:26</td>\n",
              "      <td>NARCOMENUDEO POSESION SIMPLE</td>\n",
              "      <td>INVESTIGACIÓN PARA LA ATENCIÓN DE NIÑOS, NIÑAS...</td>\n",
              "      <td>57</td>\n",
              "      <td>UI-3CD</td>\n",
              "      <td>DELITO DE BAJO IMPACTO</td>\n",
              "      <td>BATALLONES ROJOS</td>\n",
              "      <td>NaN</td>\n",
              "      <td>UNIDAD VICENTE GUERRERO</td>\n",
              "      <td>IZTAPALAPA</td>\n",
              "      <td>NaN</td>\n",
              "      <td>-99.061321</td>\n",
              "      <td>19.356451</td>\n",
              "      <td>NaN</td>\n",
              "    </tr>\n",
              "  </tbody>\n",
              "</table>\n",
              "</div>"
            ],
            "text/plain": [
              "   ao_hechos mes_hechos         fecha_hechos  ...   longitud    latitud tempo\n",
              "0     2016.0      Enero  2016-01-31 22:16:00  ... -99.140215  19.380315   NaN\n",
              "1     2016.0      Enero  2016-01-31 20:50:00  ... -99.108403  19.352859   NaN\n",
              "2     2016.0    Febrero  2016-02-01 00:30:00  ... -99.061321  19.356451   NaN\n",
              "\n",
              "[3 rows x 19 columns]"
            ]
          },
          "metadata": {
            "tags": []
          },
          "execution_count": 6
        }
      ]
    },
    {
      "cell_type": "code",
      "metadata": {
        "colab": {
          "base_uri": "https://localhost:8080/",
          "height": 315
        },
        "id": "870iaJU086NC",
        "outputId": "36c3b0d6-b206-4f9a-d93d-a409c32df2c4"
      },
      "source": [
        "# Consultamos las últimas 3 entradas del 'df':\n",
        "df.tail(3)"
      ],
      "execution_count": null,
      "outputs": [
        {
          "output_type": "execute_result",
          "data": {
            "text/html": [
              "<div>\n",
              "<style scoped>\n",
              "    .dataframe tbody tr th:only-of-type {\n",
              "        vertical-align: middle;\n",
              "    }\n",
              "\n",
              "    .dataframe tbody tr th {\n",
              "        vertical-align: top;\n",
              "    }\n",
              "\n",
              "    .dataframe thead th {\n",
              "        text-align: right;\n",
              "    }\n",
              "</style>\n",
              "<table border=\"1\" class=\"dataframe\">\n",
              "  <thead>\n",
              "    <tr style=\"text-align: right;\">\n",
              "      <th></th>\n",
              "      <th>ao_hechos</th>\n",
              "      <th>mes_hechos</th>\n",
              "      <th>fecha_hechos</th>\n",
              "      <th>ao_inicio</th>\n",
              "      <th>mes_inicio</th>\n",
              "      <th>fecha_inicio</th>\n",
              "      <th>delito</th>\n",
              "      <th>fiscalia</th>\n",
              "      <th>agencia</th>\n",
              "      <th>unidad_investigacion</th>\n",
              "      <th>categoria_delito</th>\n",
              "      <th>calle_hechos</th>\n",
              "      <th>calle_hechos2</th>\n",
              "      <th>colonia_hechos</th>\n",
              "      <th>alcaldia_hechos</th>\n",
              "      <th>competencia</th>\n",
              "      <th>longitud</th>\n",
              "      <th>latitud</th>\n",
              "      <th>tempo</th>\n",
              "    </tr>\n",
              "  </thead>\n",
              "  <tbody>\n",
              "    <tr>\n",
              "      <th>1248921</th>\n",
              "      <td>2021.0</td>\n",
              "      <td>Junio</td>\n",
              "      <td>2021-06-30 19:40:00</td>\n",
              "      <td>2021</td>\n",
              "      <td>Junio</td>\n",
              "      <td>2021-06-30 23:37:12</td>\n",
              "      <td>AMENAZAS</td>\n",
              "      <td>FISCALÍA DE INVESTIGACIÓN TERRITORIAL EN IZTAC...</td>\n",
              "      <td>IZC-2</td>\n",
              "      <td>UI-3SD</td>\n",
              "      <td>DELITO DE BAJO IMPACTO</td>\n",
              "      <td>CUATRO</td>\n",
              "      <td>NaN</td>\n",
              "      <td>AGRÍCOLA PANTITLAN</td>\n",
              "      <td>IZTACALCO</td>\n",
              "      <td>FUERO COMUN</td>\n",
              "      <td>-99.061716</td>\n",
              "      <td>19.419028</td>\n",
              "      <td>NaN</td>\n",
              "    </tr>\n",
              "    <tr>\n",
              "      <th>1248922</th>\n",
              "      <td>2021.0</td>\n",
              "      <td>Mayo</td>\n",
              "      <td>2021-05-16 21:08:00</td>\n",
              "      <td>2021</td>\n",
              "      <td>Junio</td>\n",
              "      <td>2021-06-30 23:45:57</td>\n",
              "      <td>DAÑO EN PROPIEDAD AJENA INTENCIONAL</td>\n",
              "      <td>FISCALÍA DE INVESTIGACIÓN TERRITORIAL EN CUAUH...</td>\n",
              "      <td>CUH-7</td>\n",
              "      <td>UI-3SD</td>\n",
              "      <td>DELITO DE BAJO IMPACTO</td>\n",
              "      <td>ALVARO OBREGON</td>\n",
              "      <td>NaN</td>\n",
              "      <td>ROMA NORTE</td>\n",
              "      <td>CUAUHTEMOC</td>\n",
              "      <td>FUERO COMUN</td>\n",
              "      <td>-99.158994</td>\n",
              "      <td>19.418615</td>\n",
              "      <td>NaN</td>\n",
              "    </tr>\n",
              "    <tr>\n",
              "      <th>1248923</th>\n",
              "      <td>2021.0</td>\n",
              "      <td>Junio</td>\n",
              "      <td>2021-06-29 17:00:00</td>\n",
              "      <td>2021</td>\n",
              "      <td>Junio</td>\n",
              "      <td>2021-06-30 23:52:34</td>\n",
              "      <td>LESIONES INTENCIONALES POR ARMA BLANCA</td>\n",
              "      <td>FISCALÍA DE INVESTIGACIÓN TERRITORIAL EN IZTAP...</td>\n",
              "      <td>IZP-8</td>\n",
              "      <td>UI-3CD</td>\n",
              "      <td>DELITO DE BAJO IMPACTO</td>\n",
              "      <td>REFORMA # 100</td>\n",
              "      <td>NaN</td>\n",
              "      <td>LOMAS DE SAN LORENZO</td>\n",
              "      <td>IZTAPALAPA</td>\n",
              "      <td>FUERO COMUN</td>\n",
              "      <td>-99.069557</td>\n",
              "      <td>19.321406</td>\n",
              "      <td>NaN</td>\n",
              "    </tr>\n",
              "  </tbody>\n",
              "</table>\n",
              "</div>"
            ],
            "text/plain": [
              "         ao_hechos mes_hechos         fecha_hechos  ...   longitud    latitud tempo\n",
              "1248921     2021.0      Junio  2021-06-30 19:40:00  ... -99.061716  19.419028   NaN\n",
              "1248922     2021.0       Mayo  2021-05-16 21:08:00  ... -99.158994  19.418615   NaN\n",
              "1248923     2021.0      Junio  2021-06-29 17:00:00  ... -99.069557  19.321406   NaN\n",
              "\n",
              "[3 rows x 19 columns]"
            ]
          },
          "metadata": {
            "tags": []
          },
          "execution_count": 7
        }
      ]
    },
    {
      "cell_type": "code",
      "metadata": {
        "colab": {
          "base_uri": "https://localhost:8080/"
        },
        "id": "961fyWR5vpsa",
        "outputId": "243d0f2b-b0fc-47f6-dabf-dac3e6a0b8fd"
      },
      "source": [
        "# Revisamos el tipo de datos de cada columna y si contienen NaN's:\n",
        "df.info()"
      ],
      "execution_count": null,
      "outputs": [
        {
          "output_type": "stream",
          "text": [
            "<class 'pandas.core.frame.DataFrame'>\n",
            "RangeIndex: 1248924 entries, 0 to 1248923\n",
            "Data columns (total 19 columns):\n",
            " #   Column                Non-Null Count    Dtype  \n",
            "---  ------                --------------    -----  \n",
            " 0   ao_hechos             1248489 non-null  float64\n",
            " 1   mes_hechos            1248489 non-null  object \n",
            " 2   fecha_hechos          1248489 non-null  object \n",
            " 3   ao_inicio             1248924 non-null  int64  \n",
            " 4   mes_inicio            1248924 non-null  object \n",
            " 5   fecha_inicio          1248921 non-null  object \n",
            " 6   delito                1248924 non-null  object \n",
            " 7   fiscalia              1248922 non-null  object \n",
            " 8   agencia               1248924 non-null  object \n",
            " 9   unidad_investigacion  1248697 non-null  object \n",
            " 10  categoria_delito      1248924 non-null  object \n",
            " 11  calle_hechos          1245804 non-null  object \n",
            " 12  calle_hechos2         487246 non-null   object \n",
            " 13  colonia_hechos        1197664 non-null  object \n",
            " 14  alcaldia_hechos       1245436 non-null  object \n",
            " 15  competencia           184845 non-null   object \n",
            " 16  longitud              1198622 non-null  float64\n",
            " 17  latitud               1198622 non-null  float64\n",
            " 18  tempo                 0 non-null        float64\n",
            "dtypes: float64(4), int64(1), object(14)\n",
            "memory usage: 181.0+ MB\n"
          ],
          "name": "stdout"
        }
      ]
    },
    {
      "cell_type": "markdown",
      "metadata": {
        "id": "y6QHitbmwfd1"
      },
      "source": [
        "## **5. Limpieza de datos**\n",
        "\n",
        "---\n",
        "\n"
      ]
    },
    {
      "cell_type": "markdown",
      "metadata": {
        "id": "69iwNgpNyLXB"
      },
      "source": [
        "Antes de verificar la existencia de NaN eliminamos las columnas que no aportan información reelevante a nuestros objtivos y filtramos los datos a partir del año en que existe mayor número de registros de delitos y contenplando únicamente las alcadías de la CDMX. "
      ]
    },
    {
      "cell_type": "markdown",
      "metadata": {
        "id": "VjhkBGoL-uZI"
      },
      "source": [
        "### 5.1 Eliminando columnas "
      ]
    },
    {
      "cell_type": "code",
      "metadata": {
        "colab": {
          "base_uri": "https://localhost:8080/"
        },
        "id": "1UdhcmdG-IsT",
        "outputId": "77eda949-4b50-47cb-eee4-af97c9f44dfb"
      },
      "source": [
        "# Eliminando 6 columnas que no serán parte del analisis:\n",
        "df_dropped = df.drop(columns=[\"unidad_investigacion\", \"agencia\", \"tempo\", \"competencia\", \"calle_hechos\", \"calle_hechos2\"])\n",
        "df_dropped.info()"
      ],
      "execution_count": null,
      "outputs": [
        {
          "output_type": "stream",
          "text": [
            "<class 'pandas.core.frame.DataFrame'>\n",
            "RangeIndex: 1248924 entries, 0 to 1248923\n",
            "Data columns (total 13 columns):\n",
            " #   Column            Non-Null Count    Dtype  \n",
            "---  ------            --------------    -----  \n",
            " 0   ao_hechos         1248489 non-null  float64\n",
            " 1   mes_hechos        1248489 non-null  object \n",
            " 2   fecha_hechos      1248489 non-null  object \n",
            " 3   ao_inicio         1248924 non-null  int64  \n",
            " 4   mes_inicio        1248924 non-null  object \n",
            " 5   fecha_inicio      1248921 non-null  object \n",
            " 6   delito            1248924 non-null  object \n",
            " 7   fiscalia          1248922 non-null  object \n",
            " 8   categoria_delito  1248924 non-null  object \n",
            " 9   colonia_hechos    1197664 non-null  object \n",
            " 10  alcaldia_hechos   1245436 non-null  object \n",
            " 11  longitud          1198622 non-null  float64\n",
            " 12  latitud           1198622 non-null  float64\n",
            "dtypes: float64(3), int64(1), object(9)\n",
            "memory usage: 123.9+ MB\n"
          ],
          "name": "stdout"
        }
      ]
    },
    {
      "cell_type": "markdown",
      "metadata": {
        "id": "nO6anQax_GH8"
      },
      "source": [
        "### 5.2 Filtrando los datos"
      ]
    },
    {
      "cell_type": "code",
      "metadata": {
        "colab": {
          "base_uri": "https://localhost:8080/"
        },
        "id": "AwY8cZIZipuj",
        "outputId": "be11606b-a9d2-4e65-e49e-d1fcc4965be7"
      },
      "source": [
        "# Analizamos a  partir de qué año es pertinente filtrar los datos de acuerdo a la incidencia de delitos:\n",
        "df_dropped.groupby('ao_hechos')['categoria_delito'].count().tail(20)"
      ],
      "execution_count": null,
      "outputs": [
        {
          "output_type": "execute_result",
          "data": {
            "text/plain": [
              "ao_hechos\n",
              "2002.0       105\n",
              "2003.0       112\n",
              "2004.0       163\n",
              "2005.0       192\n",
              "2006.0       256\n",
              "2007.0       314\n",
              "2008.0       464\n",
              "2009.0       483\n",
              "2010.0       885\n",
              "2011.0      1053\n",
              "2012.0      1539\n",
              "2013.0      2175\n",
              "2014.0      4264\n",
              "2015.0     15942\n",
              "2016.0    194938\n",
              "2017.0    227131\n",
              "2018.0    253746\n",
              "2019.0    243392\n",
              "2020.0    199917\n",
              "2021.0    100587\n",
              "Name: categoria_delito, dtype: int64"
            ]
          },
          "metadata": {
            "tags": []
          },
          "execution_count": 10
        }
      ]
    },
    {
      "cell_type": "code",
      "metadata": {
        "colab": {
          "base_uri": "https://localhost:8080/"
        },
        "id": "dOs7Qv6ijJMg",
        "outputId": "36a1c947-ae48-4faa-e592-9d4b8173c0a2"
      },
      "source": [
        "# Con base en lo anterior decidimos filtrar los datos a partir del 'ao_hechos'>=2016:\n",
        "df_filtrado_1=df_dropped.loc[df_dropped['ao_hechos']>=2016]\n",
        "print(df_filtrado_1.head(3))\n",
        "print(df_filtrado_1.info())"
      ],
      "execution_count": null,
      "outputs": [
        {
          "output_type": "stream",
          "text": [
            "   ao_hechos mes_hechos  ...   longitud    latitud\n",
            "0     2016.0      Enero  ... -99.140215  19.380315\n",
            "1     2016.0      Enero  ... -99.108403  19.352859\n",
            "2     2016.0    Febrero  ... -99.061321  19.356451\n",
            "\n",
            "[3 rows x 13 columns]\n",
            "<class 'pandas.core.frame.DataFrame'>\n",
            "Int64Index: 1219711 entries, 0 to 1248923\n",
            "Data columns (total 13 columns):\n",
            " #   Column            Non-Null Count    Dtype  \n",
            "---  ------            --------------    -----  \n",
            " 0   ao_hechos         1219711 non-null  float64\n",
            " 1   mes_hechos        1219711 non-null  object \n",
            " 2   fecha_hechos      1219711 non-null  object \n",
            " 3   ao_inicio         1219711 non-null  int64  \n",
            " 4   mes_inicio        1219711 non-null  object \n",
            " 5   fecha_inicio      1219708 non-null  object \n",
            " 6   delito            1219711 non-null  object \n",
            " 7   fiscalia          1219709 non-null  object \n",
            " 8   categoria_delito  1219711 non-null  object \n",
            " 9   colonia_hechos    1170845 non-null  object \n",
            " 10  alcaldia_hechos   1216492 non-null  object \n",
            " 11  longitud          1171810 non-null  float64\n",
            " 12  latitud           1171810 non-null  float64\n",
            "dtypes: float64(3), int64(1), object(9)\n",
            "memory usage: 130.3+ MB\n",
            "None\n"
          ],
          "name": "stdout"
        }
      ]
    },
    {
      "cell_type": "code",
      "metadata": {
        "colab": {
          "base_uri": "https://localhost:8080/"
        },
        "id": "2QXbilTaDUh_",
        "outputId": "17f62f34-cb17-446b-cf21-3e86cd70afc8"
      },
      "source": [
        "# Contamos cuántas alcaldías están presentes en el df 'df_filtrado_1':\n",
        "df_filtrado_1['alcaldia_hechos'].unique()"
      ],
      "execution_count": null,
      "outputs": [
        {
          "output_type": "execute_result",
          "data": {
            "text/plain": [
              "array(['BENITO JUAREZ', 'IZTAPALAPA', 'CUAUHTEMOC', 'TLAHUAC',\n",
              "       'IZTACALCO', 'GUSTAVO A MADERO', 'MIGUEL HIDALGO', 'TLALPAN',\n",
              "       'ALVARO OBREGON', 'VENUSTIANO CARRANZA', 'AZCAPOTZALCO',\n",
              "       'CUAJIMALPA DE MORELOS', 'COYOACAN', 'XOCHIMILCO',\n",
              "       'LA MAGDALENA CONTRERAS', 'MILPA ALTA', 'VERACRUZ', 'TUXPAM',\n",
              "       'HUIXQUILUCAN', 'ECATEPEC DE MORELOS', 'SIN DATO', 'TULTEPEC',\n",
              "       'ACATZINGO', 'GUELATAO DE JUAREZ', 'TLALNEPANTLA DE BAZ',\n",
              "       'IXTAPALUCA', nan, 'NEZAHUALCOYOTL', 'CHALCO', 'TLATLAYA',\n",
              "       'NAUCALPAN DE JUAREZ', 'ZAPOPAN', 'VALLE DE CHALCO SOLIDARIDAD',\n",
              "       'TIANGUISTENCO', 'TEHUACAN', 'ACAPULCO DE JUAREZ', 'TEMASCALCINGO',\n",
              "       'CUERNAVACA', 'TULANCINGO DE BRAVO', 'CUAUTITLAN IZCALLI',\n",
              "       'CHICOLOAPAN', 'TOLUCA', 'TULTITLAN', 'BATOPILAS',\n",
              "       'ATIZAPAN DE ZARAGOZA', 'HUEHUETOCA', 'CHIMALHUACAN', 'OCOYOACAC',\n",
              "       'IGUALAPA', 'LA PAZ', 'NICOLAS ROMERO', 'ATIZAPAN', 'MONTERREY',\n",
              "       'TECAMAC', 'MEXICALI', 'MATIAS ROMERO', 'TANCITARO', 'DURANGO',\n",
              "       'ATENCO', 'SAN SALVADOR', 'PUEBLA', 'APIZACO', 'VILLA DE ZAACHILA',\n",
              "       'LERMA', 'TLANEPANTLA', 'CUAUTEPEC', 'COLON', 'CADEREYTA JIMENEZ',\n",
              "       'HUAMANTLA', 'SANTIAGO YOSONDUA', 'SAN PEDRO GARZA GARCIA',\n",
              "       'MINERAL DE LA REFORMA', 'TEXCOCO', 'CORREGIDORA', 'NUEVO LAREDO',\n",
              "       'CUAUTITLAN', 'JOQUICINGO', 'PINAL DE AMOLES', 'TIJUANA',\n",
              "       'OAXACA DE JUAREZ', 'ACOLMAN', 'MANZANILLO', 'GUANAJUATO',\n",
              "       'SAN FRANCISCO DEL RINCON', 'METEPEC', 'PUERTO VALLARTA',\n",
              "       'ZUMPANGO', 'TOLCAYUCA', 'CHILPANCINGO DE LOS BRAVO', 'CORTAZAR',\n",
              "       'COACALCO DE BERRIOZABAL', 'PAPALOTLA DE XICOHTENCATL', 'TLAXCALA',\n",
              "       'SANTA ANA MAYA', 'OTUMBA', 'SALAMANCA', 'SOLIDARIDAD',\n",
              "       'ISLA MUJERES', 'CULIACAN', 'SAN MATEO ATENCO', 'TIZAYUCA',\n",
              "       'TEOTIHUACAN', 'GUADALUPE', 'TEMAMATLA', 'COLIMA', 'GUAYMAS',\n",
              "       'VILLA DEL CARBON', 'VALLE DE BRAVO', 'ALVARADO', 'CAJEME',\n",
              "       'TENANCINGO', 'TEMIXCO', 'JOJUTLA', 'MORELIA', 'TETELA DE OCAMPO',\n",
              "       'ZIHUATANEJO DE  AZUETA', 'REYNOSA', 'TAXCO DE ALARCON', 'SILAO',\n",
              "       'ALMOLOYA DE JUAREZ', 'JILOTEPEC', 'PURISIMA DEL RINCON',\n",
              "       'LA UNION DE ISIDORO MONTES DE OCA', 'AMAXAC DE GUERRERO',\n",
              "       'MALINALCO', 'ZAUTLA', 'CUAUTLA', 'CALIMAYA', 'AMANALCO',\n",
              "       'ZACATECAS', 'POZA RICA DE HIDALGO', 'HUATABAMPO', 'JUCHITEPEC',\n",
              "       'PASO DEL MACHO', 'GOMEZ PALACIO', 'CELAYA', 'PUENTE DE IXTLA',\n",
              "       'COMITAN DE DOMINGUEZ', 'TLALNEPANTLA', 'VICTORIA', 'TELOLOAPAN',\n",
              "       'MERIDA', 'HERMOSILLO', 'XALATLACO', 'AYAPANGO', 'TEPETLAOXTOC',\n",
              "       'ZAPOTLAN DE JUAREZ', 'HUITZILAC', 'AMEALCO DE BONFIL',\n",
              "       'AMECAMECA', 'ATOYAC DE ALVAREZ', 'SAN ANDRES CHOLULA',\n",
              "       'EDUARDO NERI', 'LEON', 'TEZOYUCA', 'PACHUCA DE SOTO',\n",
              "       'TEOLOYUCAN', 'EL BOSQUE', 'YECAPIXTLA', 'EL ORO', 'TECOZAUTLA',\n",
              "       'ORIZABA', 'LA PIEDAD', 'MELCHOR OCAMPO', 'JALTIPAN', 'TLAYACAPAN',\n",
              "       'JOCOTITLAN', 'QUERETARO', 'GUADALAJARA', 'XALAPA', 'CALVILLO',\n",
              "       'BOCA DEL RIO', 'JIUTEPEC', 'URUAPAN', 'IRAPUATO', 'JALACINGO',\n",
              "       'TULA DE ALLENDE', 'EPAZOYUCAN', 'TLACHICHILCO', 'ZACATELCO',\n",
              "       'TENANGO DEL VALLE', 'TAPALPA', 'SAN MARTIN TEXMELUCAN',\n",
              "       'TLALTIZAPAN', 'COMONDU', 'ATLACOMULCO', 'NOPALTEPEC',\n",
              "       'APASEO EL GRANDE', 'TAPACHULA', 'VALLE DE SANTIAGO',\n",
              "       'TEOCALTICHE', 'AGUASCALIENTES', 'SAN JOSE DEL RINCON', 'ARMERIA',\n",
              "       'ATLATLAHUCAN', 'SULTEPEC', 'TEPOZTLAN', 'JALTENCO',\n",
              "       'SANTIAGO DE ANAYA', 'TEPIC', 'VILLA VICTORIA',\n",
              "       'IXCATEOPAN DE CUAUHTEMOC', 'AXAPUSCO', 'EBANO', 'ZACAPU',\n",
              "       'SAN NICOLAS DE LOS GARZA', 'TEPOTZOTLAN', 'SANTA MARIA HUATULCO',\n",
              "       'LOS CABOS', 'TLALMANALCO', 'IXTAPAN DEL ORO', 'ABALA', 'PARAISO',\n",
              "       'ZITACUARO', 'ZACAPOAXTLA', 'CHAMPOTON',\n",
              "       'ELOXOCHITLAN DE FLORES MAGON', 'ENSENADA', 'IXTLAHUACA',\n",
              "       'HUIMANGUILLO', 'XOCHITEPEC', 'SAN LUIS DE LA PAZ',\n",
              "       'IZUCAR DE MATAMOROS', 'VILLAHERMOSA O CENTRO', 'CARDENAS',\n",
              "       'SAN JUAN BAUTISTA TUXTEPEC', 'CALNALI', 'CARDONAL',\n",
              "       'TENANGO DEL AIRE', 'TLAPACOYAN', 'SALINA CRUZ', 'FRESNILLO',\n",
              "       'TIHUATLAN', 'ENCARNACION DE DIAZ', 'CADEREYTA DE MONTES',\n",
              "       'JALPAN DE SERRA', 'EL CARMEN TEQUEXQUITLA',\n",
              "       'ALMOLOYA DE ALQUISIRAS', 'TLAPEHUALA', 'TEQUIXQUIAC',\n",
              "       'JOSE MARIA MORELOS', 'EMILIANO ZAPATA', 'HUEHUETLA',\n",
              "       'HUAUCHINANGO', 'LERDO', 'CAÑADA MORELOS', 'COZUMEL',\n",
              "       'TEMASCALAPA', 'MOROLEON', 'NEXTLALPAN', 'LOS REYES', 'CHIHUAHUA',\n",
              "       'TETELA DEL VOLCAN', 'ROMITA', 'ALTAMIRA', 'MORELOS',\n",
              "       'SAN LUIS POTOSI', 'HUATUSCO', 'SANTA CRUZ XOXOCOTLAN', 'ATLAUTLA',\n",
              "       'MINATITLAN', 'TAMPICO', 'MATAMOROS', 'TENOSIQUE', 'ARROYO SECO',\n",
              "       'COCOTITLAN', 'CUAUTLANCINGO', 'PAPALOTLA', 'MAZATLAN', 'CORDOBA',\n",
              "       'CHILON', 'PARRAS', 'ALLENDE', 'GARCIA', 'BUCTZOTZ',\n",
              "       'OTHON P. BLANCO', 'SAN FELIPE DEL PROGRESO', 'PAPANTLA',\n",
              "       'EZEQUIEL MONTES', 'JIQUIPILCO', 'ZINACANTEPEC',\n",
              "       'CUETZALAN DEL PROGRESO', 'CERRO DE SAN PEDRO', 'CAMPECHE',\n",
              "       'ATLIXCO', 'ASCENSION', 'SAN JUAN DEL RIO', 'AHOME', 'TEPEAPULCO',\n",
              "       'FELIPE CARRILLO PUERTO', 'YEHUALTEPEC', 'PANUCO', 'CHICONCUAC',\n",
              "       'ACTOPAN', 'ALFAJAYUCAN', 'CATAZAJA', 'MACUSPANA', 'ZINAPECUARO',\n",
              "       'TLAJOMULCO DE ZUÑIGA', 'BUENAVENTURA',\n",
              "       'IGUALA DE LA INDEPENDENCIA', 'OMETEPEC', 'TECAMACHALCO', 'ACULCO',\n",
              "       'LAFRAGUA', 'METZTITLAN', 'ASIENTOS', 'NAUPAN', 'COENEO',\n",
              "       'IXMIQUILPAN', 'PENJAMO', 'COYUCA DE BENITEZ',\n",
              "       'ZAPOTLAN EL GRANDE', 'COATZACOALCOS', 'YAUTEPEC',\n",
              "       'SAN MARTIN DE LAS PIRAMIDES', 'XONACATLAN', 'TEJUPILCO',\n",
              "       'CIUDAD MADERO', 'SAN ANTONIO LA ISLA', 'SAN MIGUEL XOXTLA',\n",
              "       'PROGRESO DE OBREGON', 'VALLE HERMOSO', 'TEPEACA',\n",
              "       'CARRILLO PUERTO', 'TEOTITLAN DE FLORES MAGON', 'TUXTLA GUTIERREZ',\n",
              "       'HUIXTAN', 'SAN PEDRO POCHUTLA', 'ACAMBARO', 'VILLA DE ALLENDE',\n",
              "       'SAN PEDRO MIXTEPEC - DISTR. 22 -', 'GENERAL ESCOBEDO',\n",
              "       'TECOLUTLA', 'TARIMORO', 'ACAYUCAN', 'TOTOLAPAN', 'AHUATLAN',\n",
              "       'APAN', 'NACAJUCA', 'CIUDAD VALLES', 'APATZINGAN',\n",
              "       'ALTO LUCERO DE GUTIERREZ BARRIOS', 'TLAHUELILPAN',\n",
              "       'IXTAPAN DE LA SAL', 'ACAXOCHITLAN', 'COYOTEPEC', 'RIO BLANCO',\n",
              "       'YAUHQUEMECAN', 'TEPEJI DEL RIO DE OCAMPO', 'SAN PEDRO ATOYAC',\n",
              "       'ACONCHI', 'ATITALAQUIA', 'CALPULALPAN', 'TEQUISQUIAPAN',\n",
              "       'COMPOSTELA', 'CARMEN', 'HUEYAPAN DE OCAMPO', 'JARAL DEL PROGRESO',\n",
              "       'COYUCA DE CATALAN', 'TLAXCO', 'ZAMORA', 'TLANALAPA', 'HUEYPOXTLA',\n",
              "       'APODACA', 'ATOTONILCO EL GRANDE', 'JUAN GALINDO',\n",
              "       'DZILAM DE BRAVO', 'SAN PEDRO JICAYAN', 'TECATE', 'HUIXTLA',\n",
              "       'ESPAÑITA', 'MEDELLIN', 'CIUDAD DEL MAIZ', 'ATZITZINTLA',\n",
              "       'COPANATOYAC', 'LORETO', 'AHUMADA', 'LIBRES', 'ZEMPOALA',\n",
              "       'ACAMBAY', 'SAN GREGORIO ATZOMPA', 'PATZCUARO', 'BERRIOZABAL',\n",
              "       'SAN MATIAS TLALANCALECA', 'SENGUIO', 'SAN JUAN DE LOS LAGOS',\n",
              "       'CHARO', 'SAN BARTOLO COYOTEPEC', 'YURIRIA', 'MULEGE', 'AYALA',\n",
              "       'ACUAMANALA DE MIGUEL HIDALGO', 'LAZARO CARDENAS', 'MUZQUIZ',\n",
              "       'LOS REYES DE JUAREZ', 'DOLORES HIDALGO', 'MIACATLAN', 'MAGDALENA',\n",
              "       'LAGOS DE MORENO', 'JESUS MARIA', 'SABINAS', 'TOMATLAN',\n",
              "       'JALOSTOTITLAN', 'JUAREZ', 'MARIANO ESCOBEDO', 'CHIAUTLA',\n",
              "       'NOGALES', 'PEROTE', 'MINERAL DEL MONTE', 'MARAVATIO', 'ESPERANZA',\n",
              "       'NAVOJOA', 'ZACATLAN', 'XOCHICOATLAN', 'COPALA',\n",
              "       'SAN MIGUEL TOTOLAPAN', 'TECPAN DE GALEANA', 'TANCANHUITZ',\n",
              "       'XICOTEPEC', 'ATOTONILCO DE TULA', 'SANTA MARIA COYOTEPEC',\n",
              "       'CABO CORRIENTES', 'PETLALCINGO', 'CAPULHUAC', 'PISAFLORES',\n",
              "       'TULCINGO', 'TALA', 'TLAQUEPAQUE', 'IGNACIO DE LA LLAVE',\n",
              "       'CHIAPA DE CORZO', 'SAIN ALTO', 'TLACHICHUCA', 'PUNGARABATO',\n",
              "       'MIAHUATLAN DE PORFIRIO DIAZ', 'ECUANDUREO',\n",
              "       'SAN DIEGO DE LA UNION', 'SALTILLO', 'HUITZUCO DE LOS FIGUEROA',\n",
              "       'SAN PEDRO CHOLULA', 'SINALOA', 'TETEPANGO',\n",
              "       'TIQUICHEO DE NICOLAS ROMERO', 'HALACHO', 'CHIGNAHUAPAN',\n",
              "       'HOPELCHEN', 'NACO', 'SAN CRISTOBAL DE LAS CASAS',\n",
              "       'ZAPOTITLAN PALMAS', 'CHAPA DE MOTA', 'XICO',\n",
              "       'PUTLA VILLA DE GUERRERO', 'MATEHUALA', 'ACATLAN',\n",
              "       'SANTIAGO TULANTEPEC DE LUGO GUERRERO', 'CUAUTEPEC DE HINOJOSA',\n",
              "       'APETATITLAN DE ANTONIO CARVAJAL', 'TEMOAYA', 'CHAPULHUACAN',\n",
              "       'GENERAL HELIODORO CASTILLO', 'SAN FELIPE TEJALAPAM', 'APAXCO',\n",
              "       'FRANCISCO I. MADERO', 'AMATENANGO DEL VALLE', 'HIDALGO', 'IRIMBO',\n",
              "       'SANTA ANA', 'CHURINTZIO', 'AMOZOC', 'OMITLAN DE JUAREZ',\n",
              "       'TANHUATO', 'COATEPEC', 'OLUTA', 'BRISEÑAS',\n",
              "       'SAN JUAN BAUTISTA ATATLAHUCA', 'ARIO', 'JILOTZINGO',\n",
              "       'SANTO TOMAS', 'AQUILES SERDAN', 'RAFAEL DELGADO', 'ERONGARICUARO',\n",
              "       'EL SALTO', 'TENANGO DE DORIA', 'SAN FRANCISCO HUEHUETLAN',\n",
              "       'MISANTLA', 'TEHUITZINGO', 'AGUA PRIETA',\n",
              "       'ZITLALTEPEC DE TRINIDAD SANCHEZ SANTOS', 'Tulum',\n",
              "       'ALMOLOYA DEL RIO', 'CIENEGA DE FLORES', 'COMAPA', 'PALENQUE',\n",
              "       'TLAXCOAPAN', 'OCAMPO', 'LA MAGDALENA TLALTELULCO',\n",
              "       'SAN FRANCISCO JALTEPETONGO', 'TLAPA DE COMONFORT',\n",
              "       'TIERRA BLANCA', 'TONALA', 'TEPATITLAN DE MORELOS', 'QUIMIXTLAN',\n",
              "       'SAN SIMON DE GUERRERO', 'NANACAMILPA DE MARIANO ARISTA',\n",
              "       'ASUNCION NOCHIXTLAN', 'CUAPIAXTLA DE MADERO',\n",
              "       'SAN SALVADOR EL VERDE', 'ALPATLAHUAC', 'SAN JOSE ITURBIDE',\n",
              "       'CHICONTEPEC', 'AHUEHUETITLA', 'TIXTLA DE GUERRERO',\n",
              "       'COSAMALOAPAN DE CARPIO', 'BADIRAGUATO', 'TEXCALTITLAN',\n",
              "       'TEPETITLAN', 'SAN JOSE CHIAPA'], dtype=object)"
            ]
          },
          "metadata": {
            "tags": []
          },
          "execution_count": 12
        }
      ]
    },
    {
      "cell_type": "code",
      "metadata": {
        "colab": {
          "base_uri": "https://localhost:8080/"
        },
        "id": "mKZ_V7lUD-MS",
        "outputId": "156d847e-13b7-4811-e26f-02e4b2efcd24"
      },
      "source": [
        "# Al notar que la columna 'alcaldia_hechos' contiene alcaldías de todo el país, filtramos únicamente aquellas que corresponden a la CDMX\n",
        "# (16 alcaldías):\n",
        "alcadias_cdmx = ['BENITO JUAREZ',\n",
        "  'IZTAPALAPA',\n",
        "  'CUAUHTEMOC',\n",
        "  'TLAHUAC',\n",
        "  'IZTACALCO',\n",
        "  'GUSTAVO A MADERO',\n",
        "  'MIGUEL HIDALGO',\n",
        "  'TLALPAN',\n",
        "  'ALVARO OBREGON',\n",
        "  'VENUSTIANO CARRANZA',\n",
        "  'AZCAPOTZALCO',\n",
        "  'CUAJIMALPA DE MORELOS',\n",
        "  'COYOACAN',\n",
        "  'XOCHIMILCO',\n",
        "  'LA MAGDALENA CONTRERAS',\n",
        "  'MILPA ALTA'\n",
        " ]\n",
        "\n",
        "df_filtrado_2 = df_filtrado_1.loc[df_filtrado_1['alcaldia_hechos'].isin(alcadias_cdmx)]\n",
        "print(df_filtrado_2[\"alcaldia_hechos\"].unique())\n",
        "print(\"\\n\")\n",
        "print(df_filtrado_2.info())"
      ],
      "execution_count": null,
      "outputs": [
        {
          "output_type": "stream",
          "text": [
            "['BENITO JUAREZ' 'IZTAPALAPA' 'CUAUHTEMOC' 'TLAHUAC' 'IZTACALCO'\n",
            " 'GUSTAVO A MADERO' 'MIGUEL HIDALGO' 'TLALPAN' 'ALVARO OBREGON'\n",
            " 'VENUSTIANO CARRANZA' 'AZCAPOTZALCO' 'CUAJIMALPA DE MORELOS' 'COYOACAN'\n",
            " 'XOCHIMILCO' 'LA MAGDALENA CONTRERAS' 'MILPA ALTA']\n",
            "\n",
            "\n",
            "<class 'pandas.core.frame.DataFrame'>\n",
            "Int64Index: 1207497 entries, 0 to 1248923\n",
            "Data columns (total 13 columns):\n",
            " #   Column            Non-Null Count    Dtype  \n",
            "---  ------            --------------    -----  \n",
            " 0   ao_hechos         1207497 non-null  float64\n",
            " 1   mes_hechos        1207497 non-null  object \n",
            " 2   fecha_hechos      1207497 non-null  object \n",
            " 3   ao_inicio         1207497 non-null  int64  \n",
            " 4   mes_inicio        1207497 non-null  object \n",
            " 5   fecha_inicio      1207494 non-null  object \n",
            " 6   delito            1207497 non-null  object \n",
            " 7   fiscalia          1207495 non-null  object \n",
            " 8   categoria_delito  1207497 non-null  object \n",
            " 9   colonia_hechos    1170825 non-null  object \n",
            " 10  alcaldia_hechos   1207497 non-null  object \n",
            " 11  longitud          1171802 non-null  float64\n",
            " 12  latitud           1171802 non-null  float64\n",
            "dtypes: float64(3), int64(1), object(9)\n",
            "memory usage: 129.0+ MB\n",
            "None\n"
          ],
          "name": "stdout"
        }
      ]
    },
    {
      "cell_type": "markdown",
      "metadata": {
        "id": "JdJYFwG5BSDa"
      },
      "source": [
        "### 5.3 Eliminando los NaN "
      ]
    },
    {
      "cell_type": "code",
      "metadata": {
        "colab": {
          "base_uri": "https://localhost:8080/"
        },
        "id": "WNqvQnZgkrs2",
        "outputId": "f02409cf-12a8-4b6a-a8ea-49ca1acc49ff"
      },
      "source": [
        "# Contamos cuántos NaN existen en cada columna:\n",
        "df_filtrado_2.isna().sum()"
      ],
      "execution_count": null,
      "outputs": [
        {
          "output_type": "execute_result",
          "data": {
            "text/plain": [
              "ao_hechos               0\n",
              "mes_hechos              0\n",
              "fecha_hechos            0\n",
              "ao_inicio               0\n",
              "mes_inicio              0\n",
              "fecha_inicio            3\n",
              "delito                  0\n",
              "fiscalia                2\n",
              "categoria_delito        0\n",
              "colonia_hechos      36672\n",
              "alcaldia_hechos         0\n",
              "longitud            35695\n",
              "latitud             35695\n",
              "dtype: int64"
            ]
          },
          "metadata": {
            "tags": []
          },
          "execution_count": 14
        }
      ]
    },
    {
      "cell_type": "code",
      "metadata": {
        "colab": {
          "base_uri": "https://localhost:8080/",
          "height": 1000
        },
        "id": "ehmDvPRmq2vH",
        "outputId": "86ad8b97-fc29-4800-f176-c90af5a52e80"
      },
      "source": [
        "# Ahora eliminamos las filas que contienen puros NaN (si las hay):\n",
        "df_sin_nan_1=df_filtrado_2.dropna(axis=0, how='all')\n",
        "df_sin_nan_1"
      ],
      "execution_count": null,
      "outputs": [
        {
          "output_type": "execute_result",
          "data": {
            "text/html": [
              "<div>\n",
              "<style scoped>\n",
              "    .dataframe tbody tr th:only-of-type {\n",
              "        vertical-align: middle;\n",
              "    }\n",
              "\n",
              "    .dataframe tbody tr th {\n",
              "        vertical-align: top;\n",
              "    }\n",
              "\n",
              "    .dataframe thead th {\n",
              "        text-align: right;\n",
              "    }\n",
              "</style>\n",
              "<table border=\"1\" class=\"dataframe\">\n",
              "  <thead>\n",
              "    <tr style=\"text-align: right;\">\n",
              "      <th></th>\n",
              "      <th>ao_hechos</th>\n",
              "      <th>mes_hechos</th>\n",
              "      <th>fecha_hechos</th>\n",
              "      <th>ao_inicio</th>\n",
              "      <th>mes_inicio</th>\n",
              "      <th>fecha_inicio</th>\n",
              "      <th>delito</th>\n",
              "      <th>fiscalia</th>\n",
              "      <th>categoria_delito</th>\n",
              "      <th>colonia_hechos</th>\n",
              "      <th>alcaldia_hechos</th>\n",
              "      <th>longitud</th>\n",
              "      <th>latitud</th>\n",
              "    </tr>\n",
              "  </thead>\n",
              "  <tbody>\n",
              "    <tr>\n",
              "      <th>0</th>\n",
              "      <td>2016.0</td>\n",
              "      <td>Enero</td>\n",
              "      <td>2016-01-31 22:16:00</td>\n",
              "      <td>2016</td>\n",
              "      <td>Febrero</td>\n",
              "      <td>2016-02-01 00:25:44</td>\n",
              "      <td>DAÑO EN PROPIEDAD AJENA INTENCIONAL</td>\n",
              "      <td>INVESTIGACIÓN EN BENITO JUÁREZ</td>\n",
              "      <td>DELITO DE BAJO IMPACTO</td>\n",
              "      <td>AMÉRICAS UNIDAS</td>\n",
              "      <td>BENITO JUAREZ</td>\n",
              "      <td>-99.140215</td>\n",
              "      <td>19.380315</td>\n",
              "    </tr>\n",
              "    <tr>\n",
              "      <th>1</th>\n",
              "      <td>2016.0</td>\n",
              "      <td>Enero</td>\n",
              "      <td>2016-01-31 20:50:00</td>\n",
              "      <td>2016</td>\n",
              "      <td>Febrero</td>\n",
              "      <td>2016-02-01 00:52:37</td>\n",
              "      <td>ROBO DE VEHICULO DE SERVICIO PARTICULAR CON VI...</td>\n",
              "      <td>INVESTIGACIÓN PARA LA ATENCIÓN DEL DELITO DE R...</td>\n",
              "      <td>ROBO DE VEHÍCULO CON Y SIN VIOLENCIA</td>\n",
              "      <td>LOS CIPRESES</td>\n",
              "      <td>IZTAPALAPA</td>\n",
              "      <td>-99.108403</td>\n",
              "      <td>19.352859</td>\n",
              "    </tr>\n",
              "    <tr>\n",
              "      <th>2</th>\n",
              "      <td>2016.0</td>\n",
              "      <td>Febrero</td>\n",
              "      <td>2016-02-01 00:30:00</td>\n",
              "      <td>2016</td>\n",
              "      <td>Febrero</td>\n",
              "      <td>2016-02-01 01:33:26</td>\n",
              "      <td>NARCOMENUDEO POSESION SIMPLE</td>\n",
              "      <td>INVESTIGACIÓN PARA LA ATENCIÓN DE NIÑOS, NIÑAS...</td>\n",
              "      <td>DELITO DE BAJO IMPACTO</td>\n",
              "      <td>UNIDAD VICENTE GUERRERO</td>\n",
              "      <td>IZTAPALAPA</td>\n",
              "      <td>-99.061321</td>\n",
              "      <td>19.356451</td>\n",
              "    </tr>\n",
              "    <tr>\n",
              "      <th>3</th>\n",
              "      <td>2016.0</td>\n",
              "      <td>Enero</td>\n",
              "      <td>2016-01-31 22:00:00</td>\n",
              "      <td>2016</td>\n",
              "      <td>Febrero</td>\n",
              "      <td>2016-02-01 02:09:11</td>\n",
              "      <td>ROBO A TRANSEUNTE EN VIA PUBLICA CON VIOLENCIA</td>\n",
              "      <td>INVESTIGACIÓN EN IZTAPALAPA</td>\n",
              "      <td>ROBO A TRANSEUNTE EN VÍA PÚBLICA CON Y SIN VIO...</td>\n",
              "      <td>EMILIANO ZAPATA</td>\n",
              "      <td>IZTAPALAPA</td>\n",
              "      <td>-98.976379</td>\n",
              "      <td>19.331633</td>\n",
              "    </tr>\n",
              "    <tr>\n",
              "      <th>5</th>\n",
              "      <td>2016.0</td>\n",
              "      <td>Febrero</td>\n",
              "      <td>2016-02-01 01:30:00</td>\n",
              "      <td>2016</td>\n",
              "      <td>Febrero</td>\n",
              "      <td>2016-02-01 02:19:12</td>\n",
              "      <td>LESIONES CULPOSAS POR TRANSITO VEHICULAR EN CO...</td>\n",
              "      <td>INVESTIGACIÓN EN CUAUHTEMOC</td>\n",
              "      <td>DELITO DE BAJO IMPACTO</td>\n",
              "      <td>JUÁREZ</td>\n",
              "      <td>CUAUHTEMOC</td>\n",
              "      <td>-99.174075</td>\n",
              "      <td>19.421356</td>\n",
              "    </tr>\n",
              "    <tr>\n",
              "      <th>...</th>\n",
              "      <td>...</td>\n",
              "      <td>...</td>\n",
              "      <td>...</td>\n",
              "      <td>...</td>\n",
              "      <td>...</td>\n",
              "      <td>...</td>\n",
              "      <td>...</td>\n",
              "      <td>...</td>\n",
              "      <td>...</td>\n",
              "      <td>...</td>\n",
              "      <td>...</td>\n",
              "      <td>...</td>\n",
              "      <td>...</td>\n",
              "    </tr>\n",
              "    <tr>\n",
              "      <th>1248919</th>\n",
              "      <td>2021.0</td>\n",
              "      <td>Junio</td>\n",
              "      <td>2021-06-29 17:00:00</td>\n",
              "      <td>2021</td>\n",
              "      <td>Junio</td>\n",
              "      <td>2021-06-30 23:32:31</td>\n",
              "      <td>LESIONES CULPOSAS POR TRANSITO VEHICULAR EN CO...</td>\n",
              "      <td>FISCALÍA DE INVESTIGACIÓN TERRITORIAL EN MILPA...</td>\n",
              "      <td>DELITO DE BAJO IMPACTO</td>\n",
              "      <td>SAN MARCOS (SANTA ANA TLACOTENCO)</td>\n",
              "      <td>MILPA ALTA</td>\n",
              "      <td>-98.992460</td>\n",
              "      <td>19.168371</td>\n",
              "    </tr>\n",
              "    <tr>\n",
              "      <th>1248920</th>\n",
              "      <td>2021.0</td>\n",
              "      <td>Junio</td>\n",
              "      <td>2021-06-04 19:00:00</td>\n",
              "      <td>2021</td>\n",
              "      <td>Junio</td>\n",
              "      <td>2021-06-30 23:36:45</td>\n",
              "      <td>ROBO DE ACCESORIOS DE AUTO</td>\n",
              "      <td>FISCALÍA DE INVESTIGACIÓN TERRITORIAL EN CUAUH...</td>\n",
              "      <td>DELITO DE BAJO IMPACTO</td>\n",
              "      <td>HIPÓDROMO</td>\n",
              "      <td>CUAUHTEMOC</td>\n",
              "      <td>-99.168311</td>\n",
              "      <td>19.412001</td>\n",
              "    </tr>\n",
              "    <tr>\n",
              "      <th>1248921</th>\n",
              "      <td>2021.0</td>\n",
              "      <td>Junio</td>\n",
              "      <td>2021-06-30 19:40:00</td>\n",
              "      <td>2021</td>\n",
              "      <td>Junio</td>\n",
              "      <td>2021-06-30 23:37:12</td>\n",
              "      <td>AMENAZAS</td>\n",
              "      <td>FISCALÍA DE INVESTIGACIÓN TERRITORIAL EN IZTAC...</td>\n",
              "      <td>DELITO DE BAJO IMPACTO</td>\n",
              "      <td>AGRÍCOLA PANTITLAN</td>\n",
              "      <td>IZTACALCO</td>\n",
              "      <td>-99.061716</td>\n",
              "      <td>19.419028</td>\n",
              "    </tr>\n",
              "    <tr>\n",
              "      <th>1248922</th>\n",
              "      <td>2021.0</td>\n",
              "      <td>Mayo</td>\n",
              "      <td>2021-05-16 21:08:00</td>\n",
              "      <td>2021</td>\n",
              "      <td>Junio</td>\n",
              "      <td>2021-06-30 23:45:57</td>\n",
              "      <td>DAÑO EN PROPIEDAD AJENA INTENCIONAL</td>\n",
              "      <td>FISCALÍA DE INVESTIGACIÓN TERRITORIAL EN CUAUH...</td>\n",
              "      <td>DELITO DE BAJO IMPACTO</td>\n",
              "      <td>ROMA NORTE</td>\n",
              "      <td>CUAUHTEMOC</td>\n",
              "      <td>-99.158994</td>\n",
              "      <td>19.418615</td>\n",
              "    </tr>\n",
              "    <tr>\n",
              "      <th>1248923</th>\n",
              "      <td>2021.0</td>\n",
              "      <td>Junio</td>\n",
              "      <td>2021-06-29 17:00:00</td>\n",
              "      <td>2021</td>\n",
              "      <td>Junio</td>\n",
              "      <td>2021-06-30 23:52:34</td>\n",
              "      <td>LESIONES INTENCIONALES POR ARMA BLANCA</td>\n",
              "      <td>FISCALÍA DE INVESTIGACIÓN TERRITORIAL EN IZTAP...</td>\n",
              "      <td>DELITO DE BAJO IMPACTO</td>\n",
              "      <td>LOMAS DE SAN LORENZO</td>\n",
              "      <td>IZTAPALAPA</td>\n",
              "      <td>-99.069557</td>\n",
              "      <td>19.321406</td>\n",
              "    </tr>\n",
              "  </tbody>\n",
              "</table>\n",
              "<p>1207497 rows × 13 columns</p>\n",
              "</div>"
            ],
            "text/plain": [
              "         ao_hechos mes_hechos  ...   longitud    latitud\n",
              "0           2016.0      Enero  ... -99.140215  19.380315\n",
              "1           2016.0      Enero  ... -99.108403  19.352859\n",
              "2           2016.0    Febrero  ... -99.061321  19.356451\n",
              "3           2016.0      Enero  ... -98.976379  19.331633\n",
              "5           2016.0    Febrero  ... -99.174075  19.421356\n",
              "...            ...        ...  ...        ...        ...\n",
              "1248919     2021.0      Junio  ... -98.992460  19.168371\n",
              "1248920     2021.0      Junio  ... -99.168311  19.412001\n",
              "1248921     2021.0      Junio  ... -99.061716  19.419028\n",
              "1248922     2021.0       Mayo  ... -99.158994  19.418615\n",
              "1248923     2021.0      Junio  ... -99.069557  19.321406\n",
              "\n",
              "[1207497 rows x 13 columns]"
            ]
          },
          "metadata": {
            "tags": []
          },
          "execution_count": 15
        }
      ]
    },
    {
      "cell_type": "code",
      "metadata": {
        "colab": {
          "base_uri": "https://localhost:8080/"
        },
        "id": "Z5nE9hkhOzil",
        "outputId": "0fe33064-47cd-4e8e-ec73-77c2aefa6f90"
      },
      "source": [
        "# Al ejecutar la  instrucción anterior no se eliminó ninguna fila, por lo que se asume que ninguna fila contenía puros NaN.\n",
        "\n",
        "# Ahora eliminamos los registros con NaN en las columnas de fecha_inicio y fiscalia, debido a su poca signficancia estadística:\n",
        "df_sin_nan_2 = df_sin_nan_1.loc[df_sin_nan_1['fiscalia'].notna()]\n",
        "df_sin_nan_3 = df_sin_nan_2.loc[df_sin_nan_2['fecha_inicio'].notna()]\n",
        "df_sin_nan_4 = df_sin_nan_3.loc[df_sin_nan_3[\"latitud\"].notna()]\n",
        "df_sin_nan_5 = df_sin_nan_4.loc[df_sin_nan_4[\"longitud\"].notna()]\n",
        "\n",
        "df_sin_nan_5.isna().sum()"
      ],
      "execution_count": null,
      "outputs": [
        {
          "output_type": "execute_result",
          "data": {
            "text/plain": [
              "ao_hechos              0\n",
              "mes_hechos             0\n",
              "fecha_hechos           0\n",
              "ao_inicio              0\n",
              "mes_inicio             0\n",
              "fecha_inicio           0\n",
              "delito                 0\n",
              "fiscalia               0\n",
              "categoria_delito       0\n",
              "colonia_hechos      1164\n",
              "alcaldia_hechos        0\n",
              "longitud               0\n",
              "latitud                0\n",
              "dtype: int64"
            ]
          },
          "metadata": {
            "tags": []
          },
          "execution_count": 16
        }
      ]
    },
    {
      "cell_type": "code",
      "metadata": {
        "colab": {
          "base_uri": "https://localhost:8080/"
        },
        "id": "ikDjhVWJ27vU",
        "outputId": "b89aad45-21f6-4884-a72a-a761732f9c71"
      },
      "source": [
        "\n",
        "# Ahora remplazamos los NaN de la columna 'colonia_hechos' por la palabra Unknown para eliminar completamente los NaN:\n",
        "df_sin_nan_5[\"colonia_hechos\"] = df_sin_nan_5[\"colonia_hechos\"].fillna('Unknown')\n",
        "df_sin_nan_5.isna().sum()"
      ],
      "execution_count": null,
      "outputs": [
        {
          "output_type": "execute_result",
          "data": {
            "text/plain": [
              "ao_hechos           0\n",
              "mes_hechos          0\n",
              "fecha_hechos        0\n",
              "ao_inicio           0\n",
              "mes_inicio          0\n",
              "fecha_inicio        0\n",
              "delito              0\n",
              "fiscalia            0\n",
              "categoria_delito    0\n",
              "colonia_hechos      0\n",
              "alcaldia_hechos     0\n",
              "longitud            0\n",
              "latitud             0\n",
              "dtype: int64"
            ]
          },
          "metadata": {
            "tags": []
          },
          "execution_count": 17
        }
      ]
    },
    {
      "cell_type": "code",
      "metadata": {
        "id": "S_j4NZVmvTKP"
      },
      "source": [
        "# En los casos en los que la latitud y longitud no existe se evaluará posteriormente la posibilidad de colocar la latitud y longitud de la alcadia de\n",
        "# acuerdo a datos del gobierno de la CDMX: https://datos.cdmx.gob.mx/dataset/bae265a8-d1f6-4614-b399-4184bc93e027/resource/e4a9b05f-c480-45fb-a62c-6d4e39c5180e/download/alcaldias.csv\n",
        "\n",
        "# lat_long_alcaldias = pd.read_csv(\"https://datos.cdmx.gob.mx/dataset/bae265a8-d1f6-4614-b399-4184bc93e027/resource/e4a9b05f-c480-45fb-a62c-6d4e39c5180e/download/alcaldias.csv\")\n"
      ],
      "execution_count": null,
      "outputs": []
    },
    {
      "cell_type": "markdown",
      "metadata": {
        "id": "BQ-uiw5HXUbG"
      },
      "source": [
        "### 5.4 Reseteando los índices"
      ]
    },
    {
      "cell_type": "code",
      "metadata": {
        "colab": {
          "base_uri": "https://localhost:8080/"
        },
        "id": "im_UOOH-W3jj",
        "outputId": "c24a255a-f0a4-4fd0-bd68-709613bec178"
      },
      "source": [
        "# Reseteamos los indices, pues hemos eliminado algunas filas:\n",
        "df_indice_reseteado = df_sin_nan_5.reset_index(drop=True)\n",
        "print(df_indice_reseteado.shape)\n",
        "print('\\n')\n",
        "print(df_indice_reseteado.head(3))\n",
        "print('\\n')\n",
        "print(df_indice_reseteado.tail(3))"
      ],
      "execution_count": null,
      "outputs": [
        {
          "output_type": "stream",
          "text": [
            "(1171799, 13)\n",
            "\n",
            "\n",
            "   ao_hechos mes_hechos  ...   longitud    latitud\n",
            "0     2016.0      Enero  ... -99.140215  19.380315\n",
            "1     2016.0      Enero  ... -99.108403  19.352859\n",
            "2     2016.0    Febrero  ... -99.061321  19.356451\n",
            "\n",
            "[3 rows x 13 columns]\n",
            "\n",
            "\n",
            "         ao_hechos mes_hechos  ...   longitud    latitud\n",
            "1171796     2021.0      Junio  ... -99.061716  19.419028\n",
            "1171797     2021.0       Mayo  ... -99.158994  19.418615\n",
            "1171798     2021.0      Junio  ... -99.069557  19.321406\n",
            "\n",
            "[3 rows x 13 columns]\n"
          ],
          "name": "stdout"
        }
      ]
    },
    {
      "cell_type": "markdown",
      "metadata": {
        "id": "60njpEwMa9zK"
      },
      "source": [
        "### 5.5 Agregaciones"
      ]
    },
    {
      "cell_type": "markdown",
      "metadata": {
        "id": "bsDt25LmI3ON"
      },
      "source": [
        "## 6. Transformación de datos\n",
        "\n",
        "---\n",
        "\n"
      ]
    },
    {
      "cell_type": "markdown",
      "metadata": {
        "id": "epCnEEqsc2Ir"
      },
      "source": [
        "Aquí transformamos el tipo de dato de cada columna al tipo correcto de acuerdo a su contenido. Posteriormente, se hacen algunos filtros y consultas para responder a las preguntas planteadas. "
      ]
    },
    {
      "cell_type": "markdown",
      "metadata": {
        "id": "bYo5q58yedB1"
      },
      "source": [
        "### 6.1 Corrigiendo el tipo de datos de las columnas"
      ]
    },
    {
      "cell_type": "code",
      "metadata": {
        "colab": {
          "base_uri": "https://localhost:8080/"
        },
        "id": "-7q6jeIvgkpU",
        "outputId": "3c423d3e-8a72-41cc-8fe0-50b1788b694c"
      },
      "source": [
        "# Consultamos el tipo de datos que contiene cada columna:\n",
        "df_indice_reseteado.dtypes\n"
      ],
      "execution_count": null,
      "outputs": [
        {
          "output_type": "execute_result",
          "data": {
            "text/plain": [
              "ao_hechos           float64\n",
              "mes_hechos           object\n",
              "fecha_hechos         object\n",
              "ao_inicio             int64\n",
              "mes_inicio           object\n",
              "fecha_inicio         object\n",
              "delito               object\n",
              "fiscalia             object\n",
              "categoria_delito     object\n",
              "colonia_hechos       object\n",
              "alcaldia_hechos      object\n",
              "longitud            float64\n",
              "latitud             float64\n",
              "dtype: object"
            ]
          },
          "metadata": {
            "tags": []
          },
          "execution_count": 20
        }
      ]
    },
    {
      "cell_type": "code",
      "metadata": {
        "colab": {
          "base_uri": "https://localhost:8080/",
          "height": 604
        },
        "id": "zNSlnqAjpAVD",
        "outputId": "1b099765-b731-4fe7-910d-0a84edd5f229"
      },
      "source": [
        "# Hacemos casting del tipo de dato de las columnas. En el caso de las columnas con tipo de dato 'object' se convirtieron a 'str' para evitar \n",
        "# tener varios tipos de datos en estas columnas:  \n",
        "df_indice_reseteado['ao_hechos'] = df_indice_reseteado['ao_hechos'].astype(int)\n",
        "df_indice_reseteado['mes_hechos'] = df_indice_reseteado['mes_hechos'].astype(str)\n",
        "df_indice_reseteado['mes_inicio'] = df_indice_reseteado['mes_inicio'].astype(str)\n",
        "df_indice_reseteado['delito'] = df_indice_reseteado['delito'].astype(str)\n",
        "df_indice_reseteado['fiscalia'] = df_indice_reseteado['fiscalia'].astype(str)\n",
        "df_indice_reseteado['categoria_delito'] = df_indice_reseteado['categoria_delito'].astype(str)\n",
        "df_indice_reseteado['colonia_hechos'] = df_indice_reseteado['colonia_hechos'].astype(str)\n",
        "df_indice_reseteado['alcaldia_hechos'] = df_indice_reseteado['alcaldia_hechos'].astype(str)\n",
        "\n",
        "diccionario_de_conversion = {\n",
        "    'fecha_hechos': 'datetime64[ns]',\n",
        "    'fecha_inicio': 'datetime64[ns]'\n",
        "}\n",
        "\n",
        "df_casting=df_indice_reseteado.astype(diccionario_de_conversion)\n",
        "\n",
        "print(df_casting.dtypes)\n",
        "print('\\n')\n",
        "df_casting.head(3)\n"
      ],
      "execution_count": null,
      "outputs": [
        {
          "output_type": "stream",
          "text": [
            "ao_hechos                    int64\n",
            "mes_hechos                  object\n",
            "fecha_hechos        datetime64[ns]\n",
            "ao_inicio                    int64\n",
            "mes_inicio                  object\n",
            "fecha_inicio        datetime64[ns]\n",
            "delito                      object\n",
            "fiscalia                    object\n",
            "categoria_delito            object\n",
            "colonia_hechos              object\n",
            "alcaldia_hechos             object\n",
            "longitud                   float64\n",
            "latitud                    float64\n",
            "dtype: object\n",
            "\n",
            "\n"
          ],
          "name": "stdout"
        },
        {
          "output_type": "execute_result",
          "data": {
            "text/html": [
              "<div>\n",
              "<style scoped>\n",
              "    .dataframe tbody tr th:only-of-type {\n",
              "        vertical-align: middle;\n",
              "    }\n",
              "\n",
              "    .dataframe tbody tr th {\n",
              "        vertical-align: top;\n",
              "    }\n",
              "\n",
              "    .dataframe thead th {\n",
              "        text-align: right;\n",
              "    }\n",
              "</style>\n",
              "<table border=\"1\" class=\"dataframe\">\n",
              "  <thead>\n",
              "    <tr style=\"text-align: right;\">\n",
              "      <th></th>\n",
              "      <th>ao_hechos</th>\n",
              "      <th>mes_hechos</th>\n",
              "      <th>fecha_hechos</th>\n",
              "      <th>ao_inicio</th>\n",
              "      <th>mes_inicio</th>\n",
              "      <th>fecha_inicio</th>\n",
              "      <th>delito</th>\n",
              "      <th>fiscalia</th>\n",
              "      <th>categoria_delito</th>\n",
              "      <th>colonia_hechos</th>\n",
              "      <th>alcaldia_hechos</th>\n",
              "      <th>longitud</th>\n",
              "      <th>latitud</th>\n",
              "    </tr>\n",
              "  </thead>\n",
              "  <tbody>\n",
              "    <tr>\n",
              "      <th>0</th>\n",
              "      <td>2016</td>\n",
              "      <td>Enero</td>\n",
              "      <td>2016-01-31 22:16:00</td>\n",
              "      <td>2016</td>\n",
              "      <td>Febrero</td>\n",
              "      <td>2016-02-01 00:25:44</td>\n",
              "      <td>DAÑO EN PROPIEDAD AJENA INTENCIONAL</td>\n",
              "      <td>INVESTIGACIÓN EN BENITO JUÁREZ</td>\n",
              "      <td>DELITO DE BAJO IMPACTO</td>\n",
              "      <td>AMÉRICAS UNIDAS</td>\n",
              "      <td>BENITO JUAREZ</td>\n",
              "      <td>-99.140215</td>\n",
              "      <td>19.380315</td>\n",
              "    </tr>\n",
              "    <tr>\n",
              "      <th>1</th>\n",
              "      <td>2016</td>\n",
              "      <td>Enero</td>\n",
              "      <td>2016-01-31 20:50:00</td>\n",
              "      <td>2016</td>\n",
              "      <td>Febrero</td>\n",
              "      <td>2016-02-01 00:52:37</td>\n",
              "      <td>ROBO DE VEHICULO DE SERVICIO PARTICULAR CON VI...</td>\n",
              "      <td>INVESTIGACIÓN PARA LA ATENCIÓN DEL DELITO DE R...</td>\n",
              "      <td>ROBO DE VEHÍCULO CON Y SIN VIOLENCIA</td>\n",
              "      <td>LOS CIPRESES</td>\n",
              "      <td>IZTAPALAPA</td>\n",
              "      <td>-99.108403</td>\n",
              "      <td>19.352859</td>\n",
              "    </tr>\n",
              "    <tr>\n",
              "      <th>2</th>\n",
              "      <td>2016</td>\n",
              "      <td>Febrero</td>\n",
              "      <td>2016-02-01 00:30:00</td>\n",
              "      <td>2016</td>\n",
              "      <td>Febrero</td>\n",
              "      <td>2016-02-01 01:33:26</td>\n",
              "      <td>NARCOMENUDEO POSESION SIMPLE</td>\n",
              "      <td>INVESTIGACIÓN PARA LA ATENCIÓN DE NIÑOS, NIÑAS...</td>\n",
              "      <td>DELITO DE BAJO IMPACTO</td>\n",
              "      <td>UNIDAD VICENTE GUERRERO</td>\n",
              "      <td>IZTAPALAPA</td>\n",
              "      <td>-99.061321</td>\n",
              "      <td>19.356451</td>\n",
              "    </tr>\n",
              "  </tbody>\n",
              "</table>\n",
              "</div>"
            ],
            "text/plain": [
              "   ao_hechos mes_hechos  ...   longitud    latitud\n",
              "0       2016      Enero  ... -99.140215  19.380315\n",
              "1       2016      Enero  ... -99.108403  19.352859\n",
              "2       2016    Febrero  ... -99.061321  19.356451\n",
              "\n",
              "[3 rows x 13 columns]"
            ]
          },
          "metadata": {
            "tags": []
          },
          "execution_count": 21
        }
      ]
    },
    {
      "cell_type": "markdown",
      "metadata": {
        "id": "rrLnDHy2ArpJ"
      },
      "source": [
        "### 6.2 Contestando las preguntas de investigación"
      ]
    },
    {
      "cell_type": "markdown",
      "metadata": {
        "id": "VqD7OYabB9g9"
      },
      "source": [
        "#### 6.2.1 *¿Qué tipos de delitos se comete con mayor frecuencia?*"
      ]
    },
    {
      "cell_type": "code",
      "metadata": {
        "id": "p82OYtFs6gZ6"
      },
      "source": [
        "# obtener geojson de las alcaldias de la cdmx para poder hacer cloropleths\n",
        "\n",
        "with urlopen(\"https://raw.githubusercontent.com/AvilaJulio/bedu-ds-equipo6/main/Modulo%203/src/alcaldias/limite_de_las_alcaldias.geojson\") as response:\n",
        "  geo_alcaldias = json.load(response)\n",
        "\n",
        "# los mapeos de los ids se obtienen de la documentacion de la data\n",
        "mapeo_alcaldias = {\n",
        "    'BENITO JUAREZ': [12, 11],\n",
        "    'IZTAPALAPA': [8, 7],\n",
        "    'CUAUHTEMOC': [2, 1],\n",
        "    'TLAHUAC': [16, 15],\n",
        "    'IZTACALCO': [3, 2],\n",
        "    'GUSTAVO A MADERO': [7, 6],\n",
        "    'MIGUEL HIDALGO': [14, 13],\n",
        "    'TLALPAN': [6, 5],\n",
        "    'ALVARO OBREGON': [4, 3],\n",
        "    'VENUSTIANO CARRANZA': [11, 10],\n",
        "    'AZCAPOTZALCO': [9, 8],\n",
        "    'CUAJIMALPA DE MORELOS': [13, 12],\n",
        "    'COYOACAN': [5, 4],\n",
        "    'XOCHIMILCO': [1, 0],\n",
        "    'LA MAGDALENA CONTRERAS': [15, 14],\n",
        "    'MILPA ALTA': [10, 9]\n",
        "}\n",
        "\n",
        "mapeo_alcaldias = pd.DataFrame.from_dict(mapeo_alcaldias, orient=\"index\", columns=[\"_id\", \"id\"]).reset_index().rename(columns={\"index\": \"alcaldia\"})\n",
        "\n",
        "# le agregamos los ids a nuestro dataframe principal\n",
        "df_casting = df_casting.merge(mapeo_alcaldias, right_on=\"alcaldia\", left_on=\"alcaldia_hechos\")"
      ],
      "execution_count": null,
      "outputs": []
    },
    {
      "cell_type": "code",
      "metadata": {
        "colab": {
          "base_uri": "https://localhost:8080/"
        },
        "id": "H7ZZjP26DmYk",
        "outputId": "21fc5f63-9e4d-43ae-9147-6392bec6dee9"
      },
      "source": [
        "# Hacemos el conteo de la frecuencia de cada categoría de delito y ordenamos de manera ascendente: \n",
        "pregunta_1 = df_casting.groupby('categoria_delito').size()\n",
        "pregunta_1.sort_values(ascending=False)"
      ],
      "execution_count": null,
      "outputs": [
        {
          "output_type": "execute_result",
          "data": {
            "text/plain": [
              "categoria_delito\n",
              "DELITO DE BAJO IMPACTO                                     921314\n",
              "ROBO A TRANSEUNTE EN VÍA PÚBLICA CON Y SIN VIOLENCIA        69745\n",
              "ROBO DE VEHÍCULO CON Y SIN VIOLENCIA                        63368\n",
              "HECHO NO DELICTIVO                                          46671\n",
              "ROBO A NEGOCIO CON VIOLENCIA                                20250\n",
              "ROBO A REPARTIDOR CON Y SIN VIOLENCIA                       12586\n",
              "ROBO A PASAJERO A BORDO DEL METRO CON Y SIN VIOLENCIA       11046\n",
              "HOMICIDIO DOLOSO                                             6096\n",
              "VIOLACIÓN                                                    4973\n",
              "LESIONES DOLOSAS POR DISPARO DE ARMA DE FUEGO                4339\n",
              "ROBO A PASAJERO A BORDO DE MICROBUS CON Y SIN VIOLENCIA      4043\n",
              "ROBO A CASA HABITACIÓN CON VIOLENCIA                         3111\n",
              "ROBO A CUENTAHABIENTE SALIENDO DEL CAJERO CON VIOLENCIA      2293\n",
              "ROBO A PASAJERO A BORDO DE TAXI CON VIOLENCIA                1181\n",
              "ROBO A TRANSPORTISTA CON Y SIN VIOLENCIA                      606\n",
              "SECUESTRO                                                     176\n",
              "FEMINICIDIO                                                     1\n",
              "dtype: int64"
            ]
          },
          "metadata": {
            "tags": []
          },
          "execution_count": 23
        }
      ]
    },
    {
      "cell_type": "code",
      "metadata": {
        "colab": {
          "base_uri": "https://localhost:8080/",
          "height": 332
        },
        "id": "lWnD6dC_yMI_",
        "outputId": "b3eddbee-4b5a-407e-e60e-e08d144b4ed2"
      },
      "source": [
        "# Con lo anterior nos dimos cuenta que existe una categoría llamada 'HECHO NO DELICTIVO', así que eliminamos las filas que la contengan, ya que solo nos\n",
        "# interesan los crimenes. Tabién reseteamos el índice una vez más:\n",
        "df_casting = df_casting.loc[df_casting['categoria_delito'] != 'HECHO NO DELICTIVO']\n",
        "df_casting.reset_index(inplace=True)\n",
        "df_casting.head(3)"
      ],
      "execution_count": null,
      "outputs": [
        {
          "output_type": "execute_result",
          "data": {
            "text/html": [
              "<div>\n",
              "<style scoped>\n",
              "    .dataframe tbody tr th:only-of-type {\n",
              "        vertical-align: middle;\n",
              "    }\n",
              "\n",
              "    .dataframe tbody tr th {\n",
              "        vertical-align: top;\n",
              "    }\n",
              "\n",
              "    .dataframe thead th {\n",
              "        text-align: right;\n",
              "    }\n",
              "</style>\n",
              "<table border=\"1\" class=\"dataframe\">\n",
              "  <thead>\n",
              "    <tr style=\"text-align: right;\">\n",
              "      <th></th>\n",
              "      <th>index</th>\n",
              "      <th>ao_hechos</th>\n",
              "      <th>mes_hechos</th>\n",
              "      <th>fecha_hechos</th>\n",
              "      <th>ao_inicio</th>\n",
              "      <th>mes_inicio</th>\n",
              "      <th>fecha_inicio</th>\n",
              "      <th>delito</th>\n",
              "      <th>fiscalia</th>\n",
              "      <th>categoria_delito</th>\n",
              "      <th>colonia_hechos</th>\n",
              "      <th>alcaldia_hechos</th>\n",
              "      <th>longitud</th>\n",
              "      <th>latitud</th>\n",
              "      <th>alcaldia</th>\n",
              "      <th>_id</th>\n",
              "      <th>id</th>\n",
              "    </tr>\n",
              "  </thead>\n",
              "  <tbody>\n",
              "    <tr>\n",
              "      <th>0</th>\n",
              "      <td>0</td>\n",
              "      <td>2016</td>\n",
              "      <td>Enero</td>\n",
              "      <td>2016-01-31 22:16:00</td>\n",
              "      <td>2016</td>\n",
              "      <td>Febrero</td>\n",
              "      <td>2016-02-01 00:25:44</td>\n",
              "      <td>DAÑO EN PROPIEDAD AJENA INTENCIONAL</td>\n",
              "      <td>INVESTIGACIÓN EN BENITO JUÁREZ</td>\n",
              "      <td>DELITO DE BAJO IMPACTO</td>\n",
              "      <td>AMÉRICAS UNIDAS</td>\n",
              "      <td>BENITO JUAREZ</td>\n",
              "      <td>-99.140215</td>\n",
              "      <td>19.380315</td>\n",
              "      <td>BENITO JUAREZ</td>\n",
              "      <td>12</td>\n",
              "      <td>11</td>\n",
              "    </tr>\n",
              "    <tr>\n",
              "      <th>1</th>\n",
              "      <td>1</td>\n",
              "      <td>2016</td>\n",
              "      <td>Enero</td>\n",
              "      <td>2016-01-20 06:40:00</td>\n",
              "      <td>2016</td>\n",
              "      <td>Febrero</td>\n",
              "      <td>2016-02-01 10:45:56</td>\n",
              "      <td>AMENAZAS</td>\n",
              "      <td>INVESTIGACIÓN EN BENITO JUÁREZ</td>\n",
              "      <td>DELITO DE BAJO IMPACTO</td>\n",
              "      <td>INSURGENTES MIXCOAC</td>\n",
              "      <td>BENITO JUAREZ</td>\n",
              "      <td>-99.185634</td>\n",
              "      <td>19.374920</td>\n",
              "      <td>BENITO JUAREZ</td>\n",
              "      <td>12</td>\n",
              "      <td>11</td>\n",
              "    </tr>\n",
              "    <tr>\n",
              "      <th>2</th>\n",
              "      <td>2</td>\n",
              "      <td>2016</td>\n",
              "      <td>Enero</td>\n",
              "      <td>2016-01-30 19:00:00</td>\n",
              "      <td>2016</td>\n",
              "      <td>Febrero</td>\n",
              "      <td>2016-02-01 10:58:25</td>\n",
              "      <td>ROBO A PASAJERO A BORDO DE METROBUS SIN VIOLENCIA</td>\n",
              "      <td>INVESTIGACIÓN EN BENITO JUÁREZ</td>\n",
              "      <td>DELITO DE BAJO IMPACTO</td>\n",
              "      <td>NARVARTE</td>\n",
              "      <td>BENITO JUAREZ</td>\n",
              "      <td>-99.146040</td>\n",
              "      <td>19.395372</td>\n",
              "      <td>BENITO JUAREZ</td>\n",
              "      <td>12</td>\n",
              "      <td>11</td>\n",
              "    </tr>\n",
              "  </tbody>\n",
              "</table>\n",
              "</div>"
            ],
            "text/plain": [
              "   index  ao_hechos mes_hechos  ...       alcaldia  _id  id\n",
              "0      0       2016      Enero  ...  BENITO JUAREZ   12  11\n",
              "1      1       2016      Enero  ...  BENITO JUAREZ   12  11\n",
              "2      2       2016      Enero  ...  BENITO JUAREZ   12  11\n",
              "\n",
              "[3 rows x 17 columns]"
            ]
          },
          "metadata": {
            "tags": []
          },
          "execution_count": 24
        }
      ]
    },
    {
      "cell_type": "code",
      "metadata": {
        "colab": {
          "base_uri": "https://localhost:8080/",
          "height": 949
        },
        "id": "4ZaXeK-xgO5I",
        "outputId": "1b19a6d1-7b6b-4dce-f1c9-4b9734685428"
      },
      "source": [
        "# Observamos que apareció una columna nueva 'index', por lo que la eliminamos:\n",
        "df_casting=df_casting.drop(columns='index')\n",
        "df_casting"
      ],
      "execution_count": null,
      "outputs": [
        {
          "output_type": "execute_result",
          "data": {
            "text/html": [
              "<div>\n",
              "<style scoped>\n",
              "    .dataframe tbody tr th:only-of-type {\n",
              "        vertical-align: middle;\n",
              "    }\n",
              "\n",
              "    .dataframe tbody tr th {\n",
              "        vertical-align: top;\n",
              "    }\n",
              "\n",
              "    .dataframe thead th {\n",
              "        text-align: right;\n",
              "    }\n",
              "</style>\n",
              "<table border=\"1\" class=\"dataframe\">\n",
              "  <thead>\n",
              "    <tr style=\"text-align: right;\">\n",
              "      <th></th>\n",
              "      <th>ao_hechos</th>\n",
              "      <th>mes_hechos</th>\n",
              "      <th>fecha_hechos</th>\n",
              "      <th>ao_inicio</th>\n",
              "      <th>mes_inicio</th>\n",
              "      <th>fecha_inicio</th>\n",
              "      <th>delito</th>\n",
              "      <th>fiscalia</th>\n",
              "      <th>categoria_delito</th>\n",
              "      <th>colonia_hechos</th>\n",
              "      <th>alcaldia_hechos</th>\n",
              "      <th>longitud</th>\n",
              "      <th>latitud</th>\n",
              "      <th>alcaldia</th>\n",
              "      <th>_id</th>\n",
              "      <th>id</th>\n",
              "    </tr>\n",
              "  </thead>\n",
              "  <tbody>\n",
              "    <tr>\n",
              "      <th>0</th>\n",
              "      <td>2016</td>\n",
              "      <td>Enero</td>\n",
              "      <td>2016-01-31 22:16:00</td>\n",
              "      <td>2016</td>\n",
              "      <td>Febrero</td>\n",
              "      <td>2016-02-01 00:25:44</td>\n",
              "      <td>DAÑO EN PROPIEDAD AJENA INTENCIONAL</td>\n",
              "      <td>INVESTIGACIÓN EN BENITO JUÁREZ</td>\n",
              "      <td>DELITO DE BAJO IMPACTO</td>\n",
              "      <td>AMÉRICAS UNIDAS</td>\n",
              "      <td>BENITO JUAREZ</td>\n",
              "      <td>-99.140215</td>\n",
              "      <td>19.380315</td>\n",
              "      <td>BENITO JUAREZ</td>\n",
              "      <td>12</td>\n",
              "      <td>11</td>\n",
              "    </tr>\n",
              "    <tr>\n",
              "      <th>1</th>\n",
              "      <td>2016</td>\n",
              "      <td>Enero</td>\n",
              "      <td>2016-01-20 06:40:00</td>\n",
              "      <td>2016</td>\n",
              "      <td>Febrero</td>\n",
              "      <td>2016-02-01 10:45:56</td>\n",
              "      <td>AMENAZAS</td>\n",
              "      <td>INVESTIGACIÓN EN BENITO JUÁREZ</td>\n",
              "      <td>DELITO DE BAJO IMPACTO</td>\n",
              "      <td>INSURGENTES MIXCOAC</td>\n",
              "      <td>BENITO JUAREZ</td>\n",
              "      <td>-99.185634</td>\n",
              "      <td>19.374920</td>\n",
              "      <td>BENITO JUAREZ</td>\n",
              "      <td>12</td>\n",
              "      <td>11</td>\n",
              "    </tr>\n",
              "    <tr>\n",
              "      <th>2</th>\n",
              "      <td>2016</td>\n",
              "      <td>Enero</td>\n",
              "      <td>2016-01-30 19:00:00</td>\n",
              "      <td>2016</td>\n",
              "      <td>Febrero</td>\n",
              "      <td>2016-02-01 10:58:25</td>\n",
              "      <td>ROBO A PASAJERO A BORDO DE METROBUS SIN VIOLENCIA</td>\n",
              "      <td>INVESTIGACIÓN EN BENITO JUÁREZ</td>\n",
              "      <td>DELITO DE BAJO IMPACTO</td>\n",
              "      <td>NARVARTE</td>\n",
              "      <td>BENITO JUAREZ</td>\n",
              "      <td>-99.146040</td>\n",
              "      <td>19.395372</td>\n",
              "      <td>BENITO JUAREZ</td>\n",
              "      <td>12</td>\n",
              "      <td>11</td>\n",
              "    </tr>\n",
              "    <tr>\n",
              "      <th>3</th>\n",
              "      <td>2016</td>\n",
              "      <td>Enero</td>\n",
              "      <td>2016-01-03 12:00:00</td>\n",
              "      <td>2016</td>\n",
              "      <td>Febrero</td>\n",
              "      <td>2016-02-01 11:53:02</td>\n",
              "      <td>AMENAZAS</td>\n",
              "      <td>INVESTIGACIÓN EN BENITO JUÁREZ</td>\n",
              "      <td>DELITO DE BAJO IMPACTO</td>\n",
              "      <td>TLACOQUEMECATL</td>\n",
              "      <td>BENITO JUAREZ</td>\n",
              "      <td>-99.173159</td>\n",
              "      <td>19.376541</td>\n",
              "      <td>BENITO JUAREZ</td>\n",
              "      <td>12</td>\n",
              "      <td>11</td>\n",
              "    </tr>\n",
              "    <tr>\n",
              "      <th>4</th>\n",
              "      <td>2016</td>\n",
              "      <td>Enero</td>\n",
              "      <td>2016-01-18 11:00:00</td>\n",
              "      <td>2016</td>\n",
              "      <td>Febrero</td>\n",
              "      <td>2016-02-01 13:59:03</td>\n",
              "      <td>ROBO DE OBJETOS</td>\n",
              "      <td>INVESTIGACIÓN EN BENITO JUÁREZ</td>\n",
              "      <td>DELITO DE BAJO IMPACTO</td>\n",
              "      <td>GENERAL PEDRO MARIA ANAYA</td>\n",
              "      <td>BENITO JUAREZ</td>\n",
              "      <td>-99.153681</td>\n",
              "      <td>19.359361</td>\n",
              "      <td>BENITO JUAREZ</td>\n",
              "      <td>12</td>\n",
              "      <td>11</td>\n",
              "    </tr>\n",
              "    <tr>\n",
              "      <th>...</th>\n",
              "      <td>...</td>\n",
              "      <td>...</td>\n",
              "      <td>...</td>\n",
              "      <td>...</td>\n",
              "      <td>...</td>\n",
              "      <td>...</td>\n",
              "      <td>...</td>\n",
              "      <td>...</td>\n",
              "      <td>...</td>\n",
              "      <td>...</td>\n",
              "      <td>...</td>\n",
              "      <td>...</td>\n",
              "      <td>...</td>\n",
              "      <td>...</td>\n",
              "      <td>...</td>\n",
              "      <td>...</td>\n",
              "    </tr>\n",
              "    <tr>\n",
              "      <th>1125123</th>\n",
              "      <td>2021</td>\n",
              "      <td>Junio</td>\n",
              "      <td>2021-06-30 07:00:00</td>\n",
              "      <td>2021</td>\n",
              "      <td>Junio</td>\n",
              "      <td>2021-06-30 13:04:14</td>\n",
              "      <td>ROBO DE VEHICULO DE SERVICIO PARTICULAR SIN VI...</td>\n",
              "      <td>FISCALÍA DE INVESTIGACIÓN TERRITORIAL EN MILPA...</td>\n",
              "      <td>ROBO DE VEHÍCULO CON Y SIN VIOLENCIA</td>\n",
              "      <td>SAN MIGUEL (SANTA ANA TLACOTENCO)</td>\n",
              "      <td>MILPA ALTA</td>\n",
              "      <td>-99.000669</td>\n",
              "      <td>19.176022</td>\n",
              "      <td>MILPA ALTA</td>\n",
              "      <td>10</td>\n",
              "      <td>9</td>\n",
              "    </tr>\n",
              "    <tr>\n",
              "      <th>1125124</th>\n",
              "      <td>2021</td>\n",
              "      <td>Junio</td>\n",
              "      <td>2021-06-30 07:44:00</td>\n",
              "      <td>2021</td>\n",
              "      <td>Junio</td>\n",
              "      <td>2021-06-30 15:01:21</td>\n",
              "      <td>VIOLENCIA FAMILIAR</td>\n",
              "      <td>FISCALÍA DE INVESTIGACIÓN DEL DELITO DE VIOLEN...</td>\n",
              "      <td>DELITO DE BAJO IMPACTO</td>\n",
              "      <td>TENANTITLA (SAN ANTONIO TECOMITL)</td>\n",
              "      <td>MILPA ALTA</td>\n",
              "      <td>-98.994570</td>\n",
              "      <td>19.218738</td>\n",
              "      <td>MILPA ALTA</td>\n",
              "      <td>10</td>\n",
              "      <td>9</td>\n",
              "    </tr>\n",
              "    <tr>\n",
              "      <th>1125125</th>\n",
              "      <td>2021</td>\n",
              "      <td>Junio</td>\n",
              "      <td>2021-06-30 17:50:00</td>\n",
              "      <td>2021</td>\n",
              "      <td>Junio</td>\n",
              "      <td>2021-06-30 18:16:49</td>\n",
              "      <td>NARCOMENUDEO POSESION SIMPLE</td>\n",
              "      <td>FISCALÍA DE INVESTIGACIÓN TERRITORIAL EN MILPA...</td>\n",
              "      <td>DELITO DE BAJO IMPACTO</td>\n",
              "      <td>SANTA CRUZ (VILLA MILPA ALTA)</td>\n",
              "      <td>MILPA ALTA</td>\n",
              "      <td>-99.008165</td>\n",
              "      <td>19.200833</td>\n",
              "      <td>MILPA ALTA</td>\n",
              "      <td>10</td>\n",
              "      <td>9</td>\n",
              "    </tr>\n",
              "    <tr>\n",
              "      <th>1125126</th>\n",
              "      <td>2021</td>\n",
              "      <td>Junio</td>\n",
              "      <td>2021-06-30 18:00:00</td>\n",
              "      <td>2021</td>\n",
              "      <td>Junio</td>\n",
              "      <td>2021-06-30 21:15:38</td>\n",
              "      <td>AMENAZAS</td>\n",
              "      <td>FISCALÍA DE INVESTIGACIÓN TERRITORIAL EN MILPA...</td>\n",
              "      <td>DELITO DE BAJO IMPACTO</td>\n",
              "      <td>SAN FRANCISCO TECOXPA</td>\n",
              "      <td>MILPA ALTA</td>\n",
              "      <td>-99.006776</td>\n",
              "      <td>19.203545</td>\n",
              "      <td>MILPA ALTA</td>\n",
              "      <td>10</td>\n",
              "      <td>9</td>\n",
              "    </tr>\n",
              "    <tr>\n",
              "      <th>1125127</th>\n",
              "      <td>2021</td>\n",
              "      <td>Junio</td>\n",
              "      <td>2021-06-29 17:00:00</td>\n",
              "      <td>2021</td>\n",
              "      <td>Junio</td>\n",
              "      <td>2021-06-30 23:32:31</td>\n",
              "      <td>LESIONES CULPOSAS POR TRANSITO VEHICULAR EN CO...</td>\n",
              "      <td>FISCALÍA DE INVESTIGACIÓN TERRITORIAL EN MILPA...</td>\n",
              "      <td>DELITO DE BAJO IMPACTO</td>\n",
              "      <td>SAN MARCOS (SANTA ANA TLACOTENCO)</td>\n",
              "      <td>MILPA ALTA</td>\n",
              "      <td>-98.992460</td>\n",
              "      <td>19.168371</td>\n",
              "      <td>MILPA ALTA</td>\n",
              "      <td>10</td>\n",
              "      <td>9</td>\n",
              "    </tr>\n",
              "  </tbody>\n",
              "</table>\n",
              "<p>1125128 rows × 16 columns</p>\n",
              "</div>"
            ],
            "text/plain": [
              "         ao_hechos mes_hechos        fecha_hechos  ...       alcaldia _id  id\n",
              "0             2016      Enero 2016-01-31 22:16:00  ...  BENITO JUAREZ  12  11\n",
              "1             2016      Enero 2016-01-20 06:40:00  ...  BENITO JUAREZ  12  11\n",
              "2             2016      Enero 2016-01-30 19:00:00  ...  BENITO JUAREZ  12  11\n",
              "3             2016      Enero 2016-01-03 12:00:00  ...  BENITO JUAREZ  12  11\n",
              "4             2016      Enero 2016-01-18 11:00:00  ...  BENITO JUAREZ  12  11\n",
              "...            ...        ...                 ...  ...            ...  ..  ..\n",
              "1125123       2021      Junio 2021-06-30 07:00:00  ...     MILPA ALTA  10   9\n",
              "1125124       2021      Junio 2021-06-30 07:44:00  ...     MILPA ALTA  10   9\n",
              "1125125       2021      Junio 2021-06-30 17:50:00  ...     MILPA ALTA  10   9\n",
              "1125126       2021      Junio 2021-06-30 18:00:00  ...     MILPA ALTA  10   9\n",
              "1125127       2021      Junio 2021-06-29 17:00:00  ...     MILPA ALTA  10   9\n",
              "\n",
              "[1125128 rows x 16 columns]"
            ]
          },
          "metadata": {
            "tags": []
          },
          "execution_count": 25
        }
      ]
    },
    {
      "cell_type": "code",
      "metadata": {
        "colab": {
          "base_uri": "https://localhost:8080/",
          "height": 545
        },
        "id": "HQXa9WziTj6T",
        "outputId": "2295dc72-e44c-499a-cdce-a4155e2c5958"
      },
      "source": [
        "# Y ahora si respondemos a la pregunta 1:\n",
        "pregunta_1 = df_casting.groupby('categoria_delito')[\"ao_hechos\"].count().reset_index().rename(columns={\"ao_hechos\": \"total\"})\n",
        "pregunta_1.sort_values(\"total\", ascending=False)"
      ],
      "execution_count": null,
      "outputs": [
        {
          "output_type": "execute_result",
          "data": {
            "text/html": [
              "<div>\n",
              "<style scoped>\n",
              "    .dataframe tbody tr th:only-of-type {\n",
              "        vertical-align: middle;\n",
              "    }\n",
              "\n",
              "    .dataframe tbody tr th {\n",
              "        vertical-align: top;\n",
              "    }\n",
              "\n",
              "    .dataframe thead th {\n",
              "        text-align: right;\n",
              "    }\n",
              "</style>\n",
              "<table border=\"1\" class=\"dataframe\">\n",
              "  <thead>\n",
              "    <tr style=\"text-align: right;\">\n",
              "      <th></th>\n",
              "      <th>categoria_delito</th>\n",
              "      <th>total</th>\n",
              "    </tr>\n",
              "  </thead>\n",
              "  <tbody>\n",
              "    <tr>\n",
              "      <th>0</th>\n",
              "      <td>DELITO DE BAJO IMPACTO</td>\n",
              "      <td>921314</td>\n",
              "    </tr>\n",
              "    <tr>\n",
              "      <th>11</th>\n",
              "      <td>ROBO A TRANSEUNTE EN VÍA PÚBLICA CON Y SIN VIO...</td>\n",
              "      <td>69745</td>\n",
              "    </tr>\n",
              "    <tr>\n",
              "      <th>13</th>\n",
              "      <td>ROBO DE VEHÍCULO CON Y SIN VIOLENCIA</td>\n",
              "      <td>63368</td>\n",
              "    </tr>\n",
              "    <tr>\n",
              "      <th>6</th>\n",
              "      <td>ROBO A NEGOCIO CON VIOLENCIA</td>\n",
              "      <td>20250</td>\n",
              "    </tr>\n",
              "    <tr>\n",
              "      <th>10</th>\n",
              "      <td>ROBO A REPARTIDOR CON Y SIN VIOLENCIA</td>\n",
              "      <td>12586</td>\n",
              "    </tr>\n",
              "    <tr>\n",
              "      <th>9</th>\n",
              "      <td>ROBO A PASAJERO A BORDO DEL METRO CON Y SIN VI...</td>\n",
              "      <td>11046</td>\n",
              "    </tr>\n",
              "    <tr>\n",
              "      <th>2</th>\n",
              "      <td>HOMICIDIO DOLOSO</td>\n",
              "      <td>6096</td>\n",
              "    </tr>\n",
              "    <tr>\n",
              "      <th>15</th>\n",
              "      <td>VIOLACIÓN</td>\n",
              "      <td>4973</td>\n",
              "    </tr>\n",
              "    <tr>\n",
              "      <th>3</th>\n",
              "      <td>LESIONES DOLOSAS POR DISPARO DE ARMA DE FUEGO</td>\n",
              "      <td>4339</td>\n",
              "    </tr>\n",
              "    <tr>\n",
              "      <th>7</th>\n",
              "      <td>ROBO A PASAJERO A BORDO DE MICROBUS CON Y SIN ...</td>\n",
              "      <td>4043</td>\n",
              "    </tr>\n",
              "    <tr>\n",
              "      <th>4</th>\n",
              "      <td>ROBO A CASA HABITACIÓN CON VIOLENCIA</td>\n",
              "      <td>3111</td>\n",
              "    </tr>\n",
              "    <tr>\n",
              "      <th>5</th>\n",
              "      <td>ROBO A CUENTAHABIENTE SALIENDO DEL CAJERO CON ...</td>\n",
              "      <td>2293</td>\n",
              "    </tr>\n",
              "    <tr>\n",
              "      <th>8</th>\n",
              "      <td>ROBO A PASAJERO A BORDO DE TAXI CON VIOLENCIA</td>\n",
              "      <td>1181</td>\n",
              "    </tr>\n",
              "    <tr>\n",
              "      <th>12</th>\n",
              "      <td>ROBO A TRANSPORTISTA CON Y SIN VIOLENCIA</td>\n",
              "      <td>606</td>\n",
              "    </tr>\n",
              "    <tr>\n",
              "      <th>14</th>\n",
              "      <td>SECUESTRO</td>\n",
              "      <td>176</td>\n",
              "    </tr>\n",
              "    <tr>\n",
              "      <th>1</th>\n",
              "      <td>FEMINICIDIO</td>\n",
              "      <td>1</td>\n",
              "    </tr>\n",
              "  </tbody>\n",
              "</table>\n",
              "</div>"
            ],
            "text/plain": [
              "                                     categoria_delito   total\n",
              "0                              DELITO DE BAJO IMPACTO  921314\n",
              "11  ROBO A TRANSEUNTE EN VÍA PÚBLICA CON Y SIN VIO...   69745\n",
              "13               ROBO DE VEHÍCULO CON Y SIN VIOLENCIA   63368\n",
              "6                        ROBO A NEGOCIO CON VIOLENCIA   20250\n",
              "10              ROBO A REPARTIDOR CON Y SIN VIOLENCIA   12586\n",
              "9   ROBO A PASAJERO A BORDO DEL METRO CON Y SIN VI...   11046\n",
              "2                                    HOMICIDIO DOLOSO    6096\n",
              "15                                          VIOLACIÓN    4973\n",
              "3       LESIONES DOLOSAS POR DISPARO DE ARMA DE FUEGO    4339\n",
              "7   ROBO A PASAJERO A BORDO DE MICROBUS CON Y SIN ...    4043\n",
              "4                ROBO A CASA HABITACIÓN CON VIOLENCIA    3111\n",
              "5   ROBO A CUENTAHABIENTE SALIENDO DEL CAJERO CON ...    2293\n",
              "8       ROBO A PASAJERO A BORDO DE TAXI CON VIOLENCIA    1181\n",
              "12           ROBO A TRANSPORTISTA CON Y SIN VIOLENCIA     606\n",
              "14                                          SECUESTRO     176\n",
              "1                                         FEMINICIDIO       1"
            ]
          },
          "metadata": {
            "tags": []
          },
          "execution_count": 26
        }
      ]
    },
    {
      "cell_type": "code",
      "metadata": {
        "colab": {
          "base_uri": "https://localhost:8080/",
          "height": 542
        },
        "id": "i2Aku-PWzOOc",
        "outputId": "a0e20f45-0f2e-4251-a1dd-ac6906ac321b"
      },
      "source": [
        "# grafico de pregunta 1\n",
        "fig_p1 = px.bar(pregunta_1, y=\"categoria_delito\", x=\"total\", orientation='h', color=\"categoria_delito\", text=\"total\")\n",
        "fig_p1.update_layout(yaxis={'categoryorder':'total ascending'}, showlegend=False)\n",
        "fig_p1.show()"
      ],
      "execution_count": null,
      "outputs": [
        {
          "output_type": "display_data",
          "data": {
            "text/html": [
              "<html>\n",
              "<head><meta charset=\"utf-8\" /></head>\n",
              "<body>\n",
              "    <div>            <script src=\"https://cdnjs.cloudflare.com/ajax/libs/mathjax/2.7.5/MathJax.js?config=TeX-AMS-MML_SVG\"></script><script type=\"text/javascript\">if (window.MathJax) {MathJax.Hub.Config({SVG: {font: \"STIX-Web\"}});}</script>                <script type=\"text/javascript\">window.PlotlyConfig = {MathJaxConfig: 'local'};</script>\n",
              "        <script src=\"https://cdn.plot.ly/plotly-2.2.0.min.js\"></script>                <div id=\"d3b4ec3c-7185-43b4-a961-14bfab8c2227\" class=\"plotly-graph-div\" style=\"height:525px; width:100%;\"></div>            <script type=\"text/javascript\">                                    window.PLOTLYENV=window.PLOTLYENV || {};                                    if (document.getElementById(\"d3b4ec3c-7185-43b4-a961-14bfab8c2227\")) {                    Plotly.newPlot(                        \"d3b4ec3c-7185-43b4-a961-14bfab8c2227\",                        [{\"alignmentgroup\":\"True\",\"hovertemplate\":\"categoria_delito=%{y}<br>total=%{text}<extra></extra>\",\"legendgroup\":\"DELITO DE BAJO IMPACTO\",\"marker\":{\"color\":\"#636efa\",\"pattern\":{\"shape\":\"\"}},\"name\":\"DELITO DE BAJO IMPACTO\",\"offsetgroup\":\"DELITO DE BAJO IMPACTO\",\"orientation\":\"h\",\"showlegend\":true,\"text\":[\"921314\"],\"textposition\":\"auto\",\"type\":\"bar\",\"x\":[921314],\"xaxis\":\"x\",\"y\":[\"DELITO DE BAJO IMPACTO\"],\"yaxis\":\"y\"},{\"alignmentgroup\":\"True\",\"hovertemplate\":\"categoria_delito=%{y}<br>total=%{text}<extra></extra>\",\"legendgroup\":\"FEMINICIDIO\",\"marker\":{\"color\":\"#EF553B\",\"pattern\":{\"shape\":\"\"}},\"name\":\"FEMINICIDIO\",\"offsetgroup\":\"FEMINICIDIO\",\"orientation\":\"h\",\"showlegend\":true,\"text\":[\"1\"],\"textposition\":\"auto\",\"type\":\"bar\",\"x\":[1],\"xaxis\":\"x\",\"y\":[\"FEMINICIDIO\"],\"yaxis\":\"y\"},{\"alignmentgroup\":\"True\",\"hovertemplate\":\"categoria_delito=%{y}<br>total=%{text}<extra></extra>\",\"legendgroup\":\"HOMICIDIO DOLOSO\",\"marker\":{\"color\":\"#00cc96\",\"pattern\":{\"shape\":\"\"}},\"name\":\"HOMICIDIO DOLOSO\",\"offsetgroup\":\"HOMICIDIO DOLOSO\",\"orientation\":\"h\",\"showlegend\":true,\"text\":[\"6096\"],\"textposition\":\"auto\",\"type\":\"bar\",\"x\":[6096],\"xaxis\":\"x\",\"y\":[\"HOMICIDIO DOLOSO\"],\"yaxis\":\"y\"},{\"alignmentgroup\":\"True\",\"hovertemplate\":\"categoria_delito=%{y}<br>total=%{text}<extra></extra>\",\"legendgroup\":\"LESIONES DOLOSAS POR DISPARO DE ARMA DE FUEGO\",\"marker\":{\"color\":\"#ab63fa\",\"pattern\":{\"shape\":\"\"}},\"name\":\"LESIONES DOLOSAS POR DISPARO DE ARMA DE FUEGO\",\"offsetgroup\":\"LESIONES DOLOSAS POR DISPARO DE ARMA DE FUEGO\",\"orientation\":\"h\",\"showlegend\":true,\"text\":[\"4339\"],\"textposition\":\"auto\",\"type\":\"bar\",\"x\":[4339],\"xaxis\":\"x\",\"y\":[\"LESIONES DOLOSAS POR DISPARO DE ARMA DE FUEGO\"],\"yaxis\":\"y\"},{\"alignmentgroup\":\"True\",\"hovertemplate\":\"categoria_delito=%{y}<br>total=%{text}<extra></extra>\",\"legendgroup\":\"ROBO A CASA HABITACI\\u00d3N CON VIOLENCIA\",\"marker\":{\"color\":\"#FFA15A\",\"pattern\":{\"shape\":\"\"}},\"name\":\"ROBO A CASA HABITACI\\u00d3N CON VIOLENCIA\",\"offsetgroup\":\"ROBO A CASA HABITACI\\u00d3N CON VIOLENCIA\",\"orientation\":\"h\",\"showlegend\":true,\"text\":[\"3111\"],\"textposition\":\"auto\",\"type\":\"bar\",\"x\":[3111],\"xaxis\":\"x\",\"y\":[\"ROBO A CASA HABITACI\\u00d3N CON VIOLENCIA\"],\"yaxis\":\"y\"},{\"alignmentgroup\":\"True\",\"hovertemplate\":\"categoria_delito=%{y}<br>total=%{text}<extra></extra>\",\"legendgroup\":\"ROBO A CUENTAHABIENTE SALIENDO DEL CAJERO CON VIOLENCIA\",\"marker\":{\"color\":\"#19d3f3\",\"pattern\":{\"shape\":\"\"}},\"name\":\"ROBO A CUENTAHABIENTE SALIENDO DEL CAJERO CON VIOLENCIA\",\"offsetgroup\":\"ROBO A CUENTAHABIENTE SALIENDO DEL CAJERO CON VIOLENCIA\",\"orientation\":\"h\",\"showlegend\":true,\"text\":[\"2293\"],\"textposition\":\"auto\",\"type\":\"bar\",\"x\":[2293],\"xaxis\":\"x\",\"y\":[\"ROBO A CUENTAHABIENTE SALIENDO DEL CAJERO CON VIOLENCIA\"],\"yaxis\":\"y\"},{\"alignmentgroup\":\"True\",\"hovertemplate\":\"categoria_delito=%{y}<br>total=%{text}<extra></extra>\",\"legendgroup\":\"ROBO A NEGOCIO CON VIOLENCIA\",\"marker\":{\"color\":\"#FF6692\",\"pattern\":{\"shape\":\"\"}},\"name\":\"ROBO A NEGOCIO CON VIOLENCIA\",\"offsetgroup\":\"ROBO A NEGOCIO CON VIOLENCIA\",\"orientation\":\"h\",\"showlegend\":true,\"text\":[\"20250\"],\"textposition\":\"auto\",\"type\":\"bar\",\"x\":[20250],\"xaxis\":\"x\",\"y\":[\"ROBO A NEGOCIO CON VIOLENCIA\"],\"yaxis\":\"y\"},{\"alignmentgroup\":\"True\",\"hovertemplate\":\"categoria_delito=%{y}<br>total=%{text}<extra></extra>\",\"legendgroup\":\"ROBO A PASAJERO A BORDO DE MICROBUS CON Y SIN VIOLENCIA\",\"marker\":{\"color\":\"#B6E880\",\"pattern\":{\"shape\":\"\"}},\"name\":\"ROBO A PASAJERO A BORDO DE MICROBUS CON Y SIN VIOLENCIA\",\"offsetgroup\":\"ROBO A PASAJERO A BORDO DE MICROBUS CON Y SIN VIOLENCIA\",\"orientation\":\"h\",\"showlegend\":true,\"text\":[\"4043\"],\"textposition\":\"auto\",\"type\":\"bar\",\"x\":[4043],\"xaxis\":\"x\",\"y\":[\"ROBO A PASAJERO A BORDO DE MICROBUS CON Y SIN VIOLENCIA\"],\"yaxis\":\"y\"},{\"alignmentgroup\":\"True\",\"hovertemplate\":\"categoria_delito=%{y}<br>total=%{text}<extra></extra>\",\"legendgroup\":\"ROBO A PASAJERO A BORDO DE TAXI CON VIOLENCIA\",\"marker\":{\"color\":\"#FF97FF\",\"pattern\":{\"shape\":\"\"}},\"name\":\"ROBO A PASAJERO A BORDO DE TAXI CON VIOLENCIA\",\"offsetgroup\":\"ROBO A PASAJERO A BORDO DE TAXI CON VIOLENCIA\",\"orientation\":\"h\",\"showlegend\":true,\"text\":[\"1181\"],\"textposition\":\"auto\",\"type\":\"bar\",\"x\":[1181],\"xaxis\":\"x\",\"y\":[\"ROBO A PASAJERO A BORDO DE TAXI CON VIOLENCIA\"],\"yaxis\":\"y\"},{\"alignmentgroup\":\"True\",\"hovertemplate\":\"categoria_delito=%{y}<br>total=%{text}<extra></extra>\",\"legendgroup\":\"ROBO A PASAJERO A BORDO DEL METRO CON Y SIN VIOLENCIA\",\"marker\":{\"color\":\"#FECB52\",\"pattern\":{\"shape\":\"\"}},\"name\":\"ROBO A PASAJERO A BORDO DEL METRO CON Y SIN VIOLENCIA\",\"offsetgroup\":\"ROBO A PASAJERO A BORDO DEL METRO CON Y SIN VIOLENCIA\",\"orientation\":\"h\",\"showlegend\":true,\"text\":[\"11046\"],\"textposition\":\"auto\",\"type\":\"bar\",\"x\":[11046],\"xaxis\":\"x\",\"y\":[\"ROBO A PASAJERO A BORDO DEL METRO CON Y SIN VIOLENCIA\"],\"yaxis\":\"y\"},{\"alignmentgroup\":\"True\",\"hovertemplate\":\"categoria_delito=%{y}<br>total=%{text}<extra></extra>\",\"legendgroup\":\"ROBO A REPARTIDOR CON Y SIN VIOLENCIA\",\"marker\":{\"color\":\"#636efa\",\"pattern\":{\"shape\":\"\"}},\"name\":\"ROBO A REPARTIDOR CON Y SIN VIOLENCIA\",\"offsetgroup\":\"ROBO A REPARTIDOR CON Y SIN VIOLENCIA\",\"orientation\":\"h\",\"showlegend\":true,\"text\":[\"12586\"],\"textposition\":\"auto\",\"type\":\"bar\",\"x\":[12586],\"xaxis\":\"x\",\"y\":[\"ROBO A REPARTIDOR CON Y SIN VIOLENCIA\"],\"yaxis\":\"y\"},{\"alignmentgroup\":\"True\",\"hovertemplate\":\"categoria_delito=%{y}<br>total=%{text}<extra></extra>\",\"legendgroup\":\"ROBO A TRANSEUNTE EN V\\u00cdA P\\u00daBLICA CON Y SIN VIOLENCIA\",\"marker\":{\"color\":\"#EF553B\",\"pattern\":{\"shape\":\"\"}},\"name\":\"ROBO A TRANSEUNTE EN V\\u00cdA P\\u00daBLICA CON Y SIN VIOLENCIA\",\"offsetgroup\":\"ROBO A TRANSEUNTE EN V\\u00cdA P\\u00daBLICA CON Y SIN VIOLENCIA\",\"orientation\":\"h\",\"showlegend\":true,\"text\":[\"69745\"],\"textposition\":\"auto\",\"type\":\"bar\",\"x\":[69745],\"xaxis\":\"x\",\"y\":[\"ROBO A TRANSEUNTE EN V\\u00cdA P\\u00daBLICA CON Y SIN VIOLENCIA\"],\"yaxis\":\"y\"},{\"alignmentgroup\":\"True\",\"hovertemplate\":\"categoria_delito=%{y}<br>total=%{text}<extra></extra>\",\"legendgroup\":\"ROBO A TRANSPORTISTA CON Y SIN VIOLENCIA\",\"marker\":{\"color\":\"#00cc96\",\"pattern\":{\"shape\":\"\"}},\"name\":\"ROBO A TRANSPORTISTA CON Y SIN VIOLENCIA\",\"offsetgroup\":\"ROBO A TRANSPORTISTA CON Y SIN VIOLENCIA\",\"orientation\":\"h\",\"showlegend\":true,\"text\":[\"606\"],\"textposition\":\"auto\",\"type\":\"bar\",\"x\":[606],\"xaxis\":\"x\",\"y\":[\"ROBO A TRANSPORTISTA CON Y SIN VIOLENCIA\"],\"yaxis\":\"y\"},{\"alignmentgroup\":\"True\",\"hovertemplate\":\"categoria_delito=%{y}<br>total=%{text}<extra></extra>\",\"legendgroup\":\"ROBO DE VEH\\u00cdCULO CON Y SIN VIOLENCIA\",\"marker\":{\"color\":\"#ab63fa\",\"pattern\":{\"shape\":\"\"}},\"name\":\"ROBO DE VEH\\u00cdCULO CON Y SIN VIOLENCIA\",\"offsetgroup\":\"ROBO DE VEH\\u00cdCULO CON Y SIN VIOLENCIA\",\"orientation\":\"h\",\"showlegend\":true,\"text\":[\"63368\"],\"textposition\":\"auto\",\"type\":\"bar\",\"x\":[63368],\"xaxis\":\"x\",\"y\":[\"ROBO DE VEH\\u00cdCULO CON Y SIN VIOLENCIA\"],\"yaxis\":\"y\"},{\"alignmentgroup\":\"True\",\"hovertemplate\":\"categoria_delito=%{y}<br>total=%{text}<extra></extra>\",\"legendgroup\":\"SECUESTRO\",\"marker\":{\"color\":\"#FFA15A\",\"pattern\":{\"shape\":\"\"}},\"name\":\"SECUESTRO\",\"offsetgroup\":\"SECUESTRO\",\"orientation\":\"h\",\"showlegend\":true,\"text\":[\"176\"],\"textposition\":\"auto\",\"type\":\"bar\",\"x\":[176],\"xaxis\":\"x\",\"y\":[\"SECUESTRO\"],\"yaxis\":\"y\"},{\"alignmentgroup\":\"True\",\"hovertemplate\":\"categoria_delito=%{y}<br>total=%{text}<extra></extra>\",\"legendgroup\":\"VIOLACI\\u00d3N\",\"marker\":{\"color\":\"#19d3f3\",\"pattern\":{\"shape\":\"\"}},\"name\":\"VIOLACI\\u00d3N\",\"offsetgroup\":\"VIOLACI\\u00d3N\",\"orientation\":\"h\",\"showlegend\":true,\"text\":[\"4973\"],\"textposition\":\"auto\",\"type\":\"bar\",\"x\":[4973],\"xaxis\":\"x\",\"y\":[\"VIOLACI\\u00d3N\"],\"yaxis\":\"y\"}],                        {\"barmode\":\"relative\",\"legend\":{\"title\":{\"text\":\"categoria_delito\"},\"tracegroupgap\":0},\"margin\":{\"t\":60},\"showlegend\":false,\"template\":{\"data\":{\"bar\":[{\"error_x\":{\"color\":\"#2a3f5f\"},\"error_y\":{\"color\":\"#2a3f5f\"},\"marker\":{\"line\":{\"color\":\"#E5ECF6\",\"width\":0.5},\"pattern\":{\"fillmode\":\"overlay\",\"size\":10,\"solidity\":0.2}},\"type\":\"bar\"}],\"barpolar\":[{\"marker\":{\"line\":{\"color\":\"#E5ECF6\",\"width\":0.5},\"pattern\":{\"fillmode\":\"overlay\",\"size\":10,\"solidity\":0.2}},\"type\":\"barpolar\"}],\"carpet\":[{\"aaxis\":{\"endlinecolor\":\"#2a3f5f\",\"gridcolor\":\"white\",\"linecolor\":\"white\",\"minorgridcolor\":\"white\",\"startlinecolor\":\"#2a3f5f\"},\"baxis\":{\"endlinecolor\":\"#2a3f5f\",\"gridcolor\":\"white\",\"linecolor\":\"white\",\"minorgridcolor\":\"white\",\"startlinecolor\":\"#2a3f5f\"},\"type\":\"carpet\"}],\"choropleth\":[{\"colorbar\":{\"outlinewidth\":0,\"ticks\":\"\"},\"type\":\"choropleth\"}],\"contour\":[{\"colorbar\":{\"outlinewidth\":0,\"ticks\":\"\"},\"colorscale\":[[0.0,\"#0d0887\"],[0.1111111111111111,\"#46039f\"],[0.2222222222222222,\"#7201a8\"],[0.3333333333333333,\"#9c179e\"],[0.4444444444444444,\"#bd3786\"],[0.5555555555555556,\"#d8576b\"],[0.6666666666666666,\"#ed7953\"],[0.7777777777777778,\"#fb9f3a\"],[0.8888888888888888,\"#fdca26\"],[1.0,\"#f0f921\"]],\"type\":\"contour\"}],\"contourcarpet\":[{\"colorbar\":{\"outlinewidth\":0,\"ticks\":\"\"},\"type\":\"contourcarpet\"}],\"heatmap\":[{\"colorbar\":{\"outlinewidth\":0,\"ticks\":\"\"},\"colorscale\":[[0.0,\"#0d0887\"],[0.1111111111111111,\"#46039f\"],[0.2222222222222222,\"#7201a8\"],[0.3333333333333333,\"#9c179e\"],[0.4444444444444444,\"#bd3786\"],[0.5555555555555556,\"#d8576b\"],[0.6666666666666666,\"#ed7953\"],[0.7777777777777778,\"#fb9f3a\"],[0.8888888888888888,\"#fdca26\"],[1.0,\"#f0f921\"]],\"type\":\"heatmap\"}],\"heatmapgl\":[{\"colorbar\":{\"outlinewidth\":0,\"ticks\":\"\"},\"colorscale\":[[0.0,\"#0d0887\"],[0.1111111111111111,\"#46039f\"],[0.2222222222222222,\"#7201a8\"],[0.3333333333333333,\"#9c179e\"],[0.4444444444444444,\"#bd3786\"],[0.5555555555555556,\"#d8576b\"],[0.6666666666666666,\"#ed7953\"],[0.7777777777777778,\"#fb9f3a\"],[0.8888888888888888,\"#fdca26\"],[1.0,\"#f0f921\"]],\"type\":\"heatmapgl\"}],\"histogram\":[{\"marker\":{\"pattern\":{\"fillmode\":\"overlay\",\"size\":10,\"solidity\":0.2}},\"type\":\"histogram\"}],\"histogram2d\":[{\"colorbar\":{\"outlinewidth\":0,\"ticks\":\"\"},\"colorscale\":[[0.0,\"#0d0887\"],[0.1111111111111111,\"#46039f\"],[0.2222222222222222,\"#7201a8\"],[0.3333333333333333,\"#9c179e\"],[0.4444444444444444,\"#bd3786\"],[0.5555555555555556,\"#d8576b\"],[0.6666666666666666,\"#ed7953\"],[0.7777777777777778,\"#fb9f3a\"],[0.8888888888888888,\"#fdca26\"],[1.0,\"#f0f921\"]],\"type\":\"histogram2d\"}],\"histogram2dcontour\":[{\"colorbar\":{\"outlinewidth\":0,\"ticks\":\"\"},\"colorscale\":[[0.0,\"#0d0887\"],[0.1111111111111111,\"#46039f\"],[0.2222222222222222,\"#7201a8\"],[0.3333333333333333,\"#9c179e\"],[0.4444444444444444,\"#bd3786\"],[0.5555555555555556,\"#d8576b\"],[0.6666666666666666,\"#ed7953\"],[0.7777777777777778,\"#fb9f3a\"],[0.8888888888888888,\"#fdca26\"],[1.0,\"#f0f921\"]],\"type\":\"histogram2dcontour\"}],\"mesh3d\":[{\"colorbar\":{\"outlinewidth\":0,\"ticks\":\"\"},\"type\":\"mesh3d\"}],\"parcoords\":[{\"line\":{\"colorbar\":{\"outlinewidth\":0,\"ticks\":\"\"}},\"type\":\"parcoords\"}],\"pie\":[{\"automargin\":true,\"type\":\"pie\"}],\"scatter\":[{\"marker\":{\"colorbar\":{\"outlinewidth\":0,\"ticks\":\"\"}},\"type\":\"scatter\"}],\"scatter3d\":[{\"line\":{\"colorbar\":{\"outlinewidth\":0,\"ticks\":\"\"}},\"marker\":{\"colorbar\":{\"outlinewidth\":0,\"ticks\":\"\"}},\"type\":\"scatter3d\"}],\"scattercarpet\":[{\"marker\":{\"colorbar\":{\"outlinewidth\":0,\"ticks\":\"\"}},\"type\":\"scattercarpet\"}],\"scattergeo\":[{\"marker\":{\"colorbar\":{\"outlinewidth\":0,\"ticks\":\"\"}},\"type\":\"scattergeo\"}],\"scattergl\":[{\"marker\":{\"colorbar\":{\"outlinewidth\":0,\"ticks\":\"\"}},\"type\":\"scattergl\"}],\"scattermapbox\":[{\"marker\":{\"colorbar\":{\"outlinewidth\":0,\"ticks\":\"\"}},\"type\":\"scattermapbox\"}],\"scatterpolar\":[{\"marker\":{\"colorbar\":{\"outlinewidth\":0,\"ticks\":\"\"}},\"type\":\"scatterpolar\"}],\"scatterpolargl\":[{\"marker\":{\"colorbar\":{\"outlinewidth\":0,\"ticks\":\"\"}},\"type\":\"scatterpolargl\"}],\"scatterternary\":[{\"marker\":{\"colorbar\":{\"outlinewidth\":0,\"ticks\":\"\"}},\"type\":\"scatterternary\"}],\"surface\":[{\"colorbar\":{\"outlinewidth\":0,\"ticks\":\"\"},\"colorscale\":[[0.0,\"#0d0887\"],[0.1111111111111111,\"#46039f\"],[0.2222222222222222,\"#7201a8\"],[0.3333333333333333,\"#9c179e\"],[0.4444444444444444,\"#bd3786\"],[0.5555555555555556,\"#d8576b\"],[0.6666666666666666,\"#ed7953\"],[0.7777777777777778,\"#fb9f3a\"],[0.8888888888888888,\"#fdca26\"],[1.0,\"#f0f921\"]],\"type\":\"surface\"}],\"table\":[{\"cells\":{\"fill\":{\"color\":\"#EBF0F8\"},\"line\":{\"color\":\"white\"}},\"header\":{\"fill\":{\"color\":\"#C8D4E3\"},\"line\":{\"color\":\"white\"}},\"type\":\"table\"}]},\"layout\":{\"annotationdefaults\":{\"arrowcolor\":\"#2a3f5f\",\"arrowhead\":0,\"arrowwidth\":1},\"autotypenumbers\":\"strict\",\"coloraxis\":{\"colorbar\":{\"outlinewidth\":0,\"ticks\":\"\"}},\"colorscale\":{\"diverging\":[[0,\"#8e0152\"],[0.1,\"#c51b7d\"],[0.2,\"#de77ae\"],[0.3,\"#f1b6da\"],[0.4,\"#fde0ef\"],[0.5,\"#f7f7f7\"],[0.6,\"#e6f5d0\"],[0.7,\"#b8e186\"],[0.8,\"#7fbc41\"],[0.9,\"#4d9221\"],[1,\"#276419\"]],\"sequential\":[[0.0,\"#0d0887\"],[0.1111111111111111,\"#46039f\"],[0.2222222222222222,\"#7201a8\"],[0.3333333333333333,\"#9c179e\"],[0.4444444444444444,\"#bd3786\"],[0.5555555555555556,\"#d8576b\"],[0.6666666666666666,\"#ed7953\"],[0.7777777777777778,\"#fb9f3a\"],[0.8888888888888888,\"#fdca26\"],[1.0,\"#f0f921\"]],\"sequentialminus\":[[0.0,\"#0d0887\"],[0.1111111111111111,\"#46039f\"],[0.2222222222222222,\"#7201a8\"],[0.3333333333333333,\"#9c179e\"],[0.4444444444444444,\"#bd3786\"],[0.5555555555555556,\"#d8576b\"],[0.6666666666666666,\"#ed7953\"],[0.7777777777777778,\"#fb9f3a\"],[0.8888888888888888,\"#fdca26\"],[1.0,\"#f0f921\"]]},\"colorway\":[\"#636efa\",\"#EF553B\",\"#00cc96\",\"#ab63fa\",\"#FFA15A\",\"#19d3f3\",\"#FF6692\",\"#B6E880\",\"#FF97FF\",\"#FECB52\"],\"font\":{\"color\":\"#2a3f5f\"},\"geo\":{\"bgcolor\":\"white\",\"lakecolor\":\"white\",\"landcolor\":\"#E5ECF6\",\"showlakes\":true,\"showland\":true,\"subunitcolor\":\"white\"},\"hoverlabel\":{\"align\":\"left\"},\"hovermode\":\"closest\",\"mapbox\":{\"style\":\"light\"},\"paper_bgcolor\":\"white\",\"plot_bgcolor\":\"#E5ECF6\",\"polar\":{\"angularaxis\":{\"gridcolor\":\"white\",\"linecolor\":\"white\",\"ticks\":\"\"},\"bgcolor\":\"#E5ECF6\",\"radialaxis\":{\"gridcolor\":\"white\",\"linecolor\":\"white\",\"ticks\":\"\"}},\"scene\":{\"xaxis\":{\"backgroundcolor\":\"#E5ECF6\",\"gridcolor\":\"white\",\"gridwidth\":2,\"linecolor\":\"white\",\"showbackground\":true,\"ticks\":\"\",\"zerolinecolor\":\"white\"},\"yaxis\":{\"backgroundcolor\":\"#E5ECF6\",\"gridcolor\":\"white\",\"gridwidth\":2,\"linecolor\":\"white\",\"showbackground\":true,\"ticks\":\"\",\"zerolinecolor\":\"white\"},\"zaxis\":{\"backgroundcolor\":\"#E5ECF6\",\"gridcolor\":\"white\",\"gridwidth\":2,\"linecolor\":\"white\",\"showbackground\":true,\"ticks\":\"\",\"zerolinecolor\":\"white\"}},\"shapedefaults\":{\"line\":{\"color\":\"#2a3f5f\"}},\"ternary\":{\"aaxis\":{\"gridcolor\":\"white\",\"linecolor\":\"white\",\"ticks\":\"\"},\"baxis\":{\"gridcolor\":\"white\",\"linecolor\":\"white\",\"ticks\":\"\"},\"bgcolor\":\"#E5ECF6\",\"caxis\":{\"gridcolor\":\"white\",\"linecolor\":\"white\",\"ticks\":\"\"}},\"title\":{\"x\":0.05},\"xaxis\":{\"automargin\":true,\"gridcolor\":\"white\",\"linecolor\":\"white\",\"ticks\":\"\",\"title\":{\"standoff\":15},\"zerolinecolor\":\"white\",\"zerolinewidth\":2},\"yaxis\":{\"automargin\":true,\"gridcolor\":\"white\",\"linecolor\":\"white\",\"ticks\":\"\",\"title\":{\"standoff\":15},\"zerolinecolor\":\"white\",\"zerolinewidth\":2}}},\"xaxis\":{\"anchor\":\"y\",\"domain\":[0.0,1.0],\"title\":{\"text\":\"total\"}},\"yaxis\":{\"anchor\":\"x\",\"categoryarray\":[\"VIOLACI\\u00d3N\",\"SECUESTRO\",\"ROBO DE VEH\\u00cdCULO CON Y SIN VIOLENCIA\",\"ROBO A TRANSPORTISTA CON Y SIN VIOLENCIA\",\"ROBO A TRANSEUNTE EN V\\u00cdA P\\u00daBLICA CON Y SIN VIOLENCIA\",\"ROBO A REPARTIDOR CON Y SIN VIOLENCIA\",\"ROBO A PASAJERO A BORDO DEL METRO CON Y SIN VIOLENCIA\",\"ROBO A PASAJERO A BORDO DE TAXI CON VIOLENCIA\",\"ROBO A PASAJERO A BORDO DE MICROBUS CON Y SIN VIOLENCIA\",\"ROBO A NEGOCIO CON VIOLENCIA\",\"ROBO A CUENTAHABIENTE SALIENDO DEL CAJERO CON VIOLENCIA\",\"ROBO A CASA HABITACI\\u00d3N CON VIOLENCIA\",\"LESIONES DOLOSAS POR DISPARO DE ARMA DE FUEGO\",\"HOMICIDIO DOLOSO\",\"FEMINICIDIO\",\"DELITO DE BAJO IMPACTO\"],\"categoryorder\":\"total ascending\",\"domain\":[0.0,1.0],\"title\":{\"text\":\"categoria_delito\"}}},                        {\"responsive\": true}                    ).then(function(){\n",
              "                            \n",
              "var gd = document.getElementById('d3b4ec3c-7185-43b4-a961-14bfab8c2227');\n",
              "var x = new MutationObserver(function (mutations, observer) {{\n",
              "        var display = window.getComputedStyle(gd).display;\n",
              "        if (!display || display === 'none') {{\n",
              "            console.log([gd, 'removed!']);\n",
              "            Plotly.purge(gd);\n",
              "            observer.disconnect();\n",
              "        }}\n",
              "}});\n",
              "\n",
              "// Listen for the removal of the full notebook cells\n",
              "var notebookContainer = gd.closest('#notebook-container');\n",
              "if (notebookContainer) {{\n",
              "    x.observe(notebookContainer, {childList: true});\n",
              "}}\n",
              "\n",
              "// Listen for the clearing of the current output cell\n",
              "var outputEl = gd.closest('.output');\n",
              "if (outputEl) {{\n",
              "    x.observe(outputEl, {childList: true});\n",
              "}}\n",
              "\n",
              "                        })                };                            </script>        </div>\n",
              "</body>\n",
              "</html>"
            ]
          },
          "metadata": {
            "tags": []
          }
        }
      ]
    },
    {
      "cell_type": "markdown",
      "metadata": {
        "id": "XLWzjoDsOQSF"
      },
      "source": [
        "#### 6.2.2 *¿En qué alcaldías se comete el mayor número de delitos graves?*"
      ]
    },
    {
      "cell_type": "code",
      "metadata": {
        "colab": {
          "base_uri": "https://localhost:8080/"
        },
        "id": "lbHLUy150Dbs",
        "outputId": "485ae9cf-8e4b-49b3-e3f2-35c2a9c13dd9"
      },
      "source": [
        "# Primero consultamos qué delitos existen: \n",
        "df_casting['categoria_delito'].unique().tolist()"
      ],
      "execution_count": null,
      "outputs": [
        {
          "output_type": "execute_result",
          "data": {
            "text/plain": [
              "['DELITO DE BAJO IMPACTO',\n",
              " 'ROBO DE VEHÍCULO CON Y SIN VIOLENCIA',\n",
              " 'ROBO A NEGOCIO CON VIOLENCIA',\n",
              " 'ROBO A TRANSEUNTE EN VÍA PÚBLICA CON Y SIN VIOLENCIA',\n",
              " 'ROBO A CUENTAHABIENTE SALIENDO DEL CAJERO CON VIOLENCIA',\n",
              " 'ROBO A REPARTIDOR CON Y SIN VIOLENCIA',\n",
              " 'HOMICIDIO DOLOSO',\n",
              " 'ROBO A CASA HABITACIÓN CON VIOLENCIA',\n",
              " 'ROBO A PASAJERO A BORDO DE TAXI CON VIOLENCIA',\n",
              " 'ROBO A PASAJERO A BORDO DE MICROBUS CON Y SIN VIOLENCIA',\n",
              " 'VIOLACIÓN',\n",
              " 'ROBO A PASAJERO A BORDO DEL METRO CON Y SIN VIOLENCIA',\n",
              " 'LESIONES DOLOSAS POR DISPARO DE ARMA DE FUEGO',\n",
              " 'ROBO A TRANSPORTISTA CON Y SIN VIOLENCIA',\n",
              " 'SECUESTRO',\n",
              " 'FEMINICIDIO']"
            ]
          },
          "metadata": {
            "tags": []
          },
          "execution_count": 28
        }
      ]
    },
    {
      "cell_type": "code",
      "metadata": {
        "colab": {
          "base_uri": "https://localhost:8080/",
          "height": 1000
        },
        "id": "CRrJnE2xwbSe",
        "outputId": "a1d12f46-4d12-4f6d-88d1-cb938b638e31"
      },
      "source": [
        "# Ahora filtramos los delitos que consideramos graves:\n",
        "delitos_graves = df_casting.loc[df_casting['categoria_delito'].isin(['LESIONES DOLOSAS POR DISPARO DE ARMA DE FUEGO','VIOLACIÓN', 'HOMICIDIO DOLOSO', 'SECUESTRO', 'FEMINICIDIO'])]\n",
        "\n",
        "# y agrupamos por alcaldía: \n",
        "pregunta_2 = delitos_graves.groupby(['alcaldia_hechos', \"_id\"])[\"ao_hechos\"].count().reset_index().rename(columns={\"ao_hechos\": \"total\"})\n",
        "\n",
        "\n",
        "fig_p2 = px.choropleth(\n",
        "    data_frame=pregunta_2,\n",
        "    geojson=geo_alcaldias,\n",
        "    color=\"total\",\n",
        "    locations=\"_id\",\n",
        "    featureidkey=\"properties._id\",\n",
        "    projection=\"mercator\",\n",
        "    hover_data=[\"alcaldia_hechos\"]\n",
        "    )\n",
        "fig_p2.update_geos(fitbounds=\"locations\", visible=False)\n",
        "fig_p2.update_layout(title_text=\"Cantidad de delitos graves por alcaldía de la CDMX\")\n",
        "fig_p2.show()\n",
        "\n",
        "\n",
        "pregunta_2.sort_values(\"total\", ascending=False)"
      ],
      "execution_count": null,
      "outputs": [
        {
          "output_type": "display_data",
          "data": {
            "text/html": [
              "<html>\n",
              "<head><meta charset=\"utf-8\" /></head>\n",
              "<body>\n",
              "    <div>            <script src=\"https://cdnjs.cloudflare.com/ajax/libs/mathjax/2.7.5/MathJax.js?config=TeX-AMS-MML_SVG\"></script><script type=\"text/javascript\">if (window.MathJax) {MathJax.Hub.Config({SVG: {font: \"STIX-Web\"}});}</script>                <script type=\"text/javascript\">window.PlotlyConfig = {MathJaxConfig: 'local'};</script>\n",
              "        <script src=\"https://cdn.plot.ly/plotly-2.2.0.min.js\"></script>                <div id=\"cb2a6a47-b790-4d5e-8b67-dda46a162161\" class=\"plotly-graph-div\" style=\"height:525px; width:100%;\"></div>            <script type=\"text/javascript\">                                    window.PLOTLYENV=window.PLOTLYENV || {};                                    if (document.getElementById(\"cb2a6a47-b790-4d5e-8b67-dda46a162161\")) {                    Plotly.newPlot(                        \"cb2a6a47-b790-4d5e-8b67-dda46a162161\",                        [{\"coloraxis\":\"coloraxis\",\"customdata\":[[\"ALVARO OBREGON\"],[\"AZCAPOTZALCO\"],[\"BENITO JUAREZ\"],[\"COYOACAN\"],[\"CUAJIMALPA DE MORELOS\"],[\"CUAUHTEMOC\"],[\"GUSTAVO A MADERO\"],[\"IZTACALCO\"],[\"IZTAPALAPA\"],[\"LA MAGDALENA CONTRERAS\"],[\"MIGUEL HIDALGO\"],[\"MILPA ALTA\"],[\"TLAHUAC\"],[\"TLALPAN\"],[\"VENUSTIANO CARRANZA\"],[\"XOCHIMILCO\"]],\"featureidkey\":\"properties._id\",\"geo\":\"geo\",\"geojson\":{\"crs\":{\"properties\":{\"name\":\"urn:ogc:def:crs:OGC:1.3:CRS84\"},\"type\":\"name\"},\"features\":[{\"geometry\":{\"coordinates\":[[[-99.09869648999997,19.319641419999197],[-99.09848873999988,19.319038079999096],[-99.09864533999988,19.318957549999094],[-99.09870973999988,19.318794919999196],[-99.09868547999996,19.318674419999095],[-99.09864654999988,19.318590199999196],[-99.09844261999989,19.31827265999919],[-99.09823802999988,19.317959739999097],[-99.09771011,19.317172969999095],[-99.09744041999988,19.316826429999097],[-99.09675686,19.315988449999097],[-99.09585051999989,19.314815019999095],[-99.09496497,19.313691319999094],[-99.09426539999998,19.312771519999092],[-99.09408894999989,19.312868249999095],[-99.09393522999989,19.312668219999097],[-99.09357298,19.312204459999094],[-99.09322361999988,19.311757199999096],[-99.09318290999988,19.311702219999095],[-99.09283430999989,19.311262849999096],[-99.09272790999988,19.311122779999195],[-99.09261902999997,19.310988479999097],[-99.09234897,19.310679819999095],[-99.09224987999988,19.31058462999909],[-99.09192694999987,19.310211479999197],[-99.09179382999996,19.310052119999096],[-99.09173562999987,19.309986569999097],[-99.09141930999998,19.309567149999097],[-99.09081430999996,19.308770599999193],[-99.09053496999998,19.308443969999097],[-99.09036484999996,19.308226579999097],[-99.09029242999998,19.308129489999196],[-99.08987707999988,19.307727659999095],[-99.08977170999997,19.307627819999094],[-99.08960130999998,19.3073986199992],[-99.08948686,19.307140969999097],[-99.08923254999988,19.306857579999097],[-99.08902094999988,19.306563659999096],[-99.08861519999998,19.306152879999196],[-99.08844343,19.305955089999095],[-99.08839044999988,19.305904879999197],[-99.08814477,19.305572999999093],[-99.08793553999998,19.305324859999093],[-99.08765888,19.304681859999196],[-99.08746557999989,19.304483689999095],[-99.08719836999988,19.304165649999195],[-99.08718537999988,19.304149659999194],[-99.08671830999997,19.303795379999094],[-99.08629182999988,19.30360422999919],[-99.08615791999988,19.303504429999094],[-99.08587527999995,19.303190849999098],[-99.08562476999997,19.302888739999194],[-99.08538376999998,19.302591319999095],[-99.08513334999998,19.30226974999909],[-99.08485677999988,19.301980969999097],[-99.08458517999998,19.301662909999095],[-99.08435816999996,19.301366999999097],[-99.08411273999997,19.301039969999092],[-99.08384430999998,19.300723859999096],[-99.08359064999988,19.30040954999909],[-99.08337204999997,19.300078879999095],[-99.08316821999988,19.299652319999197],[-99.08231807999988,19.298583199999197],[-99.08037111999988,19.296237179999196],[-99.07997128999988,19.295767799999197],[-99.079694,19.295453849999095],[-99.07920637999987,19.294868139999195],[-99.07897065,19.2945885099992],[-99.07865931,19.294213139999098],[-99.07802294999998,19.293474019999096],[-99.07771971999988,19.293227969999094],[-99.07731527999988,19.292962909999098],[-99.07722570999988,19.292848689999097],[-99.07590997999988,19.290986169999098],[-99.07524587999998,19.290079279999095],[-99.07494110999988,19.289698139999096],[-99.07448725999988,19.289371829999197],[-99.07407405999996,19.289098979999096],[-99.07235647999988,19.287948169999098],[-99.07218519999998,19.287818259999096],[-99.07137579999988,19.287070089999094],[-99.06987991999988,19.285734739999096],[-99.06915291999996,19.285085739999097],[-99.06896674999987,19.284955849999193],[-99.06831061999998,19.284439259999193],[-99.06464511999997,19.282113819999097],[-99.06437017999998,19.281992769999096],[-99.05967262999997,19.280284949999196],[-99.05857541999988,19.279909629999196],[-99.05760033999996,19.279628879999095],[-99.05676294999986,19.279500349999093],[-99.05607265999998,19.279456379999196],[-99.05515968,19.279458819999196],[-99.05478908,19.2794267699992],[-99.05449831999988,19.279367149999096],[-99.05387088,19.279085749999098],[-99.05237159999989,19.278481979999096],[-99.05056726,19.277503479999197],[-99.04828696999998,19.275978229999197],[-99.04732227999988,19.275598599999096],[-99.04510005,19.274864109999097],[-99.04145142999988,19.273780509999195],[-99.04043121999987,19.273253979999097],[-99.04022733999987,19.273056819999095],[-99.03952765999998,19.2726503699992],[-99.03858945999998,19.272132249999096],[-99.03837167999988,19.272036419999193],[-99.03749198,19.271761679999095],[-99.03731945,19.271705739999096],[-99.03646390999988,19.270976829999196],[-99.03594368999988,19.270636599999097],[-99.03567151999988,19.270263429999194],[-99.03464395,19.268745169999097],[-99.03373384999998,19.267703819999095],[-99.03302189,19.267116909999096],[-99.03267090999996,19.266692199999092],[-99.03106591999988,19.264932539999197],[-99.03084593999988,19.264637289999097],[-99.03053587999987,19.264168459999095],[-99.03046808,19.263251029999093],[-99.03043044999995,19.2631439999992],[-99.03028093999988,19.262941169999095],[-99.02982031999989,19.262595549999197],[-99.02956584999998,19.262484419999193],[-99.02930074999988,19.262374629999197],[-99.02789588999995,19.262222279999097],[-99.02720055,19.261836999999097],[-99.02711928999996,19.261938449999096],[-99.02685950999988,19.261760769999096],[-99.02647247999988,19.261768819999094],[-99.02603976999988,19.261943649999097],[-99.02584222999998,19.262205179999096],[-99.0253886,19.262084779999196],[-99.02508207999988,19.262009849999096],[-99.02482033999988,19.261931939999197],[-99.0243506,19.261820979999097],[-99.02405724999988,19.261757179999197],[-99.02401662999988,19.261747219999194],[-99.02290094999996,19.261460889999096],[-99.02253551999988,19.261372399999097],[-99.02201159999996,19.261239019999095],[-99.02175453999998,19.2611738299992],[-99.02151164999997,19.261115749999096],[-99.0213002,19.261069379999096],[-99.02109502999996,19.261030519999196],[-99.02103228999988,19.261017309999197],[-99.0207524,19.260957119999095],[-99.02051821999996,19.260934599999096],[-99.02032633999988,19.260919489999097],[-99.02005777999987,19.260964109999097],[-99.01982534999988,19.261029169999095],[-99.01974257999989,19.261150739999096],[-99.01930435,19.260975969999095],[-99.01907427999998,19.260895139999093],[-99.01899176999996,19.260864489999097],[-99.01890777999988,19.260832549999098],[-99.01867409,19.260743659999196],[-99.01794463,19.260458679999097],[-99.01757122999996,19.260321969999097],[-99.01742204999988,19.260269829999096],[-99.01727228999988,19.260221349999096],[-99.01656856999988,19.25998002999909],[-99.01651511999997,19.259955449999193],[-99.01638882,19.259894289999096],[-99.01615405999988,19.259750519999095],[-99.01608245999988,19.259679199999095],[-99.01595541999988,19.259552619999095],[-99.01556034999996,19.259338479999197],[-99.01486105999996,19.258993859999094],[-99.01444296999988,19.258810549999097],[-99.01418953999998,19.258709489999095],[-99.01391674999998,19.258579179999096],[-99.01372238,19.258496739999096],[-99.01344337999998,19.25837370999909],[-99.01321716999988,19.258235939999196],[-99.01296474999998,19.258055079999195],[-99.01283404999997,19.257947079999195],[-99.01267753999998,19.257787179999095],[-99.01252522,19.257631999999095],[-99.01218502999988,19.257227799999196],[-99.01198541999996,19.256961539999196],[-99.01185047999988,19.256775149999193],[-99.01177171999989,19.256660109999096],[-99.011829,19.256244629999095],[-99.01169831999988,19.256011119999098],[-99.01132425999997,19.255647779999094],[-99.01128764999996,19.255729089999097],[-99.0110298,19.255604509999095],[-99.01082527999988,19.255466489999197],[-99.01069337999988,19.255341679999095],[-99.00985797,19.254533079999092],[-99.00981231,19.254488229999197],[-99.0092408,19.253926769999097],[-99.00858116999989,19.253195459999095],[-99.00834484999989,19.252944829999095],[-99.00813049,19.252717889999197],[-99.00776654999996,19.252315429999097],[-99.00761871999995,19.252169289999095],[-99.00704476999988,19.251605879999097],[-99.00728354999988,19.251177429999096],[-99.00750554999998,19.250779139999196],[-99.00768953999987,19.251023919999096],[-99.00794691999988,19.250546029999196],[-99.00826497999998,19.250727999999096],[-99.00843867999998,19.250693829999097],[-99.00865254999998,19.250767679999097],[-99.00882196999996,19.250678629999097],[-99.00888290999988,19.25067508999919],[-99.00906525999989,19.250296979999096],[-99.00920888999995,19.24999502999909],[-99.00935216999989,19.249694519999096],[-99.00950206,19.249380679999195],[-99.00950508999988,19.249371629999096],[-99.00950834999998,19.24936190999909],[-99.00960047999988,19.249070879999095],[-99.00971472,19.248729719999098],[-99.00977044999988,19.248483019999096],[-99.00980424999987,19.248264549999092],[-99.01013744999987,19.247665999999096],[-99.01035197999988,19.247320829999097],[-99.01045937999996,19.247142969999093],[-99.01051079999988,19.247072459999096],[-99.01062605999988,19.247003079999097],[-99.01082137999998,19.247005539999098],[-99.01107241999988,19.246722049999192],[-99.01112277,19.246528319999097],[-99.01114541999998,19.246204169999096],[-99.01113195,19.246131429999096],[-99.01119138,19.246052779999197],[-99.01229602999996,19.246513879999192],[-99.01238507999987,19.246356829999097],[-99.01239693999996,19.246122889999096],[-99.01246804999988,19.245931679999195],[-99.01270941999996,19.245142519999092],[-99.01247531999998,19.245014289999094],[-99.01256527999998,19.244734029999197],[-99.01282745,19.244807179999196],[-99.01391691999996,19.245111149999197],[-99.01395754999996,19.244918339999096],[-99.01397182999987,19.244850629999096],[-99.01399547999988,19.244680319999095],[-99.01402219999989,19.2445562299992],[-99.01407339999996,19.244352829999094],[-99.01411284999988,19.244235309999095],[-99.01414805999995,19.244102579999097],[-99.01417441999988,19.244003649999097],[-99.01430314999998,19.243636659999197],[-99.01463916999988,19.242921459999096],[-99.01484958,19.242606339999096],[-99.01493485,19.242459629999097],[-99.01495462999998,19.242254829999094],[-99.01498265999996,19.242098289999095],[-99.01506354999997,19.241857169999093],[-99.01528216999998,19.241373459999096],[-99.01541477999989,19.240989459999092],[-99.01548982999998,19.240856979999094],[-99.01555814999988,19.240792459999096],[-99.01561736999996,19.240739619999097],[-99.01574257999988,19.240548079999098],[-99.01668704999996,19.239586999999094],[-99.01773491999988,19.238540859999095],[-99.01786106,19.238228599999196],[-99.01820402,19.237676339999098],[-99.02790482999988,19.226329309999095],[-99.03019302999998,19.223632849999095],[-99.03287417999996,19.223077149999096],[-99.03406105,19.222831149999095],[-99.03520876999988,19.222593249999097],[-99.03578639999988,19.22247350999919],[-99.03628365,19.22237042999919],[-99.03641890999988,19.222342399999096],[-99.03673162999998,19.222277569999093],[-99.03693965999996,19.222234399999095],[-99.0375966,19.222098049999197],[-99.03804013999998,19.222005999999094],[-99.04010530999987,19.221577349999095],[-99.04112473999996,19.221365749999197],[-99.04178645999995,19.221228399999095],[-99.04216882,19.221149029999097],[-99.04246805999998,19.221086909999094],[-99.04278535,19.221021079999097],[-99.04302259999996,19.220971859999196],[-99.04543821999988,19.220470709999095],[-99.04664399999989,19.220220539999197],[-99.04786719999998,19.219966769999097],[-99.04826554,19.219884119999197],[-99.04914367999996,19.219701939999094],[-99.05235468999987,19.219035689999096],[-99.05309759999987,19.218881539999096],[-99.05383919999998,19.218727649999195],[-99.05598373999996,19.218282619999098],[-99.05635318,19.218206119999095],[-99.05671625999996,19.218130939999092],[-99.05816330999988,19.2178313099992],[-99.05918938,19.217618829999097],[-99.06015719999998,19.217418419999095],[-99.06054339999996,19.217338429999096],[-99.06320779999996,19.216786649999097],[-99.06433019999996,19.2165537699992],[-99.06580381999996,19.216247979999096],[-99.06630867999988,19.216143229999197],[-99.06732545999988,19.215932229999197],[-99.06777179999987,19.215839599999097],[-99.06907148999989,19.215569889999195],[-99.07106430999988,19.21515630999909],[-99.07230717999988,19.214898349999096],[-99.07358663,19.214632779999093],[-99.07579022999988,19.214175379999094],[-99.07675354999998,19.213975429999195],[-99.07772102999988,19.213774579999097],[-99.07781996999988,19.213754049999096],[-99.07812794999997,19.213690109999195],[-99.07853376999998,19.213605879999097],[-99.07870404999989,19.213570519999195],[-99.07883445999988,19.213543449999097],[-99.07937191999996,19.213431859999098],[-99.08005874,19.213289279999092],[-99.08035562999996,19.213227649999094],[-99.08089569,19.213115519999096],[-99.08135179999988,19.213019819999197],[-99.08196607999996,19.212890919999097],[-99.08250902999998,19.212776979999095],[-99.08305105999987,19.212663309999098],[-99.08377009,19.212515859999098],[-99.08440964999988,19.212384709999093],[-99.08631317999998,19.211994319999096],[-99.08822804999988,19.211601599999092],[-99.08850425999997,19.211544949999197],[-99.08903254999989,19.211436579999095],[-99.09069479999988,19.21109564999909],[-99.09087287999988,19.211048229999097],[-99.09096537,19.211019379999097],[-99.09171704999989,19.210920089999096],[-99.09239171999997,19.2108925099992],[-99.09292934999988,19.210918769999097],[-99.09318091999988,19.210929939999097],[-99.09338891999988,19.210964489999096],[-99.09354214999988,19.211008709999096],[-99.09368524999996,19.211078919999096],[-99.09400931,19.211308369999095],[-99.09420430999988,19.211474029999096],[-99.09429507999988,19.21152442999909],[-99.09439634999988,19.211553199999095],[-99.09448494999997,19.211553149999094],[-99.09456087999988,19.211538709999196],[-99.09465450999988,19.211493019999097],[-99.09474307999989,19.211432909999093],[-99.09483414999988,19.211360799999095],[-99.09489992,19.211283319999197],[-99.09494545999988,19.211220849999197],[-99.09497577999998,19.211151169999095],[-99.094996,19.211074279999192],[-99.09506453999995,19.210078979999096],[-99.09507622999998,19.209741369999197],[-99.09509891999988,19.209590019999094],[-99.09515957999996,19.209438649999097],[-99.09525314999988,19.209259029999195],[-99.09555505999997,19.208803149999095],[-99.09561152,19.208717889999093],[-99.09568702999998,19.208627939999097],[-99.09577444999996,19.208578349999097],[-99.09585611999997,19.208555919999096],[-99.09597408999998,19.208554139999094],[-99.09612293999996,19.20857299999909],[-99.09627317999995,19.208598769999096],[-99.09643276999998,19.208626689999097],[-99.09655073999988,19.208652079999094],[-99.09667973999989,19.208664829999098],[-99.09677734999998,19.2086644499992],[-99.09687310999998,19.208653859999096],[-99.09699591999998,19.208630749999095],[-99.09713865999998,19.208592719999192],[-99.09794430999987,19.208329969999095],[-99.09813737999995,19.208272379999094],[-99.09826902999998,19.208238199999094],[-99.09835061999988,19.208226659999095],[-99.09841050999988,19.208220939999197],[-99.09848845,19.208215199999096],[-99.09881945999996,19.2082150199992],[-99.09889554999988,19.208211379999096],[-99.09894507999996,19.208209399999195],[-99.09903736999988,19.208196569999092],[-99.09910994999996,19.208182819999095],[-99.09916322,19.208164319999092],[-99.09921250999996,19.208147279999096],[-99.09926942,19.208105149999092],[-99.09930585999987,19.208069419999095],[-99.09936913999996,19.207990849999096],[-99.09983065999988,19.207495599999096],[-99.09992053999996,19.20738562999909],[-99.09997601999996,19.207267049999096],[-99.10001296999997,19.207143999999097],[-99.10002610999996,19.206993349999095],[-99.10004474999988,19.206519549999197],[-99.10005791999995,19.206414089999097],[-99.10008430999989,19.206321179999097],[-99.10012394999988,19.206245849999096],[-99.10018208999998,19.206170489999096],[-99.10025611999995,19.206115229999096],[-99.10037511999998,19.206072479999097],[-99.10060633999989,19.205998029999098],[-99.10069887999995,19.205955289999196],[-99.100802,19.205894979999098],[-99.10088612,19.205824649999094],[-99.10098442,19.20572164999909],[-99.10100228,19.205700799999097],[-99.10159001999988,19.205014859999196],[-99.10169308999996,19.204891779999095],[-99.10174593999989,19.204808889999097],[-99.10178042999988,19.204719179999096],[-99.10181474999987,19.204621629999096],[-99.10185430999998,19.204430429999196],[-99.10187084999988,19.204200849999097],[-99.10189970999988,19.203823419999097],[-99.10193317999988,19.203434249999095],[-99.10196359999998,19.202646089999096],[-99.10202243,19.202280519999096],[-99.10207006,19.201846399999095],[-99.10208644999987,19.201572319999094],[-99.10211757999998,19.201051799999092],[-99.10217033999996,19.200827969999096],[-99.10224694,19.200661969999196],[-99.10227310999989,19.200628229999097],[-99.10239984999995,19.200464769999098],[-99.10262924999988,19.200311119999096],[-99.10311387999997,19.200018289999196],[-99.10326791999988,19.199926199999098],[-99.10408062,19.199436379999195],[-99.10412333999987,19.199410659999195],[-99.10419634999988,19.199367179999097],[-99.10472557999998,19.199046369999195],[-99.10479968999988,19.198964219999095],[-99.10484422999998,19.1988661099992],[-99.10485097,19.198766289999096],[-99.10482431,19.198656149999096],[-99.10477891999987,19.198560919999096],[-99.10472545999988,19.198493349999097],[-99.10460885999996,19.1984258199992],[-99.10463147999997,19.198382019999094],[-99.10463723,19.198336799999193],[-99.10465834999997,19.198279289999093],[-99.10469782999998,19.198205519999096],[-99.10518183,19.198273079999097],[-99.10527767999996,19.198058019999195],[-99.10573639999988,19.197340709999096],[-99.11027634,19.18904448999919],[-99.11148409,19.186834139999096],[-99.11166244999998,19.1865132899992],[-99.11233063,19.185295479999095],[-99.11266062,19.184692659999197],[-99.11341834999988,19.183302289999094],[-99.11865413999998,19.173742659999096],[-99.11913013999998,19.172872949999096],[-99.13024432,19.152544169999093],[-99.13105074,19.152668679999096],[-99.13140331999988,19.152653479999096],[-99.13165814999998,19.152634509999096],[-99.13214156999996,19.152921399999094],[-99.13250884999997,19.153026349999095],[-99.13258162999988,19.153121139999097],[-99.13260025999988,19.153219659999095],[-99.13261153999998,19.153381629999092],[-99.13246784999988,19.153989649999097],[-99.13255504999988,19.15429834999909],[-99.13279534999997,19.154880779999097],[-99.13283662,19.155825019999195],[-99.13279529,19.156623689999098],[-99.13289482999988,19.157727519999096],[-99.13282470999997,19.158583679999097],[-99.13272498,19.159338659999193],[-99.13269488999995,19.160134429999097],[-99.13252328999988,19.160848029999094],[-99.13239866,19.1612837699992],[-99.13224864999988,19.161609079999195],[-99.13197634999987,19.162126629999097],[-99.13181464999998,19.162608939999096],[-99.13165033999998,19.163185549999096],[-99.13106845,19.164055489999097],[-99.13064142999995,19.164900419999096],[-99.13047101999987,19.165408889999096],[-99.13031477,19.165906059999095],[-99.13021752,19.166579429999196],[-99.13020227999998,19.167264029999195],[-99.13017421999996,19.168220479999196],[-99.13031348,19.168859059999097],[-99.13052082999997,19.170402119999096],[-99.13051453999996,19.170572769999097],[-99.13047793999998,19.170721519999095],[-99.13051965999988,19.170837719999092],[-99.13053301999996,19.171047509999095],[-99.13054317999988,19.171393649999096],[-99.13050888999996,19.171643949999098],[-99.13047739999988,19.171800739999096],[-99.13046184999988,19.171855289999097],[-99.13040968999996,19.171909819999097],[-99.13034192,19.171959429999195],[-99.13024434999988,19.172008089999096],[-99.13007147999998,19.172083549999098],[-99.12999714999988,19.172137509999093],[-99.12996277999996,19.172195849999095],[-99.12995055,19.172246019999093],[-99.12994939999996,19.172360279999193],[-99.13003387999996,19.172446379999094],[-99.130073,19.172515019999096],[-99.13019671999996,19.172670719999097],[-99.13046887999998,19.172971019999096],[-99.13079497999988,19.173420399999095],[-99.13091191999987,19.173603319999096],[-99.13110634999995,19.173842649999095],[-99.13138277999995,19.174037519999096],[-99.13156718,19.174293029999095],[-99.13175156999988,19.174548509999095],[-99.13195018,19.174864539999096],[-99.13206373999998,19.175120089999098],[-99.13213271999987,19.175501449999093],[-99.13216117999995,19.175836949999095],[-99.13224944999988,19.176214949999096],[-99.13231091999988,19.176394909999097],[-99.13241430999987,19.176537019999092],[-99.13250219999998,19.176669339999098],[-99.13250485999995,19.176772289999096],[-99.13243850999996,19.176973619999096],[-99.13232562999995,19.177217079999096],[-99.13229565999988,19.177467649999095],[-99.13229585999989,19.177703879999097],[-99.13232621999998,19.177961569999095],[-99.13240181999998,19.178212059999098],[-99.13239454999989,19.17853221999909],[-99.13224311999988,19.178756309999095],[-99.13215791,19.179007059999098],[-99.13207271,19.179272549999094],[-99.13197979999988,19.1796191499992],[-99.13186365999998,19.180054249999195],[-99.13162322999987,19.180393579999095],[-99.13147587999998,19.180629629999196],[-99.13128682999996,19.18125328999909],[-99.13104844999997,19.1818074499992],[-99.13080017999988,19.182102549999097],[-99.13049751999988,19.182309219999095],[-99.13033464999988,19.182552649999096],[-99.13025730999998,19.182950849999095],[-99.13024208999995,19.183356379999196],[-99.13019576999989,19.1837029499992],[-99.13010123,19.183933749999095],[-99.12997130999996,19.184116649999098],[-99.12986759999995,19.1841521699992],[-99.12977216999997,19.184164059999095],[-99.12968091999988,19.184223229999095],[-99.12959385999989,19.184317849999196],[-99.12951513999997,19.184467629999094],[-99.12942953999998,19.184547139999193],[-99.12911565999995,19.184608089999095],[-99.12897045999988,19.184651539999095],[-99.12886267999988,19.184789509999092],[-99.12873837999996,19.185029939999097],[-99.12837366,19.185609379999196],[-99.12786002999998,19.186045319999195],[-99.12748590999988,19.186407349999097],[-99.12738582,19.186714259999096],[-99.12725151999996,19.186999829999092],[-99.12707612,19.187266179999096],[-99.12712124999987,19.187564399999097],[-99.12726796999998,19.187862539999095],[-99.12741239999998,19.188108429999097],[-99.12756965999988,19.188291279999092],[-99.12773509,19.188474489999095],[-99.12816194999998,19.188810849999097],[-99.12872842999998,19.189145249999097],[-99.12934762999998,19.189811169999096],[-99.12993513999996,19.190297509999095],[-99.12999595,19.190490309999095],[-99.130003,19.190733429999096],[-99.13014939999988,19.190902169999095],[-99.13047717999996,19.191083089999196],[-99.13067271999988,19.191314909999196],[-99.13065796999987,19.191646739999097],[-99.13065830999987,19.192067249999095],[-99.13059827999987,19.192291719999197],[-99.13065427999996,19.192450769999095],[-99.13064154999998,19.192695579999196],[-99.130775,19.192940309999095],[-99.13061613999996,19.193164849999196],[-99.13057768999988,19.193385219999097],[-99.13047199999988,19.193662659999095],[-99.13046827999987,19.193760179999096],[-99.13049114999988,19.194012539999097],[-99.13027937999998,19.194334119999095],[-99.13023619999989,19.194366169999096],[-99.13010379999996,19.194468029999097],[-99.13007825999988,19.194513739999095],[-99.13009279999989,19.194567219999197],[-99.13012337999996,19.194680229999197],[-99.13002157999988,19.194910749999195],[-99.12994357,19.1953570799992],[-99.13004734,19.195459089999098],[-99.13012422999998,19.195586679999096],[-99.13022044999998,19.195843629999196],[-99.13042616999998,19.19609613999919],[-99.13045065999997,19.196205479999097],[-99.13039376999988,19.1963817499992],[-99.13022321999988,19.196611419999194],[-99.13002062999998,19.196745119999093],[-99.12961305999988,19.197120629999095],[-99.12950591999996,19.197270999999095],[-99.12947297999987,19.197377889999096],[-99.12948145,19.197454219999095],[-99.12950772,19.197513399999096],[-99.12954108999998,19.197655289999098],[-99.12943781999988,19.197770819999096],[-99.12930893999996,19.197937549999192],[-99.12927419999988,19.198004489999196],[-99.12927374,19.198036779999093],[-99.12926961999987,19.198126879999197],[-99.12929291999995,19.198164249999092],[-99.12937508,19.198190749999096],[-99.12945705999988,19.198236549999095],[-99.12948031999998,19.198262339999097],[-99.12949962999988,19.19829245999909],[-99.12951248999998,19.198325519999095],[-99.12951537999996,19.198369319999095],[-99.12950982999988,19.198407659999095],[-99.12949838,19.198455859999097],[-99.12947811999996,19.198520519999096],[-99.12944876999988,19.198599659999196],[-99.12937793999996,19.198742139999094],[-99.12927714999988,19.198900969999094],[-99.12919962999987,19.19904601999909],[-99.12913994999998,19.199190999999093],[-99.12911276999988,19.199323479999094],[-99.12909288,19.1994411799992],[-99.12908462999997,19.199584909999093],[-99.12908948999988,19.199671459999095],[-99.12911733999988,19.199715309999096],[-99.12915271999998,19.199743649999093],[-99.12928745999989,19.199804779999095],[-99.12932067999998,19.199836249999095],[-99.12934005999988,19.199882059999094],[-99.12933457999998,19.200037819999093],[-99.12934248999989,19.200099019999097],[-99.12936018,19.200158379999095],[-99.12940354999988,19.200225349999094],[-99.12946939999988,19.200322769999197],[-99.12954002999996,19.200382109999197],[-99.12954025999989,19.20068208999909],[-99.12953903,19.201072089999094],[-99.12948065999989,19.201661599999092],[-99.12946525999988,19.201816199999097],[-99.12942976999987,19.202069059999097],[-99.12939621999998,19.202464969999095],[-99.12939217,19.202515859999096],[-99.12931315,19.203003119999096],[-99.12974727999988,19.203016659999093],[-99.12991745999987,19.203045549999196],[-99.13030239999988,19.203175549999095],[-99.13022847999996,19.203432259999097],[-99.13019942999988,19.203516939999098],[-99.13008871999988,19.203753019999095],[-99.13007965999998,19.203800179999092],[-99.13008333999989,19.203846319999094],[-99.13011430999995,19.203882579999096],[-99.13043844999996,19.203970319999097],[-99.13050753999988,19.2039928299992],[-99.13055299999988,19.204007079999094],[-99.13076565999988,19.204077739999097],[-99.13083268999998,19.204123879999095],[-99.13092416999989,19.204204599999095],[-99.13120688999996,19.204565479999097],[-99.13121368999995,19.2048001099992],[-99.13136601999996,19.205222079999096],[-99.13148511999998,19.205428199999098],[-99.13156594999998,19.205529229999097],[-99.13164287999987,19.205609399999197],[-99.13198002999997,19.205914539999092],[-99.13227168,19.206238719999096],[-99.13243119999998,19.206479049999093],[-99.13249956999988,19.20672347999909],[-99.13252239999998,19.207009169999097],[-99.13249775,19.207155149999096],[-99.132323,19.207627479999097],[-99.13232024999988,19.207700089999097],[-99.13241977,19.20800019999919],[-99.13252513999998,19.208124879999193],[-99.13270424999996,19.208239419999096],[-99.13277014999989,19.2083348199992],[-99.13279665999988,19.208984029999197],[-99.13276634,19.209255709999095],[-99.132773,19.209439059999095],[-99.13291568999988,19.209752369999094],[-99.13291868,19.209856619999098],[-99.13287047999988,19.209922479999097],[-99.13282147999988,19.209979339999094],[-99.13287459999997,19.210025819999093],[-99.13297345999987,19.210076739999096],[-99.13301434,19.210095019999095],[-99.13831586,19.215728249999092],[-99.14954364999988,19.219224079999197],[-99.15439485999998,19.220639279999094],[-99.15351937,19.221806249999094],[-99.15348151999989,19.221581569999195],[-99.15342424999989,19.221409859999092],[-99.15328448999998,19.221183979999097],[-99.15321710999989,19.220985169999196],[-99.15305773999988,19.220741219999095],[-99.15293441999997,19.220580879999098],[-99.15284156999986,19.220503289999197],[-99.15276705,19.220462109999097],[-99.15261705999988,19.220468139999095],[-99.15248051999998,19.22053382999909],[-99.15233794999988,19.220714769999095],[-99.15229024999996,19.220877539999098],[-99.15206379999988,19.221295859999096],[-99.15200981999998,19.221741139999192],[-99.15203661999998,19.221882149999093],[-99.15202287999988,19.222039459999095],[-99.15190934,19.222412479999196],[-99.15184219999998,19.222731219999098],[-99.15177486,19.22287365999919],[-99.15169045,19.223110279999197],[-99.15167182999988,19.223186399999097],[-99.15165185999987,19.223261259999095],[-99.15161988999988,19.223352619999197],[-99.15157988,19.22341733999909],[-99.15154383,19.22343893999909],[-99.15151176999989,19.223440229999095],[-99.15147833999995,19.223422509999097],[-99.15144753999998,19.223352769999096],[-99.15142609,19.223281749999096],[-99.15140832,19.223230419999098],[-99.15139586,19.223222479999095],[-99.15131471999987,19.223207939999096],[-99.15122076999988,19.223244509999095],[-99.15115021999998,19.223407969999094],[-99.15116468999996,19.223486599999195],[-99.15118457999988,19.223561819999095],[-99.15120073999996,19.22363593999909],[-99.15120390999998,19.223661879999096],[-99.15120444999997,19.223690719999095],[-99.15120222999998,19.223716999999095],[-99.15119662999987,19.223746229999097],[-99.15118693999987,19.223777079999195],[-99.15117141999995,19.223810749999092],[-99.15115317999988,19.22385414999909],[-99.15113342999987,19.223900429999095],[-99.15111388999998,19.223941569999095],[-99.15110105999996,19.223971309999097],[-99.15109024999995,19.22400287999919],[-99.15108076999998,19.224041369999096],[-99.1510752,19.22407910999919],[-99.15107321999989,19.224113619999095],[-99.15107437999988,19.224151079999096],[-99.15107861999998,19.224186059999095],[-99.15108451,19.224208489999093],[-99.15109221999988,19.224233079999095],[-99.15110304999988,19.224261979999095],[-99.15111521999997,19.224289509999096],[-99.15112829,19.2243150899992],[-99.15114350999988,19.224341169999196],[-99.15116416999987,19.224371949999092],[-99.15119047999998,19.224405519999095],[-99.15123285999988,19.224450089999195],[-99.15127368,19.224484939999098],[-99.15132030999987,19.224517419999092],[-99.15137059999988,19.224547739999096],[-99.15140870999988,19.224565049999097],[-99.15145136999988,19.224583799999095],[-99.15149554999988,19.224596779999196],[-99.15155192,19.224606849999095],[-99.15160217999988,19.224609689999095],[-99.15174561999996,19.224620659999097],[-99.15186244999988,19.224629319999195],[-99.15196473999995,19.224648089999196],[-99.15212036999998,19.224662219999097],[-99.15221161999987,19.224671569999195],[-99.15227642,19.224673199999096],[-99.15236631999989,19.22468461999919],[-99.15245636999998,19.224710179999096],[-99.15254025999997,19.224740769999094],[-99.15263747999995,19.224783999999097],[-99.15269105,19.224815969999195],[-99.15273734,19.224837709999097],[-99.15278496999996,19.2248734499992],[-99.15284056999998,19.224933649999095],[-99.15290012,19.22500325999909],[-99.15297359999988,19.22509922999919],[-99.15303914,19.225206509999197],[-99.15312336999988,19.225342429999195],[-99.15321208999988,19.225602939999096],[-99.15331696999998,19.225862539999095],[-99.15337848999997,19.225981829999096],[-99.15326161999998,19.226159749999095],[-99.15318070999987,19.226319419999097],[-99.15307199999988,19.226510829999093],[-99.15298425999995,19.226649909999097],[-99.15293530999998,19.226902229999094],[-99.15286503,19.227138659999095],[-99.15283208999988,19.227364569999196],[-99.15276905999998,19.227647689999095],[-99.15270002999988,19.227945109999094],[-99.15264894999989,19.228157949999098],[-99.15256181999987,19.228426799999095],[-99.15251334,19.22858257999909],[-99.15245630999998,19.228828539999192],[-99.15241725999986,19.228974379999197],[-99.15238938,19.229134679999095],[-99.15237527999987,19.229276659999098],[-99.15233316999988,19.229368199999097],[-99.1522308,19.229479779999195],[-99.15212846,19.229622849999096],[-99.15202013999998,19.229803059999096],[-99.15191445999989,19.229973919999097],[-99.15186030999998,19.230068319999095],[-99.15182125999988,19.230211309999195],[-99.15179370999988,19.230481079999095],[-99.15178088999988,19.230664909999096],[-99.15174007999995,19.230809749999096],[-99.15162491999988,19.231076519999096],[-99.15152637999998,19.231196689999095],[-99.15136596999996,19.231353849999095],[-99.15123265999988,19.231491319999098],[-99.15117039999988,19.231579379999097],[-99.15109907999988,19.231771969999095],[-99.15097605999988,19.2319082599992],[-99.15093262999989,19.231941819999097],[-99.15090136999996,19.231983979999093],[-99.15086593999987,19.23208344999909],[-99.15085187999988,19.232234769999096],[-99.15081665999998,19.232310139999097],[-99.15070153999989,19.232412679999097],[-99.15060362999998,19.232560659999095],[-99.15057525999998,19.232654719999097],[-99.150586,19.232918549999095],[-99.15060161999996,19.233083169999095],[-99.15057959999996,19.233167569999097],[-99.15052025999988,19.233211059999093],[-99.1504768,19.233413829999197],[-99.15049108999987,19.233530879999098],[-99.15052522999996,19.233672109999095],[-99.15056071999996,19.2337549799992],[-99.15065719999998,19.233977859999097],[-99.15070414999995,19.234065349999096],[-99.15073707999989,19.234205969999095],[-99.15076441999996,19.234375709999096],[-99.15074457999997,19.234540229999094],[-99.15068316999997,19.234688859999196],[-99.15059148999988,19.234697059999096],[-99.15049213999998,19.234671119999096],[-99.15048052,19.234628429999095],[-99.15047790999988,19.23453830999919],[-99.15046428999987,19.234413709999195],[-99.15044233999998,19.234294399999097],[-99.15038693999998,19.234233549999097],[-99.15030922999988,19.234193979999095],[-99.15025093999998,19.23417822999919],[-99.15013425999987,19.234170599999096],[-99.15002588999988,19.234181519999098],[-99.14978145999996,19.234160979999196],[-99.14966208,19.234132119999096],[-99.14959550999998,19.234081919999095],[-99.14954562999998,19.234034319999097],[-99.14946505999988,19.234031879999097],[-99.14938713999996,19.234087779999097],[-99.14931088999997,19.234175709999093],[-99.14930665999998,19.234268459999097],[-99.14934493999998,19.234345059999097],[-99.14943645999988,19.234419049999097],[-99.14953633999988,19.234487709999097],[-99.14957231999988,19.234553879999194],[-99.14956943,19.234625449999196],[-99.14954156999988,19.234681149999098],[-99.14949427999989,19.234744859999097],[-99.14941364999996,19.234800689999098],[-99.14928256999998,19.234844199999195],[-99.14920204999996,19.234887799999093],[-99.14916671999998,19.234957629999197],[-99.14909654999995,19.235034249999096],[-99.14901053999988,19.235117429999097],[-99.14894108999988,19.235192659999097],[-99.14889185999998,19.235363889999093],[-99.14883818,19.235522879999095],[-99.14878939999988,19.235582339999095],[-99.14870708999987,19.235664979999093],[-99.14861394999996,19.235669419999095],[-99.14852997999998,19.235679599999095],[-99.14843696999998,19.2357202199992],[-99.14838985999997,19.235775339999098],[-99.14836991,19.235833309999094],[-99.14837097999995,19.2360016799992],[-99.14829799999988,19.236168429999193],[-99.14823411999998,19.236308459999098],[-99.14813770999989,19.2362641999992],[-99.14809970999988,19.236249289999098],[-99.14806342999997,19.236225399999096],[-99.14801608999989,19.236194779999195],[-99.14798859999988,19.236167859999096],[-99.14797371999998,19.236149889999098],[-99.14796301999988,19.236116919999095],[-99.14795570999988,19.236067449999094],[-99.14800993999988,19.236013059999195],[-99.14805708999997,19.235897969999098],[-99.14811516999998,19.235725339999195],[-99.14816573999998,19.235633509999197],[-99.14826445999996,19.235527829999096],[-99.1483426,19.235435249999096],[-99.14838808999995,19.235337919999196],[-99.14841977999998,19.235131219999097],[-99.14840247999987,19.234977649999195],[-99.14834285999996,19.234897029999093],[-99.1481818,19.234793849999196],[-99.14810107999988,19.234723139999097],[-99.14796561999998,19.234637779999197],[-99.14787673999996,19.234557249999096],[-99.14774231999988,19.234542059999097],[-99.14757845999998,19.234465339999097],[-99.14741495,19.234420849999097],[-99.14688641999996,19.234375569999095],[-99.14672093999997,19.23432116999909],[-99.14658717999995,19.234247629999093],[-99.14644487999998,19.234210569999195],[-99.14633095,19.234201259999193],[-99.14621097,19.234225399999197],[-99.14609042999987,19.234213579999093],[-99.14600054999988,19.234217649999195],[-99.14592245999997,19.234282149999096],[-99.14587508999988,19.234317399999096],[-99.14578085999987,19.234322479999097],[-99.14563673999996,19.234322419999195],[-99.14555782999996,19.234370679999095],[-99.14549817999988,19.234419949999197],[-99.14539822999988,19.234456199999197],[-99.14533208999988,19.234438309999092],[-99.14522047999998,19.234370019999098],[-99.14506196999996,19.234337819999094],[-99.14491977999988,19.234340739999094],[-99.14484428999997,19.234384379999096],[-99.14480434999987,19.234451879999092],[-99.14478216999998,19.234480019999097],[-99.14469067999988,19.234503079999097],[-99.14445253999996,19.234524859999095],[-99.14483785999988,19.235196379999195],[-99.14503931999998,19.235546259999097],[-99.14615541999989,19.237648549999196],[-99.14616865999989,19.237674249999092],[-99.14633482999989,19.23799301999909],[-99.14701590999988,19.239299419999195],[-99.14716617999989,19.239596119999092],[-99.14734157,19.239952829999098],[-99.14751982999996,19.240259219999096],[-99.14736014999988,19.240365369999093],[-99.14713674999987,19.240420539999093],[-99.14701762,19.240429339999096],[-99.14689650999998,19.240409879999092],[-99.1466832,19.240336779999193],[-99.14658333999988,19.240255579999097],[-99.14642390999988,19.240062519999096],[-99.14630802,19.239880119999096],[-99.14621642999998,19.239462459999096],[-99.14612032,19.239328979999097],[-99.14606077999996,19.239328429999095],[-99.14560477,19.239325079999094],[-99.14534468999987,19.239385569999097],[-99.14514497999988,19.239472259999093],[-99.14417722,19.239670149999096],[-99.14401148999995,19.239684489999096],[-99.14394824999988,19.24016005999919],[-99.14394430999988,19.240189749999196],[-99.14397491999988,19.240808819999092],[-99.14397736999987,19.240873449999096],[-99.14400604999996,19.241463179999094],[-99.14403170999996,19.24170213999909],[-99.14405741999995,19.242038319999097],[-99.14408073999986,19.242379749999095],[-99.14409573999988,19.2425572499992],[-99.14411691999996,19.242608719999197],[-99.14412904999988,19.242702319999097],[-99.14416735,19.242998539999093],[-99.14423984999988,19.243558719999093],[-99.14425139999996,19.243660739999097],[-99.14425292,19.244000739999095],[-99.14425087999987,19.244186139999194],[-99.14419182999988,19.244579799999094],[-99.14425539999988,19.244740259999197],[-99.14366578,19.244618629999096],[-99.14331539999988,19.244481199999097],[-99.14233145999997,19.244159029999096],[-99.14223621999996,19.243869339999197],[-99.14205959999998,19.243682089999098],[-99.14200542999995,19.243644339999097],[-99.14171468999996,19.243594509999095],[-99.14165611999988,19.243581219999196],[-99.14170671999987,19.2436540199992],[-99.14170879999988,19.243679829999195],[-99.14165310999988,19.243747749999095],[-99.14162145999995,19.243754649999097],[-99.14114350999988,19.243603629999196],[-99.14109573999995,19.243592429999097],[-99.14104704999988,19.243587819999096],[-99.14038408999988,19.243594719999095],[-99.14033151999998,19.243627909999095],[-99.14028597999996,19.243673969999097],[-99.14022511999998,19.243803319999095],[-99.14019031999996,19.243851309999098],[-99.14000384999996,19.244192819999096],[-99.13892151,19.245966339999093],[-99.13904137999997,19.246042829999094],[-99.13927594999988,19.2462378599992],[-99.13939587999988,19.246361319999195],[-99.13961032,19.246722939999096],[-99.13973813999988,19.246947689999192],[-99.13981687999988,19.247090049999095],[-99.13998899999989,19.247349349999094],[-99.14022882999988,19.247581449999096],[-99.14030257,19.247810539999097],[-99.14036374999988,19.247981339999093],[-99.14051748999997,19.248055349999095],[-99.14062171999988,19.248112089999196],[-99.140812,19.248270089999096],[-99.14095859999998,19.248345449999096],[-99.14110714999998,19.248446629999098],[-99.14137814999997,19.248584799999097],[-99.14156317999998,19.248690909999095],[-99.14166750999998,19.248858849999095],[-99.14172562999988,19.248995199999097],[-99.14169192,19.249083579999095],[-99.14167931999997,19.249166059999094],[-99.14171127999995,19.24936430999909],[-99.14171574999988,19.249434249999094],[-99.14172319999987,19.249518179999097],[-99.14170847999998,19.249551769999098],[-99.14170261999998,19.249590949999096],[-99.14169854999987,19.249690449999193],[-99.14169108999988,19.249751089999197],[-99.14163144999998,19.249858629999192],[-99.14159971999996,19.24993688999919],[-99.14156457999997,19.250000059999092],[-99.14148397999998,19.250131379999097],[-99.14142916999997,19.250263489999192],[-99.14135327999998,19.250394079999097],[-99.14130888999988,19.250478489999097],[-99.14127448999989,19.250554859999095],[-99.14126310999988,19.250612769999098],[-99.14125464999988,19.250647659999096],[-99.14111173999996,19.250756349999197],[-99.14107399999988,19.250828279999094],[-99.14103390999998,19.2508695499992],[-99.14098645999997,19.250911179999097],[-99.14095154999995,19.250947399999095],[-99.14091825999998,19.250955319999097],[-99.14085590999996,19.25096233999919],[-99.14079897,19.250977119999096],[-99.14077248999988,19.251044309999095],[-99.14071757999989,19.2511417799992],[-99.14068975,19.251221249999197],[-99.14065838,19.251225859999096],[-99.14055214999998,19.25125474999909],[-99.14048395,19.251285049999098],[-99.14050165999998,19.251355399999092],[-99.14052074999996,19.251377449999097],[-99.14051463,19.251402549999096],[-99.14048474999998,19.251452519999095],[-99.14045815,19.251540659999097],[-99.14042168,19.2516264599992],[-99.14033513999998,19.251788279999097],[-99.14021219999988,19.251841849999092],[-99.14015616999988,19.251901029999093],[-99.14015621999988,19.2519454499992],[-99.14015973999987,19.251998119999097],[-99.14015768999997,19.252017679999195],[-99.14014061999995,19.2520920799992],[-99.14013019999996,19.252158019999097],[-99.14013296999995,19.252207349999093],[-99.14014250999998,19.252254889999193],[-99.14017169,19.252351509999095],[-99.14017661999998,19.252411629999095],[-99.14019636999988,19.252467709999195],[-99.14020079999987,19.252521829999097],[-99.14018967999998,19.252593449999193],[-99.14014473999998,19.252752379999095],[-99.14010194999996,19.252818689999096],[-99.14008421999988,19.2528625199992],[-99.14002895,19.252941339999097],[-99.13995451999988,19.2530070499992],[-99.13994405999988,19.253092939999092],[-99.13987785999988,19.253245799999195],[-99.13983907999987,19.253303149999095],[-99.13979822,19.253324349999097],[-99.13975868999988,19.253324379999096],[-99.13969237999996,19.253359419999097],[-99.13969245999998,19.253434279999095],[-99.13967097999988,19.253566369999096],[-99.13963359999998,19.253673119999092],[-99.13961168999997,19.253786749999197],[-99.13957744999998,19.253910089999096],[-99.13953831,19.254091949999093],[-99.13949394999996,19.254232709999098],[-99.13947874999997,19.254342229999097],[-99.13940338,19.254604279999096],[-99.13939465999988,19.254693279999096],[-99.13945703,19.25493402999909],[-99.13958693999987,19.255459219999096],[-99.13973305999995,19.255723629999096],[-99.13981828999988,19.255892379999096],[-99.13995156999988,19.25612894999909],[-99.14000901999997,19.256231979999097],[-99.14004445999988,19.256280599999094],[-99.14012077999988,19.256341289999096],[-99.14022168999998,19.256378679999095],[-99.14039061999988,19.256443059999096],[-99.14048497,19.256492939999095],[-99.14053637999989,19.256525679999093],[-99.14058854999988,19.256576689999097],[-99.14074698,19.256863139999098],[-99.14078153999998,19.25694301999919],[-99.14080079999997,19.256999689999095],[-99.14079334999998,19.257071479999095],[-99.14063774,19.257198199999095],[-99.1404538,19.257309619999095],[-99.14031725999988,19.25740150999909],[-99.14025028999995,19.257475569999094],[-99.14020654999996,19.257564109999095],[-99.14018638,19.257637019999095],[-99.14017430999988,19.257702249999095],[-99.14016043,19.2577739499992],[-99.14016307999997,19.257822829999196],[-99.14017289,19.257862419999096],[-99.14020767999988,19.257922309999095],[-99.14025622999998,19.258014019999095],[-99.14033273999998,19.258134089999196],[-99.14045423,19.258288549999097],[-99.14057327999988,19.258393249999095],[-99.14075424999996,19.258542579999094],[-99.14085601999987,19.258677479999196],[-99.14094428999988,19.258771949999097],[-99.14106002999988,19.258833819999097],[-99.14118819999996,19.258900509999098],[-99.14132807999988,19.258962779999095],[-99.14141906,19.259014979999197],[-99.14150428999989,19.259080349999095],[-99.14163682,19.259178749999194],[-99.14172099999988,19.259223779999196],[-99.14178884999988,19.259295459999095],[-99.14191473999988,19.259562549999096],[-99.14202230999987,19.259784679999097],[-99.14209525999998,19.259854829999096],[-99.14221039999988,19.25990651999919],[-99.14225888,19.259992089999095],[-99.14236667999988,19.260234459999097],[-99.14238388999988,19.260347569999094],[-99.14239884999988,19.260469399999096],[-99.14239682,19.260618539999196],[-99.14243433999997,19.260956339999098],[-99.14241311999996,19.261055139999097],[-99.14235031999998,19.261200199999095],[-99.14230193999998,19.261317199999095],[-99.14226641999988,19.261400089999093],[-99.142219,19.261509599999098],[-99.14214604999988,19.261679549999197],[-99.14212687999998,19.261724019999097],[-99.14211491999995,19.261776379999095],[-99.14211018,19.261846969999095],[-99.14225385999995,19.2625469499992],[-99.14228566,19.263026739999095],[-99.14231654999998,19.263229949999097],[-99.14235751999988,19.263292549999097],[-99.14239453999988,19.263352649999096],[-99.14242364999988,19.263436549999096],[-99.14243,19.263596829999095],[-99.14243610999988,19.263764999999093],[-99.14242101999996,19.263955419999096],[-99.14237405999997,19.264160259999095],[-99.14240262,19.264235079999196],[-99.14246817999997,19.26432668999909],[-99.14249891999997,19.264376949999097],[-99.142455,19.264891219999097],[-99.14243164999998,19.265164479999193],[-99.14240313999989,19.266624889999097],[-99.14248750999998,19.266692629999095],[-99.14333102999989,19.266521979999094],[-99.14322337,19.267232219999094],[-99.14344051999988,19.2672532199992],[-99.14362870999996,19.267271769999095],[-99.14385465,19.267306539999197],[-99.14412685999996,19.267343879999096],[-99.14492142999995,19.267446829999095],[-99.14490973999987,19.267559539999095],[-99.14481023,19.267870599999096],[-99.14473056999996,19.268129949999093],[-99.14467997,19.268231599999098],[-99.14455176999998,19.268465509999196],[-99.14435891999987,19.268844279999097],[-99.14394619999996,19.269540539999095],[-99.14376343,19.269510579999096],[-99.14359177999988,19.269510719999097],[-99.14336774,19.269470509999095],[-99.14316488999997,19.269799689999097],[-99.14307057999996,19.270104199999096],[-99.14299976999988,19.270245249999192],[-99.14289577999988,19.270372449999098],[-99.14279607999995,19.270503659999097],[-99.14260993999989,19.270624179999096],[-99.14251784999998,19.270677569999098],[-99.14238768999986,19.270693689999092],[-99.14221079999996,19.270670259999097],[-99.14213927999997,19.270692949999095],[-99.14204781999996,19.270856849999095],[-99.14186862999998,19.271455739999094],[-99.14175992,19.271892829999093],[-99.14163145999996,19.272294079999092],[-99.14141574,19.272777739999096],[-99.14118813999988,19.273534549999095],[-99.14113867999995,19.2737300899992],[-99.14208791999988,19.273944629999193],[-99.14200169,19.274675709999094],[-99.14197667999996,19.2747976199992],[-99.14191377999995,19.275119429999197],[-99.14177251999998,19.275686939999098],[-99.14173044999988,19.276616979999098],[-99.14164373999988,19.277097349999195],[-99.14155785,19.277543969999098],[-99.14153834999988,19.277958319999097],[-99.14150177999989,19.278388149999195],[-99.14143236999988,19.278858079999196],[-99.14145191999988,19.279067109999097],[-99.14146013999998,19.279155079999192],[-99.14134756999988,19.280069489999192],[-99.14119479999988,19.281074029999097],[-99.14119567999988,19.281190399999197],[-99.14107987999988,19.2822927199992],[-99.14105594999988,19.282528599999097],[-99.14089857,19.282498919999096],[-99.14023290999988,19.282385179999192],[-99.13969116999998,19.282316149999097],[-99.13926742999998,19.282265449999095],[-99.13890419999989,19.282243219999096],[-99.13855324999996,19.282228349999095],[-99.13788542999995,19.282206459999095],[-99.13745884999996,19.282210629999096],[-99.13699228999997,19.282234909999097],[-99.13647242999996,19.282276289999096],[-99.13592874999988,19.282335249999193],[-99.13510705,19.282461449999097],[-99.13401339999989,19.28270093999919],[-99.13248428999997,19.283131059999196],[-99.13199442999988,19.283266799999097],[-99.13141631999996,19.283426979999096],[-99.13083197,19.283591139999096],[-99.13037289,19.283720029999095],[-99.12952191999987,19.283958879999197],[-99.12913427999987,19.284067659999096],[-99.12828974999996,19.284305779999197],[-99.12758456999988,19.284501459999095],[-99.12573747999988,19.285018619999093],[-99.12544228999997,19.285103199999092],[-99.12520047999998,19.285167579999197],[-99.12499901999988,19.2852207499992],[-99.12492522,19.285241179999097],[-99.12433759999998,19.285431029999195],[-99.12391017999988,19.285569119999096],[-99.12222210999988,19.286286539999097],[-99.12164612,19.286531619999096],[-99.11793222999988,19.288117879999195],[-99.11571361999988,19.2890606599992],[-99.11490690999987,19.289404199999098],[-99.11453313999998,19.289563709999097],[-99.11284056999988,19.290285969999097],[-99.11160556999988,19.290807489999196],[-99.11036156999998,19.291341619999095],[-99.11029273999998,19.291369689999197],[-99.109294,19.29178654999909],[-99.10813710999996,19.292281139999098],[-99.10617744999998,19.293097999999095],[-99.10573239999997,19.293260819999094],[-99.10568396999996,19.293279599999096],[-99.10502204999987,19.293517139999093],[-99.10462019999989,19.293702369999096],[-99.10444570999988,19.293784939999096],[-99.10396428999996,19.294012719999195],[-99.10375854999988,19.294110059999195],[-99.10289244999989,19.294505549999094],[-99.10274430999998,19.294571859999195],[-99.10136373999988,19.295200059999097],[-99.10122255,19.296627709999093],[-99.10092937999998,19.300018539999098],[-99.10092916999996,19.300021049999096],[-99.10079336999998,19.301253479999193],[-99.10064656999997,19.3027138199992],[-99.10049708999998,19.304456939999092],[-99.10032996999988,19.306466719999197],[-99.10032166,19.306587969999097],[-99.10031296999988,19.306715019999196],[-99.10023256999987,19.307765449999096],[-99.10006917999998,19.3098995499992],[-99.09987891,19.312969419999096],[-99.09966509,19.315503939999093],[-99.09959408,19.316346479999098],[-99.09935030999998,19.319273259999097],[-99.09929451999987,19.320449539999096],[-99.09907625999988,19.320441489999094],[-99.09905917999995,19.320441909999197],[-99.09880065999988,19.320448149999095],[-99.09869648999997,19.319641419999197]]],\"type\":\"Polygon\"},\"properties\":{\"_id\":1,\"cve_ent\":9,\"cve_mun\":13,\"cvegeo\":9013,\"g_pnt_2\":\"19.2451450458,-99.0903636045\",\"geo_shp\":\"{\\\"type\\\": \\\"Polygon\\\", \\\"coordinates\\\": [[[-99.09869648999997, 19.319641419999197], [-99.09848873999987, 19.319038079999096], [-99.09864533999988, 19.318957549999098], [-99.09870973999988, 19.318794919999196], [-99.09868547999997, 19.318674419999095], [-99.09\",\"gid\":5,\"id\":0,\"nomgeo\":\"Xochimilco\"},\"type\":\"Feature\"},{\"geometry\":{\"coordinates\":[[[-99.12919093999987,19.462466519999197],[-99.12884252,19.46226699999919],[-99.12847121999988,19.462054379999092],[-99.12811141999995,19.461848349999094],[-99.12755068999988,19.461527249999197],[-99.12737754999988,19.461460779999197],[-99.12640545999987,19.4611524599992],[-99.12546474,19.460831829999197],[-99.12462231999989,19.460549599999094],[-99.1241624,19.460397709999096],[-99.12371864999989,19.460251119999196],[-99.12330644999996,19.460118649999096],[-99.12287174999987,19.459977579999094],[-99.12241122999988,19.459830049999095],[-99.12224179999995,19.459782569999096],[-99.12224121999998,19.459782399999096],[-99.12224181999989,19.459781619999195],[-99.12283993999988,19.459002379999195],[-99.12317992,19.458511829999093],[-99.12333157999988,19.458154339999197],[-99.12335951999997,19.458028689999093],[-99.12358376999995,19.4570286799992],[-99.12369003,19.456429549999196],[-99.12378102999998,19.4560297699992],[-99.12410622999988,19.454795089999195],[-99.12416571999988,19.454545319999095],[-99.12427807999988,19.454097799999197],[-99.12442273999989,19.453335689999097],[-99.12478236999998,19.4520090499992],[-99.12501614999998,19.451500249999093],[-99.12502450999988,19.451483289999096],[-99.12506804999995,19.45139494999909],[-99.12521266,19.451086259999094],[-99.12548128999995,19.450204309999194],[-99.12555258,19.449835289999193],[-99.12568584999995,19.449215649999097],[-99.12588902999988,19.448186949999094],[-99.12592917999989,19.447794939999092],[-99.1259292,19.447794779999096],[-99.1259292,19.447793999999096],[-99.12593005999996,19.447619089999197],[-99.12593005999996,19.447618119999092],[-99.12586657999996,19.447404919999094],[-99.12570768999989,19.447123779999096],[-99.12558859999996,19.446949769999097],[-99.12538191999988,19.446647769999096],[-99.12448225999997,19.444977399999097],[-99.12419455,19.444411319999094],[-99.12385416999987,19.443716769999096],[-99.12378484999988,19.443574259999092],[-99.12311467999989,19.442659689999097],[-99.12307885999988,19.442495659999196],[-99.12307882,19.442495449999097],[-99.12307887999997,19.442494719999097],[-99.12316219999995,19.441580799999095],[-99.12326784999998,19.440853229999192],[-99.1233564,19.440190819999096],[-99.12344489,19.439555489999098],[-99.12360131,19.438638879999093],[-99.12376491999996,19.437495149999094],[-99.12393953999998,19.436418779999094],[-99.12406887999998,19.435587019999097],[-99.12418331999996,19.434712429999195],[-99.12433464999997,19.433924319999093],[-99.12451905999988,19.432806459999092],[-99.12462994,19.431985649999096],[-99.12473285999988,19.431259419999197],[-99.12478182999988,19.430827799999197],[-99.12491328999988,19.429985659999193],[-99.12494396999988,19.429783509999098],[-99.12503661999988,19.429164579999192],[-99.12511813999998,19.428698919999096],[-99.12518259999987,19.428318969999193],[-99.12527097999995,19.427632769999093],[-99.12542998,19.426776419999197],[-99.12547370999988,19.426538479999095],[-99.12548905999986,19.426437449999092],[-99.12553885999988,19.425849349999197],[-99.12559082999996,19.425552579999096],[-99.12561924999989,19.425398479999192],[-99.12562836999987,19.4253450899992],[-99.12576650999988,19.424362399999193],[-99.12589428999988,19.4235012899992],[-99.12600614999997,19.422872659999197],[-99.12607936999989,19.422761249999095],[-99.12622088999989,19.42248610999909],[-99.12658274999988,19.421699459999196],[-99.12700769,19.420750459999095],[-99.12713928999987,19.4203780599992],[-99.12737262999998,19.418987849999095],[-99.12740927999988,19.418678289999097],[-99.12761777999997,19.417400799999097],[-99.12782917,19.415957919999094],[-99.12790062999989,19.415540709999096],[-99.12807922999995,19.414555369999196],[-99.12819964999989,19.413760459999192],[-99.12819971999988,19.413759939999096],[-99.12819965999988,19.413759519999093],[-99.12815457999989,19.413437879999194],[-99.12800316999989,19.413022619999097],[-99.12784728999998,19.412279909999196],[-99.12775714,19.411813919999094],[-99.12769150999998,19.411449739999096],[-99.12759054999997,19.411048659999196],[-99.12741758,19.4104834899992],[-99.12729727999988,19.410045309999095],[-99.12719102999988,19.409595109999092],[-99.12716885999998,19.409269429999096],[-99.12716796999996,19.409011089999098],[-99.12674047999998,19.408822679999098],[-99.12654319999989,19.408261349999098],[-99.12639294999995,19.407742059999094],[-99.12627179999996,19.407171029999095],[-99.12618756999989,19.406826599999096],[-99.12614981999997,19.406678169999193],[-99.12586725999988,19.405193549999098],[-99.12569845999998,19.404330679999095],[-99.12640447999988,19.40419627999909],[-99.12647591999998,19.4041845999992],[-99.12706414999997,19.404067769999095],[-99.12751579999995,19.403927399999095],[-99.12769509,19.403876279999196],[-99.12792242999988,19.403810709999195],[-99.12814356999988,19.403741919999195],[-99.12831508999987,19.403690509999095],[-99.12883521999996,19.403545829999096],[-99.12950451999988,19.403338999999196],[-99.12979124999995,19.403261489999192],[-99.13003936999988,19.403207569999097],[-99.13031099999988,19.403164879999196],[-99.13052938,19.403136289999196],[-99.13058844999988,19.403130229999096],[-99.13085662,19.403111109999195],[-99.13105721999987,19.403105619999195],[-99.13111927999988,19.403103059999097],[-99.13149833999998,19.403118549999096],[-99.13161937999988,19.403125109999195],[-99.13197556999988,19.403148279999098],[-99.13218328,19.403162709999197],[-99.13249891999996,19.403191419999196],[-99.13273529,19.403205619999095],[-99.13291244999998,19.403213219999095],[-99.13324145999997,19.403236829999095],[-99.13380021999988,19.403264679999197],[-99.13429794999988,19.403299179999095],[-99.13471908999998,19.403322879999195],[-99.13516277999996,19.403349779999093],[-99.13542121999996,19.403362569999192],[-99.13563958,19.403281049999094],[-99.13574982999988,19.403196919999097],[-99.13587344999988,19.403054649999195],[-99.13603939999987,19.402910829999097],[-99.13625054999989,19.40284222999909],[-99.13644191999995,19.402810649999097],[-99.13658764999995,19.402811819999194],[-99.13670027999996,19.402827909999097],[-99.13689263,19.402883819999097],[-99.13703479999998,19.402958199999095],[-99.137124,19.403061509999095],[-99.13717407999997,19.403183249999095],[-99.13723501999998,19.403310739999196],[-99.13734405999998,19.403438199999098],[-99.13740614999988,19.403463539999095],[-99.13764101999998,19.403479569999195],[-99.13820319999986,19.403509349999094],[-99.13914079999998,19.403562979999094],[-99.1400472,19.403616599999197],[-99.14089375,19.4036575799992],[-99.14174962999998,19.403706229999095],[-99.14267289,19.403757889999095],[-99.14340989,19.403793689999095],[-99.14416751999988,19.403833449999095],[-99.14497516999988,19.403875249999096],[-99.14590976999988,19.403936419999095],[-99.14602621999998,19.403940939999096],[-99.14680862999998,19.403981139999097],[-99.14762371999988,19.404014509999097],[-99.14794562999997,19.404019629999095],[-99.14849468999986,19.404028369999097],[-99.14860717999989,19.404031569999095],[-99.14877387999996,19.404032939999095],[-99.14973629,19.404040819999096],[-99.15020501999996,19.404049649999095],[-99.15114142999988,19.404051229999094],[-99.15123376999998,19.404052399999095],[-99.15177308999988,19.404058779999193],[-99.15241807999998,19.404057919999197],[-99.15310862999988,19.404055259999193],[-99.15539505999998,19.404060199999098],[-99.15616586,19.404060119999095],[-99.15632922999995,19.404063279999196],[-99.15670064999988,19.404024029999196],[-99.15695684999996,19.403982949999197],[-99.15717367999996,19.403933119999095],[-99.15772825999989,19.403785519999097],[-99.15814733999996,19.40366093999919],[-99.15853719999988,19.403546879999094],[-99.15898881999998,19.403413309999195],[-99.15968665999998,19.403200599999096],[-99.16033771999996,19.403010999999196],[-99.16076617,19.402879459999095],[-99.16088516999996,19.402842889999096],[-99.16133008999998,19.402706169999096],[-99.16177114999986,19.402574819999096],[-99.16228542,19.402405539999194],[-99.16268502999998,19.402282539999092],[-99.16301648999988,19.402174349999196],[-99.16324727999996,19.402101179999097],[-99.16380662999995,19.401906849999097],[-99.16433191999988,19.401715569999094],[-99.16476279999988,19.401531889999095],[-99.16526593999998,19.401330289999095],[-99.16587185,19.401103579999095],[-99.16647792,19.400878849999096],[-99.16712233999998,19.400628149999097],[-99.16754282999987,19.400483479999195],[-99.16789733999995,19.400387949999097],[-99.16806910999998,19.400347479999095],[-99.16894890999998,19.400140139999195],[-99.17024551999997,19.399834579999094],[-99.17043551999988,19.3997897999992],[-99.17039464999998,19.399950059999096],[-99.17035910999988,19.400200939999092],[-99.17037430999989,19.400331779999096],[-99.17076636999997,19.401797879999098],[-99.17077348999996,19.401840229999095],[-99.17085448999988,19.402214779999195],[-99.17097244999997,19.4027481099992],[-99.17107853999988,19.403497169999095],[-99.17167691,19.403634709999096],[-99.17177317999987,19.403664739999197],[-99.17261451,19.403930509999196],[-99.17346652,19.404209709999098],[-99.17438754999988,19.404521449999095],[-99.17487267999998,19.404680549999096],[-99.1752974,19.404824629999094],[-99.17620202999989,19.405122849999092],[-99.17712865,19.405447399999098],[-99.17794677999998,19.405748369999095],[-99.17891619999988,19.406070489999095],[-99.17981908999998,19.406376229999097],[-99.18068227999998,19.406648539999193],[-99.18247191999988,19.407217879999095],[-99.18430390999995,19.407826979999097],[-99.18354764999997,19.409319919999092],[-99.18350105999995,19.409406489999096],[-99.18301022,19.410252339999197],[-99.18293893999996,19.410377059999096],[-99.18252083,19.410914749999197],[-99.18214925999987,19.411487399999196],[-99.18162383,19.412358059999093],[-99.18136002999996,19.412712969999095],[-99.18114247999988,19.413078889999092],[-99.18100567999988,19.413297249999097],[-99.18050191999998,19.414144859999094],[-99.18032291999997,19.414465449999096],[-99.17974928999988,19.415547139999095],[-99.17953251999988,19.415931229999096],[-99.178977,19.416929719999096],[-99.17832923,19.418112279999196],[-99.17810043,19.418524149999193],[-99.17789684999995,19.418954109999195],[-99.17776610999988,19.419285819999097],[-99.17749374,19.419468519999192],[-99.17714827999995,19.420026949999095],[-99.17698591999986,19.420130579999096],[-99.17685616999988,19.42015825999909],[-99.17674471999996,19.420226289999196],[-99.17667302999988,19.420301169999195],[-99.176617,19.420377309999097],[-99.17654908999997,19.420453859999192],[-99.17647267999988,19.420562769999098],[-99.17643857999995,19.420687509999095],[-99.17641594,19.420837819999097],[-99.17637750999997,19.420973169999098],[-99.17633261999998,19.421040489999196],[-99.17632548999988,19.421115879999093],[-99.17635377999989,19.421193579999095],[-99.17634610999988,19.421265429999195],[-99.17627345999988,19.421458219999096],[-99.17566136999989,19.42259614999919],[-99.17559062999996,19.422670889999193],[-99.17550758,19.4227217499992],[-99.17542633999987,19.422734949999196],[-99.17534031999998,19.422721319999095],[-99.17529054999989,19.422694429999098],[-99.1752612,19.422749599999097],[-99.17505501999987,19.4230427999992],[-99.17509612,19.4231592899992],[-99.17520417,19.423207829999097],[-99.17567813999987,19.423338459999098],[-99.17593613999998,19.423331939999095],[-99.17621987999988,19.423357969999095],[-99.17694367999997,19.423473019999197],[-99.17763621999988,19.423595689999097],[-99.17706611999988,19.42452381999909],[-99.17665522999988,19.425178739999097],[-99.17645682999988,19.425466309999095],[-99.17618550999998,19.425916259999095],[-99.17565808999989,19.426722779999093],[-99.17557922999995,19.426840349999193],[-99.17474285,19.4280872899992],[-99.17468426,19.428178289999195],[-99.17439024999996,19.428635089999197],[-99.17426541999998,19.428828979999096],[-99.17378256999989,19.429545249999197],[-99.17301315,19.430939339999092],[-99.17263552,19.431631219999197],[-99.17220908999998,19.432402519999098],[-99.17174677999998,19.433145979999196],[-99.17143333999996,19.433603089999195],[-99.17119241999988,19.43398045999909],[-99.17058153999989,19.434891919999096],[-99.16967822,19.436325509999197],[-99.16911114,19.437160769999096],[-99.16879796999989,19.437633119999095],[-99.16848654999988,19.4381520199992],[-99.16817796999996,19.438789919999095],[-99.16793987999988,19.439285169999195],[-99.16763950999996,19.439918829999097],[-99.16741821999987,19.440358829999095],[-99.16688968999988,19.441461859999094],[-99.16641461999988,19.442524179999197],[-99.16590151999998,19.4433847999992],[-99.16578097999997,19.443648679999097],[-99.16572061999987,19.443820459999095],[-99.16553401999988,19.444586629999097],[-99.16538531,19.445184109999197],[-99.16530159999998,19.445537049999096],[-99.16521973999988,19.445905849999097],[-99.16513537,19.446293149999097],[-99.16503897999988,19.446697909999195],[-99.16491773999998,19.447276659999197],[-99.16483907999998,19.447671119999196],[-99.16473417,19.448172569999095],[-99.16450704999988,19.449186519999195],[-99.16439602999998,19.449662599999193],[-99.16433061999996,19.449984679999194],[-99.16430557999988,19.450626909999094],[-99.16427225999988,19.451849079999096],[-99.16422796999989,19.452335889999095],[-99.16419983,19.452682429999097],[-99.16408122999998,19.453713819999095],[-99.16401182,19.454273019999096],[-99.16382292,19.455816849999195],[-99.16371952,19.45639688999919],[-99.16371276999988,19.456434769999095],[-99.16357139999997,19.457064029999092],[-99.16345794999988,19.45755359999909],[-99.16331674999998,19.4581627199992],[-99.16315414999998,19.45888347999919],[-99.16308164999997,19.4590629199992],[-99.16293477999989,19.459341319999197],[-99.16282617,19.459489829999093],[-99.16269930999988,19.459637309999195],[-99.16257090999989,19.459771819999197],[-99.16232114999998,19.459971919999095],[-99.16210036999998,19.460135139999096],[-99.16162277999987,19.4604929699992],[-99.16126937999998,19.460768019999097],[-99.16105367999988,19.460968889999094],[-99.16086584999988,19.461188679999196],[-99.16071644999988,19.461406059999195],[-99.16044631999988,19.461872859999097],[-99.16025847999995,19.462211569999095],[-99.1600446,19.462600579999098],[-99.15972976999988,19.463067479999193],[-99.15954890999988,19.463324459999097],[-99.15945048999995,19.463427059999095],[-99.15930382999989,19.463553549999094],[-99.15910165999998,19.4636982599992],[-99.15885310999988,19.463838999999197],[-99.15865070999988,19.463924949999097],[-99.15824544999998,19.4640382799992],[-99.15793969,19.464080229999094],[-99.15757734,19.464082079999095],[-99.15731128999988,19.464054649999095],[-99.15708018,19.464014939999096],[-99.15652817999988,19.463904459999096],[-99.15608519999988,19.4637913499992],[-99.15568405999988,19.463696549999092],[-99.15499414,19.463567399999196],[-99.15454996999988,19.463478819999096],[-99.15362125999997,19.463302679999096],[-99.15347219999988,19.463270999999196],[-99.15322277999996,19.463242229999196],[-99.15287977,19.463202649999097],[-99.15236654999988,19.463140089999097],[-99.15168747999986,19.463053449999197],[-99.15082802999989,19.462948289999098],[-99.15055404999998,19.462940429999097],[-99.150314,19.462960119999096],[-99.15002824999998,19.46301691999909],[-99.14873622999988,19.463337479999197],[-99.14832573999988,19.463437049999097],[-99.14803681999987,19.463507119999097],[-99.14773533999988,19.463596339999096],[-99.14730637999996,19.463723279999098],[-99.14682917,19.463860419999097],[-99.14661574999998,19.463921739999098],[-99.14630967999987,19.46400968999909],[-99.14580454999997,19.464154849999197],[-99.14524474999988,19.464315689999097],[-99.14311811999988,19.465062689999098],[-99.14247156999988,19.465572909999196],[-99.14237039999988,19.465648819999195],[-99.14214192,19.465769949999096],[-99.14193263,19.465824369999197],[-99.14174041999998,19.465815939999093],[-99.14165001999996,19.46579899999919],[-99.14147934999988,19.465723369999097],[-99.14142442999996,19.465677089999097],[-99.14132399999988,19.465566509999096],[-99.14121281999998,19.4654683799992],[-99.14110005,19.465418289999196],[-99.14098956999996,19.46539057999909],[-99.14080726,19.465352819999097],[-99.13981031999998,19.465246139999095],[-99.13922354999988,19.465183339999097],[-99.13859227999995,19.465158169999196],[-99.13749733999998,19.465105649999195],[-99.13613773999997,19.4650595199992],[-99.13492084999989,19.465008909999195],[-99.13422907999988,19.464980889999197],[-99.13383825999988,19.464961479999097],[-99.13368113999996,19.464939179999092],[-99.13333667999989,19.464854169999096],[-99.13312062999998,19.464764779999093],[-99.13286162999997,19.464641489999195],[-99.13242568999998,19.46437577999909],[-99.13141864999989,19.463783219999097],[-99.13090596999996,19.463476719999097],[-99.13043213999995,19.463195719999096],[-99.12951211999987,19.46265044999919],[-99.12919093999987,19.462466519999197]]],\"type\":\"Polygon\"},\"properties\":{\"_id\":2,\"cve_ent\":9,\"cve_mun\":15,\"cvegeo\":9015,\"g_pnt_2\":\"19.4313734294,-99.1490557562\",\"geo_shp\":\"{\\\"type\\\": \\\"Polygon\\\", \\\"coordinates\\\": [[[-99.12919093999987, 19.462466519999197], [-99.12884252, 19.462266999999194], [-99.12847121999987, 19.462054379999092], [-99.12811141999997, 19.461848349999098], [-99.12755068999988, 19.461527249999197], [-99.12737754\",\"gid\":13,\"id\":1,\"nomgeo\":\"Cuauhtmoc\"},\"type\":\"Feature\"},{\"geometry\":{\"coordinates\":[[[-99.05583625999998,19.421961229999095],[-99.05588834999998,19.421550489999195],[-99.05601674999998,19.420537969999096],[-99.05601859999987,19.42052348999919],[-99.05611551999998,19.419759259999097],[-99.05616762999988,19.419348339999196],[-99.05617879999988,19.419260229999196],[-99.05631145999988,19.418214139999098],[-99.05631147999998,19.418214049999197],[-99.05631149,19.418213949999195],[-99.05640108999988,19.4175074299992],[-99.05644401999989,19.417051919999196],[-99.05647470999996,19.416726229999092],[-99.05655236999998,19.415902199999195],[-99.05657570999988,19.4156545699992],[-99.05663865999998,19.414986569999197],[-99.05665628999998,19.414799599999096],[-99.05667659999988,19.414609479999097],[-99.05672739999989,19.41413365999909],[-99.05676487999988,19.413782819999096],[-99.05679094999986,19.413538569999098],[-99.05682287999998,19.413239709999097],[-99.05684656999988,19.413017799999093],[-99.05690948999988,19.412428619999194],[-99.05692229,19.412308679999096],[-99.05707499999988,19.41087881999909],[-99.05709105999988,19.410728399999098],[-99.05715616999996,19.410118709999196],[-99.05719153999988,19.409787479999093],[-99.05720516999996,19.409656279999098],[-99.057237,19.409349579999095],[-99.05731767999995,19.408572449999195],[-99.05735615,19.408201879999098],[-99.05738644999995,19.407910029999098],[-99.05747624999998,19.407045089999095],[-99.05750894999989,19.4067299699992],[-99.05752501999989,19.406575279999096],[-99.05755010999997,19.406333579999096],[-99.05760484999998,19.405806219999196],[-99.05765165999998,19.405355289999097],[-99.05770304999996,19.404860289999096],[-99.05771611999997,19.404734349999195],[-99.05775762999998,19.404334489999098],[-99.05780784999988,19.403850739999097],[-99.05785817999995,19.403365849999098],[-99.05792456999988,19.402726369999097],[-99.05810665999998,19.400972119999096],[-99.05811933999988,19.400849979999094],[-99.05813288,19.4007195799992],[-99.05826756999988,19.400735849999094],[-99.05831798,19.400281219999098],[-99.05835396999998,19.399956019999095],[-99.05837384999988,19.399776569999094],[-99.05851224999998,19.398612369999096],[-99.05855837999997,19.398293679999096],[-99.05855797999996,19.398224149999095],[-99.05866256999998,19.397141679999095],[-99.05877428,19.396116059999095],[-99.05882377999988,19.395705509999097],[-99.05892687999987,19.395092419999095],[-99.05897602999988,19.394536979999092],[-99.05897693999997,19.394254619999096],[-99.05908644999988,19.393761619999093],[-99.05915925999987,19.393370149999196],[-99.05918802999996,19.393252109999096],[-99.05923246,19.393027399999095],[-99.05935151999986,19.392286079999195],[-99.05941787999988,19.391889199999095],[-99.05944602999988,19.391655109999096],[-99.05949347999996,19.391388859999196],[-99.05952949,19.391211119999095],[-99.05959790999997,19.390696479999097],[-99.05971314999988,19.390008109999098],[-99.05979696999998,19.389649939999096],[-99.05999031999988,19.388291659999098],[-99.06004276999988,19.387984739999094],[-99.06016628999998,19.38732688999909],[-99.06020748999995,19.387047059999095],[-99.06025150999989,19.386735059999097],[-99.06034951,19.386157449999097],[-99.06037016999989,19.386064859999095],[-99.06042789,19.385721459999097],[-99.06051010999988,19.385251149999096],[-99.06064434999988,19.384338799999092],[-99.06078232,19.383510569999096],[-99.06080010999987,19.383316799999196],[-99.06083148,19.383135059999095],[-99.06084839999988,19.382588319999098],[-99.06152633999989,19.382696479999098],[-99.06239205999996,19.382850459999094],[-99.06324850999988,19.382996059999098],[-99.06365959999988,19.383072489999194],[-99.06412644999988,19.383142979999196],[-99.06499762999988,19.383306599999095],[-99.06583542999988,19.383460519999097],[-99.06636556999987,19.383537109999196],[-99.0667346,19.383716779999094],[-99.06760554999988,19.384172259999197],[-99.06895561999988,19.384863059999095],[-99.06947801999998,19.385130999999095],[-99.06994928999988,19.385376489999093],[-99.07044408999997,19.385625599999095],[-99.07072637999988,19.385777679999094],[-99.07092204999996,19.385882719999096],[-99.07137722,19.386142399999095],[-99.07173516999995,19.386327219999096],[-99.07212715,19.386513599999095],[-99.07252502999988,19.386724229999093],[-99.07301445999998,19.386955489999195],[-99.07348924999997,19.387211659999195],[-99.07391050999998,19.387431479999098],[-99.07432966,19.387637169999095],[-99.07484253999988,19.387897349999196],[-99.07589339999998,19.388469749999196],[-99.07631764999998,19.388683629999097],[-99.07675815,19.388899449999197],[-99.07726214999995,19.389142949999098],[-99.07785299999988,19.38945485999919],[-99.07835457999988,19.389726689999097],[-99.07881142999996,19.38994842999919],[-99.07885977999987,19.389975939999196],[-99.07936171999988,19.390231229999095],[-99.07938699999988,19.390247289999092],[-99.07994085999998,19.390532399999092],[-99.08037230999996,19.390776169999096],[-99.08044819999998,19.390815939999097],[-99.08069259999998,19.39093364999909],[-99.08091297,19.391048539999097],[-99.08105201999987,19.3911148899992],[-99.08136764999988,19.391291339999192],[-99.08142870999988,19.391318799999095],[-99.08177542999988,19.391499949999098],[-99.08191367999989,19.391559419999197],[-99.08211276999998,19.391657119999095],[-99.08237513999995,19.391798969999098],[-99.08243968999987,19.391833539999094],[-99.08279907999996,19.392030279999094],[-99.08313962999988,19.392215979999097],[-99.08320817999996,19.392246289999097],[-99.08358290999988,19.392427749999097],[-99.08364827999998,19.392474419999097],[-99.08401797999989,19.392572149999097],[-99.08403214,19.392496149999197],[-99.08414313999997,19.391900279999195],[-99.08422928999988,19.391467859999096],[-99.08430523,19.391075859999095],[-99.08432421999998,19.390959879999095],[-99.08438442999989,19.390635059999095],[-99.08452539999988,19.389928339999095],[-99.08458373999996,19.389475279999097],[-99.08490701999987,19.389670479999097],[-99.08637436999996,19.390102829999197],[-99.08652653999997,19.390152089999095],[-99.08657047999998,19.390057369999095],[-99.08665794999987,19.39006311999909],[-99.08676748999989,19.390072399999095],[-99.08686398,19.390091879999098],[-99.08712684999988,19.390129919999097],[-99.08749225999998,19.390184429999096],[-99.08786023,19.390237019999095],[-99.08824294999988,19.390286969999092],[-99.08880136999989,19.390382309999097],[-99.08899559999998,19.390079199999093],[-99.08913521999987,19.38985787999909],[-99.08932633999989,19.389554579999093],[-99.08950342999997,19.389266829999197],[-99.08967822999988,19.388998849999194],[-99.08986696999987,19.388715429999095],[-99.09021690999997,19.388173549999095],[-99.09038829,19.387899119999197],[-99.09047785999998,19.387759079999096],[-99.09054819999989,19.387652779999097],[-99.09073808999987,19.387365799999095],[-99.09093834,19.38705547999919],[-99.09116642999996,19.386702259999097],[-99.09155717999988,19.386070889999097],[-99.09189435,19.385540289999096],[-99.09223754,19.3849998199992],[-99.09231708999988,19.384862139999196],[-99.09284594999998,19.384053279999097],[-99.09289742999988,19.383904849999094],[-99.09297924999996,19.383728999999196],[-99.09314510999997,19.383493489999097],[-99.09324501999998,19.383338029999095],[-99.09353397999988,19.382888309999093],[-99.09391128999988,19.382301119999095],[-99.09435322999995,19.381613349999096],[-99.09455674,19.381296649999097],[-99.09471237999998,19.381054419999096],[-99.09482690999988,19.380876179999095],[-99.094882,19.380790449999193],[-99.09507305999988,19.380493109999097],[-99.09526234999998,19.380198509999097],[-99.09564764999998,19.379598879999197],[-99.09598617999988,19.379740549999095],[-99.09630056999995,19.37975307999919],[-99.09666351999986,19.379780649999095],[-99.09702050999988,19.379810119999192],[-99.09728785999988,19.379835119999093],[-99.09761422999998,19.37986859999919],[-99.09796745999986,19.379909719999095],[-99.09831409,19.379953599999094],[-99.09872001999996,19.379998679999098],[-99.09913581999989,19.380045229999094],[-99.09951322999989,19.380087939999097],[-99.10079372,19.380232019999095],[-99.10109154,19.380243319999096],[-99.10114424999988,19.380242079999096],[-99.10125042999988,19.380239579999092],[-99.10301784999989,19.380447379999193],[-99.10336951999987,19.380510139999195],[-99.10375533999988,19.380557179999094],[-99.10426524999995,19.3806274299992],[-99.10475404999988,19.380690079999095],[-99.10510706,19.380737919999095],[-99.10540277999988,19.380775599999097],[-99.10566672,19.380809769999097],[-99.10572451999997,19.380809739999194],[-99.10593773999987,19.38083121999909],[-99.10608934999998,19.380848289999093],[-99.10630030999988,19.380862369999093],[-99.10655864999988,19.380856049999096],[-99.10674528,19.380864279999095],[-99.10685357999988,19.380875259999097],[-99.10692870999998,19.380882459999196],[-99.10703845999988,19.380893229999096],[-99.10720071,19.380909709999095],[-99.10731473999998,19.380921279999097],[-99.10736236999998,19.380926319999094],[-99.10743371999988,19.380940879999095],[-99.10767139999987,19.380962149999096],[-99.10800567999988,19.381001629999098],[-99.10852239999998,19.381067179999096],[-99.10856934999998,19.381070459999098],[-99.10875374999988,19.381096119999096],[-99.10892919999998,19.381119939999195],[-99.10918377999998,19.381148819999098],[-99.10939807999988,19.381173139999195],[-99.10943575,19.38117901999909],[-99.11038685999988,19.381292799999095],[-99.11041537999988,19.381295459999095],[-99.11045893999987,19.381301999999092],[-99.11052608999988,19.3813090299992],[-99.11055644999998,19.381311539999196],[-99.11058277999987,19.381314509999097],[-99.11093601999988,19.381355919999095],[-99.11112317999988,19.381400519999097],[-99.11133401999996,19.381441679999096],[-99.11156037999989,19.381482579999197],[-99.11173025999987,19.381509519999195],[-99.11195964999987,19.381543539999097],[-99.11204633999988,19.38155537999919],[-99.11220982,19.381579149999094],[-99.11238077999997,19.381609579999097],[-99.11259870999996,19.381641739999196],[-99.11272051999998,19.381658689999195],[-99.11283259999998,19.381671769999095],[-99.11305774999988,19.381678419999197],[-99.11311447999996,19.381679519999096],[-99.11337947999998,19.381694049999098],[-99.11356605999998,19.381709489999096],[-99.11376025,19.381731149999094],[-99.11391517,19.381754939999094],[-99.1140968,19.381782539999193],[-99.11440465999998,19.381827719999094],[-99.11446476999996,19.381836199999096],[-99.11473951999989,19.381884249999096],[-99.11480514999988,19.381893449999193],[-99.11504107999995,19.381918659999094],[-99.11512716999988,19.381932879999095],[-99.11530690999987,19.38195313999919],[-99.11541101999988,19.381962399999097],[-99.11558910999996,19.381975289999197],[-99.11572968999998,19.381999519999095],[-99.11583537999998,19.382017029999098],[-99.11601834999998,19.382036719999096],[-99.11614185999996,19.3820522499992],[-99.11631984999995,19.382064739999095],[-99.11647522,19.382080819999096],[-99.11667094999989,19.382092689999094],[-99.11676893999996,19.382105719999096],[-99.11692114999988,19.382122339999096],[-99.11702873999997,19.38212833999919],[-99.11719624999988,19.382137749999092],[-99.11736888999997,19.382146369999095],[-99.11756588999997,19.382152629999197],[-99.11766301999988,19.382157599999097],[-99.11771454999987,19.382160689999097],[-99.11778305,19.382161049999095],[-99.11782441999998,19.382163619999098],[-99.11793028999988,19.382168429999098],[-99.11808890999998,19.382176169999095],[-99.11817394999996,19.382182079999193],[-99.11843079999989,19.382199249999097],[-99.11880345,19.382225779999096],[-99.11908257999988,19.382239949999096],[-99.11936625999998,19.382253109999095],[-99.11978602999989,19.382278349999197],[-99.12011414999988,19.382294599999096],[-99.12038791,19.382309509999097],[-99.12055388,19.382315679999095],[-99.12085166,19.382329689999096],[-99.12112659999998,19.382348149999096],[-99.12247650999988,19.382440689999097],[-99.12255719999987,19.381497939999097],[-99.12256262999988,19.381311999999095],[-99.12259299999988,19.380274659999095],[-99.12257647999988,19.380107679999092],[-99.12258914999995,19.378906709999097],[-99.12256598,19.377720259999094],[-99.12253391999997,19.375699509999095],[-99.12266368999998,19.375737969999097],[-99.12316970999989,19.375836779999197],[-99.12355425,19.375900319999097],[-99.12398121999998,19.375976709999097],[-99.12409433999989,19.375999879999096],[-99.12440779999996,19.376055139999195],[-99.12457971,19.376096309999095],[-99.12501750999988,19.376190889999094],[-99.12526668999998,19.376231939999094],[-99.12543462999996,19.376260709999094],[-99.12589265999998,19.376328399999196],[-99.12597350999988,19.376341859999098],[-99.12616889,19.376379969999093],[-99.12639002,19.376411369999097],[-99.12644471,19.376422619999197],[-99.12666144999996,19.376472149999096],[-99.12680136999997,19.376498029999095],[-99.12724096999987,19.376567659999097],[-99.12732371999986,19.3765795699992],[-99.12744813999988,19.376598369999098],[-99.12761597999996,19.376634349999197],[-99.12782466,19.376673779999095],[-99.12827865,19.376758569999197],[-99.128363,19.37677421999919],[-99.12841351999997,19.376784939999094],[-99.12910508,19.376905629999097],[-99.12947757999989,19.376975659999097],[-99.12953830999996,19.376993139999097],[-99.12958050999995,19.376998109999096],[-99.12969985999987,19.377029139999095],[-99.13008173999997,19.377067509999197],[-99.13019842999988,19.377077969999096],[-99.13056877999998,19.377114679999096],[-99.13084139999988,19.377139749999095],[-99.13106997999988,19.377169489999098],[-99.13140247999988,19.377202769999197],[-99.13154984999989,19.377215249999193],[-99.13200722,19.377256199999096],[-99.13244846,19.377302949999095],[-99.13287916999998,19.377349719999096],[-99.13333142999988,19.377396779999096],[-99.13385045999988,19.377448339999095],[-99.13415139999988,19.3774804599992],[-99.13503094999996,19.377400519999195],[-99.13542468999997,19.377306249999094],[-99.13548771999989,19.377186979999095],[-99.13533201999998,19.377960779999096],[-99.13499891999996,19.379267579999095],[-99.13470645999988,19.380580969999095],[-99.13456034999987,19.381290749999195],[-99.13443579999988,19.381967509999097],[-99.13439241999995,19.382169999999093],[-99.13432412,19.382509629999195],[-99.13420054999987,19.383163689999098],[-99.13414516999988,19.383414449999098],[-99.13392245999988,19.384471139999192],[-99.1338762,19.384663509999093],[-99.13363556999995,19.385727119999196],[-99.13362542,19.385771999999097],[-99.13357734999988,19.385959689999197],[-99.13345437999998,19.386469949999093],[-99.13341024999988,19.386653149999095],[-99.13321579999987,19.387490199999096],[-99.13304508999988,19.388367539999095],[-99.13300602999998,19.388563279999097],[-99.13287891,19.389206339999095],[-99.13276284999988,19.389736459999096],[-99.13271711999988,19.389979619999195],[-99.13267408999997,19.390186509999097],[-99.13239781999988,19.391157199999196],[-99.13236151999998,19.391311629999095],[-99.13210714,19.3924918299992],[-99.13206476999989,19.392662449999197],[-99.13204193999997,19.39279337999919],[-99.13188468999988,19.393547649999192],[-99.13186145999995,19.393669799999095],[-99.13168836999988,19.394523399999095],[-99.13165588999998,19.394682679999097],[-99.13147713999987,19.395552579999197],[-99.13143171999998,19.395745659999093],[-99.13129176999998,19.396275909999098],[-99.13116311,19.396540629999095],[-99.13103405999998,19.396729229999096],[-99.13096717999998,19.397637909999197],[-99.13094248999988,19.398954319999095],[-99.13152224999996,19.398960289999096],[-99.13186384999987,19.398963829999197],[-99.13244602,19.398986939999094],[-99.13294842,19.399012979999192],[-99.13345125999987,19.399023569999095],[-99.13404437,19.399034799999097],[-99.13471297999988,19.399070349999192],[-99.13526628999988,19.399092079999097],[-99.13584330999998,19.399111579999197],[-99.13631653999988,19.399137289999196],[-99.13718232,19.399200319999093],[-99.13705744999996,19.399854769999095],[-99.13688648,19.400925369999097],[-99.13682022999988,19.401341969999095],[-99.13679462999988,19.401556719999096],[-99.13658764999995,19.402811819999194],[-99.13644191999995,19.402810649999097],[-99.13625054999989,19.40284222999909],[-99.13603939999987,19.402910829999097],[-99.13587344999988,19.403054649999195],[-99.13574982999988,19.403196919999097],[-99.13563958,19.403281049999094],[-99.13542121999996,19.403362569999192],[-99.13516277999996,19.403349779999093],[-99.13471908999998,19.403322879999195],[-99.13429794999988,19.403299179999095],[-99.13380021999988,19.403264679999197],[-99.13324145999997,19.403236829999095],[-99.13291244999998,19.403213219999095],[-99.13273529,19.403205619999095],[-99.13249891999996,19.403191419999196],[-99.13218328,19.403162709999197],[-99.13197556999988,19.403148279999098],[-99.13161937999988,19.403125109999195],[-99.13149833999998,19.403118549999096],[-99.13111927999988,19.403103059999097],[-99.13105721999987,19.403105619999195],[-99.13085662,19.403111109999195],[-99.13058844999988,19.403130229999096],[-99.13052938,19.403136289999196],[-99.13031099999988,19.403164879999196],[-99.13003936999988,19.403207569999097],[-99.12979124999995,19.403261489999192],[-99.12950451999988,19.403338999999196],[-99.12883521999996,19.403545829999096],[-99.12831508999987,19.403690509999095],[-99.12814356999988,19.403741919999195],[-99.12792242999988,19.403810709999195],[-99.12769509,19.403876279999196],[-99.12751579999995,19.403927399999095],[-99.12706414999997,19.404067769999095],[-99.12647591999998,19.4041845999992],[-99.12640447999988,19.40419627999909],[-99.12569845999998,19.404330679999095],[-99.12567127999988,19.404334949999193],[-99.12393605999988,19.404638419999092],[-99.12327482999989,19.404767259999097],[-99.12228133999996,19.404949449999197],[-99.12172015,19.405032339999092],[-99.12160514999988,19.405049979999095],[-99.12111722999998,19.405141029999097],[-99.12101957999988,19.405153289999195],[-99.12043175,19.4052465499992],[-99.12014611999987,19.405291859999096],[-99.11966549,19.405373889999197],[-99.11880973999996,19.405516919999094],[-99.11721982999988,19.405537829999197],[-99.11638050999989,19.405543079999095],[-99.11555105999996,19.405548289999196],[-99.11506717999995,19.405558679999196],[-99.11457147999988,19.405615479999096],[-99.11441687999996,19.4056505499992],[-99.11385188,19.405778749999097],[-99.11363439999998,19.405809979999095],[-99.11356353999996,19.405839479999095],[-99.11348196999997,19.405865719999095],[-99.11319568999988,19.40593930999909],[-99.11283845999998,19.406010219999096],[-99.11218971999988,19.406138949999093],[-99.11015321999996,19.406543219999197],[-99.10739122999988,19.407117339999097],[-99.10607625999988,19.407389339999096],[-99.10560729,19.4074863699992],[-99.10479259999988,19.407660399999195],[-99.10353081999988,19.407928309999196],[-99.10282416999988,19.408073879999097],[-99.10190610999996,19.408264459999092],[-99.10108490999988,19.408429709999197],[-99.09968031999988,19.408711719999097],[-99.09890907999988,19.408850889999194],[-99.09808162999995,19.408924629999095],[-99.09804342999988,19.409137829999096],[-99.09796674999996,19.40914291999909],[-99.09753717999996,19.409162979999195],[-99.09721997999998,19.409169369999095],[-99.09702609,19.409164719999097],[-99.09642791,19.409146629999196],[-99.09612330999988,19.409116079999094],[-99.09570673999998,19.40906085999919],[-99.09559312,19.409045479999097],[-99.09517054999998,19.408988229999096],[-99.09475733499988,19.408932264999095],[-99.09432608999998,19.408873859999098],[-99.09390701999988,19.40881710999909],[-99.09350070999989,19.4087620599992],[-99.09305430999989,19.408701619999196],[-99.09301501999988,19.408695829999196],[-99.09233619999998,19.408596049999097],[-99.09164325999988,19.4084941699992],[-99.09159494999987,19.408487079999095],[-99.09105169,19.4084072199992],[-99.09026084999988,19.408290949999095],[-99.08952837999998,19.408183279999196],[-99.08889811999988,19.408090619999097],[-99.08825657999988,19.407996289999097],[-99.08745938,19.407881549999097],[-99.08687490999988,19.407798769999097],[-99.086382,19.407728949999097],[-99.08582925999998,19.40765065999919],[-99.08526664999988,19.407570969999195],[-99.08470904999989,19.407493709999095],[-99.08412071999996,19.407412199999197],[-99.08361571999988,19.40734002999919],[-99.08305591,19.407260049999095],[-99.08250216999988,19.407180919999096],[-99.08193533999996,19.407105689999096],[-99.08128471999996,19.407019339999096],[-99.08083125,19.406958379999097],[-99.08022694999988,19.406884999999093],[-99.07990881999989,19.406870919999196],[-99.07979007999988,19.4068699099992],[-99.07972608999997,19.406868289999096],[-99.07945913999995,19.406901109999097],[-99.07907347999998,19.407001229999196],[-99.07897827999987,19.4070390799992],[-99.07852146,19.4069921499992],[-99.07824041999996,19.407050279999194],[-99.07797853999988,19.407147579999197],[-99.07755167999989,19.407688179999095],[-99.07709185999988,19.408424539999096],[-99.07709141999996,19.408425259999095],[-99.07709185,19.408425489999196],[-99.07712531999988,19.408442829999196],[-99.07731225,19.408539649999096],[-99.07731275,19.408539909999096],[-99.07731221999988,19.408540599999096],[-99.07711561999996,19.408795799999197],[-99.07700741999996,19.408964199999097],[-99.07690111999987,19.409131599999096],[-99.07668391999988,19.409454579999096],[-99.07634473999995,19.409946709999197],[-99.07611595,19.410256579999192],[-99.07589853999998,19.410578649999092],[-99.07564314999988,19.4109804599992],[-99.07545782999988,19.41127204999909],[-99.07528971999989,19.411541849999097],[-99.07510239999998,19.411837859999093],[-99.074757,19.412362969999197],[-99.07443868999997,19.412854919999095],[-99.07401790999988,19.4134891999992],[-99.07377727999987,19.413858109999097],[-99.07351242999988,19.4142721799992],[-99.07340663,19.414383659999096],[-99.07332311,19.414512849999195],[-99.07327766,19.414592429999097],[-99.07325831,19.414623169999096],[-99.07319930999988,19.414717419999096],[-99.07226534999988,19.416206859999097],[-99.07143071999998,19.417554309999197],[-99.07133790999988,19.417707849999093],[-99.07061668999988,19.418810339999094],[-99.07031005,19.419285149999094],[-99.06992064999996,19.419874319999195],[-99.06975971999996,19.420054599999197],[-99.06949545999998,19.420252799999197],[-99.06929257999997,19.420375339999197],[-99.06902087999998,19.420524179999095],[-99.06874328999996,19.420635539999097],[-99.06844194999996,19.420733849999095],[-99.0682356,19.420777519999195],[-99.06795254999996,19.420803179999098],[-99.06787850999989,19.420804059999096],[-99.06573011999988,19.420819179999096],[-99.06478608,19.420825829999096],[-99.06367730999987,19.420812339999195],[-99.06166132,19.420828849999197],[-99.05986088,19.420843569999096],[-99.05792214999995,19.420886719999196],[-99.05786204999998,19.420906349999097],[-99.05775208999988,19.420946319999096],[-99.05757579999988,19.421012619999093],[-99.05740528999988,19.421073569999095],[-99.05726337999988,19.4211311499992],[-99.05712661999998,19.421186049999193],[-99.05702647999998,19.421242739999094],[-99.05692327999998,19.421303939999095],[-99.05682564999988,19.421359859999196],[-99.05671034999988,19.421443889999097],[-99.05655849,19.421564719999097],[-99.05638794999996,19.42171433999909],[-99.05628579999988,19.421834969999196],[-99.05620688,19.421950779999193],[-99.05613997999995,19.422079709999096],[-99.05604531999988,19.422234449999195],[-99.05578648999987,19.422141089999094],[-99.05583625999998,19.421961229999095]]],\"type\":\"Polygon\"},\"properties\":{\"_id\":3,\"cve_ent\":9,\"cve_mun\":6,\"cvegeo\":9006,\"g_pnt_2\":\"19.396911897,-99.094329797\",\"geo_shp\":\"{\\\"type\\\": \\\"Polygon\\\", \\\"coordinates\\\": [[[-99.05583625999998, 19.421961229999095], [-99.05588834999998, 19.421550489999195], [-99.05601674999998, 19.420537969999096], [-99.05601859999987, 19.420523489999194], [-99.05611551999998, 19.419759259999097], [-99.05\",\"gid\":2,\"id\":2,\"nomgeo\":\"Iztacalco\"},\"type\":\"Feature\"},{\"geometry\":{\"coordinates\":[[[-99.18870661999988,19.394747649999097],[-99.18867971,19.394675029999092],[-99.18856925999988,19.394415169999196],[-99.18845179999988,19.394128059999197],[-99.18841437,19.3940182799992],[-99.18839323,19.393919119999197],[-99.18837245999995,19.39381736999909],[-99.18836419999998,19.393633449999097],[-99.18837027999987,19.393438119999093],[-99.18841324999988,19.39323014999909],[-99.18871228999988,19.392351889999095],[-99.18881581999987,19.392016599999096],[-99.18903756999998,19.391150689999193],[-99.18931548999988,19.390095419999096],[-99.18946974999989,19.389497429999093],[-99.18949644999996,19.389395109999096],[-99.18965788,19.388768569999097],[-99.18980902,19.388200379999095],[-99.18983867999997,19.388090679999195],[-99.18998701999998,19.387526139999096],[-99.19016614,19.386852659999096],[-99.19033885,19.386188769999197],[-99.19040205999988,19.386010549999096],[-99.19083521999988,19.385020739999096],[-99.190998,19.384639179999095],[-99.19124628999998,19.384057179999196],[-99.19124910999987,19.384050579999197],[-99.19132116999997,19.383881679999096],[-99.19139161999998,19.383716539999092],[-99.19167257,19.383029949999095],[-99.19168521999988,19.382974579999196],[-99.19169822999996,19.382914799999096],[-99.19173374999998,19.382680829999096],[-99.19174590999988,19.381633859999095],[-99.19174797999987,19.381339169999094],[-99.19175422999987,19.380831349999095],[-99.19175485999988,19.380358149999196],[-99.19175711999998,19.379633309999097],[-99.19170484999988,19.378929429999097],[-99.19169508999988,19.378793889999095],[-99.19163950999996,19.378058279999195],[-99.19163017999988,19.377882799999092],[-99.19162551999987,19.377668999999095],[-99.19163745999997,19.377415049999097],[-99.19177419999988,19.376264569999098],[-99.19179190999988,19.376123339999197],[-99.19190788999995,19.375284089999095],[-99.19205253999988,19.374247749999096],[-99.1921344,19.373598019999093],[-99.19214059999987,19.373403509999196],[-99.19213679999989,19.373324279999192],[-99.19211647999995,19.373195879999095],[-99.19210176999998,19.37309750999909],[-99.19200624999988,19.372813279999097],[-99.19191859999988,19.372628029999095],[-99.19182730999988,19.372415319999195],[-99.19172575,19.3721599999992],[-99.19167885999995,19.371995749999098],[-99.19165545999988,19.371869629999097],[-99.19164045,19.371654459999093],[-99.19164704999996,19.371511119999095],[-99.19174094999988,19.3706825799992],[-99.19179985999988,19.370150979999096],[-99.19181587999996,19.369969649999096],[-99.19181341999987,19.369729539999096],[-99.19179611999998,19.369470259999098],[-99.19176271,19.369251859999196],[-99.19172677999995,19.369089909999097],[-99.19165967999996,19.368867539999098],[-99.19162631999995,19.368770579999097],[-99.19153157999988,19.368545509999095],[-99.19143368999988,19.368377029999092],[-99.19122033999996,19.367980399999094],[-99.19100554,19.367594969999097],[-99.19090733999997,19.367421599999098],[-99.19084411999988,19.367258599999193],[-99.19079933999988,19.367085859999097],[-99.19078241999988,19.366990199999098],[-99.19076588999997,19.366886829999096],[-99.19075596999988,19.3667883999992],[-99.19078001999998,19.366434889999095],[-99.19082677999988,19.365851949999097],[-99.19093648999988,19.364835549999096],[-99.19109308999998,19.363489749999097],[-99.19050185999996,19.363319999999096],[-99.19015116999998,19.36323076999909],[-99.18913353999989,19.363014199999096],[-99.18867434,19.362996399999098],[-99.1884454,19.363028109999096],[-99.18830466,19.363016029999095],[-99.18821357999995,19.363003949999097],[-99.18811381999988,19.362980259999095],[-99.18800442999998,19.362945079999097],[-99.18784458,19.3628832199992],[-99.18700476999996,19.362263399999197],[-99.18679313999988,19.362154309999095],[-99.18662351999988,19.362069939999095],[-99.18568492,19.361724599999196],[-99.18554139999998,19.361718999999095],[-99.18537351,19.361733769999095],[-99.18499870999987,19.361772829999097],[-99.18483288999988,19.361780309999094],[-99.18388144999987,19.361705289999097],[-99.18371204999988,19.361718059999095],[-99.18353602999996,19.361781259999095],[-99.18267621999998,19.362347149999096],[-99.18232647999996,19.362555119999097],[-99.18185036999988,19.362711059999093],[-99.18154282999988,19.362821689999095],[-99.18119793999988,19.362909779999093],[-99.1809724,19.362927399999094],[-99.18054724999988,19.362904769999197],[-99.18019921999988,19.362925369999093],[-99.18000055,19.3629644599992],[-99.17979742999988,19.363035979999196],[-99.17960062,19.363149719999097],[-99.17946634,19.363251059999097],[-99.17936757999988,19.363446939999196],[-99.17920374999989,19.363807049999096],[-99.17881210999998,19.364180629999197],[-99.17837989,19.364596059999094],[-99.17815001999998,19.364812709999097],[-99.17774191999987,19.365141459999197],[-99.17719353999988,19.364595779999096],[-99.17672154999998,19.364114739999092],[-99.17510488999989,19.362589449999096],[-99.17480211999997,19.362303709999097],[-99.17466041999988,19.3621658599992],[-99.17450864999988,19.362016309999195],[-99.17370753999997,19.361090379999197],[-99.17327637999988,19.3606050599992],[-99.17308221999996,19.360427509999095],[-99.17285922999996,19.360265739999097],[-99.17170610999987,19.359568259999197],[-99.17170894999995,19.359561579999095],[-99.17241413999989,19.357904489999196],[-99.17272755,19.357181659999096],[-99.17277474999996,19.357081379999197],[-99.17299350999998,19.35675139999919],[-99.17356222999987,19.356124619999097],[-99.17420305,19.355446139999092],[-99.17494157999988,19.354636429999097],[-99.17522208999998,19.354241779999093],[-99.17542744999996,19.353984969999097],[-99.17578370999988,19.353620119999192],[-99.17603097999988,19.3534105199992],[-99.17704231,19.352600229999194],[-99.17713931999997,19.352524109999095],[-99.17722597999987,19.352444089999096],[-99.17728430999988,19.352349749999096],[-99.17748822999988,19.352012309999193],[-99.17759844999988,19.351821479999195],[-99.17766194999987,19.351744289999097],[-99.17832334,19.351115029999196],[-99.17845169,19.351010169999096],[-99.17924768999988,19.350342339999095],[-99.17960681999988,19.350009679999097],[-99.17978394999987,19.349827349999096],[-99.17993151999995,19.349642879999095],[-99.18005984999988,19.349430939999095],[-99.18009030999998,19.349357319999093],[-99.18012727999998,19.349268049999097],[-99.18055473999998,19.347235779999195],[-99.18061937999988,19.347237939999196],[-99.18063702999989,19.347235709999097],[-99.18065185999988,19.347232859999195],[-99.18067313999988,19.347227019999192],[-99.18069190999988,19.347220059999092],[-99.18070557999988,19.347213819999094],[-99.18072107999988,19.34720527999909],[-99.18073125999987,19.347199119999097],[-99.18075047999996,19.347184919999194],[-99.18076307999988,19.347173659999097],[-99.18078641999988,19.347143509999093],[-99.18080333999988,19.347115199999195],[-99.18082167999988,19.347064799999096],[-99.18082265999998,19.347062119999094],[-99.18083935,19.347066999999097],[-99.18177665999995,19.347340849999096],[-99.18179216999988,19.347345379999098],[-99.18179433999988,19.347343049999097],[-99.18233525999987,19.346761479999095],[-99.18249764999987,19.346644179999096],[-99.18266422999989,19.346587399999095],[-99.18287488,19.34658430999909],[-99.18308441999989,19.346121769999097],[-99.18315607999988,19.345846629999095],[-99.18329293999987,19.345265219999092],[-99.18336650999996,19.344924919999094],[-99.18341079999998,19.344775419999095],[-99.18350921999998,19.3445694799992],[-99.18367768999998,19.344256419999095],[-99.18383651,19.343919619999195],[-99.18403834999997,19.343647979999098],[-99.18433467999988,19.343623119999197],[-99.18450151999998,19.343587479999098],[-99.18477521999988,19.343438109999095],[-99.18535324999998,19.342977119999095],[-99.18596907999988,19.342447819999094],[-99.18650512,19.341932909999095],[-99.18662435,19.341596219999097],[-99.18668499999988,19.34139837999909],[-99.18680856999998,19.341278179999197],[-99.18732630999988,19.34113027999919],[-99.187661,19.341015309999097],[-99.18799971999988,19.340645029999195],[-99.18822430999988,19.340404379999097],[-99.188569,19.340148579999095],[-99.18916107999988,19.339722779999192],[-99.18933054,19.339542249999095],[-99.18948861999988,19.339373819999096],[-99.19004370999988,19.338589519999093],[-99.19004577999998,19.338586579999095],[-99.19006138,19.338591719999197],[-99.19030324999989,19.33867128999909],[-99.19032130999987,19.338677229999096],[-99.19032090999995,19.338673489999195],[-99.19024879999988,19.337979649999095],[-99.19060473999996,19.337722849999096],[-99.19104725999988,19.337142879999096],[-99.19123561999996,19.336877479999096],[-99.19123594999988,19.33687699999909],[-99.19125327999988,19.336879659999095],[-99.19136225999988,19.336896479999098],[-99.19137743,19.336898819999092],[-99.19137993999998,19.336898659999097],[-99.19152918,19.336890089999095],[-99.19172491999988,19.336873619999096],[-99.19315681999988,19.336610369999196],[-99.19428481999988,19.336391629999095],[-99.19510377999988,19.336171079999193],[-99.19618877999989,19.335887309999094],[-99.19693364999988,19.335735679999097],[-99.19767290999988,19.335594879999093],[-99.19786731,19.335543859999092],[-99.19805679999996,19.335484149999196],[-99.19825965999988,19.335378279999095],[-99.19839813999988,19.335259179999095],[-99.19852688,19.335149819999096],[-99.19870965999988,19.334963049999097],[-99.19917911,19.334317859999096],[-99.19938189,19.334084599999095],[-99.19959376999998,19.33384088999909],[-99.19982091999996,19.333505379999096],[-99.19992234999988,19.333231949999096],[-99.19992434999988,19.333226539999096],[-99.19990468,19.333229749999095],[-99.19871350999988,19.333424549999197],[-99.19821791999998,19.333507319999097],[-99.19693397999995,19.333720769999097],[-99.19661567999997,19.333716659999094],[-99.19659801999995,19.333714479999095],[-99.19652124999998,19.333704969999093],[-99.19652114999997,19.333704949999095],[-99.19650356999988,19.333702779999097],[-99.19650347999998,19.333702769999096],[-99.19638994999998,19.333676319999096],[-99.19629468999987,19.333631289999097],[-99.19637444999988,19.333406819999094],[-99.19638861999988,19.333325599999096],[-99.19639097999998,19.333241659999192],[-99.19638256999995,19.333028909999097],[-99.1963588,19.332884999999095],[-99.19626551999988,19.332684419999097],[-99.19609134999996,19.33240107999919],[-99.19575781999998,19.33194765999909],[-99.19529328999988,19.331092169999096],[-99.19500385999996,19.330629939999096],[-99.19470418,19.330233489999195],[-99.19474798,19.329328679999097],[-99.19477717999987,19.328719709999095],[-99.1947926,19.327126969999096],[-99.19485302999998,19.324720709999095],[-99.19488628999989,19.3234642899992],[-99.19488131999996,19.323140549999195],[-99.19493356999998,19.322029999999096],[-99.19498777999998,19.321842509999097],[-99.19659913999998,19.319227249999095],[-99.19872651999997,19.315805819999095],[-99.19996529,19.313843569999197],[-99.20114177999989,19.312034289999097],[-99.20118464999987,19.311953549999092],[-99.20121263,19.311875399999092],[-99.20122928999989,19.311729179999094],[-99.20122354999988,19.311619109999093],[-99.20121593999988,19.311517909999196],[-99.20118434999988,19.311458139999196],[-99.20118405999987,19.311457579999097],[-99.20116668999997,19.311455939999096],[-99.20064631999998,19.311406939999095],[-99.20049137999987,19.311406169999195],[-99.20047567999988,19.311406089999096],[-99.20047370999998,19.3114039699992],[-99.20024711999996,19.311160029999098],[-99.20058181999995,19.310806199999096],[-99.20063454999988,19.310751059999095],[-99.20073058,19.310651369999192],[-99.20173336999989,19.309680879999192],[-99.20253597,19.308895649999094],[-99.20523307999996,19.306306849999096],[-99.20523874,19.306301399999096],[-99.20525073999988,19.306309029999095],[-99.20537894999995,19.306390509999098],[-99.20544673999989,19.306476749999195],[-99.20549311999996,19.306557799999094],[-99.20550817,19.306715739999195],[-99.20553582,19.306720709999095],[-99.20555328999988,19.306723849999095],[-99.20555348,19.306722909999195],[-99.20565164999988,19.306216079999196],[-99.205719,19.305868419999097],[-99.20574187999988,19.305745199999095],[-99.20575216999995,19.305681879999195],[-99.20847745999998,19.306162449999096],[-99.20931602999998,19.3063168799992],[-99.21002948999988,19.306441079999196],[-99.21152710999988,19.306709679999095],[-99.21330448,19.307019309999095],[-99.21378822999998,19.30712407999919],[-99.21436673999987,19.307249369999095],[-99.21485134999988,19.307409489999195],[-99.21539464999988,19.307621089999095],[-99.21592285,19.307881149999197],[-99.21641257999988,19.308175539999095],[-99.21655919999988,19.3082770499992],[-99.21685714999995,19.308496649999096],[-99.21719790999995,19.308772539999197],[-99.21779545999998,19.309352909999095],[-99.21823174999996,19.309887719999093],[-99.21887401999996,19.310733779999197],[-99.21900515,19.310892829999197],[-99.21919276999988,19.311139419999098],[-99.21942081999995,19.311440539999097],[-99.21966344999998,19.311805949999098],[-99.21984896999996,19.312123769999097],[-99.21992543,19.312263629999197],[-99.22012193999988,19.312673829999095],[-99.22030327999988,19.3130837499992],[-99.22041177999988,19.313393479999096],[-99.22051735,19.313716539999096],[-99.22065662999988,19.314299859999096],[-99.22073251999988,19.314688909999095],[-99.22075487999987,19.314809599999094],[-99.22080637,19.315087029999095],[-99.22084273999997,19.315293509999098],[-99.22096031999988,19.315957799999097],[-99.22097259999998,19.316031219999196],[-99.22104148999988,19.316398479999098],[-99.22107685,19.316606079999097],[-99.22115656999988,19.317053819999096],[-99.22119636999996,19.317267089999092],[-99.22122321999989,19.317398489999196],[-99.22129133999988,19.317731619999197],[-99.22131583,19.3178401799992],[-99.22136894999988,19.318075659999096],[-99.2214244,19.318319739999097],[-99.22145264999988,19.318516349999097],[-99.22147794999988,19.31869237999919],[-99.22148553999988,19.318969179999097],[-99.22146710999998,19.319300649999196],[-99.22140830999987,19.319643859999093],[-99.22131016999998,19.319908719999095],[-99.22123227999998,19.320095599999096],[-99.22114645999989,19.3202693099992],[-99.22103348999995,19.320445379999097],[-99.220901,19.320647599999095],[-99.22071722999998,19.320858029999197],[-99.22057139999995,19.320990349999196],[-99.22046996999988,19.321081139999094],[-99.22005825999996,19.321387879999097],[-99.21931031999998,19.321898079999094],[-99.21856347999989,19.322416399999096],[-99.21756141999995,19.323102889999095],[-99.21594053999998,19.324211769999096],[-99.21434951999996,19.325321399999098],[-99.21360913999987,19.325918029999094],[-99.21278332,19.326797029999096],[-99.21268766,19.326922939999097],[-99.21246668,19.327234719999097],[-99.21211021999989,19.327828079999097],[-99.21179682999995,19.328433709999196],[-99.21065945,19.330736339999095],[-99.21050481999998,19.331036279999097],[-99.21045431999988,19.33113419999909],[-99.21042627999996,19.33119134999909],[-99.21027733999988,19.331494859999196],[-99.21023654999998,19.331577999999094],[-99.20958692,19.332890599999093],[-99.20936936999998,19.333278279999096],[-99.20912393999998,19.333633429999196],[-99.20893204999996,19.333908309999092],[-99.20863204999988,19.3343290499992],[-99.20844373999988,19.334572619999197],[-99.20820505999988,19.334851459999093],[-99.20797196999987,19.335082089999094],[-99.20745690999988,19.335511859999094],[-99.20692053999989,19.335991149999096],[-99.20678523,19.33610839999919],[-99.20665877999988,19.336218379999096],[-99.20677122999987,19.336296969999097],[-99.20710601999996,19.336544019999195],[-99.20784054999989,19.3362715699992],[-99.20809682,19.336179619999097],[-99.20833711999988,19.336095049999095],[-99.20867401999998,19.335976489999094],[-99.208589,19.336096169999195],[-99.20819377999996,19.336735199999097],[-99.20781122999988,19.337342369999096],[-99.20751511999995,19.337811119999092],[-99.20785397,19.337868749999096],[-99.20815330999989,19.337886709999193],[-99.20838777999988,19.337851309999195],[-99.20885047999997,19.337631919999097],[-99.20946427999998,19.337340879999097],[-99.20974968999998,19.33714367999919],[-99.21002037999988,19.336911169999095],[-99.21050588999998,19.336657889999092],[-99.21122665999997,19.336253339999093],[-99.21148241999998,19.336197679999092],[-99.21174090999988,19.336259749999098],[-99.21198357,19.336284079999093],[-99.21234039999987,19.336190479999097],[-99.21328068999998,19.336518649999196],[-99.21356756999997,19.336555049999095],[-99.21372102999996,19.336551569999095],[-99.21383611999988,19.336538629999197],[-99.21427544999987,19.336490939999095],[-99.21443716999988,19.336473399999097],[-99.21477224999988,19.336407739999093],[-99.21486357999996,19.336387749999098],[-99.21512785999988,19.3362524199992],[-99.21531131999988,19.336109799999097],[-99.21541813999988,19.335675229999097],[-99.21556008,19.335521569999095],[-99.21573442999988,19.335396519999197],[-99.21588484999988,19.335321579999096],[-99.21601617999988,19.335271579999095],[-99.21658602,19.335227539999096],[-99.21683783,19.335087029999094],[-99.21701394999998,19.334813169999197],[-99.21713841999996,19.334691749999095],[-99.21750457,19.334651659999096],[-99.21782953999995,19.334611739999197],[-99.21856290999987,19.33439113999909],[-99.21913877999997,19.333978909999097],[-99.22004364999997,19.333939369999097],[-99.22132708,19.333822179999096],[-99.22188966,19.333702629999195],[-99.22240281999989,19.333537029999196],[-99.22321165999988,19.333154999999095],[-99.22334302999997,19.333092939999094],[-99.22421568999988,19.33274897999919],[-99.22411516999988,19.332497289999093],[-99.22420486,19.332358079999192],[-99.22614887999995,19.331634679999095],[-99.22627097999997,19.331562879999098],[-99.22666975,19.331604399999193],[-99.22715707999996,19.331603799999098],[-99.22887516999998,19.330780709999196],[-99.22911494,19.330624059999096],[-99.22928985999988,19.330515019999098],[-99.22968290999988,19.330365199999196],[-99.2300972,19.330316109999092],[-99.23057307999989,19.330108859999093],[-99.23120146,19.329835179999098],[-99.23152690999996,19.329288459999095],[-99.23187750999988,19.3290281699992],[-99.23213173999989,19.328494849999096],[-99.23348853999988,19.327227509999197],[-99.23408350999988,19.326807979999096],[-99.23601368,19.325898849999096],[-99.23637156999987,19.325457739999095],[-99.23645361999998,19.325171879999196],[-99.23688876999996,19.32489417999909],[-99.23731291999998,19.324700279999195],[-99.23814573999988,19.324550889999195],[-99.23822687999989,19.324541739999095],[-99.23867117999998,19.324541149999195],[-99.23883175,19.324466579999097],[-99.23926096999998,19.324667649999093],[-99.23931729,19.324675779999097],[-99.23976136999988,19.324505619999098],[-99.24005621999996,19.324435679999095],[-99.24010194999988,19.324424829999092],[-99.24025956999998,19.32439673999919],[-99.24032373999988,19.324421999999096],[-99.24037993999995,19.324454689999097],[-99.24057351999988,19.324653889999095],[-99.24107556999988,19.32517048999919],[-99.24110111999988,19.325309879999097],[-99.24217113999995,19.327062049999096],[-99.24249625999988,19.327594429999095],[-99.24273014999989,19.327952879999096],[-99.24277207999988,19.327999229999197],[-99.24305551,19.328221179999098],[-99.24353612,19.328464549999097],[-99.24361154999998,19.328473679999096],[-99.24372541999998,19.328462289999095],[-99.24383128999987,19.328451719999094],[-99.24422944999998,19.328559689999096],[-99.24462502999988,19.328453769999197],[-99.24502811,19.328434179999096],[-99.24529364999997,19.3281752499992],[-99.24538685,19.32813948999919],[-99.24552310999997,19.328109999999096],[-99.24588550999988,19.328122459999097],[-99.24638628999998,19.328079139999097],[-99.24719628999998,19.327941049999197],[-99.24802694,19.327869369999096],[-99.24835027999988,19.327795579999098],[-99.24862747999998,19.327676169999194],[-99.24868779999998,19.327570659999093],[-99.24935265999989,19.327213149999096],[-99.24995862999997,19.327029229999095],[-99.25038457999987,19.327028659999197],[-99.25070631999988,19.327028199999095],[-99.25110822999989,19.32703034999909],[-99.251381,19.3270792499992],[-99.25225226,19.327087859999097],[-99.25259601999988,19.327064249999097],[-99.25310131999998,19.326986019999197],[-99.25335264999988,19.326865109999098],[-99.25363448999995,19.326872519999093],[-99.25387650999988,19.326940799999097],[-99.25398953999988,19.326951689999092],[-99.25415445999988,19.326923119999098],[-99.25468965,19.326760259999197],[-99.25490061999987,19.326673049999197],[-99.25517571999988,19.32655930999919],[-99.25533248999989,19.326387339999098],[-99.25560870999998,19.326000029999097],[-99.25581936999995,19.325722629999095],[-99.25591525,19.325725509999096],[-99.256113,19.325434109999097],[-99.25625861999995,19.3252208499992],[-99.25632888999988,19.324952419999097],[-99.25635856999996,19.324761879999095],[-99.25643164999995,19.324539029999094],[-99.25653173999989,19.324343049999097],[-99.25692082999988,19.323743939999098],[-99.25711124999997,19.323473169999097],[-99.25734305,19.323120399999095],[-99.25752941999998,19.322861629999096],[-99.25762001999998,19.322762549999094],[-99.25779881999988,19.322589999999195],[-99.25794371999989,19.32249771999909],[-99.25807508999998,19.322385509999197],[-99.25842167999996,19.322275089999195],[-99.25857713999989,19.322128229999095],[-99.25873506,19.322052969999195],[-99.25904250999996,19.321815229999096],[-99.25921122999988,19.321602149999094],[-99.25962157999996,19.321311199999094],[-99.25975147999998,19.321180369999094],[-99.25989541999998,19.321035419999195],[-99.26037450999998,19.320566119999093],[-99.26045134,19.320445259999097],[-99.26057387999998,19.320148939999097],[-99.26081725999995,19.319885379999196],[-99.26103849,19.319557449999092],[-99.26139577999996,19.318714509999097],[-99.26160353999988,19.318281909999197],[-99.26169408,19.317821919999098],[-99.26176884999995,19.317689449999097],[-99.26223624999987,19.317312279999197],[-99.26244047999988,19.3171661799992],[-99.26277181999988,19.316779879999196],[-99.26317055,19.316306029999197],[-99.26362099999989,19.315977599999098],[-99.263812,19.315839319999096],[-99.26414531999988,19.315579799999092],[-99.26436137999998,19.315412819999196],[-99.26451454999987,19.315310539999093],[-99.26465193999998,19.315022799999195],[-99.26497402999988,19.3147915699992],[-99.26513733999998,19.314556889999096],[-99.26528977999996,19.314344219999192],[-99.26543396999988,19.314190259999098],[-99.26551079999987,19.314062279999092],[-99.26559268999988,19.313892179999097],[-99.26568045999988,19.313746479999196],[-99.26572393999996,19.313674309999197],[-99.26590065999989,19.313437449999096],[-99.26605345999997,19.313450249999196],[-99.26678014,19.313522289999092],[-99.26721477999988,19.313729829999097],[-99.26739636999996,19.3137923199992],[-99.26752308999988,19.313801279999097],[-99.26769428999988,19.314029079999095],[-99.26768814999996,19.314073259999095],[-99.26762782999997,19.314151549999195],[-99.26764724999995,19.3142024199992],[-99.26779988,19.314195139999097],[-99.26794327999988,19.314139799999197],[-99.26808179999988,19.314082709999095],[-99.26843816999998,19.314009999999197],[-99.26898511999998,19.313729569999197],[-99.26944057999997,19.313625019999197],[-99.26953391999996,19.313558249999097],[-99.26956636999986,19.313503079999094],[-99.26961913999996,19.313413349999195],[-99.26966921999995,19.313215979999093],[-99.26983001999996,19.312925849999093],[-99.26998079999996,19.3127313999992],[-99.27013830999988,19.312417979999097],[-99.2702722,19.312204179999096],[-99.27054465999998,19.311936679999093],[-99.27051028999988,19.311544649999096],[-99.27033959999989,19.311800749999097],[-99.27005531,19.311523849999197],[-99.27020951,19.311267349999095],[-99.27023653999998,19.311152549999093],[-99.27036439999988,19.310778169999097],[-99.27049809,19.310452019999097],[-99.27073348999988,19.309952519999097],[-99.27090951999998,19.309590779999095],[-99.27105362999995,19.309294649999096],[-99.27114548,19.309049459999095],[-99.27083904999988,19.308862909999192],[-99.27133562999988,19.3082788899992],[-99.27134165999988,19.308256919999096],[-99.27120364999998,19.307218879999095],[-99.27110059999988,19.3070223499992],[-99.270919,19.30681847999919],[-99.27088602999996,19.306789139999097],[-99.27083885999998,19.306762259999097],[-99.27081574999988,19.306752289999196],[-99.27077327999996,19.306733949999092],[-99.27057396999996,19.306630399999193],[-99.27044594999988,19.306514249999196],[-99.27031965,19.306323029999096],[-99.27018433999989,19.306040949999097],[-99.27011685999996,19.305932019999094],[-99.27000768999989,19.305768829999096],[-99.26996239999988,19.305748339999095],[-99.26987438,19.305735769999192],[-99.26978765999988,19.305725489999094],[-99.26942973999986,19.305605109999096],[-99.26933362999988,19.305566549999096],[-99.26917367999988,19.305502379999197],[-99.26870047999986,19.305331339999096],[-99.26855771999998,19.305240709999097],[-99.26843024999988,19.305115619999096],[-99.26904527999989,19.304741599999097],[-99.2693114,19.304635479999195],[-99.26936453999998,19.304614289999098],[-99.26938081999997,19.304607019999096],[-99.26975831999988,19.304438309999096],[-99.26990230999988,19.304373979999095],[-99.27042173999988,19.304125579999095],[-99.27061956999988,19.30396988999909],[-99.27081359999988,19.303730279999098],[-99.27098401999989,19.303519819999195],[-99.27141302999998,19.303081379999096],[-99.27150005999988,19.303012649999097],[-99.27206213999987,19.30256881999909],[-99.27221699999988,19.302458179999096],[-99.27214039999996,19.302413709999197],[-99.27199494999998,19.302389799999197],[-99.27150407999989,19.302309119999094],[-99.27128211999998,19.302068259999096],[-99.2711558,19.301994379999098],[-99.27092948999989,19.301862049999094],[-99.27048591999989,19.301573279999197],[-99.27038034,19.301411489999197],[-99.26975876999988,19.301184369999095],[-99.26973664999998,19.301176279999098],[-99.27008252,19.300541489999095],[-99.27033299999988,19.300059579999097],[-99.27055342999986,19.299679799999097],[-99.27147259999998,19.299174999999096],[-99.27166382,19.29834173999919],[-99.27148617999995,19.297996709999097],[-99.27154153999996,19.297741979999095],[-99.27171696999989,19.296827599999094],[-99.27185404999987,19.296112679999197],[-99.27210742999988,19.295505659999098],[-99.27232676999988,19.295334579999096],[-99.27236804999988,19.295013659999093],[-99.27249808999989,19.294657999999092],[-99.27246125,19.294211079999094],[-99.27316331999997,19.293149339999196],[-99.27473439999989,19.291328649999095],[-99.27616894999989,19.289097909999096],[-99.27498031999988,19.287463119999096],[-99.27358862999988,19.285556799999092],[-99.27332028999987,19.28518922999919],[-99.27656285999988,19.28336556999909],[-99.27788814999998,19.282593259999096],[-99.27788881999996,19.282325879999092],[-99.27790133999996,19.281933939999195],[-99.27792942999996,19.2817027099992],[-99.27800288,19.28155250999909],[-99.27813572,19.281483619999193],[-99.278224,19.2814140299992],[-99.27831492,19.281398479999197],[-99.27846553999996,19.281469119999095],[-99.27865708999995,19.281621719999094],[-99.27902028999988,19.281715679999095],[-99.27920016999995,19.281670379999095],[-99.27945042999988,19.281394089999093],[-99.27963785,19.281154799999097],[-99.28005473999995,19.2809305499992],[-99.28021673999989,19.280821079999097],[-99.28045968,19.280758079999096],[-99.28080837999988,19.280757539999097],[-99.28113981999998,19.280619799999094],[-99.28130771999996,19.280218579999097],[-99.28150905999988,19.279490679999096],[-99.28205431,19.279224889999096],[-99.28230148999988,19.279032999999096],[-99.28304251999997,19.277768689999196],[-99.28347517999998,19.277275049999197],[-99.28396542999998,19.276961339999193],[-99.28391772,19.276692289999097],[-99.28374942999989,19.276226349999096],[-99.28331,19.275997249999197],[-99.28317844999997,19.275736259999093],[-99.28321126,19.275459749999097],[-99.28333111999989,19.275097019999095],[-99.28373670999996,19.274756939999097],[-99.28404933999995,19.274591949999095],[-99.28427677999996,19.274251449999095],[-99.28450317999987,19.273910139999195],[-99.28471725999998,19.273556719999096],[-99.28494245999995,19.273274939999094],[-99.28524695,19.273107719999093],[-99.28541602999996,19.27219844999919],[-99.28543792,19.271825979999097],[-99.28564822,19.271425309999096],[-99.28618959999989,19.270680679999195],[-99.28680671999987,19.270414259999097],[-99.2875284,19.270171479999092],[-99.28792517999987,19.270156169999098],[-99.28826393999996,19.270171309999096],[-99.28901287999996,19.270294249999093],[-99.28932948999989,19.270350969999097],[-99.28963082999998,19.270286119999096],[-99.28995617999998,19.2700782899992],[-99.29014765999987,19.26989382999919],[-99.29051470999995,19.269568979999097],[-99.29092107999998,19.269202029999096],[-99.29125494999988,19.269024139999097],[-99.29163757999996,19.268773119999093],[-99.29223685999987,19.268548259999097],[-99.29257879999987,19.268308399999096],[-99.29262279999988,19.26812782999909],[-99.29274276999988,19.267638229999196],[-99.29351982999997,19.266881779999093],[-99.29378350999995,19.266365539999097],[-99.29401544999988,19.266022709999195],[-99.29405622999997,19.265564629999098],[-99.29398705999988,19.265278779999196],[-99.29418819999988,19.2648911099992],[-99.29423671999989,19.26459544999919],[-99.29451274999995,19.264303859999096],[-99.29479385999998,19.264045679999096],[-99.29510427999998,19.263802019999098],[-99.29576233999988,19.263513019999095],[-99.29623748999988,19.2633047199992],[-99.29680873999988,19.263112149999195],[-99.29696551999989,19.2627119199992],[-99.29728892,19.262287659999096],[-99.29775589,19.261882199999196],[-99.29798353999988,19.261453749999095],[-99.29839082999987,19.261321419999195],[-99.29894924999986,19.2612201199992],[-99.29977493999988,19.260886049999193],[-99.30023411999998,19.260937579999094],[-99.30056662999998,19.261096579999094],[-99.30087648999988,19.261044459999095],[-99.30100977999987,19.260879449999095],[-99.30147754999987,19.260502889999096],[-99.30171425,19.260039019999095],[-99.30191122999996,19.259512569999092],[-99.30216165999995,19.259355579999095],[-99.30237034999998,19.258928199999193],[-99.30302550999988,19.258667509999096],[-99.30350567999989,19.2586671499992],[-99.30388867999989,19.258383619999098],[-99.30529996999998,19.257942719999093],[-99.30623568999988,19.257744919999197],[-99.30689619999998,19.2577763999992],[-99.30754994999988,19.257905909999096],[-99.30818653999988,19.258007059999095],[-99.30877404999988,19.258097629999195],[-99.30924154999995,19.257831739999094],[-99.30973577999995,19.257591079999095],[-99.31020316999997,19.257274649999097],[-99.31076614999988,19.257182919999092],[-99.31120930999997,19.257075579999096],[-99.31226662999988,19.2570846199992],[-99.31253757999995,19.256947449999096],[-99.31280034999996,19.256702399999092],[-99.31353885999988,19.256647059999096],[-99.31376207999988,19.256657449999096],[-99.31397434999998,19.256772149999193],[-99.31407390999998,19.256810919999193],[-99.31420074,19.256824109999098],[-99.31439264999987,19.256813479999096],[-99.31459485999989,19.256736119999097],[-99.31477205,19.256513229999197],[-99.31503324999989,19.256482489999097],[-99.31525351999989,19.256416909999096],[-99.31536287999988,19.256358919999094],[-99.31546456999988,19.256137969999095],[-99.31547974999988,19.256059399999096],[-99.31547042999988,19.255992509999196],[-99.31543657,19.255914029999097],[-99.31526010999988,19.255771799999092],[-99.31516017,19.255641569999096],[-99.31505090999998,19.255519489999095],[-99.31496570999998,19.2554355399992],[-99.31487046,19.255345349999097],[-99.31478142999995,19.255217799999095],[-99.31476956999995,19.254978659999193],[-99.31488562999998,19.254836599999095],[-99.31504561999998,19.254563889999098],[-99.31519214999996,19.254359019999196],[-99.31526016999996,19.253955999999196],[-99.31550611999997,19.253306599999096],[-99.31559719999989,19.253176599999197],[-99.31573290999988,19.253008629999197],[-99.31587447999998,19.252916119999092],[-99.31593505999987,19.25280399999909],[-99.31594807999988,19.252626289999096],[-99.31585593999988,19.252449649999196],[-99.31587745999995,19.252343119999097],[-99.31596621999998,19.252175109999197],[-99.31605739999998,19.252080879999095],[-99.31608199999988,19.252014949999097],[-99.31606014999988,19.251940829999096],[-99.31597304999995,19.251828689999098],[-99.31590867999986,19.251649479999095],[-99.31593653999988,19.25152542999919],[-99.31596014999997,19.251286999999092],[-99.31593187999988,19.251063849999095],[-99.31591733999988,19.250981769999097],[-99.31591682,19.2509157499992],[-99.31595650999998,19.250860599999196],[-99.3159964,19.250841739999093],[-99.31602565999997,19.250835979999096],[-99.3160508,19.250836429999097],[-99.31607593999988,19.25083811999909],[-99.31611170999996,19.250837509999094],[-99.31614071999998,19.250843049999094],[-99.31617876999996,19.250851139999195],[-99.31632534,19.2510327999992],[-99.31638896999998,19.251049109999094],[-99.31644257999989,19.251032349999193],[-99.31648382999995,19.25096731999909],[-99.31658862999988,19.250787079999093],[-99.31662947999988,19.250737819999095],[-99.31669481999997,19.250777249999093],[-99.31677030999997,19.250778999999095],[-99.31681754,19.250724979999095],[-99.31707405999995,19.25030787999909],[-99.31700691999995,19.249632179999097],[-99.31699582999988,19.24914673999919],[-99.31713554999996,19.248554259999196],[-99.31728876999988,19.248052719999095],[-99.31752304999998,19.247610319999097],[-99.31776524999997,19.2473625799992],[-99.31781276999996,19.247269829999095],[-99.31784797999988,19.247123399999097],[-99.31784070999998,19.247029369999098],[-99.31771403,19.246403829999196],[-99.31758044999997,19.246164229999096],[-99.31756412,19.246083119999096],[-99.31758476999988,19.246012909999095],[-99.31769784999987,19.245949109999096],[-99.31772237999998,19.24592265999919],[-99.31779457999988,19.245670059999092],[-99.31750659999987,19.245298399999097],[-99.31752093999988,19.245004769999195],[-99.31760190999988,19.244597179999097],[-99.31763653999998,19.244492049999096],[-99.31770602999988,19.244371199999097],[-99.31827739999989,19.243728579999196],[-99.31839085999997,19.2434783999992],[-99.31859327999987,19.243282259999095],[-99.31872207999996,19.243209849999097],[-99.31879056999998,19.243192429999095],[-99.31887593999988,19.243235379999096],[-99.31910791999996,19.243372739999096],[-99.31926017999989,19.243443569999098],[-99.31938888999996,19.243434459999097],[-99.31953434999996,19.243397319999097],[-99.3198144,19.243281089999098],[-99.32005876999987,19.243143379999097],[-99.32019088999998,19.243017549999095],[-99.32035176999987,19.242864259999095],[-99.32053402999998,19.242606259999192],[-99.32078869,19.242288219999097],[-99.32125817999996,19.24181841999919],[-99.32212467999987,19.24091911999909],[-99.32266914999995,19.240306539999096],[-99.32289128999996,19.239817449999094],[-99.32316433999988,19.239231219999095],[-99.32316401999998,19.239068719999096],[-99.32331448999996,19.238554919999093],[-99.32330148999988,19.238453279999096],[-99.32327708999998,19.238387819999097],[-99.32323921999988,19.238310719999095],[-99.32319411,19.238253029999093],[-99.32311922999996,19.238201139999095],[-99.32293767999988,19.238112649999096],[-99.32287128999997,19.238019109999097],[-99.32285601999988,19.237914229999195],[-99.32285444999997,19.2377627399992],[-99.32281608999988,19.23767896999909],[-99.32276105999988,19.237615579999098],[-99.32272982999989,19.237511429999095],[-99.32285145,19.236714489999095],[-99.32293524999989,19.23643642999909],[-99.32299537999988,19.2359084599992],[-99.32273661999989,19.235653459999096],[-99.32276637999988,19.235305579999096],[-99.32272134999988,19.234675169999097],[-99.32263244999989,19.234081089999098],[-99.32255391999998,19.233944369999097],[-99.32255123,19.233827879999097],[-99.32254828999996,19.233726179999096],[-99.32225484999996,19.232647829999195],[-99.32432028999987,19.232609799999096],[-99.32435594,19.234306999999195],[-99.32422826,19.238337879999097],[-99.32351966,19.2507428799992],[-99.32352025999988,19.251391309999097],[-99.32367795,19.264274429999094],[-99.32364316999995,19.265086659999096],[-99.31878457,19.273224939999096],[-99.31778973999997,19.274335849999098],[-99.31738357999996,19.274870709999096],[-99.317189,19.275673659999097],[-99.31711876999996,19.276171309999096],[-99.31715527999988,19.277046249999096],[-99.31684857,19.277660509999095],[-99.31692113999998,19.278246539999092],[-99.31670159999996,19.279305089999095],[-99.31627148999988,19.279768019999196],[-99.31613130999988,19.280784649999095],[-99.31572928999998,19.282199319999194],[-99.31573194999996,19.282891919999095],[-99.31581735,19.283710049999097],[-99.31624959999998,19.284396289999098],[-99.31667385999997,19.286136379999093],[-99.31658006,19.287182109999197],[-99.31619814999998,19.287699249999196],[-99.31604030999988,19.2886988199992],[-99.31573505999988,19.289903059999094],[-99.31614234999986,19.290310029999095],[-99.31655751999988,19.290877739999097],[-99.31668104999989,19.291714459999096],[-99.31696016999987,19.292323859999193],[-99.31704474999997,19.292606489999095],[-99.31710685999998,19.293113939999195],[-99.31712268999988,19.293403939999095],[-99.31706968,19.293643309999094],[-99.31702445999998,19.293969679999098],[-99.31710904999989,19.294252309999095],[-99.31695474999997,19.294647259999092],[-99.31715410999998,19.295086489999196],[-99.31716016999997,19.295816489999098],[-99.31695262999988,19.296475259999095],[-99.3167718,19.297016399999197],[-99.31646402999988,19.29741868999919],[-99.31635919999997,19.297749309999094],[-99.31623369,19.2981134299992],[-99.31623331999997,19.298340829999095],[-99.31611028999998,19.298636219999096],[-99.31601275,19.298810539999096],[-99.31593662999988,19.298984829999196],[-99.31589334999988,19.299173509999097],[-99.31594702999998,19.299376079999092],[-99.31614930999989,19.299594779999197],[-99.31628877999997,19.299731019999097],[-99.31639996999988,19.299875569999095],[-99.31643703,19.299952949999092],[-99.31643711999996,19.299997219999096],[-99.31640808,19.300054429999093],[-99.31610517999997,19.300258259999197],[-99.31577474999987,19.300532769999194],[-99.31543551,19.300881029999097],[-99.31514314999995,19.3012860799992],[-99.31479764999987,19.301428489999097],[-99.31469068999988,19.301452719999094],[-99.31441019999988,19.301378909999094],[-99.31414127999987,19.301379369999193],[-99.31398887999988,19.301440579999195],[-99.31391691,19.301589259999098],[-99.31387214999988,19.301943399999097],[-99.31391537999998,19.30252291999909],[-99.31388464999998,19.303068459999192],[-99.31360436999988,19.30359254999909],[-99.31326485999988,19.303932579999195],[-99.31309511999989,19.304088679999193],[-99.31287671999988,19.304178369999093],[-99.31228041999996,19.304168479999095],[-99.31209508999989,19.30416881999909],[-99.31197272,19.304339349999196],[-99.31202725999997,19.304553169999195],[-99.31214019999996,19.304926859999096],[-99.31228085999996,19.305229629999097],[-99.31222882,19.305550919999096],[-99.31205443,19.305961679999097],[-99.31193102999998,19.306396169999097],[-99.31178725999987,19.306564419999095],[-99.31157185999987,19.306805139999096],[-99.31141194999996,19.306897939999192],[-99.31133193999987,19.306903579999094],[-99.31120397999987,19.306876219999097],[-99.31097245999996,19.3067953399992],[-99.31088364999988,19.306744619999197],[-99.31080599999989,19.306734229999197],[-99.31074874999987,19.306760629999097],[-99.31068602,19.306809849999095],[-99.31063336999988,19.306890419999096],[-99.31046565999998,19.307375939999098],[-99.310417,19.307456029999095],[-99.31036973999989,19.307499629999096],[-99.31032897999988,19.3075338299992],[-99.31027662999998,19.307561549999097],[-99.31021493999997,19.307580449999097],[-99.31015382999998,19.307578519999197],[-99.31010907999988,19.30755031999909],[-99.30950687999996,19.306957879999096],[-99.30942186,19.306779029999095],[-99.30935585999998,19.306483279999195],[-99.30933222,19.306187449999097],[-99.30935855,19.305869619999196],[-99.30944413999995,19.3056006299992],[-99.30944151999988,19.305517999999196],[-99.30941934999998,19.305456689999097],[-99.30937059999997,19.305372579999094],[-99.30929348999996,19.305268459999095],[-99.30920765999998,19.305199749999097],[-99.30912397999998,19.305141509999196],[-99.30904042,19.305104079999097],[-99.30896124999998,19.305085459999095],[-99.30888870999988,19.305085579999098],[-99.30879197999997,19.305096149999095],[-99.30862750999988,19.305156719999196],[-99.30836790999987,19.305306919999197],[-99.30816334999996,19.305437799999098],[-99.30797934999995,19.305565119999095],[-99.30784661999988,19.305747349999095],[-99.30775025999998,19.305938799999097],[-99.30755870999998,19.306496199999096],[-99.30739136999988,19.306888519999095],[-99.30739381999987,19.307823429999097],[-99.30735902,19.307871169999096],[-99.30731117999989,19.307917179999095],[-99.30725425999997,19.307953119999095],[-99.30718145,19.307965769999193],[-99.30710558,19.307980769999094],[-99.30702008999997,19.307968319999095],[-99.30696225999998,19.307937579999095],[-99.30642322999988,19.307285999999195],[-99.30637284999987,19.307239379999096],[-99.30630770999988,19.307205279999096],[-99.30624349,19.307187859999093],[-99.30618895,19.307177109999092],[-99.30613351999988,19.307169349999096],[-99.30608571999988,19.307171509999097],[-99.3060298,19.307185719999097],[-99.30596477999988,19.307209199999097],[-99.30590770999996,19.307247149999096],[-99.30584922999998,19.307320349999095],[-99.30578761999998,19.30739925999919],[-99.30576027999987,19.307452119999095],[-99.30560505999988,19.307794429999095],[-99.30539676999987,19.308244229999197],[-99.30506818,19.308979679999094],[-99.30502867999986,19.309063519999093],[-99.30495748,19.309137479999094],[-99.30491387999987,19.309170249999095],[-99.30486287999996,19.309198019999094],[-99.30482239999998,19.309202969999095],[-99.30471570999998,19.309205149999094],[-99.30451525999987,19.309310919999096],[-99.30446208999987,19.309373179999096],[-99.30438531999988,19.309395739999196],[-99.30429085,19.309421119999097],[-99.30395695,19.310017379999096],[-99.30366154999987,19.310620709999093],[-99.30345239999995,19.311017179999094],[-99.30341876999996,19.311063079999094],[-99.30336284999996,19.311105999999096],[-99.30330178,19.311144049999097],[-99.30325947999988,19.311152369999096],[-99.30321219999998,19.311151259999093],[-99.30315737999987,19.311138349999197],[-99.30312122999996,19.311123089999096],[-99.30309877999996,19.311105379999095],[-99.30305887999997,19.311074709999197],[-99.30302471999988,19.3110417499992],[-99.30276709,19.310782859999197],[-99.30256903,19.310577139999097],[-99.30202068999988,19.309882919999097],[-99.30171210999995,19.309511829999096],[-99.30161422,19.309482279999095],[-99.30148210999988,19.309446049999096],[-99.30145528999998,19.309438119999097],[-99.30139509,19.3094382199992],[-99.3013296,19.309458259999097],[-99.30129001999988,19.309509479999093],[-99.30126524999996,19.30957561999919],[-99.30125809,19.309674179999096],[-99.30125545999988,19.311004249999097],[-99.30126622999988,19.3113563099992],[-99.30117284999989,19.311901279999095],[-99.30111443,19.312107969999097],[-99.30109008999987,19.312207249999098],[-99.30102976999996,19.31226933999919],[-99.30097557999989,19.312295969999095],[-99.30091517999988,19.312319319999094],[-99.30053802999998,19.312426889999095],[-99.30049017999988,19.312453109999097],[-99.30047175,19.312493579999096],[-99.30032082999998,19.312869219999097],[-99.30014062999996,19.313343149999096],[-99.30007598,19.313546919999094],[-99.30004687999998,19.313752569999195],[-99.30003684999998,19.313972819999098],[-99.30010276999998,19.314356649999095],[-99.30023090999998,19.314584859999098],[-99.30043805999998,19.315083049999195],[-99.30062748999995,19.315598249999095],[-99.30073442999998,19.316074459999097],[-99.301138,19.316907349999195],[-99.30113456999996,19.317051739999098],[-99.30115481999998,19.317175249999195],[-99.30119039999988,19.317464999999093],[-99.30125881999996,19.317712649999095],[-99.30132222999995,19.317808019999095],[-99.30137662999988,19.317866939999092],[-99.30175896999997,19.318194939999195],[-99.30178936999988,19.318250799999195],[-99.30180542999987,19.318304649999195],[-99.30179497999988,19.318412429999096],[-99.30177561999987,19.318491579999197],[-99.30174376999996,19.318543819999096],[-99.30169046,19.318594799999097],[-99.30161064999996,19.31861010999919],[-99.30150776999989,19.318615289999094],[-99.30134359999988,19.318619289999095],[-99.30124951999989,19.318716219999096],[-99.30118910999988,19.318865369999095],[-99.30117322999996,19.318973819999098],[-99.30113771999996,19.319072109999095],[-99.30110305999987,19.319238569999097],[-99.30110981999998,19.31944794999909],[-99.30105437999998,19.319660339999093],[-99.30098828999988,19.319789649999095],[-99.30084728999996,19.319915849999095],[-99.30079779999988,19.3200331999992],[-99.30073122999988,19.320134969999096],[-99.30066842999996,19.320213019999095],[-99.30059721999996,19.320449199999096],[-99.30059421999988,19.32060993999919],[-99.30062908999996,19.320918659999197],[-99.30058714999988,19.32114125999909],[-99.30055953999988,19.321320309999095],[-99.30049991999988,19.321479459999097],[-99.30050021999988,19.32163908999919],[-99.30054801999988,19.321781309999196],[-99.30056233999989,19.321910819999093],[-99.30057164999988,19.322030149999097],[-99.30057147999996,19.322129849999097],[-99.30056284999988,19.322189479999096],[-99.30052944999989,19.322254079999095],[-99.30046630999998,19.322304109999095],[-99.30040925999997,19.322327649999092],[-99.30034528999988,19.322339149999195],[-99.30021605999998,19.32232471999909],[-99.30016781999988,19.322300979999095],[-99.30010581999989,19.322254889999098],[-99.30004281999996,19.322175509999095],[-99.2998082,19.321897319999096],[-99.29974185999998,19.321743879999097],[-99.29961491999988,19.321507109999096],[-99.29931516999989,19.3212842799992],[-99.29907846,19.321187419999195],[-99.29899542999998,19.321060379999196],[-99.29884887999997,19.320677349999094],[-99.29881197,19.320471599999095],[-99.29869182999988,19.31993950999909],[-99.29857068999988,19.319687429999096],[-99.29840424999998,19.31944022999919],[-99.29827687999988,19.319309259999095],[-99.29815910999996,19.319185459999098],[-99.29797256999989,19.319096829999197],[-99.2977094,19.318987429999098],[-99.29753557999996,19.318946889999197],[-99.29733621999998,19.318912889999098],[-99.29709848,19.318850569999096],[-99.29688379999996,19.3187582799992],[-99.29673968999998,19.318634059999095],[-99.29642842,19.3182291099992],[-99.29640142999988,19.318111479999093],[-99.29639424999998,19.31799908999919],[-99.29644389,19.31778787999909],[-99.29654347999998,19.317469149999095],[-99.29655436999998,19.317380649999095],[-99.29651863,19.317295779999096],[-99.29646134999987,19.317229399999093],[-99.29634536999998,19.317173369999097],[-99.29612482,19.317198379999095],[-99.29591517999988,19.317307719999096],[-99.29567177999998,19.317481369999093],[-99.29557465,19.317550319999192],[-99.29546754999988,19.317563709999195],[-99.29535922,19.317535909999197],[-99.29526756999998,19.317449679999097],[-99.29516582999996,19.317302829999196],[-99.29499341999995,19.31701674999919],[-99.29492122,19.316945539999196],[-99.29484628999988,19.31691876999909],[-99.29477267999988,19.316915689999096],[-99.29474037999988,19.316914339999094],[-99.29457576999988,19.317005689999096],[-99.29451850999996,19.317128719999097],[-99.29437650999988,19.317415909999095],[-99.29427225999989,19.317640219999095],[-99.29418493999997,19.317835319999094],[-99.29398976999988,19.318276739999092],[-99.29389264999998,19.318501229999097],[-99.29380714,19.318707399999095],[-99.29375953999988,19.31883148999909],[-99.29371757999998,19.318968449999197],[-99.29361687999987,19.31956470999919],[-99.29356377999989,19.319879999999195],[-99.29343834,19.320168229999098],[-99.29332248999997,19.320339949999095],[-99.29314347999998,19.320531049999097],[-99.29298708999988,19.320658909999196],[-99.29280594999987,19.320792179999096],[-99.29259311999998,19.3209037199992],[-99.29238984999988,19.320978109999093],[-99.29215988999988,19.321033249999097],[-99.29197870999997,19.321063659999197],[-99.29175874999996,19.321103079999094],[-99.29142498,19.3211668499992],[-99.29101650999988,19.321253939999195],[-99.29075371999988,19.321328219999092],[-99.29070305,19.3213495099992],[-99.29057247999997,19.321454819999097],[-99.29048422999988,19.321569289999196],[-99.29045137999998,19.321662139999095],[-99.2904286,19.321761689999196],[-99.29042273999988,19.32189533999909],[-99.29043682999998,19.322010579999095],[-99.29049566,19.3221347999992],[-99.29056376999988,19.322224599999096],[-99.29067053999988,19.322315519999194],[-99.29084125,19.322413649999092],[-99.29116327999998,19.32252467999919],[-99.29130217999987,19.322616419999097],[-99.29136534999998,19.322670169999096],[-99.29142541999988,19.322740379999097],[-99.29148214999998,19.322843649999097],[-99.29149722999988,19.322889579999096],[-99.29151405999988,19.322940819999097],[-99.29153139999988,19.322993649999095],[-99.29158385999988,19.323300979999097],[-99.29161445999988,19.323460829999096],[-99.29166956999988,19.323777399999095],[-99.29174124999996,19.324207939999095],[-99.29175386,19.324360429999093],[-99.29176184999989,19.324470539999098],[-99.29175230999988,19.32466290999909],[-99.29171171999997,19.324866369999093],[-99.29165405999996,19.325034949999093],[-99.29158137,19.325184229999092],[-99.29148699999988,19.325352119999195],[-99.29137027999997,19.325528029999095],[-99.29133844999988,19.325575999999096],[-99.29092982999995,19.326348679999096],[-99.29080881999988,19.326577539999196],[-99.29078244999988,19.326648879999095],[-99.29077648,19.326791509999097],[-99.29077473999988,19.326957649999095],[-99.29079894999988,19.327059679999092],[-99.29126704999996,19.328184319999096],[-99.29135951999996,19.328447339999094],[-99.29138942,19.328675629999196],[-99.29136657999996,19.328840419999196],[-99.29132228,19.328990939999095],[-99.29126433999988,19.329157259999096],[-99.29117670999987,19.329353689999095],[-99.29086449,19.329799889999197],[-99.29082545999998,19.329853939999197],[-99.29031782999998,19.330556779999196],[-99.29014771999988,19.330792949999097],[-99.28973662999988,19.331705029999092],[-99.28945628999998,19.3320996199992],[-99.28886644999989,19.3327847799992],[-99.28855201999988,19.333085349999095],[-99.28832321999988,19.333304049999096],[-99.28825569,19.333361169999197],[-99.28817142999998,19.333415539999095],[-99.28807250999988,19.333459399999096],[-99.28795990999998,19.333478119999196],[-99.28789396999998,19.333471769999196],[-99.28782802999996,19.333447969999195],[-99.28777465999998,19.333411859999096],[-99.28772962999987,19.333366449999097],[-99.28769517999989,19.33330862999909],[-99.28767084999996,19.333230659999096],[-99.28765690999988,19.333153369999096],[-99.28765771999998,19.333063349999197],[-99.28768291999997,19.332959799999095],[-99.28785893999998,19.332510629999195],[-99.28809707999989,19.33201545999909],[-99.28818659999988,19.331830889999097],[-99.28828917999998,19.331575879999097],[-99.28837061999998,19.331322289999193],[-99.28839551999988,19.331134399999097],[-99.28837157999996,19.330907979999193],[-99.28832271,19.330669769999098],[-99.28819781999988,19.330490849999094],[-99.28807313999988,19.330381689999097],[-99.28799091999998,19.330300549999095],[-99.28787567999989,19.330223349999095],[-99.28743247999986,19.330012139999095],[-99.28710134999989,19.329857019999192],[-99.28691004999988,19.329775539999197],[-99.28677474999988,19.3297389199992],[-99.28669856999988,19.329770829999095],[-99.28678117999998,19.329851539999098],[-99.28710542999988,19.330199949999095],[-99.28733024999998,19.330432089999096],[-99.28741254,19.330547659999095],[-99.28747297999988,19.330666339999095],[-99.28751630999987,19.330820799999096],[-99.28752631,19.3309537699992],[-99.28752344999998,19.330991089999095],[-99.28751995,19.331036459999197],[-99.28749770999998,19.331149259999197],[-99.28743989,19.331295459999097],[-99.28729701999995,19.331579229999097],[-99.28693081999988,19.33232297999909],[-99.28683950999988,19.332494509999098],[-99.28676752,19.332629709999093],[-99.28653037999996,19.333117859999195],[-99.28628899999988,19.333584599999092],[-99.28598539999987,19.334244889999095],[-99.28519236999988,19.336113709999097],[-99.28512054999996,19.3362683499992],[-99.28508625999989,19.336321799999197],[-99.28505028999987,19.336377889999095],[-99.28495155,19.336472049999095],[-99.28484921999988,19.336536519999097],[-99.28471394999995,19.336614749999097],[-99.28460376999998,19.336646509999095],[-99.28447773999989,19.336664709999095],[-99.28433321999988,19.336676139999096],[-99.28396024999988,19.336624969999097],[-99.28381498,19.336603719999097],[-99.28357467999987,19.336531019999093],[-99.28329956999988,19.336414879999197],[-99.28315607999998,19.336327399999096],[-99.28302058,19.336237089999095],[-99.28238250999998,19.335800279999095],[-99.28222551,19.335716429999096],[-99.28207550999998,19.335649059999096],[-99.28196671999989,19.335607179999094],[-99.28183705999996,19.33555368999909],[-99.28065125999996,19.335210539999192],[-99.28049777999998,19.335175769999097],[-99.28038129,19.335182509999097],[-99.28029825999988,19.335199049999098],[-99.28021064999989,19.335232019999093],[-99.28014037999998,19.335286829999095],[-99.28009050999997,19.335358519999097],[-99.28006196999988,19.335454489999197],[-99.28003039999996,19.336098139999095],[-99.28005422999988,19.336247949999095],[-99.28010791999998,19.336360889999096],[-99.28015750999998,19.33645525999909],[-99.28021722999988,19.336528139999096],[-99.28060917999989,19.336732739999093],[-99.28096442,19.336920179999197],[-99.28105877999998,19.337006509999092],[-99.28112151999989,19.337099139999196],[-99.28115985999987,19.33721225999909],[-99.28116824999988,19.337328939999196],[-99.28115624999997,19.337434079999092],[-99.28095585999988,19.337380119999096],[-99.28063911999998,19.337337229999093],[-99.28031393999996,19.337351549999095],[-99.28003749,19.337425549999093],[-99.27986722999997,19.337570049999194],[-99.27964788999998,19.337629119999097],[-99.27920781999995,19.33760448999919],[-99.27884394999988,19.337673459999095],[-99.27849816999998,19.337733819999094],[-99.27800624999998,19.337955539999097],[-99.27731995,19.3383104799992],[-99.27658173999998,19.338600149999195],[-99.27598781999988,19.338862779999097],[-99.27539341999989,19.33907396999919],[-99.27502165999988,19.339257449999096],[-99.27450844999996,19.339450719999096],[-99.27421423,19.339550569999098],[-99.27387582999988,19.339759479999096],[-99.27360323,19.339913429999093],[-99.27330644999986,19.340059109999093],[-99.27312924999988,19.340115029999097],[-99.27296090999988,19.340153709999097],[-99.27284997999998,19.340208999999195],[-99.27267042999988,19.340333519999096],[-99.27249381999997,19.340443769999094],[-99.27232885999996,19.340519569999095],[-99.27208270999988,19.34060470999909],[-99.27177074,19.340741909999196],[-99.27143776999998,19.340890709999098],[-99.27069636999988,19.341166089999096],[-99.27036111999988,19.341380679999094],[-99.26998052,19.341581319999097],[-99.26983751999988,19.341751349999097],[-99.26948768999988,19.342014679999096],[-99.26934928999997,19.342038739999097],[-99.26916167999995,19.341946019999096],[-99.26893812,19.341882279999098],[-99.26882945999988,19.3418631799992],[-99.26872688999995,19.3418497799992],[-99.26863948999988,19.34184484999909],[-99.26854608999996,19.341845709999095],[-99.26848005999987,19.341869119999096],[-99.26841697,19.341889739999097],[-99.26838111999987,19.341915819999095],[-99.26834538,19.341958969999094],[-99.26830356999989,19.341996539999094],[-99.26823175,19.342045819999097],[-99.26817793999996,19.342086279999194],[-99.26798437999996,19.342316749999192],[-99.26764485999998,19.342717249999197],[-99.26734852,19.343214629999096],[-99.267099,19.343574229999195],[-99.26693257999987,19.343813049999095],[-99.26683511999988,19.344011289999095],[-99.26677551999988,19.344074739999098],[-99.26662231999988,19.344124659999093],[-99.26652291999989,19.344119829999094],[-99.26637817999988,19.344106849999196],[-99.26626353999988,19.344096349999095],[-99.26616096999996,19.344080149999098],[-99.26604336999998,19.344066849999095],[-99.26596194999988,19.344061909999095],[-99.26587476999998,19.344079849999098],[-99.26578182999997,19.344126429999196],[-99.26576090999995,19.3441408299992],[-99.26566898,19.344290349999095],[-99.26563992,19.344396399999095],[-99.26558767999995,19.344464429999196],[-99.26556257999988,19.34449717999909],[-99.26546671999988,19.3445581499992],[-99.26540971999997,19.344584349999096],[-99.26530445999998,19.344602489999197],[-99.26521736999987,19.344623219999097],[-99.26513311999996,19.344635449999096],[-99.26508191999989,19.344641579999095],[-99.26502481999988,19.344653509999095],[-99.26497685999998,19.344676799999096],[-99.26493797999989,19.344705779999096],[-99.26489625999989,19.344757619999193],[-99.26488167999996,19.344803459999095],[-99.26488211999998,19.344849279999096],[-99.2648956,19.344994939999097],[-99.26487570999988,19.345118139999094],[-99.26484347999995,19.3452070299992],[-99.26477484999998,19.345279149999097],[-99.26470881999995,19.345305459999196],[-99.26464244999988,19.345291739999094],[-99.26454576999998,19.345266829999098],[-99.26446421999998,19.345239029999096],[-99.26437670999996,19.345231199999095],[-99.26430771999998,19.345254709999192],[-99.26424191999998,19.345309569999095],[-99.26419725999988,19.345358619999196],[-99.26417408999998,19.345458879999097],[-99.26417532,19.345578979999093],[-99.26416774999988,19.345727739999095],[-99.26416279999988,19.345842169999095],[-99.26414585999996,19.345959579999196],[-99.26408613999988,19.346008739999096],[-99.26402610999996,19.346034949999098],[-99.26391787999988,19.346053079999095],[-99.26382438,19.3460453499992],[-99.26374307999995,19.346054599999096],[-99.26362570999996,19.346067059999097],[-99.26350865999989,19.346105279999097],[-99.26343074999988,19.346151749999095],[-99.26335613999996,19.346226779999196],[-99.26332084999996,19.346307169999097],[-99.26329777999987,19.346416019999097],[-99.26328061999996,19.346504779999098],[-99.26324848999997,19.346608029999093],[-99.26319536999988,19.346725779999097],[-99.26314764999996,19.346774739999095],[-99.26306092,19.346841289999094],[-99.26297396999988,19.346887859999097],[-99.26289267999988,19.346888519999094],[-99.26282322999997,19.346869199999094],[-99.26273524999998,19.346807049999093],[-99.26263811999998,19.34673922999909],[-99.26257151999988,19.346705539999196],[-99.26251111999989,19.346686019999098],[-99.26243253999988,19.346666689999097],[-99.26234524999988,19.346673229999094],[-99.26224313999988,19.346702659999195],[-99.26215333999988,19.346757829999195],[-99.26208470999995,19.346827059999192],[-99.26204014999998,19.346890379999095],[-99.26196237,19.346945349999096],[-99.26189927999997,19.346968849999097],[-99.26170114999998,19.347039169999096],[-99.26162291999997,19.347051309999095],[-99.26156568999988,19.347048949999095],[-99.26146617999989,19.347038429999095],[-99.26139087999998,19.347039079999195],[-99.26125913999988,19.347123119999196],[-99.26119333999998,19.347178089999097],[-99.26100675,19.347191179999097],[-99.26087411999998,19.347192369999096],[-99.26077234999998,19.347259029999098],[-99.26072485,19.347325169999095],[-99.26066584999988,19.34746007999919],[-99.26062705999998,19.347497629999197],[-99.26057311999988,19.347523829999098],[-99.26043165999988,19.34753650999909],[-99.26034413999996,19.347522979999095],[-99.26027786,19.34751782999909],[-99.26020267999988,19.347532859999195],[-99.25997404999995,19.347618289999197],[-99.25989997,19.347675139999097],[-99.25981906,19.347748289999092],[-99.25972031,19.347790539999195],[-99.25960576999988,19.347819229999093],[-99.25943568999998,19.347877719999097],[-99.25903173999988,19.348032909999095],[-99.25899750999996,19.348059169999193],[-99.25896915,19.348120919999097],[-99.25897431999988,19.348172999999097],[-99.259013,19.348210569999097],[-99.25907095,19.348219149999096],[-99.25916033999988,19.348182379999095],[-99.25927610999996,19.348123379999095],[-99.25957261999996,19.348007369999095],[-99.25967187999996,19.3479742599992],[-99.25973143,19.347971919999196],[-99.25981764999987,19.34797945999909],[-99.26008633999996,19.3480526599992],[-99.26018791999998,19.348064819999095],[-99.26032813999988,19.348066029999096],[-99.26057076999987,19.3480122599992],[-99.26071768999998,19.347939319999096],[-99.26084701999996,19.347859249999097],[-99.2609568,19.347765479999097],[-99.26101510999987,19.347749739999095],[-99.26107344999998,19.347751739999097],[-99.26112301999989,19.347776709999096],[-99.26113190999988,19.3478299399992],[-99.26107957999989,19.347898249999197],[-99.26101837,19.347952939999093],[-99.26057022999998,19.348209449999192],[-99.26036117999998,19.348255859999096],[-99.26021102999988,19.3482719099992],[-99.25998941999995,19.348281289999097],[-99.25989901999998,19.34829079999909],[-99.25979831999987,19.348332859999097],[-99.25971995,19.348389489999096],[-99.25963844999988,19.348473709999094],[-99.25956736999989,19.348562999999196],[-99.25949756999997,19.348687279999098],[-99.25941537999988,19.348842709999097],[-99.259326,19.348953739999097],[-99.25922757999996,19.34906093999909],[-99.25899211999996,19.349227379999096],[-99.25862017999997,19.349432859999094],[-99.25831649,19.349611879999095],[-99.25827496999987,19.349648109999094],[-99.25822587999988,19.349710169999096],[-99.25820658,19.349759939999096],[-99.25819867999986,19.349804289999092],[-99.25820215,19.349848619999097],[-99.25820739999988,19.349893569999196],[-99.25822908,19.349948399999196],[-99.25825908999995,19.349994599999192],[-99.25828874999988,19.350028509999092],[-99.25832342999998,19.350055619999097],[-99.25835089,19.350067219999097],[-99.25838259999988,19.350073979999095],[-99.25841450999997,19.350071119999196],[-99.25903841999998,19.349962229999196],[-99.25908713999988,19.349966279999094],[-99.25915319999996,19.34998465999919],[-99.25922145,19.350024629999194],[-99.25926696999989,19.350064629999196],[-99.25930798,19.350121079999095],[-99.25933077999996,19.350174679999096],[-99.25934925999996,19.350245569999096],[-99.25937691999997,19.350371969999095],[-99.25938602,19.35050962999909],[-99.25932474999988,19.350716569999097],[-99.25926894,19.350927919999094],[-99.25923739999988,19.351220819999092],[-99.25923087999988,19.351518819999193],[-99.25924857999988,19.351774549999195],[-99.25940270999988,19.3524788899992],[-99.25946573999988,19.352817769999096],[-99.25984148999996,19.354207229999098],[-99.26001619999988,19.355285229999097],[-99.26015613999998,19.355872059999097],[-99.26025171999996,19.356488569999193],[-99.26031361999998,19.356975219999097],[-99.26059402999988,19.358332619999196],[-99.26091044999995,19.359837509999092],[-99.26104705999988,19.360543139999095],[-99.26113327999998,19.360825739999097],[-99.26125985,19.361044399999095],[-99.26143108,19.361219169999092],[-99.26168222999988,19.361429579999097],[-99.26185307999997,19.361562169999093],[-99.26199564999988,19.361667799999196],[-99.26224321999987,19.361817849999092],[-99.26253762999988,19.361989819999195],[-99.26282668,19.362131049999196],[-99.26322462999995,19.362283999999093],[-99.26374073999988,19.36245014999909],[-99.26426477999998,19.362599229999095],[-99.26484297999995,19.362760829999193],[-99.26510477999987,19.362842449999196],[-99.26534850999997,19.362929369999197],[-99.26563874999988,19.363066909999095],[-99.26591530999998,19.363197969999096],[-99.26683310999988,19.363545279999094],[-99.26657758,19.363960919999094],[-99.26651587999996,19.364165319999195],[-99.26647333999988,19.364394219999195],[-99.26645288999995,19.364690079999097],[-99.26646081999988,19.365019889999097],[-99.26649154999988,19.365279709999097],[-99.26653247999997,19.365534539999096],[-99.26657405999995,19.365648509999097],[-99.26660514999998,19.365799429999093],[-99.26665747999998,19.366148849999195],[-99.26676313999997,19.366809999999095],[-99.26678904999989,19.367027709999196],[-99.26677931999988,19.367515059999096],[-99.26672311,19.367808709999093],[-99.26665779999988,19.36806541999919],[-99.26657606,19.368318709999095],[-99.26635848999996,19.368866259999095],[-99.26604696999998,19.369618179999097],[-99.26580439999998,19.370205289999095],[-99.26545061999995,19.371026569999096],[-99.26507495,19.371745649999095],[-99.26531471,19.371959749999096],[-99.26540668999988,19.372019449999097],[-99.26549194999988,19.372037169999096],[-99.26558823,19.372013919999095],[-99.26580370999989,19.371858139999095],[-99.26607353999997,19.371625319999197],[-99.26618021999998,19.371500059999192],[-99.26622265999995,19.371372799999197],[-99.26624548999987,19.371238939999092],[-99.26626734999988,19.371146949999098],[-99.26629941999988,19.371012109999096],[-99.26639534,19.370720829999097],[-99.26644513999996,19.370635509999197],[-99.26664654999988,19.370289739999095],[-99.26686793999988,19.369899489999096],[-99.26709929,19.369506049999096],[-99.26719719999988,19.369346079999197],[-99.26731516999988,19.369226719999094],[-99.26749654999998,19.369084139999096],[-99.26779016999988,19.368856569999096],[-99.26791552,19.36878750999909],[-99.26805742999989,19.36874190999909],[-99.26815974,19.3687167099992],[-99.26828187999988,19.368700859999095],[-99.26843377999988,19.368713169999097],[-99.26861834999988,19.368806119999096],[-99.26901605999988,19.368967799999197],[-99.26910864999986,19.369063849999097],[-99.26894901999997,19.369241149999095],[-99.26863237999996,19.369607819999096],[-99.26839248,19.370052619999097],[-99.26832522999987,19.370252019999096],[-99.26827490999987,19.370420429999097],[-99.26825145999996,19.370590449999195],[-99.26824145999989,19.370697449999096],[-99.26822779999998,19.370953849999097],[-99.26825931999998,19.3712337799992],[-99.26829570999988,19.371462799999193],[-99.26837994999988,19.371808829999196],[-99.26889461999995,19.371667479999097],[-99.26977802,19.371444349999095],[-99.27008374,19.37220387999909],[-99.27013159999989,19.372355969999095],[-99.27015664999998,19.372503379999195],[-99.27016102,19.37262913999909],[-99.27015756999997,19.372715169999097],[-99.27014339999988,19.372810259999095],[-99.27010556999988,19.372921279999098],[-99.27007190999988,19.372996999999096],[-99.27002688999988,19.373069709999097],[-99.26997725999988,19.373137969999195],[-99.26991793999996,19.3732031799992],[-99.26984961999987,19.373257399999098],[-99.26977761999989,19.373314339999094],[-99.26965097999988,19.373389459999093],[-99.26952387999997,19.373441119999097],[-99.26943791999996,19.373466569999195],[-99.26934141999998,19.373489879999095],[-99.26923952,19.373510309999094],[-99.26911873999988,19.373527199999092],[-99.26897382,19.373547519999097],[-99.26890956999988,19.373556169999095],[-99.26883708999998,19.373562519999197],[-99.26877058,19.373565969999195],[-99.26869482999996,19.373565339999097],[-99.26862364999988,19.373562449999195],[-99.26856047999988,19.373554379999096],[-99.26848654999998,19.373542289999097],[-99.26840957999995,19.373525779999092],[-99.26814771999987,19.373431109999196],[-99.2680804,19.373409259999196],[-99.26800674999996,19.373385459999096],[-99.26793102999989,19.37337161999919],[-99.26782847999998,19.373352919999096],[-99.26774564999988,19.373349289999094],[-99.26766664999998,19.373353779999096],[-99.26757711,19.373372319999095],[-99.267501,19.373405019999197],[-99.26740701999988,19.373453279999097],[-99.26733096999996,19.373514279999096],[-99.26725644999998,19.373593659999095],[-99.26699734999988,19.374024479999097],[-99.26695696999998,19.374074109999096],[-99.26691407999998,19.374121489999094],[-99.26686861999995,19.374166689999097],[-99.26682073999989,19.374209549999097],[-99.26677055,19.374249979999096],[-99.26671819999989,19.374287879999095],[-99.26666384999996,19.374323109999096],[-99.26660761999987,19.374355599999095],[-99.26654967999995,19.374385249999097],[-99.26649016999988,19.374411979999092],[-99.26642927999988,19.374435719999195],[-99.26636714999988,19.374456399999097],[-99.26630348999998,19.374474109999095],[-99.26564381999997,19.374579369999093],[-99.26505914999989,19.374666979999095],[-99.26378153999998,19.374858429999197],[-99.26346961999998,19.374909429999096],[-99.26325705999987,19.3749563799992],[-99.26297807999995,19.375038919999096],[-99.26204328999997,19.375489739999097],[-99.26168898,19.375661779999096],[-99.26135349,19.375840659999096],[-99.26102988999996,19.376033449999095],[-99.26059685999988,19.376353219999096],[-99.25980425999998,19.377026849999098],[-99.25888725,19.377844219999098],[-99.25792307999988,19.378705749999096],[-99.25765248999988,19.378951229999092],[-99.25714730999988,19.379409519999097],[-99.25690916999996,19.3796130599992],[-99.25607994999989,19.380173519999097],[-99.25579419999998,19.380354489999196],[-99.25498705999988,19.380865649999095],[-99.25460510999989,19.38110588999909],[-99.25424664999998,19.38133436999919],[-99.25247095,19.382466139999096],[-99.25118897999988,19.383280479999197],[-99.25077030999988,19.383548489999097],[-99.25068097999998,19.383608199999095],[-99.25032502,19.383833939999096],[-99.25003402,19.384035799999097],[-99.24974697999988,19.384265049999197],[-99.24878084999987,19.385039689999196],[-99.24765261999988,19.385957019999097],[-99.24656976999988,19.38682881999919],[-99.24623846,19.3870851499992],[-99.24599851999989,19.387230279999095],[-99.24573846,19.387320229999197],[-99.24547736999988,19.387394379999098],[-99.24517433999988,19.387403619999095],[-99.24499756999988,19.387385819999196],[-99.24475177999987,19.387343829999196],[-99.24364461999988,19.386985089999097],[-99.24332582999988,19.386937489999095],[-99.24319812,19.386918459999094],[-99.24294525999989,19.386951689999098],[-99.24267896999996,19.387035179999096],[-99.24210904999988,19.387354619999098],[-99.24138634999996,19.387981749999096],[-99.24113854999987,19.388141229999096],[-99.24046636999996,19.388499369999096],[-99.24020937999995,19.388653059999097],[-99.23992904999989,19.388864059999197],[-99.23967265,19.389136709999196],[-99.23951582999987,19.389379739999097],[-99.23941970999986,19.389589089999195],[-99.23913283,19.390405909999092],[-99.23902176999997,19.390727939999095],[-99.23899682999988,19.391061229999096],[-99.23901588999998,19.391701139999196],[-99.23903332,19.392286319999094],[-99.23900662999988,19.392473379999096],[-99.23892125999996,19.392674419999192],[-99.23880750999987,19.392824249999197],[-99.23802817999989,19.393396509999096],[-99.23784259999998,19.3934912599992],[-99.23760342,19.393567509999095],[-99.23738285999998,19.393598719999197],[-99.23709947999998,19.393604679999196],[-99.23648462999986,19.3935455699992],[-99.23625854999987,19.393540479999093],[-99.23603951999988,19.393562459999195],[-99.23580770999988,19.393626059999097],[-99.23548171,19.393743139999096],[-99.23284189,19.394814479999095],[-99.23257681999988,19.394903509999097],[-99.23225321999988,19.394933429999096],[-99.23193711999988,19.394906679999195],[-99.23151948999995,19.394869019999092],[-99.23127556999997,19.394872139999197],[-99.23106687999989,19.394898629999197],[-99.23085445999996,19.394949909999095],[-99.23049110999987,19.395083519999197],[-99.22998127999988,19.395256309999095],[-99.22977025999988,19.395303429999093],[-99.22924730999988,19.395416849999197],[-99.22818308,19.395645089999196],[-99.22770291999989,19.395730799999093],[-99.22734513999995,19.395795849999196],[-99.22697876999987,19.395803089999095],[-99.22664837999996,19.395771679999093],[-99.22603608,19.395690569999097],[-99.22571033999998,19.395665879999097],[-99.22515871999998,19.395639139999098],[-99.22499053999996,19.395632739999098],[-99.22421962,19.395746139999098],[-99.22357876999988,19.395852719999095],[-99.22244442999988,19.396202479999097],[-99.22206021999988,19.396327579999095],[-99.21951319999988,19.397170479999097],[-99.21831557999998,19.397554679999097],[-99.21807197999998,19.397634259999197],[-99.21707745,19.397973939999098],[-99.21690644999988,19.398033539999098],[-99.21629224999998,19.398252599999097],[-99.21587622,19.398376629999095],[-99.21485611,19.398705709999096],[-99.21448022,19.398839739999097],[-99.21386617999995,19.399117689999095],[-99.21302539999998,19.399559279999092],[-99.21267408999988,19.399764879999097],[-99.21256782999988,19.399806309999093],[-99.21202661999988,19.399949599999193],[-99.21147544999997,19.400129689999098],[-99.21094514,19.400276599999096],[-99.21051001999987,19.400424709999097],[-99.21044845999988,19.400436679999096],[-99.20904842,19.400657429999097],[-99.20841507999988,19.400764509999096],[-99.20784521999998,19.400853919999097],[-99.20617253999988,19.401065579999095],[-99.20503994999989,19.401214909999197],[-99.20455905999988,19.401276579999095],[-99.20373805,19.401365719999195],[-99.20307595,19.401433779999095],[-99.20247426,19.401502199999097],[-99.20221057999996,19.401527399999196],[-99.20190161999987,19.401556179999098],[-99.20154893999988,19.401646649999098],[-99.20141667999997,19.401682029999197],[-99.200996,19.401842999999097],[-99.20050139999988,19.402032659999097],[-99.19986647999998,19.4022787499992],[-99.19956334999988,19.402398279999197],[-99.19893922999997,19.402662859999097],[-99.19843454999987,19.402885449999097],[-99.19830642999987,19.402933649999092],[-99.19806871999997,19.403003659999097],[-99.19761364999988,19.403091199999096],[-99.19671171999988,19.403192459999097],[-99.19662774999988,19.403204859999196],[-99.19587714999987,19.403291689999197],[-99.19544967999998,19.403343909999094],[-99.19465810999998,19.403467819999197],[-99.19452082999996,19.403484479999097],[-99.19432163,19.403507419999094],[-99.19415888,19.403527019999096],[-99.19383790999989,19.403564509999097],[-99.19373236999988,19.403576849999094],[-99.19298989,19.403656149999097],[-99.19247962,19.403712369999095],[-99.19236493999988,19.403724999999195],[-99.1922014,19.403743029999095],[-99.19218570999998,19.403238029999095],[-99.19219719999988,19.403095849999097],[-99.19224845,19.402627509999096],[-99.19227162999988,19.402387029999097],[-99.19234461999996,19.401653279999096],[-99.19231801999987,19.401392909999096],[-99.19229562999998,19.401329369999097],[-99.19222474,19.401131689999197],[-99.19213302999997,19.400980709999196],[-99.19202493999995,19.400855859999098],[-99.19188784999989,19.400727169999097],[-99.19149145999988,19.400437259999094],[-99.19128184999988,19.400264689999094],[-99.19115364999998,19.400109169999197],[-99.19082581999996,19.399650229999096],[-99.19061402999988,19.399322229999097],[-99.19047631999987,19.399021749999097],[-99.19036271,19.398755949999096],[-99.19017862999998,19.39831525999919],[-99.18992279999998,19.397706549999096],[-99.18987638,19.397586429999095],[-99.18958427999988,19.396853649999095],[-99.18925831999998,19.396074829999097],[-99.18909539999996,19.3956862899992],[-99.18905516999988,19.395590339999195],[-99.18870661999988,19.394747649999097]]],\"type\":\"Polygon\"},\"properties\":{\"_id\":4,\"cve_ent\":9,\"cve_mun\":10,\"cvegeo\":9010,\"g_pnt_2\":\"19.336175562,-99.246819712\",\"geo_shp\":\"{\\\"type\\\": \\\"Polygon\\\", \\\"coordinates\\\": [[[-99.18870661999989, 19.394747649999097], [-99.18867970999997, 19.394675029999092], [-99.18856925999987, 19.394415169999196], [-99.18845179999988, 19.394128059999197], [-99.18841437, 19.394018279999198], [-99.18839322\",\"gid\":4,\"id\":3,\"nomgeo\":\"lvaro Obregn\"},\"type\":\"Feature\"},{\"geometry\":{\"coordinates\":[[[-99.13923187999988,19.356865289999092],[-99.13772164999988,19.356768449999095],[-99.13727873999989,19.356742829999096],[-99.13693710999988,19.356717279999096],[-99.13657430999989,19.356694619999097],[-99.13625382999996,19.356674779999096],[-99.13591521999987,19.356646369999197],[-99.13552421999998,19.356623119999096],[-99.13503141999998,19.356589089999197],[-99.13474721999988,19.356569229999096],[-99.13455977999988,19.356563629999098],[-99.13439651999988,19.35654654999919],[-99.13427048999988,19.356540689999093],[-99.13397045999989,19.356533709999095],[-99.13367422999988,19.356551939999093],[-99.13348816999986,19.356588089999097],[-99.13307430999996,19.3567360799992],[-99.13291485999996,19.356801029999097],[-99.13269108,19.356917689999097],[-99.13250224999987,19.357033919999196],[-99.13236925999988,19.357119829999096],[-99.13228742999988,19.357176769999096],[-99.13212703,19.357301089999197],[-99.13191324999995,19.357520019999097],[-99.13176296999988,19.357716709999092],[-99.13142410999988,19.3582601199992],[-99.13136096999988,19.358375689999193],[-99.13117790999988,19.358660859999095],[-99.13086977999995,19.358627399999097],[-99.13032808,19.358568579999098],[-99.13014239999995,19.358548419999096],[-99.12985811999988,19.358517549999096],[-99.12952634,19.358481519999096],[-99.12938604999988,19.358466289999097],[-99.12909773999988,19.358434979999096],[-99.12893024999988,19.35841714999909],[-99.12869505,19.35839125999919],[-99.12839761999996,19.35835956999909],[-99.12827708999998,19.358345879999096],[-99.12776734999989,19.358290519999095],[-99.12770849,19.358284119999094],[-99.12717062999997,19.358225719999098],[-99.12708871999996,19.358216829999098],[-99.12673384999988,19.35817827999919],[-99.12658296999987,19.358161849999096],[-99.12628764999988,19.358129569999196],[-99.12611339999997,19.3581109099992],[-99.12586593999995,19.358084029999095],[-99.12561377999997,19.358056649999096],[-99.12511462,19.358002429999093],[-99.12462404999997,19.357949149999097],[-99.12378569,19.357858089999095],[-99.12362097999988,19.357840199999096],[-99.12247733999996,19.3577159699992],[-99.12199737999998,19.357663829999098],[-99.12197974,19.357661919999195],[-99.12197970999988,19.357661629999097],[-99.12189041999989,19.35697648999909],[-99.12158856999996,19.354636369999096],[-99.12145357999998,19.353920059999197],[-99.12126185999988,19.353340149999095],[-99.12093143,19.352315059999096],[-99.12077736999998,19.35184147999909],[-99.12048908,19.351151999999196],[-99.12036091,19.35084548999909],[-99.12024205999988,19.350561259999196],[-99.12014641999998,19.350427849999196],[-99.11982414,19.349992539999196],[-99.11956005999998,19.349614859999097],[-99.11954677999988,19.3495914799992],[-99.11945724999998,19.349456489999096],[-99.11890421999998,19.348622619999094],[-99.11823159999987,19.347608399999196],[-99.11806117999998,19.347351429999097],[-99.11739217999995,19.346189349999097],[-99.11726056999996,19.345944549999096],[-99.11706685999997,19.345583709999097],[-99.11705170999988,19.345555879999196],[-99.11640453999988,19.344394049999195],[-99.11621890999996,19.344116019999092],[-99.11608207999988,19.343963799999095],[-99.11587468999988,19.343705519999197],[-99.11573142,19.343532459999096],[-99.11573139999987,19.343532429999097],[-99.1156582,19.343432769999097],[-99.11557153999988,19.343264119999095],[-99.11530719999998,19.342666169999095],[-99.11516333999998,19.342333079999097],[-99.11511507999997,19.342234479999096],[-99.11495276999987,19.341872249999096],[-99.11454874999995,19.340970549999195],[-99.11447548999988,19.340790489999197],[-99.11444705999996,19.340678619999096],[-99.11443221999996,19.340585259999195],[-99.11439674999998,19.340420519999196],[-99.11434482999988,19.34007154999909],[-99.11431181999998,19.339830919999095],[-99.11421590999998,19.339229779999098],[-99.11418256999995,19.339014539999095],[-99.11417763,19.338969549999096],[-99.11413566,19.338637489999098],[-99.11406845,19.338249709999197],[-99.11403859999989,19.338136259999096],[-99.11402039999996,19.337959739999096],[-99.11395677999997,19.337637139999096],[-99.11390744999989,19.337336169999094],[-99.11376391999988,19.336924019999092],[-99.11359668999988,19.336647999999197],[-99.11321531999988,19.335977259999098],[-99.11302234,19.335558579999095],[-99.11296358,19.335429319999093],[-99.11293457999987,19.335368489999095],[-99.11243926,19.334634399999096],[-99.11215848999989,19.334218259999194],[-99.11193054999988,19.333963339999094],[-99.11161825,19.333667019999098],[-99.11126927999996,19.333424879999093],[-99.11058964999988,19.333076539999094],[-99.11053824999998,19.333047549999197],[-99.11043037999998,19.332963279999195],[-99.11032336999988,19.332879659999097],[-99.11016755,19.332696459999095],[-99.11009231,19.332581459999098],[-99.10999674,19.332335259999095],[-99.10998159999995,19.332296289999192],[-99.10981802999996,19.331731779999096],[-99.10972110999988,19.331466659999094],[-99.10962973999987,19.331313969999098],[-99.10930505999988,19.330868479999097],[-99.10913968999988,19.330608119999095],[-99.10894496999995,19.330301519999097],[-99.10862125999988,19.329799539999097],[-99.10833593999988,19.329357059999197],[-99.10801191999995,19.328854599999097],[-99.10792921999987,19.328726339999097],[-99.10758853999988,19.328286779999097],[-99.10707015,19.327745569999095],[-99.10654433999996,19.327204579999194],[-99.10604631999988,19.326692199999098],[-99.10577014999988,19.326350799999197],[-99.10572931999997,19.326300339999097],[-99.10554582999998,19.326120889999096],[-99.10542843,19.326006059999095],[-99.10520636999988,19.325788909999098],[-99.10510151999988,19.325686369999097],[-99.10489126,19.325480719999096],[-99.10433627999998,19.324937949999097],[-99.10418617999989,19.324810509999196],[-99.10398713999987,19.324673379999098],[-99.10382065999988,19.324586919999195],[-99.10345821999988,19.32441622999919],[-99.10278153999997,19.324055119999095],[-99.10239971,19.323838969999095],[-99.10206648999998,19.323640949999096],[-99.10170205,19.323424379999096],[-99.10141790999988,19.323239249999094],[-99.10116956999998,19.323077449999097],[-99.10104750999989,19.322988519999097],[-99.10084270999988,19.322839339999096],[-99.10068442999987,19.322682739999095],[-99.10040642,19.3224043699992],[-99.09995387999996,19.321919629999098],[-99.09953613999988,19.321399689999193],[-99.09929841999995,19.321100259999096],[-99.09924207999988,19.320987289999096],[-99.09920702999987,19.320917019999097],[-99.09912454999989,19.320657149999192],[-99.09907684999988,19.320444109999094],[-99.09907625999988,19.320441489999094],[-99.09929451999987,19.320449539999096],[-99.09935030999998,19.319273259999097],[-99.09959408,19.316346479999098],[-99.09966509,19.315503939999093],[-99.09987891,19.312969419999096],[-99.10006917999998,19.3098995499992],[-99.10023256999987,19.307765449999096],[-99.10031296999988,19.306715019999196],[-99.10032166,19.306587969999097],[-99.10032996999988,19.306466719999197],[-99.10049708999998,19.304456939999092],[-99.10064656999997,19.3027138199992],[-99.10079336999998,19.301253479999193],[-99.10092916999996,19.300021049999096],[-99.10094704999987,19.300020739999095],[-99.10102594999988,19.300019399999194],[-99.101329,19.300009459999195],[-99.10212088,19.299971619999095],[-99.10376648999988,19.299883849999095],[-99.10403582999996,19.299868139999095],[-99.10450242999995,19.299844199999097],[-99.10494950999998,19.299821139999093],[-99.10501651999998,19.299817489999196],[-99.10541933999995,19.299797599999096],[-99.10556674,19.299790849999095],[-99.10608388,19.299759819999196],[-99.10638930999988,19.299742679999092],[-99.10657514999995,19.299732939999195],[-99.10707634999989,19.299707709999097],[-99.10725334999988,19.299695949999094],[-99.10738128999998,19.299692549999097],[-99.10821584999997,19.299642429999093],[-99.10843081999997,19.299626219999094],[-99.10880774999998,19.299600769999195],[-99.10919656999988,19.299617779999195],[-99.10920741999998,19.299618259999097],[-99.10921424999997,19.2996199999992],[-99.10942169,19.29967259999919],[-99.10992724999988,19.299798649999097],[-99.11029892,19.299888029999096],[-99.11143063,19.300159349999095],[-99.11195767999996,19.300292769999096],[-99.11245336999998,19.300416149999094],[-99.11296361999987,19.30053805999909],[-99.11365175,19.300677339999098],[-99.11429422999998,19.300813739999093],[-99.11556327999988,19.301116549999193],[-99.11567746,19.301144489999096],[-99.11616581999998,19.301263949999196],[-99.11680778,19.301420249999193],[-99.11741544999988,19.301579679999097],[-99.11778674,19.301683119999097],[-99.11984953999988,19.302258979999095],[-99.12093910999988,19.302596119999095],[-99.12202694999988,19.302936579999095],[-99.12243777999998,19.303087849999095],[-99.12297413999988,19.303286949999094],[-99.12461022,19.303962949999097],[-99.12465625999988,19.303980549999196],[-99.12482587999988,19.304040859999095],[-99.12608339999998,19.30457371999919],[-99.12683790999988,19.304899089999196],[-99.12708261999988,19.305001829999096],[-99.12731782999997,19.305100569999095],[-99.12761785999996,19.305226539999097],[-99.1278142,19.305310649999097],[-99.12829839999988,19.305518109999095],[-99.12894947999987,19.305797049999097],[-99.12947285999998,19.306025029999095],[-99.12997153999996,19.306240339999096],[-99.13001624999995,19.306259629999097],[-99.13045516999988,19.306448539999092],[-99.13096510999998,19.306668019999197],[-99.13150613999989,19.306901279999096],[-99.13249807999988,19.307325429999096],[-99.13279856999998,19.307442909999097],[-99.13416741999995,19.308047939999096],[-99.13471034,19.308287629999093],[-99.13472471999988,19.308293979999096],[-99.13472801999995,19.308289829999097],[-99.13557602999998,19.307217059999097],[-99.13610885999998,19.306631079999093],[-99.136401,19.306319139999093],[-99.13711661999996,19.305604679999096],[-99.13771957999988,19.304920919999095],[-99.13789837999998,19.304718169999095],[-99.13814977,19.304446519999097],[-99.13826388999988,19.304327799999097],[-99.13844948999996,19.304144349999095],[-99.13864456999988,19.303925419999096],[-99.13869996999988,19.303861779999096],[-99.13894795,19.303585289999095],[-99.13902947999998,19.303496349999097],[-99.13936275,19.303124629999193],[-99.13937281999988,19.303113379999193],[-99.13965361999998,19.30281364999909],[-99.13967967999996,19.302785849999196],[-99.14012791,19.302279999999197],[-99.1401612,19.302243849999098],[-99.14051424999997,19.301827889999096],[-99.14067285,19.301655849999097],[-99.14088819999988,19.301422229999098],[-99.14092834999998,19.301378679999097],[-99.14125567999996,19.301022509999097],[-99.14176725999988,19.300470029999097],[-99.14207448999998,19.300155509999097],[-99.14236497999998,19.299858089999095],[-99.14261288999988,19.299609709999096],[-99.14261623,19.29960634999909],[-99.14263054999998,19.299611909999097],[-99.14339185999988,19.299907079999095],[-99.14375031999997,19.300044539999096],[-99.14409635,19.300176939999098],[-99.14451117999988,19.300338339999097],[-99.14462346,19.300380479999195],[-99.14469813999987,19.30040945999909],[-99.14505696999998,19.300548719999096],[-99.14524521999998,19.300621279999095],[-99.14564607999988,19.300733119999197],[-99.14610157999986,19.300827229999097],[-99.14658962999988,19.30092574999909],[-99.14659045999998,19.3009259199992],[-99.14660728999998,19.300927949999195],[-99.14693042,19.300966999999098],[-99.14711244999988,19.30096430999909],[-99.14712797999988,19.300964079999098],[-99.14713010999998,19.300966519999097],[-99.14740039999997,19.301275339999098],[-99.14741007999996,19.301286419999094],[-99.14741805999986,19.301277539999095],[-99.14764211,19.30102854999919],[-99.14785667999998,19.300829169999197],[-99.14818571999996,19.3005708199992],[-99.14878659999988,19.300092649999197],[-99.14960988999997,19.299452939999092],[-99.15009431999988,19.29908674999909],[-99.15063239999988,19.298700199999097],[-99.15073184999989,19.298628749999093],[-99.15110053999987,19.298383229999096],[-99.15137879999996,19.298195509999097],[-99.15154767999996,19.298064019999096],[-99.15162094999988,19.298006419999098],[-99.15178747999988,19.297932739999094],[-99.15194039999987,19.297882829999097],[-99.15214070999995,19.297827519999096],[-99.15383417999998,19.297433629999095],[-99.15461427999998,19.297273059999096],[-99.15521517999998,19.297151229999095],[-99.15526534999998,19.297141089999094],[-99.15595548999988,19.29699402999919],[-99.15642373999997,19.296896289999196],[-99.15665113999988,19.296840139999095],[-99.15666453999988,19.296836829999098],[-99.15666881999988,19.296842349999196],[-99.15672034999989,19.296908739999097],[-99.156804,19.297016369999096],[-99.15733448,19.297698919999196],[-99.15748093999996,19.2978917399992],[-99.15790861999989,19.298487949999096],[-99.15841828,19.299132909999095],[-99.15865051999998,19.299370519999098],[-99.15887125999988,19.299590169999092],[-99.15904610999988,19.29974731999919],[-99.15939566,19.300006169999197],[-99.15971531999998,19.300242879999097],[-99.15997321999996,19.300415659999096],[-99.16024424999988,19.30056601999919],[-99.16077347999996,19.300828049999197],[-99.16129584999996,19.301028949999097],[-99.16155073999988,19.30110827999909],[-99.16159641999997,19.301120849999197],[-99.16199939999989,19.301222819999197],[-99.16226289,19.301277419999096],[-99.16256005999998,19.301323719999097],[-99.16271348999996,19.301349119999095],[-99.16285464999996,19.301372489999196],[-99.16318008999995,19.301416859999197],[-99.16330216999988,19.301433509999097],[-99.16377711999988,19.301498939999096],[-99.16427725999988,19.301567859999096],[-99.16490117999987,19.301654489999095],[-99.16547419999988,19.301734109999096],[-99.16555995,19.301746019999097],[-99.16592049,19.301795219999097],[-99.16599061999987,19.301804769999094],[-99.16650568999988,19.301875079999096],[-99.1666438,19.301892429999192],[-99.16726719999998,19.301978279999098],[-99.16727224999988,19.301978969999197],[-99.16728487999988,19.301980479999095],[-99.16755353999996,19.3020125099992],[-99.16756273999988,19.302013619999094],[-99.16757121999996,19.302014709999096],[-99.1679326,19.302061779999093],[-99.16815889,19.302090289999096],[-99.16848588999989,19.302133309999093],[-99.16901642999989,19.302206879999098],[-99.16912453999998,19.302221969999096],[-99.16967847999987,19.302298169999094],[-99.16983662999988,19.302321459999096],[-99.16983944999998,19.30232187999909],[-99.16985429,19.302323659999097],[-99.17017819999988,19.302362579999095],[-99.17019405999996,19.302364489999196],[-99.17019586,19.302364779999195],[-99.17033993999988,19.3023882199992],[-99.1709486,19.302471149999096],[-99.17147507999988,19.302540199999093],[-99.17147553999988,19.302540259999095],[-99.17149275,19.302542399999197],[-99.17149319999996,19.302542459999096],[-99.17166202999988,19.302563449999095],[-99.17167968999988,19.302565649999192],[-99.17222684999987,19.30264124999909],[-99.17286826,19.302730549999097],[-99.17341621999996,19.302810909999096],[-99.17405130999998,19.302894229999097],[-99.17465796999988,19.302980569999193],[-99.17528784999988,19.303061219999197],[-99.1758882,19.303147569999098],[-99.17654937999995,19.303231109999192],[-99.176799,19.303272819999194],[-99.17711554999988,19.303313489999095],[-99.17713164999998,19.303315549999095],[-99.17713321999996,19.303315689999096],[-99.17732397999998,19.303331549999196],[-99.17855561999988,19.303415179999195],[-99.17928753999988,19.303440349999093],[-99.17940662999987,19.303440249999092],[-99.17988348999988,19.303437549999195],[-99.18036727999998,19.303425309999096],[-99.18066096999988,19.303410659999095],[-99.18126134,19.303374749999097],[-99.18143002999987,19.303365169999196],[-99.18234902999995,19.303279539999096],[-99.18282359999988,19.303222369999094],[-99.18320810999988,19.303177259999096],[-99.18364783,19.303129689999096],[-99.18418862999988,19.303070309999196],[-99.18576073999998,19.302889319999196],[-99.18598151999998,19.302865569999096],[-99.18624696999989,19.302839399999097],[-99.18807957999998,19.3026463999992],[-99.18828299999988,19.302622659999095],[-99.18956389,19.302477779999094],[-99.19158442999998,19.302254369999098],[-99.19293422999998,19.302105459999098],[-99.19345113999998,19.302048419999092],[-99.19402102,19.302013309999097],[-99.19446781999989,19.302012829999097],[-99.19483521999987,19.302034419999096],[-99.19505164999995,19.302052859999097],[-99.19505367999987,19.302053029999097],[-99.19506930999988,19.302055049999097],[-99.19543342999997,19.302102169999195],[-99.19595354999989,19.302198969999097],[-99.19628607999988,19.302278169999095],[-99.19671102999988,19.302404969999092],[-99.19715768999995,19.302559219999097],[-99.19776150999988,19.302814859999195],[-99.19810924999987,19.302999749999096],[-99.19846031,19.303203479999095],[-99.19869604999997,19.303354689999097],[-99.19908687999998,19.303599179999093],[-99.19950579999988,19.303823949999096],[-99.19990854999998,19.304031419999195],[-99.20018447999988,19.30417353999909],[-99.20127117999998,19.304639089999093],[-99.20222934999998,19.304960689999096],[-99.20272185999988,19.305096379999195],[-99.20320314999996,19.305217249999195],[-99.20359070999996,19.305291829999096],[-99.20435179999996,19.305429569999095],[-99.20459028,19.305470769999197],[-99.20504733999996,19.305555079999095],[-99.20567121999989,19.305667309999095],[-99.20575216999995,19.305681879999195],[-99.20574187999988,19.305745199999095],[-99.205719,19.305868419999097],[-99.20565164999988,19.306216079999196],[-99.20555348,19.306722909999195],[-99.20555328999988,19.306723849999095],[-99.20553582,19.306720709999095],[-99.20550817,19.306715739999195],[-99.20549311999996,19.306557799999094],[-99.20544673999989,19.306476749999195],[-99.20537894999995,19.306390509999098],[-99.20525073999988,19.306309029999095],[-99.20523874,19.306301399999096],[-99.20523307999996,19.306306849999096],[-99.20253597,19.308895649999094],[-99.20173336999989,19.309680879999192],[-99.20073058,19.310651369999192],[-99.20063454999988,19.310751059999095],[-99.20058181999995,19.310806199999096],[-99.20024711999996,19.311160029999098],[-99.20047370999998,19.3114039699992],[-99.20047567999988,19.311406089999096],[-99.20049137999987,19.311406169999195],[-99.20064631999998,19.311406939999095],[-99.20116668999997,19.311455939999096],[-99.20118405999987,19.311457579999097],[-99.20118434999988,19.311458139999196],[-99.20121593999988,19.311517909999196],[-99.20122354999988,19.311619109999093],[-99.20122928999989,19.311729179999094],[-99.20121263,19.311875399999092],[-99.20118464999987,19.311953549999092],[-99.20114177999989,19.312034289999097],[-99.19996529,19.313843569999197],[-99.19872651999997,19.315805819999095],[-99.19659913999998,19.319227249999095],[-99.19498777999998,19.321842509999097],[-99.19493356999998,19.322029999999096],[-99.19488131999996,19.323140549999195],[-99.19488628999989,19.3234642899992],[-99.19485302999998,19.324720709999095],[-99.1947926,19.327126969999096],[-99.19477717999987,19.328719709999095],[-99.19474798,19.329328679999097],[-99.19470418,19.330233489999195],[-99.19500385999996,19.330629939999096],[-99.19529328999988,19.331092169999096],[-99.19575781999998,19.33194765999909],[-99.19609134999996,19.33240107999919],[-99.19626551999988,19.332684419999097],[-99.1963588,19.332884999999095],[-99.19638256999995,19.333028909999097],[-99.19639097999998,19.333241659999192],[-99.19638861999988,19.333325599999096],[-99.19637444999988,19.333406819999094],[-99.19629468999987,19.333631289999097],[-99.19638994999998,19.333676319999096],[-99.19650347999998,19.333702769999096],[-99.19650356999988,19.333702779999097],[-99.19652114999997,19.333704949999095],[-99.19652124999998,19.333704969999093],[-99.19659801999995,19.333714479999095],[-99.19661567999997,19.333716659999094],[-99.19693397999995,19.333720769999097],[-99.19821791999998,19.333507319999097],[-99.19871350999988,19.333424549999197],[-99.19990468,19.333229749999095],[-99.19992434999988,19.333226539999096],[-99.19992234999988,19.333231949999096],[-99.19982091999996,19.333505379999096],[-99.19959376999998,19.33384088999909],[-99.19938189,19.334084599999095],[-99.19917911,19.334317859999096],[-99.19870965999988,19.334963049999097],[-99.19852688,19.335149819999096],[-99.19839813999988,19.335259179999095],[-99.19825965999988,19.335378279999095],[-99.19805679999996,19.335484149999196],[-99.19786731,19.335543859999092],[-99.19767290999988,19.335594879999093],[-99.19693364999988,19.335735679999097],[-99.19618877999989,19.335887309999094],[-99.19510377999988,19.336171079999193],[-99.19428481999988,19.336391629999095],[-99.19315681999988,19.336610369999196],[-99.19172491999988,19.336873619999096],[-99.19152918,19.336890089999095],[-99.19137993999998,19.336898659999097],[-99.19137743,19.336898819999092],[-99.19136225999988,19.336896479999098],[-99.19125327999988,19.336879659999095],[-99.19123594999988,19.33687699999909],[-99.19123561999996,19.336877479999096],[-99.19104725999988,19.337142879999096],[-99.19060473999996,19.337722849999096],[-99.19024879999988,19.337979649999095],[-99.19032090999995,19.338673489999195],[-99.19032130999987,19.338677229999096],[-99.19030324999989,19.33867128999909],[-99.19006138,19.338591719999197],[-99.19004577999998,19.338586579999095],[-99.19004370999988,19.338589519999093],[-99.18948861999988,19.339373819999096],[-99.18933054,19.339542249999095],[-99.18916107999988,19.339722779999192],[-99.188569,19.340148579999095],[-99.18822430999988,19.340404379999097],[-99.18799971999988,19.340645029999195],[-99.187661,19.341015309999097],[-99.18732630999988,19.34113027999919],[-99.18680856999998,19.341278179999197],[-99.18668499999988,19.34139837999909],[-99.18662435,19.341596219999097],[-99.18650512,19.341932909999095],[-99.18596907999988,19.342447819999094],[-99.18535324999998,19.342977119999095],[-99.18477521999988,19.343438109999095],[-99.18450151999998,19.343587479999098],[-99.18433467999988,19.343623119999197],[-99.18403834999997,19.343647979999098],[-99.18383651,19.343919619999195],[-99.18367768999998,19.344256419999095],[-99.18350921999998,19.3445694799992],[-99.18341079999998,19.344775419999095],[-99.18336650999996,19.344924919999094],[-99.18329293999987,19.345265219999092],[-99.18315607999988,19.345846629999095],[-99.18308441999989,19.346121769999097],[-99.18287488,19.34658430999909],[-99.18266422999989,19.346587399999095],[-99.18249764999987,19.346644179999096],[-99.18233525999987,19.346761479999095],[-99.18179433999988,19.347343049999097],[-99.18179216999988,19.347345379999098],[-99.18177665999995,19.347340849999096],[-99.18083935,19.347066999999097],[-99.18082265999998,19.347062119999094],[-99.18082167999988,19.347064799999096],[-99.18080333999988,19.347115199999195],[-99.18078641999988,19.347143509999093],[-99.18076307999988,19.347173659999097],[-99.18075047999996,19.347184919999194],[-99.18073125999987,19.347199119999097],[-99.18072107999988,19.34720527999909],[-99.18070557999988,19.347213819999094],[-99.18069190999988,19.347220059999092],[-99.18067313999988,19.347227019999192],[-99.18065185999988,19.347232859999195],[-99.18063702999989,19.347235709999097],[-99.18061937999988,19.347237939999196],[-99.18055473999998,19.347235779999195],[-99.18012727999998,19.349268049999097],[-99.18009030999998,19.349357319999093],[-99.18005984999988,19.349430939999095],[-99.17993151999995,19.349642879999095],[-99.17978394999987,19.349827349999096],[-99.17960681999988,19.350009679999097],[-99.17924768999988,19.350342339999095],[-99.17845169,19.351010169999096],[-99.17832334,19.351115029999196],[-99.17766194999987,19.351744289999097],[-99.17759844999988,19.351821479999195],[-99.17748822999988,19.352012309999193],[-99.17728430999988,19.352349749999096],[-99.17722597999987,19.352444089999096],[-99.17713931999997,19.352524109999095],[-99.17704231,19.352600229999194],[-99.17603097999988,19.3534105199992],[-99.17578370999988,19.353620119999192],[-99.17542744999996,19.353984969999097],[-99.17522208999998,19.354241779999093],[-99.17494157999988,19.354636429999097],[-99.17420305,19.355446139999092],[-99.17356222999987,19.356124619999097],[-99.17299350999998,19.35675139999919],[-99.17277474999996,19.357081379999197],[-99.17272755,19.357181659999096],[-99.17241413999989,19.357904489999196],[-99.17170894999995,19.359561579999095],[-99.17170610999987,19.359568259999197],[-99.17169128999988,19.359559379999197],[-99.17083211999989,19.359045059999097],[-99.17055734999995,19.358888429999094],[-99.17040413999987,19.358831279999094],[-99.17015922999998,19.358749919999095],[-99.16978261999998,19.358660079999098],[-99.16978034,19.358659539999195],[-99.16976493999988,19.358657879999097],[-99.16919962,19.358597059999095],[-99.16855033999998,19.358551949999196],[-99.16776890999986,19.358513249999096],[-99.16732646,19.358490979999196],[-99.16715373999988,19.358482289999095],[-99.16634161999998,19.358435339999097],[-99.16494393999989,19.35836188999909],[-99.16350048999998,19.358272619999095],[-99.16181577999996,19.358175339999093],[-99.16170262,19.358169479999095],[-99.16046905999995,19.358105569999196],[-99.15951668999998,19.35805405999909],[-99.15910402999997,19.358031749999196],[-99.15877822999988,19.358011859999095],[-99.15808018,19.357969259999095],[-99.15715722999988,19.357911919999196],[-99.15695374999989,19.357899279999096],[-99.15687277999989,19.357896889999097],[-99.15679559999988,19.357894619999097],[-99.15620067999996,19.3578613999992],[-99.15460507999988,19.35777225999909],[-99.15429244999989,19.357758649999095],[-99.15370475,19.357734489999093],[-99.15316072,19.357697689999195],[-99.15201567999998,19.357638999999097],[-99.15146561999988,19.357602289999093],[-99.15126454999988,19.357595519999094],[-99.15047247999988,19.3575563699992],[-99.15007070999997,19.357532849999096],[-99.14968233999998,19.357512089999194],[-99.14889904999995,19.3574708299992],[-99.14805433999996,19.357425109999195],[-99.14723259999988,19.357392149999193],[-99.14673536999996,19.357379949999093],[-99.14640779999988,19.357370279999095],[-99.1462056,19.357364309999095],[-99.14560348999998,19.357347379999094],[-99.14507422,19.357329489999096],[-99.14479231999997,19.357320019999097],[-99.14438185999988,19.357296149999097],[-99.14405464999996,19.357271829999096],[-99.14385702999998,19.357262769999096],[-99.14349968999989,19.35724145999919],[-99.14289384999988,19.357198919999092],[-99.14237608999996,19.357168219999096],[-99.14227744999988,19.357162369999095],[-99.14197454999996,19.35712668999909],[-99.14149303,19.357068599999096],[-99.14111382999988,19.357022539999193],[-99.14092496999989,19.356999689999096],[-99.14077294,19.356988229999196],[-99.13983599999987,19.356917599999097],[-99.13923187999988,19.356865289999092]]],\"type\":\"Polygon\"},\"properties\":{\"_id\":5,\"cve_ent\":9,\"cve_mun\":3,\"cvegeo\":9003,\"g_pnt_2\":\"19.3266672536,-99.1503763525\",\"geo_shp\":\"{\\\"type\\\": \\\"Polygon\\\", \\\"coordinates\\\": [[[-99.13923187999987, 19.356865289999092], [-99.13772164999989, 19.356768449999095], [-99.13727873999989, 19.356742829999096], [-99.13693710999988, 19.356717279999096], [-99.13657430999989, 19.356694619999097], [-99.13\",\"gid\":7,\"id\":4,\"nomgeo\":\"Coyoacn\"},\"type\":\"Feature\"},{\"geometry\":{\"coordinates\":[[[-99.19628607999988,19.302278169999095],[-99.19595354999989,19.302198969999097],[-99.19543342999997,19.302102169999195],[-99.19506930999988,19.302055049999097],[-99.19505367999987,19.302053029999097],[-99.19505164999995,19.302052859999097],[-99.19483521999987,19.302034419999096],[-99.19446781999989,19.302012829999097],[-99.19402102,19.302013309999097],[-99.19345113999998,19.302048419999092],[-99.19293422999998,19.302105459999098],[-99.19158442999998,19.302254369999098],[-99.18956389,19.302477779999094],[-99.18828299999988,19.302622659999095],[-99.18807957999998,19.3026463999992],[-99.18624696999989,19.302839399999097],[-99.18598151999998,19.302865569999096],[-99.18576073999998,19.302889319999196],[-99.18418862999988,19.303070309999196],[-99.18364783,19.303129689999096],[-99.18320810999988,19.303177259999096],[-99.18282359999988,19.303222369999094],[-99.18234902999995,19.303279539999096],[-99.18143002999987,19.303365169999196],[-99.18126134,19.303374749999097],[-99.18066096999988,19.303410659999095],[-99.18036727999998,19.303425309999096],[-99.17988348999988,19.303437549999195],[-99.17940662999987,19.303440249999092],[-99.17928753999988,19.303440349999093],[-99.17855561999988,19.303415179999195],[-99.17732397999998,19.303331549999196],[-99.17713321999996,19.303315689999096],[-99.17713164999998,19.303315549999095],[-99.17711554999988,19.303313489999095],[-99.176799,19.303272819999194],[-99.17654937999995,19.303231109999192],[-99.1758882,19.303147569999098],[-99.17528784999988,19.303061219999197],[-99.17465796999988,19.302980569999193],[-99.17405130999998,19.302894229999097],[-99.17341621999996,19.302810909999096],[-99.17286826,19.302730549999097],[-99.17222684999987,19.30264124999909],[-99.17167968999988,19.302565649999192],[-99.17166202999988,19.302563449999095],[-99.17149319999996,19.302542459999096],[-99.17149275,19.302542399999197],[-99.17147553999988,19.302540259999095],[-99.17147507999988,19.302540199999093],[-99.1709486,19.302471149999096],[-99.17033993999988,19.3023882199992],[-99.17019586,19.302364779999195],[-99.17019405999996,19.302364489999196],[-99.17017819999988,19.302362579999095],[-99.16985429,19.302323659999097],[-99.16983944999998,19.30232187999909],[-99.16983662999988,19.302321459999096],[-99.16967847999987,19.302298169999094],[-99.16912453999998,19.302221969999096],[-99.16901642999989,19.302206879999098],[-99.16848588999989,19.302133309999093],[-99.16815889,19.302090289999096],[-99.1679326,19.302061779999093],[-99.16757121999996,19.302014709999096],[-99.16756273999988,19.302013619999094],[-99.16755353999996,19.3020125099992],[-99.16728487999988,19.301980479999095],[-99.16727224999988,19.301978969999197],[-99.16726719999998,19.301978279999098],[-99.1666438,19.301892429999192],[-99.16650568999988,19.301875079999096],[-99.16599061999987,19.301804769999094],[-99.16592049,19.301795219999097],[-99.16555995,19.301746019999097],[-99.16547419999988,19.301734109999096],[-99.16490117999987,19.301654489999095],[-99.16427725999988,19.301567859999096],[-99.16377711999988,19.301498939999096],[-99.16330216999988,19.301433509999097],[-99.16318008999995,19.301416859999197],[-99.16285464999996,19.301372489999196],[-99.16271348999996,19.301349119999095],[-99.16256005999998,19.301323719999097],[-99.16226289,19.301277419999096],[-99.16199939999989,19.301222819999197],[-99.16159641999997,19.301120849999197],[-99.16155073999988,19.30110827999909],[-99.16129584999996,19.301028949999097],[-99.16077347999996,19.300828049999197],[-99.16024424999988,19.30056601999919],[-99.15997321999996,19.300415659999096],[-99.15971531999998,19.300242879999097],[-99.15939566,19.300006169999197],[-99.15904610999988,19.29974731999919],[-99.15887125999988,19.299590169999092],[-99.15865051999998,19.299370519999098],[-99.15841828,19.299132909999095],[-99.15790861999989,19.298487949999096],[-99.15748093999996,19.2978917399992],[-99.15733448,19.297698919999196],[-99.156804,19.297016369999096],[-99.15672034999989,19.296908739999097],[-99.15666881999988,19.296842349999196],[-99.15666453999988,19.296836829999098],[-99.15665113999988,19.296840139999095],[-99.15642373999997,19.296896289999196],[-99.15595548999988,19.29699402999919],[-99.15526534999998,19.297141089999094],[-99.15521517999998,19.297151229999095],[-99.15461427999998,19.297273059999096],[-99.15383417999998,19.297433629999095],[-99.15214070999995,19.297827519999096],[-99.15194039999987,19.297882829999097],[-99.15178747999988,19.297932739999094],[-99.15162094999988,19.298006419999098],[-99.15154767999996,19.298064019999096],[-99.15137879999996,19.298195509999097],[-99.15110053999987,19.298383229999096],[-99.15073184999989,19.298628749999093],[-99.15063239999988,19.298700199999097],[-99.15009431999988,19.29908674999909],[-99.14960988999997,19.299452939999092],[-99.14878659999988,19.300092649999197],[-99.14818571999996,19.3005708199992],[-99.14785667999998,19.300829169999197],[-99.14764211,19.30102854999919],[-99.14741805999986,19.301277539999095],[-99.14741007999996,19.301286419999094],[-99.14740039999997,19.301275339999098],[-99.14713010999998,19.300966519999097],[-99.14712797999988,19.300964079999098],[-99.14711244999988,19.30096430999909],[-99.14693042,19.300966999999098],[-99.14660728999998,19.300927949999195],[-99.14659045999998,19.3009259199992],[-99.14658962999988,19.30092574999909],[-99.14610157999986,19.300827229999097],[-99.14564607999988,19.300733119999197],[-99.14524521999998,19.300621279999095],[-99.14505696999998,19.300548719999096],[-99.14469813999987,19.30040945999909],[-99.14462346,19.300380479999195],[-99.14451117999988,19.300338339999097],[-99.14409635,19.300176939999098],[-99.14375031999997,19.300044539999096],[-99.14339185999988,19.299907079999095],[-99.14263054999998,19.299611909999097],[-99.14261623,19.29960634999909],[-99.14261288999988,19.299609709999096],[-99.14236497999998,19.299858089999095],[-99.14207448999998,19.300155509999097],[-99.14176725999988,19.300470029999097],[-99.14125567999996,19.301022509999097],[-99.14092834999998,19.301378679999097],[-99.14088819999988,19.301422229999098],[-99.14067285,19.301655849999097],[-99.14051424999997,19.301827889999096],[-99.1401612,19.302243849999098],[-99.14012791,19.302279999999197],[-99.13967967999996,19.302785849999196],[-99.13965361999998,19.30281364999909],[-99.13937281999988,19.303113379999193],[-99.13936275,19.303124629999193],[-99.13902947999998,19.303496349999097],[-99.13894795,19.303585289999095],[-99.13869996999988,19.303861779999096],[-99.13864456999988,19.303925419999096],[-99.13844948999996,19.304144349999095],[-99.13826388999988,19.304327799999097],[-99.13814977,19.304446519999097],[-99.13789837999998,19.304718169999095],[-99.13771957999988,19.304920919999095],[-99.13711661999996,19.305604679999096],[-99.136401,19.306319139999093],[-99.13610885999998,19.306631079999093],[-99.13557602999998,19.307217059999097],[-99.13472801999995,19.308289829999097],[-99.13472471999988,19.308293979999096],[-99.13471034,19.308287629999093],[-99.13416741999995,19.308047939999096],[-99.13279856999998,19.307442909999097],[-99.13249807999988,19.307325429999096],[-99.13150613999989,19.306901279999096],[-99.13096510999998,19.306668019999197],[-99.13045516999988,19.306448539999092],[-99.13001624999995,19.306259629999097],[-99.12997153999996,19.306240339999096],[-99.12947285999998,19.306025029999095],[-99.12894947999987,19.305797049999097],[-99.12829839999988,19.305518109999095],[-99.1278142,19.305310649999097],[-99.12761785999996,19.305226539999097],[-99.12731782999997,19.305100569999095],[-99.12708261999988,19.305001829999096],[-99.12683790999988,19.304899089999196],[-99.12608339999998,19.30457371999919],[-99.12482587999988,19.304040859999095],[-99.12465625999988,19.303980549999196],[-99.12461022,19.303962949999097],[-99.12297413999988,19.303286949999094],[-99.12243777999998,19.303087849999095],[-99.12202694999988,19.302936579999095],[-99.12093910999988,19.302596119999095],[-99.11984953999988,19.302258979999095],[-99.11778674,19.301683119999097],[-99.11741544999988,19.301579679999097],[-99.11680778,19.301420249999193],[-99.11616581999998,19.301263949999196],[-99.11567746,19.301144489999096],[-99.11556327999988,19.301116549999193],[-99.11429422999998,19.300813739999093],[-99.11365175,19.300677339999098],[-99.11296361999987,19.30053805999909],[-99.11245336999998,19.300416149999094],[-99.11195767999996,19.300292769999096],[-99.11143063,19.300159349999095],[-99.11029892,19.299888029999096],[-99.10992724999988,19.299798649999097],[-99.10942169,19.29967259999919],[-99.10921424999997,19.2996199999992],[-99.10920741999998,19.299618259999097],[-99.10919656999988,19.299617779999195],[-99.10880774999998,19.299600769999195],[-99.10843081999997,19.299626219999094],[-99.10821584999997,19.299642429999093],[-99.10738128999998,19.299692549999097],[-99.10725334999988,19.299695949999094],[-99.10707634999989,19.299707709999097],[-99.10657514999995,19.299732939999195],[-99.10638930999988,19.299742679999092],[-99.10608388,19.299759819999196],[-99.10556674,19.299790849999095],[-99.10541933999995,19.299797599999096],[-99.10501651999998,19.299817489999196],[-99.10494950999998,19.299821139999093],[-99.10450242999995,19.299844199999097],[-99.10403582999996,19.299868139999095],[-99.10376648999988,19.299883849999095],[-99.10212088,19.299971619999095],[-99.101329,19.300009459999195],[-99.10102594999988,19.300019399999194],[-99.10094704999987,19.300020739999095],[-99.10092916999996,19.300021049999096],[-99.10092937999998,19.300018539999098],[-99.10122255,19.296627709999093],[-99.10136373999988,19.295200059999097],[-99.10274430999998,19.294571859999195],[-99.10289244999989,19.294505549999094],[-99.10375854999988,19.294110059999195],[-99.10396428999996,19.294012719999195],[-99.10444570999988,19.293784939999096],[-99.10462019999989,19.293702369999096],[-99.10502204999987,19.293517139999093],[-99.10568396999996,19.293279599999096],[-99.10573239999997,19.293260819999094],[-99.10617744999998,19.293097999999095],[-99.10813710999996,19.292281139999098],[-99.109294,19.29178654999909],[-99.11029273999998,19.291369689999197],[-99.11036156999998,19.291341619999095],[-99.11160556999988,19.290807489999196],[-99.11284056999988,19.290285969999097],[-99.11453313999998,19.289563709999097],[-99.11490690999987,19.289404199999098],[-99.11571361999988,19.2890606599992],[-99.11793222999988,19.288117879999195],[-99.12164612,19.286531619999096],[-99.12222210999988,19.286286539999097],[-99.12391017999988,19.285569119999096],[-99.12433759999998,19.285431029999195],[-99.12492522,19.285241179999097],[-99.12499901999988,19.2852207499992],[-99.12520047999998,19.285167579999197],[-99.12544228999997,19.285103199999092],[-99.12573747999988,19.285018619999093],[-99.12758456999988,19.284501459999095],[-99.12828974999996,19.284305779999197],[-99.12913427999987,19.284067659999096],[-99.12952191999987,19.283958879999197],[-99.13037289,19.283720029999095],[-99.13083197,19.283591139999096],[-99.13141631999996,19.283426979999096],[-99.13199442999988,19.283266799999097],[-99.13248428999997,19.283131059999196],[-99.13401339999989,19.28270093999919],[-99.13510705,19.282461449999097],[-99.13592874999988,19.282335249999193],[-99.13647242999996,19.282276289999096],[-99.13699228999997,19.282234909999097],[-99.13745884999996,19.282210629999096],[-99.13788542999995,19.282206459999095],[-99.13855324999996,19.282228349999095],[-99.13890419999989,19.282243219999096],[-99.13926742999998,19.282265449999095],[-99.13969116999998,19.282316149999097],[-99.14023290999988,19.282385179999192],[-99.14089857,19.282498919999096],[-99.14105594999988,19.282528599999097],[-99.14107987999988,19.2822927199992],[-99.14119567999988,19.281190399999197],[-99.14119479999988,19.281074029999097],[-99.14134756999988,19.280069489999192],[-99.14146013999998,19.279155079999192],[-99.14145191999988,19.279067109999097],[-99.14143236999988,19.278858079999196],[-99.14150177999989,19.278388149999195],[-99.14153834999988,19.277958319999097],[-99.14155785,19.277543969999098],[-99.14164373999988,19.277097349999195],[-99.14173044999988,19.276616979999098],[-99.14177251999998,19.275686939999098],[-99.14191377999995,19.275119429999197],[-99.14197667999996,19.2747976199992],[-99.14200169,19.274675709999094],[-99.14208791999988,19.273944629999193],[-99.14113867999995,19.2737300899992],[-99.14118813999988,19.273534549999095],[-99.14141574,19.272777739999096],[-99.14163145999996,19.272294079999092],[-99.14175992,19.271892829999093],[-99.14186862999998,19.271455739999094],[-99.14204781999996,19.270856849999095],[-99.14213927999997,19.270692949999095],[-99.14221079999996,19.270670259999097],[-99.14238768999986,19.270693689999092],[-99.14251784999998,19.270677569999098],[-99.14260993999989,19.270624179999096],[-99.14279607999995,19.270503659999097],[-99.14289577999988,19.270372449999098],[-99.14299976999988,19.270245249999192],[-99.14307057999996,19.270104199999096],[-99.14316488999997,19.269799689999097],[-99.14336774,19.269470509999095],[-99.14359177999988,19.269510719999097],[-99.14376343,19.269510579999096],[-99.14394619999996,19.269540539999095],[-99.14435891999987,19.268844279999097],[-99.14455176999998,19.268465509999196],[-99.14467997,19.268231599999098],[-99.14473056999996,19.268129949999093],[-99.14481023,19.267870599999096],[-99.14490973999987,19.267559539999095],[-99.14492142999995,19.267446829999095],[-99.14412685999996,19.267343879999096],[-99.14385465,19.267306539999197],[-99.14362870999996,19.267271769999095],[-99.14344051999988,19.2672532199992],[-99.14322337,19.267232219999094],[-99.14333102999989,19.266521979999094],[-99.14248750999998,19.266692629999095],[-99.14240313999989,19.266624889999097],[-99.14243164999998,19.265164479999193],[-99.142455,19.264891219999097],[-99.14249891999997,19.264376949999097],[-99.14246817999997,19.26432668999909],[-99.14240262,19.264235079999196],[-99.14237405999997,19.264160259999095],[-99.14242101999996,19.263955419999096],[-99.14243610999988,19.263764999999093],[-99.14243,19.263596829999095],[-99.14242364999988,19.263436549999096],[-99.14239453999988,19.263352649999096],[-99.14235751999988,19.263292549999097],[-99.14231654999998,19.263229949999097],[-99.14228566,19.263026739999095],[-99.14225385999995,19.2625469499992],[-99.14211018,19.261846969999095],[-99.14211491999995,19.261776379999095],[-99.14212687999998,19.261724019999097],[-99.14214604999988,19.261679549999197],[-99.142219,19.261509599999098],[-99.14226641999988,19.261400089999093],[-99.14230193999998,19.261317199999095],[-99.14235031999998,19.261200199999095],[-99.14241311999996,19.261055139999097],[-99.14243433999997,19.260956339999098],[-99.14239682,19.260618539999196],[-99.14239884999988,19.260469399999096],[-99.14238388999988,19.260347569999094],[-99.14236667999988,19.260234459999097],[-99.14225888,19.259992089999095],[-99.14221039999988,19.25990651999919],[-99.14209525999998,19.259854829999096],[-99.14202230999987,19.259784679999097],[-99.14191473999988,19.259562549999096],[-99.14178884999988,19.259295459999095],[-99.14172099999988,19.259223779999196],[-99.14163682,19.259178749999194],[-99.14150428999989,19.259080349999095],[-99.14141906,19.259014979999197],[-99.14132807999988,19.258962779999095],[-99.14118819999996,19.258900509999098],[-99.14106002999988,19.258833819999097],[-99.14094428999988,19.258771949999097],[-99.14085601999987,19.258677479999196],[-99.14075424999996,19.258542579999094],[-99.14057327999988,19.258393249999095],[-99.14045423,19.258288549999097],[-99.14033273999998,19.258134089999196],[-99.14025622999998,19.258014019999095],[-99.14020767999988,19.257922309999095],[-99.14017289,19.257862419999096],[-99.14016307999997,19.257822829999196],[-99.14016043,19.2577739499992],[-99.14017430999988,19.257702249999095],[-99.14018638,19.257637019999095],[-99.14020654999996,19.257564109999095],[-99.14025028999995,19.257475569999094],[-99.14031725999988,19.25740150999909],[-99.1404538,19.257309619999095],[-99.14063774,19.257198199999095],[-99.14079334999998,19.257071479999095],[-99.14080079999997,19.256999689999095],[-99.14078153999998,19.25694301999919],[-99.14074698,19.256863139999098],[-99.14058854999988,19.256576689999097],[-99.14053637999989,19.256525679999093],[-99.14048497,19.256492939999095],[-99.14039061999988,19.256443059999096],[-99.14022168999998,19.256378679999095],[-99.14012077999988,19.256341289999096],[-99.14004445999988,19.256280599999094],[-99.14000901999997,19.256231979999097],[-99.13995156999988,19.25612894999909],[-99.13981828999988,19.255892379999096],[-99.13973305999995,19.255723629999096],[-99.13958693999987,19.255459219999096],[-99.13945703,19.25493402999909],[-99.13939465999988,19.254693279999096],[-99.13940338,19.254604279999096],[-99.13947874999997,19.254342229999097],[-99.13949394999996,19.254232709999098],[-99.13953831,19.254091949999093],[-99.13957744999998,19.253910089999096],[-99.13961168999997,19.253786749999197],[-99.13963359999998,19.253673119999092],[-99.13967097999988,19.253566369999096],[-99.13969245999998,19.253434279999095],[-99.13969237999996,19.253359419999097],[-99.13975868999988,19.253324379999096],[-99.13979822,19.253324349999097],[-99.13983907999987,19.253303149999095],[-99.13987785999988,19.253245799999195],[-99.13994405999988,19.253092939999092],[-99.13995451999988,19.2530070499992],[-99.14002895,19.252941339999097],[-99.14008421999988,19.2528625199992],[-99.14010194999996,19.252818689999096],[-99.14014473999998,19.252752379999095],[-99.14018967999998,19.252593449999193],[-99.14020079999987,19.252521829999097],[-99.14019636999988,19.252467709999195],[-99.14017661999998,19.252411629999095],[-99.14017169,19.252351509999095],[-99.14014250999998,19.252254889999193],[-99.14013296999995,19.252207349999093],[-99.14013019999996,19.252158019999097],[-99.14014061999995,19.2520920799992],[-99.14015768999997,19.252017679999195],[-99.14015973999987,19.251998119999097],[-99.14015621999988,19.2519454499992],[-99.14015616999988,19.251901029999093],[-99.14021219999988,19.251841849999092],[-99.14033513999998,19.251788279999097],[-99.14042168,19.2516264599992],[-99.14045815,19.251540659999097],[-99.14048474999998,19.251452519999095],[-99.14051463,19.251402549999096],[-99.14052074999996,19.251377449999097],[-99.14050165999998,19.251355399999092],[-99.14048395,19.251285049999098],[-99.14055214999998,19.25125474999909],[-99.14065838,19.251225859999096],[-99.14068975,19.251221249999197],[-99.14071757999989,19.2511417799992],[-99.14077248999988,19.251044309999095],[-99.14079897,19.250977119999096],[-99.14085590999996,19.25096233999919],[-99.14091825999998,19.250955319999097],[-99.14095154999995,19.250947399999095],[-99.14098645999997,19.250911179999097],[-99.14103390999998,19.2508695499992],[-99.14107399999988,19.250828279999094],[-99.14111173999996,19.250756349999197],[-99.14125464999988,19.250647659999096],[-99.14126310999988,19.250612769999098],[-99.14127448999989,19.250554859999095],[-99.14130888999988,19.250478489999097],[-99.14135327999998,19.250394079999097],[-99.14142916999997,19.250263489999192],[-99.14148397999998,19.250131379999097],[-99.14156457999997,19.250000059999092],[-99.14159971999996,19.24993688999919],[-99.14163144999998,19.249858629999192],[-99.14169108999988,19.249751089999197],[-99.14169854999987,19.249690449999193],[-99.14170261999998,19.249590949999096],[-99.14170847999998,19.249551769999098],[-99.14172319999987,19.249518179999097],[-99.14171574999988,19.249434249999094],[-99.14171127999995,19.24936430999909],[-99.14167931999997,19.249166059999094],[-99.14169192,19.249083579999095],[-99.14172562999988,19.248995199999097],[-99.14166750999998,19.248858849999095],[-99.14156317999998,19.248690909999095],[-99.14137814999997,19.248584799999097],[-99.14110714999998,19.248446629999098],[-99.14095859999998,19.248345449999096],[-99.140812,19.248270089999096],[-99.14062171999988,19.248112089999196],[-99.14051748999997,19.248055349999095],[-99.14036374999988,19.247981339999093],[-99.14030257,19.247810539999097],[-99.14022882999988,19.247581449999096],[-99.13998899999989,19.247349349999094],[-99.13981687999988,19.247090049999095],[-99.13973813999988,19.246947689999192],[-99.13961032,19.246722939999096],[-99.13939587999988,19.246361319999195],[-99.13927594999988,19.2462378599992],[-99.13904137999997,19.246042829999094],[-99.13892151,19.245966339999093],[-99.14000384999996,19.244192819999096],[-99.14019031999996,19.243851309999098],[-99.14022511999998,19.243803319999095],[-99.14028597999996,19.243673969999097],[-99.14033151999998,19.243627909999095],[-99.14038408999988,19.243594719999095],[-99.14104704999988,19.243587819999096],[-99.14109573999995,19.243592429999097],[-99.14114350999988,19.243603629999196],[-99.14162145999995,19.243754649999097],[-99.14165310999988,19.243747749999095],[-99.14170879999988,19.243679829999195],[-99.14170671999987,19.2436540199992],[-99.14165611999988,19.243581219999196],[-99.14171468999996,19.243594509999095],[-99.14200542999995,19.243644339999097],[-99.14205959999998,19.243682089999098],[-99.14223621999996,19.243869339999197],[-99.14233145999997,19.244159029999096],[-99.14331539999988,19.244481199999097],[-99.14366578,19.244618629999096],[-99.14425539999988,19.244740259999197],[-99.14419182999988,19.244579799999094],[-99.14425087999987,19.244186139999194],[-99.14425292,19.244000739999095],[-99.14425139999996,19.243660739999097],[-99.14423984999988,19.243558719999093],[-99.14416735,19.242998539999093],[-99.14412904999988,19.242702319999097],[-99.14411691999996,19.242608719999197],[-99.14409573999988,19.2425572499992],[-99.14408073999986,19.242379749999095],[-99.14405741999995,19.242038319999097],[-99.14403170999996,19.24170213999909],[-99.14400604999996,19.241463179999094],[-99.14397736999987,19.240873449999096],[-99.14397491999988,19.240808819999092],[-99.14394430999988,19.240189749999196],[-99.14394824999988,19.24016005999919],[-99.14401148999995,19.239684489999096],[-99.14417722,19.239670149999096],[-99.14514497999988,19.239472259999093],[-99.14534468999987,19.239385569999097],[-99.14560477,19.239325079999094],[-99.14606077999996,19.239328429999095],[-99.14612032,19.239328979999097],[-99.14621642999998,19.239462459999096],[-99.14630802,19.239880119999096],[-99.14642390999988,19.240062519999096],[-99.14658333999988,19.240255579999097],[-99.1466832,19.240336779999193],[-99.14689650999998,19.240409879999092],[-99.14701762,19.240429339999096],[-99.14713674999987,19.240420539999093],[-99.14736014999988,19.240365369999093],[-99.14751982999996,19.240259219999096],[-99.14734157,19.239952829999098],[-99.14716617999989,19.239596119999092],[-99.14701590999988,19.239299419999195],[-99.14633482999989,19.23799301999909],[-99.14616865999989,19.237674249999092],[-99.14615541999989,19.237648549999196],[-99.14503931999998,19.235546259999097],[-99.14483785999988,19.235196379999195],[-99.14445253999996,19.234524859999095],[-99.14469067999988,19.234503079999097],[-99.14478216999998,19.234480019999097],[-99.14480434999987,19.234451879999092],[-99.14484428999997,19.234384379999096],[-99.14491977999988,19.234340739999094],[-99.14506196999996,19.234337819999094],[-99.14522047999998,19.234370019999098],[-99.14533208999988,19.234438309999092],[-99.14539822999988,19.234456199999197],[-99.14549817999988,19.234419949999197],[-99.14555782999996,19.234370679999095],[-99.14563673999996,19.234322419999195],[-99.14578085999987,19.234322479999097],[-99.14587508999988,19.234317399999096],[-99.14592245999997,19.234282149999096],[-99.14600054999988,19.234217649999195],[-99.14609042999987,19.234213579999093],[-99.14621097,19.234225399999197],[-99.14633095,19.234201259999193],[-99.14644487999998,19.234210569999195],[-99.14658717999995,19.234247629999093],[-99.14672093999997,19.23432116999909],[-99.14688641999996,19.234375569999095],[-99.14741495,19.234420849999097],[-99.14757845999998,19.234465339999097],[-99.14774231999988,19.234542059999097],[-99.14787673999996,19.234557249999096],[-99.14796561999998,19.234637779999197],[-99.14810107999988,19.234723139999097],[-99.1481818,19.234793849999196],[-99.14834285999996,19.234897029999093],[-99.14840247999987,19.234977649999195],[-99.14841977999998,19.235131219999097],[-99.14838808999995,19.235337919999196],[-99.1483426,19.235435249999096],[-99.14826445999996,19.235527829999096],[-99.14816573999998,19.235633509999197],[-99.14811516999998,19.235725339999195],[-99.14805708999997,19.235897969999098],[-99.14800993999988,19.236013059999195],[-99.14795570999988,19.236067449999094],[-99.14796301999988,19.236116919999095],[-99.14797371999998,19.236149889999098],[-99.14798859999988,19.236167859999096],[-99.14801608999989,19.236194779999195],[-99.14806342999997,19.236225399999096],[-99.14809970999988,19.236249289999098],[-99.14813770999989,19.2362641999992],[-99.14823411999998,19.236308459999098],[-99.14829799999988,19.236168429999193],[-99.14837097999995,19.2360016799992],[-99.14836991,19.235833309999094],[-99.14838985999997,19.235775339999098],[-99.14843696999998,19.2357202199992],[-99.14852997999998,19.235679599999095],[-99.14861394999996,19.235669419999095],[-99.14870708999987,19.235664979999093],[-99.14878939999988,19.235582339999095],[-99.14883818,19.235522879999095],[-99.14889185999998,19.235363889999093],[-99.14894108999988,19.235192659999097],[-99.14901053999988,19.235117429999097],[-99.14909654999995,19.235034249999096],[-99.14916671999998,19.234957629999197],[-99.14920204999996,19.234887799999093],[-99.14928256999998,19.234844199999195],[-99.14941364999996,19.234800689999098],[-99.14949427999989,19.234744859999097],[-99.14954156999988,19.234681149999098],[-99.14956943,19.234625449999196],[-99.14957231999988,19.234553879999194],[-99.14953633999988,19.234487709999097],[-99.14943645999988,19.234419049999097],[-99.14934493999998,19.234345059999097],[-99.14930665999998,19.234268459999097],[-99.14931088999997,19.234175709999093],[-99.14938713999996,19.234087779999097],[-99.14946505999988,19.234031879999097],[-99.14954562999998,19.234034319999097],[-99.14959550999998,19.234081919999095],[-99.14966208,19.234132119999096],[-99.14978145999996,19.234160979999196],[-99.15002588999988,19.234181519999098],[-99.15013425999987,19.234170599999096],[-99.15025093999998,19.23417822999919],[-99.15030922999988,19.234193979999095],[-99.15038693999998,19.234233549999097],[-99.15044233999998,19.234294399999097],[-99.15046428999987,19.234413709999195],[-99.15047790999988,19.23453830999919],[-99.15048052,19.234628429999095],[-99.15049213999998,19.234671119999096],[-99.15059148999988,19.234697059999096],[-99.15068316999997,19.234688859999196],[-99.15074457999997,19.234540229999094],[-99.15076441999996,19.234375709999096],[-99.15073707999989,19.234205969999095],[-99.15070414999995,19.234065349999096],[-99.15065719999998,19.233977859999097],[-99.15056071999996,19.2337549799992],[-99.15052522999996,19.233672109999095],[-99.15049108999987,19.233530879999098],[-99.1504768,19.233413829999197],[-99.15052025999988,19.233211059999093],[-99.15057959999996,19.233167569999097],[-99.15060161999996,19.233083169999095],[-99.150586,19.232918549999095],[-99.15057525999998,19.232654719999097],[-99.15060362999998,19.232560659999095],[-99.15070153999989,19.232412679999097],[-99.15081665999998,19.232310139999097],[-99.15085187999988,19.232234769999096],[-99.15086593999987,19.23208344999909],[-99.15090136999996,19.231983979999093],[-99.15093262999989,19.231941819999097],[-99.15097605999988,19.2319082599992],[-99.15109907999988,19.231771969999095],[-99.15117039999988,19.231579379999097],[-99.15123265999988,19.231491319999098],[-99.15136596999996,19.231353849999095],[-99.15152637999998,19.231196689999095],[-99.15162491999988,19.231076519999096],[-99.15174007999995,19.230809749999096],[-99.15178088999988,19.230664909999096],[-99.15179370999988,19.230481079999095],[-99.15182125999988,19.230211309999195],[-99.15186030999998,19.230068319999095],[-99.15191445999989,19.229973919999097],[-99.15202013999998,19.229803059999096],[-99.15212846,19.229622849999096],[-99.1522308,19.229479779999195],[-99.15233316999988,19.229368199999097],[-99.15237527999987,19.229276659999098],[-99.15238938,19.229134679999095],[-99.15241725999986,19.228974379999197],[-99.15245630999998,19.228828539999192],[-99.15251334,19.22858257999909],[-99.15256181999987,19.228426799999095],[-99.15264894999989,19.228157949999098],[-99.15270002999988,19.227945109999094],[-99.15276905999998,19.227647689999095],[-99.15283208999988,19.227364569999196],[-99.15286503,19.227138659999095],[-99.15293530999998,19.226902229999094],[-99.15298425999995,19.226649909999097],[-99.15307199999988,19.226510829999093],[-99.15318070999987,19.226319419999097],[-99.15326161999998,19.226159749999095],[-99.15337848999997,19.225981829999096],[-99.15331696999998,19.225862539999095],[-99.15321208999988,19.225602939999096],[-99.15312336999988,19.225342429999195],[-99.15303914,19.225206509999197],[-99.15297359999988,19.22509922999919],[-99.15290012,19.22500325999909],[-99.15284056999998,19.224933649999095],[-99.15278496999996,19.2248734499992],[-99.15273734,19.224837709999097],[-99.15269105,19.224815969999195],[-99.15263747999995,19.224783999999097],[-99.15254025999997,19.224740769999094],[-99.15245636999998,19.224710179999096],[-99.15236631999989,19.22468461999919],[-99.15227642,19.224673199999096],[-99.15221161999987,19.224671569999195],[-99.15212036999998,19.224662219999097],[-99.15196473999995,19.224648089999196],[-99.15186244999988,19.224629319999195],[-99.15174561999996,19.224620659999097],[-99.15160217999988,19.224609689999095],[-99.15155192,19.224606849999095],[-99.15149554999988,19.224596779999196],[-99.15145136999988,19.224583799999095],[-99.15140870999988,19.224565049999097],[-99.15137059999988,19.224547739999096],[-99.15132030999987,19.224517419999092],[-99.15127368,19.224484939999098],[-99.15123285999988,19.224450089999195],[-99.15119047999998,19.224405519999095],[-99.15116416999987,19.224371949999092],[-99.15114350999988,19.224341169999196],[-99.15112829,19.2243150899992],[-99.15111521999997,19.224289509999096],[-99.15110304999988,19.224261979999095],[-99.15109221999988,19.224233079999095],[-99.15108451,19.224208489999093],[-99.15107861999998,19.224186059999095],[-99.15107437999988,19.224151079999096],[-99.15107321999989,19.224113619999095],[-99.1510752,19.22407910999919],[-99.15108076999998,19.224041369999096],[-99.15109024999995,19.22400287999919],[-99.15110105999996,19.223971309999097],[-99.15111388999998,19.223941569999095],[-99.15113342999987,19.223900429999095],[-99.15115317999988,19.22385414999909],[-99.15117141999995,19.223810749999092],[-99.15118693999987,19.223777079999195],[-99.15119662999987,19.223746229999097],[-99.15120222999998,19.223716999999095],[-99.15120444999997,19.223690719999095],[-99.15120390999998,19.223661879999096],[-99.15120073999996,19.22363593999909],[-99.15118457999988,19.223561819999095],[-99.15116468999996,19.223486599999195],[-99.15115021999998,19.223407969999094],[-99.15122076999988,19.223244509999095],[-99.15131471999987,19.223207939999096],[-99.15139586,19.223222479999095],[-99.15140832,19.223230419999098],[-99.15142609,19.223281749999096],[-99.15144753999998,19.223352769999096],[-99.15147833999995,19.223422509999097],[-99.15151176999989,19.223440229999095],[-99.15154383,19.22343893999909],[-99.15157988,19.22341733999909],[-99.15161988999988,19.223352619999197],[-99.15165185999987,19.223261259999095],[-99.15167182999988,19.223186399999097],[-99.15169045,19.223110279999197],[-99.15177486,19.22287365999919],[-99.15184219999998,19.222731219999098],[-99.15190934,19.222412479999196],[-99.15202287999988,19.222039459999095],[-99.15203661999998,19.221882149999093],[-99.15200981999998,19.221741139999192],[-99.15206379999988,19.221295859999096],[-99.15229024999996,19.220877539999098],[-99.15233794999988,19.220714769999095],[-99.15248051999998,19.22053382999909],[-99.15261705999988,19.220468139999095],[-99.15276705,19.220462109999097],[-99.15284156999986,19.220503289999197],[-99.15293441999997,19.220580879999098],[-99.15305773999988,19.220741219999095],[-99.15321710999989,19.220985169999196],[-99.15328448999998,19.221183979999097],[-99.15342424999989,19.221409859999092],[-99.15348151999989,19.221581569999195],[-99.15351937,19.221806249999094],[-99.15439485999998,19.220639279999094],[-99.14954364999988,19.219224079999197],[-99.13831586,19.215728249999092],[-99.13301434,19.210095019999095],[-99.13297345999987,19.210076739999096],[-99.13287459999997,19.210025819999093],[-99.13282147999988,19.209979339999094],[-99.13287047999988,19.209922479999097],[-99.13291868,19.209856619999098],[-99.13291568999988,19.209752369999094],[-99.132773,19.209439059999095],[-99.13276634,19.209255709999095],[-99.13279665999988,19.208984029999197],[-99.13277014999989,19.2083348199992],[-99.13270424999996,19.208239419999096],[-99.13252513999998,19.208124879999193],[-99.13241977,19.20800019999919],[-99.13232024999988,19.207700089999097],[-99.132323,19.207627479999097],[-99.13249775,19.207155149999096],[-99.13252239999998,19.207009169999097],[-99.13249956999988,19.20672347999909],[-99.13243119999998,19.206479049999093],[-99.13227168,19.206238719999096],[-99.13198002999997,19.205914539999092],[-99.13164287999987,19.205609399999197],[-99.13156594999998,19.205529229999097],[-99.13148511999998,19.205428199999098],[-99.13136601999996,19.205222079999096],[-99.13121368999995,19.2048001099992],[-99.13120688999996,19.204565479999097],[-99.13092416999989,19.204204599999095],[-99.13083268999998,19.204123879999095],[-99.13076565999988,19.204077739999097],[-99.13055299999988,19.204007079999094],[-99.13050753999988,19.2039928299992],[-99.13043844999996,19.203970319999097],[-99.13011430999995,19.203882579999096],[-99.13008333999989,19.203846319999094],[-99.13007965999998,19.203800179999092],[-99.13008871999988,19.203753019999095],[-99.13019942999988,19.203516939999098],[-99.13022847999996,19.203432259999097],[-99.13030239999988,19.203175549999095],[-99.12991745999987,19.203045549999196],[-99.12974727999988,19.203016659999093],[-99.12931315,19.203003119999096],[-99.12939217,19.202515859999096],[-99.12939621999998,19.202464969999095],[-99.12942976999987,19.202069059999097],[-99.12946525999988,19.201816199999097],[-99.12948065999989,19.201661599999092],[-99.12953903,19.201072089999094],[-99.12954025999989,19.20068208999909],[-99.12954002999996,19.200382109999197],[-99.12946939999988,19.200322769999197],[-99.12940354999988,19.200225349999094],[-99.12936018,19.200158379999095],[-99.12934248999989,19.200099019999097],[-99.12933457999998,19.200037819999093],[-99.12934005999988,19.199882059999094],[-99.12932067999998,19.199836249999095],[-99.12928745999989,19.199804779999095],[-99.12915271999998,19.199743649999093],[-99.12911733999988,19.199715309999096],[-99.12908948999988,19.199671459999095],[-99.12908462999997,19.199584909999093],[-99.12909288,19.1994411799992],[-99.12911276999988,19.199323479999094],[-99.12913994999998,19.199190999999093],[-99.12919962999987,19.19904601999909],[-99.12927714999988,19.198900969999094],[-99.12937793999996,19.198742139999094],[-99.12944876999988,19.198599659999196],[-99.12947811999996,19.198520519999096],[-99.12949838,19.198455859999097],[-99.12950982999988,19.198407659999095],[-99.12951537999996,19.198369319999095],[-99.12951248999998,19.198325519999095],[-99.12949962999988,19.19829245999909],[-99.12948031999998,19.198262339999097],[-99.12945705999988,19.198236549999095],[-99.12937508,19.198190749999096],[-99.12929291999995,19.198164249999092],[-99.12926961999987,19.198126879999197],[-99.12927374,19.198036779999093],[-99.12927419999988,19.198004489999196],[-99.12930893999996,19.197937549999192],[-99.12943781999988,19.197770819999096],[-99.12954108999998,19.197655289999098],[-99.12950772,19.197513399999096],[-99.12948145,19.197454219999095],[-99.12947297999987,19.197377889999096],[-99.12950591999996,19.197270999999095],[-99.12961305999988,19.197120629999095],[-99.13002062999998,19.196745119999093],[-99.13022321999988,19.196611419999194],[-99.13039376999988,19.1963817499992],[-99.13045065999997,19.196205479999097],[-99.13042616999998,19.19609613999919],[-99.13022044999998,19.195843629999196],[-99.13012422999998,19.195586679999096],[-99.13004734,19.195459089999098],[-99.12994357,19.1953570799992],[-99.13002157999988,19.194910749999195],[-99.13012337999996,19.194680229999197],[-99.13009279999989,19.194567219999197],[-99.13007825999988,19.194513739999095],[-99.13010379999996,19.194468029999097],[-99.13023619999989,19.194366169999096],[-99.13027937999998,19.194334119999095],[-99.13049114999988,19.194012539999097],[-99.13046827999987,19.193760179999096],[-99.13047199999988,19.193662659999095],[-99.13057768999988,19.193385219999097],[-99.13061613999996,19.193164849999196],[-99.130775,19.192940309999095],[-99.13064154999998,19.192695579999196],[-99.13065427999996,19.192450769999095],[-99.13059827999987,19.192291719999197],[-99.13065830999987,19.192067249999095],[-99.13065796999987,19.191646739999097],[-99.13067271999988,19.191314909999196],[-99.13047717999996,19.191083089999196],[-99.13014939999988,19.190902169999095],[-99.130003,19.190733429999096],[-99.12999595,19.190490309999095],[-99.12993513999996,19.190297509999095],[-99.12934762999998,19.189811169999096],[-99.12872842999998,19.189145249999097],[-99.12816194999998,19.188810849999097],[-99.12773509,19.188474489999095],[-99.12756965999988,19.188291279999092],[-99.12741239999998,19.188108429999097],[-99.12726796999998,19.187862539999095],[-99.12712124999987,19.187564399999097],[-99.12707612,19.187266179999096],[-99.12725151999996,19.186999829999092],[-99.12738582,19.186714259999096],[-99.12748590999988,19.186407349999097],[-99.12786002999998,19.186045319999195],[-99.12837366,19.185609379999196],[-99.12873837999996,19.185029939999097],[-99.12886267999988,19.184789509999092],[-99.12897045999988,19.184651539999095],[-99.12911565999995,19.184608089999095],[-99.12942953999998,19.184547139999193],[-99.12951513999997,19.184467629999094],[-99.12959385999989,19.184317849999196],[-99.12968091999988,19.184223229999095],[-99.12977216999997,19.184164059999095],[-99.12986759999995,19.1841521699992],[-99.12997130999996,19.184116649999098],[-99.13010123,19.183933749999095],[-99.13019576999989,19.1837029499992],[-99.13024208999995,19.183356379999196],[-99.13025730999998,19.182950849999095],[-99.13033464999988,19.182552649999096],[-99.13049751999988,19.182309219999095],[-99.13080017999988,19.182102549999097],[-99.13104844999997,19.1818074499992],[-99.13128682999996,19.18125328999909],[-99.13147587999998,19.180629629999196],[-99.13162322999987,19.180393579999095],[-99.13186365999998,19.180054249999195],[-99.13197979999988,19.1796191499992],[-99.13207271,19.179272549999094],[-99.13215791,19.179007059999098],[-99.13224311999988,19.178756309999095],[-99.13239454999989,19.17853221999909],[-99.13240181999998,19.178212059999098],[-99.13232621999998,19.177961569999095],[-99.13229585999989,19.177703879999097],[-99.13229565999988,19.177467649999095],[-99.13232562999995,19.177217079999096],[-99.13243850999996,19.176973619999096],[-99.13250485999995,19.176772289999096],[-99.13250219999998,19.176669339999098],[-99.13241430999987,19.176537019999092],[-99.13231091999988,19.176394909999097],[-99.13224944999988,19.176214949999096],[-99.13216117999995,19.175836949999095],[-99.13213271999987,19.175501449999093],[-99.13206373999998,19.175120089999098],[-99.13195018,19.174864539999096],[-99.13175156999988,19.174548509999095],[-99.13156718,19.174293029999095],[-99.13138277999995,19.174037519999096],[-99.13110634999995,19.173842649999095],[-99.13091191999987,19.173603319999096],[-99.13079497999988,19.173420399999095],[-99.13046887999998,19.172971019999096],[-99.13019671999996,19.172670719999097],[-99.130073,19.172515019999096],[-99.13003387999996,19.172446379999094],[-99.12994939999996,19.172360279999193],[-99.12995055,19.172246019999093],[-99.12996277999996,19.172195849999095],[-99.12999714999988,19.172137509999093],[-99.13007147999998,19.172083549999098],[-99.13024434999988,19.172008089999096],[-99.13034192,19.171959429999195],[-99.13040968999996,19.171909819999097],[-99.13046184999988,19.171855289999097],[-99.13047739999988,19.171800739999096],[-99.13050888999996,19.171643949999098],[-99.13054317999988,19.171393649999096],[-99.13053301999996,19.171047509999095],[-99.13051965999988,19.170837719999092],[-99.13047793999998,19.170721519999095],[-99.13051453999996,19.170572769999097],[-99.13052082999997,19.170402119999096],[-99.13031348,19.168859059999097],[-99.13017421999996,19.168220479999196],[-99.13020227999998,19.167264029999195],[-99.13021752,19.166579429999196],[-99.13031477,19.165906059999095],[-99.13047101999987,19.165408889999096],[-99.13064142999995,19.164900419999096],[-99.13106845,19.164055489999097],[-99.13165033999998,19.163185549999096],[-99.13181464999998,19.162608939999096],[-99.13197634999987,19.162126629999097],[-99.13224864999988,19.161609079999195],[-99.13239866,19.1612837699992],[-99.13252328999988,19.160848029999094],[-99.13269488999995,19.160134429999097],[-99.13272498,19.159338659999193],[-99.13282470999997,19.158583679999097],[-99.13289482999988,19.157727519999096],[-99.13279529,19.156623689999098],[-99.13283662,19.155825019999195],[-99.13279534999997,19.154880779999097],[-99.13255504999988,19.15429834999909],[-99.13246784999988,19.153989649999097],[-99.13261153999998,19.153381629999092],[-99.13260025999988,19.153219659999095],[-99.13258162999988,19.153121139999097],[-99.13250884999997,19.153026349999095],[-99.13214156999996,19.152921399999094],[-99.13165814999998,19.152634509999096],[-99.13140331999988,19.152653479999096],[-99.13105074,19.152668679999096],[-99.13024432,19.152544169999093],[-99.13123154,19.150750379999092],[-99.13240604999996,19.148611289999195],[-99.13721134999996,19.150750379999092],[-99.13777331999988,19.150995619999097],[-99.13853225999998,19.151338349999097],[-99.13894864999996,19.151443449999096],[-99.13942614999998,19.15164721999909],[-99.13977424999987,19.151807369999094],[-99.14002019999998,19.151958569999096],[-99.14040431999987,19.152213259999098],[-99.14069556999998,19.152496689999197],[-99.14084908999996,19.152918399999095],[-99.14113295,19.153514549999095],[-99.14152398,19.154059719999196],[-99.14182251999988,19.154480059999095],[-99.14203407999996,19.154743319999092],[-99.14228364999995,19.155136379999096],[-99.14251922999988,19.155557599999096],[-99.14274954999988,19.156080349999097],[-99.14293831999996,19.156513969999097],[-99.1430562,19.1568185099992],[-99.14323824999998,19.157143289999095],[-99.14344581999995,19.157538849999096],[-99.14367708,19.157834649999096],[-99.14396081999988,19.158116849999097],[-99.14423001999988,19.158399049999197],[-99.14449414999989,19.158665449999095],[-99.14480454999988,19.158864029999098],[-99.14492217999997,19.158928339999093],[-99.14545782999988,19.159213719999094],[-99.14607685999988,19.159552139999096],[-99.14650981999988,19.159811619999093],[-99.14680388999987,19.159944689999097],[-99.14720816999989,19.160041509999097],[-99.14757857999996,19.16014062999909],[-99.14820007999997,19.160235029999097],[-99.14870414999996,19.160273029999097],[-99.14960841999988,19.160312879999196],[-99.14972374999988,19.159844089999098],[-99.15180576999988,19.151410749999098],[-99.15195690999998,19.150767429999096],[-99.15249957999995,19.142118079999097],[-99.15400427999998,19.138121569999097],[-99.15500932,19.135309709999095],[-99.16329284999988,19.117490569999095],[-99.15474753999987,19.108836549999097],[-99.14681085999987,19.10058308999909],[-99.13648148,19.089377979999195],[-99.17823067999988,19.092474259999097],[-99.22108433999988,19.095640289999196],[-99.22677777999998,19.096059999999092],[-99.25662964999998,19.116557819999095],[-99.27869522,19.131701719999096],[-99.28258882999988,19.138212829999095],[-99.28760524999988,19.146600569999094],[-99.29311505999998,19.165299079999095],[-99.29559684999997,19.172882799999098],[-99.30018312,19.184578509999096],[-99.30133142999988,19.188417419999197],[-99.30276265,19.190855089999097],[-99.30324332,19.193655799999096],[-99.30391556999987,19.197179179999097],[-99.30396508999988,19.198263549999098],[-99.30444483,19.200522029999096],[-99.30468650999988,19.2026453499992],[-99.30613062999998,19.206143739999195],[-99.30678473999998,19.211080829999094],[-99.30713553999998,19.213728459999096],[-99.30813313999988,19.214368909999195],[-99.30829969,19.214512399999094],[-99.31230028,19.218031079999093],[-99.31336573999988,19.218967369999095],[-99.31624974999988,19.221501679999196],[-99.31612170999988,19.222588829999196],[-99.31555553999998,19.227395349999195],[-99.31505654999988,19.226897819999095],[-99.31466530999988,19.226704489999097],[-99.31445228999988,19.226620919999196],[-99.31401110999995,19.226476309999196],[-99.31355331999998,19.226208139999095],[-99.31325091999996,19.225976889999096],[-99.31297365999995,19.225804539999196],[-99.31265550999989,19.225957599999195],[-99.31227604999997,19.226020109999197],[-99.31199096999988,19.225941619999094],[-99.31171748,19.225871219999096],[-99.31143953999998,19.225736799999098],[-99.31128282,19.225633319999098],[-99.31116330999996,19.225518999999196],[-99.31102604999988,19.225397549999094],[-99.31083356999989,19.225169709999097],[-99.31049659999996,19.225213349999095],[-99.30999124999988,19.224798049999094],[-99.30962468999986,19.224748819999096],[-99.30943016999998,19.224553649999095],[-99.30918991999988,19.224293089999097],[-99.30894653999997,19.223929539999094],[-99.30862544999997,19.223609649999194],[-99.30840162999998,19.223498539999095],[-99.30805542999998,19.223432379999196],[-99.30779071999989,19.223195279999096],[-99.30709962999995,19.222762779999098],[-99.30649162,19.222409679999092],[-99.30604790999988,19.222364119999096],[-99.30570442999998,19.222236179999097],[-99.30543065999989,19.222013249999097],[-99.30471169,19.221332979999197],[-99.30397265999989,19.220575999999195],[-99.30369465999988,19.2203331799992],[-99.30343636999996,19.220091079999097],[-99.30323897999988,19.219821369999096],[-99.30309336999989,19.219588429999195],[-99.30273085999988,19.219258309999095],[-99.30245612,19.218968739999095],[-99.30200109,19.218627429999092],[-99.30150264999996,19.21828945999909],[-99.30142787999988,19.218220779999097],[-99.30097454999998,19.218198599999095],[-99.30054377999988,19.217969119999193],[-99.30026690999988,19.217742399999196],[-99.29980856999998,19.217741229999092],[-99.29922481999988,19.2177095799992],[-99.29861994,19.217929689999096],[-99.29814437,19.218081419999095],[-99.29779922999997,19.218121859999098],[-99.29735845999988,19.217918369999097],[-99.29702304999988,19.217832339999095],[-99.29670581999989,19.217763349999096],[-99.29642587999987,19.217527829999195],[-99.29612842999988,19.217110599999096],[-99.29583427999988,19.216762549999096],[-99.29548777999996,19.216297619999096],[-99.29527093999997,19.215957549999096],[-99.29505578,19.215480909999197],[-99.29494497999998,19.215337089999096],[-99.29483637999998,19.215245719999093],[-99.29468416999998,19.215180549999097],[-99.29443897,19.215122289999098],[-99.29430811999995,19.215025569999096],[-99.29420168999997,19.214888079999096],[-99.29412185999998,19.214785449999095],[-99.29394599999988,19.214644179999095],[-99.29382334999998,19.214566829999097],[-99.29378447999989,19.214520349999095],[-99.29372105999988,19.214395919999095],[-99.29364859999998,19.214321109999197],[-99.29356299999988,19.214261919999096],[-99.29340168,19.214143539999096],[-99.29315135,19.213906659999193],[-99.29275428999988,19.213773739999095],[-99.29239357999988,19.213825819999197],[-99.29176788999987,19.214282939999094],[-99.29143794,19.2145982799992],[-99.29106156999988,19.214453619999095],[-99.29062719999988,19.214260719999096],[-99.29025769,19.214076089999097],[-99.28989019999987,19.213914979999092],[-99.28942953999989,19.213730949999192],[-99.28916488999988,19.213809769999095],[-99.28905671999988,19.213818049999094],[-99.28894061999988,19.213776309999098],[-99.28873482999988,19.213716569999097],[-99.28857641999998,19.213606679999096],[-99.28819615,19.213306909999098],[-99.28804825999998,19.213176979999098],[-99.28782356999989,19.213122259999096],[-99.28751357999988,19.213149579999097],[-99.28710556999988,19.213162629999193],[-99.28681721999996,19.2132022799992],[-99.28652382999996,19.213278509999096],[-99.28628233999989,19.213335289999097],[-99.28602957999998,19.213310369999096],[-99.28557254999998,19.213265049999197],[-99.28539377,19.213286029999097],[-99.28526079999988,19.213311079999094],[-99.28515188999988,19.213379579999096],[-99.28505170999988,19.213452199999097],[-99.28496454,19.2134854599992],[-99.28482604999998,19.213562569999095],[-99.28472459999988,19.213636019999097],[-99.28463708999998,19.213689689999097],[-99.28457693999997,19.213680799999093],[-99.28441330999998,19.213636199999097],[-99.28410585999988,19.213651509999096],[-99.28393919999988,19.213604479999095],[-99.28370906,19.213539509999094],[-99.28353641999988,19.21342370999909],[-99.28340095,19.213210449999192],[-99.28329736999989,19.213161339999097],[-99.28310022999987,19.213055629999193],[-99.28239357999988,19.213081459999096],[-99.28214029,19.213225889999197],[-99.28188982999988,19.213395739999196],[-99.28158556999988,19.213532349999095],[-99.28134009,19.213646829999092],[-99.28114256999996,19.213697829999095],[-99.28104608999988,19.213724689999093],[-99.28097282999988,19.213709109999098],[-99.28089484999998,19.213684549999098],[-99.28076011999995,19.213630939999096],[-99.28059481999998,19.213655859999097],[-99.2803208,19.213649549999197],[-99.28015558,19.213723819999096],[-99.279866,19.213839849999097],[-99.27957609,19.213920919999193],[-99.27937214999996,19.213988769999094],[-99.27881490999988,19.214075519999092],[-99.27860359999988,19.214186479999096],[-99.27820971999988,19.21427864999909],[-99.27805254,19.214422999999098],[-99.27801597999988,19.214450349999098],[-99.27798204999998,19.214477709999095],[-99.27794024999996,19.21449265999919],[-99.27774867999987,19.214514279999097],[-99.27766308999998,19.214551109999093],[-99.27760168999998,19.214590279999097],[-99.27756284999997,19.214650339999096],[-99.27753485999988,19.214678719999096],[-99.27750665999996,19.214684429999092],[-99.27745436999996,19.214679539999096],[-99.27734057999996,19.214715999999097],[-99.27718879999998,19.214838399999195],[-99.27677727999998,19.215303569999097],[-99.276716,19.215405919999096],[-99.27666773999988,19.215486399999097],[-99.27661544999997,19.215566889999092],[-99.27655505999998,19.215633979999197],[-99.27647042999988,19.21566091999909],[-99.27641202999988,19.215706949999092],[-99.27635893999997,19.2157949199992],[-99.27633917999997,19.216001429999192],[-99.27627890999996,19.2163546199992],[-99.27624171999996,19.216423079999096],[-99.27603508999988,19.216489539999095],[-99.27587765999998,19.216579629999195],[-99.27565652,19.216759179999094],[-99.27530432,19.217055449999098],[-99.274616,19.217518279999094],[-99.27445193999988,19.217887199999097],[-99.27436473999988,19.218085519999093],[-99.27420671999988,19.2181523999992],[-99.27415462,19.218309509999095],[-99.27413697,19.21845794999909],[-99.27413028999987,19.218633819999095],[-99.27405957999996,19.218850479999094],[-99.27398349,19.219527889999092],[-99.27401596999988,19.219706679999096],[-99.27403905999986,19.220101119999097],[-99.27410290999988,19.220400649999096],[-99.27417330999997,19.22070162999919],[-99.27415659999998,19.221038889999097],[-99.2739516,19.221229509999095],[-99.27378411999987,19.221373199999196],[-99.27355168999998,19.221573119999093],[-99.27298928,19.221811719999092],[-99.27255417999996,19.222138509999095],[-99.27225359999989,19.2226604199992],[-99.27195877999998,19.222937339999095],[-99.27174779999996,19.223147049999096],[-99.27147088999996,19.223364519999095],[-99.27131384999988,19.22343339999909],[-99.27111374,19.223548719999098],[-99.27092362,19.223703339999098],[-99.27077174,19.223956519999092],[-99.27067822999996,19.224203019999095],[-99.27053291999988,19.224291919999096],[-99.26979522999989,19.224402119999095],[-99.26948691999998,19.224488709999097],[-99.26914857999998,19.224713149999193],[-99.26859279999996,19.22511017999919],[-99.26823774999995,19.225588819999096],[-99.26770962999989,19.225942539999096],[-99.26685928999989,19.226530029999193],[-99.26650391999998,19.226794109999098],[-99.26623151999998,19.226916309999098],[-99.2660158,19.226952319999196],[-99.26577087999998,19.22699424999909],[-99.26556865999996,19.227097029999097],[-99.26525836999998,19.227116689999097],[-99.26513710999988,19.227219349999096],[-99.26508348,19.227430779999196],[-99.26403345999988,19.228225449999098],[-99.26377251999996,19.228493849999197],[-99.26333142,19.22863745999919],[-99.26272179999988,19.228981119999197],[-99.26244934999988,19.229126109999097],[-99.26202488,19.229186349999196],[-99.26161788999998,19.229269149999197],[-99.26127457999998,19.229335079999192],[-99.26093102999988,19.229413029999098],[-99.26030227999988,19.229707749999097],[-99.25997257999995,19.229860599999192],[-99.25889681999998,19.230511629999096],[-99.25861956999996,19.230767149999195],[-99.25839044999996,19.230980479999097],[-99.25809006,19.2312810599992],[-99.25790686,19.231552319999096],[-99.25763856999995,19.2317938299992],[-99.25745194999988,19.232059769999097],[-99.25727102999998,19.232470629999092],[-99.25695261999986,19.232544879999093],[-99.25635707999996,19.232534059999097],[-99.25609704999988,19.232539939999096],[-99.25596961999996,19.232776079999095],[-99.25564907999998,19.233221689999095],[-99.25513649,19.233705309999095],[-99.25474608999995,19.233930549999094],[-99.25437779999996,19.234067449999095],[-99.25398436999988,19.234442059999097],[-99.25343252,19.234811619999196],[-99.25312934999988,19.235100279999095],[-99.25290910999988,19.235467429999098],[-99.25282673999996,19.235747049999095],[-99.25267564999989,19.236094279999097],[-99.25266193999988,19.236645579999095],[-99.25280281999989,19.237192749999192],[-99.25286882999988,19.237590149999097],[-99.25271217999988,19.237822249999095],[-99.25240956999988,19.238163279999096],[-99.25218862999998,19.238397689999093],[-99.25201827999996,19.238632029999195],[-99.25187968999988,19.238974369999095],[-99.25178516999988,19.239497919999096],[-99.25147235,19.240072139999096],[-99.2509936,19.24045590999919],[-99.25104192,19.240913879999095],[-99.25118273999998,19.241267339999094],[-99.25138691999987,19.241470219999098],[-99.25159892,19.241672049999096],[-99.25180127999988,19.242025079999195],[-99.25176853999989,19.242433169999096],[-99.25145087999988,19.242926289999097],[-99.25131122,19.243152859999196],[-99.25120782999988,19.24336461999909],[-99.25100959999996,19.243774379999195],[-99.25086029,19.243968249999096],[-99.25059117999989,19.244287739999095],[-99.25035784999989,19.244520149999097],[-99.25022876999998,19.244559029999092],[-99.25014642999996,19.244688549999097],[-99.25013364999988,19.244799259999095],[-99.25020163,19.244913579999093],[-99.25047767999988,19.245209049999097],[-99.25044599999988,19.245398519999092],[-99.25035096999989,19.245693279999095],[-99.25016861999988,19.245724939999096],[-99.24993953999989,19.24570164999919],[-99.24982596999988,19.245741629999095],[-99.24964995,19.245940819999092],[-99.24961777,19.246084889999196],[-99.24961123,19.246204109999095],[-99.24959622999988,19.246331479999096],[-99.24941737999988,19.246429969999195],[-99.24924653999987,19.246514779999096],[-99.24911616999998,19.246588859999097],[-99.24890070999996,19.246739079999095],[-99.24860931999996,19.246842489999096],[-99.24829630999989,19.246815519999096],[-99.24818293999998,19.246777749999097],[-99.24800768999988,19.246733749999095],[-99.24792268999988,19.246866819999095],[-99.24783962999996,19.246972259999097],[-99.24775937999998,19.247104029999097],[-99.24765064999998,19.247339379999097],[-99.24760766,19.247467599999094],[-99.24764265999988,19.2476489799992],[-99.24765011999988,19.2478562799992],[-99.24759018,19.248081399999197],[-99.24758685999988,19.248305179999097],[-99.24751167999987,19.248527419999196],[-99.24746491999998,19.248733109999097],[-99.24738605999988,19.248852939999196],[-99.24700193999998,19.249066859999097],[-99.24683237999989,19.249174259999094],[-99.24667248,19.249346179999097],[-99.24656897999988,19.249433969999096],[-99.24647516999988,19.2494650899992],[-99.24630230999998,19.249510379999094],[-99.24614096999989,19.249565819999095],[-99.24594010999998,19.249658739999095],[-99.24579173999987,19.249763629999197],[-99.24534410999988,19.250188219999195],[-99.24528588999998,19.250272379999195],[-99.24523202999988,19.250377059999096],[-99.24519974999998,19.250469419999092],[-99.24521292,19.250606819999096],[-99.24522317,19.250815399999095],[-99.24525022999995,19.251037879999096],[-99.24521696999987,19.251296079999097],[-99.24500526,19.251805539999197],[-99.24476550999997,19.252326649999095],[-99.24478602999989,19.252446549999092],[-99.24471930999988,19.252545399999093],[-99.24461223,19.252635429999096],[-99.24458507999996,19.252732629999095],[-99.24460684999995,19.253082829999094],[-99.24461924999996,19.253211969999096],[-99.24465489,19.253354079999095],[-99.24472143,19.25367996999919],[-99.24476529,19.254033909999094],[-99.24480219999998,19.254390999999096],[-99.24486965999988,19.254562079999097],[-99.24493669,19.254674799999098],[-99.24511397999996,19.254944749999098],[-99.24518259999986,19.25503008999919],[-99.24520484999988,19.255132289999096],[-99.24524665999998,19.255252519999097],[-99.24521791999987,19.255412429999097],[-99.24516389,19.255610089999095],[-99.24509173999988,19.255799219999098],[-99.24505924999988,19.255874879999094],[-99.24503402999989,19.255960829999097],[-99.24493094999995,19.256057229999197],[-99.24486704999998,19.256200049999197],[-99.24482125999997,19.256284909999096],[-99.24481558,19.256357539999193],[-99.24497496999996,19.256533229999196],[-99.2451382,19.256700249999096],[-99.24523537999988,19.256807629999095],[-99.24529161999996,19.256907449999098],[-99.24539254999998,19.257174749999095],[-99.24538583,19.257342109999097],[-99.24528467999988,19.257517519999094],[-99.24498221999988,19.257762459999096],[-99.24445262999988,19.258164459999097],[-99.24437253999996,19.258279769999195],[-99.24389485999988,19.258862169999095],[-99.24388210999987,19.258945769999094],[-99.24387131999995,19.2590596899992],[-99.24388824999988,19.259200679999097],[-99.24399444999987,19.259408519999095],[-99.24405767999998,19.259461319999097],[-99.24432844999988,19.259416279999098],[-99.24438225999998,19.259377419999197],[-99.24460881999988,19.259191349999096],[-99.24475977,19.259092739999097],[-99.24491370999998,19.259002569999097],[-99.24509406,19.258946089999096],[-99.24525724999988,19.258898079999096],[-99.24540156999988,19.258907859999095],[-99.24558114999988,19.258911139999096],[-99.24573631999998,19.258941399999095],[-99.24587221999997,19.258992779999097],[-99.24597428,19.259039969999098],[-99.24634819999989,19.259346779999095],[-99.24681703,19.259721309999097],[-99.24719053999988,19.260201259999096],[-99.24723653999988,19.260277319999098],[-99.24719788999988,19.260327379999097],[-99.24684105999988,19.2605371499992],[-99.24647817999988,19.260654659999197],[-99.24629817999988,19.260749109999097],[-99.24622902999988,19.260889179999097],[-99.24594005999988,19.261200139999097],[-99.24572094999988,19.261568939999197],[-99.24565410999998,19.261719689999097],[-99.24561714999996,19.262224859999197],[-99.24556190999998,19.262547509999095],[-99.24552834999996,19.262933139999095],[-99.24554267999996,19.263088719999097],[-99.24563284999986,19.26337397999909],[-99.24590627999996,19.263606289999096],[-99.24638301999988,19.263983889999096],[-99.24699517,19.264496539999097],[-99.24709045999998,19.264749059999097],[-99.24706196999988,19.265057999999097],[-99.24702090999988,19.265528459999096],[-99.24699685999998,19.26559547999919],[-99.24695791999989,19.265639599999098],[-99.24666266,19.265726369999097],[-99.24637613999988,19.265824539999095],[-99.24605166,19.266244489999195],[-99.24600870999988,19.266311449999197],[-99.24597451999988,19.266373319999197],[-99.24595162999998,19.266437379999097],[-99.24593168999988,19.266509569999094],[-99.24596828999996,19.26684028999909],[-99.24605607999987,19.267033779999196],[-99.24607385999995,19.267174169999095],[-99.24605124999988,19.267353319999096],[-99.24599481999998,19.267528799999095],[-99.24589208999998,19.267666229999097],[-99.24578214999995,19.267774769999196],[-99.24538642,19.268087179999096],[-99.24532614999995,19.268135309999096],[-99.24527130999988,19.268185829999094],[-99.24497251999998,19.268517909999197],[-99.24487397999997,19.26865656999909],[-99.24449122,19.268842939999196],[-99.24374328999988,19.269351169999094],[-99.24359877999989,19.26950347999909],[-99.24349137,19.269687059999097],[-99.24346782999996,19.269789879999095],[-99.24349782999998,19.269973479999095],[-99.24360227999988,19.270267749999192],[-99.24359868999989,19.270389179999093],[-99.24364602999997,19.270694849999096],[-99.24364166,19.2708753099992],[-99.24365753999987,19.271008109999094],[-99.24367922999988,19.271187739999196],[-99.24373005999998,19.271463999999096],[-99.24377239999988,19.271637689999096],[-99.24382654,19.271788679999094],[-99.24396787999996,19.272111939999196],[-99.24408227999996,19.272333579999096],[-99.24430402999998,19.272455179999096],[-99.24450194999996,19.272708969999098],[-99.24453105,19.272856879999093],[-99.24461321999988,19.272902319999194],[-99.24440804999988,19.27327107999909],[-99.24428441999996,19.273653119999096],[-99.24415024999988,19.273948909999092],[-99.24404541999988,19.274122349999097],[-99.24392442999986,19.274258919999095],[-99.24385927999997,19.274375889999092],[-99.24373122999997,19.2746801799992],[-99.24362633999998,19.274915979999093],[-99.24353267999996,19.27517134999909],[-99.24349951,19.275298179999098],[-99.24347870999998,19.275370479999093],[-99.24346605999988,19.275480429999195],[-99.24345876999998,19.275649199999098],[-99.24382721999996,19.275943919999097],[-99.24397802,19.275881709999197],[-99.24411064999998,19.276016539999095],[-99.24420884999988,19.276091139999096],[-99.24445638,19.276214199999096],[-99.24461117,19.276259489999095],[-99.24476253999988,19.276324419999096],[-99.24488741999988,19.276209419999095],[-99.24519545999998,19.276489029999095],[-99.24528017999988,19.276616319999196],[-99.24535784999988,19.276791709999095],[-99.24536777999997,19.276963949999097],[-99.24535570999988,19.277073799999098],[-99.24525902999989,19.277590489999096],[-99.24502257999988,19.278431909999195],[-99.24486962999995,19.278878509999096],[-99.24480974999987,19.279067419999095],[-99.24479819999998,19.27912684999919],[-99.24479091999996,19.279218909999095],[-99.24480477,19.279325709999096],[-99.24484607999987,19.279540429999095],[-99.24491281999998,19.279886889999094],[-99.24493468999997,19.2800706299992],[-99.24491291999998,19.280137309999095],[-99.24459156999995,19.280204689999195],[-99.24443679999987,19.2802468899992],[-99.24430448999998,19.280273969999097],[-99.24417522,19.280331489999096],[-99.24405998,19.280411509999094],[-99.24397221999996,19.280518419999098],[-99.24387174,19.280614719999193],[-99.24376868999998,19.2807085199992],[-99.24366577999989,19.280802489999097],[-99.24356287999996,19.280896449999094],[-99.24345937999998,19.280989829999196],[-99.24336131999988,19.281076909999097],[-99.24331421999987,19.281222949999098],[-99.24330787999996,19.281358369999097],[-99.24331748,19.281438909999192],[-99.24341965999996,19.281607829999096],[-99.2435022,19.281718449999097],[-99.24358990999998,19.281825399999192],[-99.24364364999998,19.281950979999095],[-99.24362771999988,19.282065139999094],[-99.24354617999988,19.282190879999096],[-99.24344517,19.28225870999919],[-99.24331767999998,19.282336319999093],[-99.24323165,19.282365289999095],[-99.24310934,19.282406479999192],[-99.24292399999987,19.282468879999193],[-99.24278492,19.282515709999096],[-99.24214882999988,19.282823139999095],[-99.24202259999998,19.282901679999195],[-99.24195696999998,19.283008569999097],[-99.24196487999988,19.283147939999097],[-99.24201571999996,19.283269679999098],[-99.24210191,19.283313319999095],[-99.24233356999996,19.283350079999096],[-99.24259373999988,19.283558509999096],[-99.24285390999997,19.283766949999094],[-99.24292004999988,19.283942739999095],[-99.24296761999987,19.284139449999195],[-99.24292527999988,19.284203619999097],[-99.24285156999996,19.2842846199992],[-99.24268064999988,19.284332479999097],[-99.24265634999988,19.28433927999909],[-99.24202921999988,19.285318109999096],[-99.24193511,19.285464979999094],[-99.24191485999997,19.285506199999094],[-99.24182728999988,19.285684479999095],[-99.24173394999995,19.28591604999909],[-99.24169401999988,19.286076449999097],[-99.24160450999987,19.286305649999093],[-99.24151481999988,19.286449289999197],[-99.24127139999987,19.286653949999195],[-99.24118439999988,19.286707919999095],[-99.24113658,19.286737579999095],[-99.24099284999988,19.286791679999094],[-99.24094274999996,19.286821139999095],[-99.24080637999997,19.28699241999909],[-99.24080128999996,19.287164659999096],[-99.24082774999988,19.287309349999095],[-99.24097297999998,19.287448489999097],[-99.24102078,19.287559509999095],[-99.24101412,19.287989659999095],[-99.24107578,19.288072549999097],[-99.24131553999987,19.288308859999095],[-99.24149556999996,19.288522659999096],[-99.24156691999998,19.288607419999195],[-99.24179148999995,19.288819879999192],[-99.24189839999998,19.288900779999096],[-99.24208264999996,19.289020249999197],[-99.24226997999988,19.289173619999097],[-99.24237408999988,19.289234509999098],[-99.24249133999987,19.2892504499992],[-99.24271608999996,19.289275369999093],[-99.24276159999988,19.289360059999098],[-99.24277902999988,19.289648719999096],[-99.24282461999996,19.290171339999095],[-99.24299670999989,19.291437319999098],[-99.24289717,19.291677379999193],[-99.24283689,19.2918706199992],[-99.24266464999988,19.292272799999196],[-99.24256587999996,19.292483019999196],[-99.24231702999997,19.292855549999196],[-99.24225214999989,19.292904219999095],[-99.24154957999995,19.292863339999197],[-99.24192148999995,19.293144149999097],[-99.24177910999998,19.293323249999197],[-99.24161474,19.293544939999094],[-99.24154184999998,19.293661509999197],[-99.24150611999988,19.2937927399992],[-99.24147850999998,19.293931769999094],[-99.24138461999988,19.294018489999097],[-99.24122681999997,19.294041599999098],[-99.24108574999995,19.294062539999096],[-99.24094521999989,19.294086339999097],[-99.24082742999995,19.294170849999094],[-99.24077176999997,19.294192849999096],[-99.24068085999988,19.294200119999097],[-99.24063619999998,19.294181059999097],[-99.24056468,19.294137289999096],[-99.24047556999987,19.294097429999095],[-99.24037376999998,19.294050549999195],[-99.24028288999988,19.294074939999096],[-99.24016624999987,19.294120749999095],[-99.24014962999988,19.294130149999095],[-99.23999417,19.294218049999095],[-99.23978537999989,19.294318119999197],[-99.23965231999988,19.294380919999092],[-99.23938224999988,19.294491709999097],[-99.23869364999987,19.294699049999195],[-99.23862955,19.29470311999909],[-99.23856077,19.294688079999194],[-99.23802994999988,19.294488119999095],[-99.23801071999998,19.294477399999096],[-99.23798470999998,19.294462879999095],[-99.23796713999998,19.294453719999098],[-99.23789977999988,19.294428859999098],[-99.23776764999997,19.294378139999097],[-99.23763562999989,19.294337229999098],[-99.23747825999996,19.294317249999093],[-99.23721692,19.294258719999096],[-99.23707164999998,19.294268479999097],[-99.23693865999998,19.294317089999097],[-99.23672117999988,19.294399819999093],[-99.23652681999988,19.29436870999919],[-99.23637965999995,19.294417649999097],[-99.23611476999996,19.294432849999097],[-99.23596851999996,19.294456369999097],[-99.23590064999998,19.294506399999097],[-99.23586968999996,19.2946253099992],[-99.23591822999995,19.2947202499992],[-99.23602067999995,19.2948301699992],[-99.23614322999995,19.294899709999097],[-99.23615814999988,19.294996249999095],[-99.23609707999996,19.295108109999095],[-99.23597268,19.295147999999095],[-99.23580425999998,19.295143079999097],[-99.23567490999989,19.295095919999092],[-99.23557073999996,19.294991489999095],[-99.23547385999996,19.294995769999197],[-99.23538947999997,19.295107799999094],[-99.23526451999996,19.295173369999095],[-99.23511984999998,19.295255219999195],[-99.23490394999996,19.295392119999097],[-99.23476448999998,19.295593029999196],[-99.23469179999988,19.29563414999919],[-99.23462104999996,19.295654749999095],[-99.23453257999988,19.295666059999093],[-99.23445002999988,19.295690419999097],[-99.2343842,19.295743799999094],[-99.23418809,19.295968879999094],[-99.23408945999998,19.296066889999096],[-99.23399003,19.296164179999096],[-99.23383262999988,19.296259309999098],[-99.23363564999988,19.296361049999096],[-99.23345779999988,19.296463909999098],[-99.2333012,19.296595179999095],[-99.23318663,19.29669917999919],[-99.23263113999997,19.29749954999919],[-99.23249436999996,19.297735279999095],[-99.23248290999996,19.2978765399992],[-99.23252061999987,19.298011569999098],[-99.23258379999996,19.29813313999909],[-99.23268996999998,19.298384819999093],[-99.23272284999996,19.298527399999195],[-99.23272307999996,19.298689079999097],[-99.23272311999987,19.298718909999096],[-99.23272319999997,19.298768339999096],[-99.23272341999989,19.298924109999092],[-99.23274074999988,19.299054679999095],[-99.23278553999988,19.299188739999096],[-99.23281330999998,19.2993217099992],[-99.23283162999986,19.29945614999909],[-99.23284785999986,19.299583519999096],[-99.23279521999989,19.299718659999098],[-99.23272602999997,19.299799459999097],[-99.23271008999988,19.299889479999095],[-99.23280874999988,19.299972619999195],[-99.23306497999988,19.300098079999096],[-99.23321222,19.300095179999097],[-99.23337105999998,19.300077829999196],[-99.23336211999997,19.3002317399992],[-99.23339710999988,19.300816229999093],[-99.23326351999997,19.300786569999197],[-99.23293801999988,19.300923169999095],[-99.23276302999987,19.301048169999095],[-99.23239714999988,19.301325569999197],[-99.23222882,19.301468509999097],[-99.23297390999988,19.301810119999093],[-99.23264607999988,19.3024815199992],[-99.23254747999988,19.303000449999193],[-99.23233736999995,19.3029827399992],[-99.23224831,19.303788779999095],[-99.23204221999998,19.303881029999097],[-99.23198482999996,19.304276459999095],[-99.23193022999996,19.304797659999096],[-99.23190459999996,19.305042319999096],[-99.23169188999996,19.305202889999094],[-99.23119705999989,19.305449139999094],[-99.23091373999988,19.305572969999098],[-99.23061853999997,19.305681709999092],[-99.23040648999996,19.305768399999092],[-99.23016499999989,19.305864049999094],[-99.22992931999988,19.306012749999095],[-99.22980570999988,19.306186549999197],[-99.22954921999995,19.306381859999096],[-99.22936221999998,19.3064788899992],[-99.22894947999998,19.306483829999095],[-99.22866704999988,19.306548779999197],[-99.22789288,19.306857059999096],[-99.22774702999996,19.306963219999098],[-99.22767661999988,19.307031649999097],[-99.22766097,19.307061429999095],[-99.22759221999988,19.307192289999197],[-99.22764626,19.307378679999097],[-99.22771394999988,19.307609109999195],[-99.22774657999996,19.307783079999098],[-99.22772334999998,19.30791430999909],[-99.22761342999988,19.308061479999093],[-99.22743584999988,19.308225969999096],[-99.22723951999996,19.308407849999096],[-99.22691211999988,19.308649279999095],[-99.22517073999995,19.309957249999098],[-99.22501753999988,19.310335739999097],[-99.22493341999989,19.310597779999096],[-99.22462556999989,19.310728659999096],[-99.22405266,19.310860449999193],[-99.22392893999996,19.3108965699992],[-99.22299868999988,19.310950829999097],[-99.22174045999998,19.311037969999195],[-99.22130719999988,19.311061049999097],[-99.22097139999988,19.311078619999098],[-99.22070782999998,19.311129819999195],[-99.22066057999989,19.31114711999909],[-99.22056225999997,19.311229569999096],[-99.2204718,19.311322679999098],[-99.21992543,19.312263629999197],[-99.21984896999996,19.312123769999097],[-99.21966344999998,19.311805949999098],[-99.21942081999995,19.311440539999097],[-99.21919276999988,19.311139419999098],[-99.21900515,19.310892829999197],[-99.21887401999996,19.310733779999197],[-99.21823174999996,19.309887719999093],[-99.21779545999998,19.309352909999095],[-99.21719790999995,19.308772539999197],[-99.21685714999995,19.308496649999096],[-99.21655919999988,19.3082770499992],[-99.21641257999988,19.308175539999095],[-99.21592285,19.307881149999197],[-99.21539464999988,19.307621089999095],[-99.21485134999988,19.307409489999195],[-99.21436673999987,19.307249369999095],[-99.21378822999998,19.30712407999919],[-99.21330448,19.307019309999095],[-99.21152710999988,19.306709679999095],[-99.21002948999988,19.306441079999196],[-99.20931602999998,19.3063168799992],[-99.20847745999998,19.306162449999096],[-99.20575216999995,19.305681879999195],[-99.20567121999989,19.305667309999095],[-99.20504733999996,19.305555079999095],[-99.20459028,19.305470769999197],[-99.20435179999996,19.305429569999095],[-99.20359070999996,19.305291829999096],[-99.20320314999996,19.305217249999195],[-99.20272185999988,19.305096379999195],[-99.20222934999998,19.304960689999096],[-99.20127117999998,19.304639089999093],[-99.20018447999988,19.30417353999909],[-99.19990854999998,19.304031419999195],[-99.19950579999988,19.303823949999096],[-99.19908687999998,19.303599179999093],[-99.19869604999997,19.303354689999097],[-99.19846031,19.303203479999095],[-99.19810924999987,19.302999749999096],[-99.19776150999988,19.302814859999195],[-99.19715768999995,19.302559219999097],[-99.19671102999988,19.302404969999092],[-99.19628607999988,19.302278169999095]]],\"type\":\"Polygon\"},\"properties\":{\"_id\":6,\"cve_ent\":9,\"cve_mun\":12,\"cvegeo\":9012,\"g_pnt_2\":\"19.1983396763,-99.2062207957\",\"geo_shp\":\"{\\\"type\\\": \\\"Polygon\\\", \\\"coordinates\\\": [[[-99.19628607999987, 19.302278169999095], [-99.19595354999987, 19.302198969999097], [-99.19543342999997, 19.302102169999195], [-99.19506930999987, 19.302055049999097], [-99.19505367999987, 19.302053029999097], [-99.19\",\"gid\":8,\"id\":5,\"nomgeo\":\"Tlalpan\"},\"type\":\"Feature\"},{\"geometry\":{\"coordinates\":[[[-99.11859756999998,19.584461719999094],[-99.11690613999995,19.581444599999095],[-99.11466171999987,19.579796309999196],[-99.11296556999996,19.57374167999919],[-99.11285594999998,19.573262629999096],[-99.11239233999996,19.571236649999197],[-99.11181804999988,19.568726919999197],[-99.10809722,19.564888489999092],[-99.11124113999988,19.561497769999193],[-99.11485294999989,19.557595549999096],[-99.11571862999988,19.556660259999095],[-99.11568508999989,19.555755709999097],[-99.11562145999989,19.554039619999095],[-99.11848011999987,19.552185219999195],[-99.12037348999988,19.549923179999197],[-99.12043631999988,19.549848119999098],[-99.12103573999998,19.549131949999097],[-99.12121761999995,19.548696319999095],[-99.12130971999989,19.548475679999097],[-99.12146296999998,19.54810861999909],[-99.12163373999988,19.5476995499992],[-99.12174687999998,19.547428549999097],[-99.12188256999995,19.547103509999193],[-99.12197874999995,19.546873109999098],[-99.12215348999987,19.546541969999197],[-99.12223654999995,19.546384519999197],[-99.12256570999988,19.545760709999097],[-99.12263744999996,19.545624749999096],[-99.12273296999987,19.545443709999095],[-99.12322717999989,19.544971029999196],[-99.12350722999996,19.544703179999097],[-99.12419090999995,19.544049279999097],[-99.12421390999997,19.544027279999092],[-99.12464285,19.543421999999097],[-99.12469290999996,19.5433513399992],[-99.12528814999988,19.542511369999097],[-99.12537470999987,19.542389249999193],[-99.12565256999989,19.542046569999098],[-99.12569259999997,19.541997179999097],[-99.1259818,19.541640509999095],[-99.12627551,19.54133534999909],[-99.12743457,19.54013110999909],[-99.12814641999996,19.539391479999093],[-99.12991050999987,19.5369938799992],[-99.13027730999988,19.536495349999097],[-99.1305746,19.536091289999096],[-99.12736765999988,19.53508390999909],[-99.12737790999988,19.531710659999096],[-99.12808299999988,19.526609369999196],[-99.12818362999997,19.525881289999095],[-99.12810562999988,19.525293139999096],[-99.12800457999997,19.524531119999192],[-99.12779641999995,19.524363089999095],[-99.12773305999998,19.524311949999095],[-99.12749755,19.524170769999195],[-99.12738434999989,19.524067599999096],[-99.12735039999995,19.524012199999195],[-99.12729824999998,19.523911479999096],[-99.12724394,19.523806569999095],[-99.12709031999997,19.523509939999094],[-99.12706347999988,19.523458079999095],[-99.12672752,19.522809259999097],[-99.12672139999997,19.522797459999097],[-99.12644063,19.522255199999197],[-99.12641471999989,19.52220517999919],[-99.12616657999988,19.5217259499992],[-99.12616415,19.521721249999096],[-99.12589848999988,19.521208179999096],[-99.12573756999988,19.521024969999097],[-99.12527637999987,19.520499939999095],[-99.12506281999995,19.520289049999096],[-99.12477104999988,19.520000949999098],[-99.12436451999996,19.519599519999097],[-99.12434184999988,19.519577139999097],[-99.12424751999995,19.519483999999093],[-99.12400607999987,19.519245579999197],[-99.12388843,19.519129399999095],[-99.12101471999988,19.516291649999093],[-99.12098182999988,19.516267339999196],[-99.12087317999998,19.516187029999095],[-99.11688191999995,19.513236889999096],[-99.11592876999995,19.5130517699992],[-99.11440710999987,19.5110608199992],[-99.11058930999997,19.511173139999094],[-99.11055982,19.511162279999095],[-99.11023187999989,19.51104154999919],[-99.10998977,19.51061885999909],[-99.10989788999989,19.510458449999096],[-99.10943308,19.510311969999098],[-99.10922741999995,19.510581369999095],[-99.10914475,19.510742449999196],[-99.10897408999988,19.511110349999097],[-99.10886868999988,19.5109309699992],[-99.10876327999988,19.510751549999195],[-99.10874116999996,19.510708889999098],[-99.10866796999989,19.510567679999095],[-99.10864563,19.510491279999098],[-99.10783857999988,19.510462489999195],[-99.10769990999988,19.510855139999197],[-99.10768073999998,19.510906179999097],[-99.10763552,19.511026549999197],[-99.10751188999988,19.510689749999095],[-99.10746310999998,19.510406619999095],[-99.10744264999988,19.510287799999197],[-99.10738862999987,19.510023659999096],[-99.10736641999988,19.509934449999196],[-99.10730428999987,19.509684999999095],[-99.10709388999996,19.510063909999097],[-99.10704237,19.510178399999095],[-99.10693297999988,19.510270249999195],[-99.10673951999988,19.510445049999092],[-99.10658193999988,19.510426179999097],[-99.10642988999987,19.510321139999096],[-99.10622424999995,19.510243109999095],[-99.10612277999998,19.510154939999197],[-99.10602663,19.509993139999096],[-99.10593157999988,19.509886369999094],[-99.10551570999988,19.510328139999096],[-99.10480925999998,19.510652769999098],[-99.10420292,19.510931379999096],[-99.10386008999988,19.511088919999196],[-99.10343071999988,19.511286219999096],[-99.10282830999986,19.511405259999197],[-99.10272408999997,19.511425849999096],[-99.10241481999998,19.511486969999197],[-99.10232468999996,19.511504769999096],[-99.10216538,19.511536249999196],[-99.10139515,19.511688449999095],[-99.10108384999997,19.511749949999096],[-99.10097151,19.511772149999096],[-99.10058847999989,19.51184782999909],[-99.10052053999998,19.511864519999197],[-99.09976933999997,19.512049079999095],[-99.09949064999988,19.512117539999096],[-99.09943262999997,19.512131779999095],[-99.09920025999998,19.512188879999197],[-99.09888879999988,19.512265399999094],[-99.09862245999987,19.512330819999097],[-99.09835454999998,19.512396629999195],[-99.09827187999998,19.512416949999096],[-99.09785694999988,19.512518879999195],[-99.09739951999988,19.512631249999092],[-99.09716159999988,19.512524249999196],[-99.09581067999989,19.51191665999909],[-99.09561289,19.511827719999097],[-99.09502173999988,19.511561849999193],[-99.09489556999988,19.511505089999194],[-99.09450962999988,19.511331519999096],[-99.09317902999996,19.510733059999097],[-99.09289730999996,19.510606349999197],[-99.09189382999988,19.510155019999196],[-99.09088804999998,19.509702629999197],[-99.09055794999988,19.509554149999097],[-99.09051243,19.509533679999095],[-99.09038571999996,19.509476689999097],[-99.09038551,19.50947657999909],[-99.09035288999988,19.509461919999097],[-99.09025634999988,19.509418489999096],[-99.08996073999998,19.509316459999095],[-99.08949267999998,19.509154889999095],[-99.08934336999988,19.509103349999094],[-99.08894341999986,19.508938249999197],[-99.08829741999988,19.508671549999097],[-99.08782397,19.508476109999098],[-99.08755799999987,19.508366309999097],[-99.08737148999988,19.508289309999093],[-99.08726965999988,19.508247259999195],[-99.08692134999995,19.50810345999909],[-99.08648014999989,19.507921309999094],[-99.08572213999996,19.507608369999097],[-99.08540388999997,19.507476979999097],[-99.08507059999988,19.507330569999095],[-99.08489950999989,19.507255419999098],[-99.08462325999989,19.507134059999096],[-99.08414737999998,19.506925019999095],[-99.08371508,19.506735109999095],[-99.08325042,19.506530969999098],[-99.08279932,19.506332799999097],[-99.08279542999998,19.506331109999195],[-99.08233594999987,19.506129249999095],[-99.08188793999987,19.505932429999092],[-99.08177374999998,19.505882279999096],[-99.08144927999996,19.505739719999095],[-99.08100973999989,19.505546629999095],[-99.08056472,19.505351119999197],[-99.08008651999997,19.5051410299992],[-99.08004185999988,19.505121419999096],[-99.07962979999988,19.50494037999919],[-99.07921516999988,19.504763549999197],[-99.07885236999986,19.504608799999097],[-99.07789861999998,19.504202029999092],[-99.07765297,19.504087889999095],[-99.07747487999995,19.504005149999095],[-99.07721536999998,19.503884599999193],[-99.07643914,19.503588089999095],[-99.07604824999996,19.503438779999197],[-99.07599762999988,19.503419309999096],[-99.07568814999988,19.503300179999098],[-99.07522745999988,19.503122879999097],[-99.07490196999998,19.502997579999093],[-99.07477125999998,19.50294727999919],[-99.07427835,19.502757569999098],[-99.07413857999988,19.502703769999098],[-99.07402208999996,19.502658939999097],[-99.07350502999998,19.502459919999097],[-99.07332914999988,19.502392219999095],[-99.07322265,19.502351229999096],[-99.07298239999989,19.502258749999097],[-99.07282282999988,19.502197339999196],[-99.07234085999988,19.502011819999197],[-99.07143321999988,19.501662459999096],[-99.07068302999988,19.50137368999909],[-99.07012554999989,19.501159109999197],[-99.06919284999998,19.500800059999193],[-99.06881250999996,19.500655849999095],[-99.068425,19.5005089099992],[-99.06809194999988,19.500382619999097],[-99.06734362999995,19.500098849999095],[-99.06694701999996,19.499948429999193],[-99.06597888,19.499581289999096],[-99.06530481999988,19.499325679999096],[-99.06521202999988,19.499290489999193],[-99.06463,19.499069769999096],[-99.06386253999987,19.498778709999097],[-99.06420527999995,19.498003679999098],[-99.06430965999998,19.497767649999197],[-99.06432181999998,19.497740169999098],[-99.06465331999998,19.4969905199992],[-99.06470728999987,19.496868479999097],[-99.06484454999998,19.496558089999095],[-99.06496124999988,19.496294229999094],[-99.06511870999998,19.495938139999197],[-99.06522651999988,19.4956943499992],[-99.06525276999996,19.495634979999096],[-99.06527148,19.495592679999195],[-99.06544848999988,19.495192369999096],[-99.065524,19.495021649999092],[-99.06593494,19.494092339999195],[-99.06610521999988,19.493677579999098],[-99.06610697,19.493673319999097],[-99.06610870999997,19.493669079999197],[-99.06630101999998,19.493200649999093],[-99.0666338,19.492390059999096],[-99.06666690999997,19.492309419999096],[-99.06670202999996,19.492223859999093],[-99.06679256999988,19.492003319999093],[-99.06694650999997,19.491628339999096],[-99.06710515,19.491241909999196],[-99.06724971999986,19.4908897499992],[-99.06744122,19.490423289999097],[-99.06795257999988,19.489177629999094],[-99.06799134,19.489083219999095],[-99.06792256999988,19.489011549999095],[-99.06785068,19.488936679999092],[-99.06762241999988,19.488395979999197],[-99.06758453999998,19.488306279999097],[-99.06751333999988,19.488137649999096],[-99.06748676999987,19.488074709999097],[-99.06731009,19.487656249999095],[-99.06727807999988,19.487580419999095],[-99.06711814999989,19.487201629999195],[-99.06703637999998,19.487007949999196],[-99.06698808999988,19.486893569999193],[-99.0667258,19.486272289999096],[-99.06671433999998,19.48624513999909],[-99.06658373999988,19.485935799999098],[-99.06646062,19.485644149999096],[-99.06631956999988,19.485310079999095],[-99.06629287999998,19.485246849999196],[-99.06618676999987,19.484995519999096],[-99.06607288999996,19.484725779999195],[-99.06606141999995,19.484698579999097],[-99.06592961999998,19.484386429999095],[-99.06578464999988,19.484043029999196],[-99.06566281999989,19.483754449999196],[-99.06546413999988,19.483283829999195],[-99.06540839999997,19.483151799999096],[-99.06538554,19.483097649999095],[-99.06537694999996,19.483077309999196],[-99.06515287999996,19.482546539999095],[-99.065145,19.482527879999196],[-99.06485288999988,19.481835969999096],[-99.06469973999997,19.4816563799992],[-99.06455887999986,19.481550259999096],[-99.06450768999996,19.481538969999097],[-99.06417652,19.48146590999919],[-99.06399614999997,19.481426119999096],[-99.06374702999987,19.481371169999193],[-99.06374525999988,19.48137076999919],[-99.06327781999988,19.481267649999197],[-99.06361036999998,19.479969569999092],[-99.06299705,19.47981931999919],[-99.06336101999987,19.4786092799992],[-99.06299627999988,19.477789909999093],[-99.06263169,19.476970849999095],[-99.06248330999988,19.476637489999092],[-99.06247711999995,19.476623579999096],[-99.06183090999995,19.475171799999096],[-99.06144201999987,19.474266579999192],[-99.06141209,19.47419691999909],[-99.06085928999988,19.472910089999093],[-99.06080033999996,19.472772879999095],[-99.06039703,19.471834029999098],[-99.05945444999998,19.469639849999197],[-99.05920397999988,19.469082799999097],[-99.05911938,19.468894679999096],[-99.05911831999998,19.468892319999195],[-99.05911725999988,19.46888994999919],[-99.05791177999996,19.466208969999094],[-99.05773610999988,19.4658363999992],[-99.05755002999987,19.465441749999098],[-99.05718242999995,19.464662089999095],[-99.05654519999987,19.463255579999096],[-99.05629311999998,19.462652429999093],[-99.05606407999989,19.462104369999196],[-99.05595313999996,19.4618389499992],[-99.05593950999996,19.461806309999098],[-99.05528857999998,19.460248819999197],[-99.05503657,19.459673679999092],[-99.05485611999995,19.459261829999196],[-99.05478678,19.459103569999098],[-99.05467525999995,19.458849059999096],[-99.05466950999988,19.45883590999909],[-99.05448682999996,19.45841897999909],[-99.05443908999987,19.458310029999193],[-99.05430756999998,19.458009879999196],[-99.05429065,19.457971249999098],[-99.05412807999988,19.457600199999195],[-99.05411630999996,19.4575733499992],[-99.05394790999998,19.457188999999097],[-99.05393821999988,19.457166889999097],[-99.0537674,19.45677702999919],[-99.05374870999998,19.456734349999095],[-99.05358627999998,19.456363629999096],[-99.05357764999997,19.456343949999095],[-99.05349816999988,19.456162539999095],[-99.05340077999988,19.45594024999909],[-99.05338732,19.455909549999195],[-99.05321602999996,19.455518569999096],[-99.05321370999997,19.455513279999092],[-99.05321137999988,19.455507969999097],[-99.05302868999988,19.455090999999097],[-99.05302725999996,19.455087739999097],[-99.05302582999998,19.455084459999096],[-99.05285651,19.454697999999095],[-99.05284262,19.454666309999094],[-99.05266937,19.454270889999098],[-99.05266808999988,19.454267979999095],[-99.05253595,19.453966369999097],[-99.05249230999998,19.453863819999096],[-99.05249005999998,19.453858539999093],[-99.05231650999998,19.453450829999195],[-99.05231361999986,19.453444059999097],[-99.05215422,19.453069569999094],[-99.05212016999997,19.452989619999094],[-99.05198019999987,19.452660749999097],[-99.05196264999988,19.452619539999095],[-99.05183848999997,19.452327879999093],[-99.05181096999988,19.452263199999095],[-99.05173328999996,19.4520807099992],[-99.05114709,19.450703569999092],[-99.05111965999996,19.450639109999095],[-99.05090357999988,19.450245139999097],[-99.05086874999988,19.450181629999097],[-99.05086842999997,19.450181019999096],[-99.05086876999997,19.450180679999097],[-99.05113831999988,19.449912619999196],[-99.05152145999988,19.449511719999094],[-99.05195353999989,19.449061279999096],[-99.05204797999988,19.448965509999095],[-99.05225808999997,19.448742599999196],[-99.05256431999996,19.448422149999093],[-99.05330229,19.448130659999094],[-99.05389897,19.447909419999096],[-99.05466736999988,19.447619179999197],[-99.05550517999988,19.447297969999095],[-99.05604814,19.447091979999097],[-99.05734457999988,19.446596949999194],[-99.05799876999998,19.446357779999097],[-99.05871605,19.446095519999098],[-99.05941470999988,19.445840029999196],[-99.06021453999988,19.445547629999197],[-99.06125957999988,19.445165519999097],[-99.06214541999998,19.444841619999092],[-99.06228516999988,19.444790519999096],[-99.06262284999998,19.444909399999094],[-99.06280679999998,19.444974169999096],[-99.06343347999989,19.445194799999097],[-99.06402517999996,19.445403139999193],[-99.06465470999989,19.445624769999096],[-99.06524894999988,19.445833979999097],[-99.06722821999988,19.446530779999197],[-99.06738369,19.446642289999197],[-99.06780243,19.446502819999097],[-99.06808785999998,19.446436549999095],[-99.06821484999988,19.446426219999093],[-99.06837774999995,19.446440169999196],[-99.06850893999987,19.446460179999093],[-99.06859568,19.446476179999095],[-99.06984463,19.446908919999096],[-99.07449757999996,19.448520969999095],[-99.07530194,19.448793849999195],[-99.07545179999988,19.448842019999095],[-99.07697768,19.44936388999909],[-99.07809816999998,19.449747089999192],[-99.07869592,19.449746689999095],[-99.07907271999989,19.449771979999092],[-99.07932118,19.449795429999096],[-99.08031045999998,19.450071149999197],[-99.08059108,19.450135049999098],[-99.08087674999987,19.450157319999096],[-99.08115319999987,19.450010909999097],[-99.08152948999997,19.44975921999909],[-99.08274251999988,19.448879279999097],[-99.08387156999996,19.448066119999194],[-99.08420330999988,19.447827139999195],[-99.08531502999988,19.447072229999097],[-99.08687024999988,19.445969689999096],[-99.08715633999998,19.445766859999097],[-99.08730147999997,19.446058079999094],[-99.08753181999998,19.446410519999095],[-99.08793482999988,19.446856199999097],[-99.08822362999987,19.447133119999098],[-99.08864614,19.447538999999193],[-99.08885787999998,19.447728479999096],[-99.08899779999987,19.447858399999095],[-99.08940484999988,19.448236349999096],[-99.08968884999987,19.448500059999095],[-99.08975333999987,19.448559939999097],[-99.09006417999989,19.448848549999095],[-99.09042202999989,19.449180829999097],[-99.09063027999996,19.449374169999192],[-99.09080135,19.449532999999096],[-99.09115418,19.449860619999097],[-99.09128462999988,19.449981739999092],[-99.09155142999995,19.450229459999097],[-99.09177037999989,19.450432739999098],[-99.09192577999988,19.450577049999097],[-99.09213237999988,19.450761399999095],[-99.09248832,19.451079059999095],[-99.09265345999988,19.451226519999096],[-99.09289857,19.451411429999197],[-99.09298454999995,19.451476319999095],[-99.0932198,19.451600229999094],[-99.09345090999987,19.451679029999095],[-99.09372659999995,19.451746019999096],[-99.09393536999988,19.451775799999098],[-99.09421950999987,19.4517951699992],[-99.09452504999987,19.451786679999092],[-99.09473770999988,19.45175674999919],[-99.09489964999987,19.451720539999094],[-99.09526910999988,19.451607219999097],[-99.09537374999996,19.451567459999097],[-99.09592012,19.451359879999096],[-99.09594918,19.451348919999095],[-99.09654014999995,19.451126379999096],[-99.09696377999988,19.450966939999095],[-99.09745322,19.450782709999096],[-99.09785797999989,19.450630349999095],[-99.09797024999988,19.450588089999098],[-99.09843567999997,19.450412909999095],[-99.09884688999988,19.450258109999098],[-99.09898114,19.450208549999196],[-99.0996992,19.449943449999097],[-99.0997884,19.449919739999096],[-99.10025779999988,19.449838539999096],[-99.10046121999989,19.449827579999095],[-99.10055670999998,19.4498275399992],[-99.10079425,19.449837089999196],[-99.10107317999989,19.449875229999098],[-99.10133750999998,19.449935289999097],[-99.10136628999996,19.449942399999095],[-99.10139574999988,19.449953919999093],[-99.10144341999988,19.449971259999096],[-99.10186344999988,19.450124659999094],[-99.10195496999988,19.450158049999093],[-99.10195501999998,19.450158059999097],[-99.10220228999997,19.450248489999098],[-99.10254433999988,19.450373089999097],[-99.10302324999998,19.450547549999097],[-99.10349382999998,19.450718979999095],[-99.10389276999987,19.450864849999192],[-99.10411945999986,19.450947739999098],[-99.10431590999995,19.451019569999097],[-99.10474874999989,19.451177829999196],[-99.10538288999996,19.451409689999096],[-99.10557630999988,19.451480399999095],[-99.10603022999996,19.451644849999095],[-99.10644734,19.451795949999195],[-99.10665125999998,19.451869829999197],[-99.10686285,19.451946479999197],[-99.10728672,19.4521000299992],[-99.10769541999998,19.452248079999094],[-99.10792447999988,19.452331049999096],[-99.10811730999988,19.452400889999097],[-99.10859293999988,19.4525737699992],[-99.10859316999988,19.452573849999094],[-99.10859291999998,19.45257471999909],[-99.10854267999996,19.452750319999097],[-99.10854242999989,19.452751179999098],[-99.10854265999988,19.452751279999095],[-99.10871230999996,19.452813229999197],[-99.10889129,19.452878549999095],[-99.10894589,19.4527336299992],[-99.10946105999987,19.452917939999097],[-99.10966708999987,19.452991349999095],[-99.10986842999988,19.453063079999097],[-99.11013819999988,19.453159179999098],[-99.11027228999995,19.453206969999098],[-99.11042496999988,19.453261349999096],[-99.11072816999987,19.4533693699992],[-99.11121388999996,19.453542419999195],[-99.11136171999998,19.453595079999197],[-99.11142935,19.453620419999098],[-99.11161523,19.453706169999094],[-99.11177513999988,19.453781279999195],[-99.11186087999988,19.453829779999097],[-99.11202459999998,19.4539368799992],[-99.11217709,19.454049719999094],[-99.11229867999997,19.454139709999097],[-99.11263116999996,19.454405939999095],[-99.11269439999988,19.454457059999097],[-99.11303150999998,19.454729629999097],[-99.11342577999989,19.45504841999909],[-99.11349730999989,19.455106249999098],[-99.11388008999988,19.455397229999196],[-99.11399142999988,19.455486799999196],[-99.11439019999987,19.455850769999095],[-99.11471494999988,19.456118479999095],[-99.11497079999997,19.456318259999097],[-99.11546292,19.456702539999096],[-99.11583417999996,19.456992449999095],[-99.11616913999995,19.4572539799992],[-99.11627845999998,19.457339339999095],[-99.11673518,19.457695969999197],[-99.11690472,19.457828339999097],[-99.11696177,19.457872879999098],[-99.11705350999988,19.457938659999098],[-99.11714884999998,19.457999819999095],[-99.11726901999997,19.458067029999096],[-99.117349,19.4581074599992],[-99.11746425999988,19.458157849999196],[-99.11751085999995,19.458175719999097],[-99.11768786,19.458239659999197],[-99.11800542999995,19.4583500199992],[-99.11845137999988,19.45850497999909],[-99.11849610999997,19.458520539999096],[-99.11896967999998,19.458679109999096],[-99.11938703,19.458816079999195],[-99.11981345999996,19.458956019999196],[-99.12026102999988,19.459102909999196],[-99.12032356999998,19.459123419999095],[-99.12111582999988,19.459383419999096],[-99.12158813999996,19.459538419999095],[-99.12199430999998,19.459671709999192],[-99.12210096999998,19.459715659999095],[-99.12217715,19.459751919999096],[-99.12224121999998,19.459782399999096],[-99.12224179999995,19.459782569999096],[-99.12241122999988,19.459830049999095],[-99.12287174999987,19.459977579999094],[-99.12330644999996,19.460118649999096],[-99.12371864999989,19.460251119999196],[-99.1241624,19.460397709999096],[-99.12462231999989,19.460549599999094],[-99.12546474,19.460831829999197],[-99.12640545999987,19.4611524599992],[-99.12737754999988,19.461460779999197],[-99.12755068999988,19.461527249999197],[-99.12811141999995,19.461848349999094],[-99.12847121999988,19.462054379999092],[-99.12884252,19.46226699999919],[-99.12919093999987,19.462466519999197],[-99.12951211999987,19.46265044999919],[-99.13043213999995,19.463195719999096],[-99.13090596999996,19.463476719999097],[-99.13141864999989,19.463783219999097],[-99.13242568999998,19.46437577999909],[-99.13286162999997,19.464641489999195],[-99.13312062999998,19.464764779999093],[-99.13333667999989,19.464854169999096],[-99.13368113999996,19.464939179999092],[-99.13383825999988,19.464961479999097],[-99.13422907999988,19.464980889999197],[-99.13492084999989,19.465008909999195],[-99.13613773999997,19.4650595199992],[-99.13749733999998,19.465105649999195],[-99.13859227999995,19.465158169999196],[-99.13922354999988,19.465183339999097],[-99.13981031999998,19.465246139999095],[-99.14080726,19.465352819999097],[-99.14098956999996,19.46539057999909],[-99.14110005,19.465418289999196],[-99.14121281999998,19.4654683799992],[-99.14132399999988,19.465566509999096],[-99.14142442999996,19.465677089999097],[-99.14147934999988,19.465723369999097],[-99.14165001999996,19.46579899999919],[-99.14174041999998,19.465815939999093],[-99.14193263,19.465824369999197],[-99.14214192,19.465769949999096],[-99.14237039999988,19.465648819999195],[-99.14247156999988,19.465572909999196],[-99.14311811999988,19.465062689999098],[-99.14305467999998,19.465436919999192],[-99.14307979999997,19.465673749999095],[-99.14310339999996,19.465757489999095],[-99.14318501999998,19.466047109999092],[-99.14368085999988,19.467289419999094],[-99.14410143,19.468476949999097],[-99.14414544999988,19.468581949999095],[-99.14438650999988,19.469210029999097],[-99.14447664999987,19.46945647999919],[-99.14466874999988,19.469972769999096],[-99.14484188999997,19.470397739999196],[-99.14487187999995,19.47047556999919],[-99.14504539999989,19.470963939999095],[-99.14523570999997,19.471439659999096],[-99.14546418,19.472010319999097],[-99.14565128999998,19.472479779999095],[-99.14589427999988,19.473113979999095],[-99.14608714999996,19.473674889999096],[-99.14645644999987,19.474699429999095],[-99.14667961999996,19.475291419999095],[-99.14687861999988,19.475793149999195],[-99.14704877999998,19.476262859999093],[-99.14724224999998,19.476758659999092],[-99.14728227999989,19.476856799999197],[-99.14750202999988,19.477440339999095],[-99.14758611999996,19.477655119999095],[-99.14777361999988,19.478143109999095],[-99.14790204999996,19.478488429999093],[-99.14810959999988,19.479011379999097],[-99.14818534999988,19.479171709999097],[-99.14866053999997,19.480453059999196],[-99.14884302999997,19.480908449999195],[-99.14940565999989,19.482452139999197],[-99.14972011999998,19.483238149999096],[-99.15048324999998,19.485272289999095],[-99.15088925999996,19.486357449999097],[-99.15119761999988,19.487181539999096],[-99.15151327999988,19.488025289999193],[-99.15183682999997,19.488889429999094],[-99.15296381999995,19.491880719999095],[-99.15302067999988,19.492035349999096],[-99.15397663,19.494640799999093],[-99.15418131999988,19.49519870999919],[-99.15571265999988,19.499353289999096],[-99.15637551999995,19.501151569999095],[-99.15657324999997,19.501662709999195],[-99.15694976999995,19.502717249999098],[-99.15718110999988,19.502848889999093],[-99.15770188999988,19.504207369999197],[-99.15775238,19.50433907999909],[-99.15787973999988,19.504671289999095],[-99.15835747999988,19.505917449999092],[-99.15843727999996,19.506125579999097],[-99.15884437999988,19.507187509999092],[-99.15904942999995,19.507722349999195],[-99.15904958,19.507722749999097],[-99.15946048999989,19.508794539999094],[-99.15951114999989,19.508926709999095],[-99.15951122999998,19.50892688999919],[-99.15960954999996,19.509183339999097],[-99.16018834999988,19.510693029999096],[-99.16066608999988,19.511939089999096],[-99.16084133999998,19.512396169999196],[-99.16084708999988,19.512411149999096],[-99.16096385999997,19.51271573999909],[-99.16106897999998,19.51298993999919],[-99.16125673999989,19.513479629999097],[-99.16177504999987,19.514831419999098],[-99.1622344,19.516029489999095],[-99.16230196999996,19.516205709999195],[-99.16248010999998,19.516670279999097],[-99.16288855,19.517735539999094],[-99.16297519999988,19.517961489999095],[-99.16473407999987,19.518992059999096],[-99.16473441999987,19.518992259999195],[-99.16595942999996,19.519710019999092],[-99.16641134999998,19.519974779999096],[-99.16681724999988,19.520212599999095],[-99.16726116999988,19.520472709999098],[-99.16730917999988,19.520500829999097],[-99.16778169,19.520777659999197],[-99.16778345999998,19.520778709999096],[-99.16822967999995,19.521040119999196],[-99.16864824999998,19.521285349999097],[-99.16908776999998,19.521542859999197],[-99.16950390999988,19.521786679999096],[-99.16996265999995,19.522055429999096],[-99.17043868999995,19.522241889999098],[-99.17052067999995,19.5222740199992],[-99.17084748999996,19.522402019999195],[-99.17089063,19.522416319999092],[-99.17137571999989,19.522577059999097],[-99.17180719999998,19.522720049999094],[-99.17182703,19.522726619999197],[-99.17229139999988,19.522880489999096],[-99.172562,19.522970149999097],[-99.17277097,19.523034049999097],[-99.17299945999996,19.523103919999095],[-99.17323539999995,19.523176079999097],[-99.17370545999988,19.523319819999095],[-99.17418229,19.523465619999097],[-99.17431290999998,19.52364021999919],[-99.17438824999986,19.523740939999097],[-99.17463071,19.524065029999093],[-99.17445001999988,19.524256119999094],[-99.17420645,19.5245137099992],[-99.17399374,19.524716539999098],[-99.17376125,19.524938259999093],[-99.17345892,19.525226569999095],[-99.17314253999996,19.525528279999197],[-99.17307139999996,19.525596109999093],[-99.17236116999996,19.526273399999095],[-99.17213993999997,19.526477089999197],[-99.17193784999988,19.526663169999097],[-99.17136727999998,19.527188519999097],[-99.17175730999998,19.527478829999097],[-99.17211501999998,19.52773848999909],[-99.17258984999988,19.528083169999096],[-99.17261021999998,19.528097739999197],[-99.17299151999998,19.528370319999095],[-99.17345368,19.528700719999197],[-99.17383422999988,19.528982629999195],[-99.17437199999988,19.529380979999093],[-99.17526382999988,19.530032019999194],[-99.17536094999998,19.530094619999097],[-99.17552328999987,19.529844509999094],[-99.17576531,19.529471659999096],[-99.17615357999988,19.52887351999909],[-99.17626351999988,19.528929579999197],[-99.17661561999988,19.529109139999193],[-99.17704573999995,19.529328479999094],[-99.17627856999997,19.530642569999095],[-99.17634948999988,19.530716379999095],[-99.17626441999988,19.531048549999095],[-99.17606374999998,19.531831889999093],[-99.17601145999998,19.532036049999192],[-99.17542367999988,19.531977059999093],[-99.17495411999988,19.53187810999909],[-99.17452644999996,19.531711319999197],[-99.17407029,19.531571689999197],[-99.17264994999988,19.530983569999197],[-99.17237269,19.530868749999097],[-99.17233411999987,19.530855479999197],[-99.17191441999996,19.530711029999093],[-99.17147087999996,19.530558379999096],[-99.17042324999989,19.530197829999196],[-99.17038110999988,19.5301833399992],[-99.16997905999987,19.530044949999095],[-99.16986352,19.530005199999195],[-99.16914713999988,19.529758629999098],[-99.16874468999995,19.52962011999919],[-99.16861225999996,19.529574509999097],[-99.16800365999995,19.529364849999094],[-99.16767248999996,19.52925076999909],[-99.16743594999998,19.529185119999095],[-99.16671604999998,19.528985369999095],[-99.16625297999995,19.528856859999195],[-99.16581291999988,19.528734919999096],[-99.16523994999989,19.5285761699992],[-99.16456939999988,19.528390349999096],[-99.16416682999989,19.528278799999196],[-99.16301984999996,19.527963819999098],[-99.16278497999996,19.527899309999096],[-99.16260645999988,19.527850279999097],[-99.16219289,19.527736709999193],[-99.16212282999996,19.527717459999195],[-99.16176634999988,19.52761954999909],[-99.16165814,19.527589829999194],[-99.16115968999998,19.527452939999097],[-99.16103107999996,19.527417619999092],[-99.1607006,19.527326849999195],[-99.16034819999996,19.527230059999095],[-99.15985798,19.527095429999196],[-99.15955764999988,19.527012939999196],[-99.15915864999988,19.526903349999195],[-99.15901434999988,19.527057029999096],[-99.15882913999997,19.527254259999197],[-99.15731553999998,19.527877679999097],[-99.15679811999988,19.528090769999096],[-99.15714539999998,19.528257459999196],[-99.15834108999998,19.528751429999097],[-99.15859872,19.528857859999196],[-99.15851704999989,19.528964219999096],[-99.15843321999988,19.52907334999909],[-99.158309,19.529235089999094],[-99.15740099999988,19.530417379999193],[-99.15737102,19.530456449999093],[-99.15719231,19.530689119999092],[-99.15690742999998,19.53106005999919],[-99.15666261999988,19.531378819999095],[-99.15649431999996,19.531597939999095],[-99.15613196999998,19.532069749999096],[-99.15584724999998,19.532440479999195],[-99.15698357999996,19.533071489999095],[-99.15784411999988,19.5335493399992],[-99.15851347999988,19.533921029999092],[-99.15804497,19.535288999999096],[-99.15793414999987,19.535423849999095],[-99.15791878,19.535442549999093],[-99.15733486,19.5361531499992],[-99.15706553999998,19.536480909999096],[-99.15668762999996,19.536940819999096],[-99.15604534,19.537722419999096],[-99.15531774999988,19.538607829999098],[-99.15464742999988,19.539423519999197],[-99.15410784999987,19.540080139999095],[-99.15395676999997,19.540305769999097],[-99.15394817999996,19.5403185799992],[-99.15357342999988,19.540878259999097],[-99.15333296999988,19.541237369999095],[-99.15325188999998,19.541365779999197],[-99.15323447999997,19.541393349999197],[-99.15293121999996,19.541873629999195],[-99.15264461999998,19.5423275199992],[-99.15239297999987,19.542726019999098],[-99.15225685999997,19.542941619999095],[-99.15209217999995,19.543202419999098],[-99.15207573999996,19.543228449999095],[-99.15207359999988,19.543231829999097],[-99.15196170999998,19.543409029999196],[-99.15163528999987,19.543943879999095],[-99.15142184999988,19.544293619999195],[-99.15121671,19.544629749999196],[-99.15108488999988,19.544845709999095],[-99.15152021999988,19.54505194999919],[-99.15292081999998,19.545715539999097],[-99.15302648999987,19.54576561999909],[-99.15418248999995,19.546313289999095],[-99.15438077,19.546407229999097],[-99.15466773999998,19.546543179999095],[-99.15533257999998,19.546858169999197],[-99.15535441999997,19.546868509999097],[-99.15540227999998,19.546889619999096],[-99.155851,19.54708754999919],[-99.15655454999988,19.547397889999193],[-99.15700051,19.547594599999098],[-99.15757454,19.54784781999909],[-99.15806530999996,19.548064289999196],[-99.15818812,19.548118459999095],[-99.15864578,19.548320319999096],[-99.15854536999989,19.548749139999096],[-99.15852851999988,19.548821089999095],[-99.15925331999988,19.548955519999197],[-99.15938016999988,19.548980249999097],[-99.15934858,19.549088219999195],[-99.15920715,19.549165849999095],[-99.15920828999998,19.549202309999096],[-99.15927202999988,19.549213769999096],[-99.15950848999988,19.549230309999093],[-99.15967767999987,19.549219459999197],[-99.15976457999987,19.549175289999095],[-99.15998927999998,19.5491265099992],[-99.16007499999988,19.549107889999195],[-99.1609,19.549260879999192],[-99.15928191999988,19.551882999999098],[-99.15809201999998,19.553691419999197],[-99.15756896999989,19.555047399999097],[-99.15776050999987,19.555950909999098],[-99.15804703,19.55649287999919],[-99.15809551999996,19.557351339999094],[-99.15614379999988,19.560154449999093],[-99.15423821999998,19.561376059999095],[-99.15333267999988,19.561557549999097],[-99.15280871,19.561964659999095],[-99.15161644999988,19.561378259999096],[-99.15090062999997,19.560520349999095],[-99.14918591999997,19.562012849999096],[-99.14899556999988,19.562374479999196],[-99.14680481999989,19.564635479999097],[-99.14599554999988,19.565901289999193],[-99.1458928,19.567455889999195],[-99.14589048999989,19.567490649999097],[-99.14580737999988,19.568748049999193],[-99.14476045,19.570827369999197],[-99.14366517999996,19.572183769999093],[-99.14345684999988,19.572347079999098],[-99.14038904999988,19.574751629999092],[-99.13956813999988,19.575395049999095],[-99.13914168,19.578467889999196],[-99.13790437999988,19.5811347099992],[-99.13484117999997,19.583908779999195],[-99.13375974999995,19.584888109999195],[-99.13376085,19.586243629999096],[-99.13071030999996,19.587149539999096],[-99.12836263,19.588007199999197],[-99.12699259999988,19.588507689999098],[-99.12370608999998,19.592757279999095],[-99.12214864999996,19.592476449999097],[-99.12078434999988,19.592230419999197],[-99.11964942999997,19.592025749999195],[-99.11946221999987,19.591991979999097],[-99.11788785,19.590592309999096],[-99.11859756999998,19.584461719999094]]],\"type\":\"Polygon\"},\"properties\":{\"_id\":7,\"cve_ent\":9,\"cve_mun\":5,\"cvegeo\":9005,\"g_pnt_2\":\"19.5040652077,-99.1158642087\",\"geo_shp\":\"{\\\"type\\\": \\\"Polygon\\\", \\\"coordinates\\\": [[[-99.11859756999998, 19.584461719999098], [-99.11690613999997, 19.581444599999095], [-99.11466171999987, 19.579796309999196], [-99.11296556999997, 19.57374167999919], [-99.11285594999998, 19.573262629999096], [-99.112\",\"gid\":12,\"id\":6,\"nomgeo\":\"Gustavo A. Madero\"},\"type\":\"Feature\"},{\"geometry\":{\"coordinates\":[[[-99.05813287699998,19.400719584999095],[-99.05813572299988,19.400692153999096],[-99.05793235399987,19.400608707999197],[-99.05761126199998,19.400476968999097],[-99.05630072299986,19.399939261999094],[-99.05611307699988,19.3998622769992],[-99.05557055399998,19.399639676999097],[-99.05496078499998,19.3993894919992],[-99.05490921499988,19.39936595399919],[-99.05490866199987,19.399365691999197],[-99.05392853799997,19.398918307999097],[-99.05379196899996,19.398855630999098],[-99.05331961499998,19.398638830999097],[-99.05290603099988,19.398449014999095],[-99.05257143099998,19.398297399999095],[-99.05245976899988,19.398246814999197],[-99.05186063099995,19.397975337999195],[-99.05139853799987,19.397765953999095],[-99.05131824599988,19.397729584999094],[-99.05087012299998,19.397526522999097],[-99.05065875399998,19.397430753999096],[-99.05050849199988,19.397362661999093],[-99.05011096899987,19.39718058499909],[-99.04963938499998,19.396964584999097],[-99.04924796899988,19.396785291999095],[-99.04915256899989,19.396741599999192],[-99.04884795399988,19.396602061999097],[-99.04845346199988,19.396421368999096],[-99.04815346199996,19.396283953999095],[-99.048009,19.396217784999095],[-99.04778495399988,19.396115153999094],[-99.04739738499988,19.39594049199909],[-99.04703938499988,19.395779153999097],[-99.04686619999988,19.395701107999095],[-99.04631435399988,19.395452399999098],[-99.04578773799987,19.395215076999097],[-99.04567509199988,19.395164307999195],[-99.04525033799987,19.394972876999095],[-99.04472387699995,19.394735614999092],[-99.04459672299998,19.394678307999097],[-99.04447355399998,19.394622799999095],[-99.04432901499987,19.394557061999095],[-99.04390539999996,19.39436435399919],[-99.04348341499995,19.394172399999093],[-99.04325352299998,19.394067830999095],[-99.04306767699988,19.393983291999096],[-99.042698677,19.39381544599919],[-99.04228547699988,19.393627476999097],[-99.04228046199988,19.393625199999097],[-99.04227546199988,19.393622922999096],[-99.04176415399988,19.393390337999197],[-99.04160712299988,19.393318907999095],[-99.04120398499995,19.393133368999095],[-99.04085267699998,19.392971691999097],[-99.04082490799998,19.392958922999096],[-99.04044627699987,19.392784661999094],[-99.04015013799987,19.392648368999097],[-99.04002733799996,19.392591861999193],[-99.03971818499998,19.392449568999197],[-99.03928875399995,19.3922519379992],[-99.03888907699998,19.39206798499909],[-99.03850547699987,19.391891445999093],[-99.03850404599989,19.3918907849992],[-99.03850259999996,19.391890122999097],[-99.03810464599998,19.39170696899909],[-99.03771396899998,19.391527153999192],[-99.03731663099988,19.391344291999097],[-99.03712966199996,19.391258230999192],[-99.03694387699989,19.391172722999094],[-99.03650016899998,19.390968507999094],[-99.036153,19.390808784999095],[-99.035748185,19.390622537999096],[-99.03572369199998,19.390611276999195],[-99.03532015399998,19.390425614999092],[-99.03491127699998,19.390237507999096],[-99.03462701499988,19.390106722999093],[-99.03459004599988,19.390089707999095],[-99.03385266199996,19.389750461999096],[-99.0336314,19.389648661999193],[-99.03345412299988,19.389567091999194],[-99.03306266199998,19.389386984999096],[-99.03288398499988,19.389304784999094],[-99.03266978499988,19.389206230999093],[-99.03227923099988,19.389026537999097],[-99.03189279999997,19.388848737999098],[-99.03148870799996,19.388662814999098],[-99.03141973799988,19.388631076999193],[-99.03104073799987,19.388456707999097],[-99.03080729199988,19.388349291999095],[-99.03066656899988,19.388285937999097],[-99.03028401499988,19.388113707999093],[-99.02995418499998,19.387965199999098],[-99.02986932299989,19.387926999999095],[-99.02948567699998,19.387754261999195],[-99.02907824599998,19.387570830999195],[-99.02907370799988,19.387568784999097],[-99.02906918499995,19.387566737999094],[-99.02869027699998,19.38739615399909],[-99.02829653799988,19.387218876999196],[-99.02792764599998,19.387052784999096],[-99.02766701499988,19.386935430999095],[-99.02747950799989,19.386851014999195],[-99.02704327699988,19.386654599999098],[-99.02666749199987,19.386485399999096],[-99.02630335399998,19.386321445999094],[-99.02624396899988,19.38629470799909],[-99.025884508,19.386132861999094],[-99.02549786199988,19.385958768999195],[-99.02522841499987,19.385837445999098],[-99.024959,19.385716137999196],[-99.02488747699988,19.385683937999097],[-99.02480535399998,19.385646953999096],[-99.02440712299988,19.385467645999096],[-99.024017938,19.38529239999909],[-99.02363370799998,19.3851193999992],[-99.02350178499988,19.385059984999096],[-99.02317455399998,19.384912645999098],[-99.02276346199989,19.384727537999098],[-99.02271441499988,19.384705445999096],[-99.02236467699998,19.384547968999097],[-99.02235224599995,19.384542368999096],[-99.02195764599998,19.384364691999195],[-99.02192763099995,19.384351168999096],[-99.02155247699989,19.384182245999092],[-99.02116693799996,19.384008630999094],[-99.021112031,19.383983907999095],[-99.0207544,19.383822876999098],[-99.02034844599989,19.383640076999097],[-99.02033773799998,19.383634784999096],[-99.020064108,19.383499537999096],[-99.01994947699995,19.383442891999195],[-99.01957204599988,19.383256353999094],[-99.01955189199998,19.383245845999095],[-99.01914630799988,19.383034645999093],[-99.018776754,19.382842184999095],[-99.01871804599988,19.382811614999095],[-99.018328662,19.382608830999096],[-99.01798615399996,19.382430461999196],[-99.01794938499988,19.382411322999097],[-99.01752907699988,19.382192430999098],[-99.01720427699988,19.382023276999096],[-99.01716646199998,19.382003584999197],[-99.01701541499988,19.381924507999095],[-99.01691918499988,19.381874122999093],[-99.01652166199987,19.381665999999193],[-99.01641976899997,19.3816126459992],[-99.016036123,19.381412645999095],[-99.01579184599989,19.381285291999095],[-99.01560556899987,19.381188184999097],[-99.01513226199997,19.380941430999098],[-99.01512221499988,19.380936137999196],[-99.01466147699988,19.380693491999093],[-99.01462003099988,19.380671676999196],[-99.01419063099988,19.380445522999093],[-99.01407438499989,19.380384307999098],[-99.01373819999998,19.380207245999095],[-99.01330976899996,19.379981614999192],[-99.01328447699989,19.379968291999095],[-99.01280939999997,19.3797180919992],[-99.01251773799996,19.379564476999096],[-99.01236312299989,19.3794830459992],[-99.01189033799989,19.379234045999095],[-99.01176689199998,19.379169030999194],[-99.01147307699988,19.379014276999193],[-99.01098270799996,19.378756014999095],[-99.01096909199998,19.3787488459992],[-99.01053339999996,19.378519384999095],[-99.01016470799998,19.378325199999097],[-99.009853338,19.37813904599909],[-99.00962093799996,19.378000122999097],[-99.00957539999987,19.377972891999097],[-99.00945467699988,19.377900722999097],[-99.00944687699987,19.377896061999095],[-99.00932438499989,19.377823091999097],[-99.00927509199988,19.377793737999095],[-99.00922692299996,19.377765045999094],[-99.00922216899988,19.377762230999192],[-99.00913266199989,19.377708907999097],[-99.00897464599988,19.377614799999098],[-99.00877073799988,19.377493353999093],[-99.00865829199998,19.377426368999096],[-99.00855947699988,19.377367522999094],[-99.00844247699987,19.377297830999197],[-99.008017092,19.377044476999096],[-99.00774301499987,19.376881230999096],[-99.00768335399988,19.376845691999197],[-99.00731064599988,19.37662370799919],[-99.00691732299995,19.376389445999095],[-99.00651786199988,19.376151522999095],[-99.00616016899988,19.375938461999095],[-99.00578569199988,19.375715414999195],[-99.00569059999997,19.375658784999096],[-99.00540872299987,19.375490891999092],[-99.00504061499996,19.375271630999094],[-99.00479152299988,19.375123261999097],[-99.00462327699988,19.375023045999097],[-99.00423386199998,19.374791091999096],[-99.00422304599988,19.374784845999095],[-99.00379055399998,19.374535230999097],[-99.00332846199989,19.374268522999095],[-99.00294724599988,19.374048491999197],[-99.00291461499988,19.374029661999096],[-99.00264844599997,19.373876030999096],[-99.00223806199988,19.373639168999095],[-99.00182806199996,19.373402537999095],[-99.00141446199989,19.373163799999094],[-99.00101450799998,19.372932953999197],[-99.000614231,19.372701907999193],[-99.00019656899995,19.372460830999092],[-99.0001574,19.372438230999094],[-99.00008070799998,19.372393968999095],[-98.99979779999988,19.372227353999197],[-98.99945043099989,19.372022753999197],[-98.99939647699988,19.371990984999098],[-98.999012323,19.371764737999097],[-98.99862367699988,19.371535830999097],[-98.99834613799996,19.37137238499919],[-98.99821193799988,19.371293337999095],[-98.99805235399997,19.371199337999094],[-98.99788378499989,19.371100061999098],[-98.99762616899989,19.370948337999195],[-98.99749347699998,19.3708701849992],[-98.99722821499998,19.370713953999093],[-98.99716889199998,19.370679014999197],[-98.99680975399998,19.370467491999097],[-98.99680659999989,19.370465630999092],[-98.99680344599987,19.370463784999096],[-98.99647053799995,19.370267691999096],[-98.99637738499987,19.370212830999098],[-98.99616106199989,19.370085430999097],[-98.996049092,19.370019476999097],[-98.99582492299996,19.369887445999098],[-98.995605862,19.369758414999097],[-98.99560423099987,19.36975744599909],[-98.99560258499996,19.369756476999196],[-98.99533050799988,19.369596230999097],[-98.99513246199987,19.369479584999095],[-98.99488284599988,19.36933256899909],[-98.99471678499998,19.36923475399919],[-98.99459998499997,19.369165953999097],[-98.99428352299996,19.368979568999094],[-98.99428013799997,19.368977568999096],[-98.99427673799988,19.368975568999097],[-98.99395356899998,19.368785214999093],[-98.99387250799997,19.368737476999097],[-98.99361178499996,19.368583907999096],[-98.99344069199996,19.368483122999095],[-98.99324673799998,19.368368891999097],[-98.993048646,19.368252199999095],[-98.99294541499988,19.368191399999095],[-98.99261753799998,19.367998276999096],[-98.99261253799988,19.367995322999196],[-98.99260752299988,19.367992384999095],[-98.99227347699998,19.367795614999096],[-98.99219403099988,19.367748814999093],[-98.991939185,19.367598707999196],[-98.99189393799998,19.367553984999095],[-98.99179998499989,19.367461076999096],[-98.99175538499998,19.367003768999194],[-98.99180696899997,19.366864984999097],[-98.99187013799995,19.366694999999098],[-98.99188364599988,19.3666398309992],[-98.99191781499998,19.366500153999095],[-98.99194772299988,19.366377845999093],[-98.99195798499989,19.366335907999098],[-98.99198652299997,19.366219276999093],[-98.99203703099988,19.366012784999196],[-98.99205473799998,19.36594041499919],[-98.99218458499998,19.36540961499909],[-98.99225139999996,19.365136507999097],[-98.99228669199988,19.364992230999096],[-98.99233913799998,19.364777814999098],[-98.99241835399988,19.364453953999195],[-98.99246667699998,19.364256430999095],[-98.99249733799988,19.364131122999197],[-98.99257630799995,19.363808276999094],[-98.99259575399998,19.363728753999094],[-98.99262544599998,19.3636074149992],[-98.99267747699996,19.363394676999096],[-98.99273916899988,19.363142507999097],[-98.99277321499989,19.363003322999095],[-98.99277679999987,19.362988691999096],[-98.99285864599987,19.362654076999096],[-98.992867769,19.362620045999194],[-98.99290821499989,19.362469230999096],[-98.99292726199997,19.362398261999097],[-98.99297355399987,19.362225676999095],[-98.99302004599996,19.362052322999094],[-98.99311007699998,19.361716645999092],[-98.99314532299996,19.361585276999197],[-98.99338521499998,19.360690876999097],[-98.9934676,19.360383722999096],[-98.99351556899988,19.360293184999097],[-98.99359366199998,19.360145799999195],[-98.99406227699988,19.359261414999196],[-98.99417526199989,19.359048153999098],[-98.99444778499998,19.358846107999092],[-98.99454727699997,19.358566445999095],[-98.99455666199997,19.358141322999096],[-98.99427204599998,19.357851845999196],[-98.99375184599988,19.357379891999095],[-98.99250323099989,19.356332814999092],[-98.99247243099995,19.3563069999992],[-98.99160621499998,19.355580584999096],[-98.991467415,19.355464199999098],[-98.99136193799988,19.355363568999195],[-98.99099235399996,19.355011030999098],[-98.99088609199998,19.35490966199909],[-98.99073086199998,19.354761584999196],[-98.99059359999988,19.354630645999094],[-98.99010644599996,19.354165937999095],[-98.98962504599989,19.353706722999096],[-98.98917575399996,19.35327813799919],[-98.988777,19.352897737999093],[-98.988093308,19.352245537999195],[-98.98761353799988,19.351781768999196],[-98.98758363099988,19.351752861999096],[-98.98717472299997,19.351357599999098],[-98.98603867699988,19.350259461999094],[-98.985868354,19.350094799999095],[-98.98545729199998,19.349697461999096],[-98.985210185,19.34945858499909],[-98.98481735399996,19.349078845999095],[-98.98470438499996,19.3489696459992],[-98.98448503099988,19.348757599999196],[-98.98386161499997,19.34816392299919],[-98.982560354,19.346924737999096],[-98.98238793799996,19.346760537999096],[-98.98222996899987,19.346610107999098],[-98.98149921499996,19.345914199999097],[-98.98127318499988,19.345694937999095],[-98.98066021499989,19.345100322999095],[-98.97986987699989,19.344333630999095],[-98.97963098499996,19.344101891999095],[-98.97950095399987,19.343975753999096],[-98.97919409199989,19.343678061999096],[-98.97902224599989,19.343511353999094],[-98.97899575399995,19.343485661999097],[-98.978793323,19.343289276999094],[-98.97854250799998,19.342992537999095],[-98.97807752299995,19.342442414999095],[-98.97806338499996,19.342425676999095],[-98.977808431,19.342124030999095],[-98.97752732299988,19.341649707999096],[-98.97727752299988,19.341228184999093],[-98.97716207699987,19.341033399999095],[-98.97645635399986,19.339843045999096],[-98.97611250799996,19.339310291999094],[-98.97582463099997,19.338864245999197],[-98.97547967699988,19.338329768999095],[-98.97521552299996,19.338031599999095],[-98.97495972299998,19.337742861999097],[-98.974637,19.337378568999092],[-98.97432515399998,19.337026568999097],[-98.97286895399998,19.335799368999098],[-98.97278818499989,19.335731307999097],[-98.972557538,19.33554707699909],[-98.97163347699988,19.334809045999098],[-98.97055561499998,19.333885707999094],[-98.96837859999988,19.332031307999195],[-98.96810853799995,19.331801261999097],[-98.96802919999998,19.331733676999093],[-98.96767387699998,19.331430999999096],[-98.96727538499988,19.331091553999094],[-98.96720276899998,19.331029707999196],[-98.96691687699987,19.330786153999192],[-98.96677839999988,19.330671184999098],[-98.96651933799988,19.330456061999097],[-98.96606332299996,19.330077414999195],[-98.965448123,19.3295665689992],[-98.965373169,19.329504337999097],[-98.96528686199996,19.329432661999093],[-98.96399667699988,19.328361322999097],[-98.96299462999995,19.327517211999098],[-98.96088076899998,19.325736522999097],[-98.960450877,19.325374368999096],[-98.96044824599988,19.325372153999197],[-98.96096813799988,19.325398768999097],[-98.96618572299997,19.3256633229992],[-98.966351923,19.325671737999095],[-98.96827530799996,19.325722522999097],[-98.968314692,19.325666168999096],[-98.968617769,19.325232522999197],[-98.96896024599988,19.324742522999095],[-98.96904583099987,19.324750722999095],[-98.96930710799988,19.324775784999098],[-98.96986461499988,19.324853753999196],[-98.97039264599988,19.324927599999096],[-98.970792277,19.325182337999095],[-98.97118338499988,19.32543163099909],[-98.97470915399995,19.325667230999095],[-98.97532367699988,19.325643491999095],[-98.9759564,19.324946753999097],[-98.97629244599987,19.3249383999992],[-98.97622818499998,19.324296199999196],[-98.97651650799996,19.324255691999095],[-98.97659050799996,19.324947568999093],[-98.97694181499998,19.325068168999096],[-98.97739738499988,19.325225384999097],[-98.97749386199987,19.324768584999095],[-98.97804561499996,19.324992353999097],[-98.97792659999998,19.325285184999096],[-98.97820309199987,19.325331076999095],[-98.97833027699988,19.324641553999097],[-98.97848704599988,19.324610122999196],[-98.97856030799989,19.323902491999096],[-98.97892778499988,19.323930537999097],[-98.97933936899987,19.323961953999095],[-98.979708,19.324029907999098],[-98.98019444599998,19.324146799999095],[-98.98026436899988,19.324190091999096],[-98.98060733799996,19.32465664599909],[-98.97956743099988,19.325787030999095],[-98.97986823099988,19.326139584999197],[-98.98089259999988,19.326187491999093],[-98.98653470799997,19.326448245999096],[-98.98939318499995,19.326580568999095],[-98.99294030799987,19.326744661999093],[-98.99797144599988,19.326977291999096],[-99.00135430799996,19.327133630999096],[-99.007551031,19.325170891999093],[-99.009449031,19.324569799999196],[-99.01873975399998,19.321627107999095],[-99.02596113799989,19.319338168999096],[-99.02597627699998,19.319333891999097],[-99.03491639999996,19.316803876999195],[-99.03873289199998,19.315725830999195],[-99.03885281499996,19.31564604599909],[-99.03903398499988,19.315415014999097],[-99.03915598499998,19.315227937999197],[-99.03924246199988,19.315095337999196],[-99.03929524599988,19.315014414999094],[-99.03931803099988,19.314979476999095],[-99.03935592299987,19.314934399999096],[-99.03937998499995,19.3149057849992],[-99.03951287699986,19.314747676999197],[-99.039585231,19.314687291999093],[-99.039754938,19.314831307999196],[-99.04010303099987,19.315126691999097],[-99.04044249199988,19.31541473799919],[-99.04074559999997,19.315157384999196],[-99.04170936899996,19.314339107999096],[-99.0417796,19.314416399999097],[-99.04195287699996,19.314215461999098],[-99.04198566199987,19.31417579999909],[-99.042184354,19.313935445999196],[-99.04223101499998,19.313878999999098],[-99.042394662,19.313681030999096],[-99.04252412299998,19.313524414999197],[-99.04260684599988,19.313424337999095],[-99.04264190799988,19.313381937999196],[-99.04278179999989,19.313212691999095],[-99.04280659999988,19.313182707999196],[-99.04302819999997,19.312914630999195],[-99.04326950799997,19.312622707999097],[-99.04350484599988,19.3123379999992],[-99.04361252299998,19.312207737999096],[-99.04459224599998,19.312910522999097],[-99.04467644599995,19.312971076999094],[-99.04483632299998,19.312779461999096],[-99.04483816899987,19.31277726199909],[-99.04493452299988,19.312861322999098],[-99.04526929199989,19.313376876999193],[-99.04542843099988,19.313559107999197],[-99.04561352299996,19.313776845999097],[-99.04565112299996,19.313821076999197],[-99.04570413799988,19.313891476999096],[-99.04581027699996,19.314032445999096],[-99.045934,19.314171645999092],[-99.04613610799998,19.314335322999092],[-99.04631444599988,19.3145245849992],[-99.04661773799997,19.314876491999097],[-99.04668859999995,19.314669045999093],[-99.04812846199997,19.312801168999197],[-99.04886109199995,19.311892184999095],[-99.04886766199988,19.311884014999094],[-99.04938643099996,19.312266537999196],[-99.05030956899998,19.312882722999092],[-99.05031435399998,19.312885691999195],[-99.05042956899987,19.31295716899919],[-99.05088693799988,19.312452599999094],[-99.05205004599998,19.311033661999097],[-99.052263323,19.310760522999093],[-99.05378259999998,19.3118598459992],[-99.05398053799998,19.311621507999092],[-99.053995431,19.311604030999096],[-99.054185277,19.311381261999095],[-99.05420807699988,19.311354491999097],[-99.054447646,19.311080091999095],[-99.05465579999998,19.310843168999092],[-99.05489939999988,19.310538722999095],[-99.05513533799989,19.310257230999095],[-99.05518855399995,19.310193753999197],[-99.05534879999998,19.309994507999097],[-99.055479969,19.309831430999196],[-99.05577064599998,19.309479691999098],[-99.056097492,19.309079830999096],[-99.056202431,19.308950845999092],[-99.05693009199987,19.308056507999197],[-99.05840227699998,19.306255568999095],[-99.05987129199998,19.304440645999097],[-99.06048653799988,19.304690199999097],[-99.06088555399998,19.304858214999097],[-99.06266389199996,19.305440784999092],[-99.06339963099998,19.305684984999097],[-99.06371679999988,19.304776245999197],[-99.06383115399989,19.304452030999094],[-99.06403264599996,19.303878953999096],[-99.06417316899996,19.303480014999096],[-99.06434804599988,19.302963168999096],[-99.06449010799996,19.302549814999196],[-99.06450044599988,19.302520430999095],[-99.06477743099995,19.301643076999092],[-99.064587,19.301086645999092],[-99.06442212299996,19.300604876999092],[-99.06438429199989,19.300512384999095],[-99.06394543099996,19.299480645999196],[-99.06360301499988,19.298673061999093],[-99.06339926199988,19.298401553999096],[-99.06296735399997,19.297826014999096],[-99.06280238499988,19.297606184999097],[-99.06264216899989,19.2973039999992],[-99.06262041499996,19.296991522999097],[-99.062609492,19.296834645999095],[-99.06259449199987,19.296714537999097],[-99.062512108,19.296324414999095],[-99.06245516899996,19.296100261999097],[-99.06240490799988,19.295902430999195],[-99.06235247699998,19.29569579999909],[-99.06234110799988,19.295654784999197],[-99.06212738499988,19.294822153999096],[-99.06197759999998,19.294424953999197],[-99.06171915399987,19.294219568999196],[-99.06156204599988,19.294092245999096],[-99.06160130799996,19.293556014999098],[-99.06161784599998,19.293069568999098],[-99.06163166199995,19.292663107999097],[-99.06168390799988,19.292563876999196],[-99.06172361499988,19.292519614999197],[-99.06209613799987,19.292104399999097],[-99.06250632299997,19.291647137999096],[-99.06282370799988,19.291294707999096],[-99.06306764599996,19.291042245999197],[-99.06338643099998,19.29071236899919],[-99.06343304599989,19.290664122999196],[-99.06353726199995,19.290557630999196],[-99.063736754,19.290353768999097],[-99.06416456899989,19.289919445999097],[-99.06427266199996,19.289809691999196],[-99.06439383099988,19.289687461999097],[-99.06473061499996,19.289347661999095],[-99.06494841499988,19.289127937999098],[-99.06501483099996,19.289060937999096],[-99.06535518499996,19.288717537999197],[-99.06552130799996,19.288551999999097],[-99.0656972,19.288376845999096],[-99.06575836899997,19.288315937999094],[-99.06596304599996,19.288112107999194],[-99.06603026199996,19.288045630999097],[-99.06619379999988,19.287883876999192],[-99.06636587699988,19.287713661999092],[-99.06671075399998,19.287372522999096],[-99.06702021499989,19.287066414999096],[-99.06705770799988,19.287029337999098],[-99.067201846,19.2868813849992],[-99.06737629199988,19.286702322999098],[-99.06757150799989,19.286501922999197],[-99.06777478499998,19.286291030999095],[-99.06793404599988,19.286125737999097],[-99.06808915399988,19.285964768999097],[-99.06811895399989,19.285934030999098],[-99.068298231,19.285726122999197],[-99.06847716899988,19.285518568999095],[-99.06856075399998,19.285421645999097],[-99.06864201499998,19.285328399999095],[-99.06882061499988,19.285123507999096],[-99.068966754,19.284955845999196],[-99.069152923,19.285085737999097],[-99.069879923,19.285734737999096],[-99.07137579999988,19.287070091999095],[-99.07218519999998,19.287818261999092],[-99.07235647699996,19.287948168999097],[-99.07407406199998,19.289098984999097],[-99.074487262,19.289371830999094],[-99.07494110799988,19.289698137999096],[-99.07524587699996,19.290079276999197],[-99.07590998499988,19.290986168999098],[-99.07722570799989,19.292848691999197],[-99.07731527699998,19.292962907999193],[-99.077719723,19.293227968999098],[-99.07802295399988,19.293474014999095],[-99.07865930799989,19.294213137999098],[-99.07897064599987,19.294588507999094],[-99.079206385,19.294868137999096],[-99.079694,19.29545384599909],[-99.07997129199998,19.295767799999197],[-99.08037112299988,19.296237184999097],[-99.08231807699995,19.298583199999097],[-99.08316821499989,19.299652322999098],[-99.08337204599998,19.300078876999095],[-99.08359064599988,19.300409553999096],[-99.08384430799995,19.300723861999096],[-99.08411273799996,19.301039968999095],[-99.08435816899996,19.301366999999097],[-99.08458518499998,19.301662907999095],[-99.08485678499989,19.301980968999096],[-99.08513335399986,19.302269753999095],[-99.08538376899998,19.302591322999092],[-99.085624769,19.302888737999098],[-99.08587527699989,19.303190845999197],[-99.08615792299996,19.303504430999094],[-99.08629183099995,19.303604230999195],[-99.08671830799987,19.30379538499909],[-99.08718538499988,19.304149661999094],[-99.08719836899988,19.304165645999195],[-99.08746558499988,19.304483691999195],[-99.08765887699995,19.304681861999196],[-99.08793553799988,19.305324861999196],[-99.08814476899988,19.305572999999093],[-99.08839044599988,19.305904876999097],[-99.08844343099996,19.305955091999095],[-99.08861519999998,19.306152876999096],[-99.089020954,19.306563661999096],[-99.08923255399998,19.306857584999097],[-99.08948686199987,19.307140968999093],[-99.08960130799989,19.307398614999094],[-99.08977170799989,19.307627814999098],[-99.08987707699995,19.307727661999195],[-99.09029243099997,19.308129491999097],[-99.09036484599989,19.308226584999097],[-99.090534969,19.308443968999097],[-99.09081430799988,19.308770599999193],[-99.09141930799989,19.309567153999097],[-99.09173563099988,19.309986568999197],[-99.09179383099998,19.310052122999096],[-99.09192695399996,19.310211476999196],[-99.09224987699996,19.310584630999095],[-99.09234896899989,19.310679814999094],[-99.09261903099996,19.310988476999096],[-99.092727908,19.311122784999196],[-99.09283430799996,19.311262845999096],[-99.09318290799987,19.311702214999094],[-99.09322361499989,19.311757199999096],[-99.09357298499997,19.312204461999094],[-99.09393523099996,19.312668214999096],[-99.09408895399996,19.312868245999095],[-99.09426539999998,19.312771522999096],[-99.094964969,19.3136913229992],[-99.09585052299998,19.314815014999095],[-99.09675686199988,19.315988445999196],[-99.09744041499988,19.316826430999097],[-99.09771010799987,19.317172968999095],[-99.09823803099988,19.317959737999097],[-99.09844261499988,19.318272661999096],[-99.09864655399998,19.318590199999196],[-99.09868547699988,19.318674414999094],[-99.09870973799995,19.318794922999093],[-99.09864533799995,19.31895755399919],[-99.09848873799989,19.319038076999092],[-99.098696492,19.319641414999097],[-99.098800662,19.320448153999195],[-99.09905918499996,19.320441907999196],[-99.09907626199998,19.320441491999095],[-99.09907684599987,19.320444107999197],[-99.09912455399989,19.320657153999196],[-99.09920703099998,19.320917014999196],[-99.099242077,19.32098729199919],[-99.099298415,19.321100261999195],[-99.09953613799988,19.321399691999098],[-99.09995387699988,19.321919630999098],[-99.10040641499988,19.322404368999095],[-99.10068443099998,19.322682737999095],[-99.10084270799987,19.322839337999095],[-99.10104750799998,19.322988522999097],[-99.10116956899998,19.323077445999196],[-99.10141790799996,19.323239245999098],[-99.10170204599989,19.323424384999196],[-99.10206649199988,19.323640953999092],[-99.10239970799988,19.323838968999095],[-99.102781538,19.32405512299919],[-99.10345821499996,19.32441623099909],[-99.103820662,19.324586922999096],[-99.10398713799998,19.324673384999095],[-99.10418618499988,19.324810507999096],[-99.10433627699996,19.324937953999193],[-99.10489126199997,19.325480722999195],[-99.10510152299996,19.325686368999097],[-99.105206369,19.325788907999097],[-99.10542843099988,19.326006061999095],[-99.105545831,19.326120891999196],[-99.105729323,19.326300337999196],[-99.10577015399996,19.326350799999197],[-99.10604632299996,19.326692199999098],[-99.10654433799998,19.32720458499919],[-99.10707015399996,19.3277455689992],[-99.10758853799987,19.328286784999097],[-99.10792921499988,19.328726337999097],[-99.108011923,19.328854599999097],[-99.10833593799998,19.329357061999097],[-99.10862126199996,19.329799537999097],[-99.10894496899998,19.330301522999196],[-99.10913969199996,19.330608122999095],[-99.109305062,19.330868476999097],[-99.10962973799997,19.331313968999098],[-99.10972110799996,19.331466661999094],[-99.10981803099996,19.331731784999096],[-99.10998159999995,19.332296291999093],[-99.10999673799986,19.3323352619992],[-99.11009230799998,19.332581461999094],[-99.11016755399996,19.332696461999095],[-99.11032336899996,19.332879661999097],[-99.11043038499996,19.332963276999095],[-99.110538246,19.333047553999197],[-99.11058964599988,19.333076537999094],[-99.11126927699988,19.333424876999096],[-99.11161824599998,19.333667014999097],[-99.11193055399995,19.333963337999094],[-99.11215849199998,19.334218261999094],[-99.11243926199988,19.334634399999096],[-99.11293458499988,19.335368491999095],[-99.11296358499996,19.335429322999097],[-99.11302233799988,19.335558584999095],[-99.11321532299988,19.335977261999098],[-99.11359669199996,19.336647999999094],[-99.11376392299996,19.33692401499909],[-99.11390744599998,19.337336168999094],[-99.11395678499998,19.337637137999096],[-99.11402039999996,19.337959737999096],[-99.11403859999989,19.338136261999097],[-99.11406844599998,19.338249707999097],[-99.11413566199997,19.338637491999098],[-99.11417763099988,19.338969553999195],[-99.11418256899998,19.3390145379992],[-99.11421590799988,19.339229784999095],[-99.11431181499988,19.33983092299909],[-99.11434483099998,19.340071553999195],[-99.11439675399996,19.340420522999096],[-99.11443221499998,19.340585261999095],[-99.11444706199995,19.340678614999096],[-99.11447549199988,19.340790491999098],[-99.11454875399988,19.340970553999092],[-99.11495276899996,19.341872245999095],[-99.11511507699996,19.34223447699919],[-99.11516333799987,19.342333076999097],[-99.11530719999998,19.34266616899909],[-99.11557153799995,19.343264122999095],[-99.1156582,19.343432768999097],[-99.11573139999987,19.343532430999097],[-99.11573141499998,19.343532461999196],[-99.115874692,19.343705522999095],[-99.11608207699996,19.343963799999095],[-99.11621890799988,19.34411601499909],[-99.11640453799995,19.344394045999096],[-99.11705170799998,19.345555876999097],[-99.11706686199987,19.345583707999097],[-99.11726056899988,19.345944553999097],[-99.11739218499996,19.346189353999097],[-99.11806118499996,19.347351430999097],[-99.11823159999987,19.347608399999196],[-99.11890421499996,19.348622614999197],[-99.11945724599995,19.349456491999195],[-99.11954678499988,19.349591476999095],[-99.11956006199988,19.349614861999097],[-99.11982413799996,19.349992537999093],[-99.12014641499997,19.350427845999192],[-99.120242062,19.350561261999097],[-99.12036090799988,19.350845491999195],[-99.12048907699987,19.351151999999196],[-99.12077736899988,19.351841476999095],[-99.12093143099996,19.352315061999196],[-99.12126186199998,19.353340153999092],[-99.12145358499995,19.353920061999197],[-99.12158856899995,19.354636368999095],[-99.12189041499988,19.356976491999095],[-99.12197970799998,19.357661630999093],[-99.12197973799988,19.357661922999096],[-99.12199738499996,19.357663830999098],[-99.12247733799988,19.357715968999095],[-99.12362098499987,19.357840199999096],[-99.12378569199988,19.3578580919992],[-99.12462404599988,19.357949153999098],[-99.12511461499996,19.358002430999193],[-99.12561378499996,19.358056645999092],[-99.12586593799988,19.358084030999095],[-99.12611339999997,19.3581109079992],[-99.12628764599997,19.358129568999093],[-99.12658296899998,19.358161845999096],[-99.12673384599998,19.358178276999094],[-99.127088723,19.358216830999098],[-99.12717063099988,19.358225722999094],[-99.12770849199988,19.358284122999095],[-99.12776735399996,19.358290522999095],[-99.12827709199988,19.358345876999095],[-99.12839761499995,19.3583595689992],[-99.12869504599988,19.35839126199919],[-99.12893024599995,19.358417153999095],[-99.12909773799996,19.358434984999096],[-99.12938604599998,19.358466291999196],[-99.12952633799988,19.358481522999092],[-99.12985812299988,19.358517553999093],[-99.13014239999995,19.358548414999195],[-99.13032807699987,19.358568584999094],[-99.13086978499987,19.358627399999097],[-99.13117790799996,19.358660861999095],[-99.131360969,19.358375691999196],[-99.13142410799998,19.358260122999095],[-99.13176296899996,19.357716707999096],[-99.13191324599988,19.357520014999093],[-99.13212703099995,19.357301091999197],[-99.13228743099988,19.357176768999093],[-99.13236926199988,19.357119830999096],[-99.13250224599987,19.357033922999197],[-99.13269107699988,19.356917691999097],[-99.13291486199986,19.356801030999097],[-99.13307430799988,19.356736076999095],[-99.13348816899996,19.356588091999097],[-99.13367423099996,19.356551937999097],[-99.13397046199997,19.356533707999095],[-99.13427049199996,19.356540691999196],[-99.13439652299988,19.35654655399909],[-99.13455978499996,19.356563630999094],[-99.13474721499988,19.356569230999096],[-99.13503141499989,19.356589091999098],[-99.13552421499998,19.356623122999196],[-99.13591521499988,19.356646368999098],[-99.13625383099998,19.356674784999196],[-99.13657430799998,19.356694614999096],[-99.13693710799996,19.356717276999095],[-99.13727873799998,19.356742830999195],[-99.13772164599996,19.356768445999197],[-99.139231877,19.356865291999195],[-99.13983599999987,19.356917599999097],[-99.13988873799995,19.357140014999096],[-99.13989383099988,19.357369599999092],[-99.13965633799988,19.358353599999095],[-99.13939998499988,19.359536784999097],[-99.139188,19.360485845999197],[-99.13904026199997,19.361125953999096],[-99.13890378499995,19.3618077999992],[-99.13876698499988,19.362460722999096],[-99.13863764599988,19.363080630999093],[-99.13851929199988,19.363630922999192],[-99.13838247699988,19.364287507999094],[-99.13822547699998,19.364911276999095],[-99.13807890799988,19.365503014999195],[-99.13795029199996,19.366091353999096],[-99.137829631,19.3667041999992],[-99.13773856899988,19.367211430999095],[-99.13755736899998,19.3680127379992],[-99.13741781499998,19.368619999999197],[-99.13717746199988,19.369616491999096],[-99.13693092299998,19.370790384999193],[-99.13672633799987,19.371626599999196],[-99.13645350799996,19.37287173799909],[-99.13622903099998,19.373846661999096],[-99.13600016899989,19.374871630999195],[-99.135939046,19.375229522999096],[-99.13579844599998,19.375871291999196],[-99.13573047699998,19.3761915849992],[-99.13548772299995,19.377186984999092],[-99.13542469199987,19.377306245999193],[-99.13503095399987,19.377400522999196],[-99.13415139999988,19.37748046199909],[-99.13385046199988,19.377448337999095],[-99.13333143099996,19.377396784999096],[-99.13287916899998,19.377349722999092],[-99.13244846199989,19.3773029539992],[-99.13200721499996,19.377256199999096],[-99.13154984599996,19.377215245999096],[-99.13140247699988,19.377202768999197],[-99.13106998499988,19.377169491999197],[-99.13084139999988,19.377139753999096],[-99.13056878499998,19.377114676999195],[-99.13019843099988,19.377077968999096],[-99.13008173799987,19.377067507999097],[-99.12969986199988,19.3770291379992],[-99.12958050799988,19.376998107999196],[-99.12953830799988,19.376993137999097],[-99.12947758499998,19.376975661999097],[-99.12910507699988,19.376905630999097],[-99.12841352299988,19.376784937999197],[-99.128363,19.376774214999095],[-99.12827864599988,19.376758568999197],[-99.12782466199997,19.376673784999095],[-99.127615985,19.376634353999098],[-99.12744813799998,19.376598368999197],[-99.12732372299998,19.376579568999095],[-99.12724096899989,19.376567661999196],[-99.12680136899988,19.3764980309992],[-99.12666144599989,19.37647215399919],[-99.12644470799988,19.376422614999097],[-99.12639001499996,19.376411368999097],[-99.12616889199988,19.376379968999096],[-99.12597350799987,19.376341861999197],[-99.12589266199988,19.376328399999096],[-99.12543463099988,19.376260707999197],[-99.12526669199995,19.376231937999098],[-99.12501750799996,19.376190891999197],[-99.12457970799989,19.3760963079992],[-99.12440779999996,19.376055137999092],[-99.12409433799988,19.375999876999096],[-99.12398121499989,19.375976707999097],[-99.12355424599998,19.375900322999097],[-99.123169708,19.37583678499919],[-99.12266369199988,19.375737968999097],[-99.12253392299998,19.375699507999094],[-99.12256598499988,19.377720261999094],[-99.12258915399998,19.378906707999093],[-99.12257647699988,19.380107676999096],[-99.12259299999988,19.380274661999092],[-99.12256263099988,19.381311999999095],[-99.12255719999987,19.381497937999196],[-99.122476508,19.382440691999097],[-99.12112659999998,19.382348153999093],[-99.12085166199988,19.382329691999097],[-99.12055387699988,19.38231567699909],[-99.12038790799988,19.382309507999096],[-99.12011415399988,19.382294599999096],[-99.11978603099998,19.382278353999197],[-99.11936626199996,19.382253107999095],[-99.11908258499987,19.382239953999093],[-99.11880344599996,19.382225784999193],[-99.11843079999989,19.382199245999097],[-99.118173954,19.382182076999097],[-99.11808890799988,19.38217616899909],[-99.11793029199995,19.382168430999094],[-99.11782441499996,19.382163614999097],[-99.11778304599989,19.382161045999194],[-99.11771455399996,19.382160691999097],[-99.11766301499988,19.382157599999097],[-99.11756589199996,19.382152630999197],[-99.11736889199987,19.382146368999095],[-99.117196246,19.382137753999096],[-99.11702873799996,19.382128337999095],[-99.11692115399988,19.382122337999096],[-99.11676893799988,19.382105722999096],[-99.116670954,19.382092691999095],[-99.11647521499998,19.382080814999096],[-99.11631984599988,19.382064737999094],[-99.11614186199988,19.38205224599919],[-99.11601835399988,19.382036722999096],[-99.11583538499995,19.382017030999094],[-99.11572969199987,19.381999522999095],[-99.11558910799988,19.381975291999098],[-99.11541101499988,19.381962399999097],[-99.11530690799998,19.381953137999098],[-99.11512716899988,19.381932876999095],[-99.11504107699989,19.381918661999094],[-99.11480515399988,19.381893445999097],[-99.11473952299995,19.381884245999093],[-99.11446476899988,19.381836199999096],[-99.11440466199998,19.381827722999095],[-99.1140968,19.381782537999097],[-99.11391516899988,19.381754937999094],[-99.11376024599998,19.381731153999095],[-99.11356606199988,19.381709491999093],[-99.11337947699997,19.381694045999197],[-99.11311447699988,19.381679522999196],[-99.11305775399988,19.381678414999097],[-99.11283259999998,19.381671768999094],[-99.11272052299988,19.381658691999096],[-99.11259870799996,19.381641737999093],[-99.11238078499998,19.381609584999097],[-99.11220981499996,19.38157915399919],[-99.11204633799998,19.381555384999192],[-99.11195964599987,19.381543537999097],[-99.11173026199998,19.381509522999092],[-99.11156038499988,19.381482584999095],[-99.11133401499988,19.381441676999096],[-99.11112318499988,19.381400522999098],[-99.11093601499988,19.3813559229992],[-99.11058278499998,19.381314507999097],[-99.11055644599998,19.381311537999096],[-99.11052609199996,19.381309030999095],[-99.11045893799998,19.381301999999092],[-99.11041538499988,19.381295461999095],[-99.11038686199998,19.381292799999095],[-99.10943575399988,19.38117901499909],[-99.10939807699998,19.381173137999195],[-99.10918378499996,19.381148814999193],[-99.10892919999998,19.38111993799909],[-99.10875375399988,19.381096122999093],[-99.10856935399988,19.381070461999094],[-99.10852239999998,19.381067184999097],[-99.10800567699988,19.381001630999094],[-99.10767139999987,19.380962153999093],[-99.10743372299996,19.380940876999095],[-99.10736236899996,19.38092632299909],[-99.10731473799996,19.380921276999096],[-99.10720070799988,19.380909707999095],[-99.10703846199998,19.380893230999096],[-99.10692870799988,19.380882461999196],[-99.10685358499998,19.380875261999098],[-99.10674527699987,19.380864276999095],[-99.10655864599988,19.380856045999195],[-99.10630030799987,19.380862368999097],[-99.10608935399988,19.380848291999097],[-99.10593773799998,19.380831214999095],[-99.105724523,19.380809737999098],[-99.10566672299989,19.380809768999196],[-99.10540278499997,19.380775599999193],[-99.10510706199987,19.380737922999096],[-99.10475404599995,19.380690076999095],[-99.10426524599988,19.38062743099909],[-99.10375533799996,19.380557184999095],[-99.10336952299996,19.380510137999096],[-99.10301784599989,19.380447384999098],[-99.10125043099995,19.380239584999092],[-99.10114424599998,19.380242076999195],[-99.10109153799998,19.380243322999195],[-99.10079372299998,19.380232014999095],[-99.09951323099988,19.380087937999097],[-99.09913581499988,19.380045230999094],[-99.09872001499996,19.379998676999097],[-99.09831409199988,19.379953599999094],[-99.09796746199996,19.379909722999095],[-99.09761423099997,19.37986859999919],[-99.09728786199996,19.379835122999193],[-99.09702050799989,19.379810122999096],[-99.09666352299988,19.379780645999094],[-99.09630056899988,19.379753076999098],[-99.09598618499996,19.379740553999095],[-99.09564764599996,19.379598876999097],[-99.09526235399989,19.380198507999097],[-99.09507306199998,19.380493107999097],[-99.094882,19.380790445999097],[-99.09482690799987,19.380876184999096],[-99.09471238499998,19.381054414999095],[-99.09455673799988,19.381296645999193],[-99.09435323099996,19.381613353999096],[-99.093911292,19.382301122999095],[-99.09353398499997,19.382888307999096],[-99.09324501499997,19.383338030999095],[-99.093145108,19.383493491999097],[-99.09297924599998,19.383728999999196],[-99.09289743099998,19.383904845999098],[-99.09284595399996,19.384053276999097],[-99.092317092,19.384862137999193],[-99.09223753799988,19.3849998149992],[-99.09189435399998,19.385540291999096],[-99.09155718499989,19.386070891999196],[-99.09116643099998,19.386702261999098],[-99.09093833799987,19.3870554769992],[-99.09073809199997,19.387365799999095],[-99.09054819999989,19.387652784999094],[-99.09047786199989,19.387759076999096],[-99.09038829199989,19.387899122999197],[-99.09021690799987,19.388173553999092],[-99.08986696899996,19.388715430999095],[-99.08967823099988,19.388998845999097],[-99.08950343099995,19.389266830999095],[-99.08932633799998,19.389554584999093],[-99.08913521499989,19.389857876999095],[-99.08899559999998,19.390079199999093],[-99.08880136899988,19.390382307999097],[-99.08824295399988,19.390286968999096],[-99.08786023099996,19.390237014999094],[-99.08749226199996,19.390184430999096],[-99.08712684599998,19.390129922999197],[-99.08686398499997,19.390091876999097],[-99.086767492,19.3900723999992],[-99.08665795399996,19.390063122999095],[-99.08657047699988,19.390057368999095],[-99.086526538,19.390152091999095],[-99.08637436899988,19.390102830999098],[-99.08490701499989,19.389670476999097],[-99.08458373799998,19.389475276999097],[-99.08452539999988,19.389928337999095],[-99.08438443099998,19.390635061999195],[-99.08432421499997,19.390959876999094],[-99.08430523099996,19.391075861999095],[-99.084229292,19.391467861999097],[-99.08414313799987,19.391900276999095],[-99.08403213799988,19.392496153999097],[-99.08401798499987,19.392572153999197],[-99.08364827699997,19.392474414999096],[-99.08358290799998,19.392427753999097],[-99.083208185,19.392246291999097],[-99.08313963099988,19.392215984999197],[-99.08279907699988,19.392030276999098],[-99.08243969199997,19.391833537999197],[-99.08237513799996,19.391798968999097],[-99.08211276899998,19.391657122999195],[-99.081913677,19.391559414999197],[-99.08177543099995,19.391499953999094],[-99.08142870799998,19.391318799999095],[-99.081367646,19.391291337999096],[-99.08105201499995,19.3911148919992],[-99.08091296899988,19.391048537999097],[-99.08069259999998,19.390933645999095],[-99.08044819999998,19.390815937999097],[-99.08037230799988,19.390776168999093],[-99.07994086199987,19.390532399999092],[-99.07938699999988,19.390247291999096],[-99.079361723,19.390231230999095],[-99.07885978499988,19.389975937999193],[-99.07881143099998,19.389948430999095],[-99.07835458499989,19.389726691999197],[-99.07785299999988,19.389454861999095],[-99.07726215399995,19.389142953999094],[-99.07675815399988,19.388899445999098],[-99.07631764599986,19.388683630999093],[-99.07589339999998,19.388469753999097],[-99.07484253799998,19.387897353999197],[-99.07432966199998,19.387637168999092],[-99.07391050799995,19.387431476999197],[-99.07348924599988,19.387211661999096],[-99.07301446199988,19.386955491999096],[-99.07252503099988,19.386724230999196],[-99.07212715399996,19.386513599999095],[-99.07173516899996,19.386327214999096],[-99.07137721499996,19.386142399999095],[-99.07092204599998,19.385882722999195],[-99.07072638499989,19.385777676999197],[-99.07044409199987,19.385625599999095],[-99.06994929199998,19.385376491999097],[-99.06947801499987,19.385130999999095],[-99.06895561499988,19.384863061999095],[-99.06760555399995,19.384172261999097],[-99.0667346,19.383716784999095],[-99.06636556899996,19.383537107999096],[-99.06583543099995,19.383460522999098],[-99.06499763099995,19.383306599999095],[-99.064126446,19.383142984999196],[-99.06365959999988,19.383072491999098],[-99.06324850799996,19.382996061999098],[-99.062392062,19.382850461999094],[-99.06152633799998,19.382696476999193],[-99.06084839999988,19.382588322999197],[-99.06083147699998,19.38313506199909],[-99.06080010799998,19.383316799999196],[-99.06078232299988,19.383510568999196],[-99.060644354,19.384338799999092],[-99.06051010799987,19.385251153999093],[-99.06042789199988,19.385721461999097],[-99.06037016899988,19.386064861999195],[-99.06034950799987,19.386157445999096],[-99.06025150799996,19.386735061999197],[-99.06020749199988,19.387047061999095],[-99.06016629199988,19.387326891999095],[-99.06004276899988,19.387984737999197],[-99.05999032299997,19.388291661999094],[-99.05979696899998,19.38964993799919],[-99.05971315399997,19.390008107999197],[-99.05959790799989,19.390696476999093],[-99.05952949199995,19.391211122999092],[-99.05949347699998,19.391388861999097],[-99.05944603099988,19.391655107999096],[-99.059417877,19.391889199999095],[-99.05935152299998,19.392286076999195],[-99.05923246199988,19.393027399999095],[-99.05918803099988,19.393252107999196],[-99.05915926199998,19.393370153999093],[-99.05908644599997,19.393761614999093],[-99.05897693799989,19.394254614999095],[-99.058976031,19.394536984999093],[-99.05892687699998,19.395092414999095],[-99.05882378499996,19.395705507999097],[-99.05877427699988,19.396116061999095],[-99.05866256899998,19.397141676999095],[-99.05855798499988,19.39822415399909],[-99.05855838499998,19.398293676999096],[-99.05851224599988,19.398612368999096],[-99.05837384599988,19.399776568999098],[-99.05835396899988,19.399956014999095],[-99.058317985,19.400281214999097],[-99.05826756899988,19.400735845999098],[-99.05813287699998,19.400719584999095]]],\"type\":\"Polygon\"},\"properties\":{\"_id\":8,\"cve_ent\":9,\"cve_mun\":7,\"cvegeo\":9007,\"g_pnt_2\":\"19.3491663204,-99.0567989642\",\"geo_shp\":\"{\\\"type\\\": \\\"Polygon\\\", \\\"coordinates\\\": [[[-99.05813287699998, 19.400719584999095], [-99.05813572299989, 19.400692153999096], [-99.05793235399989, 19.400608707999197], [-99.05761126199998, 19.400476968999097], [-99.05630072299986, 19.399939261999094], [-99.05\",\"gid\":15,\"id\":7,\"nomgeo\":\"Iztapalapa\"},\"type\":\"Feature\"},{\"geometry\":{\"coordinates\":[[[-99.18230696999989,19.507479249999097],[-99.18229079999998,19.507469799999097],[-99.18191573999997,19.507489819999197],[-99.17749899999988,19.506314309999095],[-99.17741184999988,19.506291109999097],[-99.17736854,19.506279569999094],[-99.17705041999989,19.506194909999095],[-99.17673779999988,19.506420419999095],[-99.17662448999988,19.506502169999095],[-99.17607188999987,19.506900799999197],[-99.17602568999988,19.506948859999095],[-99.17553809,19.507456019999196],[-99.17540276999988,19.507484829999193],[-99.17536477999988,19.50749291999909],[-99.17518411,19.507531399999195],[-99.17487522999988,19.507597179999095],[-99.17404045999989,19.507949999999095],[-99.17371256999988,19.508161849999095],[-99.17366561999988,19.508192179999096],[-99.17356522999988,19.50825704999909],[-99.17304284999987,19.508586709999097],[-99.17259936999989,19.508426549999093],[-99.17160421999988,19.508067139999095],[-99.17129176999998,19.507954309999096],[-99.17087818,19.507804939999097],[-99.17041391999996,19.507637259999097],[-99.16995597,19.507405829999097],[-99.16953464999987,19.507192919999095],[-99.16914328999997,19.50699513999909],[-99.16910931999988,19.506977969999095],[-99.16880001999998,19.506821659999193],[-99.16868904999988,19.506765579999097],[-99.16737071999997,19.506214679999097],[-99.16731328999998,19.506190659999195],[-99.16707814999997,19.506092419999195],[-99.16631628999988,19.505828679999095],[-99.16585546,19.505669149999193],[-99.16537661999988,19.505503399999196],[-99.16494049,19.505352429999196],[-99.16441093999995,19.505169119999096],[-99.16393776999988,19.505005319999196],[-99.16345597999998,19.504851569999097],[-99.16299013999998,19.504702889999095],[-99.16289764999998,19.504673379999197],[-99.16255898,19.504565289999196],[-99.16206765999998,19.504408489999093],[-99.16161728999997,19.504264769999192],[-99.16113782999996,19.504111739999196],[-99.16069667999987,19.503970949999196],[-99.15718110999988,19.502848889999093],[-99.15694976999995,19.502717249999098],[-99.15657324999997,19.501662709999195],[-99.15637551999995,19.501151569999095],[-99.15571265999988,19.499353289999096],[-99.15418131999988,19.49519870999919],[-99.15397663,19.494640799999093],[-99.15302067999988,19.492035349999096],[-99.15296381999995,19.491880719999095],[-99.15183682999997,19.488889429999094],[-99.15151327999988,19.488025289999193],[-99.15119761999988,19.487181539999096],[-99.15088925999996,19.486357449999097],[-99.15048324999998,19.485272289999095],[-99.14972011999998,19.483238149999096],[-99.14940565999989,19.482452139999197],[-99.14884302999997,19.480908449999195],[-99.14866053999997,19.480453059999196],[-99.14818534999988,19.479171709999097],[-99.14810959999988,19.479011379999097],[-99.14790204999996,19.478488429999093],[-99.14777361999988,19.478143109999095],[-99.14758611999996,19.477655119999095],[-99.14750202999988,19.477440339999095],[-99.14728227999989,19.476856799999197],[-99.14724224999998,19.476758659999092],[-99.14704877999998,19.476262859999093],[-99.14687861999988,19.475793149999195],[-99.14667961999996,19.475291419999095],[-99.14645644999987,19.474699429999095],[-99.14608714999996,19.473674889999096],[-99.14589427999988,19.473113979999095],[-99.14565128999998,19.472479779999095],[-99.14546418,19.472010319999097],[-99.14523570999997,19.471439659999096],[-99.14504539999989,19.470963939999095],[-99.14487187999995,19.47047556999919],[-99.14484188999997,19.470397739999196],[-99.14466874999988,19.469972769999096],[-99.14447664999987,19.46945647999919],[-99.14438650999988,19.469210029999097],[-99.14414544999988,19.468581949999095],[-99.14410143,19.468476949999097],[-99.14368085999988,19.467289419999094],[-99.14318501999998,19.466047109999092],[-99.14310339999996,19.465757489999095],[-99.14307979999997,19.465673749999095],[-99.14305467999998,19.465436919999192],[-99.14311811999988,19.465062689999098],[-99.14524474999988,19.464315689999097],[-99.14580454999997,19.464154849999197],[-99.14630967999987,19.46400968999909],[-99.14661574999998,19.463921739999098],[-99.14682917,19.463860419999097],[-99.14730637999996,19.463723279999098],[-99.14773533999988,19.463596339999096],[-99.14803681999987,19.463507119999097],[-99.14832573999988,19.463437049999097],[-99.14873622999988,19.463337479999197],[-99.15002824999998,19.46301691999909],[-99.150314,19.462960119999096],[-99.15055404999998,19.462940429999097],[-99.15082802999989,19.462948289999098],[-99.15168747999986,19.463053449999197],[-99.15236654999988,19.463140089999097],[-99.15287977,19.463202649999097],[-99.15322277999996,19.463242229999196],[-99.15347219999988,19.463270999999196],[-99.15362125999997,19.463302679999096],[-99.15454996999988,19.463478819999096],[-99.15499414,19.463567399999196],[-99.15568405999988,19.463696549999092],[-99.15608519999988,19.4637913499992],[-99.15652817999988,19.463904459999096],[-99.15708018,19.464014939999096],[-99.15731128999988,19.464054649999095],[-99.15757734,19.464082079999095],[-99.15793969,19.464080229999094],[-99.15824544999998,19.4640382799992],[-99.15865070999988,19.463924949999097],[-99.15885310999988,19.463838999999197],[-99.15910165999998,19.4636982599992],[-99.15930382999989,19.463553549999094],[-99.15945048999995,19.463427059999095],[-99.15954890999988,19.463324459999097],[-99.15972976999988,19.463067479999193],[-99.1600446,19.462600579999098],[-99.16025847999995,19.462211569999095],[-99.16044631999988,19.461872859999097],[-99.16071644999988,19.461406059999195],[-99.16086584999988,19.461188679999196],[-99.16105367999988,19.460968889999094],[-99.16126937999998,19.460768019999097],[-99.16162277999987,19.4604929699992],[-99.16210036999998,19.460135139999096],[-99.16232114999998,19.459971919999095],[-99.16257090999989,19.459771819999197],[-99.16269930999988,19.459637309999195],[-99.16282617,19.459489829999093],[-99.16293477999989,19.459341319999197],[-99.16308164999997,19.4590629199992],[-99.16315414999998,19.45888347999919],[-99.16331674999998,19.4581627199992],[-99.16345794999988,19.45755359999909],[-99.16357139999997,19.457064029999092],[-99.16371276999988,19.456434769999095],[-99.16419053999988,19.456511249999195],[-99.16506017999988,19.456658659999196],[-99.16560595,19.456737459999193],[-99.16744473999988,19.457031619999096],[-99.16830608999996,19.457176689999095],[-99.17111379999989,19.457632279999096],[-99.173761,19.458062859999195],[-99.17460370999996,19.458198679999196],[-99.17502384999987,19.458266739999196],[-99.17576587999996,19.458386939999095],[-99.17689162,19.458569579999196],[-99.17745516999996,19.458661049999098],[-99.17798439999989,19.458755629999096],[-99.17878327999988,19.458928719999097],[-99.17991553999998,19.459125919999195],[-99.18108203,19.459301339999097],[-99.18201214999998,19.459474689999094],[-99.18311462999998,19.4596466199992],[-99.18409813999988,19.459838509999095],[-99.18410217999995,19.459839119999096],[-99.18527276999995,19.460020419999097],[-99.18538771999988,19.460014049999092],[-99.18728361999987,19.460477939999095],[-99.18848324999998,19.460777259999197],[-99.18824430999996,19.462346489999195],[-99.18802625999987,19.463659399999095],[-99.18800022999989,19.4638146199992],[-99.18914193999989,19.464151459999098],[-99.19001410999986,19.464430199999097],[-99.19073110999987,19.46467144999909],[-99.19067079999988,19.465719659999095],[-99.19066065999998,19.465945999999096],[-99.19057941999988,19.467936319999097],[-99.19044419999987,19.470458979999197],[-99.19095586,19.470629479999097],[-99.19141051999998,19.470767539999095],[-99.19334565999998,19.471220029999095],[-99.19413371999995,19.471404319999095],[-99.19461581999998,19.47153828999919],[-99.19514739999988,19.471686049999096],[-99.19562489,19.471828719999095],[-99.19613248999995,19.471972539999097],[-99.19665838,19.472126259999097],[-99.19708321999998,19.472251819999094],[-99.19746030999988,19.472364229999098],[-99.197951,19.472511719999197],[-99.19836885999987,19.472642249999097],[-99.19908871999998,19.4728758899992],[-99.19976484999988,19.473082799999094],[-99.20009385999998,19.473182379999095],[-99.20067567999996,19.473345279999094],[-99.20101501999989,19.473359599999096],[-99.20144702999988,19.473236619999096],[-99.20232688999988,19.473014649999097],[-99.20344416999988,19.472691649999096],[-99.20433965999987,19.472402719999096],[-99.20496719999988,19.472192259999098],[-99.20528541999988,19.472024349999096],[-99.20649633999987,19.471356509999197],[-99.20682496999989,19.471215079999094],[-99.20777287999988,19.471470719999196],[-99.20796742,19.471523179999195],[-99.20834927999988,19.471626169999094],[-99.20836916999995,19.471631539999095],[-99.20895564999988,19.471789709999197],[-99.20923609,19.471865339999095],[-99.20963477,19.471972849999094],[-99.21003311999998,19.472080279999098],[-99.21078398,19.472282769999197],[-99.21081504999988,19.472291149999094],[-99.21141267999997,19.472452309999095],[-99.21204485,19.472622799999193],[-99.21262837999988,19.472780149999096],[-99.21329294999995,19.472959349999098],[-99.21356133999988,19.473031739999197],[-99.21387928999997,19.473117479999097],[-99.21421576999995,19.473208199999192],[-99.21448461999996,19.473280689999093],[-99.21487783,19.473386739999096],[-99.21516811999996,19.473465019999097],[-99.21554,19.473565289999197],[-99.21586317,19.47365242999919],[-99.21617324999988,19.473736029999095],[-99.21687728999996,19.473925879999097],[-99.21750442999988,19.474094969999197],[-99.21817015,19.474274459999094],[-99.21884722999988,19.474457029999098],[-99.21951050999988,19.474635859999093],[-99.22015808999998,19.4748104599992],[-99.22055830999987,19.4749183699992],[-99.22111506,19.475068479999095],[-99.22091998,19.475908109999096],[-99.22071008999988,19.476811519999192],[-99.22049950999995,19.477717829999197],[-99.22035856999996,19.478155229999096],[-99.22033674999987,19.478222889999195],[-99.22004770999987,19.479119879999097],[-99.21977219999997,19.479974849999195],[-99.21966274999988,19.480314479999095],[-99.21945594,19.480902539999096],[-99.21913754999996,19.481807849999097],[-99.21882874999989,19.482685889999097],[-99.21860739999988,19.483315259999095],[-99.21851933999989,19.483565679999092],[-99.21833805999988,19.484081089999194],[-99.21815648999988,19.484597349999095],[-99.21804582999988,19.484911999999092],[-99.21749921999997,19.486451459999095],[-99.21731217999998,19.486978169999094],[-99.21716331999988,19.487397399999193],[-99.21715810999996,19.487412119999096],[-99.21685788999996,19.4882575999992],[-99.21653982,19.489153349999096],[-99.21644982,19.489406769999096],[-99.21627908999989,19.4898875699992],[-99.21618005999989,19.490166479999097],[-99.21600659999989,19.490691509999095],[-99.21571682999988,19.491568519999092],[-99.21569824999987,19.491624769999092],[-99.21544691999998,19.492385479999097],[-99.21538668999987,19.492567749999097],[-99.21520288,19.493124109999197],[-99.21498201999997,19.493792519999193],[-99.21482367999988,19.4942717699992],[-99.21460693999988,19.494927739999095],[-99.21437222999998,19.495638089999098],[-99.21411610999998,19.496413259999095],[-99.21389093999989,19.497094709999097],[-99.21383893999987,19.497252109999096],[-99.21368441999986,19.497719719999196],[-99.21350079999988,19.498275429999097],[-99.21346305999997,19.498408749999196],[-99.21286476999998,19.50052213999909],[-99.21249839999987,19.501761919999097],[-99.21232001999988,19.502370909999097],[-99.21223497999988,19.50266122999909],[-99.21199248999989,19.503510719999195],[-99.21196639999988,19.503636319999092],[-99.21168379999988,19.504996509999195],[-99.21144487999996,19.506722879999092],[-99.21137711999988,19.507212369999095],[-99.21121904999988,19.507812219999096],[-99.21116157999988,19.508030249999095],[-99.21105242,19.508444509999094],[-99.21077959999998,19.509084769999195],[-99.21069761999988,19.509349509999197],[-99.21068710999998,19.509383399999095],[-99.21063343,19.509556719999097],[-99.21047504999989,19.510071569999095],[-99.21037164999996,19.510539939999095],[-99.21032311,19.510670449999097],[-99.21024061999996,19.510892259999096],[-99.21016417,19.511139119999097],[-99.21006621999996,19.511272749999097],[-99.20998708999998,19.511378319999096],[-99.20994384999987,19.511436029999093],[-99.20980165,19.511603229999096],[-99.20969182999988,19.511732349999097],[-99.20962933999998,19.511815309999097],[-99.20949616999997,19.511992079999096],[-99.20940564999988,19.512150249999095],[-99.20938184999989,19.512191819999092],[-99.20931602999998,19.512306799999095],[-99.20925753999988,19.512409019999097],[-99.20919467999988,19.512468479999097],[-99.20907321999988,19.512583399999095],[-99.20897047999988,19.512680629999096],[-99.20852371999987,19.512958819999096],[-99.20814382999998,19.513195379999097],[-99.20809508999996,19.513218169999195],[-99.20712928999988,19.513669619999096],[-99.20701611999998,19.513731459999097],[-99.20659831999988,19.5139597799992],[-99.20617414999997,19.514191579999096],[-99.20591902999988,19.514330999999093],[-99.20580961999995,19.514406249999094],[-99.20552277999997,19.514603509999095],[-99.20523724999998,19.514799879999096],[-99.20514017999989,19.514857549999096],[-99.20496051999996,19.514964309999097],[-99.20467164999997,19.515135969999196],[-99.20433505999988,19.515034199999196],[-99.20390657999997,19.514904629999094],[-99.20353151999988,19.514791229999098],[-99.20294130999996,19.514612769999097],[-99.20294044999996,19.514612509999196],[-99.20273459999996,19.514550259999197],[-99.20258365999996,19.514504629999095],[-99.20257991999988,19.514503489999093],[-99.20189661999989,19.514296879999193],[-99.20188813999988,19.51429431999909],[-99.20170452,19.514238799999095],[-99.20097474,19.514018119999097],[-99.20080016999997,19.513965339999096],[-99.20029614999996,19.513812919999097],[-99.20017309,19.5137757099992],[-99.20015865,19.513771339999096],[-99.20010325,19.51375457999919],[-99.19996888,19.513713949999197],[-99.19938779999988,19.513538229999195],[-99.19917484999988,19.513473829999196],[-99.19905839999988,19.513438619999096],[-99.19879967999996,19.513360379999195],[-99.19864487999988,19.513313569999095],[-99.19694231999988,19.512798709999096],[-99.19672048999988,19.512731629999095],[-99.19662265999987,19.512702049999096],[-99.19403368999996,19.511919059999094],[-99.19400627999988,19.511910769999098],[-99.19203149,19.511313489999193],[-99.19189794999988,19.51127310999919],[-99.19149841999987,19.510579519999094],[-99.19067453999996,19.5104100499992],[-99.18895317999988,19.510055919999196],[-99.18892916999988,19.51005096999919],[-99.18855161999988,19.509973309999097],[-99.18843113999998,19.509948519999096],[-99.18738251999996,19.509518879999092],[-99.18700026,19.509362249999096],[-99.18698628999988,19.509356539999093],[-99.18656165999988,19.509159379999097],[-99.18616664999998,19.508975969999092],[-99.18538501999988,19.508613059999195],[-99.18522136999997,19.508537079999098],[-99.18382784999989,19.508079399999097],[-99.18347944999988,19.507964969999097],[-99.18307593999997,19.507832449999096],[-99.18270048999987,19.507709139999196],[-99.18245108999996,19.507563449999196],[-99.18244684999988,19.507560949999093],[-99.18230696999989,19.507479249999097]]],\"type\":\"Polygon\"},\"properties\":{\"_id\":9,\"cve_ent\":9,\"cve_mun\":2,\"cvegeo\":9002,\"g_pnt_2\":\"19.4853286147,-99.1821069423\",\"geo_shp\":\"{\\\"type\\\": \\\"Polygon\\\", \\\"coordinates\\\": [[[-99.18230696999987, 19.507479249999097], [-99.18229079999998, 19.507469799999097], [-99.18191573999997, 19.507489819999197], [-99.17749899999987, 19.506314309999095], [-99.17741184999987, 19.506291109999097], [-99.17\",\"gid\":1,\"id\":8,\"nomgeo\":\"Azcapotzalco\"},\"type\":\"Feature\"},{\"geometry\":{\"coordinates\":[[[-98.99723374,19.227310689999097],[-98.99744704999988,19.227184459999098],[-98.99746359999988,19.226488459999096],[-98.99706316999998,19.2264235199992],[-98.99668105999989,19.226326379999097],[-98.99642859999987,19.226190399999098],[-98.99638268999988,19.226128889999096],[-98.99626944999989,19.225977169999197],[-98.99618059999987,19.225888769999095],[-98.996362,19.225260769999096],[-98.99637626,19.225211429999195],[-98.99611645999988,19.225134689999095],[-98.99579087999987,19.225038489999097],[-98.99544217999988,19.226242349999097],[-98.99542281999996,19.226434619999196],[-98.99526390999988,19.227514919999095],[-98.99439442999989,19.227447919999097],[-98.99420422,19.227426029999094],[-98.99372541999998,19.227470459999093],[-98.99366732,19.227278229999097],[-98.99361065999987,19.227090769999197],[-98.99356207999988,19.226930029999096],[-98.99354201999988,19.226797019999097],[-98.99349722999987,19.226499939999098],[-98.99345910999988,19.226247079999094],[-98.99339530999998,19.225823889999095],[-98.99326277999988,19.224944849999098],[-98.99290664999988,19.224918479999097],[-98.99255073999988,19.224892109999097],[-98.99249385999998,19.224887879999095],[-98.99186799999988,19.224841339999195],[-98.99123725999998,19.22478976999909],[-98.99107357999998,19.225594679999094],[-98.99055868,19.225778349999096],[-98.98823390999988,19.22370476999909],[-98.98571902999998,19.221434659999098],[-98.98437096999996,19.22030084999909],[-98.98431784999998,19.220256169999097],[-98.98239262,19.218637139999196],[-98.97815002999988,19.215068309999097],[-98.97789667999989,19.215082319999095],[-98.97501030999996,19.21459119999909],[-98.97495757999997,19.214585349999098],[-98.97450209,19.214483199999197],[-98.97434953999998,19.214443139999194],[-98.9737166,19.214127799999098],[-98.97362139999989,19.214082919999097],[-98.97333225999988,19.213822489999096],[-98.97321267999988,19.2136645099992],[-98.97317684999987,19.213615569999096],[-98.97317682,19.213615509999197],[-98.97305902999987,19.213454459999095],[-98.97282770999998,19.213170539999197],[-98.97242857,19.212695419999097],[-98.97222425999998,19.212510909999096],[-98.9719704,19.212326479999096],[-98.97170613999997,19.212130229999097],[-98.97149777999986,19.211971549999095],[-98.97129552,19.211864629999095],[-98.97101601999998,19.211716079999096],[-98.96997776999989,19.211275379999197],[-98.96993067999988,19.211255219999096],[-98.96976105999988,19.211182569999096],[-98.96947313999998,19.210974179999095],[-98.96924021999988,19.210850829999092],[-98.96892605999987,19.210712449999196],[-98.96857758,19.210589059999094],[-98.96852791999996,19.210571079999095],[-98.96837655,19.21048884999909],[-98.96765733999987,19.209796049999092],[-98.96683774999995,19.209006549999096],[-98.96682650999998,19.208961339999096],[-98.96686347999996,19.208742679999094],[-98.96700601999996,19.207899429999095],[-98.96705179999996,19.207628599999197],[-98.96742397,19.207327199999195],[-98.96718134999998,19.20704224999909],[-98.96716850999996,19.20661759999919],[-98.96722873999988,19.206251089999093],[-98.96740454999998,19.206172429999093],[-98.96750941999989,19.206125489999096],[-98.96797917,19.205719979999095],[-98.96857197,19.205208229999094],[-98.96967857,19.204252909999095],[-98.96770188999989,19.203128849999096],[-98.96768027999995,19.203025919999195],[-98.96760965999988,19.202689739999094],[-98.96702582999995,19.199909859999096],[-98.96697868999988,19.197921649999195],[-98.96769388999988,19.189743079999097],[-98.96641033999998,19.187031659999093],[-98.95984905999995,19.179167879999095],[-98.95652173999996,19.176635219999095],[-98.95617467999988,19.176763059999196],[-98.95491574,19.174063399999092],[-98.95238564999988,19.168637619999096],[-98.96561217,19.164930459999095],[-98.96736639999988,19.164438689999095],[-98.96525025999988,19.161961689999096],[-98.96461602999987,19.161219289999195],[-98.96373816999989,19.160191679999095],[-98.96312268999998,19.159471199999096],[-98.96269744999996,19.158973399999095],[-98.96201926,19.158179509999098],[-98.96108434999996,19.157085059999098],[-98.96057061999988,19.156483629999094],[-98.96001744999997,19.155836059999093],[-98.95986051999988,19.155652339999193],[-98.95946831999998,19.155193199999093],[-98.95848442999988,19.154041339999097],[-98.95831853999988,19.153847119999096],[-98.95462630999998,19.149524349999098],[-98.95948188999988,19.147298419999096],[-98.95989550999998,19.14710879999919],[-98.96260419999996,19.145866949999096],[-98.96303702999997,19.145642599999093],[-98.96645593999988,19.143870509999097],[-98.96595605999988,19.1425844899992],[-98.96566316999996,19.1418309699992],[-98.96549365999986,19.141394909999097],[-98.96511271999998,19.140414819999098],[-98.96508905999998,19.140385999999097],[-98.96464528999998,19.139845419999094],[-98.96460555,19.139797019999197],[-98.96388871999989,19.138217479999096],[-98.96376030999988,19.137934519999092],[-98.96348754999998,19.137488079999095],[-98.96317541999998,19.136977139999097],[-98.96289770999988,19.136522549999096],[-98.96262621999988,19.136078149999097],[-98.96247710999988,19.135834079999096],[-98.96237701999988,19.135670249999094],[-98.96227268,19.135455799999097],[-98.96194547999988,19.134783349999196],[-98.96181716999988,19.134519689999095],[-98.96171539999987,19.134310539999095],[-98.96162554999988,19.134125889999098],[-98.9614784,19.133823449999095],[-98.96109188999998,19.133029109999097],[-98.96085396999987,19.132305229999098],[-98.96050981999998,19.131258119999096],[-98.96043245999986,19.131022769999195],[-98.95954221999988,19.128314109999092],[-98.95872948999988,19.125841229999097],[-98.95852896999996,19.125273799999096],[-98.95779738,19.123203579999096],[-98.95750747999988,19.122383219999197],[-98.95765602999988,19.119631019999098],[-98.95800284999989,19.117915349999095],[-98.95807042999988,19.117580969999196],[-98.95850025,19.114897939999096],[-98.95856270999997,19.114508049999095],[-98.95870199999987,19.113638509999095],[-98.95869201999987,19.11270524999909],[-98.95869054999996,19.112567939999096],[-98.95840975,19.111309399999097],[-98.95860638,19.110413879999093],[-98.95867647999997,19.110094619999096],[-98.95895665999988,19.109042719999096],[-98.95906350999996,19.104277949999094],[-98.96123977999996,19.095583179999096],[-98.96326577,19.092062779999193],[-98.96572147999998,19.085861169999095],[-98.96828357999998,19.083140879999092],[-98.97137233999996,19.081218379999097],[-98.97369661999988,19.079553169999095],[-98.9789954,19.074455949999095],[-98.98236136999998,19.07760841999909],[-98.98359449,19.078763249999096],[-99.02899368,19.085368799999095],[-99.03019490999998,19.084556539999095],[-99.04320885999988,19.075755459999097],[-99.04872865999988,19.066601539999095],[-99.05665036999989,19.053462029999096],[-99.05980022999988,19.048236659999095],[-99.06208574999988,19.048718719999197],[-99.10445385999998,19.057648029999097],[-99.10512856999998,19.057790119999098],[-99.12543311999995,19.062064719999096],[-99.13521261999988,19.0888405499992],[-99.13537901999996,19.0892960799992],[-99.13648148,19.089377979999195],[-99.14681085999987,19.10058308999909],[-99.15474753999987,19.108836549999097],[-99.16329284999988,19.117490569999095],[-99.15500932,19.135309709999095],[-99.15400427999998,19.138121569999097],[-99.15249957999995,19.142118079999097],[-99.15195690999998,19.150767429999096],[-99.15180576999988,19.151410749999098],[-99.14972374999988,19.159844089999098],[-99.14960841999988,19.160312879999196],[-99.14870414999996,19.160273029999097],[-99.14820007999997,19.160235029999097],[-99.14757857999996,19.16014062999909],[-99.14720816999989,19.160041509999097],[-99.14680388999987,19.159944689999097],[-99.14650981999988,19.159811619999093],[-99.14607685999988,19.159552139999096],[-99.14545782999988,19.159213719999094],[-99.14492217999997,19.158928339999093],[-99.14480454999988,19.158864029999098],[-99.14449414999989,19.158665449999095],[-99.14423001999988,19.158399049999197],[-99.14396081999988,19.158116849999097],[-99.14367708,19.157834649999096],[-99.14344581999995,19.157538849999096],[-99.14323824999998,19.157143289999095],[-99.1430562,19.1568185099992],[-99.14293831999996,19.156513969999097],[-99.14274954999988,19.156080349999097],[-99.14251922999988,19.155557599999096],[-99.14228364999995,19.155136379999096],[-99.14203407999996,19.154743319999092],[-99.14182251999988,19.154480059999095],[-99.14152398,19.154059719999196],[-99.14113295,19.153514549999095],[-99.14084908999996,19.152918399999095],[-99.14069556999998,19.152496689999197],[-99.14040431999987,19.152213259999098],[-99.14002019999998,19.151958569999096],[-99.13977424999987,19.151807369999094],[-99.13942614999998,19.15164721999909],[-99.13894864999996,19.151443449999096],[-99.13853225999998,19.151338349999097],[-99.13777331999988,19.150995619999097],[-99.13721134999996,19.150750379999092],[-99.13240604999996,19.148611289999195],[-99.13123154,19.150750379999092],[-99.13024432,19.152544169999093],[-99.11913013999998,19.172872949999096],[-99.11865413999998,19.173742659999096],[-99.11341834999988,19.183302289999094],[-99.11266062,19.184692659999197],[-99.11233063,19.185295479999095],[-99.11166244999998,19.1865132899992],[-99.11148409,19.186834139999096],[-99.11027634,19.18904448999919],[-99.10573639999988,19.197340709999096],[-99.10527767999996,19.198058019999195],[-99.10518183,19.198273079999097],[-99.10469782999998,19.198205519999096],[-99.10465834999997,19.198279289999093],[-99.10463723,19.198336799999193],[-99.10463147999997,19.198382019999094],[-99.10460885999996,19.1984258199992],[-99.10472545999988,19.198493349999097],[-99.10477891999987,19.198560919999096],[-99.10482431,19.198656149999096],[-99.10485097,19.198766289999096],[-99.10484422999998,19.1988661099992],[-99.10479968999988,19.198964219999095],[-99.10472557999998,19.199046369999195],[-99.10419634999988,19.199367179999097],[-99.10412333999987,19.199410659999195],[-99.10408062,19.199436379999195],[-99.10326791999988,19.199926199999098],[-99.10311387999997,19.200018289999196],[-99.10262924999988,19.200311119999096],[-99.10239984999995,19.200464769999098],[-99.10227310999989,19.200628229999097],[-99.10224694,19.200661969999196],[-99.10217033999996,19.200827969999096],[-99.10211757999998,19.201051799999092],[-99.10208644999987,19.201572319999094],[-99.10207006,19.201846399999095],[-99.10202243,19.202280519999096],[-99.10196359999998,19.202646089999096],[-99.10193317999988,19.203434249999095],[-99.10189970999988,19.203823419999097],[-99.10187084999988,19.204200849999097],[-99.10185430999998,19.204430429999196],[-99.10181474999987,19.204621629999096],[-99.10178042999988,19.204719179999096],[-99.10174593999989,19.204808889999097],[-99.10169308999996,19.204891779999095],[-99.10159001999988,19.205014859999196],[-99.10100228,19.205700799999097],[-99.10098442,19.20572164999909],[-99.10088612,19.205824649999094],[-99.100802,19.205894979999098],[-99.10069887999995,19.205955289999196],[-99.10060633999989,19.205998029999098],[-99.10037511999998,19.206072479999097],[-99.10025611999995,19.206115229999096],[-99.10018208999998,19.206170489999096],[-99.10012394999988,19.206245849999096],[-99.10008430999989,19.206321179999097],[-99.10005791999995,19.206414089999097],[-99.10004474999988,19.206519549999197],[-99.10002610999996,19.206993349999095],[-99.10001296999997,19.207143999999097],[-99.09997601999996,19.207267049999096],[-99.09992053999996,19.20738562999909],[-99.09983065999988,19.207495599999096],[-99.09936913999996,19.207990849999096],[-99.09930585999987,19.208069419999095],[-99.09926942,19.208105149999092],[-99.09921250999996,19.208147279999096],[-99.09916322,19.208164319999092],[-99.09910994999996,19.208182819999095],[-99.09903736999988,19.208196569999092],[-99.09894507999996,19.208209399999195],[-99.09889554999988,19.208211379999096],[-99.09881945999996,19.2082150199992],[-99.09848845,19.208215199999096],[-99.09841050999988,19.208220939999197],[-99.09835061999988,19.208226659999095],[-99.09826902999998,19.208238199999094],[-99.09813737999995,19.208272379999094],[-99.09794430999987,19.208329969999095],[-99.09713865999998,19.208592719999192],[-99.09699591999998,19.208630749999095],[-99.09687310999998,19.208653859999096],[-99.09677734999998,19.2086644499992],[-99.09667973999989,19.208664829999098],[-99.09655073999988,19.208652079999094],[-99.09643276999998,19.208626689999097],[-99.09627317999995,19.208598769999096],[-99.09612293999996,19.20857299999909],[-99.09597408999998,19.208554139999094],[-99.09585611999997,19.208555919999096],[-99.09577444999996,19.208578349999097],[-99.09568702999998,19.208627939999097],[-99.09561152,19.208717889999093],[-99.09555505999997,19.208803149999095],[-99.09525314999988,19.209259029999195],[-99.09515957999996,19.209438649999097],[-99.09509891999988,19.209590019999094],[-99.09507622999998,19.209741369999197],[-99.09506453999995,19.210078979999096],[-99.094996,19.211074279999192],[-99.09497577999998,19.211151169999095],[-99.09494545999988,19.211220849999197],[-99.09489992,19.211283319999197],[-99.09483414999988,19.211360799999095],[-99.09474307999989,19.211432909999093],[-99.09465450999988,19.211493019999097],[-99.09456087999988,19.211538709999196],[-99.09448494999997,19.211553149999094],[-99.09439634999988,19.211553199999095],[-99.09429507999988,19.21152442999909],[-99.09420430999988,19.211474029999096],[-99.09400931,19.211308369999095],[-99.09368524999996,19.211078919999096],[-99.09354214999988,19.211008709999096],[-99.09338891999988,19.210964489999096],[-99.09318091999988,19.210929939999097],[-99.09292934999988,19.210918769999097],[-99.09239171999997,19.2108925099992],[-99.09171704999989,19.210920089999096],[-99.09096537,19.211019379999097],[-99.09087287999988,19.211048229999097],[-99.09069479999988,19.21109564999909],[-99.08903254999989,19.211436579999095],[-99.08850425999997,19.211544949999197],[-99.08822804999988,19.211601599999092],[-99.08631317999998,19.211994319999096],[-99.08440964999988,19.212384709999093],[-99.08377009,19.212515859999098],[-99.08305105999987,19.212663309999098],[-99.08250902999998,19.212776979999095],[-99.08196607999996,19.212890919999097],[-99.08135179999988,19.213019819999197],[-99.08089569,19.213115519999096],[-99.08035562999996,19.213227649999094],[-99.08005874,19.213289279999092],[-99.07937191999996,19.213431859999098],[-99.07883445999988,19.213543449999097],[-99.07870404999989,19.213570519999195],[-99.07853376999998,19.213605879999097],[-99.07812794999997,19.213690109999195],[-99.07781996999988,19.213754049999096],[-99.07772102999988,19.213774579999097],[-99.07675354999998,19.213975429999195],[-99.07579022999988,19.214175379999094],[-99.07358663,19.214632779999093],[-99.07230717999988,19.214898349999096],[-99.07106430999988,19.21515630999909],[-99.06907148999989,19.215569889999195],[-99.06777179999987,19.215839599999097],[-99.06732545999988,19.215932229999197],[-99.06630867999988,19.216143229999197],[-99.06580381999996,19.216247979999096],[-99.06433019999996,19.2165537699992],[-99.06320779999996,19.216786649999097],[-99.06054339999996,19.217338429999096],[-99.06015719999998,19.217418419999095],[-99.05918938,19.217618829999097],[-99.05816330999988,19.2178313099992],[-99.05671625999996,19.218130939999092],[-99.05635318,19.218206119999095],[-99.05598373999996,19.218282619999098],[-99.05383919999998,19.218727649999195],[-99.05309759999987,19.218881539999096],[-99.05235468999987,19.219035689999096],[-99.04914367999996,19.219701939999094],[-99.04826554,19.219884119999197],[-99.04786719999998,19.219966769999097],[-99.04664399999989,19.220220539999197],[-99.04543821999988,19.220470709999095],[-99.04302259999996,19.220971859999196],[-99.04278535,19.221021079999097],[-99.04246805999998,19.221086909999094],[-99.04216882,19.221149029999097],[-99.04178645999995,19.221228399999095],[-99.04112473999996,19.221365749999197],[-99.04010530999987,19.221577349999095],[-99.03804013999998,19.222005999999094],[-99.0375966,19.222098049999197],[-99.03693965999996,19.222234399999095],[-99.03673162999998,19.222277569999093],[-99.03641890999988,19.222342399999096],[-99.03628365,19.22237042999919],[-99.03578639999988,19.22247350999919],[-99.03520876999988,19.222593249999097],[-99.03406105,19.222831149999095],[-99.03287417999996,19.223077149999096],[-99.03019302999998,19.223632849999095],[-99.02627388999998,19.223980769999095],[-99.02532771999998,19.224064649999097],[-99.025018,19.2240921099992],[-99.02300389,19.224270629999097],[-99.02271196999996,19.224296509999096],[-99.02173831999988,19.224382849999095],[-99.02119048999997,19.224431429999093],[-99.01998742999989,19.22453810999909],[-99.01962417999988,19.224570319999096],[-99.01820381999988,19.224696249999095],[-99.01778959999989,19.224732969999195],[-99.01748331999988,19.224760249999093],[-99.01616273999998,19.224877859999097],[-99.01588016999987,19.224903019999097],[-99.01521133999988,19.224962569999093],[-99.01510928999988,19.224971659999095],[-99.01315771999998,19.225145419999095],[-99.01267354,19.225188519999197],[-99.01249421999988,19.225204489999093],[-99.01206014,19.225243139999098],[-99.01160439999995,19.225283709999097],[-99.01044628999988,19.2253867799992],[-99.00889496999996,19.225524859999197],[-99.00852974999997,19.225558089999097],[-99.00755936999995,19.225646339999095],[-99.00715196999988,19.225683379999197],[-99.00580006,19.225806319999094],[-99.00573873999998,19.225811889999093],[-99.00489611999988,19.225888509999095],[-99.00444207999998,19.225929799999196],[-99.00405485999988,19.225964999999093],[-99.00397049,19.225972679999096],[-99.00301901999988,19.226059169999097],[-99.00214013999988,19.226139079999196],[-99.00166196999996,19.226182539999098],[-99.00148782,19.226198369999196],[-99.00010374999988,19.226317579999197],[-99.00009611999997,19.226392829999195],[-99.00312899999987,19.227060019999097],[-99.00299064999996,19.2275739199992],[-99.00221508999986,19.227357429999092],[-99.00076573999988,19.22699437999919],[-98.99984691,19.226783919999097],[-98.99967382999988,19.227282689999093],[-98.99957247999996,19.227559509999196],[-98.99902228999996,19.227357049999096],[-98.99886393999998,19.227704739999098],[-98.99814737999998,19.227531909999097],[-98.99717701999997,19.227472569999097],[-98.99723374,19.227310689999097]]],\"type\":\"Polygon\"},\"properties\":{\"_id\":10,\"cve_ent\":9,\"cve_mun\":9,\"cvegeo\":9009,\"g_pnt_2\":\"19.1394565999,-99.0510954218\",\"geo_shp\":\"{\\\"type\\\": \\\"Polygon\\\", \\\"coordinates\\\": [[[-98.99723374, 19.227310689999097], [-98.99744704999988, 19.227184459999098], [-98.99746359999988, 19.226488459999096], [-98.99706316999998, 19.226423519999198], [-98.99668105999987, 19.226326379999094], [-98.99642859\",\"gid\":3,\"id\":9,\"nomgeo\":\"Milpa Alta\"},\"type\":\"Feature\"},{\"geometry\":{\"coordinates\":[[[-99.10894589,19.4527336299992],[-99.10889129,19.452878549999095],[-99.10871230999996,19.452813229999197],[-99.10854265999988,19.452751279999095],[-99.10854242999989,19.452751179999098],[-99.10854267999996,19.452750319999097],[-99.10859291999998,19.45257471999909],[-99.10859316999988,19.452573849999094],[-99.10859293999988,19.4525737699992],[-99.10811730999988,19.452400889999097],[-99.10792447999988,19.452331049999096],[-99.10769541999998,19.452248079999094],[-99.10728672,19.4521000299992],[-99.10686285,19.451946479999197],[-99.10665125999998,19.451869829999197],[-99.10644734,19.451795949999195],[-99.10603022999996,19.451644849999095],[-99.10557630999988,19.451480399999095],[-99.10538288999996,19.451409689999096],[-99.10474874999989,19.451177829999196],[-99.10431590999995,19.451019569999097],[-99.10411945999986,19.450947739999098],[-99.10389276999987,19.450864849999192],[-99.10349382999998,19.450718979999095],[-99.10302324999998,19.450547549999097],[-99.10254433999988,19.450373089999097],[-99.10220228999997,19.450248489999098],[-99.10195501999998,19.450158059999097],[-99.10195496999988,19.450158049999093],[-99.10186344999988,19.450124659999094],[-99.10144341999988,19.449971259999096],[-99.10139574999988,19.449953919999093],[-99.10136628999996,19.449942399999095],[-99.10133750999998,19.449935289999097],[-99.10107317999989,19.449875229999098],[-99.10079425,19.449837089999196],[-99.10055670999998,19.4498275399992],[-99.10046121999989,19.449827579999095],[-99.10025779999988,19.449838539999096],[-99.0997884,19.449919739999096],[-99.0996992,19.449943449999097],[-99.09898114,19.450208549999196],[-99.09884688999988,19.450258109999098],[-99.09843567999997,19.450412909999095],[-99.09797024999988,19.450588089999098],[-99.09785797999989,19.450630349999095],[-99.09745322,19.450782709999096],[-99.09696377999988,19.450966939999095],[-99.09654014999995,19.451126379999096],[-99.09594918,19.451348919999095],[-99.09592012,19.451359879999096],[-99.09537374999996,19.451567459999097],[-99.09526910999988,19.451607219999097],[-99.09489964999987,19.451720539999094],[-99.09473770999988,19.45175674999919],[-99.09452504999987,19.451786679999092],[-99.09421950999987,19.4517951699992],[-99.09393536999988,19.451775799999098],[-99.09372659999995,19.451746019999096],[-99.09345090999987,19.451679029999095],[-99.0932198,19.451600229999094],[-99.09298454999995,19.451476319999095],[-99.09289857,19.451411429999197],[-99.09265345999988,19.451226519999096],[-99.09248832,19.451079059999095],[-99.09213237999988,19.450761399999095],[-99.09192577999988,19.450577049999097],[-99.09177037999989,19.450432739999098],[-99.09155142999995,19.450229459999097],[-99.09128462999988,19.449981739999092],[-99.09115418,19.449860619999097],[-99.09080135,19.449532999999096],[-99.09063027999996,19.449374169999192],[-99.09042202999989,19.449180829999097],[-99.09006417999989,19.448848549999095],[-99.08975333999987,19.448559939999097],[-99.08968884999987,19.448500059999095],[-99.08940484999988,19.448236349999096],[-99.08899779999987,19.447858399999095],[-99.08885787999998,19.447728479999096],[-99.08864614,19.447538999999193],[-99.08822362999987,19.447133119999098],[-99.08793482999988,19.446856199999097],[-99.08753181999998,19.446410519999095],[-99.08730147999997,19.446058079999094],[-99.08715633999998,19.445766859999097],[-99.08687024999988,19.445969689999096],[-99.08531502999988,19.447072229999097],[-99.08420330999988,19.447827139999195],[-99.08387156999996,19.448066119999194],[-99.08274251999988,19.448879279999097],[-99.08152948999997,19.44975921999909],[-99.08115319999987,19.450010909999097],[-99.08087674999987,19.450157319999096],[-99.08059108,19.450135049999098],[-99.08031045999998,19.450071149999197],[-99.07932118,19.449795429999096],[-99.07907271999989,19.449771979999092],[-99.07869592,19.449746689999095],[-99.07809816999998,19.449747089999192],[-99.07697768,19.44936388999909],[-99.07545179999988,19.448842019999095],[-99.07530194,19.448793849999195],[-99.07449757999996,19.448520969999095],[-99.06984463,19.446908919999096],[-99.06859568,19.446476179999095],[-99.06850893999987,19.446460179999093],[-99.06837774999995,19.446440169999196],[-99.06821484999988,19.446426219999093],[-99.06808785999998,19.446436549999095],[-99.06780243,19.446502819999097],[-99.06738369,19.446642289999197],[-99.06722821999988,19.446530779999197],[-99.06524894999988,19.445833979999097],[-99.06465470999989,19.445624769999096],[-99.06402517999996,19.445403139999193],[-99.06343347999989,19.445194799999097],[-99.06280679999998,19.444974169999096],[-99.06262284999998,19.444909399999094],[-99.06228516999988,19.444790519999096],[-99.06214541999998,19.444841619999092],[-99.06125957999988,19.445165519999097],[-99.06021453999988,19.445547629999197],[-99.05941470999988,19.445840029999196],[-99.05871605,19.446095519999098],[-99.05799876999998,19.446357779999097],[-99.05734457999988,19.446596949999194],[-99.05604814,19.447091979999097],[-99.05550517999988,19.447297969999095],[-99.05466736999988,19.447619179999197],[-99.05389897,19.447909419999096],[-99.05330229,19.448130659999094],[-99.05256431999996,19.448422149999093],[-99.05225808999997,19.448742599999196],[-99.05204797999988,19.448965509999095],[-99.05195353999989,19.449061279999096],[-99.05152145999988,19.449511719999094],[-99.05113831999988,19.449912619999196],[-99.05086876999997,19.450180679999097],[-99.05086842999997,19.450181019999096],[-99.05083290999988,19.450116259999092],[-99.04980628,19.448244259999097],[-99.04975077999988,19.448143089999096],[-99.04889633999989,19.4465850199992],[-99.04881579999989,19.446438149999196],[-99.04872256999988,19.446268149999096],[-99.04792847999988,19.444820119999093],[-99.047895,19.444759059999097],[-99.04749108,19.444022489999195],[-99.04738596999988,19.443830819999196],[-99.04714077999988,19.443130919999092],[-99.04645916999998,19.44236501999919],[-99.04645881999988,19.442364629999098],[-99.04645888,19.442364539999097],[-99.04645917999989,19.44236407999909],[-99.04665205999996,19.442063489999093],[-99.0468706,19.441722939999096],[-99.04777862,19.440307939999094],[-99.04820907999998,19.439637109999097],[-99.04845134999988,19.439131169999197],[-99.05056204999988,19.434723259999096],[-99.05233216999989,19.430558659999097],[-99.05243408999988,19.430332849999097],[-99.05260201999988,19.429960819999195],[-99.05399813999998,19.426828199999097],[-99.05405761999997,19.426701399999192],[-99.05439381999996,19.42598457999919],[-99.05439953999988,19.425972399999093],[-99.05468303,19.425367949999096],[-99.05473062999988,19.425266489999096],[-99.05493437999988,19.424832059999098],[-99.05519642999997,19.424273369999092],[-99.05529544999987,19.423915519999095],[-99.05562188999988,19.422735909999098],[-99.05578648999987,19.422141089999094],[-99.05604531999988,19.422234449999195],[-99.05613997999995,19.422079709999096],[-99.05620688,19.421950779999193],[-99.05628579999988,19.421834969999196],[-99.05638794999996,19.42171433999909],[-99.05655849,19.421564719999097],[-99.05671034999988,19.421443889999097],[-99.05682564999988,19.421359859999196],[-99.05692327999998,19.421303939999095],[-99.05702647999998,19.421242739999094],[-99.05712661999998,19.421186049999193],[-99.05726337999988,19.4211311499992],[-99.05740528999988,19.421073569999095],[-99.05757579999988,19.421012619999093],[-99.05775208999988,19.420946319999096],[-99.05786204999998,19.420906349999097],[-99.05792214999995,19.420886719999196],[-99.05986088,19.420843569999096],[-99.06166132,19.420828849999197],[-99.06367730999987,19.420812339999195],[-99.06478608,19.420825829999096],[-99.06573011999988,19.420819179999096],[-99.06787850999989,19.420804059999096],[-99.06795254999996,19.420803179999098],[-99.0682356,19.420777519999195],[-99.06844194999996,19.420733849999095],[-99.06874328999996,19.420635539999097],[-99.06902087999998,19.420524179999095],[-99.06929257999997,19.420375339999197],[-99.06949545999998,19.420252799999197],[-99.06975971999996,19.420054599999197],[-99.06992064999996,19.419874319999195],[-99.07031005,19.419285149999094],[-99.07061668999988,19.418810339999094],[-99.07133790999988,19.417707849999093],[-99.07143071999998,19.417554309999197],[-99.07226534999988,19.416206859999097],[-99.07319930999988,19.414717419999096],[-99.07325831,19.414623169999096],[-99.07327766,19.414592429999097],[-99.07332311,19.414512849999195],[-99.07340663,19.414383659999096],[-99.07351242999988,19.4142721799992],[-99.07377727999987,19.413858109999097],[-99.07401790999988,19.4134891999992],[-99.07443868999997,19.412854919999095],[-99.074757,19.412362969999197],[-99.07510239999998,19.411837859999093],[-99.07528971999989,19.411541849999097],[-99.07545782999988,19.41127204999909],[-99.07564314999988,19.4109804599992],[-99.07589853999998,19.410578649999092],[-99.07611595,19.410256579999192],[-99.07634473999995,19.409946709999197],[-99.07668391999988,19.409454579999096],[-99.07690111999987,19.409131599999096],[-99.07700741999996,19.408964199999097],[-99.07711561999996,19.408795799999197],[-99.07731221999988,19.408540599999096],[-99.07731275,19.408539909999096],[-99.07731225,19.408539649999096],[-99.07712531999988,19.408442829999196],[-99.07709185,19.408425489999196],[-99.07709141999996,19.408425259999095],[-99.07709185999988,19.408424539999096],[-99.07755167999989,19.407688179999095],[-99.07797853999988,19.407147579999197],[-99.07824041999996,19.407050279999194],[-99.07852146,19.4069921499992],[-99.07897827999987,19.4070390799992],[-99.07907347999998,19.407001229999196],[-99.07945913999995,19.406901109999097],[-99.07972608999997,19.406868289999096],[-99.07979007999988,19.4068699099992],[-99.07990881999989,19.406870919999196],[-99.08022694999988,19.406884999999093],[-99.08083125,19.406958379999097],[-99.08128471999996,19.407019339999096],[-99.08193533999996,19.407105689999096],[-99.08250216999988,19.407180919999096],[-99.08305591,19.407260049999095],[-99.08361571999988,19.40734002999919],[-99.08412071999996,19.407412199999197],[-99.08470904999989,19.407493709999095],[-99.08526664999988,19.407570969999195],[-99.08582925999998,19.40765065999919],[-99.086382,19.407728949999097],[-99.08687490999988,19.407798769999097],[-99.08745938,19.407881549999097],[-99.08825657999988,19.407996289999097],[-99.08889811999988,19.408090619999097],[-99.08952837999998,19.408183279999196],[-99.09026084999988,19.408290949999095],[-99.09105169,19.4084072199992],[-99.09159494999987,19.408487079999095],[-99.09164325999988,19.4084941699992],[-99.09233619999998,19.408596049999097],[-99.09301501999988,19.408695829999196],[-99.09305430999989,19.408701619999196],[-99.09350070999989,19.4087620599992],[-99.09390701999988,19.40881710999909],[-99.09432608999998,19.408873859999098],[-99.09475733499988,19.408932264999095],[-99.09517054999998,19.408988229999096],[-99.09559312,19.409045479999097],[-99.09570673999998,19.40906085999919],[-99.09612330999988,19.409116079999094],[-99.09642791,19.409146629999196],[-99.09702609,19.409164719999097],[-99.09721997999998,19.409169369999095],[-99.09753717999996,19.409162979999195],[-99.09796674999996,19.40914291999909],[-99.09804342999988,19.409137829999096],[-99.09808162999995,19.408924629999095],[-99.09890907999988,19.408850889999194],[-99.09968031999988,19.408711719999097],[-99.10108490999988,19.408429709999197],[-99.10190610999996,19.408264459999092],[-99.10282416999988,19.408073879999097],[-99.10353081999988,19.407928309999196],[-99.10479259999988,19.407660399999195],[-99.10560729,19.4074863699992],[-99.10607625999988,19.407389339999096],[-99.10739122999988,19.407117339999097],[-99.11015321999996,19.406543219999197],[-99.11218971999988,19.406138949999093],[-99.11283845999998,19.406010219999096],[-99.11319568999988,19.40593930999909],[-99.11348196999997,19.405865719999095],[-99.11356353999996,19.405839479999095],[-99.11363439999998,19.405809979999095],[-99.11385188,19.405778749999097],[-99.11441687999996,19.4056505499992],[-99.11457147999988,19.405615479999096],[-99.11506717999995,19.405558679999196],[-99.11555105999996,19.405548289999196],[-99.11638050999989,19.405543079999095],[-99.11721982999988,19.405537829999197],[-99.11880973999996,19.405516919999094],[-99.11966549,19.405373889999197],[-99.12014611999987,19.405291859999096],[-99.12043175,19.4052465499992],[-99.12101957999988,19.405153289999195],[-99.12111722999998,19.405141029999097],[-99.12160514999988,19.405049979999095],[-99.12172015,19.405032339999092],[-99.12228133999996,19.404949449999197],[-99.12327482999989,19.404767259999097],[-99.12393605999988,19.404638419999092],[-99.12567127999988,19.404334949999193],[-99.12569845999998,19.404330679999095],[-99.12586725999988,19.405193549999098],[-99.12614981999997,19.406678169999193],[-99.12618756999989,19.406826599999096],[-99.12627179999996,19.407171029999095],[-99.12639294999995,19.407742059999094],[-99.12654319999989,19.408261349999098],[-99.12674047999998,19.408822679999098],[-99.12716796999996,19.409011089999098],[-99.12716885999998,19.409269429999096],[-99.12719102999988,19.409595109999092],[-99.12729727999988,19.410045309999095],[-99.12741758,19.4104834899992],[-99.12759054999997,19.411048659999196],[-99.12769150999998,19.411449739999096],[-99.12775714,19.411813919999094],[-99.12784728999998,19.412279909999196],[-99.12800316999989,19.413022619999097],[-99.12815457999989,19.413437879999194],[-99.12819965999988,19.413759519999093],[-99.12819971999988,19.413759939999096],[-99.12819964999989,19.413760459999192],[-99.12807922999995,19.414555369999196],[-99.12790062999989,19.415540709999096],[-99.12782917,19.415957919999094],[-99.12761777999997,19.417400799999097],[-99.12740927999988,19.418678289999097],[-99.12737262999998,19.418987849999095],[-99.12713928999987,19.4203780599992],[-99.12700769,19.420750459999095],[-99.12658274999988,19.421699459999196],[-99.12622088999989,19.42248610999909],[-99.12607936999989,19.422761249999095],[-99.12600614999997,19.422872659999197],[-99.12589428999988,19.4235012899992],[-99.12576650999988,19.424362399999193],[-99.12562836999987,19.4253450899992],[-99.12561924999989,19.425398479999192],[-99.12559082999996,19.425552579999096],[-99.12553885999988,19.425849349999197],[-99.12548905999986,19.426437449999092],[-99.12547370999988,19.426538479999095],[-99.12542998,19.426776419999197],[-99.12527097999995,19.427632769999093],[-99.12518259999987,19.428318969999193],[-99.12511813999998,19.428698919999096],[-99.12503661999988,19.429164579999192],[-99.12494396999988,19.429783509999098],[-99.12491328999988,19.429985659999193],[-99.12478182999988,19.430827799999197],[-99.12473285999988,19.431259419999197],[-99.12462994,19.431985649999096],[-99.12451905999988,19.432806459999092],[-99.12433464999997,19.433924319999093],[-99.12418331999996,19.434712429999195],[-99.12406887999998,19.435587019999097],[-99.12393953999998,19.436418779999094],[-99.12376491999996,19.437495149999094],[-99.12360131,19.438638879999093],[-99.12344489,19.439555489999098],[-99.1233564,19.440190819999096],[-99.12326784999998,19.440853229999192],[-99.12316219999995,19.441580799999095],[-99.12307887999997,19.442494719999097],[-99.12307882,19.442495449999097],[-99.12307885999988,19.442495659999196],[-99.12311467999989,19.442659689999097],[-99.12378484999988,19.443574259999092],[-99.12385416999987,19.443716769999096],[-99.12419455,19.444411319999094],[-99.12448225999997,19.444977399999097],[-99.12538191999988,19.446647769999096],[-99.12558859999996,19.446949769999097],[-99.12570768999989,19.447123779999096],[-99.12586657999996,19.447404919999094],[-99.12593005999996,19.447618119999092],[-99.12593005999996,19.447619089999197],[-99.1259292,19.447793999999096],[-99.1259292,19.447794779999096],[-99.12592917999989,19.447794939999092],[-99.12588902999988,19.448186949999094],[-99.12568584999995,19.449215649999097],[-99.12555258,19.449835289999193],[-99.12548128999995,19.450204309999194],[-99.12521266,19.451086259999094],[-99.12506804999995,19.45139494999909],[-99.12502450999988,19.451483289999096],[-99.12501614999998,19.451500249999093],[-99.12478236999998,19.4520090499992],[-99.12442273999989,19.453335689999097],[-99.12427807999988,19.454097799999197],[-99.12416571999988,19.454545319999095],[-99.12410622999988,19.454795089999195],[-99.12378102999998,19.4560297699992],[-99.12369003,19.456429549999196],[-99.12358376999995,19.4570286799992],[-99.12335951999997,19.458028689999093],[-99.12333157999988,19.458154339999197],[-99.12317992,19.458511829999093],[-99.12283993999988,19.459002379999195],[-99.12224181999989,19.459781619999195],[-99.12224121999998,19.459782399999096],[-99.12217715,19.459751919999096],[-99.12210096999998,19.459715659999095],[-99.12199430999998,19.459671709999192],[-99.12158813999996,19.459538419999095],[-99.12111582999988,19.459383419999096],[-99.12032356999998,19.459123419999095],[-99.12026102999988,19.459102909999196],[-99.11981345999996,19.458956019999196],[-99.11938703,19.458816079999195],[-99.11896967999998,19.458679109999096],[-99.11849610999997,19.458520539999096],[-99.11845137999988,19.45850497999909],[-99.11800542999995,19.4583500199992],[-99.11768786,19.458239659999197],[-99.11751085999995,19.458175719999097],[-99.11746425999988,19.458157849999196],[-99.117349,19.4581074599992],[-99.11726901999997,19.458067029999096],[-99.11714884999998,19.457999819999095],[-99.11705350999988,19.457938659999098],[-99.11696177,19.457872879999098],[-99.11690472,19.457828339999097],[-99.11673518,19.457695969999197],[-99.11627845999998,19.457339339999095],[-99.11616913999995,19.4572539799992],[-99.11583417999996,19.456992449999095],[-99.11546292,19.456702539999096],[-99.11497079999997,19.456318259999097],[-99.11471494999988,19.456118479999095],[-99.11439019999987,19.455850769999095],[-99.11399142999988,19.455486799999196],[-99.11388008999988,19.455397229999196],[-99.11349730999989,19.455106249999098],[-99.11342577999989,19.45504841999909],[-99.11303150999998,19.454729629999097],[-99.11269439999988,19.454457059999097],[-99.11263116999996,19.454405939999095],[-99.11229867999997,19.454139709999097],[-99.11217709,19.454049719999094],[-99.11202459999998,19.4539368799992],[-99.11186087999988,19.453829779999097],[-99.11177513999988,19.453781279999195],[-99.11161523,19.453706169999094],[-99.11142935,19.453620419999098],[-99.11136171999998,19.453595079999197],[-99.11121388999996,19.453542419999195],[-99.11072816999987,19.4533693699992],[-99.11042496999988,19.453261349999096],[-99.11027228999995,19.453206969999098],[-99.11013819999988,19.453159179999098],[-99.10986842999988,19.453063079999097],[-99.10966708999987,19.452991349999095],[-99.10946105999987,19.452917939999097],[-99.10894589,19.4527336299992]]],\"type\":\"Polygon\"},\"properties\":{\"_id\":11,\"cve_ent\":9,\"cve_mun\":17,\"cvegeo\":9017,\"g_pnt_2\":\"19.4304954545,-99.0931057959\",\"geo_shp\":\"{\\\"type\\\": \\\"Polygon\\\", \\\"coordinates\\\": [[[-99.10894588999999, 19.452733629999198], [-99.10889128999999, 19.452878549999095], [-99.10871230999997, 19.452813229999197], [-99.10854265999987, 19.452751279999095], [-99.10854242999987, 19.452751179999098], [-99.10\",\"gid\":6,\"id\":10,\"nomgeo\":\"Venustiano Carranza\"},\"type\":\"Feature\"},{\"geometry\":{\"coordinates\":[[[-99.13679462999988,19.401556719999096],[-99.13682022999988,19.401341969999095],[-99.13688648,19.400925369999097],[-99.13705744999996,19.399854769999095],[-99.13718232,19.399200319999093],[-99.13631653999988,19.399137289999196],[-99.13584330999998,19.399111579999197],[-99.13526628999988,19.399092079999097],[-99.13471297999988,19.399070349999192],[-99.13404437,19.399034799999097],[-99.13345125999987,19.399023569999095],[-99.13294842,19.399012979999192],[-99.13244602,19.398986939999094],[-99.13186384999987,19.398963829999197],[-99.13152224999996,19.398960289999096],[-99.13094248999988,19.398954319999095],[-99.13096717999998,19.397637909999197],[-99.13103405999998,19.396729229999096],[-99.13116311,19.396540629999095],[-99.13129176999998,19.396275909999098],[-99.13143171999998,19.395745659999093],[-99.13147713999987,19.395552579999197],[-99.13165588999998,19.394682679999097],[-99.13168836999988,19.394523399999095],[-99.13186145999995,19.393669799999095],[-99.13188468999988,19.393547649999192],[-99.13204193999997,19.39279337999919],[-99.13206476999989,19.392662449999197],[-99.13210714,19.3924918299992],[-99.13236151999998,19.391311629999095],[-99.13239781999988,19.391157199999196],[-99.13267408999997,19.390186509999097],[-99.13271711999988,19.389979619999195],[-99.13276284999988,19.389736459999096],[-99.13287891,19.389206339999095],[-99.13300602999998,19.388563279999097],[-99.13304508999988,19.388367539999095],[-99.13321579999987,19.387490199999096],[-99.13341024999988,19.386653149999095],[-99.13345437999998,19.386469949999093],[-99.13357734999988,19.385959689999197],[-99.13362542,19.385771999999097],[-99.13363556999995,19.385727119999196],[-99.1338762,19.384663509999093],[-99.13392245999988,19.384471139999192],[-99.13414516999988,19.383414449999098],[-99.13420054999987,19.383163689999098],[-99.13432412,19.382509629999195],[-99.13439241999995,19.382169999999093],[-99.13443579999988,19.381967509999097],[-99.13456034999987,19.381290749999195],[-99.13470645999988,19.380580969999095],[-99.13499891999996,19.379267579999095],[-99.13533201999998,19.377960779999096],[-99.13548771999989,19.377186979999095],[-99.13573047999988,19.3761915799992],[-99.13579844999995,19.375871289999196],[-99.13593904999998,19.375229519999195],[-99.13600017,19.374871629999095],[-99.13622902999998,19.373846659999096],[-99.13645350999997,19.372871739999095],[-99.13672633999988,19.371626599999196],[-99.13693091999988,19.370790379999097],[-99.13717746,19.369616489999196],[-99.13741781999988,19.368619999999098],[-99.13755736999995,19.36801273999909],[-99.13773856999988,19.36721142999909],[-99.13782962999989,19.3667041999992],[-99.13795029,19.366091349999095],[-99.13807890999998,19.365503019999096],[-99.13822547999987,19.364911279999095],[-99.13838247999998,19.3642875099992],[-99.13851929,19.363630919999093],[-99.13863764999998,19.363080629999196],[-99.13876697999989,19.362460719999195],[-99.13890378,19.3618077999992],[-99.13904025999987,19.361125949999092],[-99.139188,19.360485849999097],[-99.13939997999996,19.359536779999097],[-99.13965633999996,19.358353599999095],[-99.13989382999988,19.357369599999092],[-99.13988873999988,19.357140019999097],[-99.13983599999987,19.356917599999097],[-99.14077294,19.356988229999196],[-99.14092496999989,19.356999689999096],[-99.14111382999988,19.357022539999193],[-99.14149303,19.357068599999096],[-99.14197454999996,19.35712668999909],[-99.14227744999988,19.357162369999095],[-99.14237608999996,19.357168219999096],[-99.14289384999988,19.357198919999092],[-99.14349968999989,19.35724145999919],[-99.14385702999998,19.357262769999096],[-99.14405464999996,19.357271829999096],[-99.14438185999988,19.357296149999097],[-99.14479231999997,19.357320019999097],[-99.14507422,19.357329489999096],[-99.14560348999998,19.357347379999094],[-99.1462056,19.357364309999095],[-99.14640779999988,19.357370279999095],[-99.14673536999996,19.357379949999093],[-99.14723259999988,19.357392149999193],[-99.14805433999996,19.357425109999195],[-99.14889904999995,19.3574708299992],[-99.14968233999998,19.357512089999194],[-99.15007070999997,19.357532849999096],[-99.15047247999988,19.3575563699992],[-99.15126454999988,19.357595519999094],[-99.15146561999988,19.357602289999093],[-99.15201567999998,19.357638999999097],[-99.15316072,19.357697689999195],[-99.15370475,19.357734489999093],[-99.15429244999989,19.357758649999095],[-99.15460507999988,19.35777225999909],[-99.15620067999996,19.3578613999992],[-99.15679559999988,19.357894619999097],[-99.15687277999989,19.357896889999097],[-99.15695374999989,19.357899279999096],[-99.15715722999988,19.357911919999196],[-99.15808018,19.357969259999095],[-99.15877822999988,19.358011859999095],[-99.15910402999997,19.358031749999196],[-99.15951668999998,19.35805405999909],[-99.16046905999995,19.358105569999196],[-99.16170262,19.358169479999095],[-99.16181577999996,19.358175339999093],[-99.16350048999998,19.358272619999095],[-99.16494393999989,19.35836188999909],[-99.16634161999998,19.358435339999097],[-99.16715373999988,19.358482289999095],[-99.16732646,19.358490979999196],[-99.16776890999986,19.358513249999096],[-99.16855033999998,19.358551949999196],[-99.16919962,19.358597059999095],[-99.16976493999988,19.358657879999097],[-99.16978034,19.358659539999195],[-99.16978261999998,19.358660079999098],[-99.17015922999998,19.358749919999095],[-99.17040413999987,19.358831279999094],[-99.17055734999995,19.358888429999094],[-99.17083211999989,19.359045059999097],[-99.17169128999988,19.359559379999197],[-99.17170610999987,19.359568259999197],[-99.17285922999996,19.360265739999097],[-99.17308221999996,19.360427509999095],[-99.17327637999988,19.3606050599992],[-99.17370753999997,19.361090379999197],[-99.17450864999988,19.362016309999195],[-99.17466041999988,19.3621658599992],[-99.17480211999997,19.362303709999097],[-99.17510488999989,19.362589449999096],[-99.17672154999998,19.364114739999092],[-99.17719353999988,19.364595779999096],[-99.17774191999987,19.365141459999197],[-99.17815001999998,19.364812709999097],[-99.17837989,19.364596059999094],[-99.17881210999998,19.364180629999197],[-99.17920374999989,19.363807049999096],[-99.17936757999988,19.363446939999196],[-99.17946634,19.363251059999097],[-99.17960062,19.363149719999097],[-99.17979742999988,19.363035979999196],[-99.18000055,19.3629644599992],[-99.18019921999988,19.362925369999093],[-99.18054724999988,19.362904769999197],[-99.1809724,19.362927399999094],[-99.18119793999988,19.362909779999093],[-99.18154282999988,19.362821689999095],[-99.18185036999988,19.362711059999093],[-99.18232647999996,19.362555119999097],[-99.18267621999998,19.362347149999096],[-99.18353602999996,19.361781259999095],[-99.18371204999988,19.361718059999095],[-99.18388144999987,19.361705289999097],[-99.18483288999988,19.361780309999094],[-99.18499870999987,19.361772829999097],[-99.18537351,19.361733769999095],[-99.18554139999998,19.361718999999095],[-99.18568492,19.361724599999196],[-99.18662351999988,19.362069939999095],[-99.18679313999988,19.362154309999095],[-99.18700476999996,19.362263399999197],[-99.18784458,19.3628832199992],[-99.18800442999998,19.362945079999097],[-99.18811381999988,19.362980259999095],[-99.18821357999995,19.363003949999097],[-99.18830466,19.363016029999095],[-99.1884454,19.363028109999096],[-99.18867434,19.362996399999098],[-99.18913353999989,19.363014199999096],[-99.19015116999998,19.36323076999909],[-99.19050185999996,19.363319999999096],[-99.19109308999998,19.363489749999097],[-99.19093648999988,19.364835549999096],[-99.19082677999988,19.365851949999097],[-99.19078001999998,19.366434889999095],[-99.19075596999988,19.3667883999992],[-99.19076588999997,19.366886829999096],[-99.19078241999988,19.366990199999098],[-99.19079933999988,19.367085859999097],[-99.19084411999988,19.367258599999193],[-99.19090733999997,19.367421599999098],[-99.19100554,19.367594969999097],[-99.19122033999996,19.367980399999094],[-99.19143368999988,19.368377029999092],[-99.19153157999988,19.368545509999095],[-99.19162631999995,19.368770579999097],[-99.19165967999996,19.368867539999098],[-99.19172677999995,19.369089909999097],[-99.19176271,19.369251859999196],[-99.19179611999998,19.369470259999098],[-99.19181341999987,19.369729539999096],[-99.19181587999996,19.369969649999096],[-99.19179985999988,19.370150979999096],[-99.19174094999988,19.3706825799992],[-99.19164704999996,19.371511119999095],[-99.19164045,19.371654459999093],[-99.19165545999988,19.371869629999097],[-99.19167885999995,19.371995749999098],[-99.19172575,19.3721599999992],[-99.19182730999988,19.372415319999195],[-99.19191859999988,19.372628029999095],[-99.19200624999988,19.372813279999097],[-99.19210176999998,19.37309750999909],[-99.19211647999995,19.373195879999095],[-99.19213679999989,19.373324279999192],[-99.19214059999987,19.373403509999196],[-99.1921344,19.373598019999093],[-99.19205253999988,19.374247749999096],[-99.19190788999995,19.375284089999095],[-99.19179190999988,19.376123339999197],[-99.19177419999988,19.376264569999098],[-99.19163745999997,19.377415049999097],[-99.19162551999987,19.377668999999095],[-99.19163017999988,19.377882799999092],[-99.19163950999996,19.378058279999195],[-99.19169508999988,19.378793889999095],[-99.19170484999988,19.378929429999097],[-99.19175711999998,19.379633309999097],[-99.19175485999988,19.380358149999196],[-99.19175422999987,19.380831349999095],[-99.19174797999987,19.381339169999094],[-99.19174590999988,19.381633859999095],[-99.19173374999998,19.382680829999096],[-99.19169822999996,19.382914799999096],[-99.19168521999988,19.382974579999196],[-99.19167257,19.383029949999095],[-99.19139161999998,19.383716539999092],[-99.19132116999997,19.383881679999096],[-99.19124910999987,19.384050579999197],[-99.19124628999998,19.384057179999196],[-99.190998,19.384639179999095],[-99.19083521999988,19.385020739999096],[-99.19040205999988,19.386010549999096],[-99.19033885,19.386188769999197],[-99.19016614,19.386852659999096],[-99.18998701999998,19.387526139999096],[-99.18983867999997,19.388090679999195],[-99.18980902,19.388200379999095],[-99.18965788,19.388768569999097],[-99.18949644999996,19.389395109999096],[-99.18946974999989,19.389497429999093],[-99.18931548999988,19.390095419999096],[-99.18903756999998,19.391150689999193],[-99.18881581999987,19.392016599999096],[-99.18871228999988,19.392351889999095],[-99.18841324999988,19.39323014999909],[-99.18837027999987,19.393438119999093],[-99.18836419999998,19.393633449999097],[-99.18837245999995,19.39381736999909],[-99.18839323,19.393919119999197],[-99.18841437,19.3940182799992],[-99.18845179999988,19.394128059999197],[-99.18856925999988,19.394415169999196],[-99.18867971,19.394675029999092],[-99.18870661999988,19.394747649999097],[-99.18905516999988,19.395590339999195],[-99.18861667999988,19.395633419999097],[-99.18851021999988,19.395644969999097],[-99.18782212,19.395679319999196],[-99.18759816999987,19.39569230999909],[-99.18754861999996,19.39569264999919],[-99.18648965999988,19.395641449999097],[-99.18637601999995,19.395648599999095],[-99.18596165999998,19.395752049999096],[-99.18531174999995,19.39593331999909],[-99.18520828999998,19.395963519999196],[-99.18452490999988,19.396104719999094],[-99.18429904999988,19.396133919999095],[-99.18409705999989,19.396157419999096],[-99.18341677999996,19.396410599999097],[-99.18246329,19.396761339999195],[-99.18224272,19.396867429999094],[-99.18210124999987,19.396961399999096],[-99.18171347999998,19.396994289999096],[-99.18120954999988,19.397092579999093],[-99.18095754999987,19.397095919999096],[-99.18014948999988,19.39727194999919],[-99.17951159999998,19.397400349999096],[-99.17890317,19.397369029999098],[-99.17820130999988,19.397520459999093],[-99.17772750999988,19.397619889999095],[-99.17672316999987,19.397831709999195],[-99.17664041999988,19.397849149999196],[-99.17604619999996,19.397980509999098],[-99.17553236999996,19.398094109999093],[-99.17451874999988,19.398539779999197],[-99.174469,19.398555079999095],[-99.17445227999998,19.398560229999095],[-99.17407634999986,19.398675859999095],[-99.17398791999987,19.398703059999193],[-99.17338213999987,19.398889399999096],[-99.17310708999996,19.398973449999097],[-99.17225434999987,19.399234029999096],[-99.17043551999988,19.3997897999992],[-99.17024551999997,19.399834579999094],[-99.16894890999998,19.400140139999195],[-99.16806910999998,19.400347479999095],[-99.16789733999995,19.400387949999097],[-99.16754282999987,19.400483479999195],[-99.16712233999998,19.400628149999097],[-99.16647792,19.400878849999096],[-99.16587185,19.401103579999095],[-99.16526593999998,19.401330289999095],[-99.16476279999988,19.401531889999095],[-99.16433191999988,19.401715569999094],[-99.16380662999995,19.401906849999097],[-99.16324727999996,19.402101179999097],[-99.16301648999988,19.402174349999196],[-99.16268502999998,19.402282539999092],[-99.16228542,19.402405539999194],[-99.16177114999986,19.402574819999096],[-99.16133008999998,19.402706169999096],[-99.16088516999996,19.402842889999096],[-99.16076617,19.402879459999095],[-99.16033771999996,19.403010999999196],[-99.15968665999998,19.403200599999096],[-99.15898881999998,19.403413309999195],[-99.15853719999988,19.403546879999094],[-99.15814733999996,19.40366093999919],[-99.15772825999989,19.403785519999097],[-99.15717367999996,19.403933119999095],[-99.15695684999996,19.403982949999197],[-99.15670064999988,19.404024029999196],[-99.15632922999995,19.404063279999196],[-99.15616586,19.404060119999095],[-99.15539505999998,19.404060199999098],[-99.15310862999988,19.404055259999193],[-99.15241807999998,19.404057919999197],[-99.15177308999988,19.404058779999193],[-99.15123376999998,19.404052399999095],[-99.15114142999988,19.404051229999094],[-99.15020501999996,19.404049649999095],[-99.14973629,19.404040819999096],[-99.14877387999996,19.404032939999095],[-99.14860717999989,19.404031569999095],[-99.14849468999986,19.404028369999097],[-99.14794562999997,19.404019629999095],[-99.14762371999988,19.404014509999097],[-99.14680862999998,19.403981139999097],[-99.14602621999998,19.403940939999096],[-99.14590976999988,19.403936419999095],[-99.14497516999988,19.403875249999096],[-99.14416751999988,19.403833449999095],[-99.14340989,19.403793689999095],[-99.14267289,19.403757889999095],[-99.14174962999998,19.403706229999095],[-99.14089375,19.4036575799992],[-99.1400472,19.403616599999197],[-99.13914079999998,19.403562979999094],[-99.13820319999986,19.403509349999094],[-99.13764101999998,19.403479569999195],[-99.13740614999988,19.403463539999095],[-99.13734405999998,19.403438199999098],[-99.13723501999998,19.403310739999196],[-99.13717407999997,19.403183249999095],[-99.137124,19.403061509999095],[-99.13703479999998,19.402958199999095],[-99.13689263,19.402883819999097],[-99.13670027999996,19.402827909999097],[-99.13658764999995,19.402811819999194],[-99.13679462999988,19.401556719999096]]],\"type\":\"Polygon\"},\"properties\":{\"_id\":12,\"cve_ent\":9,\"cve_mun\":14,\"cvegeo\":9014,\"g_pnt_2\":\"19.3806424162,-99.1611346584\",\"geo_shp\":\"{\\\"type\\\": \\\"Polygon\\\", \\\"coordinates\\\": [[[-99.13679462999987, 19.401556719999096], [-99.13682022999988, 19.401341969999095], [-99.13688647999999, 19.400925369999097], [-99.13705744999997, 19.399854769999095], [-99.13718232, 19.399200319999093], [-99.13631653\",\"gid\":9,\"id\":11,\"nomgeo\":\"Benito Jurez\"},\"type\":\"Feature\"},{\"geometry\":{\"coordinates\":[[[-99.25697934999988,19.400431689999092],[-99.25693562999996,19.400456599999096],[-99.25689190999996,19.400481519999097],[-99.25680579999988,19.400575229999095],[-99.25667284999996,19.400719939999092],[-99.25652859999995,19.401139229999195],[-99.25638288999988,19.401522079999197],[-99.25618665999995,19.402037709999195],[-99.2561376,19.402178769999093],[-99.25612248999988,19.402222259999093],[-99.25601347999996,19.402535749999096],[-99.25602761999988,19.403124509999195],[-99.25603404999995,19.403392599999194],[-99.25603811,19.403561489999095],[-99.25580791,19.403572419999097],[-99.25567184999989,19.403311719999095],[-99.25556905999996,19.40309542999919],[-99.25537631999998,19.402575909999097],[-99.25537091999988,19.402311139999096],[-99.25540428999987,19.40201042999919],[-99.25536974999989,19.401875629999196],[-99.25522788999996,19.401513049999096],[-99.25525804999997,19.401138449999195],[-99.25535622999988,19.400682549999093],[-99.25540497999997,19.400363079999092],[-99.25536836999996,19.40005936999909],[-99.25524654,19.399514849999196],[-99.25520685999996,19.3991398899992],[-99.25525064999988,19.398675779999195],[-99.25540701999986,19.398189199999095],[-99.25568354999989,19.397262709999193],[-99.25621504999997,19.396674539999097],[-99.25635428999998,19.396513859999096],[-99.25769385999988,19.395581249999193],[-99.25844339999998,19.395052019999095],[-99.25900157999988,19.3947503699992],[-99.25918464999988,19.394651119999093],[-99.259271,19.394604289999197],[-99.25948993999997,19.394467889999095],[-99.25956576999988,19.394392229999095],[-99.25962639999987,19.394312999999094],[-99.25964344999988,19.39427701999919],[-99.25965474999995,19.394228429999096],[-99.25966028999989,19.3941312899992],[-99.25962022999988,19.393957249999097],[-99.25958504999988,19.393763849999097],[-99.25957539999987,19.393710749999094],[-99.25938948999998,19.393177399999097],[-99.25928410999988,19.392742029999095],[-99.25927587999988,19.392648449999097],[-99.25925151999988,19.392599369999097],[-99.25921587999989,19.392567199999093],[-99.25888790999988,19.392434479999093],[-99.25879443,19.392425999999197],[-99.25868726,19.39245627999909],[-99.25847106,19.392669579999197],[-99.25837581999996,19.392705519999097],[-99.25784502999988,19.392760479999197],[-99.25680816999989,19.392843149999095],[-99.25667223,19.392865249999097],[-99.25654769,19.392898259999097],[-99.25608311,19.393315319999097],[-99.25596048999986,19.393401819999095],[-99.25584931,19.393450949999096],[-99.25566567999988,19.393494319999096],[-99.25547310999998,19.393522849999098],[-99.25530144999998,19.393545769999196],[-99.25507459999989,19.393608879999196],[-99.25483967999998,19.39370739999919],[-99.25456533999989,19.393880719999096],[-99.25444227999998,19.393980749999095],[-99.25437821999998,19.3940661099992],[-99.25435774999988,19.394146519999097],[-99.25437064999988,19.394219579999096],[-99.25440437999995,19.394289379999098],[-99.25481775,19.394741919999195],[-99.25488197,19.394844149999095],[-99.25492822999988,19.394963459999097],[-99.25494665,19.395090489999095],[-99.25490648999988,19.395158859999093],[-99.25484728999996,19.395195109999097],[-99.25475424999988,19.395216749999097],[-99.25459471,19.395158719999095],[-99.25444071999998,19.395076109999096],[-99.25430133999998,19.394987979999097],[-99.25392654999987,19.394681549999092],[-99.25345491999995,19.394206829999096],[-99.25322496999988,19.393989779999096],[-99.25302377999998,19.393747369999097],[-99.25296082999988,19.393632889999097],[-99.25288465999988,19.393572219999196],[-99.25255667999988,19.393524879999095],[-99.25189479999987,19.393469879999095],[-99.25159305999988,19.393460649999096],[-99.25147590999988,19.393460819999092],[-99.25127934999988,19.393485599999195],[-99.25102848999995,19.393578909999096],[-99.25086674999989,19.393651249999195],[-99.25062545999997,19.393695319999196],[-99.25020727999998,19.393678859999095],[-99.24999368,19.393655459999096],[-99.24986345999996,19.393630619999197],[-99.24959177999988,19.393551249999096],[-99.24942586,19.393483179999095],[-99.24925161999988,19.393426379999095],[-99.24905941999997,19.393455179999098],[-99.24890327999996,19.393535249999196],[-99.24873891,19.39367602999919],[-99.24854308999988,19.393843749999096],[-99.24836902,19.394009399999096],[-99.24820092,19.394146539999195],[-99.24799076999987,19.394272309999096],[-99.24780828999997,19.394303979999098],[-99.24764621999998,19.394306749999096],[-99.24723099999989,19.394251649999095],[-99.2470358,19.394181909999094],[-99.24693333999988,19.394074149999195],[-99.24685828999998,19.39397693999919],[-99.24680581999998,19.393850679999197],[-99.24675324999998,19.393706049999093],[-99.24673613999988,19.393543429999095],[-99.24680382999998,19.393176749999096],[-99.24691548999998,19.392828919999097],[-99.24695413999996,19.392660709999095],[-99.24718196999996,19.392425549999093],[-99.24772253999998,19.391959089999094],[-99.24781262,19.391862179999094],[-99.24785817999997,19.39179330999909],[-99.24809664999998,19.391334179999095],[-99.24819061999987,19.391139019999095],[-99.24836054999996,19.390786029999095],[-99.24841209,19.390705969999097],[-99.24850374,19.390563619999096],[-99.24852708999998,19.390409369999094],[-99.24852339999988,19.390309939999096],[-99.24850788999996,19.390191919999097],[-99.24840382999996,19.388789059999095],[-99.24833069,19.387685109999197],[-99.24827817999989,19.387468419999095],[-99.24813356999988,19.387119309999097],[-99.24799134999986,19.3867763799992],[-99.24778345999988,19.386512749999195],[-99.24768787999987,19.386319119999097],[-99.24763322999998,19.386172309999193],[-99.24765261999988,19.385957019999097],[-99.24878084999987,19.385039689999196],[-99.24974697999988,19.384265049999197],[-99.25003402,19.384035799999097],[-99.25032502,19.383833939999096],[-99.25068097999998,19.383608199999095],[-99.25077030999988,19.383548489999097],[-99.25118897999988,19.383280479999197],[-99.25247095,19.382466139999096],[-99.25424664999998,19.38133436999919],[-99.25460510999989,19.38110588999909],[-99.25498705999988,19.380865649999095],[-99.25579419999998,19.380354489999196],[-99.25607994999989,19.380173519999097],[-99.25690916999996,19.3796130599992],[-99.25714730999988,19.379409519999097],[-99.25765248999988,19.378951229999092],[-99.25792307999988,19.378705749999096],[-99.25888725,19.377844219999098],[-99.25980425999998,19.377026849999098],[-99.26059685999988,19.376353219999096],[-99.26102988999996,19.376033449999095],[-99.26135349,19.375840659999096],[-99.26168898,19.375661779999096],[-99.26204328999997,19.375489739999097],[-99.26297807999995,19.375038919999096],[-99.26325705999987,19.3749563799992],[-99.26346961999998,19.374909429999096],[-99.26378153999998,19.374858429999197],[-99.26505914999989,19.374666979999095],[-99.26564381999997,19.374579369999093],[-99.26630348999998,19.374474109999095],[-99.26636714999988,19.374456399999097],[-99.26642927999988,19.374435719999195],[-99.26649016999988,19.374411979999092],[-99.26654967999995,19.374385249999097],[-99.26660761999987,19.374355599999095],[-99.26666384999996,19.374323109999096],[-99.26671819999989,19.374287879999095],[-99.26677055,19.374249979999096],[-99.26682073999989,19.374209549999097],[-99.26686861999995,19.374166689999097],[-99.26691407999998,19.374121489999094],[-99.26695696999998,19.374074109999096],[-99.26699734999988,19.374024479999097],[-99.26725644999998,19.373593659999095],[-99.26733096999996,19.373514279999096],[-99.26740701999988,19.373453279999097],[-99.267501,19.373405019999197],[-99.26757711,19.373372319999095],[-99.26766664999998,19.373353779999096],[-99.26774564999988,19.373349289999094],[-99.26782847999998,19.373352919999096],[-99.26793102999989,19.37337161999919],[-99.26800674999996,19.373385459999096],[-99.2680804,19.373409259999196],[-99.26814771999987,19.373431109999196],[-99.26840957999995,19.373525779999092],[-99.26848654999998,19.373542289999097],[-99.26856047999988,19.373554379999096],[-99.26862364999988,19.373562449999195],[-99.26869482999996,19.373565339999097],[-99.26877058,19.373565969999195],[-99.26883708999998,19.373562519999197],[-99.26890956999988,19.373556169999095],[-99.26897382,19.373547519999097],[-99.26911873999988,19.373527199999092],[-99.26923952,19.373510309999094],[-99.26934141999998,19.373489879999095],[-99.26943791999996,19.373466569999195],[-99.26952387999997,19.373441119999097],[-99.26965097999988,19.373389459999093],[-99.26977761999989,19.373314339999094],[-99.26984961999987,19.373257399999098],[-99.26991793999996,19.3732031799992],[-99.26997725999988,19.373137969999195],[-99.27002688999988,19.373069709999097],[-99.27007190999988,19.372996999999096],[-99.27010556999988,19.372921279999098],[-99.27014339999988,19.372810259999095],[-99.27015756999997,19.372715169999097],[-99.27016102,19.37262913999909],[-99.27015664999998,19.372503379999195],[-99.27013159999989,19.372355969999095],[-99.27008374,19.37220387999909],[-99.26977802,19.371444349999095],[-99.26889461999995,19.371667479999097],[-99.26837994999988,19.371808829999196],[-99.26829570999988,19.371462799999193],[-99.26825931999998,19.3712337799992],[-99.26822779999998,19.370953849999097],[-99.26824145999989,19.370697449999096],[-99.26825145999996,19.370590449999195],[-99.26827490999987,19.370420429999097],[-99.26832522999987,19.370252019999096],[-99.26839248,19.370052619999097],[-99.26863237999996,19.369607819999096],[-99.26894901999997,19.369241149999095],[-99.26910864999986,19.369063849999097],[-99.26901605999988,19.368967799999197],[-99.26861834999988,19.368806119999096],[-99.26843377999988,19.368713169999097],[-99.26828187999988,19.368700859999095],[-99.26815974,19.3687167099992],[-99.26805742999989,19.36874190999909],[-99.26791552,19.36878750999909],[-99.26779016999988,19.368856569999096],[-99.26749654999998,19.369084139999096],[-99.26731516999988,19.369226719999094],[-99.26719719999988,19.369346079999197],[-99.26709929,19.369506049999096],[-99.26686793999988,19.369899489999096],[-99.26664654999988,19.370289739999095],[-99.26644513999996,19.370635509999197],[-99.26639534,19.370720829999097],[-99.26629941999988,19.371012109999096],[-99.26626734999988,19.371146949999098],[-99.26624548999987,19.371238939999092],[-99.26622265999995,19.371372799999197],[-99.26618021999998,19.371500059999192],[-99.26607353999997,19.371625319999197],[-99.26580370999989,19.371858139999095],[-99.26558823,19.372013919999095],[-99.26549194999988,19.372037169999096],[-99.26540668999988,19.372019449999097],[-99.26531471,19.371959749999096],[-99.26507495,19.371745649999095],[-99.26545061999995,19.371026569999096],[-99.26580439999998,19.370205289999095],[-99.26604696999998,19.369618179999097],[-99.26635848999996,19.368866259999095],[-99.26657606,19.368318709999095],[-99.26665779999988,19.36806541999919],[-99.26672311,19.367808709999093],[-99.26677931999988,19.367515059999096],[-99.26678904999989,19.367027709999196],[-99.26676313999997,19.366809999999095],[-99.26665747999998,19.366148849999195],[-99.26660514999998,19.365799429999093],[-99.26657405999995,19.365648509999097],[-99.26653247999997,19.365534539999096],[-99.26649154999988,19.365279709999097],[-99.26646081999988,19.365019889999097],[-99.26645288999995,19.364690079999097],[-99.26647333999988,19.364394219999195],[-99.26651587999996,19.364165319999195],[-99.26657758,19.363960919999094],[-99.26683310999988,19.363545279999094],[-99.26591530999998,19.363197969999096],[-99.26563874999988,19.363066909999095],[-99.26534850999997,19.362929369999197],[-99.26510477999987,19.362842449999196],[-99.26484297999995,19.362760829999193],[-99.26426477999998,19.362599229999095],[-99.26374073999988,19.36245014999909],[-99.26322462999995,19.362283999999093],[-99.26282668,19.362131049999196],[-99.26253762999988,19.361989819999195],[-99.26224321999987,19.361817849999092],[-99.26199564999988,19.361667799999196],[-99.26185307999997,19.361562169999093],[-99.26168222999988,19.361429579999097],[-99.26143108,19.361219169999092],[-99.26125985,19.361044399999095],[-99.26113327999998,19.360825739999097],[-99.26104705999988,19.360543139999095],[-99.26091044999995,19.359837509999092],[-99.26059402999988,19.358332619999196],[-99.26031361999998,19.356975219999097],[-99.26025171999996,19.356488569999193],[-99.26015613999998,19.355872059999097],[-99.26001619999988,19.355285229999097],[-99.25984148999996,19.354207229999098],[-99.25946573999988,19.352817769999096],[-99.25940270999988,19.3524788899992],[-99.25924857999988,19.351774549999195],[-99.25923087999988,19.351518819999193],[-99.25923739999988,19.351220819999092],[-99.25926894,19.350927919999094],[-99.25932474999988,19.350716569999097],[-99.25938602,19.35050962999909],[-99.25937691999997,19.350371969999095],[-99.25934925999996,19.350245569999096],[-99.25933077999996,19.350174679999096],[-99.25930798,19.350121079999095],[-99.25926696999989,19.350064629999196],[-99.25922145,19.350024629999194],[-99.25915319999996,19.34998465999919],[-99.25908713999988,19.349966279999094],[-99.25903841999998,19.349962229999196],[-99.25841450999997,19.350071119999196],[-99.25838259999988,19.350073979999095],[-99.25835089,19.350067219999097],[-99.25832342999998,19.350055619999097],[-99.25828874999988,19.350028509999092],[-99.25825908999995,19.349994599999192],[-99.25822908,19.349948399999196],[-99.25820739999988,19.349893569999196],[-99.25820215,19.349848619999097],[-99.25819867999986,19.349804289999092],[-99.25820658,19.349759939999096],[-99.25822587999988,19.349710169999096],[-99.25827496999987,19.349648109999094],[-99.25831649,19.349611879999095],[-99.25862017999997,19.349432859999094],[-99.25899211999996,19.349227379999096],[-99.25922757999996,19.34906093999909],[-99.259326,19.348953739999097],[-99.25941537999988,19.348842709999097],[-99.25949756999997,19.348687279999098],[-99.25956736999989,19.348562999999196],[-99.25963844999988,19.348473709999094],[-99.25971995,19.348389489999096],[-99.25979831999987,19.348332859999097],[-99.25989901999998,19.34829079999909],[-99.25998941999995,19.348281289999097],[-99.26021102999988,19.3482719099992],[-99.26036117999998,19.348255859999096],[-99.26057022999998,19.348209449999192],[-99.26101837,19.347952939999093],[-99.26107957999989,19.347898249999197],[-99.26113190999988,19.3478299399992],[-99.26112301999989,19.347776709999096],[-99.26107344999998,19.347751739999097],[-99.26101510999987,19.347749739999095],[-99.2609568,19.347765479999097],[-99.26084701999996,19.347859249999097],[-99.26071768999998,19.347939319999096],[-99.26057076999987,19.3480122599992],[-99.26032813999988,19.348066029999096],[-99.26018791999998,19.348064819999095],[-99.26008633999996,19.3480526599992],[-99.25981764999987,19.34797945999909],[-99.25973143,19.347971919999196],[-99.25967187999996,19.3479742599992],[-99.25957261999996,19.348007369999095],[-99.25927610999996,19.348123379999095],[-99.25916033999988,19.348182379999095],[-99.25907095,19.348219149999096],[-99.259013,19.348210569999097],[-99.25897431999988,19.348172999999097],[-99.25896915,19.348120919999097],[-99.25899750999996,19.348059169999193],[-99.25903173999988,19.348032909999095],[-99.25943568999998,19.347877719999097],[-99.25960576999988,19.347819229999093],[-99.25972031,19.347790539999195],[-99.25981906,19.347748289999092],[-99.25989997,19.347675139999097],[-99.25997404999995,19.347618289999197],[-99.26020267999988,19.347532859999195],[-99.26027786,19.34751782999909],[-99.26034413999996,19.347522979999095],[-99.26043165999988,19.34753650999909],[-99.26057311999988,19.347523829999098],[-99.26062705999998,19.347497629999197],[-99.26066584999988,19.34746007999919],[-99.26072485,19.347325169999095],[-99.26077234999998,19.347259029999098],[-99.26087411999998,19.347192369999096],[-99.26100675,19.347191179999097],[-99.26119333999998,19.347178089999097],[-99.26125913999988,19.347123119999196],[-99.26139087999998,19.347039079999195],[-99.26146617999989,19.347038429999095],[-99.26156568999988,19.347048949999095],[-99.26162291999997,19.347051309999095],[-99.26170114999998,19.347039169999096],[-99.26189927999997,19.346968849999097],[-99.26196237,19.346945349999096],[-99.26204014999998,19.346890379999095],[-99.26208470999995,19.346827059999192],[-99.26215333999988,19.346757829999195],[-99.26224313999988,19.346702659999195],[-99.26234524999988,19.346673229999094],[-99.26243253999988,19.346666689999097],[-99.26251111999989,19.346686019999098],[-99.26257151999988,19.346705539999196],[-99.26263811999998,19.34673922999909],[-99.26273524999998,19.346807049999093],[-99.26282322999997,19.346869199999094],[-99.26289267999988,19.346888519999094],[-99.26297396999988,19.346887859999097],[-99.26306092,19.346841289999094],[-99.26314764999996,19.346774739999095],[-99.26319536999988,19.346725779999097],[-99.26324848999997,19.346608029999093],[-99.26328061999996,19.346504779999098],[-99.26329777999987,19.346416019999097],[-99.26332084999996,19.346307169999097],[-99.26335613999996,19.346226779999196],[-99.26343074999988,19.346151749999095],[-99.26350865999989,19.346105279999097],[-99.26362570999996,19.346067059999097],[-99.26374307999995,19.346054599999096],[-99.26382438,19.3460453499992],[-99.26391787999988,19.346053079999095],[-99.26402610999996,19.346034949999098],[-99.26408613999988,19.346008739999096],[-99.26414585999996,19.345959579999196],[-99.26416279999988,19.345842169999095],[-99.26416774999988,19.345727739999095],[-99.26417532,19.345578979999093],[-99.26417408999998,19.345458879999097],[-99.26419725999988,19.345358619999196],[-99.26424191999998,19.345309569999095],[-99.26430771999998,19.345254709999192],[-99.26437670999996,19.345231199999095],[-99.26446421999998,19.345239029999096],[-99.26454576999998,19.345266829999098],[-99.26464244999988,19.345291739999094],[-99.26470881999995,19.345305459999196],[-99.26477484999998,19.345279149999097],[-99.26484347999995,19.3452070299992],[-99.26487570999988,19.345118139999094],[-99.2648956,19.344994939999097],[-99.26488211999998,19.344849279999096],[-99.26488167999996,19.344803459999095],[-99.26489625999989,19.344757619999193],[-99.26493797999989,19.344705779999096],[-99.26497685999998,19.344676799999096],[-99.26502481999988,19.344653509999095],[-99.26508191999989,19.344641579999095],[-99.26513311999996,19.344635449999096],[-99.26521736999987,19.344623219999097],[-99.26530445999998,19.344602489999197],[-99.26540971999997,19.344584349999096],[-99.26546671999988,19.3445581499992],[-99.26556257999988,19.34449717999909],[-99.26558767999995,19.344464429999196],[-99.26563992,19.344396399999095],[-99.26566898,19.344290349999095],[-99.26576090999995,19.3441408299992],[-99.26578182999997,19.344126429999196],[-99.26587476999998,19.344079849999098],[-99.26596194999988,19.344061909999095],[-99.26604336999998,19.344066849999095],[-99.26616096999996,19.344080149999098],[-99.26626353999988,19.344096349999095],[-99.26637817999988,19.344106849999196],[-99.26652291999989,19.344119829999094],[-99.26662231999988,19.344124659999093],[-99.26677551999988,19.344074739999098],[-99.26683511999988,19.344011289999095],[-99.26693257999987,19.343813049999095],[-99.267099,19.343574229999195],[-99.26734852,19.343214629999096],[-99.26764485999998,19.342717249999197],[-99.26798437999996,19.342316749999192],[-99.26817793999996,19.342086279999194],[-99.26823175,19.342045819999097],[-99.26830356999989,19.341996539999094],[-99.26834538,19.341958969999094],[-99.26838111999987,19.341915819999095],[-99.26841697,19.341889739999097],[-99.26848005999987,19.341869119999096],[-99.26854608999996,19.341845709999095],[-99.26863948999988,19.34184484999909],[-99.26872688999995,19.3418497799992],[-99.26882945999988,19.3418631799992],[-99.26893812,19.341882279999098],[-99.26916167999995,19.341946019999096],[-99.26934928999997,19.342038739999097],[-99.26948768999988,19.342014679999096],[-99.26983751999988,19.341751349999097],[-99.26998052,19.341581319999097],[-99.27036111999988,19.341380679999094],[-99.27069636999988,19.341166089999096],[-99.27143776999998,19.340890709999098],[-99.27177074,19.340741909999196],[-99.27208270999988,19.34060470999909],[-99.27232885999996,19.340519569999095],[-99.27249381999997,19.340443769999094],[-99.27267042999988,19.340333519999096],[-99.27284997999998,19.340208999999195],[-99.27296090999988,19.340153709999097],[-99.27312924999988,19.340115029999097],[-99.27330644999986,19.340059109999093],[-99.27360323,19.339913429999093],[-99.27387582999988,19.339759479999096],[-99.27421423,19.339550569999098],[-99.27450844999996,19.339450719999096],[-99.27502165999988,19.339257449999096],[-99.27539341999989,19.33907396999919],[-99.27598781999988,19.338862779999097],[-99.27658173999998,19.338600149999195],[-99.27731995,19.3383104799992],[-99.27800624999998,19.337955539999097],[-99.27849816999998,19.337733819999094],[-99.27884394999988,19.337673459999095],[-99.27920781999995,19.33760448999919],[-99.27964788999998,19.337629119999097],[-99.27986722999997,19.337570049999194],[-99.28003749,19.337425549999093],[-99.28031393999996,19.337351549999095],[-99.28063911999998,19.337337229999093],[-99.28095585999988,19.337380119999096],[-99.28115624999997,19.337434079999092],[-99.28116824999988,19.337328939999196],[-99.28115985999987,19.33721225999909],[-99.28112151999989,19.337099139999196],[-99.28105877999998,19.337006509999092],[-99.28096442,19.336920179999197],[-99.28060917999989,19.336732739999093],[-99.28021722999988,19.336528139999096],[-99.28015750999998,19.33645525999909],[-99.28010791999998,19.336360889999096],[-99.28005422999988,19.336247949999095],[-99.28003039999996,19.336098139999095],[-99.28006196999988,19.335454489999197],[-99.28009050999997,19.335358519999097],[-99.28014037999998,19.335286829999095],[-99.28021064999989,19.335232019999093],[-99.28029825999988,19.335199049999098],[-99.28038129,19.335182509999097],[-99.28049777999998,19.335175769999097],[-99.28065125999996,19.335210539999192],[-99.28183705999996,19.33555368999909],[-99.28196671999989,19.335607179999094],[-99.28207550999998,19.335649059999096],[-99.28222551,19.335716429999096],[-99.28238250999998,19.335800279999095],[-99.28302058,19.336237089999095],[-99.28315607999998,19.336327399999096],[-99.28329956999988,19.336414879999197],[-99.28357467999987,19.336531019999093],[-99.28381498,19.336603719999097],[-99.28396024999988,19.336624969999097],[-99.28433321999988,19.336676139999096],[-99.28447773999989,19.336664709999095],[-99.28460376999998,19.336646509999095],[-99.28471394999995,19.336614749999097],[-99.28484921999988,19.336536519999097],[-99.28495155,19.336472049999095],[-99.28505028999987,19.336377889999095],[-99.28508625999989,19.336321799999197],[-99.28512054999996,19.3362683499992],[-99.28519236999988,19.336113709999097],[-99.28598539999987,19.334244889999095],[-99.28628899999988,19.333584599999092],[-99.28653037999996,19.333117859999195],[-99.28676752,19.332629709999093],[-99.28683950999988,19.332494509999098],[-99.28693081999988,19.33232297999909],[-99.28729701999995,19.331579229999097],[-99.28743989,19.331295459999097],[-99.28749770999998,19.331149259999197],[-99.28751995,19.331036459999197],[-99.28752344999998,19.330991089999095],[-99.28752631,19.3309537699992],[-99.28751630999987,19.330820799999096],[-99.28747297999988,19.330666339999095],[-99.28741254,19.330547659999095],[-99.28733024999998,19.330432089999096],[-99.28710542999988,19.330199949999095],[-99.28678117999998,19.329851539999098],[-99.28669856999988,19.329770829999095],[-99.28677474999988,19.3297389199992],[-99.28691004999988,19.329775539999197],[-99.28710134999989,19.329857019999192],[-99.28743247999986,19.330012139999095],[-99.28787567999989,19.330223349999095],[-99.28799091999998,19.330300549999095],[-99.28807313999988,19.330381689999097],[-99.28819781999988,19.330490849999094],[-99.28832271,19.330669769999098],[-99.28837157999996,19.330907979999193],[-99.28839551999988,19.331134399999097],[-99.28837061999998,19.331322289999193],[-99.28828917999998,19.331575879999097],[-99.28818659999988,19.331830889999097],[-99.28809707999989,19.33201545999909],[-99.28785893999998,19.332510629999195],[-99.28768291999997,19.332959799999095],[-99.28765771999998,19.333063349999197],[-99.28765690999988,19.333153369999096],[-99.28767084999996,19.333230659999096],[-99.28769517999989,19.33330862999909],[-99.28772962999987,19.333366449999097],[-99.28777465999998,19.333411859999096],[-99.28782802999996,19.333447969999195],[-99.28789396999998,19.333471769999196],[-99.28795990999998,19.333478119999196],[-99.28807250999988,19.333459399999096],[-99.28817142999998,19.333415539999095],[-99.28825569,19.333361169999197],[-99.28832321999988,19.333304049999096],[-99.28855201999988,19.333085349999095],[-99.28886644999989,19.3327847799992],[-99.28945628999998,19.3320996199992],[-99.28973662999988,19.331705029999092],[-99.29014771999988,19.330792949999097],[-99.29031782999998,19.330556779999196],[-99.29082545999998,19.329853939999197],[-99.29086449,19.329799889999197],[-99.29117670999987,19.329353689999095],[-99.29126433999988,19.329157259999096],[-99.29132228,19.328990939999095],[-99.29136657999996,19.328840419999196],[-99.29138942,19.328675629999196],[-99.29135951999996,19.328447339999094],[-99.29126704999996,19.328184319999096],[-99.29079894999988,19.327059679999092],[-99.29077473999988,19.326957649999095],[-99.29077648,19.326791509999097],[-99.29078244999988,19.326648879999095],[-99.29080881999988,19.326577539999196],[-99.29092982999995,19.326348679999096],[-99.29133844999988,19.325575999999096],[-99.29137027999997,19.325528029999095],[-99.29148699999988,19.325352119999195],[-99.29158137,19.325184229999092],[-99.29165405999996,19.325034949999093],[-99.29171171999997,19.324866369999093],[-99.29175230999988,19.32466290999909],[-99.29176184999989,19.324470539999098],[-99.29175386,19.324360429999093],[-99.29174124999996,19.324207939999095],[-99.29166956999988,19.323777399999095],[-99.29161445999988,19.323460829999096],[-99.29158385999988,19.323300979999097],[-99.29153139999988,19.322993649999095],[-99.29151405999988,19.322940819999097],[-99.29149722999988,19.322889579999096],[-99.29148214999998,19.322843649999097],[-99.29142541999988,19.322740379999097],[-99.29136534999998,19.322670169999096],[-99.29130217999987,19.322616419999097],[-99.29116327999998,19.32252467999919],[-99.29084125,19.322413649999092],[-99.29067053999988,19.322315519999194],[-99.29056376999988,19.322224599999096],[-99.29049566,19.3221347999992],[-99.29043682999998,19.322010579999095],[-99.29042273999988,19.32189533999909],[-99.2904286,19.321761689999196],[-99.29045137999998,19.321662139999095],[-99.29048422999988,19.321569289999196],[-99.29057247999997,19.321454819999097],[-99.29070305,19.3213495099992],[-99.29075371999988,19.321328219999092],[-99.29101650999988,19.321253939999195],[-99.29142498,19.3211668499992],[-99.29175874999996,19.321103079999094],[-99.29197870999997,19.321063659999197],[-99.29215988999988,19.321033249999097],[-99.29238984999988,19.320978109999093],[-99.29259311999998,19.3209037199992],[-99.29280594999987,19.320792179999096],[-99.29298708999988,19.320658909999196],[-99.29314347999998,19.320531049999097],[-99.29332248999997,19.320339949999095],[-99.29343834,19.320168229999098],[-99.29356377999989,19.319879999999195],[-99.29361687999987,19.31956470999919],[-99.29371757999998,19.318968449999197],[-99.29375953999988,19.31883148999909],[-99.29380714,19.318707399999095],[-99.29389264999998,19.318501229999097],[-99.29398976999988,19.318276739999092],[-99.29418493999997,19.317835319999094],[-99.29427225999989,19.317640219999095],[-99.29437650999988,19.317415909999095],[-99.29451850999996,19.317128719999097],[-99.29457576999988,19.317005689999096],[-99.29474037999988,19.316914339999094],[-99.29477267999988,19.316915689999096],[-99.29484628999988,19.31691876999909],[-99.29492122,19.316945539999196],[-99.29499341999995,19.31701674999919],[-99.29516582999996,19.317302829999196],[-99.29526756999998,19.317449679999097],[-99.29535922,19.317535909999197],[-99.29546754999988,19.317563709999195],[-99.29557465,19.317550319999192],[-99.29567177999998,19.317481369999093],[-99.29591517999988,19.317307719999096],[-99.29612482,19.317198379999095],[-99.29634536999998,19.317173369999097],[-99.29646134999987,19.317229399999093],[-99.29651863,19.317295779999096],[-99.29655436999998,19.317380649999095],[-99.29654347999998,19.317469149999095],[-99.29644389,19.31778787999909],[-99.29639424999998,19.31799908999919],[-99.29640142999988,19.318111479999093],[-99.29642842,19.3182291099992],[-99.29673968999998,19.318634059999095],[-99.29688379999996,19.3187582799992],[-99.29709848,19.318850569999096],[-99.29733621999998,19.318912889999098],[-99.29753557999996,19.318946889999197],[-99.2977094,19.318987429999098],[-99.29797256999989,19.319096829999197],[-99.29815910999996,19.319185459999098],[-99.29827687999988,19.319309259999095],[-99.29840424999998,19.31944022999919],[-99.29857068999988,19.319687429999096],[-99.29869182999988,19.31993950999909],[-99.29881197,19.320471599999095],[-99.29884887999997,19.320677349999094],[-99.29899542999998,19.321060379999196],[-99.29907846,19.321187419999195],[-99.29931516999989,19.3212842799992],[-99.29961491999988,19.321507109999096],[-99.29974185999998,19.321743879999097],[-99.2998082,19.321897319999096],[-99.30004281999996,19.322175509999095],[-99.30010581999989,19.322254889999098],[-99.30016781999988,19.322300979999095],[-99.30021605999998,19.32232471999909],[-99.30034528999988,19.322339149999195],[-99.30040925999997,19.322327649999092],[-99.30046630999998,19.322304109999095],[-99.30052944999989,19.322254079999095],[-99.30056284999988,19.322189479999096],[-99.30057147999996,19.322129849999097],[-99.30057164999988,19.322030149999097],[-99.30056233999989,19.321910819999093],[-99.30054801999988,19.321781309999196],[-99.30050021999988,19.32163908999919],[-99.30049991999988,19.321479459999097],[-99.30055953999988,19.321320309999095],[-99.30058714999988,19.32114125999909],[-99.30062908999996,19.320918659999197],[-99.30059421999988,19.32060993999919],[-99.30059721999996,19.320449199999096],[-99.30066842999996,19.320213019999095],[-99.30073122999988,19.320134969999096],[-99.30079779999988,19.3200331999992],[-99.30084728999996,19.319915849999095],[-99.30098828999988,19.319789649999095],[-99.30105437999998,19.319660339999093],[-99.30110981999998,19.31944794999909],[-99.30110305999987,19.319238569999097],[-99.30113771999996,19.319072109999095],[-99.30117322999996,19.318973819999098],[-99.30118910999988,19.318865369999095],[-99.30124951999989,19.318716219999096],[-99.30134359999988,19.318619289999095],[-99.30150776999989,19.318615289999094],[-99.30161064999996,19.31861010999919],[-99.30169046,19.318594799999097],[-99.30174376999996,19.318543819999096],[-99.30177561999987,19.318491579999197],[-99.30179497999988,19.318412429999096],[-99.30180542999987,19.318304649999195],[-99.30178936999988,19.318250799999195],[-99.30175896999997,19.318194939999195],[-99.30137662999988,19.317866939999092],[-99.30132222999995,19.317808019999095],[-99.30125881999996,19.317712649999095],[-99.30119039999988,19.317464999999093],[-99.30115481999998,19.317175249999195],[-99.30113456999996,19.317051739999098],[-99.301138,19.316907349999195],[-99.30073442999998,19.316074459999097],[-99.30062748999995,19.315598249999095],[-99.30043805999998,19.315083049999195],[-99.30023090999998,19.314584859999098],[-99.30010276999998,19.314356649999095],[-99.30003684999998,19.313972819999098],[-99.30004687999998,19.313752569999195],[-99.30007598,19.313546919999094],[-99.30014062999996,19.313343149999096],[-99.30032082999998,19.312869219999097],[-99.30047175,19.312493579999096],[-99.30049017999988,19.312453109999097],[-99.30053802999998,19.312426889999095],[-99.30091517999988,19.312319319999094],[-99.30097557999989,19.312295969999095],[-99.30102976999996,19.31226933999919],[-99.30109008999987,19.312207249999098],[-99.30111443,19.312107969999097],[-99.30117284999989,19.311901279999095],[-99.30126622999988,19.3113563099992],[-99.30125545999988,19.311004249999097],[-99.30125809,19.309674179999096],[-99.30126524999996,19.30957561999919],[-99.30129001999988,19.309509479999093],[-99.3013296,19.309458259999097],[-99.30139509,19.3094382199992],[-99.30145528999998,19.309438119999097],[-99.30148210999988,19.309446049999096],[-99.30161422,19.309482279999095],[-99.30171210999995,19.309511829999096],[-99.30202068999988,19.309882919999097],[-99.30256903,19.310577139999097],[-99.30276709,19.310782859999197],[-99.30302471999988,19.3110417499992],[-99.30305887999997,19.311074709999197],[-99.30309877999996,19.311105379999095],[-99.30312122999996,19.311123089999096],[-99.30315737999987,19.311138349999197],[-99.30321219999998,19.311151259999093],[-99.30325947999988,19.311152369999096],[-99.30330178,19.311144049999097],[-99.30336284999996,19.311105999999096],[-99.30341876999996,19.311063079999094],[-99.30345239999995,19.311017179999094],[-99.30366154999987,19.310620709999093],[-99.30395695,19.310017379999096],[-99.30429085,19.309421119999097],[-99.30438531999988,19.309395739999196],[-99.30446208999987,19.309373179999096],[-99.30451525999987,19.309310919999096],[-99.30471570999998,19.309205149999094],[-99.30482239999998,19.309202969999095],[-99.30486287999996,19.309198019999094],[-99.30491387999987,19.309170249999095],[-99.30495748,19.309137479999094],[-99.30502867999986,19.309063519999093],[-99.30506818,19.308979679999094],[-99.30539676999987,19.308244229999197],[-99.30560505999988,19.307794429999095],[-99.30576027999987,19.307452119999095],[-99.30578761999998,19.30739925999919],[-99.30584922999998,19.307320349999095],[-99.30590770999996,19.307247149999096],[-99.30596477999988,19.307209199999097],[-99.3060298,19.307185719999097],[-99.30608571999988,19.307171509999097],[-99.30613351999988,19.307169349999096],[-99.30618895,19.307177109999092],[-99.30624349,19.307187859999093],[-99.30630770999988,19.307205279999096],[-99.30637284999987,19.307239379999096],[-99.30642322999988,19.307285999999195],[-99.30696225999998,19.307937579999095],[-99.30702008999997,19.307968319999095],[-99.30710558,19.307980769999094],[-99.30718145,19.307965769999193],[-99.30725425999997,19.307953119999095],[-99.30731117999989,19.307917179999095],[-99.30735902,19.307871169999096],[-99.30739381999987,19.307823429999097],[-99.30739136999988,19.306888519999095],[-99.30755870999998,19.306496199999096],[-99.30775025999998,19.305938799999097],[-99.30784661999988,19.305747349999095],[-99.30797934999995,19.305565119999095],[-99.30816334999996,19.305437799999098],[-99.30836790999987,19.305306919999197],[-99.30862750999988,19.305156719999196],[-99.30879197999997,19.305096149999095],[-99.30888870999988,19.305085579999098],[-99.30896124999998,19.305085459999095],[-99.30904042,19.305104079999097],[-99.30912397999998,19.305141509999196],[-99.30920765999998,19.305199749999097],[-99.30929348999996,19.305268459999095],[-99.30937059999997,19.305372579999094],[-99.30941934999998,19.305456689999097],[-99.30944151999988,19.305517999999196],[-99.30944413999995,19.3056006299992],[-99.30935855,19.305869619999196],[-99.30933222,19.306187449999097],[-99.30935585999998,19.306483279999195],[-99.30942186,19.306779029999095],[-99.30950687999996,19.306957879999096],[-99.31010907999988,19.30755031999909],[-99.31015382999998,19.307578519999197],[-99.31021493999997,19.307580449999097],[-99.31027662999998,19.307561549999097],[-99.31032897999988,19.3075338299992],[-99.31036973999989,19.307499629999096],[-99.310417,19.307456029999095],[-99.31046565999998,19.307375939999098],[-99.31063336999988,19.306890419999096],[-99.31068602,19.306809849999095],[-99.31074874999987,19.306760629999097],[-99.31080599999989,19.306734229999197],[-99.31088364999988,19.306744619999197],[-99.31097245999996,19.3067953399992],[-99.31120397999987,19.306876219999097],[-99.31133193999987,19.306903579999094],[-99.31141194999996,19.306897939999192],[-99.31157185999987,19.306805139999096],[-99.31178725999987,19.306564419999095],[-99.31193102999998,19.306396169999097],[-99.31205443,19.305961679999097],[-99.31222882,19.305550919999096],[-99.31228085999996,19.305229629999097],[-99.31214019999996,19.304926859999096],[-99.31202725999997,19.304553169999195],[-99.31197272,19.304339349999196],[-99.31209508999989,19.30416881999909],[-99.31228041999996,19.304168479999095],[-99.31287671999988,19.304178369999093],[-99.31309511999989,19.304088679999193],[-99.31326485999988,19.303932579999195],[-99.31360436999988,19.30359254999909],[-99.31388464999998,19.303068459999192],[-99.31391537999998,19.30252291999909],[-99.31387214999988,19.301943399999097],[-99.31391691,19.301589259999098],[-99.31398887999988,19.301440579999195],[-99.31414127999987,19.301379369999193],[-99.31441019999988,19.301378909999094],[-99.31469068999988,19.301452719999094],[-99.31479764999987,19.301428489999097],[-99.31514314999995,19.3012860799992],[-99.31543551,19.300881029999097],[-99.31577474999987,19.300532769999194],[-99.31610517999997,19.300258259999197],[-99.31640808,19.300054429999093],[-99.31643711999996,19.299997219999096],[-99.31643703,19.299952949999092],[-99.31639996999988,19.299875569999095],[-99.31628877999997,19.299731019999097],[-99.31614930999989,19.299594779999197],[-99.31594702999998,19.299376079999092],[-99.31589334999988,19.299173509999097],[-99.31593662999988,19.298984829999196],[-99.31601275,19.298810539999096],[-99.31611028999998,19.298636219999096],[-99.31623331999997,19.298340829999095],[-99.31623369,19.2981134299992],[-99.31635919999997,19.297749309999094],[-99.31646402999988,19.29741868999919],[-99.3167718,19.297016399999197],[-99.31695262999988,19.296475259999095],[-99.31716016999997,19.295816489999098],[-99.31715410999998,19.295086489999196],[-99.31695474999997,19.294647259999092],[-99.31710904999989,19.294252309999095],[-99.31702445999998,19.293969679999098],[-99.31706968,19.293643309999094],[-99.31712268999988,19.293403939999095],[-99.31710685999998,19.293113939999195],[-99.31704474999997,19.292606489999095],[-99.31696016999987,19.292323859999193],[-99.31668104999989,19.291714459999096],[-99.31655751999988,19.290877739999097],[-99.31614234999986,19.290310029999095],[-99.31573505999988,19.289903059999094],[-99.31604030999988,19.2886988199992],[-99.31619814999998,19.287699249999196],[-99.31658006,19.287182109999197],[-99.31667385999997,19.286136379999093],[-99.31624959999998,19.284396289999098],[-99.31581735,19.283710049999097],[-99.31573194999996,19.282891919999095],[-99.31572928999998,19.282199319999194],[-99.31613130999988,19.280784649999095],[-99.31627148999988,19.279768019999196],[-99.31670159999996,19.279305089999095],[-99.31692113999998,19.278246539999092],[-99.31684857,19.277660509999095],[-99.31715527999988,19.277046249999096],[-99.31711876999996,19.276171309999096],[-99.317189,19.275673659999097],[-99.31738357999996,19.274870709999096],[-99.31778973999997,19.274335849999098],[-99.31878457,19.273224939999096],[-99.32364316999995,19.265086659999096],[-99.32367795,19.264274429999094],[-99.32352025999988,19.251391309999097],[-99.32351966,19.2507428799992],[-99.32422826,19.238337879999097],[-99.32435594,19.234306999999195],[-99.32432028999987,19.232609799999096],[-99.3267196,19.232565569999196],[-99.33047402999988,19.237480479999096],[-99.33082147999988,19.237935289999097],[-99.33577199999988,19.239327079999093],[-99.34234096999988,19.241122399999096],[-99.34206867999988,19.247539199999093],[-99.34131687999997,19.252149479999197],[-99.33985722999986,19.259652909999197],[-99.33762984999996,19.264039969999093],[-99.33915988999988,19.267697149999197],[-99.34093897999998,19.267797799999094],[-99.341552,19.268094319999097],[-99.34191065,19.268178689999097],[-99.34225442999995,19.268291429999095],[-99.34277757999988,19.268474709999197],[-99.34305965999988,19.268547659999097],[-99.34349119999987,19.268872259999096],[-99.34370851999988,19.268961999999096],[-99.34407519999988,19.269115819999097],[-99.3446866,19.269475229999195],[-99.34512837999988,19.269992199999095],[-99.34552450999988,19.270437419999094],[-99.34584570999998,19.270806749999096],[-99.34615113999988,19.271307859999094],[-99.34629681999988,19.272022119999093],[-99.34647897999996,19.272229399999095],[-99.34751250999987,19.2730267199992],[-99.34821370999998,19.273960949999097],[-99.3561284,19.274989349999096],[-99.36192190999998,19.275741859999098],[-99.36492419999988,19.277769249999196],[-99.35358134999989,19.291934309999096],[-99.35453602999988,19.293288019999096],[-99.35371582999989,19.293361919999093],[-99.3534716,19.293383919999098],[-99.35327671,19.29347684999909],[-99.35299836999997,19.293649259999093],[-99.35241381999998,19.293994139999196],[-99.35195427999996,19.294140449999094],[-99.35149208999997,19.294152379999197],[-99.35125585999997,19.294966149999095],[-99.35292381999987,19.296047399999097],[-99.35349777999988,19.297401849999098],[-99.34998525999995,19.296837179999095],[-99.35627424999988,19.302014519999094],[-99.35636862999988,19.303333419999195],[-99.35660784999996,19.3066757999992],[-99.33384207999988,19.330590399999195],[-99.33342786,19.331371109999097],[-99.33279482999988,19.332415659999096],[-99.33230695,19.333518109999098],[-99.33191494999988,19.334954249999196],[-99.33182057999989,19.335537219999196],[-99.33164333999996,19.336632149999197],[-99.33168822999988,19.337793539999197],[-99.33159182999997,19.338109089999097],[-99.3314648,19.338426579999098],[-99.33119036999987,19.338792219999096],[-99.33119164999988,19.339427909999095],[-99.33115194999998,19.339775629999195],[-99.33066636999988,19.34006321999909],[-99.33033048999988,19.340987229999197],[-99.33020057999988,19.341124079999098],[-99.32972742999998,19.341622459999098],[-99.32948777999997,19.342269709999098],[-99.32916134999988,19.3429173099992],[-99.32902794999988,19.343379249999096],[-99.32893722999988,19.343615619999092],[-99.32875427999988,19.343856879999095],[-99.32870689,19.344250949999093],[-99.32847987999996,19.344717119999096],[-99.32827225999988,19.345202429999095],[-99.32888131999988,19.345624349999095],[-99.32879824999998,19.346038449999096],[-99.32844729,19.346819229999095],[-99.32853104999997,19.347608829999096],[-99.32869653999988,19.347896629999095],[-99.32862064999988,19.348307479999196],[-99.32858516999988,19.348499549999097],[-99.32845777999988,19.348903689999094],[-99.32839341999988,19.349138819999094],[-99.32832687999988,19.349487339999097],[-99.32842210999988,19.349706419999094],[-99.32863601999998,19.349965349999096],[-99.32885154999998,19.350356219999096],[-99.32875674999995,19.350643229999097],[-99.32871756999997,19.351007599999097],[-99.32864611,19.351381539999096],[-99.32882422999988,19.352104649999195],[-99.32867407999996,19.352679999999193],[-99.32848441999988,19.353092379999097],[-99.32804119999996,19.3533583499992],[-99.32770465,19.353636339999095],[-99.32766804999989,19.354043379999094],[-99.32743134,19.354133679999197],[-99.32673093999988,19.353822309999096],[-99.32639199999988,19.35367162999909],[-99.32584664999987,19.354593049999096],[-99.32571208,19.355001169999092],[-99.32552773999998,19.355258169999196],[-99.32530082999988,19.355534459999095],[-99.32505467999988,19.355720349999196],[-99.32503857999995,19.356025119999096],[-99.32467633999988,19.356415969999095],[-99.32414569,19.357335029999096],[-99.32376350999998,19.357952579999196],[-99.32328581999998,19.358337659999098],[-99.32282865999996,19.358499149999194],[-99.32221908999998,19.358660909999095],[-99.32204207999987,19.35862028999909],[-99.32155502999989,19.358508519999095],[-99.32075227999997,19.358198709999098],[-99.32043777999998,19.357962509999098],[-99.32014365,19.357741599999095],[-99.32010827999989,19.357715049999097],[-99.31915221999998,19.357628149999098],[-99.31876487999988,19.357845089999195],[-99.31854487999998,19.3579948499992],[-99.31813401999987,19.358156419999094],[-99.31849157999989,19.358475289999095],[-99.32069894999997,19.360443799999093],[-99.31954277999988,19.363618049999097],[-99.31811824999988,19.364156459999094],[-99.31804948999998,19.364820889999095],[-99.31760762999988,19.365729519999096],[-99.31686154999989,19.366306519999096],[-99.31538974999988,19.365888349999096],[-99.31452837999989,19.367240569999097],[-99.31406359999988,19.368392799999196],[-99.31380844999988,19.369301109999096],[-99.31308764999989,19.370448739999095],[-99.31070688999988,19.370407659999195],[-99.30977749,19.371174819999197],[-99.30928075,19.371584829999197],[-99.30776485999998,19.371561169999197],[-99.30612691999988,19.373599939999195],[-99.30500525999996,19.376833429999095],[-99.30427661999988,19.37731059999919],[-99.30348342999996,19.377830029999096],[-99.30155670999989,19.377168819999195],[-99.30130904999996,19.377083829999197],[-99.30185004999998,19.37594327999919],[-99.30193845,19.375756919999095],[-99.30155716999997,19.374924339999197],[-99.3013574,19.373835259999193],[-99.30125889,19.373020249999097],[-99.30115039999998,19.372233089999195],[-99.30099657999988,19.371943089999196],[-99.30096313999998,19.371769249999097],[-99.30094419999988,19.371222279999095],[-99.30088665999988,19.370618079999097],[-99.30099621999987,19.37010167999909],[-99.30123156999998,19.369700449999097],[-99.30058227999989,19.36905896999909],[-99.30041744999988,19.368896119999093],[-99.30041629,19.368894979999094],[-99.30041514999998,19.368893849999193],[-99.29968296999998,19.368170479999097],[-99.29901977999998,19.3675152599992],[-99.29871677999988,19.368301739999197],[-99.29862419999988,19.368493999999096],[-99.29843844999998,19.368879769999193],[-99.29826842999988,19.369071629999095],[-99.29816650999996,19.369186649999197],[-99.29791713999998,19.369324949999196],[-99.29747256999998,19.369413999999097],[-99.29694734,19.36931036999919],[-99.29655717,19.36923337999909],[-99.29623839999988,19.369182079999096],[-99.29576191999988,19.369105399999096],[-99.29558728999989,19.369077289999193],[-99.29531294999995,19.369377579999096],[-99.29507716999989,19.369585119999197],[-99.29494590999995,19.369713089999195],[-99.29477133999988,19.369864679999097],[-99.29444779999989,19.369924369999097],[-99.29414051999998,19.37004701999909],[-99.29407962999989,19.370071309999197],[-99.29388937,19.370147249999196],[-99.29375795,19.370441199999096],[-99.29364751999996,19.370688229999097],[-99.29341570999998,19.371206779999092],[-99.29323321999998,19.371917369999093],[-99.29315542999998,19.372022059999093],[-99.29292166,19.3723366899992],[-99.29261201999998,19.372660119999097],[-99.29229927999988,19.373010319999196],[-99.29223776999996,19.373079179999095],[-99.29205519999988,19.373283599999095],[-99.29183084999988,19.373396769999196],[-99.29164324999986,19.37349137999919],[-99.29117571999988,19.373487199999197],[-99.29113684999996,19.373841079999096],[-99.29106962999995,19.374020919999193],[-99.29076927999988,19.374317289999095],[-99.29061393999989,19.375022539999097],[-99.29012579999988,19.375008459999098],[-99.29002624999998,19.375005599999096],[-99.28979756999988,19.374998999999093],[-99.28971536999988,19.374996629999195],[-99.28957219999988,19.375189849999096],[-99.28927068999998,19.375165379999096],[-99.28894667999997,19.375139109999196],[-99.28876896999998,19.375124709999096],[-99.28864450999995,19.375114619999092],[-99.28828265999988,19.375527139999093],[-99.28810734999988,19.375726999999095],[-99.28805247999998,19.375789569999096],[-99.28784625999997,19.376268249999196],[-99.28780825999988,19.376356429999095],[-99.28766791999998,19.376682169999093],[-99.28690931999988,19.376502119999195],[-99.28639616999996,19.376433549999096],[-99.28622311,19.3764304499992],[-99.28613482999997,19.376431889999097],[-99.28569702999988,19.376439109999097],[-99.28570787999988,19.377246519999098],[-99.28566862999998,19.377631109999097],[-99.28507188999995,19.377999179999193],[-99.28511085999996,19.378869049999093],[-99.28504402,19.379050859999197],[-99.28484570999989,19.37911137999909],[-99.28467641999998,19.379349819999195],[-99.28456871,19.379688279999097],[-99.28446051999998,19.379760939999095],[-99.28423119999997,19.3797915099992],[-99.28381128999987,19.379667969999193],[-99.28377110999998,19.379977949999095],[-99.28329782999997,19.380440279999195],[-99.28283047999996,19.381403999999097],[-99.28266488,19.381415309999092],[-99.28184716999998,19.381471079999095],[-99.28177287999988,19.381476139999197],[-99.28052874,19.382043219999197],[-99.28018742999988,19.382198779999097],[-99.28003511999997,19.382268199999196],[-99.28003508999988,19.382268249999093],[-99.27952208999989,19.382807369999096],[-99.27912109,19.383228799999095],[-99.27871519999998,19.383539119999092],[-99.27847372,19.383723769999097],[-99.27604302,19.385582219999097],[-99.27606936999987,19.385192119999196],[-99.27567141999997,19.385499999999094],[-99.27368511,19.387036719999095],[-99.27360281999988,19.387239939999095],[-99.27321496999998,19.387586859999196],[-99.27300246,19.388352049999096],[-99.27297467999988,19.388549739999092],[-99.27290611999987,19.389021709999096],[-99.27277574999988,19.389379939999095],[-99.27243248999996,19.389678419999097],[-99.27183708999988,19.389736219999097],[-99.27104048999998,19.389930949999098],[-99.27029317999988,19.390096179999095],[-99.27022367999987,19.390111549999094],[-99.26977141999996,19.390266599999094],[-99.26956951999988,19.390383819999094],[-99.26953808999998,19.390631779999197],[-99.26959067999998,19.390787459999196],[-99.26961870999996,19.391006649999095],[-99.26947744999988,19.391362309999096],[-99.26925268,19.391562739999095],[-99.26899366,19.391679779999095],[-99.26856245999988,19.391934909999097],[-99.26831204999988,19.392134859999196],[-99.26810564999988,19.392651489999093],[-99.26809848999989,19.392970219999096],[-99.26807230999997,19.393315739999093],[-99.26806671999996,19.393393489999095],[-99.26805114999998,19.393610449999095],[-99.26797374999988,19.394090969999095],[-99.26738553999988,19.394746979999095],[-99.26723713999988,19.394912489999097],[-99.26674841999989,19.395549229999094],[-99.26643851999988,19.396080399999196],[-99.26628359999988,19.396623579999098],[-99.26611530999998,19.397344779999095],[-99.26576075,19.398190309999197],[-99.26538117999998,19.398684029999092],[-99.26507664999998,19.398950949999097],[-99.26495625999988,19.39895868999909],[-99.26485977999988,19.398852279999097],[-99.26472221999988,19.398758569999092],[-99.26458926,19.398713849999098],[-99.26440434999988,19.398688919999096],[-99.26425184999988,19.398694629999095],[-99.26409584999998,19.398692659999092],[-99.26400891999998,19.398762139999096],[-99.26399313999995,19.3988991799992],[-99.26399331999988,19.399013429999098],[-99.26407214999988,19.39923134999909],[-99.26391574999998,19.399426939999195],[-99.26356024999988,19.399503109999195],[-99.26318752,19.399535289999193],[-99.26275582999988,19.399664779999096],[-99.26241074999987,19.399708509999098],[-99.26215593999989,19.399666339999197],[-99.26206539999995,19.39959396999919],[-99.26188327999988,19.399348309999095],[-99.26182522999989,19.399300089999095],[-99.26174086,19.399270229999196],[-99.26162139999995,19.399268739999098],[-99.26130352,19.399329149999097],[-99.26114021999987,19.3996472899992],[-99.26090927999998,19.399958229999097],[-99.26045322999988,19.400251049999095],[-99.25987050999996,19.400540059999095],[-99.25948162,19.400931949999094],[-99.25926711999988,19.401185199999095],[-99.25907416999988,19.401462779999097],[-99.25922577999988,19.401765029999098],[-99.25904216999996,19.402484339999095],[-99.25894087999988,19.403276679999095],[-99.2588254,19.40374890999909],[-99.25867904999996,19.404060449999093],[-99.25813004999998,19.404763479999097],[-99.25788424999988,19.404843199999192],[-99.25769773999998,19.404848029999098],[-99.25772288999995,19.404679339999095],[-99.25772397,19.404508599999097],[-99.25777870999995,19.404284749999196],[-99.25800536999998,19.403964399999097],[-99.25824251999988,19.40308976999909],[-99.25826853999988,19.402684219999095],[-99.25823373999997,19.402526379999095],[-99.25815445999989,19.402427799999096],[-99.25777971,19.401790519999196],[-99.25766339999988,19.401592739999096],[-99.25762225999988,19.401525179999098],[-99.25737565999997,19.401120229999098],[-99.25697934999988,19.400431689999092]]],\"type\":\"Polygon\"},\"properties\":{\"_id\":13,\"cve_ent\":9,\"cve_mun\":4,\"cvegeo\":9004,\"g_pnt_2\":\"19.3246343001,-99.3107285253\",\"geo_shp\":\"{\\\"type\\\": \\\"Polygon\\\", \\\"coordinates\\\": [[[-99.25697934999988, 19.400431689999092], [-99.25693562999997, 19.400456599999096], [-99.25689190999996, 19.400481519999097], [-99.25680579999988, 19.400575229999095], [-99.25667284999997, 19.400719939999092], [-99.25\",\"gid\":10,\"id\":12,\"nomgeo\":\"Cuajimalpa de Morelos\"},\"type\":\"Feature\"},{\"geometry\":{\"coordinates\":[[[-99.19057941999988,19.467936319999097],[-99.19066065999998,19.465945999999096],[-99.19067079999988,19.465719659999095],[-99.19073110999987,19.46467144999909],[-99.19001410999986,19.464430199999097],[-99.18914193999989,19.464151459999098],[-99.18800022999989,19.4638146199992],[-99.18802625999987,19.463659399999095],[-99.18824430999996,19.462346489999195],[-99.18848324999998,19.460777259999197],[-99.18728361999987,19.460477939999095],[-99.18538771999988,19.460014049999092],[-99.18527276999995,19.460020419999097],[-99.18410217999995,19.459839119999096],[-99.18409813999988,19.459838509999095],[-99.18311462999998,19.4596466199992],[-99.18201214999998,19.459474689999094],[-99.18108203,19.459301339999097],[-99.17991553999998,19.459125919999195],[-99.17878327999988,19.458928719999097],[-99.17798439999989,19.458755629999096],[-99.17745516999996,19.458661049999098],[-99.17689162,19.458569579999196],[-99.17576587999996,19.458386939999095],[-99.17502384999987,19.458266739999196],[-99.17460370999996,19.458198679999196],[-99.173761,19.458062859999195],[-99.17111379999989,19.457632279999096],[-99.16830608999996,19.457176689999095],[-99.16744473999988,19.457031619999096],[-99.16560595,19.456737459999193],[-99.16506017999988,19.456658659999196],[-99.16419053999988,19.456511249999195],[-99.16371276999988,19.456434769999095],[-99.16371952,19.45639688999919],[-99.16382292,19.455816849999195],[-99.16401182,19.454273019999096],[-99.16408122999998,19.453713819999095],[-99.16419983,19.452682429999097],[-99.16422796999989,19.452335889999095],[-99.16427225999988,19.451849079999096],[-99.16430557999988,19.450626909999094],[-99.16433061999996,19.449984679999194],[-99.16439602999998,19.449662599999193],[-99.16450704999988,19.449186519999195],[-99.16473417,19.448172569999095],[-99.16483907999998,19.447671119999196],[-99.16491773999998,19.447276659999197],[-99.16503897999988,19.446697909999195],[-99.16513537,19.446293149999097],[-99.16521973999988,19.445905849999097],[-99.16530159999998,19.445537049999096],[-99.16538531,19.445184109999197],[-99.16553401999988,19.444586629999097],[-99.16572061999987,19.443820459999095],[-99.16578097999997,19.443648679999097],[-99.16590151999998,19.4433847999992],[-99.16641461999988,19.442524179999197],[-99.16688968999988,19.441461859999094],[-99.16741821999987,19.440358829999095],[-99.16763950999996,19.439918829999097],[-99.16793987999988,19.439285169999195],[-99.16817796999996,19.438789919999095],[-99.16848654999988,19.4381520199992],[-99.16879796999989,19.437633119999095],[-99.16911114,19.437160769999096],[-99.16967822,19.436325509999197],[-99.17058153999989,19.434891919999096],[-99.17119241999988,19.43398045999909],[-99.17143333999996,19.433603089999195],[-99.17174677999998,19.433145979999196],[-99.17220908999998,19.432402519999098],[-99.17263552,19.431631219999197],[-99.17301315,19.430939339999092],[-99.17378256999989,19.429545249999197],[-99.17426541999998,19.428828979999096],[-99.17439024999996,19.428635089999197],[-99.17468426,19.428178289999195],[-99.17474285,19.4280872899992],[-99.17557922999995,19.426840349999193],[-99.17565808999989,19.426722779999093],[-99.17618550999998,19.425916259999095],[-99.17645682999988,19.425466309999095],[-99.17665522999988,19.425178739999097],[-99.17706611999988,19.42452381999909],[-99.17763621999988,19.423595689999097],[-99.17694367999997,19.423473019999197],[-99.17621987999988,19.423357969999095],[-99.17593613999998,19.423331939999095],[-99.17567813999987,19.423338459999098],[-99.17520417,19.423207829999097],[-99.17509612,19.4231592899992],[-99.17505501999987,19.4230427999992],[-99.1752612,19.422749599999097],[-99.17529054999989,19.422694429999098],[-99.17534031999998,19.422721319999095],[-99.17542633999987,19.422734949999196],[-99.17550758,19.4227217499992],[-99.17559062999996,19.422670889999193],[-99.17566136999989,19.42259614999919],[-99.17627345999988,19.421458219999096],[-99.17634610999988,19.421265429999195],[-99.17635377999989,19.421193579999095],[-99.17632548999988,19.421115879999093],[-99.17633261999998,19.421040489999196],[-99.17637750999997,19.420973169999098],[-99.17641594,19.420837819999097],[-99.17643857999995,19.420687509999095],[-99.17647267999988,19.420562769999098],[-99.17654908999997,19.420453859999192],[-99.176617,19.420377309999097],[-99.17667302999988,19.420301169999195],[-99.17674471999996,19.420226289999196],[-99.17685616999988,19.42015825999909],[-99.17698591999986,19.420130579999096],[-99.17714827999995,19.420026949999095],[-99.17749374,19.419468519999192],[-99.17776610999988,19.419285819999097],[-99.17789684999995,19.418954109999195],[-99.17810043,19.418524149999193],[-99.17832923,19.418112279999196],[-99.178977,19.416929719999096],[-99.17953251999988,19.415931229999096],[-99.17974928999988,19.415547139999095],[-99.18032291999997,19.414465449999096],[-99.18050191999998,19.414144859999094],[-99.18100567999988,19.413297249999097],[-99.18114247999988,19.413078889999092],[-99.18136002999996,19.412712969999095],[-99.18162383,19.412358059999093],[-99.18214925999987,19.411487399999196],[-99.18252083,19.410914749999197],[-99.18293893999996,19.410377059999096],[-99.18301022,19.410252339999197],[-99.18350105999995,19.409406489999096],[-99.18354764999997,19.409319919999092],[-99.18430390999995,19.407826979999097],[-99.18247191999988,19.407217879999095],[-99.18068227999998,19.406648539999193],[-99.17981908999998,19.406376229999097],[-99.17891619999988,19.406070489999095],[-99.17794677999998,19.405748369999095],[-99.17712865,19.405447399999098],[-99.17620202999989,19.405122849999092],[-99.1752974,19.404824629999094],[-99.17487267999998,19.404680549999096],[-99.17438754999988,19.404521449999095],[-99.17346652,19.404209709999098],[-99.17261451,19.403930509999196],[-99.17177317999987,19.403664739999197],[-99.17167691,19.403634709999096],[-99.17107853999988,19.403497169999095],[-99.17097244999997,19.4027481099992],[-99.17085448999988,19.402214779999195],[-99.17077348999996,19.401840229999095],[-99.17076636999997,19.401797879999098],[-99.17037430999989,19.400331779999096],[-99.17035910999988,19.400200939999092],[-99.17039464999998,19.399950059999096],[-99.17043551999988,19.3997897999992],[-99.17225434999987,19.399234029999096],[-99.17310708999996,19.398973449999097],[-99.17338213999987,19.398889399999096],[-99.17398791999987,19.398703059999193],[-99.17407634999986,19.398675859999095],[-99.17445227999998,19.398560229999095],[-99.174469,19.398555079999095],[-99.17451874999988,19.398539779999197],[-99.17553236999996,19.398094109999093],[-99.17604619999996,19.397980509999098],[-99.17664041999988,19.397849149999196],[-99.17672316999987,19.397831709999195],[-99.17772750999988,19.397619889999095],[-99.17820130999988,19.397520459999093],[-99.17890317,19.397369029999098],[-99.17951159999998,19.397400349999096],[-99.18014948999988,19.39727194999919],[-99.18095754999987,19.397095919999096],[-99.18120954999988,19.397092579999093],[-99.18171347999998,19.396994289999096],[-99.18210124999987,19.396961399999096],[-99.18224272,19.396867429999094],[-99.18246329,19.396761339999195],[-99.18341677999996,19.396410599999097],[-99.18409705999989,19.396157419999096],[-99.18429904999988,19.396133919999095],[-99.18452490999988,19.396104719999094],[-99.18520828999998,19.395963519999196],[-99.18531174999995,19.39593331999909],[-99.18596165999998,19.395752049999096],[-99.18637601999995,19.395648599999095],[-99.18648965999988,19.395641449999097],[-99.18754861999996,19.39569264999919],[-99.18759816999987,19.39569230999909],[-99.18782212,19.395679319999196],[-99.18851021999988,19.395644969999097],[-99.18861667999988,19.395633419999097],[-99.18905516999988,19.395590339999195],[-99.18909539999996,19.3956862899992],[-99.18925831999998,19.396074829999097],[-99.18958427999988,19.396853649999095],[-99.18987638,19.397586429999095],[-99.18992279999998,19.397706549999096],[-99.19017862999998,19.39831525999919],[-99.19036271,19.398755949999096],[-99.19047631999987,19.399021749999097],[-99.19061402999988,19.399322229999097],[-99.19082581999996,19.399650229999096],[-99.19115364999998,19.400109169999197],[-99.19128184999988,19.400264689999094],[-99.19149145999988,19.400437259999094],[-99.19188784999989,19.400727169999097],[-99.19202493999995,19.400855859999098],[-99.19213302999997,19.400980709999196],[-99.19222474,19.401131689999197],[-99.19229562999998,19.401329369999097],[-99.19231801999987,19.401392909999096],[-99.19234461999996,19.401653279999096],[-99.19227162999988,19.402387029999097],[-99.19224845,19.402627509999096],[-99.19219719999988,19.403095849999097],[-99.19218570999998,19.403238029999095],[-99.1922014,19.403743029999095],[-99.19236493999988,19.403724999999195],[-99.19247962,19.403712369999095],[-99.19298989,19.403656149999097],[-99.19373236999988,19.403576849999094],[-99.19383790999989,19.403564509999097],[-99.19415888,19.403527019999096],[-99.19432163,19.403507419999094],[-99.19452082999996,19.403484479999097],[-99.19465810999998,19.403467819999197],[-99.19544967999998,19.403343909999094],[-99.19587714999987,19.403291689999197],[-99.19662774999988,19.403204859999196],[-99.19671171999988,19.403192459999097],[-99.19761364999988,19.403091199999096],[-99.19806871999997,19.403003659999097],[-99.19830642999987,19.402933649999092],[-99.19843454999987,19.402885449999097],[-99.19893922999997,19.402662859999097],[-99.19956334999988,19.402398279999197],[-99.19986647999998,19.4022787499992],[-99.20050139999988,19.402032659999097],[-99.200996,19.401842999999097],[-99.20141667999997,19.401682029999197],[-99.20154893999988,19.401646649999098],[-99.20190161999987,19.401556179999098],[-99.20221057999996,19.401527399999196],[-99.20247426,19.401502199999097],[-99.20307595,19.401433779999095],[-99.20373805,19.401365719999195],[-99.20455905999988,19.401276579999095],[-99.20503994999989,19.401214909999197],[-99.20617253999988,19.401065579999095],[-99.20784521999998,19.400853919999097],[-99.20841507999988,19.400764509999096],[-99.20904842,19.400657429999097],[-99.21044845999988,19.400436679999096],[-99.21051001999987,19.400424709999097],[-99.21094514,19.400276599999096],[-99.21147544999997,19.400129689999098],[-99.21202661999988,19.399949599999193],[-99.21256782999988,19.399806309999093],[-99.21267408999988,19.399764879999097],[-99.21302539999998,19.399559279999092],[-99.21386617999995,19.399117689999095],[-99.21448022,19.398839739999097],[-99.21485611,19.398705709999096],[-99.21587622,19.398376629999095],[-99.21629224999998,19.398252599999097],[-99.21690644999988,19.398033539999098],[-99.21707745,19.397973939999098],[-99.21807197999998,19.397634259999197],[-99.21831557999998,19.397554679999097],[-99.21951319999988,19.397170479999097],[-99.22206021999988,19.396327579999095],[-99.22244442999988,19.396202479999097],[-99.22357876999988,19.395852719999095],[-99.22421962,19.395746139999098],[-99.22499053999996,19.395632739999098],[-99.22515871999998,19.395639139999098],[-99.22571033999998,19.395665879999097],[-99.22603608,19.395690569999097],[-99.22664837999996,19.395771679999093],[-99.22697876999987,19.395803089999095],[-99.22734513999995,19.395795849999196],[-99.22770291999989,19.395730799999093],[-99.22818308,19.395645089999196],[-99.22924730999988,19.395416849999197],[-99.22977025999988,19.395303429999093],[-99.22998127999988,19.395256309999095],[-99.23049110999987,19.395083519999197],[-99.23085445999996,19.394949909999095],[-99.23106687999989,19.394898629999197],[-99.23127556999997,19.394872139999197],[-99.23151948999995,19.394869019999092],[-99.23193711999988,19.394906679999195],[-99.23225321999988,19.394933429999096],[-99.23257681999988,19.394903509999097],[-99.23284189,19.394814479999095],[-99.23548171,19.393743139999096],[-99.23580770999988,19.393626059999097],[-99.23603951999988,19.393562459999195],[-99.23625854999987,19.393540479999093],[-99.23648462999986,19.3935455699992],[-99.23709947999998,19.393604679999196],[-99.23738285999998,19.393598719999197],[-99.23760342,19.393567509999095],[-99.23784259999998,19.3934912599992],[-99.23802817999989,19.393396509999096],[-99.23880750999987,19.392824249999197],[-99.23892125999996,19.392674419999192],[-99.23900662999988,19.392473379999096],[-99.23903332,19.392286319999094],[-99.23901588999998,19.391701139999196],[-99.23899682999988,19.391061229999096],[-99.23902176999997,19.390727939999095],[-99.23913283,19.390405909999092],[-99.23941970999986,19.389589089999195],[-99.23951582999987,19.389379739999097],[-99.23967265,19.389136709999196],[-99.23992904999989,19.388864059999197],[-99.24020937999995,19.388653059999097],[-99.24046636999996,19.388499369999096],[-99.24113854999987,19.388141229999096],[-99.24138634999996,19.387981749999096],[-99.24210904999988,19.387354619999098],[-99.24267896999996,19.387035179999096],[-99.24294525999989,19.386951689999098],[-99.24319812,19.386918459999094],[-99.24332582999988,19.386937489999095],[-99.24364461999988,19.386985089999097],[-99.24475177999987,19.387343829999196],[-99.24499756999988,19.387385819999196],[-99.24517433999988,19.387403619999095],[-99.24547736999988,19.387394379999098],[-99.24573846,19.387320229999197],[-99.24599851999989,19.387230279999095],[-99.24623846,19.3870851499992],[-99.24656976999988,19.38682881999919],[-99.24765261999988,19.385957019999097],[-99.24763322999998,19.386172309999193],[-99.24768787999987,19.386319119999097],[-99.24778345999988,19.386512749999195],[-99.24799134999986,19.3867763799992],[-99.24813356999988,19.387119309999097],[-99.24827817999989,19.387468419999095],[-99.24833069,19.387685109999197],[-99.24840382999996,19.388789059999095],[-99.24850788999996,19.390191919999097],[-99.24852339999988,19.390309939999096],[-99.24852708999998,19.390409369999094],[-99.24850374,19.390563619999096],[-99.24841209,19.390705969999097],[-99.24836054999996,19.390786029999095],[-99.24819061999987,19.391139019999095],[-99.24809664999998,19.391334179999095],[-99.24785817999997,19.39179330999909],[-99.24781262,19.391862179999094],[-99.24772253999998,19.391959089999094],[-99.24718196999996,19.392425549999093],[-99.24695413999996,19.392660709999095],[-99.24691548999998,19.392828919999097],[-99.24680382999998,19.393176749999096],[-99.24673613999988,19.393543429999095],[-99.24675324999998,19.393706049999093],[-99.24680581999998,19.393850679999197],[-99.24685828999998,19.39397693999919],[-99.24693333999988,19.394074149999195],[-99.2470358,19.394181909999094],[-99.24723099999989,19.394251649999095],[-99.24764621999998,19.394306749999096],[-99.24780828999997,19.394303979999098],[-99.24799076999987,19.394272309999096],[-99.24820092,19.394146539999195],[-99.24836902,19.394009399999096],[-99.24854308999988,19.393843749999096],[-99.24873891,19.39367602999919],[-99.24890327999996,19.393535249999196],[-99.24905941999997,19.393455179999098],[-99.24925161999988,19.393426379999095],[-99.24942586,19.393483179999095],[-99.24959177999988,19.393551249999096],[-99.24986345999996,19.393630619999197],[-99.24999368,19.393655459999096],[-99.25020727999998,19.393678859999095],[-99.25062545999997,19.393695319999196],[-99.25086674999989,19.393651249999195],[-99.25102848999995,19.393578909999096],[-99.25127934999988,19.393485599999195],[-99.25147590999988,19.393460819999092],[-99.25159305999988,19.393460649999096],[-99.25189479999987,19.393469879999095],[-99.25255667999988,19.393524879999095],[-99.25288465999988,19.393572219999196],[-99.25296082999988,19.393632889999097],[-99.25302377999998,19.393747369999097],[-99.25322496999988,19.393989779999096],[-99.25345491999995,19.394206829999096],[-99.25392654999987,19.394681549999092],[-99.25430133999998,19.394987979999097],[-99.25444071999998,19.395076109999096],[-99.25459471,19.395158719999095],[-99.25475424999988,19.395216749999097],[-99.25484728999996,19.395195109999097],[-99.25490648999988,19.395158859999093],[-99.25494665,19.395090489999095],[-99.25492822999988,19.394963459999097],[-99.25488197,19.394844149999095],[-99.25481775,19.394741919999195],[-99.25440437999995,19.394289379999098],[-99.25437064999988,19.394219579999096],[-99.25435774999988,19.394146519999097],[-99.25437821999998,19.3940661099992],[-99.25444227999998,19.393980749999095],[-99.25456533999989,19.393880719999096],[-99.25483967999998,19.39370739999919],[-99.25507459999989,19.393608879999196],[-99.25530144999998,19.393545769999196],[-99.25547310999998,19.393522849999098],[-99.25566567999988,19.393494319999096],[-99.25584931,19.393450949999096],[-99.25596048999986,19.393401819999095],[-99.25608311,19.393315319999097],[-99.25654769,19.392898259999097],[-99.25667223,19.392865249999097],[-99.25680816999989,19.392843149999095],[-99.25784502999988,19.392760479999197],[-99.25837581999996,19.392705519999097],[-99.25847106,19.392669579999197],[-99.25868726,19.39245627999909],[-99.25879443,19.392425999999197],[-99.25888790999988,19.392434479999093],[-99.25921587999989,19.392567199999093],[-99.25925151999988,19.392599369999097],[-99.25927587999988,19.392648449999097],[-99.25928410999988,19.392742029999095],[-99.25938948999998,19.393177399999097],[-99.25957539999987,19.393710749999094],[-99.25958504999988,19.393763849999097],[-99.25962022999988,19.393957249999097],[-99.25966028999989,19.3941312899992],[-99.25965474999995,19.394228429999096],[-99.25964344999988,19.39427701999919],[-99.25962639999987,19.394312999999094],[-99.25956576999988,19.394392229999095],[-99.25948993999997,19.394467889999095],[-99.259271,19.394604289999197],[-99.25918464999988,19.394651119999093],[-99.25900157999988,19.3947503699992],[-99.25844339999998,19.395052019999095],[-99.25769385999988,19.395581249999193],[-99.25635428999998,19.396513859999096],[-99.25621504999997,19.396674539999097],[-99.25568354999989,19.397262709999193],[-99.25540701999986,19.398189199999095],[-99.25525064999988,19.398675779999195],[-99.25520685999996,19.3991398899992],[-99.25524654,19.399514849999196],[-99.25536836999996,19.40005936999909],[-99.25540497999997,19.400363079999092],[-99.25535622999988,19.400682549999093],[-99.25525804999997,19.401138449999195],[-99.25522788999996,19.401513049999096],[-99.25536974999989,19.401875629999196],[-99.25540428999987,19.40201042999919],[-99.25537091999988,19.402311139999096],[-99.25537631999998,19.402575909999097],[-99.25556905999996,19.40309542999919],[-99.25567184999989,19.403311719999095],[-99.25580791,19.403572419999097],[-99.25530962,19.404127939999096],[-99.25485741999988,19.404554279999196],[-99.25434674999998,19.404863109999095],[-99.25371651999995,19.405011479999096],[-99.25333659999988,19.405094519999093],[-99.25283891,19.405739119999197],[-99.25221711999988,19.406043119999097],[-99.25166857999989,19.406232689999097],[-99.25094167999995,19.406416429999197],[-99.25057063,19.406698569999193],[-99.25034336999988,19.4069910799992],[-99.25007139999998,19.407232549999097],[-99.24974265999998,19.407370059999096],[-99.24941361999998,19.407519749999096],[-99.24918184999989,19.407729449999096],[-99.24895482999987,19.408020429999095],[-99.24867945999988,19.408266829999096],[-99.24851626,19.408473199999097],[-99.24831196999996,19.408648579999095],[-99.24797077999987,19.408780429999094],[-99.24753162999998,19.40881371999919],[-99.24661879999996,19.409078139999096],[-99.24606201999998,19.409284179999094],[-99.24502424999996,19.409669539999097],[-99.24422596999987,19.409941579999096],[-99.24399137999988,19.41020490999909],[-99.24370019999998,19.410526679999094],[-99.24336201999988,19.410719689999095],[-99.24301477999988,19.410803749999197],[-99.24268148999988,19.411056919999197],[-99.24233128999998,19.411301509999095],[-99.24188074999986,19.411480579999097],[-99.24083025999988,19.411918319999195],[-99.24016510999986,19.412138549999092],[-99.23991184999988,19.412193679999096],[-99.23962256999988,19.4122038499992],[-99.23891816999998,19.412041819999097],[-99.23863804999988,19.412011649999094],[-99.23840034999988,19.412007289999195],[-99.23810507999995,19.412080459999096],[-99.23761381999998,19.412202179999095],[-99.23730470999998,19.412359619999197],[-99.23704707999995,19.412554819999094],[-99.23691488999997,19.412706599999098],[-99.23674753999988,19.413078689999196],[-99.23649736999988,19.413595769999095],[-99.23620294999988,19.414085109999096],[-99.23593394999988,19.414496909999094],[-99.23567010999987,19.415013379999095],[-99.23557408999989,19.415241709999098],[-99.23544719999988,19.41543579999919],[-99.23494950999998,19.415748819999095],[-99.23462716999995,19.415970919999197],[-99.23450483,19.416396719999096],[-99.23438414,19.416586089999196],[-99.23425257999996,19.416688449999093],[-99.23406062999996,19.416763889999093],[-99.23389268999988,19.416767849999097],[-99.23376276999988,19.416723339999095],[-99.23361251999997,19.416584879999196],[-99.23344194999996,19.417221709999097],[-99.23338444999987,19.417482619999195],[-99.23337927999988,19.417560219999096],[-99.23336345999988,19.417797599999098],[-99.23323464999996,19.417838909999197],[-99.23319117999988,19.418046749999096],[-99.23315990999996,19.418157779999195],[-99.23312176999995,19.418271919999096],[-99.23306016999996,19.4183876599992],[-99.23306899999989,19.418482719999098],[-99.23309094999998,19.418585979999097],[-99.23305621999997,19.418660419999096],[-99.23299097999988,19.418894029999095],[-99.23297074999986,19.419022969999197],[-99.23298716999987,19.419263109999097],[-99.23297404999988,19.419395029999095],[-99.23291059999998,19.419429909999195],[-99.23263522999996,19.419379939999097],[-99.23254557999996,19.419391139999192],[-99.23246641999997,19.419420519999196],[-99.23241654999995,19.419473539999192],[-99.23237628999998,19.419567349999095],[-99.23235665999988,19.419684799999096],[-99.23235681999988,19.419792749999097],[-99.23210461999996,19.419873109999095],[-99.23181711999987,19.419990479999097],[-99.23167551999995,19.420165259999095],[-99.23162621999988,19.420306169999098],[-99.23156973999988,19.420599649999097],[-99.23155912,19.420736879999097],[-99.23150715,19.420755709999096],[-99.23130682,19.420809949999096],[-99.23121599999988,19.420857689999092],[-99.23111254,19.420933709999098],[-99.23106065999995,19.420979489999095],[-99.23102462999998,19.421069919999095],[-99.23096857999997,19.421260539999196],[-99.23095801999987,19.421366799999095],[-99.23092621999989,19.421546739999098],[-99.23089124999989,19.421637139999095],[-99.23084345999987,19.421706889999097],[-99.23077004999998,19.421733799999096],[-99.23066387999988,19.421742849999095],[-99.23053302999988,19.421760719999195],[-99.23038955,19.4217984899992],[-99.23028557999996,19.421810349999095],[-99.23009822999995,19.421825709999094],[-99.22976193999988,19.421995139999098],[-99.22968285999998,19.422103199999096],[-99.22954187999989,19.422159719999097],[-99.22938353999989,19.422204539999097],[-99.22936311999987,19.422236999999097],[-99.22916945999997,19.422459289999196],[-99.22896908999998,19.42262444999909],[-99.22886894,19.422729259999095],[-99.22873884999996,19.422976779999093],[-99.22865224999995,19.423192549999197],[-99.22849526,19.423325949999096],[-99.22845679999988,19.42341910999909],[-99.22830311999986,19.423511259999096],[-99.22816607999988,19.423536829999097],[-99.22806911,19.423543289999195],[-99.22793868999996,19.423565649999095],[-99.22787522999988,19.423603799999096],[-99.22785184999996,19.423645029999097],[-99.22785533999988,19.423678509999093],[-99.22786213999989,19.423792689999097],[-99.22784904999996,19.423973509999097],[-99.22783244999988,19.424062309999194],[-99.22778573999987,19.424128969999096],[-99.22772897999988,19.424182979999095],[-99.22763870999988,19.424221119999093],[-99.22753844999988,19.424249819999098],[-99.22742142,19.424253139999195],[-99.22718942999988,19.424257339999095],[-99.22701716999988,19.424319579999093],[-99.22679647999988,19.424539119999192],[-99.22669953999998,19.424665889999098],[-99.22633073999997,19.42523821999909],[-99.22606988999988,19.425828429999097],[-99.22587050999988,19.426226289999093],[-99.22570505999988,19.426409689999097],[-99.22546287999997,19.426587319999097],[-99.22515975,19.42671391999909],[-99.22484714999987,19.426849139999195],[-99.22464028999995,19.426965749999095],[-99.22446755,19.427080049999095],[-99.22432204999996,19.427018429999094],[-99.22378424999988,19.426809619999094],[-99.22324523,19.426564889999195],[-99.22280364999988,19.426367519999197],[-99.22277191999989,19.426386029999097],[-99.22266849,19.426581119999092],[-99.22256165999988,19.426714459999097],[-99.22232828999988,19.426945619999096],[-99.22227443,19.427022969999097],[-99.22232027999988,19.427130139999097],[-99.22255203,19.427317089999097],[-99.22270347999988,19.427664479999095],[-99.22286856999987,19.4281121999992],[-99.22295589,19.428473479999095],[-99.22300005999988,19.42861328999909],[-99.22302030999997,19.428738349999097],[-99.22310648999988,19.429066079999092],[-99.22315265999998,19.429183319999098],[-99.22321031999998,19.4293068599992],[-99.2232858,19.429413909999095],[-99.22337833999988,19.429505059999094],[-99.22355347999988,19.4296233199992],[-99.22371348999997,19.429705969999095],[-99.224299,19.43000837999919],[-99.22443077999998,19.430076649999094],[-99.22476831999988,19.430251489999097],[-99.22517515,19.4304607399992],[-99.22650838,19.431072979999193],[-99.22662190999988,19.431154109999095],[-99.22673107999996,19.431245679999193],[-99.22681802999988,19.431338249999197],[-99.22685987999988,19.431444249999096],[-99.22687231,19.431585979999095],[-99.22680158,19.431891939999097],[-99.22666456999998,19.4322711399992],[-99.22641570999996,19.432764109999095],[-99.22615751999987,19.433719119999097],[-99.22615201999996,19.433859479999096],[-99.22617134999996,19.43396533999919],[-99.22622505999998,19.434061349999094],[-99.22629559999989,19.4341308299992],[-99.22639319999998,19.434209479999097],[-99.22701987999989,19.434548779999197],[-99.22720945,19.434659689999098],[-99.22733757999998,19.434788749999097],[-99.22743031999988,19.43494471999909],[-99.22749315,19.435090459999095],[-99.22750324999998,19.435230509999094],[-99.22728396999996,19.435867419999095],[-99.22716393999995,19.436212909999192],[-99.22711345999988,19.436822139999094],[-99.22773855,19.437422139999097],[-99.22813124999998,19.437799059999097],[-99.22815236999998,19.438016479999195],[-99.22810970999988,19.438209819999095],[-99.22806208999997,19.438322179999098],[-99.22796267999988,19.438443579999195],[-99.22785139999988,19.438558679999097],[-99.22358425999988,19.441563709999095],[-99.22196499999988,19.442686539999197],[-99.2209382,19.443433969999095],[-99.22058281999988,19.4436753199992],[-99.22013582999988,19.443810819999097],[-99.21973748999989,19.443847259999096],[-99.21950574999988,19.443868479999097],[-99.21868929,19.443973059999195],[-99.21817967999998,19.444057509999197],[-99.21813294999995,19.44411182999909],[-99.21815377999997,19.444156229999095],[-99.21821633999998,19.44423502999919],[-99.21830482999997,19.444299059999096],[-99.21922578,19.444774139999097],[-99.21940949,19.444905709999095],[-99.21953616999996,19.445017199999096],[-99.21963774999988,19.445119949999196],[-99.21976091999989,19.445249779999095],[-99.21985318,19.445361459999095],[-99.21997654999988,19.445556849999193],[-99.22006028,19.445759169999096],[-99.22011287999996,19.445971029999196],[-99.22014871999988,19.4461163499992],[-99.22014739999996,19.446271779999197],[-99.22014596999998,19.446441289999093],[-99.22013605999987,19.447277319999095],[-99.22012764999988,19.447987279999197],[-99.22011565999998,19.448998229999095],[-99.21995474,19.451549339999097],[-99.21995919999988,19.451878619999192],[-99.21996293999987,19.45215448999919],[-99.21997277999998,19.452880139999095],[-99.21977170999996,19.452883909999095],[-99.21919567999998,19.452941489999095],[-99.21901431999996,19.452971829999097],[-99.21885165999998,19.452999049999097],[-99.2185226,19.453054089999096],[-99.21819994,19.453217509999096],[-99.2181364,19.453249679999097],[-99.21808854999988,19.453273909999098],[-99.21791510999998,19.453361749999093],[-99.21736481999989,19.453671109999192],[-99.21697839999987,19.454067219999096],[-99.21695445999988,19.454091769999096],[-99.21676650999989,19.454284449999196],[-99.21642119999998,19.454714289999092],[-99.21627391999998,19.454897649999197],[-99.21607702999988,19.455157689999197],[-99.21597471999998,19.455292819999197],[-99.21572833999988,19.455618249999095],[-99.21528511999998,19.456223859999092],[-99.21525257999996,19.456310889999195],[-99.21522082999998,19.456395829999195],[-99.215202,19.456446199999192],[-99.21516585999989,19.456542859999097],[-99.21485613999988,19.457371339999195],[-99.21424791999998,19.458558819999094],[-99.21422355,19.458673779999096],[-99.21404454999995,19.459518109999095],[-99.21393934999998,19.46040584999909],[-99.21263148999998,19.462451349999096],[-99.21296388999995,19.462621629999195],[-99.21354442999989,19.462918999999193],[-99.21239305999988,19.466378739999097],[-99.2121484,19.467113909999096],[-99.21194187999996,19.467079179999093],[-99.21178527999987,19.467081919999096],[-99.21172881999988,19.467137859999095],[-99.21163919999998,19.4674061799992],[-99.21153665999998,19.467993349999094],[-99.21143471,19.468000879999096],[-99.21137153999987,19.468036419999095],[-99.21096067999996,19.468267509999095],[-99.21072339999988,19.46848082999909],[-99.21056462999998,19.468658309999096],[-99.21045058,19.468785779999095],[-99.20991204999989,19.469381619999098],[-99.20890122999997,19.470056549999097],[-99.20886264999996,19.470082319999197],[-99.20870544999995,19.470034459999095],[-99.20869261999997,19.4700305499992],[-99.20821150999988,19.469884089999095],[-99.20768565999998,19.469723999999097],[-99.20717364999996,19.469568119999195],[-99.20682496999989,19.471215079999094],[-99.20649633999987,19.471356509999197],[-99.20528541999988,19.472024349999096],[-99.20496719999988,19.472192259999098],[-99.20433965999987,19.472402719999096],[-99.20344416999988,19.472691649999096],[-99.20232688999988,19.473014649999097],[-99.20144702999988,19.473236619999096],[-99.20101501999989,19.473359599999096],[-99.20067567999996,19.473345279999094],[-99.20009385999998,19.473182379999095],[-99.19976484999988,19.473082799999094],[-99.19908871999998,19.4728758899992],[-99.19836885999987,19.472642249999097],[-99.197951,19.472511719999197],[-99.19746030999988,19.472364229999098],[-99.19708321999998,19.472251819999094],[-99.19665838,19.472126259999097],[-99.19613248999995,19.471972539999097],[-99.19562489,19.471828719999095],[-99.19514739999988,19.471686049999096],[-99.19461581999998,19.47153828999919],[-99.19413371999995,19.471404319999095],[-99.19334565999998,19.471220029999095],[-99.19141051999998,19.470767539999095],[-99.19095586,19.470629479999097],[-99.19044419999987,19.470458979999197],[-99.19057941999988,19.467936319999097]]],\"type\":\"Polygon\"},\"properties\":{\"_id\":14,\"cve_ent\":9,\"cve_mun\":16,\"cvegeo\":9016,\"g_pnt_2\":\"19.4280623649,-99.2045669144\",\"geo_shp\":\"{\\\"type\\\": \\\"Polygon\\\", \\\"coordinates\\\": [[[-99.19057941999988, 19.467936319999094], [-99.19066065999998, 19.465945999999096], [-99.19067079999988, 19.465719659999095], [-99.19073110999989, 19.46467144999909], [-99.19001410999986, 19.464430199999097], [-99.189\",\"gid\":11,\"id\":13,\"nomgeo\":\"Miguel Hidalgo\"},\"type\":\"Feature\"},{\"geometry\":{\"coordinates\":[[[-99.208589,19.336096169999195],[-99.20867401999998,19.335976489999094],[-99.20833711999988,19.336095049999095],[-99.20809682,19.336179619999097],[-99.20784054999989,19.3362715699992],[-99.20710601999996,19.336544019999195],[-99.20677122999987,19.336296969999097],[-99.20665877999988,19.336218379999096],[-99.20678523,19.33610839999919],[-99.20692053999989,19.335991149999096],[-99.20745690999988,19.335511859999094],[-99.20797196999987,19.335082089999094],[-99.20820505999988,19.334851459999093],[-99.20844373999988,19.334572619999197],[-99.20863204999988,19.3343290499992],[-99.20893204999996,19.333908309999092],[-99.20912393999998,19.333633429999196],[-99.20936936999998,19.333278279999096],[-99.20958692,19.332890599999093],[-99.21023654999998,19.331577999999094],[-99.21027733999988,19.331494859999196],[-99.21042627999996,19.33119134999909],[-99.21045431999988,19.33113419999909],[-99.21050481999998,19.331036279999097],[-99.21065945,19.330736339999095],[-99.21179682999995,19.328433709999196],[-99.21211021999989,19.327828079999097],[-99.21246668,19.327234719999097],[-99.21268766,19.326922939999097],[-99.21278332,19.326797029999096],[-99.21360913999987,19.325918029999094],[-99.21434951999996,19.325321399999098],[-99.21594053999998,19.324211769999096],[-99.21756141999995,19.323102889999095],[-99.21856347999989,19.322416399999096],[-99.21931031999998,19.321898079999094],[-99.22005825999996,19.321387879999097],[-99.22046996999988,19.321081139999094],[-99.22057139999995,19.320990349999196],[-99.22071722999998,19.320858029999197],[-99.220901,19.320647599999095],[-99.22103348999995,19.320445379999097],[-99.22114645999989,19.3202693099992],[-99.22123227999998,19.320095599999096],[-99.22131016999998,19.319908719999095],[-99.22140830999987,19.319643859999093],[-99.22146710999998,19.319300649999196],[-99.22148553999988,19.318969179999097],[-99.22147794999988,19.31869237999919],[-99.22145264999988,19.318516349999097],[-99.2214244,19.318319739999097],[-99.22136894999988,19.318075659999096],[-99.22131583,19.3178401799992],[-99.22129133999988,19.317731619999197],[-99.22122321999989,19.317398489999196],[-99.22119636999996,19.317267089999092],[-99.22115656999988,19.317053819999096],[-99.22107685,19.316606079999097],[-99.22104148999988,19.316398479999098],[-99.22097259999998,19.316031219999196],[-99.22096031999988,19.315957799999097],[-99.22084273999997,19.315293509999098],[-99.22080637,19.315087029999095],[-99.22075487999987,19.314809599999094],[-99.22073251999988,19.314688909999095],[-99.22065662999988,19.314299859999096],[-99.22051735,19.313716539999096],[-99.22041177999988,19.313393479999096],[-99.22030327999988,19.3130837499992],[-99.22012193999988,19.312673829999095],[-99.21992543,19.312263629999197],[-99.2204718,19.311322679999098],[-99.22056225999997,19.311229569999096],[-99.22066057999989,19.31114711999909],[-99.22070782999998,19.311129819999195],[-99.22097139999988,19.311078619999098],[-99.22130719999988,19.311061049999097],[-99.22174045999998,19.311037969999195],[-99.22299868999988,19.310950829999097],[-99.22392893999996,19.3108965699992],[-99.22405266,19.310860449999193],[-99.22462556999989,19.310728659999096],[-99.22493341999989,19.310597779999096],[-99.22501753999988,19.310335739999097],[-99.22517073999995,19.309957249999098],[-99.22691211999988,19.308649279999095],[-99.22723951999996,19.308407849999096],[-99.22743584999988,19.308225969999096],[-99.22761342999988,19.308061479999093],[-99.22772334999998,19.30791430999909],[-99.22774657999996,19.307783079999098],[-99.22771394999988,19.307609109999195],[-99.22764626,19.307378679999097],[-99.22759221999988,19.307192289999197],[-99.22766097,19.307061429999095],[-99.22767661999988,19.307031649999097],[-99.22774702999996,19.306963219999098],[-99.22789288,19.306857059999096],[-99.22866704999988,19.306548779999197],[-99.22894947999998,19.306483829999095],[-99.22936221999998,19.3064788899992],[-99.22954921999995,19.306381859999096],[-99.22980570999988,19.306186549999197],[-99.22992931999988,19.306012749999095],[-99.23016499999989,19.305864049999094],[-99.23040648999996,19.305768399999092],[-99.23061853999997,19.305681709999092],[-99.23091373999988,19.305572969999098],[-99.23119705999989,19.305449139999094],[-99.23169188999996,19.305202889999094],[-99.23190459999996,19.305042319999096],[-99.23193022999996,19.304797659999096],[-99.23198482999996,19.304276459999095],[-99.23204221999998,19.303881029999097],[-99.23224831,19.303788779999095],[-99.23233736999995,19.3029827399992],[-99.23254747999988,19.303000449999193],[-99.23264607999988,19.3024815199992],[-99.23297390999988,19.301810119999093],[-99.23222882,19.301468509999097],[-99.23239714999988,19.301325569999197],[-99.23276302999987,19.301048169999095],[-99.23293801999988,19.300923169999095],[-99.23326351999997,19.300786569999197],[-99.23339710999988,19.300816229999093],[-99.23336211999997,19.3002317399992],[-99.23337105999998,19.300077829999196],[-99.23321222,19.300095179999097],[-99.23306497999988,19.300098079999096],[-99.23280874999988,19.299972619999195],[-99.23271008999988,19.299889479999095],[-99.23272602999997,19.299799459999097],[-99.23279521999989,19.299718659999098],[-99.23284785999986,19.299583519999096],[-99.23283162999986,19.29945614999909],[-99.23281330999998,19.2993217099992],[-99.23278553999988,19.299188739999096],[-99.23274074999988,19.299054679999095],[-99.23272341999989,19.298924109999092],[-99.23272319999997,19.298768339999096],[-99.23272311999987,19.298718909999096],[-99.23272307999996,19.298689079999097],[-99.23272284999996,19.298527399999195],[-99.23268996999998,19.298384819999093],[-99.23258379999996,19.29813313999909],[-99.23252061999987,19.298011569999098],[-99.23248290999996,19.2978765399992],[-99.23249436999996,19.297735279999095],[-99.23263113999997,19.29749954999919],[-99.23318663,19.29669917999919],[-99.2333012,19.296595179999095],[-99.23345779999988,19.296463909999098],[-99.23363564999988,19.296361049999096],[-99.23383262999988,19.296259309999098],[-99.23399003,19.296164179999096],[-99.23408945999998,19.296066889999096],[-99.23418809,19.295968879999094],[-99.2343842,19.295743799999094],[-99.23445002999988,19.295690419999097],[-99.23453257999988,19.295666059999093],[-99.23462104999996,19.295654749999095],[-99.23469179999988,19.29563414999919],[-99.23476448999998,19.295593029999196],[-99.23490394999996,19.295392119999097],[-99.23511984999998,19.295255219999195],[-99.23526451999996,19.295173369999095],[-99.23538947999997,19.295107799999094],[-99.23547385999996,19.294995769999197],[-99.23557073999996,19.294991489999095],[-99.23567490999989,19.295095919999092],[-99.23580425999998,19.295143079999097],[-99.23597268,19.295147999999095],[-99.23609707999996,19.295108109999095],[-99.23615814999988,19.294996249999095],[-99.23614322999995,19.294899709999097],[-99.23602067999995,19.2948301699992],[-99.23591822999995,19.2947202499992],[-99.23586968999996,19.2946253099992],[-99.23590064999998,19.294506399999097],[-99.23596851999996,19.294456369999097],[-99.23611476999996,19.294432849999097],[-99.23637965999995,19.294417649999097],[-99.23652681999988,19.29436870999919],[-99.23672117999988,19.294399819999093],[-99.23693865999998,19.294317089999097],[-99.23707164999998,19.294268479999097],[-99.23721692,19.294258719999096],[-99.23747825999996,19.294317249999093],[-99.23763562999989,19.294337229999098],[-99.23776764999997,19.294378139999097],[-99.23789977999988,19.294428859999098],[-99.23796713999998,19.294453719999098],[-99.23798470999998,19.294462879999095],[-99.23801071999998,19.294477399999096],[-99.23802994999988,19.294488119999095],[-99.23856077,19.294688079999194],[-99.23862955,19.29470311999909],[-99.23869364999987,19.294699049999195],[-99.23938224999988,19.294491709999097],[-99.23965231999988,19.294380919999092],[-99.23978537999989,19.294318119999197],[-99.23999417,19.294218049999095],[-99.24014962999988,19.294130149999095],[-99.24016624999987,19.294120749999095],[-99.24028288999988,19.294074939999096],[-99.24037376999998,19.294050549999195],[-99.24047556999987,19.294097429999095],[-99.24056468,19.294137289999096],[-99.24063619999998,19.294181059999097],[-99.24068085999988,19.294200119999097],[-99.24077176999997,19.294192849999096],[-99.24082742999995,19.294170849999094],[-99.24094521999989,19.294086339999097],[-99.24108574999995,19.294062539999096],[-99.24122681999997,19.294041599999098],[-99.24138461999988,19.294018489999097],[-99.24147850999998,19.293931769999094],[-99.24150611999988,19.2937927399992],[-99.24154184999998,19.293661509999197],[-99.24161474,19.293544939999094],[-99.24177910999998,19.293323249999197],[-99.24192148999995,19.293144149999097],[-99.24154957999995,19.292863339999197],[-99.24225214999989,19.292904219999095],[-99.24231702999997,19.292855549999196],[-99.24256587999996,19.292483019999196],[-99.24266464999988,19.292272799999196],[-99.24283689,19.2918706199992],[-99.24289717,19.291677379999193],[-99.24299670999989,19.291437319999098],[-99.24282461999996,19.290171339999095],[-99.24277902999988,19.289648719999096],[-99.24276159999988,19.289360059999098],[-99.24271608999996,19.289275369999093],[-99.24249133999987,19.2892504499992],[-99.24237408999988,19.289234509999098],[-99.24226997999988,19.289173619999097],[-99.24208264999996,19.289020249999197],[-99.24189839999998,19.288900779999096],[-99.24179148999995,19.288819879999192],[-99.24156691999998,19.288607419999195],[-99.24149556999996,19.288522659999096],[-99.24131553999987,19.288308859999095],[-99.24107578,19.288072549999097],[-99.24101412,19.287989659999095],[-99.24102078,19.287559509999095],[-99.24097297999998,19.287448489999097],[-99.24082774999988,19.287309349999095],[-99.24080128999996,19.287164659999096],[-99.24080637999997,19.28699241999909],[-99.24094274999996,19.286821139999095],[-99.24099284999988,19.286791679999094],[-99.24113658,19.286737579999095],[-99.24118439999988,19.286707919999095],[-99.24127139999987,19.286653949999195],[-99.24151481999988,19.286449289999197],[-99.24160450999987,19.286305649999093],[-99.24169401999988,19.286076449999097],[-99.24173394999995,19.28591604999909],[-99.24182728999988,19.285684479999095],[-99.24191485999997,19.285506199999094],[-99.24193511,19.285464979999094],[-99.24202921999988,19.285318109999096],[-99.24265634999988,19.28433927999909],[-99.24268064999988,19.284332479999097],[-99.24285156999996,19.2842846199992],[-99.24292527999988,19.284203619999097],[-99.24296761999987,19.284139449999195],[-99.24292004999988,19.283942739999095],[-99.24285390999997,19.283766949999094],[-99.24259373999988,19.283558509999096],[-99.24233356999996,19.283350079999096],[-99.24210191,19.283313319999095],[-99.24201571999996,19.283269679999098],[-99.24196487999988,19.283147939999097],[-99.24195696999998,19.283008569999097],[-99.24202259999998,19.282901679999195],[-99.24214882999988,19.282823139999095],[-99.24278492,19.282515709999096],[-99.24292399999987,19.282468879999193],[-99.24310934,19.282406479999192],[-99.24323165,19.282365289999095],[-99.24331767999998,19.282336319999093],[-99.24344517,19.28225870999919],[-99.24354617999988,19.282190879999096],[-99.24362771999988,19.282065139999094],[-99.24364364999998,19.281950979999095],[-99.24358990999998,19.281825399999192],[-99.2435022,19.281718449999097],[-99.24341965999996,19.281607829999096],[-99.24331748,19.281438909999192],[-99.24330787999996,19.281358369999097],[-99.24331421999987,19.281222949999098],[-99.24336131999988,19.281076909999097],[-99.24345937999998,19.280989829999196],[-99.24356287999996,19.280896449999094],[-99.24366577999989,19.280802489999097],[-99.24376868999998,19.2807085199992],[-99.24387174,19.280614719999193],[-99.24397221999996,19.280518419999098],[-99.24405998,19.280411509999094],[-99.24417522,19.280331489999096],[-99.24430448999998,19.280273969999097],[-99.24443679999987,19.2802468899992],[-99.24459156999995,19.280204689999195],[-99.24491291999998,19.280137309999095],[-99.24493468999997,19.2800706299992],[-99.24491281999998,19.279886889999094],[-99.24484607999987,19.279540429999095],[-99.24480477,19.279325709999096],[-99.24479091999996,19.279218909999095],[-99.24479819999998,19.27912684999919],[-99.24480974999987,19.279067419999095],[-99.24486962999995,19.278878509999096],[-99.24502257999988,19.278431909999195],[-99.24525902999989,19.277590489999096],[-99.24535570999988,19.277073799999098],[-99.24536777999997,19.276963949999097],[-99.24535784999988,19.276791709999095],[-99.24528017999988,19.276616319999196],[-99.24519545999998,19.276489029999095],[-99.24488741999988,19.276209419999095],[-99.24476253999988,19.276324419999096],[-99.24461117,19.276259489999095],[-99.24445638,19.276214199999096],[-99.24420884999988,19.276091139999096],[-99.24411064999998,19.276016539999095],[-99.24397802,19.275881709999197],[-99.24382721999996,19.275943919999097],[-99.24345876999998,19.275649199999098],[-99.24346605999988,19.275480429999195],[-99.24347870999998,19.275370479999093],[-99.24349951,19.275298179999098],[-99.24353267999996,19.27517134999909],[-99.24362633999998,19.274915979999093],[-99.24373122999997,19.2746801799992],[-99.24385927999997,19.274375889999092],[-99.24392442999986,19.274258919999095],[-99.24404541999988,19.274122349999097],[-99.24415024999988,19.273948909999092],[-99.24428441999996,19.273653119999096],[-99.24440804999988,19.27327107999909],[-99.24461321999988,19.272902319999194],[-99.24453105,19.272856879999093],[-99.24450194999996,19.272708969999098],[-99.24430402999998,19.272455179999096],[-99.24408227999996,19.272333579999096],[-99.24396787999996,19.272111939999196],[-99.24382654,19.271788679999094],[-99.24377239999988,19.271637689999096],[-99.24373005999998,19.271463999999096],[-99.24367922999988,19.271187739999196],[-99.24365753999987,19.271008109999094],[-99.24364166,19.2708753099992],[-99.24364602999997,19.270694849999096],[-99.24359868999989,19.270389179999093],[-99.24360227999988,19.270267749999192],[-99.24349782999998,19.269973479999095],[-99.24346782999996,19.269789879999095],[-99.24349137,19.269687059999097],[-99.24359877999989,19.26950347999909],[-99.24374328999988,19.269351169999094],[-99.24449122,19.268842939999196],[-99.24487397999997,19.26865656999909],[-99.24497251999998,19.268517909999197],[-99.24527130999988,19.268185829999094],[-99.24532614999995,19.268135309999096],[-99.24538642,19.268087179999096],[-99.24578214999995,19.267774769999196],[-99.24589208999998,19.267666229999097],[-99.24599481999998,19.267528799999095],[-99.24605124999988,19.267353319999096],[-99.24607385999995,19.267174169999095],[-99.24605607999987,19.267033779999196],[-99.24596828999996,19.26684028999909],[-99.24593168999988,19.266509569999094],[-99.24595162999998,19.266437379999097],[-99.24597451999988,19.266373319999197],[-99.24600870999988,19.266311449999197],[-99.24605166,19.266244489999195],[-99.24637613999988,19.265824539999095],[-99.24666266,19.265726369999097],[-99.24695791999989,19.265639599999098],[-99.24699685999998,19.26559547999919],[-99.24702090999988,19.265528459999096],[-99.24706196999988,19.265057999999097],[-99.24709045999998,19.264749059999097],[-99.24699517,19.264496539999097],[-99.24638301999988,19.263983889999096],[-99.24590627999996,19.263606289999096],[-99.24563284999986,19.26337397999909],[-99.24554267999996,19.263088719999097],[-99.24552834999996,19.262933139999095],[-99.24556190999998,19.262547509999095],[-99.24561714999996,19.262224859999197],[-99.24565410999998,19.261719689999097],[-99.24572094999988,19.261568939999197],[-99.24594005999988,19.261200139999097],[-99.24622902999988,19.260889179999097],[-99.24629817999988,19.260749109999097],[-99.24647817999988,19.260654659999197],[-99.24684105999988,19.2605371499992],[-99.24719788999988,19.260327379999097],[-99.24723653999988,19.260277319999098],[-99.24719053999988,19.260201259999096],[-99.24681703,19.259721309999097],[-99.24634819999989,19.259346779999095],[-99.24597428,19.259039969999098],[-99.24587221999997,19.258992779999097],[-99.24573631999998,19.258941399999095],[-99.24558114999988,19.258911139999096],[-99.24540156999988,19.258907859999095],[-99.24525724999988,19.258898079999096],[-99.24509406,19.258946089999096],[-99.24491370999998,19.259002569999097],[-99.24475977,19.259092739999097],[-99.24460881999988,19.259191349999096],[-99.24438225999998,19.259377419999197],[-99.24432844999988,19.259416279999098],[-99.24405767999998,19.259461319999097],[-99.24399444999987,19.259408519999095],[-99.24388824999988,19.259200679999097],[-99.24387131999995,19.2590596899992],[-99.24388210999987,19.258945769999094],[-99.24389485999988,19.258862169999095],[-99.24437253999996,19.258279769999195],[-99.24445262999988,19.258164459999097],[-99.24498221999988,19.257762459999096],[-99.24528467999988,19.257517519999094],[-99.24538583,19.257342109999097],[-99.24539254999998,19.257174749999095],[-99.24529161999996,19.256907449999098],[-99.24523537999988,19.256807629999095],[-99.2451382,19.256700249999096],[-99.24497496999996,19.256533229999196],[-99.24481558,19.256357539999193],[-99.24482125999997,19.256284909999096],[-99.24486704999998,19.256200049999197],[-99.24493094999995,19.256057229999197],[-99.24503402999989,19.255960829999097],[-99.24505924999988,19.255874879999094],[-99.24509173999988,19.255799219999098],[-99.24516389,19.255610089999095],[-99.24521791999987,19.255412429999097],[-99.24524665999998,19.255252519999097],[-99.24520484999988,19.255132289999096],[-99.24518259999986,19.25503008999919],[-99.24511397999996,19.254944749999098],[-99.24493669,19.254674799999098],[-99.24486965999988,19.254562079999097],[-99.24480219999998,19.254390999999096],[-99.24476529,19.254033909999094],[-99.24472143,19.25367996999919],[-99.24465489,19.253354079999095],[-99.24461924999996,19.253211969999096],[-99.24460684999995,19.253082829999094],[-99.24458507999996,19.252732629999095],[-99.24461223,19.252635429999096],[-99.24471930999988,19.252545399999093],[-99.24478602999989,19.252446549999092],[-99.24476550999997,19.252326649999095],[-99.24500526,19.251805539999197],[-99.24521696999987,19.251296079999097],[-99.24525022999995,19.251037879999096],[-99.24522317,19.250815399999095],[-99.24521292,19.250606819999096],[-99.24519974999998,19.250469419999092],[-99.24523202999988,19.250377059999096],[-99.24528588999998,19.250272379999195],[-99.24534410999988,19.250188219999195],[-99.24579173999987,19.249763629999197],[-99.24594010999998,19.249658739999095],[-99.24614096999989,19.249565819999095],[-99.24630230999998,19.249510379999094],[-99.24647516999988,19.2494650899992],[-99.24656897999988,19.249433969999096],[-99.24667248,19.249346179999097],[-99.24683237999989,19.249174259999094],[-99.24700193999998,19.249066859999097],[-99.24738605999988,19.248852939999196],[-99.24746491999998,19.248733109999097],[-99.24751167999987,19.248527419999196],[-99.24758685999988,19.248305179999097],[-99.24759018,19.248081399999197],[-99.24765011999988,19.2478562799992],[-99.24764265999988,19.2476489799992],[-99.24760766,19.247467599999094],[-99.24765064999998,19.247339379999097],[-99.24775937999998,19.247104029999097],[-99.24783962999996,19.246972259999097],[-99.24792268999988,19.246866819999095],[-99.24800768999988,19.246733749999095],[-99.24818293999998,19.246777749999097],[-99.24829630999989,19.246815519999096],[-99.24860931999996,19.246842489999096],[-99.24890070999996,19.246739079999095],[-99.24911616999998,19.246588859999097],[-99.24924653999987,19.246514779999096],[-99.24941737999988,19.246429969999195],[-99.24959622999988,19.246331479999096],[-99.24961123,19.246204109999095],[-99.24961777,19.246084889999196],[-99.24964995,19.245940819999092],[-99.24982596999988,19.245741629999095],[-99.24993953999989,19.24570164999919],[-99.25016861999988,19.245724939999096],[-99.25035096999989,19.245693279999095],[-99.25044599999988,19.245398519999092],[-99.25047767999988,19.245209049999097],[-99.25020163,19.244913579999093],[-99.25013364999988,19.244799259999095],[-99.25014642999996,19.244688549999097],[-99.25022876999998,19.244559029999092],[-99.25035784999989,19.244520149999097],[-99.25059117999989,19.244287739999095],[-99.25086029,19.243968249999096],[-99.25100959999996,19.243774379999195],[-99.25120782999988,19.24336461999909],[-99.25131122,19.243152859999196],[-99.25145087999988,19.242926289999097],[-99.25176853999989,19.242433169999096],[-99.25180127999988,19.242025079999195],[-99.25159892,19.241672049999096],[-99.25138691999987,19.241470219999098],[-99.25118273999998,19.241267339999094],[-99.25104192,19.240913879999095],[-99.2509936,19.24045590999919],[-99.25147235,19.240072139999096],[-99.25178516999988,19.239497919999096],[-99.25187968999988,19.238974369999095],[-99.25201827999996,19.238632029999195],[-99.25218862999998,19.238397689999093],[-99.25240956999988,19.238163279999096],[-99.25271217999988,19.237822249999095],[-99.25286882999988,19.237590149999097],[-99.25280281999989,19.237192749999192],[-99.25266193999988,19.236645579999095],[-99.25267564999989,19.236094279999097],[-99.25282673999996,19.235747049999095],[-99.25290910999988,19.235467429999098],[-99.25312934999988,19.235100279999095],[-99.25343252,19.234811619999196],[-99.25398436999988,19.234442059999097],[-99.25437779999996,19.234067449999095],[-99.25474608999995,19.233930549999094],[-99.25513649,19.233705309999095],[-99.25564907999998,19.233221689999095],[-99.25596961999996,19.232776079999095],[-99.25609704999988,19.232539939999096],[-99.25635707999996,19.232534059999097],[-99.25695261999986,19.232544879999093],[-99.25727102999998,19.232470629999092],[-99.25745194999988,19.232059769999097],[-99.25763856999995,19.2317938299992],[-99.25790686,19.231552319999096],[-99.25809006,19.2312810599992],[-99.25839044999996,19.230980479999097],[-99.25861956999996,19.230767149999195],[-99.25889681999998,19.230511629999096],[-99.25997257999995,19.229860599999192],[-99.26030227999988,19.229707749999097],[-99.26093102999988,19.229413029999098],[-99.26127457999998,19.229335079999192],[-99.26161788999998,19.229269149999197],[-99.26202488,19.229186349999196],[-99.26244934999988,19.229126109999097],[-99.26272179999988,19.228981119999197],[-99.26333142,19.22863745999919],[-99.26377251999996,19.228493849999197],[-99.26403345999988,19.228225449999098],[-99.26508348,19.227430779999196],[-99.26513710999988,19.227219349999096],[-99.26525836999998,19.227116689999097],[-99.26556865999996,19.227097029999097],[-99.26577087999998,19.22699424999909],[-99.2660158,19.226952319999196],[-99.26623151999998,19.226916309999098],[-99.26650391999998,19.226794109999098],[-99.26685928999989,19.226530029999193],[-99.26770962999989,19.225942539999096],[-99.26823774999995,19.225588819999096],[-99.26859279999996,19.22511017999919],[-99.26914857999998,19.224713149999193],[-99.26948691999998,19.224488709999097],[-99.26979522999989,19.224402119999095],[-99.27053291999988,19.224291919999096],[-99.27067822999996,19.224203019999095],[-99.27077174,19.223956519999092],[-99.27092362,19.223703339999098],[-99.27111374,19.223548719999098],[-99.27131384999988,19.22343339999909],[-99.27147088999996,19.223364519999095],[-99.27174779999996,19.223147049999096],[-99.27195877999998,19.222937339999095],[-99.27225359999989,19.2226604199992],[-99.27255417999996,19.222138509999095],[-99.27298928,19.221811719999092],[-99.27355168999998,19.221573119999093],[-99.27378411999987,19.221373199999196],[-99.2739516,19.221229509999095],[-99.27415659999998,19.221038889999097],[-99.27417330999997,19.22070162999919],[-99.27410290999988,19.220400649999096],[-99.27403905999986,19.220101119999097],[-99.27401596999988,19.219706679999096],[-99.27398349,19.219527889999092],[-99.27405957999996,19.218850479999094],[-99.27413028999987,19.218633819999095],[-99.27413697,19.21845794999909],[-99.27415462,19.218309509999095],[-99.27420671999988,19.2181523999992],[-99.27436473999988,19.218085519999093],[-99.27445193999988,19.217887199999097],[-99.274616,19.217518279999094],[-99.27530432,19.217055449999098],[-99.27565652,19.216759179999094],[-99.27587765999998,19.216579629999195],[-99.27603508999988,19.216489539999095],[-99.27624171999996,19.216423079999096],[-99.27627890999996,19.2163546199992],[-99.27633917999997,19.216001429999192],[-99.27635893999997,19.2157949199992],[-99.27641202999988,19.215706949999092],[-99.27647042999988,19.21566091999909],[-99.27655505999998,19.215633979999197],[-99.27661544999997,19.215566889999092],[-99.27666773999988,19.215486399999097],[-99.276716,19.215405919999096],[-99.27677727999998,19.215303569999097],[-99.27718879999998,19.214838399999195],[-99.27734057999996,19.214715999999097],[-99.27745436999996,19.214679539999096],[-99.27750665999996,19.214684429999092],[-99.27753485999988,19.214678719999096],[-99.27756284999997,19.214650339999096],[-99.27760168999998,19.214590279999097],[-99.27766308999998,19.214551109999093],[-99.27774867999987,19.214514279999097],[-99.27794024999996,19.21449265999919],[-99.27798204999998,19.214477709999095],[-99.27801597999988,19.214450349999098],[-99.27805254,19.214422999999098],[-99.27820971999988,19.21427864999909],[-99.27860359999988,19.214186479999096],[-99.27881490999988,19.214075519999092],[-99.27937214999996,19.213988769999094],[-99.27957609,19.213920919999193],[-99.279866,19.213839849999097],[-99.28015558,19.213723819999096],[-99.2803208,19.213649549999197],[-99.28059481999998,19.213655859999097],[-99.28076011999995,19.213630939999096],[-99.28089484999998,19.213684549999098],[-99.28097282999988,19.213709109999098],[-99.28104608999988,19.213724689999093],[-99.28114256999996,19.213697829999095],[-99.28134009,19.213646829999092],[-99.28158556999988,19.213532349999095],[-99.28188982999988,19.213395739999196],[-99.28214029,19.213225889999197],[-99.28239357999988,19.213081459999096],[-99.28310022999987,19.213055629999193],[-99.28329736999989,19.213161339999097],[-99.28340095,19.213210449999192],[-99.28353641999988,19.21342370999909],[-99.28370906,19.213539509999094],[-99.28393919999988,19.213604479999095],[-99.28410585999988,19.213651509999096],[-99.28441330999998,19.213636199999097],[-99.28457693999997,19.213680799999093],[-99.28463708999998,19.213689689999097],[-99.28472459999988,19.213636019999097],[-99.28482604999998,19.213562569999095],[-99.28496454,19.2134854599992],[-99.28505170999988,19.213452199999097],[-99.28515188999988,19.213379579999096],[-99.28526079999988,19.213311079999094],[-99.28539377,19.213286029999097],[-99.28557254999998,19.213265049999197],[-99.28602957999998,19.213310369999096],[-99.28628233999989,19.213335289999097],[-99.28652382999996,19.213278509999096],[-99.28681721999996,19.2132022799992],[-99.28710556999988,19.213162629999193],[-99.28751357999988,19.213149579999097],[-99.28782356999989,19.213122259999096],[-99.28804825999998,19.213176979999098],[-99.28819615,19.213306909999098],[-99.28857641999998,19.213606679999096],[-99.28873482999988,19.213716569999097],[-99.28894061999988,19.213776309999098],[-99.28905671999988,19.213818049999094],[-99.28916488999988,19.213809769999095],[-99.28942953999989,19.213730949999192],[-99.28989019999987,19.213914979999092],[-99.29025769,19.214076089999097],[-99.29062719999988,19.214260719999096],[-99.29106156999988,19.214453619999095],[-99.29143794,19.2145982799992],[-99.29176788999987,19.214282939999094],[-99.29239357999988,19.213825819999197],[-99.29275428999988,19.213773739999095],[-99.29315135,19.213906659999193],[-99.29340168,19.214143539999096],[-99.29356299999988,19.214261919999096],[-99.29364859999998,19.214321109999197],[-99.29372105999988,19.214395919999095],[-99.29378447999989,19.214520349999095],[-99.29382334999998,19.214566829999097],[-99.29394599999988,19.214644179999095],[-99.29412185999998,19.214785449999095],[-99.29420168999997,19.214888079999096],[-99.29430811999995,19.215025569999096],[-99.29443897,19.215122289999098],[-99.29468416999998,19.215180549999097],[-99.29483637999998,19.215245719999093],[-99.29494497999998,19.215337089999096],[-99.29505578,19.215480909999197],[-99.29527093999997,19.215957549999096],[-99.29548777999996,19.216297619999096],[-99.29583427999988,19.216762549999096],[-99.29612842999988,19.217110599999096],[-99.29642587999987,19.217527829999195],[-99.29670581999989,19.217763349999096],[-99.29702304999988,19.217832339999095],[-99.29735845999988,19.217918369999097],[-99.29779922999997,19.218121859999098],[-99.29814437,19.218081419999095],[-99.29861994,19.217929689999096],[-99.29922481999988,19.2177095799992],[-99.29980856999998,19.217741229999092],[-99.30026690999988,19.217742399999196],[-99.30054377999988,19.217969119999193],[-99.30097454999998,19.218198599999095],[-99.30142787999988,19.218220779999097],[-99.30150264999996,19.21828945999909],[-99.30200109,19.218627429999092],[-99.30245612,19.218968739999095],[-99.30273085999988,19.219258309999095],[-99.30309336999989,19.219588429999195],[-99.30323897999988,19.219821369999096],[-99.30343636999996,19.220091079999097],[-99.30369465999988,19.2203331799992],[-99.30397265999989,19.220575999999195],[-99.30471169,19.221332979999197],[-99.30543065999989,19.222013249999097],[-99.30570442999998,19.222236179999097],[-99.30604790999988,19.222364119999096],[-99.30649162,19.222409679999092],[-99.30709962999995,19.222762779999098],[-99.30779071999989,19.223195279999096],[-99.30805542999998,19.223432379999196],[-99.30840162999998,19.223498539999095],[-99.30862544999997,19.223609649999194],[-99.30894653999997,19.223929539999094],[-99.30918991999988,19.224293089999097],[-99.30943016999998,19.224553649999095],[-99.30962468999986,19.224748819999096],[-99.30999124999988,19.224798049999094],[-99.31049659999996,19.225213349999095],[-99.31083356999989,19.225169709999097],[-99.31102604999988,19.225397549999094],[-99.31116330999996,19.225518999999196],[-99.31128282,19.225633319999098],[-99.31143953999998,19.225736799999098],[-99.31171748,19.225871219999096],[-99.31199096999988,19.225941619999094],[-99.31227604999997,19.226020109999197],[-99.31265550999989,19.225957599999195],[-99.31297365999995,19.225804539999196],[-99.31325091999996,19.225976889999096],[-99.31355331999998,19.226208139999095],[-99.31401110999995,19.226476309999196],[-99.31445228999988,19.226620919999196],[-99.31466530999988,19.226704489999097],[-99.31505654999988,19.226897819999095],[-99.31555553999998,19.227395349999195],[-99.31534334999998,19.229196489999097],[-99.32129650999995,19.232665479999095],[-99.32225484999996,19.232647829999195],[-99.32254828999996,19.233726179999096],[-99.32255123,19.233827879999097],[-99.32255391999998,19.233944369999097],[-99.32263244999989,19.234081089999098],[-99.32272134999988,19.234675169999097],[-99.32276637999988,19.235305579999096],[-99.32273661999989,19.235653459999096],[-99.32299537999988,19.2359084599992],[-99.32293524999989,19.23643642999909],[-99.32285145,19.236714489999095],[-99.32272982999989,19.237511429999095],[-99.32276105999988,19.237615579999098],[-99.32281608999988,19.23767896999909],[-99.32285444999997,19.2377627399992],[-99.32285601999988,19.237914229999195],[-99.32287128999997,19.238019109999097],[-99.32293767999988,19.238112649999096],[-99.32311922999996,19.238201139999095],[-99.32319411,19.238253029999093],[-99.32323921999988,19.238310719999095],[-99.32327708999998,19.238387819999097],[-99.32330148999988,19.238453279999096],[-99.32331448999996,19.238554919999093],[-99.32316401999998,19.239068719999096],[-99.32316433999988,19.239231219999095],[-99.32289128999996,19.239817449999094],[-99.32266914999995,19.240306539999096],[-99.32212467999987,19.24091911999909],[-99.32125817999996,19.24181841999919],[-99.32078869,19.242288219999097],[-99.32053402999998,19.242606259999192],[-99.32035176999987,19.242864259999095],[-99.32019088999998,19.243017549999095],[-99.32005876999987,19.243143379999097],[-99.3198144,19.243281089999098],[-99.31953434999996,19.243397319999097],[-99.31938888999996,19.243434459999097],[-99.31926017999989,19.243443569999098],[-99.31910791999996,19.243372739999096],[-99.31887593999988,19.243235379999096],[-99.31879056999998,19.243192429999095],[-99.31872207999996,19.243209849999097],[-99.31859327999987,19.243282259999095],[-99.31839085999997,19.2434783999992],[-99.31827739999989,19.243728579999196],[-99.31770602999988,19.244371199999097],[-99.31763653999998,19.244492049999096],[-99.31760190999988,19.244597179999097],[-99.31752093999988,19.245004769999195],[-99.31750659999987,19.245298399999097],[-99.31779457999988,19.245670059999092],[-99.31772237999998,19.24592265999919],[-99.31769784999987,19.245949109999096],[-99.31758476999988,19.246012909999095],[-99.31756412,19.246083119999096],[-99.31758044999997,19.246164229999096],[-99.31771403,19.246403829999196],[-99.31784070999998,19.247029369999098],[-99.31784797999988,19.247123399999097],[-99.31781276999996,19.247269829999095],[-99.31776524999997,19.2473625799992],[-99.31752304999998,19.247610319999097],[-99.31728876999988,19.248052719999095],[-99.31713554999996,19.248554259999196],[-99.31699582999988,19.24914673999919],[-99.31700691999995,19.249632179999097],[-99.31707405999995,19.25030787999909],[-99.31681754,19.250724979999095],[-99.31677030999997,19.250778999999095],[-99.31669481999997,19.250777249999093],[-99.31662947999988,19.250737819999095],[-99.31658862999988,19.250787079999093],[-99.31648382999995,19.25096731999909],[-99.31644257999989,19.251032349999193],[-99.31638896999998,19.251049109999094],[-99.31632534,19.2510327999992],[-99.31617876999996,19.250851139999195],[-99.31614071999998,19.250843049999094],[-99.31611170999996,19.250837509999094],[-99.31607593999988,19.25083811999909],[-99.3160508,19.250836429999097],[-99.31602565999997,19.250835979999096],[-99.3159964,19.250841739999093],[-99.31595650999998,19.250860599999196],[-99.31591682,19.2509157499992],[-99.31591733999988,19.250981769999097],[-99.31593187999988,19.251063849999095],[-99.31596014999997,19.251286999999092],[-99.31593653999988,19.25152542999919],[-99.31590867999986,19.251649479999095],[-99.31597304999995,19.251828689999098],[-99.31606014999988,19.251940829999096],[-99.31608199999988,19.252014949999097],[-99.31605739999998,19.252080879999095],[-99.31596621999998,19.252175109999197],[-99.31587745999995,19.252343119999097],[-99.31585593999988,19.252449649999196],[-99.31594807999988,19.252626289999096],[-99.31593505999987,19.25280399999909],[-99.31587447999998,19.252916119999092],[-99.31573290999988,19.253008629999197],[-99.31559719999989,19.253176599999197],[-99.31550611999997,19.253306599999096],[-99.31526016999996,19.253955999999196],[-99.31519214999996,19.254359019999196],[-99.31504561999998,19.254563889999098],[-99.31488562999998,19.254836599999095],[-99.31476956999995,19.254978659999193],[-99.31478142999995,19.255217799999095],[-99.31487046,19.255345349999097],[-99.31496570999998,19.2554355399992],[-99.31505090999998,19.255519489999095],[-99.31516017,19.255641569999096],[-99.31526010999988,19.255771799999092],[-99.31543657,19.255914029999097],[-99.31547042999988,19.255992509999196],[-99.31547974999988,19.256059399999096],[-99.31546456999988,19.256137969999095],[-99.31536287999988,19.256358919999094],[-99.31525351999989,19.256416909999096],[-99.31503324999989,19.256482489999097],[-99.31477205,19.256513229999197],[-99.31459485999989,19.256736119999097],[-99.31439264999987,19.256813479999096],[-99.31420074,19.256824109999098],[-99.31407390999998,19.256810919999193],[-99.31397434999998,19.256772149999193],[-99.31376207999988,19.256657449999096],[-99.31353885999988,19.256647059999096],[-99.31280034999996,19.256702399999092],[-99.31253757999995,19.256947449999096],[-99.31226662999988,19.2570846199992],[-99.31120930999997,19.257075579999096],[-99.31076614999988,19.257182919999092],[-99.31020316999997,19.257274649999097],[-99.30973577999995,19.257591079999095],[-99.30924154999995,19.257831739999094],[-99.30877404999988,19.258097629999195],[-99.30818653999988,19.258007059999095],[-99.30754994999988,19.257905909999096],[-99.30689619999998,19.2577763999992],[-99.30623568999988,19.257744919999197],[-99.30529996999998,19.257942719999093],[-99.30388867999989,19.258383619999098],[-99.30350567999989,19.2586671499992],[-99.30302550999988,19.258667509999096],[-99.30237034999998,19.258928199999193],[-99.30216165999995,19.259355579999095],[-99.30191122999996,19.259512569999092],[-99.30171425,19.260039019999095],[-99.30147754999987,19.260502889999096],[-99.30100977999987,19.260879449999095],[-99.30087648999988,19.261044459999095],[-99.30056662999998,19.261096579999094],[-99.30023411999998,19.260937579999094],[-99.29977493999988,19.260886049999193],[-99.29894924999986,19.2612201199992],[-99.29839082999987,19.261321419999195],[-99.29798353999988,19.261453749999095],[-99.29775589,19.261882199999196],[-99.29728892,19.262287659999096],[-99.29696551999989,19.2627119199992],[-99.29680873999988,19.263112149999195],[-99.29623748999988,19.2633047199992],[-99.29576233999988,19.263513019999095],[-99.29510427999998,19.263802019999098],[-99.29479385999998,19.264045679999096],[-99.29451274999995,19.264303859999096],[-99.29423671999989,19.26459544999919],[-99.29418819999988,19.2648911099992],[-99.29398705999988,19.265278779999196],[-99.29405622999997,19.265564629999098],[-99.29401544999988,19.266022709999195],[-99.29378350999995,19.266365539999097],[-99.29351982999997,19.266881779999093],[-99.29274276999988,19.267638229999196],[-99.29262279999988,19.26812782999909],[-99.29257879999987,19.268308399999096],[-99.29223685999987,19.268548259999097],[-99.29163757999996,19.268773119999093],[-99.29125494999988,19.269024139999097],[-99.29092107999998,19.269202029999096],[-99.29051470999995,19.269568979999097],[-99.29014765999987,19.26989382999919],[-99.28995617999998,19.2700782899992],[-99.28963082999998,19.270286119999096],[-99.28932948999989,19.270350969999097],[-99.28901287999996,19.270294249999093],[-99.28826393999996,19.270171309999096],[-99.28792517999987,19.270156169999098],[-99.2875284,19.270171479999092],[-99.28680671999987,19.270414259999097],[-99.28618959999989,19.270680679999195],[-99.28564822,19.271425309999096],[-99.28543792,19.271825979999097],[-99.28541602999996,19.27219844999919],[-99.28524695,19.273107719999093],[-99.28494245999995,19.273274939999094],[-99.28471725999998,19.273556719999096],[-99.28450317999987,19.273910139999195],[-99.28427677999996,19.274251449999095],[-99.28404933999995,19.274591949999095],[-99.28373670999996,19.274756939999097],[-99.28333111999989,19.275097019999095],[-99.28321126,19.275459749999097],[-99.28317844999997,19.275736259999093],[-99.28331,19.275997249999197],[-99.28374942999989,19.276226349999096],[-99.28391772,19.276692289999097],[-99.28396542999998,19.276961339999193],[-99.28347517999998,19.277275049999197],[-99.28304251999997,19.277768689999196],[-99.28230148999988,19.279032999999096],[-99.28205431,19.279224889999096],[-99.28150905999988,19.279490679999096],[-99.28130771999996,19.280218579999097],[-99.28113981999998,19.280619799999094],[-99.28080837999988,19.280757539999097],[-99.28045968,19.280758079999096],[-99.28021673999989,19.280821079999097],[-99.28005473999995,19.2809305499992],[-99.27963785,19.281154799999097],[-99.27945042999988,19.281394089999093],[-99.27920016999995,19.281670379999095],[-99.27902028999988,19.281715679999095],[-99.27865708999995,19.281621719999094],[-99.27846553999996,19.281469119999095],[-99.27831492,19.281398479999197],[-99.278224,19.2814140299992],[-99.27813572,19.281483619999193],[-99.27800288,19.28155250999909],[-99.27792942999996,19.2817027099992],[-99.27790133999996,19.281933939999195],[-99.27788881999996,19.282325879999092],[-99.27788814999998,19.282593259999096],[-99.27656285999988,19.28336556999909],[-99.27332028999987,19.28518922999919],[-99.27358862999988,19.285556799999092],[-99.27498031999988,19.287463119999096],[-99.27616894999989,19.289097909999096],[-99.27473439999989,19.291328649999095],[-99.27316331999997,19.293149339999196],[-99.27246125,19.294211079999094],[-99.27249808999989,19.294657999999092],[-99.27236804999988,19.295013659999093],[-99.27232676999988,19.295334579999096],[-99.27210742999988,19.295505659999098],[-99.27185404999987,19.296112679999197],[-99.27171696999989,19.296827599999094],[-99.27154153999996,19.297741979999095],[-99.27148617999995,19.297996709999097],[-99.27166382,19.29834173999919],[-99.27147259999998,19.299174999999096],[-99.27055342999986,19.299679799999097],[-99.27033299999988,19.300059579999097],[-99.27008252,19.300541489999095],[-99.26973664999998,19.301176279999098],[-99.26975876999988,19.301184369999095],[-99.27038034,19.301411489999197],[-99.27048591999989,19.301573279999197],[-99.27092948999989,19.301862049999094],[-99.2711558,19.301994379999098],[-99.27128211999998,19.302068259999096],[-99.27150407999989,19.302309119999094],[-99.27199494999998,19.302389799999197],[-99.27214039999996,19.302413709999197],[-99.27221699999988,19.302458179999096],[-99.27206213999987,19.30256881999909],[-99.27150005999988,19.303012649999097],[-99.27141302999998,19.303081379999096],[-99.27098401999989,19.303519819999195],[-99.27081359999988,19.303730279999098],[-99.27061956999988,19.30396988999909],[-99.27042173999988,19.304125579999095],[-99.26990230999988,19.304373979999095],[-99.26975831999988,19.304438309999096],[-99.26938081999997,19.304607019999096],[-99.26936453999998,19.304614289999098],[-99.2693114,19.304635479999195],[-99.26904527999989,19.304741599999097],[-99.26843024999988,19.305115619999096],[-99.26855771999998,19.305240709999097],[-99.26870047999986,19.305331339999096],[-99.26917367999988,19.305502379999197],[-99.26933362999988,19.305566549999096],[-99.26942973999986,19.305605109999096],[-99.26978765999988,19.305725489999094],[-99.26987438,19.305735769999192],[-99.26996239999988,19.305748339999095],[-99.27000768999989,19.305768829999096],[-99.27011685999996,19.305932019999094],[-99.27018433999989,19.306040949999097],[-99.27031965,19.306323029999096],[-99.27044594999988,19.306514249999196],[-99.27057396999996,19.306630399999193],[-99.27077327999996,19.306733949999092],[-99.27081574999988,19.306752289999196],[-99.27083885999998,19.306762259999097],[-99.27088602999996,19.306789139999097],[-99.270919,19.30681847999919],[-99.27110059999988,19.3070223499992],[-99.27120364999998,19.307218879999095],[-99.27134165999988,19.308256919999096],[-99.27133562999988,19.3082788899992],[-99.27083904999988,19.308862909999192],[-99.27114548,19.309049459999095],[-99.27105362999995,19.309294649999096],[-99.27090951999998,19.309590779999095],[-99.27073348999988,19.309952519999097],[-99.27049809,19.310452019999097],[-99.27036439999988,19.310778169999097],[-99.27023653999998,19.311152549999093],[-99.27020951,19.311267349999095],[-99.27005531,19.311523849999197],[-99.27033959999989,19.311800749999097],[-99.27051028999988,19.311544649999096],[-99.27054465999998,19.311936679999093],[-99.2702722,19.312204179999096],[-99.27013830999988,19.312417979999097],[-99.26998079999996,19.3127313999992],[-99.26983001999996,19.312925849999093],[-99.26966921999995,19.313215979999093],[-99.26961913999996,19.313413349999195],[-99.26956636999986,19.313503079999094],[-99.26953391999996,19.313558249999097],[-99.26944057999997,19.313625019999197],[-99.26898511999998,19.313729569999197],[-99.26843816999998,19.314009999999197],[-99.26808179999988,19.314082709999095],[-99.26794327999988,19.314139799999197],[-99.26779988,19.314195139999097],[-99.26764724999995,19.3142024199992],[-99.26762782999997,19.314151549999195],[-99.26768814999996,19.314073259999095],[-99.26769428999988,19.314029079999095],[-99.26752308999988,19.313801279999097],[-99.26739636999996,19.3137923199992],[-99.26721477999988,19.313729829999097],[-99.26678014,19.313522289999092],[-99.26605345999997,19.313450249999196],[-99.26590065999989,19.313437449999096],[-99.26572393999996,19.313674309999197],[-99.26568045999988,19.313746479999196],[-99.26559268999988,19.313892179999097],[-99.26551079999987,19.314062279999092],[-99.26543396999988,19.314190259999098],[-99.26528977999996,19.314344219999192],[-99.26513733999998,19.314556889999096],[-99.26497402999988,19.3147915699992],[-99.26465193999998,19.315022799999195],[-99.26451454999987,19.315310539999093],[-99.26436137999998,19.315412819999196],[-99.26414531999988,19.315579799999092],[-99.263812,19.315839319999096],[-99.26362099999989,19.315977599999098],[-99.26317055,19.316306029999197],[-99.26277181999988,19.316779879999196],[-99.26244047999988,19.3171661799992],[-99.26223624999987,19.317312279999197],[-99.26176884999995,19.317689449999097],[-99.26169408,19.317821919999098],[-99.26160353999988,19.318281909999197],[-99.26139577999996,19.318714509999097],[-99.26103849,19.319557449999092],[-99.26081725999995,19.319885379999196],[-99.26057387999998,19.320148939999097],[-99.26045134,19.320445259999097],[-99.26037450999998,19.320566119999093],[-99.25989541999998,19.321035419999195],[-99.25975147999998,19.321180369999094],[-99.25962157999996,19.321311199999094],[-99.25921122999988,19.321602149999094],[-99.25904250999996,19.321815229999096],[-99.25873506,19.322052969999195],[-99.25857713999989,19.322128229999095],[-99.25842167999996,19.322275089999195],[-99.25807508999998,19.322385509999197],[-99.25794371999989,19.32249771999909],[-99.25779881999988,19.322589999999195],[-99.25762001999998,19.322762549999094],[-99.25752941999998,19.322861629999096],[-99.25734305,19.323120399999095],[-99.25711124999997,19.323473169999097],[-99.25692082999988,19.323743939999098],[-99.25653173999989,19.324343049999097],[-99.25643164999995,19.324539029999094],[-99.25635856999996,19.324761879999095],[-99.25632888999988,19.324952419999097],[-99.25625861999995,19.3252208499992],[-99.256113,19.325434109999097],[-99.25591525,19.325725509999096],[-99.25581936999995,19.325722629999095],[-99.25560870999998,19.326000029999097],[-99.25533248999989,19.326387339999098],[-99.25517571999988,19.32655930999919],[-99.25490061999987,19.326673049999197],[-99.25468965,19.326760259999197],[-99.25415445999988,19.326923119999098],[-99.25398953999988,19.326951689999092],[-99.25387650999988,19.326940799999097],[-99.25363448999995,19.326872519999093],[-99.25335264999988,19.326865109999098],[-99.25310131999998,19.326986019999197],[-99.25259601999988,19.327064249999097],[-99.25225226,19.327087859999097],[-99.251381,19.3270792499992],[-99.25110822999989,19.32703034999909],[-99.25070631999988,19.327028199999095],[-99.25038457999987,19.327028659999197],[-99.24995862999997,19.327029229999095],[-99.24935265999989,19.327213149999096],[-99.24868779999998,19.327570659999093],[-99.24862747999998,19.327676169999194],[-99.24835027999988,19.327795579999098],[-99.24802694,19.327869369999096],[-99.24719628999998,19.327941049999197],[-99.24638628999998,19.328079139999097],[-99.24588550999988,19.328122459999097],[-99.24552310999997,19.328109999999096],[-99.24538685,19.32813948999919],[-99.24529364999997,19.3281752499992],[-99.24502811,19.328434179999096],[-99.24462502999988,19.328453769999197],[-99.24422944999998,19.328559689999096],[-99.24383128999987,19.328451719999094],[-99.24372541999998,19.328462289999095],[-99.24361154999998,19.328473679999096],[-99.24353612,19.328464549999097],[-99.24305551,19.328221179999098],[-99.24277207999988,19.327999229999197],[-99.24273014999989,19.327952879999096],[-99.24249625999988,19.327594429999095],[-99.24217113999995,19.327062049999096],[-99.24110111999988,19.325309879999097],[-99.24107556999988,19.32517048999919],[-99.24057351999988,19.324653889999095],[-99.24037993999995,19.324454689999097],[-99.24032373999988,19.324421999999096],[-99.24025956999998,19.32439673999919],[-99.24010194999988,19.324424829999092],[-99.24005621999996,19.324435679999095],[-99.23976136999988,19.324505619999098],[-99.23931729,19.324675779999097],[-99.23926096999998,19.324667649999093],[-99.23883175,19.324466579999097],[-99.23867117999998,19.324541149999195],[-99.23822687999989,19.324541739999095],[-99.23814573999988,19.324550889999195],[-99.23731291999998,19.324700279999195],[-99.23688876999996,19.32489417999909],[-99.23645361999998,19.325171879999196],[-99.23637156999987,19.325457739999095],[-99.23601368,19.325898849999096],[-99.23408350999988,19.326807979999096],[-99.23348853999988,19.327227509999197],[-99.23213173999989,19.328494849999096],[-99.23187750999988,19.3290281699992],[-99.23152690999996,19.329288459999095],[-99.23120146,19.329835179999098],[-99.23057307999989,19.330108859999093],[-99.2300972,19.330316109999092],[-99.22968290999988,19.330365199999196],[-99.22928985999988,19.330515019999098],[-99.22911494,19.330624059999096],[-99.22887516999998,19.330780709999196],[-99.22715707999996,19.331603799999098],[-99.22666975,19.331604399999193],[-99.22627097999997,19.331562879999098],[-99.22614887999995,19.331634679999095],[-99.22420486,19.332358079999192],[-99.22411516999988,19.332497289999093],[-99.22421568999988,19.33274897999919],[-99.22334302999997,19.333092939999094],[-99.22321165999988,19.333154999999095],[-99.22240281999989,19.333537029999196],[-99.22188966,19.333702629999195],[-99.22132708,19.333822179999096],[-99.22004364999997,19.333939369999097],[-99.21913877999997,19.333978909999097],[-99.21856290999987,19.33439113999909],[-99.21782953999995,19.334611739999197],[-99.21750457,19.334651659999096],[-99.21713841999996,19.334691749999095],[-99.21701394999998,19.334813169999197],[-99.21683783,19.335087029999094],[-99.21658602,19.335227539999096],[-99.21601617999988,19.335271579999095],[-99.21588484999988,19.335321579999096],[-99.21573442999988,19.335396519999197],[-99.21556008,19.335521569999095],[-99.21541813999988,19.335675229999097],[-99.21531131999988,19.336109799999097],[-99.21512785999988,19.3362524199992],[-99.21486357999996,19.336387749999098],[-99.21477224999988,19.336407739999093],[-99.21443716999988,19.336473399999097],[-99.21427544999987,19.336490939999095],[-99.21383611999988,19.336538629999197],[-99.21372102999996,19.336551569999095],[-99.21356756999997,19.336555049999095],[-99.21328068999998,19.336518649999196],[-99.21234039999987,19.336190479999097],[-99.21198357,19.336284079999093],[-99.21174090999988,19.336259749999098],[-99.21148241999998,19.336197679999092],[-99.21122665999997,19.336253339999093],[-99.21050588999998,19.336657889999092],[-99.21002037999988,19.336911169999095],[-99.20974968999998,19.33714367999919],[-99.20946427999998,19.337340879999097],[-99.20885047999997,19.337631919999097],[-99.20838777999988,19.337851309999195],[-99.20815330999989,19.337886709999193],[-99.20785397,19.337868749999096],[-99.20751511999995,19.337811119999092],[-99.20781122999988,19.337342369999096],[-99.20819377999996,19.336735199999097],[-99.208589,19.336096169999195]]],\"type\":\"Polygon\"},\"properties\":{\"_id\":15,\"cve_ent\":9,\"cve_mun\":8,\"cvegeo\":9008,\"g_pnt_2\":\"19.2689765031,-99.2684129061\",\"geo_shp\":\"{\\\"type\\\": \\\"Polygon\\\", \\\"coordinates\\\": [[[-99.208589, 19.336096169999195], [-99.20867401999998, 19.335976489999098], [-99.20833711999987, 19.336095049999095], [-99.20809682, 19.336179619999097], [-99.20784054999989, 19.336271569999198], [-99.20710601999997,\",\"gid\":14,\"id\":14,\"nomgeo\":\"La Magdalena Contreras\"},\"type\":\"Feature\"},{\"geometry\":{\"coordinates\":[[[-98.97892778499988,19.323930537999097],[-98.97856030799989,19.323902491999096],[-98.97848704599988,19.324610122999196],[-98.97833027699988,19.324641553999097],[-98.97820309199987,19.325331076999095],[-98.97792659999998,19.325285184999096],[-98.97804561499996,19.324992353999097],[-98.97749386199987,19.324768584999095],[-98.97739738499988,19.325225384999097],[-98.97694181499998,19.325068168999096],[-98.97659050799996,19.324947568999093],[-98.97651650799996,19.324255691999095],[-98.97622818499998,19.324296199999196],[-98.97629244599987,19.3249383999992],[-98.9759564,19.324946753999097],[-98.97532367699988,19.325643491999095],[-98.97470915399995,19.325667230999095],[-98.97118338499988,19.32543163099909],[-98.970792277,19.325182337999095],[-98.97039264599988,19.324927599999096],[-98.96986461499988,19.324853753999196],[-98.96930710799988,19.324775784999098],[-98.96904583099987,19.324750722999095],[-98.96896024599988,19.324742522999095],[-98.968617769,19.325232522999197],[-98.968314692,19.325666168999096],[-98.96827530799996,19.325722522999097],[-98.966351923,19.325671737999095],[-98.96618572299997,19.3256633229992],[-98.96096813799988,19.325398768999097],[-98.96044824599988,19.325372153999197],[-98.95835867699998,19.323611814999097],[-98.95790263099998,19.323227614999197],[-98.95900146199988,19.321859076999097],[-98.95915552299988,19.321659661999096],[-98.96086043099989,19.319452768999195],[-98.96113107699988,19.319102445999096],[-98.96139913799998,19.31875544599919],[-98.96187613799997,19.318137984999098],[-98.96256207699996,19.317250030999197],[-98.96296583099988,19.316727384999098],[-98.96299058499989,19.316615568999097],[-98.96334129199988,19.315032230999098],[-98.96341546199989,19.314505676999097],[-98.96344284599988,19.314311261999094],[-98.96344846199996,19.314271399999196],[-98.96355644599998,19.31350476899919],[-98.96374719999989,19.312150691999097],[-98.96374783099998,19.312146230999097],[-98.96389544599997,19.311098291999095],[-98.96389563099989,19.311096922999095],[-98.96397279999996,19.310549168999195],[-98.96405344599997,19.310047722999094],[-98.96405487699997,19.310038830999098],[-98.96422984599997,19.308950999999094],[-98.96423010799997,19.308949384999092],[-98.96439330799988,19.307934691999197],[-98.96441064599998,19.307886922999096],[-98.96477606199988,19.306880768999093],[-98.96538676899998,19.306335922999192],[-98.96627567699989,19.305962476999095],[-98.96627643099998,19.305962491999097],[-98.96722384599998,19.305969845999098],[-98.96722406199989,19.305968384999098],[-98.96755644599988,19.303745014999095],[-98.96824218499988,19.299157814999095],[-98.96824244599998,19.299156122999097],[-98.96891555399998,19.294738937999096],[-98.96960712299988,19.290200307999093],[-98.97027787699987,19.2857981379992],[-98.971430877,19.278366691999196],[-98.97174553799988,19.276629445999195],[-98.97336293799998,19.267699153999096],[-98.97491756899998,19.259490522999197],[-98.97541315399997,19.2575349999992],[-98.97653063099987,19.253125384999095],[-98.965986877,19.249940999999097],[-98.96796779999988,19.236436322999197],[-98.968586508,19.232217953999196],[-98.96836667699988,19.232147614999096],[-98.96792030799998,19.232004814999097],[-98.96787555399996,19.231990491999095],[-98.96613409199988,19.23143332299909],[-98.9640442,19.230764645999095],[-98.96248284599989,19.230265076999093],[-98.96213504599996,19.230153784999096],[-98.96041676899988,19.229603968999193],[-98.95864749199995,19.229037814999096],[-98.95611315399996,19.228226799999096],[-98.95587401499988,19.228150276999095],[-98.95226016899989,19.226993737999095],[-98.94764475399988,19.225516553999096],[-98.94664367699988,19.225196122999098],[-98.94592730799997,19.224966814999096],[-98.94577036899987,19.2249543079992],[-98.94524338499996,19.224912276999095],[-98.94476001499996,19.224620276999097],[-98.94415933799988,19.22442921499909],[-98.94294950799996,19.224076691999095],[-98.94030281499988,19.223239645999097],[-98.94185884599987,19.217967599999096],[-98.942553215,19.215614861999097],[-98.95090936899996,19.218130661999197],[-98.95108553799996,19.218183707999096],[-98.95215458499996,19.216599014999098],[-98.95239244599998,19.216246414999095],[-98.95327515399998,19.215495968999196],[-98.95289467699988,19.215269937999096],[-98.95328310799988,19.21535575399909],[-98.95367175399998,19.215441614999097],[-98.95383652299986,19.214967553999095],[-98.95394833799998,19.214645845999097],[-98.955307723,19.214835353999092],[-98.95690884599998,19.21505853799909],[-98.95746127699988,19.215135537999096],[-98.95844947699996,19.214857661999098],[-98.959132631,19.214665553999197],[-98.95922675399996,19.214639091999096],[-98.960030169,19.214413168999094],[-98.95974489199988,19.213870861999094],[-98.96112941499987,19.213998445999096],[-98.96254207699997,19.214128630999095],[-98.96258296899995,19.214132399999095],[-98.96269404599998,19.214142630999195],[-98.963535354,19.213044261999094],[-98.96431156899988,19.213239245999095],[-98.96465395399996,19.213047445999095],[-98.967156785,19.211645414999197],[-98.96725872299996,19.211502984999097],[-98.96727812299996,19.211475876999096],[-98.96755369199995,19.211090861999093],[-98.96782927699998,19.210705830999096],[-98.9680668,19.210599014999197],[-98.96844036899986,19.210576384999097],[-98.96852792299988,19.210571076999095],[-98.96857758499998,19.21058906199919],[-98.96892606199997,19.210712445999093],[-98.96924021499989,19.210850830999195],[-98.96947313799988,19.210974184999092],[-98.96976106199998,19.211182568999096],[-98.96993067699998,19.211255214999095],[-98.96997776899995,19.211275384999094],[-98.97101601499998,19.211716076999096],[-98.97129552299998,19.211864630999095],[-98.97149778499988,19.211971553999096],[-98.97170613799987,19.212130230999193],[-98.9719704,19.212326476999095],[-98.97222426199988,19.212510907999192],[-98.972428569,19.212695414999096],[-98.97282770799988,19.213170537999098],[-98.973059031,19.213454461999195],[-98.97317681499996,19.213615507999094],[-98.97317684599987,19.213615568999195],[-98.973212677,19.213664507999095],[-98.973332262,19.213822491999192],[-98.97362139999989,19.214082922999093],[-98.9737166,19.214127799999098],[-98.97434953799988,19.214443137999098],[-98.97450209199997,19.214483199999098],[-98.97495758499998,19.214585353999095],[-98.97501030799997,19.21459119999909],[-98.977896677,19.2150823229992],[-98.97815003099998,19.215068307999193],[-98.98239261499997,19.218637137999096],[-98.98431784599995,19.220256168999097],[-98.98437096899988,19.22030084599919],[-98.985719031,19.221434661999098],[-98.98823390799998,19.2237047689992],[-98.99055867699998,19.225778353999097],[-98.99107358499998,19.225594676999098],[-98.99123726199998,19.224789768999095],[-98.99186799999988,19.224841337999095],[-98.99249386199988,19.224887876999095],[-98.992550738,19.224892107999096],[-98.99290664599988,19.224918476999196],[-98.99326278499996,19.224944845999097],[-98.99339530799988,19.225823891999095],[-98.99345910799995,19.226247076999098],[-98.99349723099998,19.226499937999197],[-98.99354201499987,19.226797014999097],[-98.99356207699998,19.226930030999096],[-98.99361066199998,19.227090768999098],[-98.99366732299988,19.227278230999197],[-98.993725415,19.227470461999093],[-98.99420421499995,19.227426030999094],[-98.99439443099998,19.227447922999097],[-98.99526390799996,19.2275149229992],[-98.99542281499998,19.226434614999196],[-98.99544218499987,19.226242353999194],[-98.995790877,19.225038491999197],[-98.99611646199996,19.22513469199909],[-98.99637626199988,19.225211430999096],[-98.996362,19.225260768999096],[-98.99618059999987,19.225888768999095],[-98.99626944599996,19.225977168999098],[-98.99638269199988,19.226128891999196],[-98.99642859999987,19.226190399999098],[-98.99668106199988,19.226326384999098],[-98.99706316899989,19.226423522999095],[-98.99746359999988,19.226488461999192],[-98.997447046,19.227184461999094],[-98.99723373799998,19.227310691999097],[-98.997177015,19.227472568999097],[-98.99814738499998,19.227531907999197],[-98.99886393799989,19.227704737999098],[-98.99902229199988,19.227357045999096],[-98.99957247699987,19.227559507999196],[-98.99967383099988,19.227282691999196],[-98.99984690799988,19.226783922999097],[-99.00076573799998,19.226994384999095],[-99.002215092,19.227357430999096],[-99.00299064599989,19.227573922999095],[-99.00312899999987,19.227060014999196],[-99.000096123,19.226392830999092],[-99.00010375399988,19.226317584999197],[-99.00148781499988,19.226198368999096],[-99.00166196899988,19.226182537999097],[-99.00214013799987,19.226139076999097],[-99.00301901499986,19.226059168999093],[-99.00397049199988,19.225972676999096],[-99.004054862,19.225964999999093],[-99.00444207699996,19.225929799999196],[-99.00489612299997,19.225888507999095],[-99.005738738,19.225811891999097],[-99.005800062,19.225806322999095],[-99.00715196899988,19.225683384999098],[-99.00755936899998,19.225646337999095],[-99.00852975399988,19.225558091999098],[-99.00889496899995,19.225524861999094],[-99.01044629199998,19.225386784999195],[-99.01160439999995,19.225283707999097],[-99.01206013799997,19.225243137999097],[-99.01249421499988,19.225204491999097],[-99.01267353799987,19.225188522999193],[-99.01315772299988,19.225145414999098],[-99.01510929199998,19.224971661999096],[-99.015211338,19.224962568999096],[-99.01588016899996,19.224903014999096],[-99.01616273799998,19.224877861999097],[-99.01748332299996,19.224760245999096],[-99.01778959999989,19.22473296899919],[-99.01820381499986,19.22469624599919],[-99.01962418499988,19.224570322999096],[-99.01998743099988,19.224538107999095],[-99.02119049199987,19.224431430999097],[-99.02173832299997,19.22438284599909],[-99.02271196899989,19.224296507999096],[-99.02300389199988,19.224270630999097],[-99.025018,19.224092107999095],[-99.02532772299998,19.224064645999096],[-99.02627389199988,19.22398076899909],[-99.03019303099995,19.2236328459992],[-99.02790483099989,19.226329307999197],[-99.01820401499998,19.237676337999098],[-99.01786106199988,19.238228599999196],[-99.01773492299998,19.23854086199909],[-99.01668704599987,19.239586999999094],[-99.01574258499988,19.240548076999097],[-99.01561736899995,19.240739614999093],[-99.01555815399998,19.240792461999195],[-99.01548983099995,19.240856984999095],[-99.01541478499988,19.240989461999096],[-99.01528216899996,19.241373461999096],[-99.01506355399988,19.241857168999097],[-99.01498266199997,19.242098291999092],[-99.01495463099997,19.242254830999094],[-99.01493484599987,19.242459630999097],[-99.01484958499996,19.242606337999096],[-99.01463916899988,19.242921461999096],[-99.01430315399988,19.243636661999098],[-99.01417441499989,19.244003645999097],[-99.01414806199988,19.244102584999197],[-99.01411284599996,19.244235307999094],[-99.01407339999996,19.244352830999095],[-99.01402219999989,19.2445562309992],[-99.01399547699997,19.2446803229992],[-99.013971831,19.244850630999096],[-99.01395755399987,19.244918337999096],[-99.01391692299988,19.245111153999098],[-99.01282744599996,19.244807184999196],[-99.01256527699996,19.244734030999194],[-99.012475323,19.24501429199919],[-99.01270941499988,19.245142522999096],[-99.01246804599997,19.245931676999195],[-99.01239693799988,19.246122891999196],[-99.012385077,19.246356830999098],[-99.01229603099988,19.246513876999092],[-99.01119138499988,19.246052784999097],[-99.01113195399986,19.246131430999096],[-99.011145415,19.246204168999196],[-99.01112276899988,19.246528322999097],[-99.01107241499987,19.246722045999196],[-99.01082138499996,19.247005537999097],[-99.01062606199996,19.247003076999096],[-99.01051079999988,19.247072461999196],[-99.01045938499998,19.247142968999096],[-99.01035198499989,19.247320830999097],[-99.01013744599996,19.247665999999096],[-99.00980424599996,19.248264553999096],[-99.00977044599988,19.248483014999096],[-99.00971472299987,19.248729722999094],[-99.00960047699998,19.249070876999195],[-99.009508354,19.249361907999095],[-99.00950509199996,19.249371630999097],[-99.00950206199995,19.249380676999095],[-99.00935216899988,19.249694522999196],[-99.00920889199988,19.249995030999095],[-99.00906526199996,19.250296984999096],[-99.008882908,19.250675091999092],[-99.00882196899988,19.250678630999097],[-99.00865255399997,19.250767676999196],[-99.00843867699987,19.250693830999097],[-99.00826498499998,19.250727999999096],[-99.00794692299988,19.250546030999093],[-99.00768953799997,19.251023922999096],[-99.007505554,19.250779137999093],[-99.00728355399995,19.251177430999096],[-99.00704476899988,19.251605876999097],[-99.00761872299996,19.252169291999195],[-99.00776655399989,19.252315430999097],[-99.00813049199988,19.252717891999197],[-99.00834484599989,19.252944830999095],[-99.00858116899995,19.25319546199919],[-99.0092408,19.253926768999097],[-99.00981230799988,19.254488230999097],[-99.00985796899988,19.254533076999195],[-99.01069338499998,19.255341676999095],[-99.01082527699997,19.255466491999098],[-99.0110298,19.25560450799909],[-99.011287646,19.255729091999097],[-99.01132426199996,19.255647784999095],[-99.01169832299998,19.25601112299919],[-99.011829,19.256244630999195],[-99.01177172299997,19.256660107999096],[-99.01185047699988,19.256775153999097],[-99.01198541499996,19.256961537999096],[-99.01218503099987,19.257227799999196],[-99.01252521499995,19.257631999999095],[-99.012677538,19.257787184999096],[-99.01283404599998,19.257947076999095],[-99.01296475399988,19.258055076999096],[-99.01321716899996,19.258235937999096],[-99.01344338499987,19.258373707999095],[-99.01372238499988,19.258496737999195],[-99.01391675399996,19.258579184999096],[-99.01418953799995,19.258709491999095],[-99.01444296899987,19.258810553999098],[-99.01486106199998,19.2589938619992],[-99.01556035399987,19.259338476999098],[-99.01595541499988,19.2595526149992],[-99.01608246199996,19.259679199999095],[-99.01615406199988,19.259750522999095],[-99.01638881499998,19.259894291999196],[-99.016515123,19.259955445999097],[-99.01656856899996,19.259980030999095],[-99.017272292,19.260221353999196],[-99.01742204599996,19.260269830999196],[-99.017571231,19.260321968999193],[-99.017944631,19.260458676999097],[-99.01867409199996,19.260743661999097],[-99.01890778499988,19.260832553999094],[-99.01899176899995,19.260864491999097],[-99.01907427699996,19.260895137999093],[-99.01930435399998,19.2609759689992],[-99.01974258499996,19.261150737999095],[-99.01982535399998,19.261029168999094],[-99.02005778499988,19.260964107999097],[-99.02032633799988,19.260919491999093],[-99.02051821499995,19.260934599999096],[-99.0207524,19.260957122999095],[-99.02103229199996,19.261017307999197],[-99.02109503099996,19.261030522999096],[-99.0213002,19.261069384999193],[-99.02151164599998,19.261115753999096],[-99.02175453799995,19.261173830999095],[-99.02201159999996,19.261239014999095],[-99.02253552299996,19.261372399999097],[-99.02290095399998,19.261460891999196],[-99.02401663099988,19.261747214999097],[-99.02405724599996,19.261757184999095],[-99.0243506,19.261820984999098],[-99.02482033799996,19.261931937999098],[-99.02508207699998,19.262009845999092],[-99.0253886,19.262084784999196],[-99.02584223099988,19.262205184999097],[-99.02603976899996,19.261943645999196],[-99.02647247699998,19.261768814999098],[-99.026859508,19.261760768999096],[-99.02711929199988,19.261938445999096],[-99.02720055399998,19.261836999999097],[-99.02789589199988,19.262222276999097],[-99.02930075399998,19.262374630999098],[-99.02956584599995,19.262484414999193],[-99.02982032299995,19.262595553999095],[-99.030280938,19.262941168999095],[-99.03043044599998,19.2631439999992],[-99.03046807699998,19.263251030999097],[-99.03053587699998,19.264168461999095],[-99.03084593799998,19.264637291999097],[-99.031065923,19.264932537999098],[-99.03267090799989,19.266692199999092],[-99.03302189199997,19.267116907999096],[-99.03373384599988,19.26770381499919],[-99.034643954,19.268745168999097],[-99.03567152299988,19.270263430999098],[-99.035943692,19.270636599999097],[-99.03646390799996,19.270976830999096],[-99.03731944599998,19.271705737999092],[-99.03749198499996,19.271761676999095],[-99.03837167699996,19.272036414999192],[-99.03858946199988,19.272132245999096],[-99.03952766199995,19.272650368999095],[-99.04022733799997,19.27305681499919],[-99.04043121499988,19.273253984999094],[-99.04145143099998,19.273780507999195],[-99.04510004599996,19.274864107999093],[-99.04732227699998,19.275598599999096],[-99.04828696899988,19.275978230999097],[-99.05056726199987,19.277503476999097],[-99.05237159999989,19.278481984999097],[-99.05387087699997,19.2790857539992],[-99.05449832299998,19.279367153999093],[-99.05478907699997,19.279426768999095],[-99.05515967699988,19.279458814999096],[-99.05607266199988,19.279456384999197],[-99.056762954,19.279500353999097],[-99.05760033799996,19.27962887699919],[-99.05857541499998,19.279909630999096],[-99.05967263099988,19.280284953999097],[-99.06437018499996,19.281992768999096],[-99.06464512299998,19.282113814999096],[-99.068310615,19.284439261999093],[-99.068966754,19.284955845999196],[-99.06882061499988,19.285123507999096],[-99.06864201499998,19.285328399999095],[-99.06856075399998,19.285421645999097],[-99.06847716899988,19.285518568999095],[-99.068298231,19.285726122999197],[-99.06811895399989,19.285934030999098],[-99.06808915399988,19.285964768999097],[-99.06793404599988,19.286125737999097],[-99.06777478499998,19.286291030999095],[-99.06757150799989,19.286501922999197],[-99.06737629199988,19.286702322999098],[-99.067201846,19.2868813849992],[-99.06705770799988,19.287029337999098],[-99.06702021499989,19.287066414999096],[-99.06671075399998,19.287372522999096],[-99.06636587699988,19.287713661999092],[-99.06619379999988,19.287883876999192],[-99.06603026199996,19.288045630999097],[-99.06596304599996,19.288112107999194],[-99.06575836899997,19.288315937999094],[-99.0656972,19.288376845999096],[-99.06552130799996,19.288551999999097],[-99.06535518499996,19.288717537999197],[-99.06501483099996,19.289060937999096],[-99.06494841499988,19.289127937999098],[-99.06473061499996,19.289347661999095],[-99.06439383099988,19.289687461999097],[-99.06427266199996,19.289809691999196],[-99.06416456899989,19.289919445999097],[-99.063736754,19.290353768999097],[-99.06353726199995,19.290557630999196],[-99.06343304599989,19.290664122999196],[-99.06338643099998,19.29071236899919],[-99.06306764599996,19.291042245999197],[-99.06282370799988,19.291294707999096],[-99.06250632299997,19.291647137999096],[-99.06209613799987,19.292104399999097],[-99.06172361499988,19.292519614999197],[-99.06168390799988,19.292563876999196],[-99.06163166199995,19.292663107999097],[-99.06161784599998,19.293069568999098],[-99.06160130799996,19.293556014999098],[-99.06156204599988,19.294092245999096],[-99.06171915399987,19.294219568999196],[-99.06197759999998,19.294424953999197],[-99.06212738499988,19.294822153999096],[-99.06234110799988,19.295654784999197],[-99.06235247699998,19.29569579999909],[-99.06240490799988,19.295902430999195],[-99.06245516899996,19.296100261999097],[-99.062512108,19.296324414999095],[-99.06259449199987,19.296714537999097],[-99.062609492,19.296834645999095],[-99.06262041499996,19.296991522999097],[-99.06264216899989,19.2973039999992],[-99.06280238499988,19.297606184999097],[-99.06296735399997,19.297826014999096],[-99.06339926199988,19.298401553999096],[-99.06360301499988,19.298673061999093],[-99.06394543099996,19.299480645999196],[-99.06438429199989,19.300512384999095],[-99.06442212299996,19.300604876999092],[-99.064587,19.301086645999092],[-99.06477743099995,19.301643076999092],[-99.06450044599988,19.302520430999095],[-99.06449010799996,19.302549814999196],[-99.06434804599988,19.302963168999096],[-99.06417316899996,19.303480014999096],[-99.06403264599996,19.303878953999096],[-99.06383115399989,19.304452030999094],[-99.06371679999988,19.304776245999197],[-99.06339963099998,19.305684984999097],[-99.06266389199996,19.305440784999092],[-99.06088555399998,19.304858214999097],[-99.06048653799988,19.304690199999097],[-99.05987129199998,19.304440645999097],[-99.05840227699998,19.306255568999095],[-99.05693009199987,19.308056507999197],[-99.056202431,19.308950845999092],[-99.056097492,19.309079830999096],[-99.05577064599998,19.309479691999098],[-99.055479969,19.309831430999196],[-99.05534879999998,19.309994507999097],[-99.05518855399995,19.310193753999197],[-99.05513533799989,19.310257230999095],[-99.05489939999988,19.310538722999095],[-99.05465579999998,19.310843168999092],[-99.054447646,19.311080091999095],[-99.05420807699988,19.311354491999097],[-99.054185277,19.311381261999095],[-99.053995431,19.311604030999096],[-99.05398053799998,19.311621507999092],[-99.05378259999998,19.3118598459992],[-99.052263323,19.310760522999093],[-99.05205004599998,19.311033661999097],[-99.05088693799988,19.312452599999094],[-99.05042956899987,19.31295716899919],[-99.05031435399998,19.312885691999195],[-99.05030956899998,19.312882722999092],[-99.04938643099996,19.312266537999196],[-99.04886766199988,19.311884014999094],[-99.04886109199995,19.311892184999095],[-99.04812846199997,19.312801168999197],[-99.04668859999995,19.314669045999093],[-99.04661773799997,19.314876491999097],[-99.04631444599988,19.3145245849992],[-99.04613610799998,19.314335322999092],[-99.045934,19.314171645999092],[-99.04581027699996,19.314032445999096],[-99.04570413799988,19.313891476999096],[-99.04565112299996,19.313821076999197],[-99.04561352299996,19.313776845999097],[-99.04542843099988,19.313559107999197],[-99.04526929199989,19.313376876999193],[-99.04493452299988,19.312861322999098],[-99.04483816899987,19.31277726199909],[-99.04483632299998,19.312779461999096],[-99.04467644599995,19.312971076999094],[-99.04459224599998,19.312910522999097],[-99.04361252299998,19.312207737999096],[-99.04350484599988,19.3123379999992],[-99.04326950799997,19.312622707999097],[-99.04302819999997,19.312914630999195],[-99.04280659999988,19.313182707999196],[-99.04278179999989,19.313212691999095],[-99.04264190799988,19.313381937999196],[-99.04260684599988,19.313424337999095],[-99.04252412299998,19.313524414999197],[-99.042394662,19.313681030999096],[-99.04223101499998,19.313878999999098],[-99.042184354,19.313935445999196],[-99.04198566199987,19.31417579999909],[-99.04195287699996,19.314215461999098],[-99.0417796,19.314416399999097],[-99.04170936899996,19.314339107999096],[-99.04074559999997,19.315157384999196],[-99.04044249199988,19.31541473799919],[-99.04010303099987,19.315126691999097],[-99.039754938,19.314831307999196],[-99.039585231,19.314687291999093],[-99.03951287699986,19.314747676999197],[-99.03937998499995,19.3149057849992],[-99.03935592299987,19.314934399999096],[-99.03931803099988,19.314979476999095],[-99.03929524599988,19.315014414999094],[-99.03924246199988,19.315095337999196],[-99.03915598499998,19.315227937999197],[-99.03903398499988,19.315415014999097],[-99.03885281499996,19.31564604599909],[-99.03873289199998,19.315725830999195],[-99.03491639999996,19.316803876999195],[-99.02597627699998,19.319333891999097],[-99.02596113799989,19.319338168999096],[-99.01873975399998,19.321627107999095],[-99.009449031,19.324569799999196],[-99.007551031,19.325170891999093],[-99.00135430799996,19.327133630999096],[-98.99797144599988,19.326977291999096],[-98.99294030799987,19.326744661999093],[-98.98939318499995,19.326580568999095],[-98.98653470799997,19.326448245999096],[-98.98089259999988,19.326187491999093],[-98.97986823099988,19.326139584999197],[-98.97956743099988,19.325787030999095],[-98.98060733799996,19.32465664599909],[-98.98026436899988,19.324190091999096],[-98.98019444599998,19.324146799999095],[-98.979708,19.324029907999098],[-98.97933936899987,19.323961953999095],[-98.97892778499988,19.323930537999097]]],\"type\":\"Polygon\"},\"properties\":{\"_id\":16,\"cve_ent\":9,\"cve_mun\":11,\"cvegeo\":9011,\"g_pnt_2\":\"19.2769983772,-99.0028216137\",\"geo_shp\":\"{\\\"type\\\": \\\"Polygon\\\", \\\"coordinates\\\": [[[-98.97892778499987, 19.323930537999097], [-98.97856030799987, 19.323902491999096], [-98.97848704599988, 19.324610122999196], [-98.97833027699988, 19.324641553999097], [-98.97820309199989, 19.325331076999095], [-98.97\",\"gid\":16,\"id\":15,\"nomgeo\":\"Tlhuac\"},\"type\":\"Feature\"}],\"name\":\"limite_de_las_alcaldias\",\"type\":\"FeatureCollection\"},\"hovertemplate\":\"_id=%{location}<br>alcaldia_hechos=%{customdata[0]}<br>total=%{z}<extra></extra>\",\"locations\":[4,9,12,5,13,2,7,3,8,15,14,10,16,6,11,1],\"name\":\"\",\"type\":\"choropleth\",\"z\":[1165,654,449,735,196,1694,2137,656,3352,290,712,182,618,1054,992,699]}],                        {\"coloraxis\":{\"colorbar\":{\"title\":{\"text\":\"total\"}},\"colorscale\":[[0.0,\"#0d0887\"],[0.1111111111111111,\"#46039f\"],[0.2222222222222222,\"#7201a8\"],[0.3333333333333333,\"#9c179e\"],[0.4444444444444444,\"#bd3786\"],[0.5555555555555556,\"#d8576b\"],[0.6666666666666666,\"#ed7953\"],[0.7777777777777778,\"#fb9f3a\"],[0.8888888888888888,\"#fdca26\"],[1.0,\"#f0f921\"]]},\"geo\":{\"center\":{},\"domain\":{\"x\":[0.0,1.0],\"y\":[0.0,1.0]},\"fitbounds\":\"locations\",\"projection\":{\"type\":\"mercator\"},\"visible\":false},\"legend\":{\"tracegroupgap\":0},\"margin\":{\"t\":60},\"template\":{\"data\":{\"bar\":[{\"error_x\":{\"color\":\"#2a3f5f\"},\"error_y\":{\"color\":\"#2a3f5f\"},\"marker\":{\"line\":{\"color\":\"#E5ECF6\",\"width\":0.5},\"pattern\":{\"fillmode\":\"overlay\",\"size\":10,\"solidity\":0.2}},\"type\":\"bar\"}],\"barpolar\":[{\"marker\":{\"line\":{\"color\":\"#E5ECF6\",\"width\":0.5},\"pattern\":{\"fillmode\":\"overlay\",\"size\":10,\"solidity\":0.2}},\"type\":\"barpolar\"}],\"carpet\":[{\"aaxis\":{\"endlinecolor\":\"#2a3f5f\",\"gridcolor\":\"white\",\"linecolor\":\"white\",\"minorgridcolor\":\"white\",\"startlinecolor\":\"#2a3f5f\"},\"baxis\":{\"endlinecolor\":\"#2a3f5f\",\"gridcolor\":\"white\",\"linecolor\":\"white\",\"minorgridcolor\":\"white\",\"startlinecolor\":\"#2a3f5f\"},\"type\":\"carpet\"}],\"choropleth\":[{\"colorbar\":{\"outlinewidth\":0,\"ticks\":\"\"},\"type\":\"choropleth\"}],\"contour\":[{\"colorbar\":{\"outlinewidth\":0,\"ticks\":\"\"},\"colorscale\":[[0.0,\"#0d0887\"],[0.1111111111111111,\"#46039f\"],[0.2222222222222222,\"#7201a8\"],[0.3333333333333333,\"#9c179e\"],[0.4444444444444444,\"#bd3786\"],[0.5555555555555556,\"#d8576b\"],[0.6666666666666666,\"#ed7953\"],[0.7777777777777778,\"#fb9f3a\"],[0.8888888888888888,\"#fdca26\"],[1.0,\"#f0f921\"]],\"type\":\"contour\"}],\"contourcarpet\":[{\"colorbar\":{\"outlinewidth\":0,\"ticks\":\"\"},\"type\":\"contourcarpet\"}],\"heatmap\":[{\"colorbar\":{\"outlinewidth\":0,\"ticks\":\"\"},\"colorscale\":[[0.0,\"#0d0887\"],[0.1111111111111111,\"#46039f\"],[0.2222222222222222,\"#7201a8\"],[0.3333333333333333,\"#9c179e\"],[0.4444444444444444,\"#bd3786\"],[0.5555555555555556,\"#d8576b\"],[0.6666666666666666,\"#ed7953\"],[0.7777777777777778,\"#fb9f3a\"],[0.8888888888888888,\"#fdca26\"],[1.0,\"#f0f921\"]],\"type\":\"heatmap\"}],\"heatmapgl\":[{\"colorbar\":{\"outlinewidth\":0,\"ticks\":\"\"},\"colorscale\":[[0.0,\"#0d0887\"],[0.1111111111111111,\"#46039f\"],[0.2222222222222222,\"#7201a8\"],[0.3333333333333333,\"#9c179e\"],[0.4444444444444444,\"#bd3786\"],[0.5555555555555556,\"#d8576b\"],[0.6666666666666666,\"#ed7953\"],[0.7777777777777778,\"#fb9f3a\"],[0.8888888888888888,\"#fdca26\"],[1.0,\"#f0f921\"]],\"type\":\"heatmapgl\"}],\"histogram\":[{\"marker\":{\"pattern\":{\"fillmode\":\"overlay\",\"size\":10,\"solidity\":0.2}},\"type\":\"histogram\"}],\"histogram2d\":[{\"colorbar\":{\"outlinewidth\":0,\"ticks\":\"\"},\"colorscale\":[[0.0,\"#0d0887\"],[0.1111111111111111,\"#46039f\"],[0.2222222222222222,\"#7201a8\"],[0.3333333333333333,\"#9c179e\"],[0.4444444444444444,\"#bd3786\"],[0.5555555555555556,\"#d8576b\"],[0.6666666666666666,\"#ed7953\"],[0.7777777777777778,\"#fb9f3a\"],[0.8888888888888888,\"#fdca26\"],[1.0,\"#f0f921\"]],\"type\":\"histogram2d\"}],\"histogram2dcontour\":[{\"colorbar\":{\"outlinewidth\":0,\"ticks\":\"\"},\"colorscale\":[[0.0,\"#0d0887\"],[0.1111111111111111,\"#46039f\"],[0.2222222222222222,\"#7201a8\"],[0.3333333333333333,\"#9c179e\"],[0.4444444444444444,\"#bd3786\"],[0.5555555555555556,\"#d8576b\"],[0.6666666666666666,\"#ed7953\"],[0.7777777777777778,\"#fb9f3a\"],[0.8888888888888888,\"#fdca26\"],[1.0,\"#f0f921\"]],\"type\":\"histogram2dcontour\"}],\"mesh3d\":[{\"colorbar\":{\"outlinewidth\":0,\"ticks\":\"\"},\"type\":\"mesh3d\"}],\"parcoords\":[{\"line\":{\"colorbar\":{\"outlinewidth\":0,\"ticks\":\"\"}},\"type\":\"parcoords\"}],\"pie\":[{\"automargin\":true,\"type\":\"pie\"}],\"scatter\":[{\"marker\":{\"colorbar\":{\"outlinewidth\":0,\"ticks\":\"\"}},\"type\":\"scatter\"}],\"scatter3d\":[{\"line\":{\"colorbar\":{\"outlinewidth\":0,\"ticks\":\"\"}},\"marker\":{\"colorbar\":{\"outlinewidth\":0,\"ticks\":\"\"}},\"type\":\"scatter3d\"}],\"scattercarpet\":[{\"marker\":{\"colorbar\":{\"outlinewidth\":0,\"ticks\":\"\"}},\"type\":\"scattercarpet\"}],\"scattergeo\":[{\"marker\":{\"colorbar\":{\"outlinewidth\":0,\"ticks\":\"\"}},\"type\":\"scattergeo\"}],\"scattergl\":[{\"marker\":{\"colorbar\":{\"outlinewidth\":0,\"ticks\":\"\"}},\"type\":\"scattergl\"}],\"scattermapbox\":[{\"marker\":{\"colorbar\":{\"outlinewidth\":0,\"ticks\":\"\"}},\"type\":\"scattermapbox\"}],\"scatterpolar\":[{\"marker\":{\"colorbar\":{\"outlinewidth\":0,\"ticks\":\"\"}},\"type\":\"scatterpolar\"}],\"scatterpolargl\":[{\"marker\":{\"colorbar\":{\"outlinewidth\":0,\"ticks\":\"\"}},\"type\":\"scatterpolargl\"}],\"scatterternary\":[{\"marker\":{\"colorbar\":{\"outlinewidth\":0,\"ticks\":\"\"}},\"type\":\"scatterternary\"}],\"surface\":[{\"colorbar\":{\"outlinewidth\":0,\"ticks\":\"\"},\"colorscale\":[[0.0,\"#0d0887\"],[0.1111111111111111,\"#46039f\"],[0.2222222222222222,\"#7201a8\"],[0.3333333333333333,\"#9c179e\"],[0.4444444444444444,\"#bd3786\"],[0.5555555555555556,\"#d8576b\"],[0.6666666666666666,\"#ed7953\"],[0.7777777777777778,\"#fb9f3a\"],[0.8888888888888888,\"#fdca26\"],[1.0,\"#f0f921\"]],\"type\":\"surface\"}],\"table\":[{\"cells\":{\"fill\":{\"color\":\"#EBF0F8\"},\"line\":{\"color\":\"white\"}},\"header\":{\"fill\":{\"color\":\"#C8D4E3\"},\"line\":{\"color\":\"white\"}},\"type\":\"table\"}]},\"layout\":{\"annotationdefaults\":{\"arrowcolor\":\"#2a3f5f\",\"arrowhead\":0,\"arrowwidth\":1},\"autotypenumbers\":\"strict\",\"coloraxis\":{\"colorbar\":{\"outlinewidth\":0,\"ticks\":\"\"}},\"colorscale\":{\"diverging\":[[0,\"#8e0152\"],[0.1,\"#c51b7d\"],[0.2,\"#de77ae\"],[0.3,\"#f1b6da\"],[0.4,\"#fde0ef\"],[0.5,\"#f7f7f7\"],[0.6,\"#e6f5d0\"],[0.7,\"#b8e186\"],[0.8,\"#7fbc41\"],[0.9,\"#4d9221\"],[1,\"#276419\"]],\"sequential\":[[0.0,\"#0d0887\"],[0.1111111111111111,\"#46039f\"],[0.2222222222222222,\"#7201a8\"],[0.3333333333333333,\"#9c179e\"],[0.4444444444444444,\"#bd3786\"],[0.5555555555555556,\"#d8576b\"],[0.6666666666666666,\"#ed7953\"],[0.7777777777777778,\"#fb9f3a\"],[0.8888888888888888,\"#fdca26\"],[1.0,\"#f0f921\"]],\"sequentialminus\":[[0.0,\"#0d0887\"],[0.1111111111111111,\"#46039f\"],[0.2222222222222222,\"#7201a8\"],[0.3333333333333333,\"#9c179e\"],[0.4444444444444444,\"#bd3786\"],[0.5555555555555556,\"#d8576b\"],[0.6666666666666666,\"#ed7953\"],[0.7777777777777778,\"#fb9f3a\"],[0.8888888888888888,\"#fdca26\"],[1.0,\"#f0f921\"]]},\"colorway\":[\"#636efa\",\"#EF553B\",\"#00cc96\",\"#ab63fa\",\"#FFA15A\",\"#19d3f3\",\"#FF6692\",\"#B6E880\",\"#FF97FF\",\"#FECB52\"],\"font\":{\"color\":\"#2a3f5f\"},\"geo\":{\"bgcolor\":\"white\",\"lakecolor\":\"white\",\"landcolor\":\"#E5ECF6\",\"showlakes\":true,\"showland\":true,\"subunitcolor\":\"white\"},\"hoverlabel\":{\"align\":\"left\"},\"hovermode\":\"closest\",\"mapbox\":{\"style\":\"light\"},\"paper_bgcolor\":\"white\",\"plot_bgcolor\":\"#E5ECF6\",\"polar\":{\"angularaxis\":{\"gridcolor\":\"white\",\"linecolor\":\"white\",\"ticks\":\"\"},\"bgcolor\":\"#E5ECF6\",\"radialaxis\":{\"gridcolor\":\"white\",\"linecolor\":\"white\",\"ticks\":\"\"}},\"scene\":{\"xaxis\":{\"backgroundcolor\":\"#E5ECF6\",\"gridcolor\":\"white\",\"gridwidth\":2,\"linecolor\":\"white\",\"showbackground\":true,\"ticks\":\"\",\"zerolinecolor\":\"white\"},\"yaxis\":{\"backgroundcolor\":\"#E5ECF6\",\"gridcolor\":\"white\",\"gridwidth\":2,\"linecolor\":\"white\",\"showbackground\":true,\"ticks\":\"\",\"zerolinecolor\":\"white\"},\"zaxis\":{\"backgroundcolor\":\"#E5ECF6\",\"gridcolor\":\"white\",\"gridwidth\":2,\"linecolor\":\"white\",\"showbackground\":true,\"ticks\":\"\",\"zerolinecolor\":\"white\"}},\"shapedefaults\":{\"line\":{\"color\":\"#2a3f5f\"}},\"ternary\":{\"aaxis\":{\"gridcolor\":\"white\",\"linecolor\":\"white\",\"ticks\":\"\"},\"baxis\":{\"gridcolor\":\"white\",\"linecolor\":\"white\",\"ticks\":\"\"},\"bgcolor\":\"#E5ECF6\",\"caxis\":{\"gridcolor\":\"white\",\"linecolor\":\"white\",\"ticks\":\"\"}},\"title\":{\"x\":0.05},\"xaxis\":{\"automargin\":true,\"gridcolor\":\"white\",\"linecolor\":\"white\",\"ticks\":\"\",\"title\":{\"standoff\":15},\"zerolinecolor\":\"white\",\"zerolinewidth\":2},\"yaxis\":{\"automargin\":true,\"gridcolor\":\"white\",\"linecolor\":\"white\",\"ticks\":\"\",\"title\":{\"standoff\":15},\"zerolinecolor\":\"white\",\"zerolinewidth\":2}}},\"title\":{\"text\":\"Cantidad de delitos graves por alcald\\u00eda de la CDMX\"}},                        {\"responsive\": true}                    ).then(function(){\n",
              "                            \n",
              "var gd = document.getElementById('cb2a6a47-b790-4d5e-8b67-dda46a162161');\n",
              "var x = new MutationObserver(function (mutations, observer) {{\n",
              "        var display = window.getComputedStyle(gd).display;\n",
              "        if (!display || display === 'none') {{\n",
              "            console.log([gd, 'removed!']);\n",
              "            Plotly.purge(gd);\n",
              "            observer.disconnect();\n",
              "        }}\n",
              "}});\n",
              "\n",
              "// Listen for the removal of the full notebook cells\n",
              "var notebookContainer = gd.closest('#notebook-container');\n",
              "if (notebookContainer) {{\n",
              "    x.observe(notebookContainer, {childList: true});\n",
              "}}\n",
              "\n",
              "// Listen for the clearing of the current output cell\n",
              "var outputEl = gd.closest('.output');\n",
              "if (outputEl) {{\n",
              "    x.observe(outputEl, {childList: true});\n",
              "}}\n",
              "\n",
              "                        })                };                            </script>        </div>\n",
              "</body>\n",
              "</html>"
            ]
          },
          "metadata": {
            "tags": []
          }
        },
        {
          "output_type": "execute_result",
          "data": {
            "text/html": [
              "<div>\n",
              "<style scoped>\n",
              "    .dataframe tbody tr th:only-of-type {\n",
              "        vertical-align: middle;\n",
              "    }\n",
              "\n",
              "    .dataframe tbody tr th {\n",
              "        vertical-align: top;\n",
              "    }\n",
              "\n",
              "    .dataframe thead th {\n",
              "        text-align: right;\n",
              "    }\n",
              "</style>\n",
              "<table border=\"1\" class=\"dataframe\">\n",
              "  <thead>\n",
              "    <tr style=\"text-align: right;\">\n",
              "      <th></th>\n",
              "      <th>alcaldia_hechos</th>\n",
              "      <th>_id</th>\n",
              "      <th>total</th>\n",
              "    </tr>\n",
              "  </thead>\n",
              "  <tbody>\n",
              "    <tr>\n",
              "      <th>8</th>\n",
              "      <td>IZTAPALAPA</td>\n",
              "      <td>8</td>\n",
              "      <td>3352</td>\n",
              "    </tr>\n",
              "    <tr>\n",
              "      <th>6</th>\n",
              "      <td>GUSTAVO A MADERO</td>\n",
              "      <td>7</td>\n",
              "      <td>2137</td>\n",
              "    </tr>\n",
              "    <tr>\n",
              "      <th>5</th>\n",
              "      <td>CUAUHTEMOC</td>\n",
              "      <td>2</td>\n",
              "      <td>1694</td>\n",
              "    </tr>\n",
              "    <tr>\n",
              "      <th>0</th>\n",
              "      <td>ALVARO OBREGON</td>\n",
              "      <td>4</td>\n",
              "      <td>1165</td>\n",
              "    </tr>\n",
              "    <tr>\n",
              "      <th>13</th>\n",
              "      <td>TLALPAN</td>\n",
              "      <td>6</td>\n",
              "      <td>1054</td>\n",
              "    </tr>\n",
              "    <tr>\n",
              "      <th>14</th>\n",
              "      <td>VENUSTIANO CARRANZA</td>\n",
              "      <td>11</td>\n",
              "      <td>992</td>\n",
              "    </tr>\n",
              "    <tr>\n",
              "      <th>3</th>\n",
              "      <td>COYOACAN</td>\n",
              "      <td>5</td>\n",
              "      <td>735</td>\n",
              "    </tr>\n",
              "    <tr>\n",
              "      <th>10</th>\n",
              "      <td>MIGUEL HIDALGO</td>\n",
              "      <td>14</td>\n",
              "      <td>712</td>\n",
              "    </tr>\n",
              "    <tr>\n",
              "      <th>15</th>\n",
              "      <td>XOCHIMILCO</td>\n",
              "      <td>1</td>\n",
              "      <td>699</td>\n",
              "    </tr>\n",
              "    <tr>\n",
              "      <th>7</th>\n",
              "      <td>IZTACALCO</td>\n",
              "      <td>3</td>\n",
              "      <td>656</td>\n",
              "    </tr>\n",
              "    <tr>\n",
              "      <th>1</th>\n",
              "      <td>AZCAPOTZALCO</td>\n",
              "      <td>9</td>\n",
              "      <td>654</td>\n",
              "    </tr>\n",
              "    <tr>\n",
              "      <th>12</th>\n",
              "      <td>TLAHUAC</td>\n",
              "      <td>16</td>\n",
              "      <td>618</td>\n",
              "    </tr>\n",
              "    <tr>\n",
              "      <th>2</th>\n",
              "      <td>BENITO JUAREZ</td>\n",
              "      <td>12</td>\n",
              "      <td>449</td>\n",
              "    </tr>\n",
              "    <tr>\n",
              "      <th>9</th>\n",
              "      <td>LA MAGDALENA CONTRERAS</td>\n",
              "      <td>15</td>\n",
              "      <td>290</td>\n",
              "    </tr>\n",
              "    <tr>\n",
              "      <th>4</th>\n",
              "      <td>CUAJIMALPA DE MORELOS</td>\n",
              "      <td>13</td>\n",
              "      <td>196</td>\n",
              "    </tr>\n",
              "    <tr>\n",
              "      <th>11</th>\n",
              "      <td>MILPA ALTA</td>\n",
              "      <td>10</td>\n",
              "      <td>182</td>\n",
              "    </tr>\n",
              "  </tbody>\n",
              "</table>\n",
              "</div>"
            ],
            "text/plain": [
              "           alcaldia_hechos  _id  total\n",
              "8               IZTAPALAPA    8   3352\n",
              "6         GUSTAVO A MADERO    7   2137\n",
              "5               CUAUHTEMOC    2   1694\n",
              "0           ALVARO OBREGON    4   1165\n",
              "13                 TLALPAN    6   1054\n",
              "14     VENUSTIANO CARRANZA   11    992\n",
              "3                 COYOACAN    5    735\n",
              "10          MIGUEL HIDALGO   14    712\n",
              "15              XOCHIMILCO    1    699\n",
              "7                IZTACALCO    3    656\n",
              "1             AZCAPOTZALCO    9    654\n",
              "12                 TLAHUAC   16    618\n",
              "2            BENITO JUAREZ   12    449\n",
              "9   LA MAGDALENA CONTRERAS   15    290\n",
              "4    CUAJIMALPA DE MORELOS   13    196\n",
              "11              MILPA ALTA   10    182"
            ]
          },
          "metadata": {
            "tags": []
          },
          "execution_count": 57
        }
      ]
    },
    {
      "cell_type": "code",
      "metadata": {
        "id": "Tc8HDiNoAGk2"
      },
      "source": [
        ""
      ],
      "execution_count": null,
      "outputs": []
    },
    {
      "cell_type": "markdown",
      "metadata": {
        "id": "cCyYl4xfm9qv"
      },
      "source": [
        "#### 6.2.3 *¿Qué tipos de delito han mostrado un crecimiento y decrecimiento en los últimos años?*\n",
        "\n",
        "\n",
        "1.   Separamos los delitos por año.\n",
        "2.   Determinamos el número de delitos por año.\n",
        "3.   Comparamos con una tabla que aplicamos merge de los resultados.\n",
        "\n",
        "Y determinamos que:\n",
        "\n",
        "*   La violencia familiar por ejemplo fue en aumento exponencialmente y luego disminuyó en el último año 2021.\n",
        "*   El robo de objetos ha ido disminuyendo considerablemente en los últimos años.\n",
        "*   El robo a negocio sin violencia disminuyó en los últimos 2 años.\n",
        "*   El fraude se mantuvo estable entre 2016-2020 pero disminuyó drásticamente en el último año 2021.\n",
        "*   Las amenazas fueron en aumento gradualmente, pero disminuyeron considerablemente el último año 2021."
      ]
    },
    {
      "cell_type": "code",
      "metadata": {
        "id": "NFmSdAUWibk0",
        "colab": {
          "base_uri": "https://localhost:8080/",
          "height": 204
        },
        "outputId": "2645fe21-db7b-4380-81a1-04b0d89cac3b"
      },
      "source": [
        "# asignamos las variables df6 y df7, sin embargo, esto no significa que sean parte de una secuencia donde existan DataFrames anteriores (df5, df4, etc.).\n",
        "agg_data = df_casting.filter([\"delito\", \"ao_hechos\", \"categoria_delito\"])\n",
        "agg_data = agg_data.groupby([\"delito\", \"ao_hechos\"])[\"categoria_delito\"].count().reset_index().rename(columns={\"categoria_delito\": \"total\"})\n",
        "\n",
        "# 2021\n",
        "agg_data.loc[agg_data[\"ao_hechos\"]== 2021].sort_values(\"total\", ascending=False).head()"
      ],
      "execution_count": null,
      "outputs": [
        {
          "output_type": "execute_result",
          "data": {
            "text/html": [
              "<div>\n",
              "<style scoped>\n",
              "    .dataframe tbody tr th:only-of-type {\n",
              "        vertical-align: middle;\n",
              "    }\n",
              "\n",
              "    .dataframe tbody tr th {\n",
              "        vertical-align: top;\n",
              "    }\n",
              "\n",
              "    .dataframe thead th {\n",
              "        text-align: right;\n",
              "    }\n",
              "</style>\n",
              "<table border=\"1\" class=\"dataframe\">\n",
              "  <thead>\n",
              "    <tr style=\"text-align: right;\">\n",
              "      <th></th>\n",
              "      <th>delito</th>\n",
              "      <th>ao_hechos</th>\n",
              "      <th>total</th>\n",
              "    </tr>\n",
              "  </thead>\n",
              "  <tbody>\n",
              "    <tr>\n",
              "      <th>1482</th>\n",
              "      <td>VIOLENCIA FAMILIAR</td>\n",
              "      <td>2021</td>\n",
              "      <td>16110</td>\n",
              "    </tr>\n",
              "    <tr>\n",
              "      <th>54</th>\n",
              "      <td>AMENAZAS</td>\n",
              "      <td>2021</td>\n",
              "      <td>7907</td>\n",
              "    </tr>\n",
              "    <tr>\n",
              "      <th>395</th>\n",
              "      <td>FRAUDE</td>\n",
              "      <td>2021</td>\n",
              "      <td>5990</td>\n",
              "    </tr>\n",
              "    <tr>\n",
              "      <th>1188</th>\n",
              "      <td>ROBO DE OBJETOS</td>\n",
              "      <td>2021</td>\n",
              "      <td>4684</td>\n",
              "    </tr>\n",
              "    <tr>\n",
              "      <th>1073</th>\n",
              "      <td>ROBO A TRANSEUNTE EN VIA PUBLICA CON VIOLENCIA</td>\n",
              "      <td>2021</td>\n",
              "      <td>4182</td>\n",
              "    </tr>\n",
              "  </tbody>\n",
              "</table>\n",
              "</div>"
            ],
            "text/plain": [
              "                                              delito  ao_hechos  total\n",
              "1482                              VIOLENCIA FAMILIAR       2021  16110\n",
              "54                                          AMENAZAS       2021   7907\n",
              "395                                           FRAUDE       2021   5990\n",
              "1188                                 ROBO DE OBJETOS       2021   4684\n",
              "1073  ROBO A TRANSEUNTE EN VIA PUBLICA CON VIOLENCIA       2021   4182"
            ]
          },
          "metadata": {
            "tags": []
          },
          "execution_count": 59
        }
      ]
    },
    {
      "cell_type": "code",
      "metadata": {
        "colab": {
          "base_uri": "https://localhost:8080/",
          "height": 204
        },
        "id": "3yMGwN6SroCT",
        "outputId": "b32f39e7-91bf-4487-966c-80022f60b145"
      },
      "source": [
        "#2020\n",
        "agg_data.loc[agg_data[\"ao_hechos\"]== 2020].sort_values(\"total\", ascending=False).head()"
      ],
      "execution_count": null,
      "outputs": [
        {
          "output_type": "execute_result",
          "data": {
            "text/html": [
              "<div>\n",
              "<style scoped>\n",
              "    .dataframe tbody tr th:only-of-type {\n",
              "        vertical-align: middle;\n",
              "    }\n",
              "\n",
              "    .dataframe tbody tr th {\n",
              "        vertical-align: top;\n",
              "    }\n",
              "\n",
              "    .dataframe thead th {\n",
              "        text-align: right;\n",
              "    }\n",
              "</style>\n",
              "<table border=\"1\" class=\"dataframe\">\n",
              "  <thead>\n",
              "    <tr style=\"text-align: right;\">\n",
              "      <th></th>\n",
              "      <th>delito</th>\n",
              "      <th>ao_hechos</th>\n",
              "      <th>total</th>\n",
              "    </tr>\n",
              "  </thead>\n",
              "  <tbody>\n",
              "    <tr>\n",
              "      <th>1481</th>\n",
              "      <td>VIOLENCIA FAMILIAR</td>\n",
              "      <td>2020</td>\n",
              "      <td>27573</td>\n",
              "    </tr>\n",
              "    <tr>\n",
              "      <th>53</th>\n",
              "      <td>AMENAZAS</td>\n",
              "      <td>2020</td>\n",
              "      <td>14212</td>\n",
              "    </tr>\n",
              "    <tr>\n",
              "      <th>394</th>\n",
              "      <td>FRAUDE</td>\n",
              "      <td>2020</td>\n",
              "      <td>12489</td>\n",
              "    </tr>\n",
              "    <tr>\n",
              "      <th>1187</th>\n",
              "      <td>ROBO DE OBJETOS</td>\n",
              "      <td>2020</td>\n",
              "      <td>9005</td>\n",
              "    </tr>\n",
              "    <tr>\n",
              "      <th>1072</th>\n",
              "      <td>ROBO A TRANSEUNTE EN VIA PUBLICA CON VIOLENCIA</td>\n",
              "      <td>2020</td>\n",
              "      <td>8588</td>\n",
              "    </tr>\n",
              "  </tbody>\n",
              "</table>\n",
              "</div>"
            ],
            "text/plain": [
              "                                              delito  ao_hechos  total\n",
              "1481                              VIOLENCIA FAMILIAR       2020  27573\n",
              "53                                          AMENAZAS       2020  14212\n",
              "394                                           FRAUDE       2020  12489\n",
              "1187                                 ROBO DE OBJETOS       2020   9005\n",
              "1072  ROBO A TRANSEUNTE EN VIA PUBLICA CON VIOLENCIA       2020   8588"
            ]
          },
          "metadata": {
            "tags": []
          },
          "execution_count": 60
        }
      ]
    },
    {
      "cell_type": "code",
      "metadata": {
        "colab": {
          "base_uri": "https://localhost:8080/",
          "height": 204
        },
        "id": "AIT0Y8ejv4Yr",
        "outputId": "a9e4ee91-633a-4c16-ac9f-2594df80a7ae"
      },
      "source": [
        "#2019\n",
        "agg_data.loc[agg_data[\"ao_hechos\"]== 2019].sort_values(\"total\", ascending=False).head()"
      ],
      "execution_count": null,
      "outputs": [
        {
          "output_type": "execute_result",
          "data": {
            "text/html": [
              "<div>\n",
              "<style scoped>\n",
              "    .dataframe tbody tr th:only-of-type {\n",
              "        vertical-align: middle;\n",
              "    }\n",
              "\n",
              "    .dataframe tbody tr th {\n",
              "        vertical-align: top;\n",
              "    }\n",
              "\n",
              "    .dataframe thead th {\n",
              "        text-align: right;\n",
              "    }\n",
              "</style>\n",
              "<table border=\"1\" class=\"dataframe\">\n",
              "  <thead>\n",
              "    <tr style=\"text-align: right;\">\n",
              "      <th></th>\n",
              "      <th>delito</th>\n",
              "      <th>ao_hechos</th>\n",
              "      <th>total</th>\n",
              "    </tr>\n",
              "  </thead>\n",
              "  <tbody>\n",
              "    <tr>\n",
              "      <th>1480</th>\n",
              "      <td>VIOLENCIA FAMILIAR</td>\n",
              "      <td>2019</td>\n",
              "      <td>25430</td>\n",
              "    </tr>\n",
              "    <tr>\n",
              "      <th>795</th>\n",
              "      <td>ROBO A NEGOCIO SIN VIOLENCIA</td>\n",
              "      <td>2019</td>\n",
              "      <td>15741</td>\n",
              "    </tr>\n",
              "    <tr>\n",
              "      <th>52</th>\n",
              "      <td>AMENAZAS</td>\n",
              "      <td>2019</td>\n",
              "      <td>13677</td>\n",
              "    </tr>\n",
              "    <tr>\n",
              "      <th>393</th>\n",
              "      <td>FRAUDE</td>\n",
              "      <td>2019</td>\n",
              "      <td>13601</td>\n",
              "    </tr>\n",
              "    <tr>\n",
              "      <th>1071</th>\n",
              "      <td>ROBO A TRANSEUNTE EN VIA PUBLICA CON VIOLENCIA</td>\n",
              "      <td>2019</td>\n",
              "      <td>13230</td>\n",
              "    </tr>\n",
              "  </tbody>\n",
              "</table>\n",
              "</div>"
            ],
            "text/plain": [
              "                                              delito  ao_hechos  total\n",
              "1480                              VIOLENCIA FAMILIAR       2019  25430\n",
              "795                     ROBO A NEGOCIO SIN VIOLENCIA       2019  15741\n",
              "52                                          AMENAZAS       2019  13677\n",
              "393                                           FRAUDE       2019  13601\n",
              "1071  ROBO A TRANSEUNTE EN VIA PUBLICA CON VIOLENCIA       2019  13230"
            ]
          },
          "metadata": {
            "tags": []
          },
          "execution_count": 61
        }
      ]
    },
    {
      "cell_type": "code",
      "metadata": {
        "colab": {
          "base_uri": "https://localhost:8080/",
          "height": 204
        },
        "id": "mTtoll91v8e6",
        "outputId": "19a4c05b-9668-477b-8b95-40b588efcbdf"
      },
      "source": [
        "#2018\n",
        "agg_data.loc[agg_data[\"ao_hechos\"]== 2018].sort_values(\"total\", ascending=False).head()"
      ],
      "execution_count": null,
      "outputs": [
        {
          "output_type": "execute_result",
          "data": {
            "text/html": [
              "<div>\n",
              "<style scoped>\n",
              "    .dataframe tbody tr th:only-of-type {\n",
              "        vertical-align: middle;\n",
              "    }\n",
              "\n",
              "    .dataframe tbody tr th {\n",
              "        vertical-align: top;\n",
              "    }\n",
              "\n",
              "    .dataframe thead th {\n",
              "        text-align: right;\n",
              "    }\n",
              "</style>\n",
              "<table border=\"1\" class=\"dataframe\">\n",
              "  <thead>\n",
              "    <tr style=\"text-align: right;\">\n",
              "      <th></th>\n",
              "      <th>delito</th>\n",
              "      <th>ao_hechos</th>\n",
              "      <th>total</th>\n",
              "    </tr>\n",
              "  </thead>\n",
              "  <tbody>\n",
              "    <tr>\n",
              "      <th>1070</th>\n",
              "      <td>ROBO A TRANSEUNTE EN VIA PUBLICA CON VIOLENCIA</td>\n",
              "      <td>2018</td>\n",
              "      <td>21887</td>\n",
              "    </tr>\n",
              "    <tr>\n",
              "      <th>1479</th>\n",
              "      <td>VIOLENCIA FAMILIAR</td>\n",
              "      <td>2018</td>\n",
              "      <td>19756</td>\n",
              "    </tr>\n",
              "    <tr>\n",
              "      <th>794</th>\n",
              "      <td>ROBO A NEGOCIO SIN VIOLENCIA</td>\n",
              "      <td>2018</td>\n",
              "      <td>15956</td>\n",
              "    </tr>\n",
              "    <tr>\n",
              "      <th>1185</th>\n",
              "      <td>ROBO DE OBJETOS</td>\n",
              "      <td>2018</td>\n",
              "      <td>14204</td>\n",
              "    </tr>\n",
              "    <tr>\n",
              "      <th>392</th>\n",
              "      <td>FRAUDE</td>\n",
              "      <td>2018</td>\n",
              "      <td>13168</td>\n",
              "    </tr>\n",
              "  </tbody>\n",
              "</table>\n",
              "</div>"
            ],
            "text/plain": [
              "                                              delito  ao_hechos  total\n",
              "1070  ROBO A TRANSEUNTE EN VIA PUBLICA CON VIOLENCIA       2018  21887\n",
              "1479                              VIOLENCIA FAMILIAR       2018  19756\n",
              "794                     ROBO A NEGOCIO SIN VIOLENCIA       2018  15956\n",
              "1185                                 ROBO DE OBJETOS       2018  14204\n",
              "392                                           FRAUDE       2018  13168"
            ]
          },
          "metadata": {
            "tags": []
          },
          "execution_count": 62
        }
      ]
    },
    {
      "cell_type": "code",
      "metadata": {
        "colab": {
          "base_uri": "https://localhost:8080/",
          "height": 204
        },
        "id": "Li8mpSbwv8U5",
        "outputId": "c3e95aa3-23d0-4a25-9983-7265e12f1f62"
      },
      "source": [
        "#2017\n",
        "agg_data.loc[agg_data[\"ao_hechos\"]== 2017].sort_values(\"total\", ascending=False).head()"
      ],
      "execution_count": null,
      "outputs": [
        {
          "output_type": "execute_result",
          "data": {
            "text/html": [
              "<div>\n",
              "<style scoped>\n",
              "    .dataframe tbody tr th:only-of-type {\n",
              "        vertical-align: middle;\n",
              "    }\n",
              "\n",
              "    .dataframe tbody tr th {\n",
              "        vertical-align: top;\n",
              "    }\n",
              "\n",
              "    .dataframe thead th {\n",
              "        text-align: right;\n",
              "    }\n",
              "</style>\n",
              "<table border=\"1\" class=\"dataframe\">\n",
              "  <thead>\n",
              "    <tr style=\"text-align: right;\">\n",
              "      <th></th>\n",
              "      <th>delito</th>\n",
              "      <th>ao_hechos</th>\n",
              "      <th>total</th>\n",
              "    </tr>\n",
              "  </thead>\n",
              "  <tbody>\n",
              "    <tr>\n",
              "      <th>1478</th>\n",
              "      <td>VIOLENCIA FAMILIAR</td>\n",
              "      <td>2017</td>\n",
              "      <td>18325</td>\n",
              "    </tr>\n",
              "    <tr>\n",
              "      <th>1184</th>\n",
              "      <td>ROBO DE OBJETOS</td>\n",
              "      <td>2017</td>\n",
              "      <td>15927</td>\n",
              "    </tr>\n",
              "    <tr>\n",
              "      <th>793</th>\n",
              "      <td>ROBO A NEGOCIO SIN VIOLENCIA</td>\n",
              "      <td>2017</td>\n",
              "      <td>14844</td>\n",
              "    </tr>\n",
              "    <tr>\n",
              "      <th>391</th>\n",
              "      <td>FRAUDE</td>\n",
              "      <td>2017</td>\n",
              "      <td>11454</td>\n",
              "    </tr>\n",
              "    <tr>\n",
              "      <th>50</th>\n",
              "      <td>AMENAZAS</td>\n",
              "      <td>2017</td>\n",
              "      <td>9434</td>\n",
              "    </tr>\n",
              "  </tbody>\n",
              "</table>\n",
              "</div>"
            ],
            "text/plain": [
              "                            delito  ao_hechos  total\n",
              "1478            VIOLENCIA FAMILIAR       2017  18325\n",
              "1184               ROBO DE OBJETOS       2017  15927\n",
              "793   ROBO A NEGOCIO SIN VIOLENCIA       2017  14844\n",
              "391                         FRAUDE       2017  11454\n",
              "50                        AMENAZAS       2017   9434"
            ]
          },
          "metadata": {
            "tags": []
          },
          "execution_count": 63
        }
      ]
    },
    {
      "cell_type": "code",
      "metadata": {
        "colab": {
          "base_uri": "https://localhost:8080/",
          "height": 204
        },
        "id": "pCWJ0k4Swx_Q",
        "outputId": "625cef4a-4973-4d3b-993f-3e26321be468"
      },
      "source": [
        "#2016\n",
        "agg_data.loc[agg_data[\"ao_hechos\"]== 2020].sort_values(\"total\", ascending=False).head()"
      ],
      "execution_count": null,
      "outputs": [
        {
          "output_type": "execute_result",
          "data": {
            "text/html": [
              "<div>\n",
              "<style scoped>\n",
              "    .dataframe tbody tr th:only-of-type {\n",
              "        vertical-align: middle;\n",
              "    }\n",
              "\n",
              "    .dataframe tbody tr th {\n",
              "        vertical-align: top;\n",
              "    }\n",
              "\n",
              "    .dataframe thead th {\n",
              "        text-align: right;\n",
              "    }\n",
              "</style>\n",
              "<table border=\"1\" class=\"dataframe\">\n",
              "  <thead>\n",
              "    <tr style=\"text-align: right;\">\n",
              "      <th></th>\n",
              "      <th>delito</th>\n",
              "      <th>ao_hechos</th>\n",
              "      <th>total</th>\n",
              "    </tr>\n",
              "  </thead>\n",
              "  <tbody>\n",
              "    <tr>\n",
              "      <th>1481</th>\n",
              "      <td>VIOLENCIA FAMILIAR</td>\n",
              "      <td>2020</td>\n",
              "      <td>27573</td>\n",
              "    </tr>\n",
              "    <tr>\n",
              "      <th>53</th>\n",
              "      <td>AMENAZAS</td>\n",
              "      <td>2020</td>\n",
              "      <td>14212</td>\n",
              "    </tr>\n",
              "    <tr>\n",
              "      <th>394</th>\n",
              "      <td>FRAUDE</td>\n",
              "      <td>2020</td>\n",
              "      <td>12489</td>\n",
              "    </tr>\n",
              "    <tr>\n",
              "      <th>1187</th>\n",
              "      <td>ROBO DE OBJETOS</td>\n",
              "      <td>2020</td>\n",
              "      <td>9005</td>\n",
              "    </tr>\n",
              "    <tr>\n",
              "      <th>1072</th>\n",
              "      <td>ROBO A TRANSEUNTE EN VIA PUBLICA CON VIOLENCIA</td>\n",
              "      <td>2020</td>\n",
              "      <td>8588</td>\n",
              "    </tr>\n",
              "  </tbody>\n",
              "</table>\n",
              "</div>"
            ],
            "text/plain": [
              "                                              delito  ao_hechos  total\n",
              "1481                              VIOLENCIA FAMILIAR       2020  27573\n",
              "53                                          AMENAZAS       2020  14212\n",
              "394                                           FRAUDE       2020  12489\n",
              "1187                                 ROBO DE OBJETOS       2020   9005\n",
              "1072  ROBO A TRANSEUNTE EN VIA PUBLICA CON VIOLENCIA       2020   8588"
            ]
          },
          "metadata": {
            "tags": []
          },
          "execution_count": 64
        }
      ]
    },
    {
      "cell_type": "code",
      "metadata": {
        "id": "DwQnUC5CxKyR"
      },
      "source": [
        "data_frames = [res2016, res2017, res2018, res2019, res2020, res2021]"
      ],
      "execution_count": null,
      "outputs": []
    },
    {
      "cell_type": "code",
      "metadata": {
        "colab": {
          "base_uri": "https://localhost:8080/",
          "height": 235
        },
        "id": "PCunB7AnMSmE",
        "outputId": "e9d7a570-47a4-4ed4-a2c4-761a508f6daf"
      },
      "source": [
        "a = df_casting.pivot_table(index=\"delito\", values=\"alcaldia\", columns=\"ao_hechos\", aggfunc=\"count\", fill_value=0)\n",
        "a.sort_values(by=2016, ascending=False).head()"
      ],
      "execution_count": null,
      "outputs": [
        {
          "output_type": "execute_result",
          "data": {
            "text/html": [
              "<div>\n",
              "<style scoped>\n",
              "    .dataframe tbody tr th:only-of-type {\n",
              "        vertical-align: middle;\n",
              "    }\n",
              "\n",
              "    .dataframe tbody tr th {\n",
              "        vertical-align: top;\n",
              "    }\n",
              "\n",
              "    .dataframe thead th {\n",
              "        text-align: right;\n",
              "    }\n",
              "</style>\n",
              "<table border=\"1\" class=\"dataframe\">\n",
              "  <thead>\n",
              "    <tr style=\"text-align: right;\">\n",
              "      <th>ao_hechos</th>\n",
              "      <th>2016</th>\n",
              "      <th>2017</th>\n",
              "      <th>2018</th>\n",
              "      <th>2019</th>\n",
              "      <th>2020</th>\n",
              "      <th>2021</th>\n",
              "    </tr>\n",
              "    <tr>\n",
              "      <th>delito</th>\n",
              "      <th></th>\n",
              "      <th></th>\n",
              "      <th></th>\n",
              "      <th></th>\n",
              "      <th></th>\n",
              "      <th></th>\n",
              "    </tr>\n",
              "  </thead>\n",
              "  <tbody>\n",
              "    <tr>\n",
              "      <th>VIOLENCIA FAMILIAR</th>\n",
              "      <td>17844</td>\n",
              "      <td>18325</td>\n",
              "      <td>19756</td>\n",
              "      <td>25430</td>\n",
              "      <td>27573</td>\n",
              "      <td>16110</td>\n",
              "    </tr>\n",
              "    <tr>\n",
              "      <th>ROBO DE OBJETOS</th>\n",
              "      <td>14868</td>\n",
              "      <td>15927</td>\n",
              "      <td>14204</td>\n",
              "      <td>12416</td>\n",
              "      <td>9005</td>\n",
              "      <td>4684</td>\n",
              "    </tr>\n",
              "    <tr>\n",
              "      <th>ROBO A NEGOCIO SIN VIOLENCIA</th>\n",
              "      <td>13411</td>\n",
              "      <td>14844</td>\n",
              "      <td>15956</td>\n",
              "      <td>15741</td>\n",
              "      <td>4437</td>\n",
              "      <td>1919</td>\n",
              "    </tr>\n",
              "    <tr>\n",
              "      <th>FRAUDE</th>\n",
              "      <td>10625</td>\n",
              "      <td>11454</td>\n",
              "      <td>13168</td>\n",
              "      <td>13601</td>\n",
              "      <td>12489</td>\n",
              "      <td>5990</td>\n",
              "    </tr>\n",
              "    <tr>\n",
              "      <th>AMENAZAS</th>\n",
              "      <td>9864</td>\n",
              "      <td>9434</td>\n",
              "      <td>11044</td>\n",
              "      <td>13677</td>\n",
              "      <td>14212</td>\n",
              "      <td>7907</td>\n",
              "    </tr>\n",
              "  </tbody>\n",
              "</table>\n",
              "</div>"
            ],
            "text/plain": [
              "ao_hechos                      2016   2017   2018   2019   2020   2021\n",
              "delito                                                                \n",
              "VIOLENCIA FAMILIAR            17844  18325  19756  25430  27573  16110\n",
              "ROBO DE OBJETOS               14868  15927  14204  12416   9005   4684\n",
              "ROBO A NEGOCIO SIN VIOLENCIA  13411  14844  15956  15741   4437   1919\n",
              "FRAUDE                        10625  11454  13168  13601  12489   5990\n",
              "AMENAZAS                       9864   9434  11044  13677  14212   7907"
            ]
          },
          "metadata": {
            "tags": []
          },
          "execution_count": 72
        }
      ]
    },
    {
      "cell_type": "markdown",
      "metadata": {
        "id": "Piwa2OfBnZSb"
      },
      "source": [
        "#### 6.2.4 *¿Qué tipos de delitos se cometen por alcaldía?*"
      ]
    },
    {
      "cell_type": "code",
      "metadata": {
        "colab": {
          "base_uri": "https://localhost:8080/"
        },
        "id": "rSaTwnUzBY0C",
        "outputId": "89e7c59a-7543-404d-f2c4-ab4c2b092c51"
      },
      "source": [
        "#Agrupamos delitos por alcaldía de hechos\n",
        "df_casting.groupby('alcaldia_hechos').size()"
      ],
      "execution_count": null,
      "outputs": [
        {
          "output_type": "execute_result",
          "data": {
            "text/plain": [
              "alcaldia_hechos\n",
              "ALVARO OBREGON             78197\n",
              "AZCAPOTZALCO               56977\n",
              "BENITO JUAREZ              95689\n",
              "COYOACAN                   77192\n",
              "CUAJIMALPA DE MORELOS      17166\n",
              "CUAUHTEMOC                168678\n",
              "GUSTAVO A MADERO          114239\n",
              "IZTACALCO                  48170\n",
              "IZTAPALAPA                169783\n",
              "LA MAGDALENA CONTRERAS     19162\n",
              "MIGUEL HIDALGO             75264\n",
              "MILPA ALTA                  8165\n",
              "TLAHUAC                    28027\n",
              "TLALPAN                    67814\n",
              "VENUSTIANO CARRANZA        64196\n",
              "XOCHIMILCO                 36409\n",
              "dtype: int64"
            ]
          },
          "metadata": {
            "tags": []
          },
          "execution_count": 35
        }
      ]
    },
    {
      "cell_type": "code",
      "metadata": {
        "colab": {
          "base_uri": "https://localhost:8080/"
        },
        "id": "5oeAG9uvCBt8",
        "outputId": "b46dcc63-7487-48d6-a295-14a6257d1017"
      },
      "source": [
        "#Consultamos cada alcaldía para saber sus tipos de delito que se cometen por la misma:\n",
        "# ALVARO OBREGON\n",
        "df6, df7 = [x for _, x in df_casting.groupby(df_casting['alcaldia_hechos'] == 'ALVARO OBREGON')]\n",
        "df7.groupby('delito').size().sort_values(ascending=False)"
      ],
      "execution_count": null,
      "outputs": [
        {
          "output_type": "execute_result",
          "data": {
            "text/plain": [
              "delito\n",
              "VIOLENCIA FAMILIAR                                                                             9518\n",
              "AMENAZAS                                                                                       4857\n",
              "ROBO DE OBJETOS                                                                                4379\n",
              "ROBO A NEGOCIO SIN VIOLENCIA                                                                   4331\n",
              "FRAUDE                                                                                         4263\n",
              "                                                                                               ... \n",
              "FALSIFICACION DE SELLOS, MARCAS, LLAVES Y OTROS                                                   1\n",
              "FABRICACION, COMERCIALIZACION Y USO INDEBIDO DE INSIGNIAS Y UNIFORMES                             1\n",
              "EXPLOTACIÓN LABORAL DE MENORES, PERSONAS CON DISCAPACIDAD FÍSICA O MENTAL Y ADULTOS MAYORES       1\n",
              "EXPLOTACIÓN DE MENOR O DISCAPACITADO                                                              1\n",
              "ROBO A SUCURSAL BANCARIA DENTRO DE  TIENDAS DE AUTOSERVICIO S/V                                   1\n",
              "Length: 258, dtype: int64"
            ]
          },
          "metadata": {
            "tags": []
          },
          "execution_count": 36
        }
      ]
    },
    {
      "cell_type": "code",
      "metadata": {
        "id": "QiI4aXGoF30u",
        "colab": {
          "base_uri": "https://localhost:8080/"
        },
        "outputId": "224528b4-d5e4-4287-9cc2-54b36bf5cc77"
      },
      "source": [
        "# AZCAPOTZALCO\n",
        "df6, df7 = [x for _, x in df_casting.groupby(df_casting['alcaldia_hechos'] == 'AZCAPOTZALCO')]\n",
        "df7.groupby('delito').size().sort_values(ascending=False)"
      ],
      "execution_count": null,
      "outputs": [
        {
          "output_type": "execute_result",
          "data": {
            "text/plain": [
              "delito\n",
              "VIOLENCIA FAMILIAR                                              6033\n",
              "ROBO A NEGOCIO SIN VIOLENCIA                                    4018\n",
              "AMENAZAS                                                        3909\n",
              "ROBO DE OBJETOS                                                 3511\n",
              "ROBO A TRANSEUNTE EN VIA PUBLICA CON VIOLENCIA                  3247\n",
              "                                                                ... \n",
              "ROBO DE VEHICULO EN PENSION, TALLER Y AGENCIAS C/V                 1\n",
              "FEMINICIDIO POR GOLPES                                             1\n",
              "FEMINICIDIO POR DISPARO DE ARMA DE FUEGO                           1\n",
              "ROBO DURANTE TRASLADO DE VALORES (NOMINA) SIN VIOLENCIA            1\n",
              "INTIMIDACION (EVITAR DENUNCIA, APORTE INFORMACIÓN O PRUEBAS)       1\n",
              "Length: 252, dtype: int64"
            ]
          },
          "metadata": {
            "tags": []
          },
          "execution_count": 37
        }
      ]
    },
    {
      "cell_type": "code",
      "metadata": {
        "id": "wvgiZ_9iFFPd",
        "colab": {
          "base_uri": "https://localhost:8080/"
        },
        "outputId": "54add1ff-88a7-4612-f7d8-b551d9cf2b4b"
      },
      "source": [
        "# BENITO JUAREZ\n",
        "df6, df7 = [x for _, x in df_casting.groupby(df_casting['alcaldia_hechos'] == 'BENITO JUAREZ')]\n",
        "df7.groupby('delito').size().sort_values(ascending=False)"
      ],
      "execution_count": null,
      "outputs": [
        {
          "output_type": "execute_result",
          "data": {
            "text/plain": [
              "delito\n",
              "FRAUDE                                                                           9208\n",
              "ROBO DE ACCESORIOS DE AUTO                                                       8315\n",
              "ROBO A NEGOCIO SIN VIOLENCIA                                                     7806\n",
              "ROBO DE OBJETOS                                                                  6191\n",
              "VIOLENCIA FAMILIAR                                                               4670\n",
              "                                                                                 ... \n",
              "ROBO A PASAJERO EN TREN LIGERO SIN VIOLENCIA                                        1\n",
              "USO INDEBIDO DE CONDECORACIONES UNIFORMES E INSIGNIAS                               1\n",
              "HOMICIDIO CULPOSO                                                                   1\n",
              "DAÑO EN PROPIEDAD AJENA CULPOSA POR TRÁNSITO VEHICULAR A VIAS DE COMUNICACION       1\n",
              "ROBO A PASAJERO EN AUTOBUS FORANEO SIN VIOLENCIA                                    1\n",
              "Length: 258, dtype: int64"
            ]
          },
          "metadata": {
            "tags": []
          },
          "execution_count": 38
        }
      ]
    },
    {
      "cell_type": "code",
      "metadata": {
        "colab": {
          "base_uri": "https://localhost:8080/"
        },
        "id": "ZYuARIp1kYEN",
        "outputId": "09b91a56-52c0-4559-9dc9-28f899fff681"
      },
      "source": [
        "# COYOACAN\n",
        "df6, df7 = [x for _, x in df_casting.groupby(df_casting['alcaldia_hechos'] == 'COYOACAN')]\n",
        "df7.groupby('delito').size().sort_values(ascending=False)"
      ],
      "execution_count": null,
      "outputs": [
        {
          "output_type": "execute_result",
          "data": {
            "text/plain": [
              "delito\n",
              "VIOLENCIA FAMILIAR                                                                             8287\n",
              "ROBO DE OBJETOS                                                                                5574\n",
              "ROBO A NEGOCIO SIN VIOLENCIA                                                                   5361\n",
              "FRAUDE                                                                                         4838\n",
              "AMENAZAS                                                                                       4554\n",
              "                                                                                               ... \n",
              "USO INDEBIDO DE CONDECORACIONES UNIFORMES E INSIGNIAS                                             1\n",
              "EXPLOTACIÓN LABORAL DE MENORES, PERSONAS CON DISCAPACIDAD FÍSICA O MENTAL Y ADULTOS MAYORES       1\n",
              "LESIONES INTENCIONALES Y ROBO DE VEHICULO                                                         1\n",
              "ROBO A TRANSEUNTE EN HOTEL CON VIOLENCIA                                                          1\n",
              "VIOLACION TUMULTUARIA EQUIPARADA POR CONOCIDO                                                     1\n",
              "Length: 256, dtype: int64"
            ]
          },
          "metadata": {
            "tags": []
          },
          "execution_count": 39
        }
      ]
    },
    {
      "cell_type": "code",
      "metadata": {
        "colab": {
          "base_uri": "https://localhost:8080/"
        },
        "id": "IOnz7AdgkmBQ",
        "outputId": "8d90b78d-6c05-4542-dc57-fabb247e8cab"
      },
      "source": [
        "# CUAJIMALPA DE MORELOS\n",
        "df6, df7 = [x for _, x in df_casting.groupby(df_casting['alcaldia_hechos'] == 'CUAJIMALPA DE MORELOS')]\n",
        "df7.groupby('delito').size().sort_values(ascending=False)"
      ],
      "execution_count": null,
      "outputs": [
        {
          "output_type": "execute_result",
          "data": {
            "text/plain": [
              "delito\n",
              "VIOLENCIA FAMILIAR                         2278\n",
              "FRAUDE                                     1313\n",
              "ROBO A NEGOCIO SIN VIOLENCIA               1266\n",
              "ROBO DE OBJETOS                            1102\n",
              "AMENAZAS                                    806\n",
              "                                           ... \n",
              "ROBO A SUCURSAL BANCARIA SIN VIOLENCIA        1\n",
              "FALSEDAD DE DECLARACIONES                     1\n",
              "ENCUBRIMIENTO POR FAVORECIMIENTO              1\n",
              "ROBO A TRANSEUNTE EN CINE CON VIOLENCIA       1\n",
              "OTROS CULPOSOS                                1\n",
              "Length: 216, dtype: int64"
            ]
          },
          "metadata": {
            "tags": []
          },
          "execution_count": 40
        }
      ]
    },
    {
      "cell_type": "code",
      "metadata": {
        "colab": {
          "base_uri": "https://localhost:8080/"
        },
        "id": "jQPh9d22krfa",
        "outputId": "7a531388-1319-4431-bc9c-de43d95a55c6"
      },
      "source": [
        "# CUAUHTEMOC\n",
        "df6, df7 = [x for _, x in df_casting.groupby(df_casting['alcaldia_hechos'] == 'CUAUHTEMOC')]\n",
        "df7.groupby('delito').size().sort_values(ascending=False)"
      ],
      "execution_count": null,
      "outputs": [
        {
          "output_type": "execute_result",
          "data": {
            "text/plain": [
              "delito\n",
              "FRAUDE                                                       15626\n",
              "ROBO DE OBJETOS                                              13823\n",
              "ROBO A NEGOCIO SIN VIOLENCIA                                 10677\n",
              "VIOLENCIA FAMILIAR                                            9739\n",
              "ROBO A TRANSEUNTE EN VIA PUBLICA CON VIOLENCIA                9635\n",
              "                                                             ...  \n",
              "CORRUPCION DE MENORES E INCAPACES                                1\n",
              "OPOSICION A QUE SE EJECUTE ALGUNA OBRA O TRABAJO PUBLICOS        1\n",
              "ROBO A TRANSEUNTE EN CINE CON VIOLENCIA                          1\n",
              "OTROS AMBIENTALES                                                1\n",
              "OPOSICION A LA OBRA PUBLICA                                      1\n",
              "Length: 281, dtype: int64"
            ]
          },
          "metadata": {
            "tags": []
          },
          "execution_count": 41
        }
      ]
    },
    {
      "cell_type": "code",
      "metadata": {
        "colab": {
          "base_uri": "https://localhost:8080/"
        },
        "id": "mUJzC0AGktjt",
        "outputId": "82532d24-a976-4218-9dfb-e7633bf0d8ba"
      },
      "source": [
        "# GUSTAVO A MADERO\n",
        "df6, df7 = [x for _, x in df_casting.groupby(df_casting['alcaldia_hechos'] == 'GUSTAVO A MADERO')]\n",
        "df7.groupby('delito').size().sort_values(ascending=False)"
      ],
      "execution_count": null,
      "outputs": [
        {
          "output_type": "execute_result",
          "data": {
            "text/plain": [
              "delito\n",
              "VIOLENCIA FAMILIAR                                       14917\n",
              "ROBO A NEGOCIO SIN VIOLENCIA                              6965\n",
              "AMENAZAS                                                  6780\n",
              "ROBO A TRANSEUNTE EN VIA PUBLICA CON VIOLENCIA            6117\n",
              "ROBO DE OBJETOS                                           5733\n",
              "                                                         ...  \n",
              "ROBO A SUCURSAL BANCARIA SIN VIOLENCIA                       1\n",
              "ROBO A PASAJERO EN ECOBUS SIN VIOLENCIA                      1\n",
              "INHUMACIONES Y/O EXHUMACIONES                                1\n",
              "ROBO A SUCURSAL BANCARIA (SUPERMERCADO) CON VIOLENCIA        1\n",
              "ATAQUES A LA PAZ PUBLICA                                     1\n",
              "Length: 269, dtype: int64"
            ]
          },
          "metadata": {
            "tags": []
          },
          "execution_count": 42
        }
      ]
    },
    {
      "cell_type": "code",
      "metadata": {
        "colab": {
          "base_uri": "https://localhost:8080/"
        },
        "id": "Ih6TxhVClC6a",
        "outputId": "581345f0-66d0-4a45-cc4d-148907aff112"
      },
      "source": [
        "# IZTACALCO\n",
        "df6, df7 = [x for _, x in df_casting.groupby(df_casting['alcaldia_hechos'] == 'IZTACALCO')]\n",
        "df7.groupby('delito').size().sort_values(ascending=False)"
      ],
      "execution_count": null,
      "outputs": [
        {
          "output_type": "execute_result",
          "data": {
            "text/plain": [
              "delito\n",
              "VIOLENCIA FAMILIAR                                7460\n",
              "ROBO A TRANSEUNTE EN VIA PUBLICA CON VIOLENCIA    3278\n",
              "AMENAZAS                                          2866\n",
              "ROBO DE OBJETOS                                   2429\n",
              "FRAUDE                                            2040\n",
              "                                                  ... \n",
              "TRAFICO DE INFLUENCIA                                1\n",
              "DIFAMACION                                           1\n",
              "ROBO A PASAJERO EN TREN LIGERO CON VIOLENCIA         1\n",
              "ENRIQUECIMIENTO ILICITO                              1\n",
              "TENTATIVA DE VIOLACION                               1\n",
              "Length: 243, dtype: int64"
            ]
          },
          "metadata": {
            "tags": []
          },
          "execution_count": 43
        }
      ]
    },
    {
      "cell_type": "code",
      "metadata": {
        "colab": {
          "base_uri": "https://localhost:8080/"
        },
        "id": "SHBOewCrlOst",
        "outputId": "f78d2e3e-47fe-4870-feaf-7a743598de24"
      },
      "source": [
        "# IZTAPALAPA\n",
        "df6, df7 = [x for _, x in df_casting.groupby(df_casting['alcaldia_hechos'] == 'IZTAPALAPA')]\n",
        "df7.groupby('delito').size().sort_values(ascending=False)"
      ],
      "execution_count": null,
      "outputs": [
        {
          "output_type": "execute_result",
          "data": {
            "text/plain": [
              "delito\n",
              "VIOLENCIA FAMILIAR                                         23043\n",
              "ROBO A TRANSEUNTE EN VIA PUBLICA CON VIOLENCIA             12150\n",
              "AMENAZAS                                                   10575\n",
              "ROBO A NEGOCIO SIN VIOLENCIA                               10314\n",
              "ROBO DE OBJETOS                                             9243\n",
              "                                                           ...  \n",
              "EXPLOTACIÓN DE MENOR O DISCAPACITADO                           1\n",
              "ENTREGA ILEGITIMA DE UN MENOR                                  1\n",
              "ROBO A TRANSEUNTE EN VIA PUBLICA (NOMINA) SIN VIOLENCIA        1\n",
              "USO INDEBIDO DE CONDECORACIONES UNIFORMES E INSIGNIAS          1\n",
              "ROBO A PASAJERO EN TROLEBUS CON VIOLENCIA                      1\n",
              "Length: 279, dtype: int64"
            ]
          },
          "metadata": {
            "tags": []
          },
          "execution_count": 44
        }
      ]
    },
    {
      "cell_type": "code",
      "metadata": {
        "colab": {
          "base_uri": "https://localhost:8080/"
        },
        "id": "hHboOODWlUqS",
        "outputId": "b6a4a1bf-1865-4f5d-a2e9-a28658f3b6a3"
      },
      "source": [
        "# LA MAGDALENA CONTRERAS\n",
        "df6, df7 = [x for _, x in df_casting.groupby(df_casting['alcaldia_hechos'] == 'LA MAGDALENA CONTRERAS')]\n",
        "df7.groupby('delito').size().sort_values(ascending=False)"
      ],
      "execution_count": null,
      "outputs": [
        {
          "output_type": "execute_result",
          "data": {
            "text/plain": [
              "delito\n",
              "VIOLENCIA FAMILIAR                                    4709\n",
              "AMENAZAS                                              1647\n",
              "ROBO A CASA HABITACION SIN VIOLENCIA                   834\n",
              "ROBO DE OBJETOS                                        830\n",
              "FRAUDE                                                 822\n",
              "                                                      ... \n",
              "ENCUBRIMIENTO POR FAVORECIMIENTO                         1\n",
              "ROBO DE VEHICULO DE SERVICIO OFICIAL CON VIOLENCIA       1\n",
              "ROBO DE VEHICULO EN PENSION, TALLER Y AGENCIAS S/V       1\n",
              "DESOBEDENCIA DE PARTICULARES                             1\n",
              "HOMICIDIO CULPOSO POR INSTRUMENTO PUNZO CORTANTE         1\n",
              "Length: 213, dtype: int64"
            ]
          },
          "metadata": {
            "tags": []
          },
          "execution_count": 45
        }
      ]
    },
    {
      "cell_type": "code",
      "metadata": {
        "colab": {
          "base_uri": "https://localhost:8080/"
        },
        "id": "KolpRXoelXfD",
        "outputId": "90b3ca9e-be40-4dae-819c-550ae80f5f91"
      },
      "source": [
        "# MIGUEL HIDALGO\n",
        "df6, df7 = [x for _, x in df_casting.groupby(df_casting['alcaldia_hechos'] == 'MIGUEL HIDALGO')]\n",
        "df7.groupby('delito').size().sort_values(ascending=False)"
      ],
      "execution_count": null,
      "outputs": [
        {
          "output_type": "execute_result",
          "data": {
            "text/plain": [
              "delito\n",
              "FRAUDE                                                                       6622\n",
              "ROBO DE OBJETOS                                                              6232\n",
              "ROBO A TRANSEUNTE EN VIA PUBLICA CON VIOLENCIA                               5241\n",
              "ROBO A NEGOCIO SIN VIOLENCIA                                                 4661\n",
              "VIOLENCIA FAMILIAR                                                           4435\n",
              "                                                                             ... \n",
              "CONTAMINACIÓN O RESIDUOS                                                        1\n",
              "HOMICIDIO CULPOSO POR INSTRUMENTO PUNZO CORTANTE                                1\n",
              "DAÑO SUELO (ACTIVIDAD, INVASIÓN O EXTRACCIÓN)                                   1\n",
              "CORRUPCION DE MENORES E INCAPACES                                               1\n",
              "ROBO A SUCURSAL BANCARIA DENTRO DE  TIENDAS DE AUTOSERVICIO CON VIOLENCIA       1\n",
              "Length: 259, dtype: int64"
            ]
          },
          "metadata": {
            "tags": []
          },
          "execution_count": 46
        }
      ]
    },
    {
      "cell_type": "code",
      "metadata": {
        "colab": {
          "base_uri": "https://localhost:8080/"
        },
        "id": "ojQz62IPlgJg",
        "outputId": "539b324a-4f34-4202-c537-352adcac53fd"
      },
      "source": [
        "# MILPA ALTA\n",
        "df6, df7 = [x for _, x in df_casting.groupby(df_casting['alcaldia_hechos'] == 'MILPA ALTA')]\n",
        "df7.groupby('delito').size().sort_values(ascending=False)"
      ],
      "execution_count": null,
      "outputs": [
        {
          "output_type": "execute_result",
          "data": {
            "text/plain": [
              "delito\n",
              "VIOLENCIA FAMILIAR                                    2016\n",
              "AMENAZAS                                               608\n",
              "ROBO A CASA HABITACION SIN VIOLENCIA                   349\n",
              "ROBO DE OBJETOS                                        307\n",
              "DESPOJO                                                275\n",
              "                                                      ... \n",
              "ROBO DE VEHICULO DE SERVICIO OFICIAL CON VIOLENCIA       1\n",
              "OTROS CULPOSOS                                           1\n",
              "EJERCICIO INDEBIDO DEL SERVIDOR PUBLICO                  1\n",
              "RESPONSABILIDAD PROFESIONAL                              1\n",
              "ENCUBRIMIENTO POR FAVORECIMIENTO                         1\n",
              "Length: 185, dtype: int64"
            ]
          },
          "metadata": {
            "tags": []
          },
          "execution_count": 47
        }
      ]
    },
    {
      "cell_type": "code",
      "metadata": {
        "colab": {
          "base_uri": "https://localhost:8080/"
        },
        "id": "7x4eNJqtliZ5",
        "outputId": "35fe7aa5-0d51-40cc-d88e-f39503d93e6a"
      },
      "source": [
        "# MIGUEL HIDALGO\n",
        "df6, df7 = [x for _, x in df_casting.groupby(df_casting['alcaldia_hechos'] == 'MIGUEL HIDALGO')]\n",
        "df7.groupby('delito').size().sort_values(ascending=False)"
      ],
      "execution_count": null,
      "outputs": [
        {
          "output_type": "execute_result",
          "data": {
            "text/plain": [
              "delito\n",
              "FRAUDE                                                                       6622\n",
              "ROBO DE OBJETOS                                                              6232\n",
              "ROBO A TRANSEUNTE EN VIA PUBLICA CON VIOLENCIA                               5241\n",
              "ROBO A NEGOCIO SIN VIOLENCIA                                                 4661\n",
              "VIOLENCIA FAMILIAR                                                           4435\n",
              "                                                                             ... \n",
              "CONTAMINACIÓN O RESIDUOS                                                        1\n",
              "HOMICIDIO CULPOSO POR INSTRUMENTO PUNZO CORTANTE                                1\n",
              "DAÑO SUELO (ACTIVIDAD, INVASIÓN O EXTRACCIÓN)                                   1\n",
              "CORRUPCION DE MENORES E INCAPACES                                               1\n",
              "ROBO A SUCURSAL BANCARIA DENTRO DE  TIENDAS DE AUTOSERVICIO CON VIOLENCIA       1\n",
              "Length: 259, dtype: int64"
            ]
          },
          "metadata": {
            "tags": []
          },
          "execution_count": 48
        }
      ]
    },
    {
      "cell_type": "code",
      "metadata": {
        "colab": {
          "base_uri": "https://localhost:8080/"
        },
        "id": "7EjBI8rFltmR",
        "outputId": "725c28c0-6c08-4075-cb05-857717939082"
      },
      "source": [
        "# TLAHUAC\n",
        "df6, df7 = [x for _, x in df_casting.groupby(df_casting['alcaldia_hechos'] == 'TLAHUAC')]\n",
        "df7.groupby('delito').size().sort_values(ascending=False)"
      ],
      "execution_count": null,
      "outputs": [
        {
          "output_type": "execute_result",
          "data": {
            "text/plain": [
              "delito\n",
              "VIOLENCIA FAMILIAR                                          5349\n",
              "AMENAZAS                                                    2142\n",
              "ROBO A TRANSEUNTE EN VIA PUBLICA CON VIOLENCIA              1589\n",
              "ROBO DE OBJETOS                                             1287\n",
              "ROBO DE VEHICULO DE SERVICIO PARTICULAR SIN VIOLENCIA        976\n",
              "                                                            ... \n",
              "VARIACION DE NOMBRE O DOMICILIO                                1\n",
              "ROBO A TRANSPORTISTA Y VEHICULO PESADO SIN VIOLENCIA           1\n",
              "CONTRA LA LEY GENERAL DE EXPLOSIVOS                            1\n",
              "LESIONES CULPOSAS CON EXCLUYENTES DE RESPONSABILIDAD           1\n",
              "PRIVACION DE LA LIBERTAD PERSONAL (REALIZAR ACTO SEXUAL)       1\n",
              "Length: 236, dtype: int64"
            ]
          },
          "metadata": {
            "tags": []
          },
          "execution_count": 49
        }
      ]
    },
    {
      "cell_type": "code",
      "metadata": {
        "colab": {
          "base_uri": "https://localhost:8080/"
        },
        "id": "y2td9zTQlxQe",
        "outputId": "b5a5eeae-7bba-4cb2-e552-f47be5d44703"
      },
      "source": [
        "# TLALPAN\n",
        "df6, df7 = [x for _, x in df_casting.groupby(df_casting['alcaldia_hechos'] == 'TLALPAN')]\n",
        "df7.groupby('delito').size().sort_values(ascending=False)"
      ],
      "execution_count": null,
      "outputs": [
        {
          "output_type": "execute_result",
          "data": {
            "text/plain": [
              "delito\n",
              "VIOLENCIA FAMILIAR                            9172\n",
              "AMENAZAS                                      4721\n",
              "ROBO DE OBJETOS                               4361\n",
              "ROBO A NEGOCIO SIN VIOLENCIA                  3948\n",
              "FRAUDE                                        3639\n",
              "                                              ... \n",
              "PROCREACION ASISTIDA                             1\n",
              "EXPLOTACIÓN DE MENOR O DISCAPACITADO             1\n",
              "EJERCICIO ABUSIVO DE FUNCIONES                   1\n",
              "ROBO A TRANSEUNTE Y VEHICULO CON VIOLENCIA       1\n",
              "LESIONES INTENCIONALES Y ROBO DE VEHICULO        1\n",
              "Length: 255, dtype: int64"
            ]
          },
          "metadata": {
            "tags": []
          },
          "execution_count": 50
        }
      ]
    },
    {
      "cell_type": "code",
      "metadata": {
        "colab": {
          "base_uri": "https://localhost:8080/"
        },
        "id": "0Fk9V3YHlygj",
        "outputId": "60e67980-dfcd-4294-9909-45fc63be66bf"
      },
      "source": [
        "# VENUSTIANO CARRANZA\n",
        "df6, df7 = [x for _, x in df_casting.groupby(df_casting['alcaldia_hechos'] == 'VENUSTIANO CARRANZA')]\n",
        "df7.groupby('delito').size().sort_values(ascending=False)"
      ],
      "execution_count": null,
      "outputs": [
        {
          "output_type": "execute_result",
          "data": {
            "text/plain": [
              "delito\n",
              "VIOLENCIA FAMILIAR                                    7092\n",
              "ROBO DE OBJETOS                                       4460\n",
              "AMENAZAS                                              4290\n",
              "ROBO A TRANSEUNTE EN VIA PUBLICA CON VIOLENCIA        4251\n",
              "ROBO A NEGOCIO SIN VIOLENCIA                          3309\n",
              "                                                      ... \n",
              "ROBO EN INTERIOR DE EMPRESA (NOMINA) SIN VIOLENCIA       1\n",
              "SABOTAJE                                                 1\n",
              "ROBO A NEGOCIO Y VEHICULO SIN VIOLENCIA                  1\n",
              "ROBO A PASAJERO EN TROLEBUS SIN VIOLENCIA                1\n",
              "ROBO A PASAJERO EN AUTOBUS FORANEO SIN VIOLENCIA         1\n",
              "Length: 243, dtype: int64"
            ]
          },
          "metadata": {
            "tags": []
          },
          "execution_count": 51
        }
      ]
    },
    {
      "cell_type": "code",
      "metadata": {
        "colab": {
          "base_uri": "https://localhost:8080/"
        },
        "id": "r0yk5oKQl1kr",
        "outputId": "1a3715e9-1aa3-4812-f802-5c658aa2d464"
      },
      "source": [
        "# XOCHIMILCO\n",
        "df6, df7 = [x for _, x in df_casting.groupby(df_casting['alcaldia_hechos'] == 'XOCHIMILCO')]\n",
        "df7.groupby('delito').size().sort_values(ascending=False)"
      ],
      "execution_count": null,
      "outputs": [
        {
          "output_type": "execute_result",
          "data": {
            "text/plain": [
              "delito\n",
              "VIOLENCIA FAMILIAR                                       6320\n",
              "AMENAZAS                                                 2702\n",
              "ROBO A TRANSEUNTE EN VIA PUBLICA CON VIOLENCIA           2091\n",
              "ROBO DE OBJETOS                                          1642\n",
              "ROBO DE VEHICULO DE SERVICIO PARTICULAR SIN VIOLENCIA    1607\n",
              "                                                         ... \n",
              "DELITOS CONTRA LA SALUD                                     1\n",
              "USO INDEBIDO DE CONDECORACIONES UNIFORMES E INSIGNIAS       1\n",
              "ROBO DE VEHICULO EN PENSION, TALLER Y AGENCIAS S/V          1\n",
              "VIOLACION DE LA INTIMIDAD                                   1\n",
              "LESIONES CULPOSAS CON EXCLUYENTES DE RESPONSABILIDAD        1\n",
              "Length: 248, dtype: int64"
            ]
          },
          "metadata": {
            "tags": []
          },
          "execution_count": 52
        }
      ]
    },
    {
      "cell_type": "markdown",
      "metadata": {
        "id": "FTF9f-ISnipU"
      },
      "source": [
        "#### 6.2.5 *¿Qué delitos son más comunes cada año?*\n",
        "\n",
        "\n",
        "*   Violencia familiar\n",
        "*   Robo de objetos\n",
        "*   Robo de negocio sin violencia\n",
        "\n",
        "\n"
      ]
    },
    {
      "cell_type": "code",
      "metadata": {
        "id": "rgSyG4nTklNU",
        "colab": {
          "base_uri": "https://localhost:8080/",
          "height": 419
        },
        "outputId": "b103e008-97ff-45ba-b6df-2970bb49bd22"
      },
      "source": [
        "# 2016\n",
        "df6, df7 = [x for _, x in df_casting.groupby(df_casting['ao_hechos'] == 2016)]\n",
        "g=df7.groupby('delito')['ao_hechos'].size().reset_index()\n",
        "dicc={\n",
        "    'ao_hechos': 'total'  \n",
        "}\n",
        "g.rename(columns=dicc, inplace=True)\n",
        "res=g.sort_values(\"total\", ascending=False)\n",
        "res"
      ],
      "execution_count": null,
      "outputs": [
        {
          "output_type": "execute_result",
          "data": {
            "text/html": [
              "<div>\n",
              "<style scoped>\n",
              "    .dataframe tbody tr th:only-of-type {\n",
              "        vertical-align: middle;\n",
              "    }\n",
              "\n",
              "    .dataframe tbody tr th {\n",
              "        vertical-align: top;\n",
              "    }\n",
              "\n",
              "    .dataframe thead th {\n",
              "        text-align: right;\n",
              "    }\n",
              "</style>\n",
              "<table border=\"1\" class=\"dataframe\">\n",
              "  <thead>\n",
              "    <tr style=\"text-align: right;\">\n",
              "      <th></th>\n",
              "      <th>delito</th>\n",
              "      <th>total</th>\n",
              "    </tr>\n",
              "  </thead>\n",
              "  <tbody>\n",
              "    <tr>\n",
              "      <th>248</th>\n",
              "      <td>VIOLENCIA FAMILIAR</td>\n",
              "      <td>17844</td>\n",
              "    </tr>\n",
              "    <tr>\n",
              "      <th>202</th>\n",
              "      <td>ROBO DE OBJETOS</td>\n",
              "      <td>14868</td>\n",
              "    </tr>\n",
              "    <tr>\n",
              "      <th>137</th>\n",
              "      <td>ROBO A NEGOCIO SIN VIOLENCIA</td>\n",
              "      <td>13411</td>\n",
              "    </tr>\n",
              "    <tr>\n",
              "      <th>69</th>\n",
              "      <td>FRAUDE</td>\n",
              "      <td>10625</td>\n",
              "    </tr>\n",
              "    <tr>\n",
              "      <th>9</th>\n",
              "      <td>AMENAZAS</td>\n",
              "      <td>9864</td>\n",
              "    </tr>\n",
              "    <tr>\n",
              "      <th>...</th>\n",
              "      <td>...</td>\n",
              "      <td>...</td>\n",
              "    </tr>\n",
              "    <tr>\n",
              "      <th>16</th>\n",
              "      <td>COACCION DE SERVIDORES PUBLICOS</td>\n",
              "      <td>1</td>\n",
              "    </tr>\n",
              "    <tr>\n",
              "      <th>10</th>\n",
              "      <td>ASOCIACION DELICTUOSA</td>\n",
              "      <td>1</td>\n",
              "    </tr>\n",
              "    <tr>\n",
              "      <th>215</th>\n",
              "      <td>ROBO DURANTE TRASLADO DE VALORES (NOMINA) CON ...</td>\n",
              "      <td>1</td>\n",
              "    </tr>\n",
              "    <tr>\n",
              "      <th>216</th>\n",
              "      <td>ROBO DURANTE TRASLADO DE VALORES (NOMINA) SIN ...</td>\n",
              "      <td>1</td>\n",
              "    </tr>\n",
              "    <tr>\n",
              "      <th>124</th>\n",
              "      <td>PROVOCACION O APOLOGIA DE DELITO</td>\n",
              "      <td>1</td>\n",
              "    </tr>\n",
              "  </tbody>\n",
              "</table>\n",
              "<p>249 rows × 2 columns</p>\n",
              "</div>"
            ],
            "text/plain": [
              "                                                delito  total\n",
              "248                                 VIOLENCIA FAMILIAR  17844\n",
              "202                                    ROBO DE OBJETOS  14868\n",
              "137                       ROBO A NEGOCIO SIN VIOLENCIA  13411\n",
              "69                                              FRAUDE  10625\n",
              "9                                             AMENAZAS   9864\n",
              "..                                                 ...    ...\n",
              "16                     COACCION DE SERVIDORES PUBLICOS      1\n",
              "10                               ASOCIACION DELICTUOSA      1\n",
              "215  ROBO DURANTE TRASLADO DE VALORES (NOMINA) CON ...      1\n",
              "216  ROBO DURANTE TRASLADO DE VALORES (NOMINA) SIN ...      1\n",
              "124                   PROVOCACION O APOLOGIA DE DELITO      1\n",
              "\n",
              "[249 rows x 2 columns]"
            ]
          },
          "metadata": {
            "tags": []
          },
          "execution_count": 53
        }
      ]
    },
    {
      "cell_type": "code",
      "metadata": {
        "colab": {
          "base_uri": "https://localhost:8080/",
          "height": 419
        },
        "id": "nfNaBzpJK588",
        "outputId": "c92f6a63-7bf6-4b14-f7f4-950d2720dec7"
      },
      "source": [
        "# 2017\n",
        "df6, df7 = [x for _, x in df_casting.groupby(df_casting['ao_hechos'] == 2017)]\n",
        "g=df7.groupby('delito')['ao_hechos'].size().reset_index()\n",
        "dicc={\n",
        "    'ao_hechos': 'total'  \n",
        "}\n",
        "g.rename(columns=dicc, inplace=True)\n",
        "res=g.sort_values(\"total\", ascending=False)\n",
        "res"
      ],
      "execution_count": null,
      "outputs": [
        {
          "output_type": "execute_result",
          "data": {
            "text/html": [
              "<div>\n",
              "<style scoped>\n",
              "    .dataframe tbody tr th:only-of-type {\n",
              "        vertical-align: middle;\n",
              "    }\n",
              "\n",
              "    .dataframe tbody tr th {\n",
              "        vertical-align: top;\n",
              "    }\n",
              "\n",
              "    .dataframe thead th {\n",
              "        text-align: right;\n",
              "    }\n",
              "</style>\n",
              "<table border=\"1\" class=\"dataframe\">\n",
              "  <thead>\n",
              "    <tr style=\"text-align: right;\">\n",
              "      <th></th>\n",
              "      <th>delito</th>\n",
              "      <th>total</th>\n",
              "    </tr>\n",
              "  </thead>\n",
              "  <tbody>\n",
              "    <tr>\n",
              "      <th>250</th>\n",
              "      <td>VIOLENCIA FAMILIAR</td>\n",
              "      <td>18325</td>\n",
              "    </tr>\n",
              "    <tr>\n",
              "      <th>200</th>\n",
              "      <td>ROBO DE OBJETOS</td>\n",
              "      <td>15927</td>\n",
              "    </tr>\n",
              "    <tr>\n",
              "      <th>135</th>\n",
              "      <td>ROBO A NEGOCIO SIN VIOLENCIA</td>\n",
              "      <td>14844</td>\n",
              "    </tr>\n",
              "    <tr>\n",
              "      <th>68</th>\n",
              "      <td>FRAUDE</td>\n",
              "      <td>11454</td>\n",
              "    </tr>\n",
              "    <tr>\n",
              "      <th>9</th>\n",
              "      <td>AMENAZAS</td>\n",
              "      <td>9434</td>\n",
              "    </tr>\n",
              "    <tr>\n",
              "      <th>...</th>\n",
              "      <td>...</td>\n",
              "      <td>...</td>\n",
              "    </tr>\n",
              "    <tr>\n",
              "      <th>53</th>\n",
              "      <td>ENCUBRIMIENTO POR FAVORECIMIENTO Y RECEPTACIÓN</td>\n",
              "      <td>1</td>\n",
              "    </tr>\n",
              "    <tr>\n",
              "      <th>122</th>\n",
              "      <td>PROVOCACION O APOLOGIA DE DELITO</td>\n",
              "      <td>1</td>\n",
              "    </tr>\n",
              "    <tr>\n",
              "      <th>213</th>\n",
              "      <td>ROBO DE VEHICULO Y NOMINA CON VIOLENCIA</td>\n",
              "      <td>1</td>\n",
              "    </tr>\n",
              "    <tr>\n",
              "      <th>127</th>\n",
              "      <td>RETENCIÓN DE MENORES</td>\n",
              "      <td>1</td>\n",
              "    </tr>\n",
              "    <tr>\n",
              "      <th>171</th>\n",
              "      <td>ROBO A TRANSEUNTE A BORDO DE TAXI PÚBLICO Y PR...</td>\n",
              "      <td>1</td>\n",
              "    </tr>\n",
              "  </tbody>\n",
              "</table>\n",
              "<p>251 rows × 2 columns</p>\n",
              "</div>"
            ],
            "text/plain": [
              "                                                delito  total\n",
              "250                                 VIOLENCIA FAMILIAR  18325\n",
              "200                                    ROBO DE OBJETOS  15927\n",
              "135                       ROBO A NEGOCIO SIN VIOLENCIA  14844\n",
              "68                                              FRAUDE  11454\n",
              "9                                             AMENAZAS   9434\n",
              "..                                                 ...    ...\n",
              "53      ENCUBRIMIENTO POR FAVORECIMIENTO Y RECEPTACIÓN      1\n",
              "122                   PROVOCACION O APOLOGIA DE DELITO      1\n",
              "213            ROBO DE VEHICULO Y NOMINA CON VIOLENCIA      1\n",
              "127                               RETENCIÓN DE MENORES      1\n",
              "171  ROBO A TRANSEUNTE A BORDO DE TAXI PÚBLICO Y PR...      1\n",
              "\n",
              "[251 rows x 2 columns]"
            ]
          },
          "metadata": {
            "tags": []
          },
          "execution_count": 54
        }
      ]
    },
    {
      "cell_type": "code",
      "metadata": {
        "colab": {
          "base_uri": "https://localhost:8080/",
          "height": 419
        },
        "id": "gjujy0lBmJ7B",
        "outputId": "fc364c57-bdb4-475b-d1ef-28ebffb6d47c"
      },
      "source": [
        "# 2018\n",
        "df6, df7 = [x for _, x in df_casting.groupby(df_casting['ao_hechos'] == 2018)]\n",
        "g=df7.groupby('delito')['ao_hechos'].size().reset_index()\n",
        "dicc={\n",
        "    'ao_hechos': 'total'  \n",
        "}\n",
        "g.rename(columns=dicc, inplace=True)\n",
        "res=g.sort_values(\"total\", ascending=False)\n",
        "res"
      ],
      "execution_count": null,
      "outputs": [
        {
          "output_type": "execute_result",
          "data": {
            "text/html": [
              "<div>\n",
              "<style scoped>\n",
              "    .dataframe tbody tr th:only-of-type {\n",
              "        vertical-align: middle;\n",
              "    }\n",
              "\n",
              "    .dataframe tbody tr th {\n",
              "        vertical-align: top;\n",
              "    }\n",
              "\n",
              "    .dataframe thead th {\n",
              "        text-align: right;\n",
              "    }\n",
              "</style>\n",
              "<table border=\"1\" class=\"dataframe\">\n",
              "  <thead>\n",
              "    <tr style=\"text-align: right;\">\n",
              "      <th></th>\n",
              "      <th>delito</th>\n",
              "      <th>total</th>\n",
              "    </tr>\n",
              "  </thead>\n",
              "  <tbody>\n",
              "    <tr>\n",
              "      <th>185</th>\n",
              "      <td>ROBO A TRANSEUNTE EN VIA PUBLICA CON VIOLENCIA</td>\n",
              "      <td>21887</td>\n",
              "    </tr>\n",
              "    <tr>\n",
              "      <th>252</th>\n",
              "      <td>VIOLENCIA FAMILIAR</td>\n",
              "      <td>19756</td>\n",
              "    </tr>\n",
              "    <tr>\n",
              "      <th>136</th>\n",
              "      <td>ROBO A NEGOCIO SIN VIOLENCIA</td>\n",
              "      <td>15956</td>\n",
              "    </tr>\n",
              "    <tr>\n",
              "      <th>203</th>\n",
              "      <td>ROBO DE OBJETOS</td>\n",
              "      <td>14204</td>\n",
              "    </tr>\n",
              "    <tr>\n",
              "      <th>68</th>\n",
              "      <td>FRAUDE</td>\n",
              "      <td>13168</td>\n",
              "    </tr>\n",
              "    <tr>\n",
              "      <th>...</th>\n",
              "      <td>...</td>\n",
              "      <td>...</td>\n",
              "    </tr>\n",
              "    <tr>\n",
              "      <th>220</th>\n",
              "      <td>ROBO S/V DENTRO DE NEGOCIOS, AUTOSERVICIOS, CO...</td>\n",
              "      <td>1</td>\n",
              "    </tr>\n",
              "    <tr>\n",
              "      <th>217</th>\n",
              "      <td>ROBO DURANTE TRASLADO DE VALORES (NOMINA) SIN ...</td>\n",
              "      <td>1</td>\n",
              "    </tr>\n",
              "    <tr>\n",
              "      <th>216</th>\n",
              "      <td>ROBO DURANTE TRASLADO DE VALORES (NOMINA) CON ...</td>\n",
              "      <td>1</td>\n",
              "    </tr>\n",
              "    <tr>\n",
              "      <th>198</th>\n",
              "      <td>ROBO DE INFANTE</td>\n",
              "      <td>1</td>\n",
              "    </tr>\n",
              "    <tr>\n",
              "      <th>160</th>\n",
              "      <td>ROBO A PASAJERO EN TREN SUBURBANO CON VIOLENCIA</td>\n",
              "      <td>1</td>\n",
              "    </tr>\n",
              "  </tbody>\n",
              "</table>\n",
              "<p>253 rows × 2 columns</p>\n",
              "</div>"
            ],
            "text/plain": [
              "                                                delito  total\n",
              "185     ROBO A TRANSEUNTE EN VIA PUBLICA CON VIOLENCIA  21887\n",
              "252                                 VIOLENCIA FAMILIAR  19756\n",
              "136                       ROBO A NEGOCIO SIN VIOLENCIA  15956\n",
              "203                                    ROBO DE OBJETOS  14204\n",
              "68                                              FRAUDE  13168\n",
              "..                                                 ...    ...\n",
              "220  ROBO S/V DENTRO DE NEGOCIOS, AUTOSERVICIOS, CO...      1\n",
              "217  ROBO DURANTE TRASLADO DE VALORES (NOMINA) SIN ...      1\n",
              "216  ROBO DURANTE TRASLADO DE VALORES (NOMINA) CON ...      1\n",
              "198                                    ROBO DE INFANTE      1\n",
              "160    ROBO A PASAJERO EN TREN SUBURBANO CON VIOLENCIA      1\n",
              "\n",
              "[253 rows x 2 columns]"
            ]
          },
          "metadata": {
            "tags": []
          },
          "execution_count": 55
        }
      ]
    },
    {
      "cell_type": "code",
      "metadata": {
        "id": "dyC9EwSGLDOE",
        "colab": {
          "base_uri": "https://localhost:8080/",
          "height": 419
        },
        "outputId": "35a0041a-bd70-4ae0-ad49-a5e665a32952"
      },
      "source": [
        "# 2019\n",
        "df6, df7 = [x for _, x in df_casting.groupby(df_casting['ao_hechos'] == 2019)]\n",
        "g=df7.groupby('delito')['ao_hechos'].size().reset_index()\n",
        "dicc={\n",
        "    'ao_hechos': 'total'  \n",
        "}\n",
        "g.rename(columns=dicc, inplace=True)\n",
        "res=g.sort_values(\"total\", ascending=False)\n",
        "res"
      ],
      "execution_count": null,
      "outputs": [
        {
          "output_type": "execute_result",
          "data": {
            "text/html": [
              "<div>\n",
              "<style scoped>\n",
              "    .dataframe tbody tr th:only-of-type {\n",
              "        vertical-align: middle;\n",
              "    }\n",
              "\n",
              "    .dataframe tbody tr th {\n",
              "        vertical-align: top;\n",
              "    }\n",
              "\n",
              "    .dataframe thead th {\n",
              "        text-align: right;\n",
              "    }\n",
              "</style>\n",
              "<table border=\"1\" class=\"dataframe\">\n",
              "  <thead>\n",
              "    <tr style=\"text-align: right;\">\n",
              "      <th></th>\n",
              "      <th>delito</th>\n",
              "      <th>total</th>\n",
              "    </tr>\n",
              "  </thead>\n",
              "  <tbody>\n",
              "    <tr>\n",
              "      <th>239</th>\n",
              "      <td>VIOLENCIA FAMILIAR</td>\n",
              "      <td>25430</td>\n",
              "    </tr>\n",
              "    <tr>\n",
              "      <th>129</th>\n",
              "      <td>ROBO A NEGOCIO SIN VIOLENCIA</td>\n",
              "      <td>15741</td>\n",
              "    </tr>\n",
              "    <tr>\n",
              "      <th>7</th>\n",
              "      <td>AMENAZAS</td>\n",
              "      <td>13677</td>\n",
              "    </tr>\n",
              "    <tr>\n",
              "      <th>64</th>\n",
              "      <td>FRAUDE</td>\n",
              "      <td>13601</td>\n",
              "    </tr>\n",
              "    <tr>\n",
              "      <th>174</th>\n",
              "      <td>ROBO A TRANSEUNTE EN VIA PUBLICA CON VIOLENCIA</td>\n",
              "      <td>13230</td>\n",
              "    </tr>\n",
              "    <tr>\n",
              "      <th>...</th>\n",
              "      <td>...</td>\n",
              "      <td>...</td>\n",
              "    </tr>\n",
              "    <tr>\n",
              "      <th>94</th>\n",
              "      <td>LEY FEDERAL DE ARMAS DE FUEGO Y EXPLOSIVOS</td>\n",
              "      <td>1</td>\n",
              "    </tr>\n",
              "    <tr>\n",
              "      <th>49</th>\n",
              "      <td>ENRIQUECIMIENTO ILICITO</td>\n",
              "      <td>1</td>\n",
              "    </tr>\n",
              "    <tr>\n",
              "      <th>50</th>\n",
              "      <td>ENTREGA ILEGITIMA DE UN MENOR</td>\n",
              "      <td>1</td>\n",
              "    </tr>\n",
              "    <tr>\n",
              "      <th>16</th>\n",
              "      <td>CONTAGIO VENERERO</td>\n",
              "      <td>1</td>\n",
              "    </tr>\n",
              "    <tr>\n",
              "      <th>79</th>\n",
              "      <td>INTIMIDACION (EVITAR DENUNCIA, APORTE INFORMAC...</td>\n",
              "      <td>1</td>\n",
              "    </tr>\n",
              "  </tbody>\n",
              "</table>\n",
              "<p>240 rows × 2 columns</p>\n",
              "</div>"
            ],
            "text/plain": [
              "                                                delito  total\n",
              "239                                 VIOLENCIA FAMILIAR  25430\n",
              "129                       ROBO A NEGOCIO SIN VIOLENCIA  15741\n",
              "7                                             AMENAZAS  13677\n",
              "64                                              FRAUDE  13601\n",
              "174     ROBO A TRANSEUNTE EN VIA PUBLICA CON VIOLENCIA  13230\n",
              "..                                                 ...    ...\n",
              "94          LEY FEDERAL DE ARMAS DE FUEGO Y EXPLOSIVOS      1\n",
              "49                             ENRIQUECIMIENTO ILICITO      1\n",
              "50                       ENTREGA ILEGITIMA DE UN MENOR      1\n",
              "16                                   CONTAGIO VENERERO      1\n",
              "79   INTIMIDACION (EVITAR DENUNCIA, APORTE INFORMAC...      1\n",
              "\n",
              "[240 rows x 2 columns]"
            ]
          },
          "metadata": {
            "tags": []
          },
          "execution_count": 56
        }
      ]
    },
    {
      "cell_type": "code",
      "metadata": {
        "colab": {
          "base_uri": "https://localhost:8080/",
          "height": 419
        },
        "id": "OaUXChL2mYHN",
        "outputId": "5aa8f538-b1ff-4765-eab5-abf91fec64a1"
      },
      "source": [
        "# 2020\n",
        "df6, df7 = [x for _, x in df_casting.groupby(df_casting['ao_hechos'] == 2020)]\n",
        "g=df7.groupby('delito')['ao_hechos'].size().reset_index()\n",
        "dicc={\n",
        "    'ao_hechos': 'total'  \n",
        "}\n",
        "g.rename(columns=dicc, inplace=True)\n",
        "res=g.sort_values(\"total\", ascending=False)\n",
        "res"
      ],
      "execution_count": null,
      "outputs": [
        {
          "output_type": "execute_result",
          "data": {
            "text/html": [
              "<div>\n",
              "<style scoped>\n",
              "    .dataframe tbody tr th:only-of-type {\n",
              "        vertical-align: middle;\n",
              "    }\n",
              "\n",
              "    .dataframe tbody tr th {\n",
              "        vertical-align: top;\n",
              "    }\n",
              "\n",
              "    .dataframe thead th {\n",
              "        text-align: right;\n",
              "    }\n",
              "</style>\n",
              "<table border=\"1\" class=\"dataframe\">\n",
              "  <thead>\n",
              "    <tr style=\"text-align: right;\">\n",
              "      <th></th>\n",
              "      <th>delito</th>\n",
              "      <th>total</th>\n",
              "    </tr>\n",
              "  </thead>\n",
              "  <tbody>\n",
              "    <tr>\n",
              "      <th>250</th>\n",
              "      <td>VIOLENCIA FAMILIAR</td>\n",
              "      <td>27573</td>\n",
              "    </tr>\n",
              "    <tr>\n",
              "      <th>7</th>\n",
              "      <td>AMENAZAS</td>\n",
              "      <td>14212</td>\n",
              "    </tr>\n",
              "    <tr>\n",
              "      <th>62</th>\n",
              "      <td>FRAUDE</td>\n",
              "      <td>12489</td>\n",
              "    </tr>\n",
              "    <tr>\n",
              "      <th>199</th>\n",
              "      <td>ROBO DE OBJETOS</td>\n",
              "      <td>9005</td>\n",
              "    </tr>\n",
              "    <tr>\n",
              "      <th>179</th>\n",
              "      <td>ROBO A TRANSEUNTE EN VIA PUBLICA CON VIOLENCIA</td>\n",
              "      <td>8588</td>\n",
              "    </tr>\n",
              "    <tr>\n",
              "      <th>...</th>\n",
              "      <td>...</td>\n",
              "      <td>...</td>\n",
              "    </tr>\n",
              "    <tr>\n",
              "      <th>155</th>\n",
              "      <td>ROBO A PASAJERO EN TREN LIGERO CON VIOLENCIA</td>\n",
              "      <td>1</td>\n",
              "    </tr>\n",
              "    <tr>\n",
              "      <th>183</th>\n",
              "      <td>ROBO A TRANSEUNTE Y VEHICULO CON VIOLENCIA</td>\n",
              "      <td>1</td>\n",
              "    </tr>\n",
              "    <tr>\n",
              "      <th>35</th>\n",
              "      <td>DELITOS CONTRA LA SALUD</td>\n",
              "      <td>1</td>\n",
              "    </tr>\n",
              "    <tr>\n",
              "      <th>72</th>\n",
              "      <td>HOMICIDIO DOLOSO</td>\n",
              "      <td>1</td>\n",
              "    </tr>\n",
              "    <tr>\n",
              "      <th>78</th>\n",
              "      <td>INCESTO</td>\n",
              "      <td>1</td>\n",
              "    </tr>\n",
              "  </tbody>\n",
              "</table>\n",
              "<p>251 rows × 2 columns</p>\n",
              "</div>"
            ],
            "text/plain": [
              "                                             delito  total\n",
              "250                              VIOLENCIA FAMILIAR  27573\n",
              "7                                          AMENAZAS  14212\n",
              "62                                           FRAUDE  12489\n",
              "199                                 ROBO DE OBJETOS   9005\n",
              "179  ROBO A TRANSEUNTE EN VIA PUBLICA CON VIOLENCIA   8588\n",
              "..                                              ...    ...\n",
              "155    ROBO A PASAJERO EN TREN LIGERO CON VIOLENCIA      1\n",
              "183      ROBO A TRANSEUNTE Y VEHICULO CON VIOLENCIA      1\n",
              "35                          DELITOS CONTRA LA SALUD      1\n",
              "72                                 HOMICIDIO DOLOSO      1\n",
              "78                                          INCESTO      1\n",
              "\n",
              "[251 rows x 2 columns]"
            ]
          },
          "metadata": {
            "tags": []
          },
          "execution_count": 57
        }
      ]
    },
    {
      "cell_type": "code",
      "metadata": {
        "colab": {
          "base_uri": "https://localhost:8080/",
          "height": 419
        },
        "id": "K5WXqWGtma6c",
        "outputId": "50efd977-06ce-4f95-d9af-5ce118646d43"
      },
      "source": [
        "# 2021\n",
        "df6, df7 = [x for _, x in df_casting.groupby(df_casting['ao_hechos'] == 2021)]\n",
        "g=df7.groupby('delito')['ao_hechos'].size().reset_index()\n",
        "dicc={\n",
        "    'ao_hechos': 'total'  \n",
        "}\n",
        "g.rename(columns=dicc, inplace=True)\n",
        "res=g.sort_values(\"total\", ascending=False)\n",
        "res"
      ],
      "execution_count": null,
      "outputs": [
        {
          "output_type": "execute_result",
          "data": {
            "text/html": [
              "<div>\n",
              "<style scoped>\n",
              "    .dataframe tbody tr th:only-of-type {\n",
              "        vertical-align: middle;\n",
              "    }\n",
              "\n",
              "    .dataframe tbody tr th {\n",
              "        vertical-align: top;\n",
              "    }\n",
              "\n",
              "    .dataframe thead th {\n",
              "        text-align: right;\n",
              "    }\n",
              "</style>\n",
              "<table border=\"1\" class=\"dataframe\">\n",
              "  <thead>\n",
              "    <tr style=\"text-align: right;\">\n",
              "      <th></th>\n",
              "      <th>delito</th>\n",
              "      <th>total</th>\n",
              "    </tr>\n",
              "  </thead>\n",
              "  <tbody>\n",
              "    <tr>\n",
              "      <th>238</th>\n",
              "      <td>VIOLENCIA FAMILIAR</td>\n",
              "      <td>16110</td>\n",
              "    </tr>\n",
              "    <tr>\n",
              "      <th>7</th>\n",
              "      <td>AMENAZAS</td>\n",
              "      <td>7907</td>\n",
              "    </tr>\n",
              "    <tr>\n",
              "      <th>59</th>\n",
              "      <td>FRAUDE</td>\n",
              "      <td>5990</td>\n",
              "    </tr>\n",
              "    <tr>\n",
              "      <th>188</th>\n",
              "      <td>ROBO DE OBJETOS</td>\n",
              "      <td>4684</td>\n",
              "    </tr>\n",
              "    <tr>\n",
              "      <th>166</th>\n",
              "      <td>ROBO A TRANSEUNTE EN VIA PUBLICA CON VIOLENCIA</td>\n",
              "      <td>4182</td>\n",
              "    </tr>\n",
              "    <tr>\n",
              "      <th>...</th>\n",
              "      <td>...</td>\n",
              "      <td>...</td>\n",
              "    </tr>\n",
              "    <tr>\n",
              "      <th>195</th>\n",
              "      <td>ROBO DE VEHICULO DE SERVICIO OFICIAL CON VIOLE...</td>\n",
              "      <td>1</td>\n",
              "    </tr>\n",
              "    <tr>\n",
              "      <th>58</th>\n",
              "      <td>FEMINICIDIO POR GOLPES</td>\n",
              "      <td>1</td>\n",
              "    </tr>\n",
              "    <tr>\n",
              "      <th>61</th>\n",
              "      <td>HOMICIDIO CULPOSO</td>\n",
              "      <td>1</td>\n",
              "    </tr>\n",
              "    <tr>\n",
              "      <th>165</th>\n",
              "      <td>ROBO A TRANSEUNTE EN VIA PUBLICA (NOMINA) SIN ...</td>\n",
              "      <td>1</td>\n",
              "    </tr>\n",
              "    <tr>\n",
              "      <th>70</th>\n",
              "      <td>HOMICIDIO POR AHORCAMIENTO</td>\n",
              "      <td>1</td>\n",
              "    </tr>\n",
              "  </tbody>\n",
              "</table>\n",
              "<p>239 rows × 2 columns</p>\n",
              "</div>"
            ],
            "text/plain": [
              "                                                delito  total\n",
              "238                                 VIOLENCIA FAMILIAR  16110\n",
              "7                                             AMENAZAS   7907\n",
              "59                                              FRAUDE   5990\n",
              "188                                    ROBO DE OBJETOS   4684\n",
              "166     ROBO A TRANSEUNTE EN VIA PUBLICA CON VIOLENCIA   4182\n",
              "..                                                 ...    ...\n",
              "195  ROBO DE VEHICULO DE SERVICIO OFICIAL CON VIOLE...      1\n",
              "58                              FEMINICIDIO POR GOLPES      1\n",
              "61                                   HOMICIDIO CULPOSO      1\n",
              "165  ROBO A TRANSEUNTE EN VIA PUBLICA (NOMINA) SIN ...      1\n",
              "70                          HOMICIDIO POR AHORCAMIENTO      1\n",
              "\n",
              "[239 rows x 2 columns]"
            ]
          },
          "metadata": {
            "tags": []
          },
          "execution_count": 58
        }
      ]
    },
    {
      "cell_type": "markdown",
      "metadata": {
        "id": "rvB5WJVansm_"
      },
      "source": [
        "#### 6.2.6 *¿En qué horarios durante el día se cometen mayor número de algún tipo de delito?*"
      ]
    },
    {
      "cell_type": "code",
      "metadata": {
        "colab": {
          "base_uri": "https://localhost:8080/",
          "height": 496
        },
        "id": "irlhkbtZT_VS",
        "outputId": "06d2b9d6-8720-4f0d-ad16-9001e2b7ae9a"
      },
      "source": [
        "# Primero extraemos la hora de la columna 'fecha_hechos':\n",
        "horas= pd.DatetimeIndex(df_casting['fecha_hechos']).hour\n",
        "\n",
        "# Ahora añadimos la columna 'hora_hechos' al dataframe:\n",
        "df_casting['hora_hechos']=horas\n",
        "df_casting.tail()\n"
      ],
      "execution_count": null,
      "outputs": [
        {
          "output_type": "execute_result",
          "data": {
            "text/html": [
              "<div>\n",
              "<style scoped>\n",
              "    .dataframe tbody tr th:only-of-type {\n",
              "        vertical-align: middle;\n",
              "    }\n",
              "\n",
              "    .dataframe tbody tr th {\n",
              "        vertical-align: top;\n",
              "    }\n",
              "\n",
              "    .dataframe thead th {\n",
              "        text-align: right;\n",
              "    }\n",
              "</style>\n",
              "<table border=\"1\" class=\"dataframe\">\n",
              "  <thead>\n",
              "    <tr style=\"text-align: right;\">\n",
              "      <th></th>\n",
              "      <th>ao_hechos</th>\n",
              "      <th>mes_hechos</th>\n",
              "      <th>fecha_hechos</th>\n",
              "      <th>ao_inicio</th>\n",
              "      <th>mes_inicio</th>\n",
              "      <th>fecha_inicio</th>\n",
              "      <th>delito</th>\n",
              "      <th>fiscalia</th>\n",
              "      <th>categoria_delito</th>\n",
              "      <th>colonia_hechos</th>\n",
              "      <th>alcaldia_hechos</th>\n",
              "      <th>longitud</th>\n",
              "      <th>latitud</th>\n",
              "      <th>hora_hechos</th>\n",
              "    </tr>\n",
              "  </thead>\n",
              "  <tbody>\n",
              "    <tr>\n",
              "      <th>1125123</th>\n",
              "      <td>2021</td>\n",
              "      <td>Junio</td>\n",
              "      <td>2021-06-29 17:00:00</td>\n",
              "      <td>2021</td>\n",
              "      <td>Junio</td>\n",
              "      <td>2021-06-30 23:32:31</td>\n",
              "      <td>LESIONES CULPOSAS POR TRANSITO VEHICULAR EN CO...</td>\n",
              "      <td>FISCALÍA DE INVESTIGACIÓN TERRITORIAL EN MILPA...</td>\n",
              "      <td>DELITO DE BAJO IMPACTO</td>\n",
              "      <td>SAN MARCOS (SANTA ANA TLACOTENCO)</td>\n",
              "      <td>MILPA ALTA</td>\n",
              "      <td>-98.992460</td>\n",
              "      <td>19.168371</td>\n",
              "      <td>17</td>\n",
              "    </tr>\n",
              "    <tr>\n",
              "      <th>1125124</th>\n",
              "      <td>2021</td>\n",
              "      <td>Junio</td>\n",
              "      <td>2021-06-04 19:00:00</td>\n",
              "      <td>2021</td>\n",
              "      <td>Junio</td>\n",
              "      <td>2021-06-30 23:36:45</td>\n",
              "      <td>ROBO DE ACCESORIOS DE AUTO</td>\n",
              "      <td>FISCALÍA DE INVESTIGACIÓN TERRITORIAL EN CUAUH...</td>\n",
              "      <td>DELITO DE BAJO IMPACTO</td>\n",
              "      <td>HIPÓDROMO</td>\n",
              "      <td>CUAUHTEMOC</td>\n",
              "      <td>-99.168311</td>\n",
              "      <td>19.412001</td>\n",
              "      <td>19</td>\n",
              "    </tr>\n",
              "    <tr>\n",
              "      <th>1125125</th>\n",
              "      <td>2021</td>\n",
              "      <td>Junio</td>\n",
              "      <td>2021-06-30 19:40:00</td>\n",
              "      <td>2021</td>\n",
              "      <td>Junio</td>\n",
              "      <td>2021-06-30 23:37:12</td>\n",
              "      <td>AMENAZAS</td>\n",
              "      <td>FISCALÍA DE INVESTIGACIÓN TERRITORIAL EN IZTAC...</td>\n",
              "      <td>DELITO DE BAJO IMPACTO</td>\n",
              "      <td>AGRÍCOLA PANTITLAN</td>\n",
              "      <td>IZTACALCO</td>\n",
              "      <td>-99.061716</td>\n",
              "      <td>19.419028</td>\n",
              "      <td>19</td>\n",
              "    </tr>\n",
              "    <tr>\n",
              "      <th>1125126</th>\n",
              "      <td>2021</td>\n",
              "      <td>Mayo</td>\n",
              "      <td>2021-05-16 21:08:00</td>\n",
              "      <td>2021</td>\n",
              "      <td>Junio</td>\n",
              "      <td>2021-06-30 23:45:57</td>\n",
              "      <td>DAÑO EN PROPIEDAD AJENA INTENCIONAL</td>\n",
              "      <td>FISCALÍA DE INVESTIGACIÓN TERRITORIAL EN CUAUH...</td>\n",
              "      <td>DELITO DE BAJO IMPACTO</td>\n",
              "      <td>ROMA NORTE</td>\n",
              "      <td>CUAUHTEMOC</td>\n",
              "      <td>-99.158994</td>\n",
              "      <td>19.418615</td>\n",
              "      <td>21</td>\n",
              "    </tr>\n",
              "    <tr>\n",
              "      <th>1125127</th>\n",
              "      <td>2021</td>\n",
              "      <td>Junio</td>\n",
              "      <td>2021-06-29 17:00:00</td>\n",
              "      <td>2021</td>\n",
              "      <td>Junio</td>\n",
              "      <td>2021-06-30 23:52:34</td>\n",
              "      <td>LESIONES INTENCIONALES POR ARMA BLANCA</td>\n",
              "      <td>FISCALÍA DE INVESTIGACIÓN TERRITORIAL EN IZTAP...</td>\n",
              "      <td>DELITO DE BAJO IMPACTO</td>\n",
              "      <td>LOMAS DE SAN LORENZO</td>\n",
              "      <td>IZTAPALAPA</td>\n",
              "      <td>-99.069557</td>\n",
              "      <td>19.321406</td>\n",
              "      <td>17</td>\n",
              "    </tr>\n",
              "  </tbody>\n",
              "</table>\n",
              "</div>"
            ],
            "text/plain": [
              "         ao_hechos mes_hechos  ...    latitud  hora_hechos\n",
              "1125123       2021      Junio  ...  19.168371           17\n",
              "1125124       2021      Junio  ...  19.412001           19\n",
              "1125125       2021      Junio  ...  19.419028           19\n",
              "1125126       2021       Mayo  ...  19.418615           21\n",
              "1125127       2021      Junio  ...  19.321406           17\n",
              "\n",
              "[5 rows x 14 columns]"
            ]
          },
          "metadata": {
            "tags": []
          },
          "execution_count": 59
        }
      ]
    },
    {
      "cell_type": "code",
      "metadata": {
        "colab": {
          "base_uri": "https://localhost:8080/"
        },
        "id": "bQVcA2nRUAq1",
        "outputId": "0c540f31-4891-4680-a70f-ca89d7da560a"
      },
      "source": [
        "# y hacemos un size para contar el número la frecuencia de delitos por hora (durante el perido 2016-2021). Al parecer, las 12 del día es la hora en la\n",
        "# que sueden más delitos. \n",
        "df_casting.groupby('hora_hechos').size().sort_values(ascending=False)"
      ],
      "execution_count": null,
      "outputs": [
        {
          "output_type": "execute_result",
          "data": {
            "text/plain": [
              "hora_hechos\n",
              "12    123303\n",
              "10     72026\n",
              "15     63833\n",
              "14     63676\n",
              "11     59643\n",
              "13     59446\n",
              "20     59390\n",
              "16     58850\n",
              "19     56646\n",
              "18     56499\n",
              "17     55404\n",
              "9      52312\n",
              "21     52130\n",
              "8      43027\n",
              "22     42961\n",
              "7      34819\n",
              "23     33029\n",
              "6      26245\n",
              "0      23779\n",
              "1      19789\n",
              "5      18428\n",
              "2      17975\n",
              "3      17127\n",
              "4      14791\n",
              "dtype: int64"
            ]
          },
          "metadata": {
            "tags": []
          },
          "execution_count": 60
        }
      ]
    },
    {
      "cell_type": "markdown",
      "metadata": {
        "id": "eY9x0uj7bFfP"
      },
      "source": [
        "## **7. Uso de APIs**\n",
        "---"
      ]
    },
    {
      "cell_type": "markdown",
      "metadata": {
        "id": "28wKEwldW2wf"
      },
      "source": [
        "Descargamos un archivo csv con las columnas necesarias para mapear en el programa que desarrollamos con la API de Google Maps."
      ]
    },
    {
      "cell_type": "code",
      "metadata": {
        "id": "D95aM28tGvWF"
      },
      "source": [
        "#Borramos las columnas que no nos servían mucho para mapear y nos concentramos más en la longitud y latitud\n",
        "df5=df_casting.drop(['mes_hechos',\t'fecha_hechos',\t'ao_inicio',\t'mes_inicio',\t'fecha_inicio', 'fiscalia',\t'colonia_hechos',\t'alcaldia_hechos',\t'hora_hechos'], axis = 1)"
      ],
      "execution_count": null,
      "outputs": []
    },
    {
      "cell_type": "code",
      "metadata": {
        "id": "JLrxL8zmQRLP",
        "colab": {
          "base_uri": "https://localhost:8080/",
          "height": 419
        },
        "outputId": "5c116939-ba4a-4c24-fe4d-153ff55faf85"
      },
      "source": [
        "#Filtramos los delitos del último año\n",
        "df6, df7 = [x for _, x in df5.groupby(df5['ao_hechos'] == 2021)]\n",
        "df7"
      ],
      "execution_count": null,
      "outputs": [
        {
          "output_type": "execute_result",
          "data": {
            "text/html": [
              "<div>\n",
              "<style scoped>\n",
              "    .dataframe tbody tr th:only-of-type {\n",
              "        vertical-align: middle;\n",
              "    }\n",
              "\n",
              "    .dataframe tbody tr th {\n",
              "        vertical-align: top;\n",
              "    }\n",
              "\n",
              "    .dataframe thead th {\n",
              "        text-align: right;\n",
              "    }\n",
              "</style>\n",
              "<table border=\"1\" class=\"dataframe\">\n",
              "  <thead>\n",
              "    <tr style=\"text-align: right;\">\n",
              "      <th></th>\n",
              "      <th>ao_hechos</th>\n",
              "      <th>delito</th>\n",
              "      <th>categoria_delito</th>\n",
              "      <th>longitud</th>\n",
              "      <th>latitud</th>\n",
              "    </tr>\n",
              "  </thead>\n",
              "  <tbody>\n",
              "    <tr>\n",
              "      <th>1019577</th>\n",
              "      <td>2021</td>\n",
              "      <td>VIOLENCIA FAMILIAR</td>\n",
              "      <td>DELITO DE BAJO IMPACTO</td>\n",
              "      <td>-99.026277</td>\n",
              "      <td>19.198153</td>\n",
              "    </tr>\n",
              "    <tr>\n",
              "      <th>1019578</th>\n",
              "      <td>2021</td>\n",
              "      <td>ROBO DE MOTOCICLETA SIN VIOLENCIA</td>\n",
              "      <td>ROBO DE VEHÍCULO CON Y SIN VIOLENCIA</td>\n",
              "      <td>-99.097667</td>\n",
              "      <td>19.379998</td>\n",
              "    </tr>\n",
              "    <tr>\n",
              "      <th>1019579</th>\n",
              "      <td>2021</td>\n",
              "      <td>PORTACION DE ARMA DE FUEGO</td>\n",
              "      <td>DELITO DE BAJO IMPACTO</td>\n",
              "      <td>-99.155624</td>\n",
              "      <td>19.438573</td>\n",
              "    </tr>\n",
              "    <tr>\n",
              "      <th>1019580</th>\n",
              "      <td>2021</td>\n",
              "      <td>VIOLENCIA FAMILIAR</td>\n",
              "      <td>DELITO DE BAJO IMPACTO</td>\n",
              "      <td>-99.095006</td>\n",
              "      <td>19.193027</td>\n",
              "    </tr>\n",
              "    <tr>\n",
              "      <th>1019582</th>\n",
              "      <td>2021</td>\n",
              "      <td>ROBO DE ACCESORIOS DE AUTO</td>\n",
              "      <td>DELITO DE BAJO IMPACTO</td>\n",
              "      <td>-99.136237</td>\n",
              "      <td>19.454092</td>\n",
              "    </tr>\n",
              "    <tr>\n",
              "      <th>...</th>\n",
              "      <td>...</td>\n",
              "      <td>...</td>\n",
              "      <td>...</td>\n",
              "      <td>...</td>\n",
              "      <td>...</td>\n",
              "    </tr>\n",
              "    <tr>\n",
              "      <th>1125123</th>\n",
              "      <td>2021</td>\n",
              "      <td>LESIONES CULPOSAS POR TRANSITO VEHICULAR EN CO...</td>\n",
              "      <td>DELITO DE BAJO IMPACTO</td>\n",
              "      <td>-98.992460</td>\n",
              "      <td>19.168371</td>\n",
              "    </tr>\n",
              "    <tr>\n",
              "      <th>1125124</th>\n",
              "      <td>2021</td>\n",
              "      <td>ROBO DE ACCESORIOS DE AUTO</td>\n",
              "      <td>DELITO DE BAJO IMPACTO</td>\n",
              "      <td>-99.168311</td>\n",
              "      <td>19.412001</td>\n",
              "    </tr>\n",
              "    <tr>\n",
              "      <th>1125125</th>\n",
              "      <td>2021</td>\n",
              "      <td>AMENAZAS</td>\n",
              "      <td>DELITO DE BAJO IMPACTO</td>\n",
              "      <td>-99.061716</td>\n",
              "      <td>19.419028</td>\n",
              "    </tr>\n",
              "    <tr>\n",
              "      <th>1125126</th>\n",
              "      <td>2021</td>\n",
              "      <td>DAÑO EN PROPIEDAD AJENA INTENCIONAL</td>\n",
              "      <td>DELITO DE BAJO IMPACTO</td>\n",
              "      <td>-99.158994</td>\n",
              "      <td>19.418615</td>\n",
              "    </tr>\n",
              "    <tr>\n",
              "      <th>1125127</th>\n",
              "      <td>2021</td>\n",
              "      <td>LESIONES INTENCIONALES POR ARMA BLANCA</td>\n",
              "      <td>DELITO DE BAJO IMPACTO</td>\n",
              "      <td>-99.069557</td>\n",
              "      <td>19.321406</td>\n",
              "    </tr>\n",
              "  </tbody>\n",
              "</table>\n",
              "<p>94737 rows × 5 columns</p>\n",
              "</div>"
            ],
            "text/plain": [
              "         ao_hechos  ...    latitud\n",
              "1019577       2021  ...  19.198153\n",
              "1019578       2021  ...  19.379998\n",
              "1019579       2021  ...  19.438573\n",
              "1019580       2021  ...  19.193027\n",
              "1019582       2021  ...  19.454092\n",
              "...            ...  ...        ...\n",
              "1125123       2021  ...  19.168371\n",
              "1125124       2021  ...  19.412001\n",
              "1125125       2021  ...  19.419028\n",
              "1125126       2021  ...  19.418615\n",
              "1125127       2021  ...  19.321406\n",
              "\n",
              "[94737 rows x 5 columns]"
            ]
          },
          "metadata": {
            "tags": []
          },
          "execution_count": 62
        }
      ]
    },
    {
      "cell_type": "code",
      "metadata": {
        "id": "c3R1FFiUYvr9",
        "colab": {
          "base_uri": "https://localhost:8080/"
        },
        "outputId": "5f0987ff-9e6f-4abe-d75e-f8fe4fa336a5"
      },
      "source": [
        "#Agrupamos por delito para obtener el número de delitos por delito del 2021\n",
        "df7.groupby(['categoria_delito']).size()"
      ],
      "execution_count": null,
      "outputs": [
        {
          "output_type": "execute_result",
          "data": {
            "text/plain": [
              "categoria_delito\n",
              "DELITO DE BAJO IMPACTO                                     81021\n",
              "HOMICIDIO DOLOSO                                             451\n",
              "LESIONES DOLOSAS POR DISPARO DE ARMA DE FUEGO                276\n",
              "ROBO A CASA HABITACIÓN CON VIOLENCIA                         256\n",
              "ROBO A CUENTAHABIENTE SALIENDO DEL CAJERO CON VIOLENCIA      173\n",
              "ROBO A NEGOCIO CON VIOLENCIA                                1355\n",
              "ROBO A PASAJERO A BORDO DE MICROBUS CON Y SIN VIOLENCIA      185\n",
              "ROBO A PASAJERO A BORDO DE TAXI CON VIOLENCIA                117\n",
              "ROBO A PASAJERO A BORDO DEL METRO CON Y SIN VIOLENCIA        363\n",
              "ROBO A REPARTIDOR CON Y SIN VIOLENCIA                       1086\n",
              "ROBO A TRANSEUNTE EN VÍA PÚBLICA CON Y SIN VIOLENCIA        5044\n",
              "ROBO A TRANSPORTISTA CON Y SIN VIOLENCIA                      43\n",
              "ROBO DE VEHÍCULO CON Y SIN VIOLENCIA                        3740\n",
              "SECUESTRO                                                      5\n",
              "VIOLACIÓN                                                    622\n",
              "dtype: int64"
            ]
          },
          "metadata": {
            "tags": []
          },
          "execution_count": 63
        }
      ]
    },
    {
      "cell_type": "code",
      "metadata": {
        "id": "jU7O_lrlY3RM",
        "colab": {
          "base_uri": "https://localhost:8080/",
          "height": 419
        },
        "outputId": "5b043b80-a50e-4d6e-f723-b6f641f4c854"
      },
      "source": [
        "#Elegimos violación como ejemplo para mapear\n",
        "df8, df9 = [x for _, x in df7.groupby(df7['categoria_delito'] == 'VIOLACIÓN')]\n",
        "df9"
      ],
      "execution_count": null,
      "outputs": [
        {
          "output_type": "execute_result",
          "data": {
            "text/html": [
              "<div>\n",
              "<style scoped>\n",
              "    .dataframe tbody tr th:only-of-type {\n",
              "        vertical-align: middle;\n",
              "    }\n",
              "\n",
              "    .dataframe tbody tr th {\n",
              "        vertical-align: top;\n",
              "    }\n",
              "\n",
              "    .dataframe thead th {\n",
              "        text-align: right;\n",
              "    }\n",
              "</style>\n",
              "<table border=\"1\" class=\"dataframe\">\n",
              "  <thead>\n",
              "    <tr style=\"text-align: right;\">\n",
              "      <th></th>\n",
              "      <th>ao_hechos</th>\n",
              "      <th>delito</th>\n",
              "      <th>categoria_delito</th>\n",
              "      <th>longitud</th>\n",
              "      <th>latitud</th>\n",
              "    </tr>\n",
              "  </thead>\n",
              "  <tbody>\n",
              "    <tr>\n",
              "      <th>1019738</th>\n",
              "      <td>2021</td>\n",
              "      <td>VIOLACION</td>\n",
              "      <td>VIOLACIÓN</td>\n",
              "      <td>-99.120264</td>\n",
              "      <td>19.459100</td>\n",
              "    </tr>\n",
              "    <tr>\n",
              "      <th>1019818</th>\n",
              "      <td>2021</td>\n",
              "      <td>VIOLACION</td>\n",
              "      <td>VIOLACIÓN</td>\n",
              "      <td>-99.112891</td>\n",
              "      <td>19.413513</td>\n",
              "    </tr>\n",
              "    <tr>\n",
              "      <th>1020622</th>\n",
              "      <td>2021</td>\n",
              "      <td>VIOLACION</td>\n",
              "      <td>VIOLACIÓN</td>\n",
              "      <td>-99.180783</td>\n",
              "      <td>19.368556</td>\n",
              "    </tr>\n",
              "    <tr>\n",
              "      <th>1021372</th>\n",
              "      <td>2021</td>\n",
              "      <td>VIOLACION</td>\n",
              "      <td>VIOLACIÓN</td>\n",
              "      <td>-98.974001</td>\n",
              "      <td>19.308193</td>\n",
              "    </tr>\n",
              "    <tr>\n",
              "      <th>1022819</th>\n",
              "      <td>2021</td>\n",
              "      <td>VIOLACION</td>\n",
              "      <td>VIOLACIÓN</td>\n",
              "      <td>-99.072860</td>\n",
              "      <td>19.249370</td>\n",
              "    </tr>\n",
              "    <tr>\n",
              "      <th>...</th>\n",
              "      <td>...</td>\n",
              "      <td>...</td>\n",
              "      <td>...</td>\n",
              "      <td>...</td>\n",
              "      <td>...</td>\n",
              "    </tr>\n",
              "    <tr>\n",
              "      <th>1124848</th>\n",
              "      <td>2021</td>\n",
              "      <td>VIOLACION</td>\n",
              "      <td>VIOLACIÓN</td>\n",
              "      <td>-99.138858</td>\n",
              "      <td>19.389042</td>\n",
              "    </tr>\n",
              "    <tr>\n",
              "      <th>1124899</th>\n",
              "      <td>2021</td>\n",
              "      <td>VIOLACION EQUIPARADA</td>\n",
              "      <td>VIOLACIÓN</td>\n",
              "      <td>-99.126977</td>\n",
              "      <td>19.460389</td>\n",
              "    </tr>\n",
              "    <tr>\n",
              "      <th>1124900</th>\n",
              "      <td>2021</td>\n",
              "      <td>VIOLACION EQUIPARADA</td>\n",
              "      <td>VIOLACIÓN</td>\n",
              "      <td>-99.235521</td>\n",
              "      <td>19.370659</td>\n",
              "    </tr>\n",
              "    <tr>\n",
              "      <th>1124927</th>\n",
              "      <td>2021</td>\n",
              "      <td>VIOLACION</td>\n",
              "      <td>VIOLACIÓN</td>\n",
              "      <td>-99.047270</td>\n",
              "      <td>19.316522</td>\n",
              "    </tr>\n",
              "    <tr>\n",
              "      <th>1125088</th>\n",
              "      <td>2021</td>\n",
              "      <td>VIOLACION</td>\n",
              "      <td>VIOLACIÓN</td>\n",
              "      <td>-99.173534</td>\n",
              "      <td>19.448674</td>\n",
              "    </tr>\n",
              "  </tbody>\n",
              "</table>\n",
              "<p>622 rows × 5 columns</p>\n",
              "</div>"
            ],
            "text/plain": [
              "         ao_hechos                delito categoria_delito   longitud    latitud\n",
              "1019738       2021             VIOLACION        VIOLACIÓN -99.120264  19.459100\n",
              "1019818       2021             VIOLACION        VIOLACIÓN -99.112891  19.413513\n",
              "1020622       2021             VIOLACION        VIOLACIÓN -99.180783  19.368556\n",
              "1021372       2021             VIOLACION        VIOLACIÓN -98.974001  19.308193\n",
              "1022819       2021             VIOLACION        VIOLACIÓN -99.072860  19.249370\n",
              "...            ...                   ...              ...        ...        ...\n",
              "1124848       2021             VIOLACION        VIOLACIÓN -99.138858  19.389042\n",
              "1124899       2021  VIOLACION EQUIPARADA        VIOLACIÓN -99.126977  19.460389\n",
              "1124900       2021  VIOLACION EQUIPARADA        VIOLACIÓN -99.235521  19.370659\n",
              "1124927       2021             VIOLACION        VIOLACIÓN -99.047270  19.316522\n",
              "1125088       2021             VIOLACION        VIOLACIÓN -99.173534  19.448674\n",
              "\n",
              "[622 rows x 5 columns]"
            ]
          },
          "metadata": {
            "tags": []
          },
          "execution_count": 64
        }
      ]
    },
    {
      "cell_type": "code",
      "metadata": {
        "id": "u9KWrP7_u0im"
      },
      "source": [
        "#Convertimos el DataFrame a un archivo .csv\n",
        "df9.to_csv('carpeta_de_invetigacion_FGJ_VIOLACION.csv')"
      ],
      "execution_count": null,
      "outputs": []
    },
    {
      "cell_type": "code",
      "metadata": {
        "id": "_R7pcqylAb2N",
        "colab": {
          "base_uri": "https://localhost:8080/",
          "height": 17
        },
        "outputId": "c708fba5-a9be-418b-94d5-c024a1c5595e"
      },
      "source": [
        "#Finalmente descargamos el archivo\n",
        "from google.colab import files\n",
        "files.download(\"carpeta_de_invetigacion_FGJ_VIOLACION.csv\")"
      ],
      "execution_count": null,
      "outputs": [
        {
          "output_type": "display_data",
          "data": {
            "application/javascript": [
              "\n",
              "    async function download(id, filename, size) {\n",
              "      if (!google.colab.kernel.accessAllowed) {\n",
              "        return;\n",
              "      }\n",
              "      const div = document.createElement('div');\n",
              "      const label = document.createElement('label');\n",
              "      label.textContent = `Downloading \"${filename}\": `;\n",
              "      div.appendChild(label);\n",
              "      const progress = document.createElement('progress');\n",
              "      progress.max = size;\n",
              "      div.appendChild(progress);\n",
              "      document.body.appendChild(div);\n",
              "\n",
              "      const buffers = [];\n",
              "      let downloaded = 0;\n",
              "\n",
              "      const channel = await google.colab.kernel.comms.open(id);\n",
              "      // Send a message to notify the kernel that we're ready.\n",
              "      channel.send({})\n",
              "\n",
              "      for await (const message of channel.messages) {\n",
              "        // Send a message to notify the kernel that we're ready.\n",
              "        channel.send({})\n",
              "        if (message.buffers) {\n",
              "          for (const buffer of message.buffers) {\n",
              "            buffers.push(buffer);\n",
              "            downloaded += buffer.byteLength;\n",
              "            progress.value = downloaded;\n",
              "          }\n",
              "        }\n",
              "      }\n",
              "      const blob = new Blob(buffers, {type: 'application/binary'});\n",
              "      const a = document.createElement('a');\n",
              "      a.href = window.URL.createObjectURL(blob);\n",
              "      a.download = filename;\n",
              "      div.appendChild(a);\n",
              "      a.click();\n",
              "      div.remove();\n",
              "    }\n",
              "  "
            ],
            "text/plain": [
              "<IPython.core.display.Javascript object>"
            ]
          },
          "metadata": {
            "tags": []
          }
        },
        {
          "output_type": "display_data",
          "data": {
            "application/javascript": [
              "download(\"download_c10c24a6-fc78-4b50-8654-da34d2266750\", \"carpeta_de_invetigacion_FGJ_VIOLACION.csv\", 46331)"
            ],
            "text/plain": [
              "<IPython.core.display.Javascript object>"
            ]
          },
          "metadata": {
            "tags": []
          }
        }
      ]
    }
  ]
}